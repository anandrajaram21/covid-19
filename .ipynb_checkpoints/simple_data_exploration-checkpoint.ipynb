{
 "cells": [
  {
   "cell_type": "code",
   "execution_count": 1,
   "metadata": {},
   "outputs": [],
   "source": [
    "# All Imports Required Go Here\n",
    "\n",
    "import requests\n",
    "from datetime import datetime\n",
    "import os\n",
    "import pandas as pd\n",
    "import matplotlib.pyplot as plt\n",
    "import numpy as np"
   ]
  },
  {
   "cell_type": "code",
   "execution_count": 2,
   "metadata": {},
   "outputs": [
    {
     "name": "stdout",
     "output_type": "stream",
     "text": [
      "time_series_covid19_confirmed_US.csv has been downloaded\n",
      "time_series_covid19_confirmed_global.csv has been downloaded\n",
      "time_series_covid19_deaths_US.csv has been downloaded\n",
      "time_series_covid19_deaths_global.csv has been downloaded\n",
      "time_series_covid19_recovered_global.csv has been downloaded\n"
     ]
    }
   ],
   "source": [
    "filenames = ['time_series_covid19_confirmed_US.csv', 'time_series_covid19_confirmed_global.csv', 'time_series_covid19_deaths_US.csv', 'time_series_covid19_deaths_global.csv', 'time_series_covid19_recovered_global.csv']\n",
    "for i in filenames:\n",
    "    url = f'https://raw.githubusercontent.com/CSSEGISandData/COVID-19/master/csse_covid_19_data/csse_covid_19_time_series/{i}'\n",
    "    response = requests.get(url)\n",
    "    with open(f'data/{i}', 'wb') as file:\n",
    "        file.write(response.content)\n",
    "    print(f'{i} has been downloaded')"
   ]
  },
  {
   "cell_type": "code",
   "execution_count": 3,
   "metadata": {},
   "outputs": [],
   "source": [
    "# Data from the John Hopkins University Dataset on GitHub\n",
    "# https://github.com/CSSEGISandData/COVID-19/tree/master/csse_covid_19_data/csse_covid_19_time_series\n",
    "\n",
    "confirmed_us = pd.read_csv('data/time_series_covid19_confirmed_US.csv')\n",
    "confirmed_global = pd.read_csv('data/time_series_covid19_confirmed_global.csv')\n",
    "deaths_us = pd.read_csv('data/time_series_covid19_deaths_US.csv')\n",
    "deaths_global = pd.read_csv('data/time_series_covid19_deaths_global.csv')\n",
    "recovered_global = pd.read_csv('data/time_series_covid19_recovered_global.csv')"
   ]
  },
  {
   "cell_type": "code",
   "execution_count": null,
   "metadata": {},
   "outputs": [],
   "source": []
  }
 ],
 "metadata": {
  "kernelspec": {
   "display_name": "Python 3",
   "language": "python",
   "name": "python3"
  },
  "language_info": {
   "codemirror_mode": {
    "name": "ipython",
    "version": 3
   },
   "file_extension": ".py",
   "mimetype": "text/x-python",
   "name": "python",
   "nbconvert_exporter": "python",
   "pygments_lexer": "ipython3",
   "version": "3.7.6"
  }
 },
 "nbformat": 4,
 "nbformat_minor": 4
}
