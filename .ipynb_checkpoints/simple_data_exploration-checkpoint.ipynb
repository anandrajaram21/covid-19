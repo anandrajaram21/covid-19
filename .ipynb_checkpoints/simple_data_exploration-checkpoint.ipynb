{
 "cells": [
  {
   "cell_type": "code",
   "execution_count": 1,
   "metadata": {},
   "outputs": [],
   "source": [
    "# All Imports Required Go Here\n",
    "\n",
    "import requests\n",
    "from datetime import datetime\n",
    "import os\n",
    "import pandas as pd\n",
    "import numpy as np\n",
    "import plotly.express as px"
   ]
  },
  {
   "cell_type": "code",
   "execution_count": 2,
   "metadata": {},
   "outputs": [
    {
     "name": "stdout",
     "output_type": "stream",
     "text": [
      "time_series_covid19_confirmed_global.csv has been downloaded\n",
      "time_series_covid19_deaths_global.csv has been downloaded\n",
      "time_series_covid19_recovered_global.csv has been downloaded\n",
      "Country wise caases, recoveries, and deaths downloaded\n"
     ]
    }
   ],
   "source": [
    "filenames = ['time_series_covid19_confirmed_global.csv', 'time_series_covid19_deaths_global.csv', 'time_series_covid19_recovered_global.csv']\n",
    "for i in filenames:\n",
    "    url = f'https://raw.githubusercontent.com/CSSEGISandData/COVID-19/master/csse_covid_19_data/csse_covid_19_time_series/{i}'\n",
    "    response = requests.get(url)\n",
    "    with open(f'data/{i}', 'wb') as file:\n",
    "        file.write(response.content)\n",
    "    print(f'{i} has been downloaded')\n",
    "with open('data/country_cases.csv', 'wb') as file:\n",
    "    response = requests.get('https://raw.githubusercontent.com/CSSEGISandData/COVID-19/web-data/data/cases_country.csv')\n",
    "    file.write(response.content)\n",
    "    print('Country wise caases, recoveries, and deaths downloaded')"
   ]
  },
  {
   "cell_type": "code",
   "execution_count": 3,
   "metadata": {},
   "outputs": [],
   "source": [
    "# Data from the John Hopkins University Dataset on GitHub\n",
    "# https://github.com/CSSEGISandData/COVID-19/tree/master/csse_covid_19_data/csse_covid_19_time_series\n",
    "\n",
    "confirmed_global = pd.read_csv('data/time_series_covid19_confirmed_global.csv')\n",
    "deaths_global = pd.read_csv('data/time_series_covid19_deaths_global.csv')\n",
    "recovered_global = pd.read_csv('data/time_series_covid19_recovered_global.csv')\n",
    "country_cases = pd.read_csv('data/country_cases.csv')"
   ]
  },
  {
   "cell_type": "code",
   "execution_count": 4,
   "metadata": {},
   "outputs": [
    {
     "data": {
      "text/html": [
       "<div>\n",
       "<style scoped>\n",
       "    .dataframe tbody tr th:only-of-type {\n",
       "        vertical-align: middle;\n",
       "    }\n",
       "\n",
       "    .dataframe tbody tr th {\n",
       "        vertical-align: top;\n",
       "    }\n",
       "\n",
       "    .dataframe thead th {\n",
       "        text-align: right;\n",
       "    }\n",
       "</style>\n",
       "<table border=\"1\" class=\"dataframe\">\n",
       "  <thead>\n",
       "    <tr style=\"text-align: right;\">\n",
       "      <th></th>\n",
       "      <th>Province/State</th>\n",
       "      <th>Country/Region</th>\n",
       "      <th>Lat</th>\n",
       "      <th>Long</th>\n",
       "      <th>1/22/20</th>\n",
       "      <th>1/23/20</th>\n",
       "      <th>1/24/20</th>\n",
       "      <th>1/25/20</th>\n",
       "      <th>1/26/20</th>\n",
       "      <th>1/27/20</th>\n",
       "      <th>...</th>\n",
       "      <th>4/26/20</th>\n",
       "      <th>4/27/20</th>\n",
       "      <th>4/28/20</th>\n",
       "      <th>4/29/20</th>\n",
       "      <th>4/30/20</th>\n",
       "      <th>5/1/20</th>\n",
       "      <th>5/2/20</th>\n",
       "      <th>5/3/20</th>\n",
       "      <th>5/4/20</th>\n",
       "      <th>5/5/20</th>\n",
       "    </tr>\n",
       "  </thead>\n",
       "  <tbody>\n",
       "    <tr>\n",
       "      <th>0</th>\n",
       "      <td>NaN</td>\n",
       "      <td>Afghanistan</td>\n",
       "      <td>33.0000</td>\n",
       "      <td>65.0000</td>\n",
       "      <td>0</td>\n",
       "      <td>0</td>\n",
       "      <td>0</td>\n",
       "      <td>0</td>\n",
       "      <td>0</td>\n",
       "      <td>0</td>\n",
       "      <td>...</td>\n",
       "      <td>1531</td>\n",
       "      <td>1703</td>\n",
       "      <td>1828</td>\n",
       "      <td>1939</td>\n",
       "      <td>2171</td>\n",
       "      <td>2335</td>\n",
       "      <td>2469</td>\n",
       "      <td>2704</td>\n",
       "      <td>2894</td>\n",
       "      <td>3224</td>\n",
       "    </tr>\n",
       "    <tr>\n",
       "      <th>1</th>\n",
       "      <td>NaN</td>\n",
       "      <td>Albania</td>\n",
       "      <td>41.1533</td>\n",
       "      <td>20.1683</td>\n",
       "      <td>0</td>\n",
       "      <td>0</td>\n",
       "      <td>0</td>\n",
       "      <td>0</td>\n",
       "      <td>0</td>\n",
       "      <td>0</td>\n",
       "      <td>...</td>\n",
       "      <td>726</td>\n",
       "      <td>736</td>\n",
       "      <td>750</td>\n",
       "      <td>766</td>\n",
       "      <td>773</td>\n",
       "      <td>782</td>\n",
       "      <td>789</td>\n",
       "      <td>795</td>\n",
       "      <td>803</td>\n",
       "      <td>820</td>\n",
       "    </tr>\n",
       "    <tr>\n",
       "      <th>2</th>\n",
       "      <td>NaN</td>\n",
       "      <td>Algeria</td>\n",
       "      <td>28.0339</td>\n",
       "      <td>1.6596</td>\n",
       "      <td>0</td>\n",
       "      <td>0</td>\n",
       "      <td>0</td>\n",
       "      <td>0</td>\n",
       "      <td>0</td>\n",
       "      <td>0</td>\n",
       "      <td>...</td>\n",
       "      <td>3382</td>\n",
       "      <td>3517</td>\n",
       "      <td>3649</td>\n",
       "      <td>3848</td>\n",
       "      <td>4006</td>\n",
       "      <td>4154</td>\n",
       "      <td>4295</td>\n",
       "      <td>4474</td>\n",
       "      <td>4648</td>\n",
       "      <td>4838</td>\n",
       "    </tr>\n",
       "    <tr>\n",
       "      <th>3</th>\n",
       "      <td>NaN</td>\n",
       "      <td>Andorra</td>\n",
       "      <td>42.5063</td>\n",
       "      <td>1.5218</td>\n",
       "      <td>0</td>\n",
       "      <td>0</td>\n",
       "      <td>0</td>\n",
       "      <td>0</td>\n",
       "      <td>0</td>\n",
       "      <td>0</td>\n",
       "      <td>...</td>\n",
       "      <td>738</td>\n",
       "      <td>743</td>\n",
       "      <td>743</td>\n",
       "      <td>743</td>\n",
       "      <td>745</td>\n",
       "      <td>745</td>\n",
       "      <td>747</td>\n",
       "      <td>748</td>\n",
       "      <td>750</td>\n",
       "      <td>751</td>\n",
       "    </tr>\n",
       "    <tr>\n",
       "      <th>4</th>\n",
       "      <td>NaN</td>\n",
       "      <td>Angola</td>\n",
       "      <td>-11.2027</td>\n",
       "      <td>17.8739</td>\n",
       "      <td>0</td>\n",
       "      <td>0</td>\n",
       "      <td>0</td>\n",
       "      <td>0</td>\n",
       "      <td>0</td>\n",
       "      <td>0</td>\n",
       "      <td>...</td>\n",
       "      <td>26</td>\n",
       "      <td>27</td>\n",
       "      <td>27</td>\n",
       "      <td>27</td>\n",
       "      <td>27</td>\n",
       "      <td>30</td>\n",
       "      <td>35</td>\n",
       "      <td>35</td>\n",
       "      <td>35</td>\n",
       "      <td>36</td>\n",
       "    </tr>\n",
       "  </tbody>\n",
       "</table>\n",
       "<p>5 rows × 109 columns</p>\n",
       "</div>"
      ],
      "text/plain": [
       "  Province/State Country/Region      Lat     Long  1/22/20  1/23/20  1/24/20  \\\n",
       "0            NaN    Afghanistan  33.0000  65.0000        0        0        0   \n",
       "1            NaN        Albania  41.1533  20.1683        0        0        0   \n",
       "2            NaN        Algeria  28.0339   1.6596        0        0        0   \n",
       "3            NaN        Andorra  42.5063   1.5218        0        0        0   \n",
       "4            NaN         Angola -11.2027  17.8739        0        0        0   \n",
       "\n",
       "   1/25/20  1/26/20  1/27/20  ...  4/26/20  4/27/20  4/28/20  4/29/20  \\\n",
       "0        0        0        0  ...     1531     1703     1828     1939   \n",
       "1        0        0        0  ...      726      736      750      766   \n",
       "2        0        0        0  ...     3382     3517     3649     3848   \n",
       "3        0        0        0  ...      738      743      743      743   \n",
       "4        0        0        0  ...       26       27       27       27   \n",
       "\n",
       "   4/30/20  5/1/20  5/2/20  5/3/20  5/4/20  5/5/20  \n",
       "0     2171    2335    2469    2704    2894    3224  \n",
       "1      773     782     789     795     803     820  \n",
       "2     4006    4154    4295    4474    4648    4838  \n",
       "3      745     745     747     748     750     751  \n",
       "4       27      30      35      35      35      36  \n",
       "\n",
       "[5 rows x 109 columns]"
      ]
     },
     "execution_count": 4,
     "metadata": {},
     "output_type": "execute_result"
    }
   ],
   "source": [
    "# Global Confirmed Cases\n",
    "confirmed_global.head()"
   ]
  },
  {
   "cell_type": "code",
   "execution_count": 5,
   "metadata": {},
   "outputs": [
    {
     "data": {
      "text/html": [
       "<div>\n",
       "<style scoped>\n",
       "    .dataframe tbody tr th:only-of-type {\n",
       "        vertical-align: middle;\n",
       "    }\n",
       "\n",
       "    .dataframe tbody tr th {\n",
       "        vertical-align: top;\n",
       "    }\n",
       "\n",
       "    .dataframe thead th {\n",
       "        text-align: right;\n",
       "    }\n",
       "</style>\n",
       "<table border=\"1\" class=\"dataframe\">\n",
       "  <thead>\n",
       "    <tr style=\"text-align: right;\">\n",
       "      <th></th>\n",
       "      <th>Province/State</th>\n",
       "      <th>Country/Region</th>\n",
       "      <th>Lat</th>\n",
       "      <th>Long</th>\n",
       "      <th>1/22/20</th>\n",
       "      <th>1/23/20</th>\n",
       "      <th>1/24/20</th>\n",
       "      <th>1/25/20</th>\n",
       "      <th>1/26/20</th>\n",
       "      <th>1/27/20</th>\n",
       "      <th>...</th>\n",
       "      <th>4/26/20</th>\n",
       "      <th>4/27/20</th>\n",
       "      <th>4/28/20</th>\n",
       "      <th>4/29/20</th>\n",
       "      <th>4/30/20</th>\n",
       "      <th>5/1/20</th>\n",
       "      <th>5/2/20</th>\n",
       "      <th>5/3/20</th>\n",
       "      <th>5/4/20</th>\n",
       "      <th>5/5/20</th>\n",
       "    </tr>\n",
       "  </thead>\n",
       "  <tbody>\n",
       "    <tr>\n",
       "      <th>0</th>\n",
       "      <td>NaN</td>\n",
       "      <td>Afghanistan</td>\n",
       "      <td>33.0000</td>\n",
       "      <td>65.0000</td>\n",
       "      <td>0</td>\n",
       "      <td>0</td>\n",
       "      <td>0</td>\n",
       "      <td>0</td>\n",
       "      <td>0</td>\n",
       "      <td>0</td>\n",
       "      <td>...</td>\n",
       "      <td>50</td>\n",
       "      <td>57</td>\n",
       "      <td>58</td>\n",
       "      <td>60</td>\n",
       "      <td>64</td>\n",
       "      <td>68</td>\n",
       "      <td>72</td>\n",
       "      <td>85</td>\n",
       "      <td>90</td>\n",
       "      <td>95</td>\n",
       "    </tr>\n",
       "    <tr>\n",
       "      <th>1</th>\n",
       "      <td>NaN</td>\n",
       "      <td>Albania</td>\n",
       "      <td>41.1533</td>\n",
       "      <td>20.1683</td>\n",
       "      <td>0</td>\n",
       "      <td>0</td>\n",
       "      <td>0</td>\n",
       "      <td>0</td>\n",
       "      <td>0</td>\n",
       "      <td>0</td>\n",
       "      <td>...</td>\n",
       "      <td>28</td>\n",
       "      <td>28</td>\n",
       "      <td>30</td>\n",
       "      <td>30</td>\n",
       "      <td>31</td>\n",
       "      <td>31</td>\n",
       "      <td>31</td>\n",
       "      <td>31</td>\n",
       "      <td>31</td>\n",
       "      <td>31</td>\n",
       "    </tr>\n",
       "    <tr>\n",
       "      <th>2</th>\n",
       "      <td>NaN</td>\n",
       "      <td>Algeria</td>\n",
       "      <td>28.0339</td>\n",
       "      <td>1.6596</td>\n",
       "      <td>0</td>\n",
       "      <td>0</td>\n",
       "      <td>0</td>\n",
       "      <td>0</td>\n",
       "      <td>0</td>\n",
       "      <td>0</td>\n",
       "      <td>...</td>\n",
       "      <td>425</td>\n",
       "      <td>432</td>\n",
       "      <td>437</td>\n",
       "      <td>444</td>\n",
       "      <td>450</td>\n",
       "      <td>453</td>\n",
       "      <td>459</td>\n",
       "      <td>463</td>\n",
       "      <td>465</td>\n",
       "      <td>470</td>\n",
       "    </tr>\n",
       "    <tr>\n",
       "      <th>3</th>\n",
       "      <td>NaN</td>\n",
       "      <td>Andorra</td>\n",
       "      <td>42.5063</td>\n",
       "      <td>1.5218</td>\n",
       "      <td>0</td>\n",
       "      <td>0</td>\n",
       "      <td>0</td>\n",
       "      <td>0</td>\n",
       "      <td>0</td>\n",
       "      <td>0</td>\n",
       "      <td>...</td>\n",
       "      <td>40</td>\n",
       "      <td>40</td>\n",
       "      <td>41</td>\n",
       "      <td>42</td>\n",
       "      <td>42</td>\n",
       "      <td>43</td>\n",
       "      <td>44</td>\n",
       "      <td>45</td>\n",
       "      <td>45</td>\n",
       "      <td>46</td>\n",
       "    </tr>\n",
       "    <tr>\n",
       "      <th>4</th>\n",
       "      <td>NaN</td>\n",
       "      <td>Angola</td>\n",
       "      <td>-11.2027</td>\n",
       "      <td>17.8739</td>\n",
       "      <td>0</td>\n",
       "      <td>0</td>\n",
       "      <td>0</td>\n",
       "      <td>0</td>\n",
       "      <td>0</td>\n",
       "      <td>0</td>\n",
       "      <td>...</td>\n",
       "      <td>2</td>\n",
       "      <td>2</td>\n",
       "      <td>2</td>\n",
       "      <td>2</td>\n",
       "      <td>2</td>\n",
       "      <td>2</td>\n",
       "      <td>2</td>\n",
       "      <td>2</td>\n",
       "      <td>2</td>\n",
       "      <td>2</td>\n",
       "    </tr>\n",
       "  </tbody>\n",
       "</table>\n",
       "<p>5 rows × 109 columns</p>\n",
       "</div>"
      ],
      "text/plain": [
       "  Province/State Country/Region      Lat     Long  1/22/20  1/23/20  1/24/20  \\\n",
       "0            NaN    Afghanistan  33.0000  65.0000        0        0        0   \n",
       "1            NaN        Albania  41.1533  20.1683        0        0        0   \n",
       "2            NaN        Algeria  28.0339   1.6596        0        0        0   \n",
       "3            NaN        Andorra  42.5063   1.5218        0        0        0   \n",
       "4            NaN         Angola -11.2027  17.8739        0        0        0   \n",
       "\n",
       "   1/25/20  1/26/20  1/27/20  ...  4/26/20  4/27/20  4/28/20  4/29/20  \\\n",
       "0        0        0        0  ...       50       57       58       60   \n",
       "1        0        0        0  ...       28       28       30       30   \n",
       "2        0        0        0  ...      425      432      437      444   \n",
       "3        0        0        0  ...       40       40       41       42   \n",
       "4        0        0        0  ...        2        2        2        2   \n",
       "\n",
       "   4/30/20  5/1/20  5/2/20  5/3/20  5/4/20  5/5/20  \n",
       "0       64      68      72      85      90      95  \n",
       "1       31      31      31      31      31      31  \n",
       "2      450     453     459     463     465     470  \n",
       "3       42      43      44      45      45      46  \n",
       "4        2       2       2       2       2       2  \n",
       "\n",
       "[5 rows x 109 columns]"
      ]
     },
     "execution_count": 5,
     "metadata": {},
     "output_type": "execute_result"
    }
   ],
   "source": [
    "# Global Deaths\n",
    "deaths_global.head()"
   ]
  },
  {
   "cell_type": "code",
   "execution_count": 6,
   "metadata": {},
   "outputs": [
    {
     "data": {
      "text/html": [
       "<div>\n",
       "<style scoped>\n",
       "    .dataframe tbody tr th:only-of-type {\n",
       "        vertical-align: middle;\n",
       "    }\n",
       "\n",
       "    .dataframe tbody tr th {\n",
       "        vertical-align: top;\n",
       "    }\n",
       "\n",
       "    .dataframe thead th {\n",
       "        text-align: right;\n",
       "    }\n",
       "</style>\n",
       "<table border=\"1\" class=\"dataframe\">\n",
       "  <thead>\n",
       "    <tr style=\"text-align: right;\">\n",
       "      <th></th>\n",
       "      <th>Province/State</th>\n",
       "      <th>Country/Region</th>\n",
       "      <th>Lat</th>\n",
       "      <th>Long</th>\n",
       "      <th>1/22/20</th>\n",
       "      <th>1/23/20</th>\n",
       "      <th>1/24/20</th>\n",
       "      <th>1/25/20</th>\n",
       "      <th>1/26/20</th>\n",
       "      <th>1/27/20</th>\n",
       "      <th>...</th>\n",
       "      <th>4/26/20</th>\n",
       "      <th>4/27/20</th>\n",
       "      <th>4/28/20</th>\n",
       "      <th>4/29/20</th>\n",
       "      <th>4/30/20</th>\n",
       "      <th>5/1/20</th>\n",
       "      <th>5/2/20</th>\n",
       "      <th>5/3/20</th>\n",
       "      <th>5/4/20</th>\n",
       "      <th>5/5/20</th>\n",
       "    </tr>\n",
       "  </thead>\n",
       "  <tbody>\n",
       "    <tr>\n",
       "      <th>0</th>\n",
       "      <td>NaN</td>\n",
       "      <td>Afghanistan</td>\n",
       "      <td>33.0000</td>\n",
       "      <td>65.0000</td>\n",
       "      <td>0</td>\n",
       "      <td>0</td>\n",
       "      <td>0</td>\n",
       "      <td>0</td>\n",
       "      <td>0</td>\n",
       "      <td>0</td>\n",
       "      <td>...</td>\n",
       "      <td>207</td>\n",
       "      <td>220</td>\n",
       "      <td>228</td>\n",
       "      <td>252</td>\n",
       "      <td>260</td>\n",
       "      <td>310</td>\n",
       "      <td>331</td>\n",
       "      <td>345</td>\n",
       "      <td>397</td>\n",
       "      <td>421</td>\n",
       "    </tr>\n",
       "    <tr>\n",
       "      <th>1</th>\n",
       "      <td>NaN</td>\n",
       "      <td>Albania</td>\n",
       "      <td>41.1533</td>\n",
       "      <td>20.1683</td>\n",
       "      <td>0</td>\n",
       "      <td>0</td>\n",
       "      <td>0</td>\n",
       "      <td>0</td>\n",
       "      <td>0</td>\n",
       "      <td>0</td>\n",
       "      <td>...</td>\n",
       "      <td>410</td>\n",
       "      <td>422</td>\n",
       "      <td>431</td>\n",
       "      <td>455</td>\n",
       "      <td>470</td>\n",
       "      <td>488</td>\n",
       "      <td>519</td>\n",
       "      <td>531</td>\n",
       "      <td>543</td>\n",
       "      <td>570</td>\n",
       "    </tr>\n",
       "    <tr>\n",
       "      <th>2</th>\n",
       "      <td>NaN</td>\n",
       "      <td>Algeria</td>\n",
       "      <td>28.0339</td>\n",
       "      <td>1.6596</td>\n",
       "      <td>0</td>\n",
       "      <td>0</td>\n",
       "      <td>0</td>\n",
       "      <td>0</td>\n",
       "      <td>0</td>\n",
       "      <td>0</td>\n",
       "      <td>...</td>\n",
       "      <td>1508</td>\n",
       "      <td>1558</td>\n",
       "      <td>1651</td>\n",
       "      <td>1702</td>\n",
       "      <td>1779</td>\n",
       "      <td>1821</td>\n",
       "      <td>1872</td>\n",
       "      <td>1936</td>\n",
       "      <td>1998</td>\n",
       "      <td>2067</td>\n",
       "    </tr>\n",
       "    <tr>\n",
       "      <th>3</th>\n",
       "      <td>NaN</td>\n",
       "      <td>Andorra</td>\n",
       "      <td>42.5063</td>\n",
       "      <td>1.5218</td>\n",
       "      <td>0</td>\n",
       "      <td>0</td>\n",
       "      <td>0</td>\n",
       "      <td>0</td>\n",
       "      <td>0</td>\n",
       "      <td>0</td>\n",
       "      <td>...</td>\n",
       "      <td>344</td>\n",
       "      <td>385</td>\n",
       "      <td>398</td>\n",
       "      <td>423</td>\n",
       "      <td>468</td>\n",
       "      <td>468</td>\n",
       "      <td>472</td>\n",
       "      <td>493</td>\n",
       "      <td>499</td>\n",
       "      <td>514</td>\n",
       "    </tr>\n",
       "    <tr>\n",
       "      <th>4</th>\n",
       "      <td>NaN</td>\n",
       "      <td>Angola</td>\n",
       "      <td>-11.2027</td>\n",
       "      <td>17.8739</td>\n",
       "      <td>0</td>\n",
       "      <td>0</td>\n",
       "      <td>0</td>\n",
       "      <td>0</td>\n",
       "      <td>0</td>\n",
       "      <td>0</td>\n",
       "      <td>...</td>\n",
       "      <td>6</td>\n",
       "      <td>6</td>\n",
       "      <td>6</td>\n",
       "      <td>7</td>\n",
       "      <td>7</td>\n",
       "      <td>11</td>\n",
       "      <td>11</td>\n",
       "      <td>11</td>\n",
       "      <td>11</td>\n",
       "      <td>11</td>\n",
       "    </tr>\n",
       "  </tbody>\n",
       "</table>\n",
       "<p>5 rows × 109 columns</p>\n",
       "</div>"
      ],
      "text/plain": [
       "  Province/State Country/Region      Lat     Long  1/22/20  1/23/20  1/24/20  \\\n",
       "0            NaN    Afghanistan  33.0000  65.0000        0        0        0   \n",
       "1            NaN        Albania  41.1533  20.1683        0        0        0   \n",
       "2            NaN        Algeria  28.0339   1.6596        0        0        0   \n",
       "3            NaN        Andorra  42.5063   1.5218        0        0        0   \n",
       "4            NaN         Angola -11.2027  17.8739        0        0        0   \n",
       "\n",
       "   1/25/20  1/26/20  1/27/20  ...  4/26/20  4/27/20  4/28/20  4/29/20  \\\n",
       "0        0        0        0  ...      207      220      228      252   \n",
       "1        0        0        0  ...      410      422      431      455   \n",
       "2        0        0        0  ...     1508     1558     1651     1702   \n",
       "3        0        0        0  ...      344      385      398      423   \n",
       "4        0        0        0  ...        6        6        6        7   \n",
       "\n",
       "   4/30/20  5/1/20  5/2/20  5/3/20  5/4/20  5/5/20  \n",
       "0      260     310     331     345     397     421  \n",
       "1      470     488     519     531     543     570  \n",
       "2     1779    1821    1872    1936    1998    2067  \n",
       "3      468     468     472     493     499     514  \n",
       "4        7      11      11      11      11      11  \n",
       "\n",
       "[5 rows x 109 columns]"
      ]
     },
     "execution_count": 6,
     "metadata": {},
     "output_type": "execute_result"
    }
   ],
   "source": [
    "# Global Recoveries\n",
    "recovered_global.head()"
   ]
  },
  {
   "cell_type": "code",
   "execution_count": 7,
   "metadata": {},
   "outputs": [
    {
     "data": {
      "text/html": [
       "<div>\n",
       "<style scoped>\n",
       "    .dataframe tbody tr th:only-of-type {\n",
       "        vertical-align: middle;\n",
       "    }\n",
       "\n",
       "    .dataframe tbody tr th {\n",
       "        vertical-align: top;\n",
       "    }\n",
       "\n",
       "    .dataframe thead th {\n",
       "        text-align: right;\n",
       "    }\n",
       "</style>\n",
       "<table border=\"1\" class=\"dataframe\">\n",
       "  <thead>\n",
       "    <tr style=\"text-align: right;\">\n",
       "      <th></th>\n",
       "      <th>Country_Region</th>\n",
       "      <th>Last_Update</th>\n",
       "      <th>Lat</th>\n",
       "      <th>Long_</th>\n",
       "      <th>Confirmed</th>\n",
       "      <th>Deaths</th>\n",
       "      <th>Recovered</th>\n",
       "      <th>Active</th>\n",
       "      <th>Incident_Rate</th>\n",
       "      <th>People_Tested</th>\n",
       "      <th>People_Hospitalized</th>\n",
       "      <th>Mortality_Rate</th>\n",
       "      <th>UID</th>\n",
       "      <th>ISO3</th>\n",
       "    </tr>\n",
       "  </thead>\n",
       "  <tbody>\n",
       "    <tr>\n",
       "      <th>0</th>\n",
       "      <td>Australia</td>\n",
       "      <td>2020-05-06 12:32:27</td>\n",
       "      <td>-25.0000</td>\n",
       "      <td>133.0000</td>\n",
       "      <td>6875</td>\n",
       "      <td>97</td>\n",
       "      <td>5986</td>\n",
       "      <td>792</td>\n",
       "      <td>27.003460</td>\n",
       "      <td>NaN</td>\n",
       "      <td>NaN</td>\n",
       "      <td>1.410909</td>\n",
       "      <td>36</td>\n",
       "      <td>AUS</td>\n",
       "    </tr>\n",
       "    <tr>\n",
       "      <th>1</th>\n",
       "      <td>Austria</td>\n",
       "      <td>2020-05-06 12:32:27</td>\n",
       "      <td>47.5162</td>\n",
       "      <td>14.5501</td>\n",
       "      <td>15684</td>\n",
       "      <td>608</td>\n",
       "      <td>13639</td>\n",
       "      <td>1437</td>\n",
       "      <td>174.142832</td>\n",
       "      <td>NaN</td>\n",
       "      <td>NaN</td>\n",
       "      <td>3.876562</td>\n",
       "      <td>40</td>\n",
       "      <td>AUT</td>\n",
       "    </tr>\n",
       "    <tr>\n",
       "      <th>2</th>\n",
       "      <td>Canada</td>\n",
       "      <td>2020-05-06 12:32:27</td>\n",
       "      <td>60.0010</td>\n",
       "      <td>-95.0010</td>\n",
       "      <td>63215</td>\n",
       "      <td>4190</td>\n",
       "      <td>27006</td>\n",
       "      <td>32019</td>\n",
       "      <td>166.989375</td>\n",
       "      <td>NaN</td>\n",
       "      <td>NaN</td>\n",
       "      <td>6.628174</td>\n",
       "      <td>124</td>\n",
       "      <td>CAN</td>\n",
       "    </tr>\n",
       "    <tr>\n",
       "      <th>3</th>\n",
       "      <td>China</td>\n",
       "      <td>2020-05-06 12:32:27</td>\n",
       "      <td>30.5928</td>\n",
       "      <td>114.3055</td>\n",
       "      <td>83968</td>\n",
       "      <td>4637</td>\n",
       "      <td>78900</td>\n",
       "      <td>431</td>\n",
       "      <td>5.977747</td>\n",
       "      <td>NaN</td>\n",
       "      <td>NaN</td>\n",
       "      <td>5.522342</td>\n",
       "      <td>156</td>\n",
       "      <td>CHN</td>\n",
       "    </tr>\n",
       "    <tr>\n",
       "      <th>4</th>\n",
       "      <td>Denmark</td>\n",
       "      <td>2020-05-06 12:32:27</td>\n",
       "      <td>56.0000</td>\n",
       "      <td>10.0000</td>\n",
       "      <td>10136</td>\n",
       "      <td>506</td>\n",
       "      <td>7689</td>\n",
       "      <td>1941</td>\n",
       "      <td>174.993867</td>\n",
       "      <td>NaN</td>\n",
       "      <td>NaN</td>\n",
       "      <td>4.992107</td>\n",
       "      <td>208</td>\n",
       "      <td>DNK</td>\n",
       "    </tr>\n",
       "  </tbody>\n",
       "</table>\n",
       "</div>"
      ],
      "text/plain": [
       "  Country_Region          Last_Update      Lat     Long_  Confirmed  Deaths  \\\n",
       "0      Australia  2020-05-06 12:32:27 -25.0000  133.0000       6875      97   \n",
       "1        Austria  2020-05-06 12:32:27  47.5162   14.5501      15684     608   \n",
       "2         Canada  2020-05-06 12:32:27  60.0010  -95.0010      63215    4190   \n",
       "3          China  2020-05-06 12:32:27  30.5928  114.3055      83968    4637   \n",
       "4        Denmark  2020-05-06 12:32:27  56.0000   10.0000      10136     506   \n",
       "\n",
       "   Recovered  Active  Incident_Rate  People_Tested  People_Hospitalized  \\\n",
       "0       5986     792      27.003460            NaN                  NaN   \n",
       "1      13639    1437     174.142832            NaN                  NaN   \n",
       "2      27006   32019     166.989375            NaN                  NaN   \n",
       "3      78900     431       5.977747            NaN                  NaN   \n",
       "4       7689    1941     174.993867            NaN                  NaN   \n",
       "\n",
       "   Mortality_Rate  UID ISO3  \n",
       "0        1.410909   36  AUS  \n",
       "1        3.876562   40  AUT  \n",
       "2        6.628174  124  CAN  \n",
       "3        5.522342  156  CHN  \n",
       "4        4.992107  208  DNK  "
      ]
     },
     "execution_count": 7,
     "metadata": {},
     "output_type": "execute_result"
    }
   ],
   "source": [
    "# Country Wise Statistics\n",
    "country_cases.head()"
   ]
  },
  {
   "cell_type": "code",
   "execution_count": 8,
   "metadata": {},
   "outputs": [
    {
     "data": {
      "text/plain": [
       "Index(['country', 'last', 'Lat', 'Long_', 'confirmed', 'deaths', 'recovered',\n",
       "       'active', 'Incident_Rate', 'People_Tested', 'People_Hospitalized',\n",
       "       'mortality', 'UID', 'ISO3'],\n",
       "      dtype='object')"
      ]
     },
     "execution_count": 8,
     "metadata": {},
     "output_type": "execute_result"
    }
   ],
   "source": [
    "# Simple Data Cleaning - Removing and renaming the Columns\n",
    "\n",
    "# Removing the Province/State column, as it is pretty much not of any use\n",
    "confirmed_global.drop(columns = 'Province/State', inplace = True)\n",
    "deaths_global.drop(columns = 'Province/State', inplace = True)\n",
    "recovered_global.drop(columns = 'Province/State', inplace = True)\n",
    "\n",
    "# Renaming the columns for easier access\n",
    "confirmed_global.rename(columns = {\"Country_Region\": \"country\", \"Last_Update\": \"last\"})\n",
    "deaths_global.rename(columns = {\"Country_Region\": \"country\", \"Last_Update\": \"last\"})\n",
    "recovered_global.rename(columns = {\"Country_Region\": \"country\", \"Last_Update\": \"last\"})\n",
    "\n",
    "country_cases.rename(columns = {\n",
    "    \"Country_Region\" : \"country\",\n",
    "    \"Last_Update\": \"last\",\n",
    "    \"Confirmed\": \"confirmed\",\n",
    "    \"Deaths\": \"deaths\",\n",
    "    \"Recovered\" : \"recovered\",\n",
    "    \"Active\" : \"active\",\n",
    "    \"Mortality_Rate\": \"mortality\"\n",
    "}, inplace = True)\n",
    "country_cases.columns"
   ]
  },
  {
   "cell_type": "code",
   "execution_count": 9,
   "metadata": {},
   "outputs": [
    {
     "data": {
      "text/html": [
       "<style  type=\"text/css\" >\n",
       "    #T_fef18cf2_8f9b_11ea_96aa_d481d758cadfrow0_col0 {\n",
       "            background-color:  yellow;\n",
       "        }    #T_fef18cf2_8f9b_11ea_96aa_d481d758cadfrow0_col4 {\n",
       "            background-color:  red;\n",
       "        }    #T_fef18cf2_8f9b_11ea_96aa_d481d758cadfrow0_col5 {\n",
       "            background-color:  purple;\n",
       "        }    #T_fef18cf2_8f9b_11ea_96aa_d481d758cadfrow0_col6 {\n",
       "            background-color:  grey;\n",
       "        }    #T_fef18cf2_8f9b_11ea_96aa_d481d758cadfrow1_col0 {\n",
       "            background-color:  yellow;\n",
       "        }    #T_fef18cf2_8f9b_11ea_96aa_d481d758cadfrow1_col4 {\n",
       "            background-color:  red;\n",
       "        }    #T_fef18cf2_8f9b_11ea_96aa_d481d758cadfrow1_col5 {\n",
       "            background-color:  purple;\n",
       "        }    #T_fef18cf2_8f9b_11ea_96aa_d481d758cadfrow1_col6 {\n",
       "            background-color:  grey;\n",
       "        }    #T_fef18cf2_8f9b_11ea_96aa_d481d758cadfrow2_col0 {\n",
       "            background-color:  yellow;\n",
       "        }    #T_fef18cf2_8f9b_11ea_96aa_d481d758cadfrow2_col4 {\n",
       "            background-color:  red;\n",
       "        }    #T_fef18cf2_8f9b_11ea_96aa_d481d758cadfrow2_col5 {\n",
       "            background-color:  purple;\n",
       "        }    #T_fef18cf2_8f9b_11ea_96aa_d481d758cadfrow2_col6 {\n",
       "            background-color:  grey;\n",
       "        }    #T_fef18cf2_8f9b_11ea_96aa_d481d758cadfrow3_col0 {\n",
       "            background-color:  yellow;\n",
       "        }    #T_fef18cf2_8f9b_11ea_96aa_d481d758cadfrow3_col4 {\n",
       "            background-color:  red;\n",
       "        }    #T_fef18cf2_8f9b_11ea_96aa_d481d758cadfrow3_col5 {\n",
       "            background-color:  purple;\n",
       "        }    #T_fef18cf2_8f9b_11ea_96aa_d481d758cadfrow3_col6 {\n",
       "            background-color:  grey;\n",
       "        }    #T_fef18cf2_8f9b_11ea_96aa_d481d758cadfrow4_col0 {\n",
       "            background-color:  yellow;\n",
       "        }    #T_fef18cf2_8f9b_11ea_96aa_d481d758cadfrow4_col4 {\n",
       "            background-color:  red;\n",
       "        }    #T_fef18cf2_8f9b_11ea_96aa_d481d758cadfrow4_col5 {\n",
       "            background-color:  purple;\n",
       "        }    #T_fef18cf2_8f9b_11ea_96aa_d481d758cadfrow4_col6 {\n",
       "            background-color:  grey;\n",
       "        }    #T_fef18cf2_8f9b_11ea_96aa_d481d758cadfrow5_col0 {\n",
       "            background-color:  yellow;\n",
       "        }    #T_fef18cf2_8f9b_11ea_96aa_d481d758cadfrow5_col4 {\n",
       "            background-color:  red;\n",
       "        }    #T_fef18cf2_8f9b_11ea_96aa_d481d758cadfrow5_col5 {\n",
       "            background-color:  purple;\n",
       "        }    #T_fef18cf2_8f9b_11ea_96aa_d481d758cadfrow5_col6 {\n",
       "            background-color:  grey;\n",
       "        }    #T_fef18cf2_8f9b_11ea_96aa_d481d758cadfrow6_col0 {\n",
       "            background-color:  yellow;\n",
       "        }    #T_fef18cf2_8f9b_11ea_96aa_d481d758cadfrow6_col4 {\n",
       "            background-color:  red;\n",
       "        }    #T_fef18cf2_8f9b_11ea_96aa_d481d758cadfrow6_col5 {\n",
       "            background-color:  purple;\n",
       "        }    #T_fef18cf2_8f9b_11ea_96aa_d481d758cadfrow6_col6 {\n",
       "            background-color:  grey;\n",
       "        }    #T_fef18cf2_8f9b_11ea_96aa_d481d758cadfrow7_col0 {\n",
       "            background-color:  yellow;\n",
       "        }    #T_fef18cf2_8f9b_11ea_96aa_d481d758cadfrow7_col4 {\n",
       "            background-color:  red;\n",
       "        }    #T_fef18cf2_8f9b_11ea_96aa_d481d758cadfrow7_col5 {\n",
       "            background-color:  purple;\n",
       "        }    #T_fef18cf2_8f9b_11ea_96aa_d481d758cadfrow7_col6 {\n",
       "            background-color:  grey;\n",
       "        }    #T_fef18cf2_8f9b_11ea_96aa_d481d758cadfrow8_col0 {\n",
       "            background-color:  yellow;\n",
       "        }    #T_fef18cf2_8f9b_11ea_96aa_d481d758cadfrow8_col4 {\n",
       "            background-color:  red;\n",
       "        }    #T_fef18cf2_8f9b_11ea_96aa_d481d758cadfrow8_col5 {\n",
       "            background-color:  purple;\n",
       "        }    #T_fef18cf2_8f9b_11ea_96aa_d481d758cadfrow8_col6 {\n",
       "            background-color:  grey;\n",
       "        }    #T_fef18cf2_8f9b_11ea_96aa_d481d758cadfrow9_col0 {\n",
       "            background-color:  yellow;\n",
       "        }    #T_fef18cf2_8f9b_11ea_96aa_d481d758cadfrow9_col4 {\n",
       "            background-color:  red;\n",
       "        }    #T_fef18cf2_8f9b_11ea_96aa_d481d758cadfrow9_col5 {\n",
       "            background-color:  purple;\n",
       "        }    #T_fef18cf2_8f9b_11ea_96aa_d481d758cadfrow9_col6 {\n",
       "            background-color:  grey;\n",
       "        }</style><table id=\"T_fef18cf2_8f9b_11ea_96aa_d481d758cadf\" ><thead>    <tr>        <th class=\"blank level0\" ></th>        <th class=\"col_heading level0 col0\" >country</th>        <th class=\"col_heading level0 col1\" >last</th>        <th class=\"col_heading level0 col2\" >Lat</th>        <th class=\"col_heading level0 col3\" >Long_</th>        <th class=\"col_heading level0 col4\" >confirmed</th>        <th class=\"col_heading level0 col5\" >deaths</th>        <th class=\"col_heading level0 col6\" >recovered</th>        <th class=\"col_heading level0 col7\" >active</th>        <th class=\"col_heading level0 col8\" >Incident_Rate</th>        <th class=\"col_heading level0 col9\" >People_Tested</th>        <th class=\"col_heading level0 col10\" >People_Hospitalized</th>        <th class=\"col_heading level0 col11\" >mortality</th>        <th class=\"col_heading level0 col12\" >UID</th>        <th class=\"col_heading level0 col13\" >ISO3</th>    </tr></thead><tbody>\n",
       "                <tr>\n",
       "                        <th id=\"T_fef18cf2_8f9b_11ea_96aa_d481d758cadflevel0_row0\" class=\"row_heading level0 row0\" >17</th>\n",
       "                        <td id=\"T_fef18cf2_8f9b_11ea_96aa_d481d758cadfrow0_col0\" class=\"data row0 col0\" >US</td>\n",
       "                        <td id=\"T_fef18cf2_8f9b_11ea_96aa_d481d758cadfrow0_col1\" class=\"data row0 col1\" >2020-05-06 12:32:27</td>\n",
       "                        <td id=\"T_fef18cf2_8f9b_11ea_96aa_d481d758cadfrow0_col2\" class=\"data row0 col2\" >40.000000</td>\n",
       "                        <td id=\"T_fef18cf2_8f9b_11ea_96aa_d481d758cadfrow0_col3\" class=\"data row0 col3\" >-100.000000</td>\n",
       "                        <td id=\"T_fef18cf2_8f9b_11ea_96aa_d481d758cadfrow0_col4\" class=\"data row0 col4\" >1204475</td>\n",
       "                        <td id=\"T_fef18cf2_8f9b_11ea_96aa_d481d758cadfrow0_col5\" class=\"data row0 col5\" >71078</td>\n",
       "                        <td id=\"T_fef18cf2_8f9b_11ea_96aa_d481d758cadfrow0_col6\" class=\"data row0 col6\" >189791</td>\n",
       "                        <td id=\"T_fef18cf2_8f9b_11ea_96aa_d481d758cadfrow0_col7\" class=\"data row0 col7\" >972538</td>\n",
       "                        <td id=\"T_fef18cf2_8f9b_11ea_96aa_d481d758cadfrow0_col8\" class=\"data row0 col8\" >365.583692</td>\n",
       "                        <td id=\"T_fef18cf2_8f9b_11ea_96aa_d481d758cadfrow0_col9\" class=\"data row0 col9\" >nan</td>\n",
       "                        <td id=\"T_fef18cf2_8f9b_11ea_96aa_d481d758cadfrow0_col10\" class=\"data row0 col10\" >nan</td>\n",
       "                        <td id=\"T_fef18cf2_8f9b_11ea_96aa_d481d758cadfrow0_col11\" class=\"data row0 col11\" >5.901160</td>\n",
       "                        <td id=\"T_fef18cf2_8f9b_11ea_96aa_d481d758cadfrow0_col12\" class=\"data row0 col12\" >840</td>\n",
       "                        <td id=\"T_fef18cf2_8f9b_11ea_96aa_d481d758cadfrow0_col13\" class=\"data row0 col13\" >USA</td>\n",
       "            </tr>\n",
       "            <tr>\n",
       "                        <th id=\"T_fef18cf2_8f9b_11ea_96aa_d481d758cadflevel0_row1\" class=\"row_heading level0 row1\" >161</th>\n",
       "                        <td id=\"T_fef18cf2_8f9b_11ea_96aa_d481d758cadfrow1_col0\" class=\"data row1 col0\" >Spain</td>\n",
       "                        <td id=\"T_fef18cf2_8f9b_11ea_96aa_d481d758cadfrow1_col1\" class=\"data row1 col1\" >2020-05-06 12:32:27</td>\n",
       "                        <td id=\"T_fef18cf2_8f9b_11ea_96aa_d481d758cadfrow1_col2\" class=\"data row1 col2\" >40.463667</td>\n",
       "                        <td id=\"T_fef18cf2_8f9b_11ea_96aa_d481d758cadfrow1_col3\" class=\"data row1 col3\" >-3.749220</td>\n",
       "                        <td id=\"T_fef18cf2_8f9b_11ea_96aa_d481d758cadfrow1_col4\" class=\"data row1 col4\" >219329</td>\n",
       "                        <td id=\"T_fef18cf2_8f9b_11ea_96aa_d481d758cadfrow1_col5\" class=\"data row1 col5\" >25613</td>\n",
       "                        <td id=\"T_fef18cf2_8f9b_11ea_96aa_d481d758cadfrow1_col6\" class=\"data row1 col6\" >123486</td>\n",
       "                        <td id=\"T_fef18cf2_8f9b_11ea_96aa_d481d758cadfrow1_col7\" class=\"data row1 col7\" >70230</td>\n",
       "                        <td id=\"T_fef18cf2_8f9b_11ea_96aa_d481d758cadfrow1_col8\" class=\"data row1 col8\" >469.104947</td>\n",
       "                        <td id=\"T_fef18cf2_8f9b_11ea_96aa_d481d758cadfrow1_col9\" class=\"data row1 col9\" >nan</td>\n",
       "                        <td id=\"T_fef18cf2_8f9b_11ea_96aa_d481d758cadfrow1_col10\" class=\"data row1 col10\" >nan</td>\n",
       "                        <td id=\"T_fef18cf2_8f9b_11ea_96aa_d481d758cadfrow1_col11\" class=\"data row1 col11\" >11.677890</td>\n",
       "                        <td id=\"T_fef18cf2_8f9b_11ea_96aa_d481d758cadfrow1_col12\" class=\"data row1 col12\" >724</td>\n",
       "                        <td id=\"T_fef18cf2_8f9b_11ea_96aa_d481d758cadfrow1_col13\" class=\"data row1 col13\" >ESP</td>\n",
       "            </tr>\n",
       "            <tr>\n",
       "                        <th id=\"T_fef18cf2_8f9b_11ea_96aa_d481d758cadflevel0_row2\" class=\"row_heading level0 row2\" >10</th>\n",
       "                        <td id=\"T_fef18cf2_8f9b_11ea_96aa_d481d758cadfrow2_col0\" class=\"data row2 col0\" >Italy</td>\n",
       "                        <td id=\"T_fef18cf2_8f9b_11ea_96aa_d481d758cadfrow2_col1\" class=\"data row2 col1\" >2020-05-06 12:32:27</td>\n",
       "                        <td id=\"T_fef18cf2_8f9b_11ea_96aa_d481d758cadfrow2_col2\" class=\"data row2 col2\" >41.871900</td>\n",
       "                        <td id=\"T_fef18cf2_8f9b_11ea_96aa_d481d758cadfrow2_col3\" class=\"data row2 col3\" >12.567400</td>\n",
       "                        <td id=\"T_fef18cf2_8f9b_11ea_96aa_d481d758cadfrow2_col4\" class=\"data row2 col4\" >213013</td>\n",
       "                        <td id=\"T_fef18cf2_8f9b_11ea_96aa_d481d758cadfrow2_col5\" class=\"data row2 col5\" >29315</td>\n",
       "                        <td id=\"T_fef18cf2_8f9b_11ea_96aa_d481d758cadfrow2_col6\" class=\"data row2 col6\" >85231</td>\n",
       "                        <td id=\"T_fef18cf2_8f9b_11ea_96aa_d481d758cadfrow2_col7\" class=\"data row2 col7\" >98467</td>\n",
       "                        <td id=\"T_fef18cf2_8f9b_11ea_96aa_d481d758cadfrow2_col8\" class=\"data row2 col8\" >352.309890</td>\n",
       "                        <td id=\"T_fef18cf2_8f9b_11ea_96aa_d481d758cadfrow2_col9\" class=\"data row2 col9\" >nan</td>\n",
       "                        <td id=\"T_fef18cf2_8f9b_11ea_96aa_d481d758cadfrow2_col10\" class=\"data row2 col10\" >nan</td>\n",
       "                        <td id=\"T_fef18cf2_8f9b_11ea_96aa_d481d758cadfrow2_col11\" class=\"data row2 col11\" >13.762071</td>\n",
       "                        <td id=\"T_fef18cf2_8f9b_11ea_96aa_d481d758cadfrow2_col12\" class=\"data row2 col12\" >380</td>\n",
       "                        <td id=\"T_fef18cf2_8f9b_11ea_96aa_d481d758cadfrow2_col13\" class=\"data row2 col13\" >ITA</td>\n",
       "            </tr>\n",
       "            <tr>\n",
       "                        <th id=\"T_fef18cf2_8f9b_11ea_96aa_d481d758cadflevel0_row3\" class=\"row_heading level0 row3\" >16</th>\n",
       "                        <td id=\"T_fef18cf2_8f9b_11ea_96aa_d481d758cadfrow3_col0\" class=\"data row3 col0\" >United Kingdom</td>\n",
       "                        <td id=\"T_fef18cf2_8f9b_11ea_96aa_d481d758cadfrow3_col1\" class=\"data row3 col1\" >2020-05-06 12:32:27</td>\n",
       "                        <td id=\"T_fef18cf2_8f9b_11ea_96aa_d481d758cadfrow3_col2\" class=\"data row3 col2\" >55.000000</td>\n",
       "                        <td id=\"T_fef18cf2_8f9b_11ea_96aa_d481d758cadfrow3_col3\" class=\"data row3 col3\" >-3.000000</td>\n",
       "                        <td id=\"T_fef18cf2_8f9b_11ea_96aa_d481d758cadfrow3_col4\" class=\"data row3 col4\" >196243</td>\n",
       "                        <td id=\"T_fef18cf2_8f9b_11ea_96aa_d481d758cadfrow3_col5\" class=\"data row3 col5\" >29501</td>\n",
       "                        <td id=\"T_fef18cf2_8f9b_11ea_96aa_d481d758cadfrow3_col6\" class=\"data row3 col6\" >926</td>\n",
       "                        <td id=\"T_fef18cf2_8f9b_11ea_96aa_d481d758cadfrow3_col7\" class=\"data row3 col7\" >165816</td>\n",
       "                        <td id=\"T_fef18cf2_8f9b_11ea_96aa_d481d758cadfrow3_col8\" class=\"data row3 col8\" >289.077260</td>\n",
       "                        <td id=\"T_fef18cf2_8f9b_11ea_96aa_d481d758cadfrow3_col9\" class=\"data row3 col9\" >nan</td>\n",
       "                        <td id=\"T_fef18cf2_8f9b_11ea_96aa_d481d758cadfrow3_col10\" class=\"data row3 col10\" >nan</td>\n",
       "                        <td id=\"T_fef18cf2_8f9b_11ea_96aa_d481d758cadfrow3_col11\" class=\"data row3 col11\" >15.032893</td>\n",
       "                        <td id=\"T_fef18cf2_8f9b_11ea_96aa_d481d758cadfrow3_col12\" class=\"data row3 col12\" >826</td>\n",
       "                        <td id=\"T_fef18cf2_8f9b_11ea_96aa_d481d758cadfrow3_col13\" class=\"data row3 col13\" >GBR</td>\n",
       "            </tr>\n",
       "            <tr>\n",
       "                        <th id=\"T_fef18cf2_8f9b_11ea_96aa_d481d758cadflevel0_row4\" class=\"row_heading level0 row4\" >6</th>\n",
       "                        <td id=\"T_fef18cf2_8f9b_11ea_96aa_d481d758cadfrow4_col0\" class=\"data row4 col0\" >France</td>\n",
       "                        <td id=\"T_fef18cf2_8f9b_11ea_96aa_d481d758cadfrow4_col1\" class=\"data row4 col1\" >2020-05-06 12:32:27</td>\n",
       "                        <td id=\"T_fef18cf2_8f9b_11ea_96aa_d481d758cadfrow4_col2\" class=\"data row4 col2\" >46.227600</td>\n",
       "                        <td id=\"T_fef18cf2_8f9b_11ea_96aa_d481d758cadfrow4_col3\" class=\"data row4 col3\" >2.213700</td>\n",
       "                        <td id=\"T_fef18cf2_8f9b_11ea_96aa_d481d758cadfrow4_col4\" class=\"data row4 col4\" >170694</td>\n",
       "                        <td id=\"T_fef18cf2_8f9b_11ea_96aa_d481d758cadfrow4_col5\" class=\"data row4 col5\" >25538</td>\n",
       "                        <td id=\"T_fef18cf2_8f9b_11ea_96aa_d481d758cadfrow4_col6\" class=\"data row4 col6\" >52859</td>\n",
       "                        <td id=\"T_fef18cf2_8f9b_11ea_96aa_d481d758cadfrow4_col7\" class=\"data row4 col7\" >92297</td>\n",
       "                        <td id=\"T_fef18cf2_8f9b_11ea_96aa_d481d758cadfrow4_col8\" class=\"data row4 col8\" >261.505770</td>\n",
       "                        <td id=\"T_fef18cf2_8f9b_11ea_96aa_d481d758cadfrow4_col9\" class=\"data row4 col9\" >nan</td>\n",
       "                        <td id=\"T_fef18cf2_8f9b_11ea_96aa_d481d758cadfrow4_col10\" class=\"data row4 col10\" >nan</td>\n",
       "                        <td id=\"T_fef18cf2_8f9b_11ea_96aa_d481d758cadfrow4_col11\" class=\"data row4 col11\" >14.961276</td>\n",
       "                        <td id=\"T_fef18cf2_8f9b_11ea_96aa_d481d758cadfrow4_col12\" class=\"data row4 col12\" >250</td>\n",
       "                        <td id=\"T_fef18cf2_8f9b_11ea_96aa_d481d758cadfrow4_col13\" class=\"data row4 col13\" >FRA</td>\n",
       "            </tr>\n",
       "            <tr>\n",
       "                        <th id=\"T_fef18cf2_8f9b_11ea_96aa_d481d758cadflevel0_row5\" class=\"row_heading level0 row5\" >7</th>\n",
       "                        <td id=\"T_fef18cf2_8f9b_11ea_96aa_d481d758cadfrow5_col0\" class=\"data row5 col0\" >Germany</td>\n",
       "                        <td id=\"T_fef18cf2_8f9b_11ea_96aa_d481d758cadfrow5_col1\" class=\"data row5 col1\" >2020-05-06 12:32:27</td>\n",
       "                        <td id=\"T_fef18cf2_8f9b_11ea_96aa_d481d758cadfrow5_col2\" class=\"data row5 col2\" >51.165700</td>\n",
       "                        <td id=\"T_fef18cf2_8f9b_11ea_96aa_d481d758cadfrow5_col3\" class=\"data row5 col3\" >10.451500</td>\n",
       "                        <td id=\"T_fef18cf2_8f9b_11ea_96aa_d481d758cadfrow5_col4\" class=\"data row5 col4\" >167007</td>\n",
       "                        <td id=\"T_fef18cf2_8f9b_11ea_96aa_d481d758cadfrow5_col5\" class=\"data row5 col5\" >6993</td>\n",
       "                        <td id=\"T_fef18cf2_8f9b_11ea_96aa_d481d758cadfrow5_col6\" class=\"data row5 col6\" >137400</td>\n",
       "                        <td id=\"T_fef18cf2_8f9b_11ea_96aa_d481d758cadfrow5_col7\" class=\"data row5 col7\" >22614</td>\n",
       "                        <td id=\"T_fef18cf2_8f9b_11ea_96aa_d481d758cadfrow5_col8\" class=\"data row5 col8\" >199.330552</td>\n",
       "                        <td id=\"T_fef18cf2_8f9b_11ea_96aa_d481d758cadfrow5_col9\" class=\"data row5 col9\" >nan</td>\n",
       "                        <td id=\"T_fef18cf2_8f9b_11ea_96aa_d481d758cadfrow5_col10\" class=\"data row5 col10\" >nan</td>\n",
       "                        <td id=\"T_fef18cf2_8f9b_11ea_96aa_d481d758cadfrow5_col11\" class=\"data row5 col11\" >4.187250</td>\n",
       "                        <td id=\"T_fef18cf2_8f9b_11ea_96aa_d481d758cadfrow5_col12\" class=\"data row5 col12\" >276</td>\n",
       "                        <td id=\"T_fef18cf2_8f9b_11ea_96aa_d481d758cadfrow5_col13\" class=\"data row5 col13\" >DEU</td>\n",
       "            </tr>\n",
       "            <tr>\n",
       "                        <th id=\"T_fef18cf2_8f9b_11ea_96aa_d481d758cadflevel0_row6\" class=\"row_heading level0 row6\" >13</th>\n",
       "                        <td id=\"T_fef18cf2_8f9b_11ea_96aa_d481d758cadfrow6_col0\" class=\"data row6 col0\" >Russia</td>\n",
       "                        <td id=\"T_fef18cf2_8f9b_11ea_96aa_d481d758cadfrow6_col1\" class=\"data row6 col1\" >2020-05-06 12:32:27</td>\n",
       "                        <td id=\"T_fef18cf2_8f9b_11ea_96aa_d481d758cadfrow6_col2\" class=\"data row6 col2\" >61.524000</td>\n",
       "                        <td id=\"T_fef18cf2_8f9b_11ea_96aa_d481d758cadfrow6_col3\" class=\"data row6 col3\" >105.318800</td>\n",
       "                        <td id=\"T_fef18cf2_8f9b_11ea_96aa_d481d758cadfrow6_col4\" class=\"data row6 col4\" >165929</td>\n",
       "                        <td id=\"T_fef18cf2_8f9b_11ea_96aa_d481d758cadfrow6_col5\" class=\"data row6 col5\" >1537</td>\n",
       "                        <td id=\"T_fef18cf2_8f9b_11ea_96aa_d481d758cadfrow6_col6\" class=\"data row6 col6\" >21327</td>\n",
       "                        <td id=\"T_fef18cf2_8f9b_11ea_96aa_d481d758cadfrow6_col7\" class=\"data row6 col7\" >143065</td>\n",
       "                        <td id=\"T_fef18cf2_8f9b_11ea_96aa_d481d758cadfrow6_col8\" class=\"data row6 col8\" >113.701041</td>\n",
       "                        <td id=\"T_fef18cf2_8f9b_11ea_96aa_d481d758cadfrow6_col9\" class=\"data row6 col9\" >nan</td>\n",
       "                        <td id=\"T_fef18cf2_8f9b_11ea_96aa_d481d758cadfrow6_col10\" class=\"data row6 col10\" >nan</td>\n",
       "                        <td id=\"T_fef18cf2_8f9b_11ea_96aa_d481d758cadfrow6_col11\" class=\"data row6 col11\" >0.926300</td>\n",
       "                        <td id=\"T_fef18cf2_8f9b_11ea_96aa_d481d758cadfrow6_col12\" class=\"data row6 col12\" >643</td>\n",
       "                        <td id=\"T_fef18cf2_8f9b_11ea_96aa_d481d758cadfrow6_col13\" class=\"data row6 col13\" >RUS</td>\n",
       "            </tr>\n",
       "            <tr>\n",
       "                        <th id=\"T_fef18cf2_8f9b_11ea_96aa_d481d758cadflevel0_row7\" class=\"row_heading level0 row7\" >174</th>\n",
       "                        <td id=\"T_fef18cf2_8f9b_11ea_96aa_d481d758cadfrow7_col0\" class=\"data row7 col0\" >Turkey</td>\n",
       "                        <td id=\"T_fef18cf2_8f9b_11ea_96aa_d481d758cadfrow7_col1\" class=\"data row7 col1\" >2020-05-06 12:32:27</td>\n",
       "                        <td id=\"T_fef18cf2_8f9b_11ea_96aa_d481d758cadfrow7_col2\" class=\"data row7 col2\" >38.963700</td>\n",
       "                        <td id=\"T_fef18cf2_8f9b_11ea_96aa_d481d758cadfrow7_col3\" class=\"data row7 col3\" >35.243300</td>\n",
       "                        <td id=\"T_fef18cf2_8f9b_11ea_96aa_d481d758cadfrow7_col4\" class=\"data row7 col4\" >129491</td>\n",
       "                        <td id=\"T_fef18cf2_8f9b_11ea_96aa_d481d758cadfrow7_col5\" class=\"data row7 col5\" >3520</td>\n",
       "                        <td id=\"T_fef18cf2_8f9b_11ea_96aa_d481d758cadfrow7_col6\" class=\"data row7 col6\" >73285</td>\n",
       "                        <td id=\"T_fef18cf2_8f9b_11ea_96aa_d481d758cadfrow7_col7\" class=\"data row7 col7\" >52686</td>\n",
       "                        <td id=\"T_fef18cf2_8f9b_11ea_96aa_d481d758cadfrow7_col8\" class=\"data row7 col8\" >153.536202</td>\n",
       "                        <td id=\"T_fef18cf2_8f9b_11ea_96aa_d481d758cadfrow7_col9\" class=\"data row7 col9\" >nan</td>\n",
       "                        <td id=\"T_fef18cf2_8f9b_11ea_96aa_d481d758cadfrow7_col10\" class=\"data row7 col10\" >nan</td>\n",
       "                        <td id=\"T_fef18cf2_8f9b_11ea_96aa_d481d758cadfrow7_col11\" class=\"data row7 col11\" >2.718336</td>\n",
       "                        <td id=\"T_fef18cf2_8f9b_11ea_96aa_d481d758cadfrow7_col12\" class=\"data row7 col12\" >792</td>\n",
       "                        <td id=\"T_fef18cf2_8f9b_11ea_96aa_d481d758cadfrow7_col13\" class=\"data row7 col13\" >TUR</td>\n",
       "            </tr>\n",
       "            <tr>\n",
       "                        <th id=\"T_fef18cf2_8f9b_11ea_96aa_d481d758cadflevel0_row8\" class=\"row_heading level0 row8\" >39</th>\n",
       "                        <td id=\"T_fef18cf2_8f9b_11ea_96aa_d481d758cadfrow8_col0\" class=\"data row8 col0\" >Brazil</td>\n",
       "                        <td id=\"T_fef18cf2_8f9b_11ea_96aa_d481d758cadfrow8_col1\" class=\"data row8 col1\" >2020-05-06 12:32:27</td>\n",
       "                        <td id=\"T_fef18cf2_8f9b_11ea_96aa_d481d758cadfrow8_col2\" class=\"data row8 col2\" >-14.235000</td>\n",
       "                        <td id=\"T_fef18cf2_8f9b_11ea_96aa_d481d758cadfrow8_col3\" class=\"data row8 col3\" >-51.925300</td>\n",
       "                        <td id=\"T_fef18cf2_8f9b_11ea_96aa_d481d758cadfrow8_col4\" class=\"data row8 col4\" >116299</td>\n",
       "                        <td id=\"T_fef18cf2_8f9b_11ea_96aa_d481d758cadfrow8_col5\" class=\"data row8 col5\" >7966</td>\n",
       "                        <td id=\"T_fef18cf2_8f9b_11ea_96aa_d481d758cadfrow8_col6\" class=\"data row8 col6\" >48221</td>\n",
       "                        <td id=\"T_fef18cf2_8f9b_11ea_96aa_d481d758cadfrow8_col7\" class=\"data row8 col7\" >60112</td>\n",
       "                        <td id=\"T_fef18cf2_8f9b_11ea_96aa_d481d758cadfrow8_col8\" class=\"data row8 col8\" >54.713645</td>\n",
       "                        <td id=\"T_fef18cf2_8f9b_11ea_96aa_d481d758cadfrow8_col9\" class=\"data row8 col9\" >nan</td>\n",
       "                        <td id=\"T_fef18cf2_8f9b_11ea_96aa_d481d758cadfrow8_col10\" class=\"data row8 col10\" >nan</td>\n",
       "                        <td id=\"T_fef18cf2_8f9b_11ea_96aa_d481d758cadfrow8_col11\" class=\"data row8 col11\" >6.849586</td>\n",
       "                        <td id=\"T_fef18cf2_8f9b_11ea_96aa_d481d758cadfrow8_col12\" class=\"data row8 col12\" >76</td>\n",
       "                        <td id=\"T_fef18cf2_8f9b_11ea_96aa_d481d758cadfrow8_col13\" class=\"data row8 col13\" >BRA</td>\n",
       "            </tr>\n",
       "            <tr>\n",
       "                        <th id=\"T_fef18cf2_8f9b_11ea_96aa_d481d758cadflevel0_row9\" class=\"row_heading level0 row9\" >90</th>\n",
       "                        <td id=\"T_fef18cf2_8f9b_11ea_96aa_d481d758cadfrow9_col0\" class=\"data row9 col0\" >Iran</td>\n",
       "                        <td id=\"T_fef18cf2_8f9b_11ea_96aa_d481d758cadfrow9_col1\" class=\"data row9 col1\" >2020-05-06 12:32:27</td>\n",
       "                        <td id=\"T_fef18cf2_8f9b_11ea_96aa_d481d758cadfrow9_col2\" class=\"data row9 col2\" >32.427908</td>\n",
       "                        <td id=\"T_fef18cf2_8f9b_11ea_96aa_d481d758cadfrow9_col3\" class=\"data row9 col3\" >53.688046</td>\n",
       "                        <td id=\"T_fef18cf2_8f9b_11ea_96aa_d481d758cadfrow9_col4\" class=\"data row9 col4\" >101650</td>\n",
       "                        <td id=\"T_fef18cf2_8f9b_11ea_96aa_d481d758cadfrow9_col5\" class=\"data row9 col5\" >6418</td>\n",
       "                        <td id=\"T_fef18cf2_8f9b_11ea_96aa_d481d758cadfrow9_col6\" class=\"data row9 col6\" >81587</td>\n",
       "                        <td id=\"T_fef18cf2_8f9b_11ea_96aa_d481d758cadfrow9_col7\" class=\"data row9 col7\" >13645</td>\n",
       "                        <td id=\"T_fef18cf2_8f9b_11ea_96aa_d481d758cadfrow9_col8\" class=\"data row9 col8\" >121.022058</td>\n",
       "                        <td id=\"T_fef18cf2_8f9b_11ea_96aa_d481d758cadfrow9_col9\" class=\"data row9 col9\" >nan</td>\n",
       "                        <td id=\"T_fef18cf2_8f9b_11ea_96aa_d481d758cadfrow9_col10\" class=\"data row9 col10\" >nan</td>\n",
       "                        <td id=\"T_fef18cf2_8f9b_11ea_96aa_d481d758cadfrow9_col11\" class=\"data row9 col11\" >6.313822</td>\n",
       "                        <td id=\"T_fef18cf2_8f9b_11ea_96aa_d481d758cadfrow9_col12\" class=\"data row9 col12\" >364</td>\n",
       "                        <td id=\"T_fef18cf2_8f9b_11ea_96aa_d481d758cadfrow9_col13\" class=\"data row9 col13\" >IRN</td>\n",
       "            </tr>\n",
       "    </tbody></table>"
      ],
      "text/plain": [
       "<pandas.io.formats.style.Styler at 0x1151616d0>"
      ]
     },
     "execution_count": 9,
     "metadata": {},
     "output_type": "execute_result"
    }
   ],
   "source": [
    "# Countries with the Highest Number Of Confirmed Cases\n",
    "\n",
    "def highlight_cols(x):\n",
    "    temp_df = pd.DataFrame('', index = x.index, columns = x.columns)\n",
    "    red = 'background-color: red'\n",
    "    purple = 'background-color: purple'\n",
    "    grey = 'background-color: grey'\n",
    "    yellow = 'background-color: yellow'\n",
    "    temp_df.iloc[:, 4] = red\n",
    "    temp_df.iloc[:, 5] = purple\n",
    "    temp_df.iloc[:, 6] = grey\n",
    "    temp_df.iloc[:, 0] = yellow\n",
    "    return temp_df\n",
    "    \n",
    "sorted_country_cases = country_cases.sort_values('confirmed', ascending = False)\n",
    "sorted_country_cases.head(10).style.apply(highlight_cols, axis=None)"
   ]
  },
  {
   "cell_type": "code",
   "execution_count": 12,
   "metadata": {},
   "outputs": [
    {
     "data": {
      "application/vnd.plotly.v1+json": {
       "config": {
        "plotlyServerURL": "https://plot.ly"
       },
       "data": [
        {
         "hovertemplate": "<b>%{hovertext}</b><br><br>country=%{x}<br>confirmed=%{marker.color}<extra></extra>",
         "hovertext": [
          "US",
          "Spain",
          "Italy",
          "United Kingdom",
          "France",
          "Germany",
          "Russia",
          "Turkey",
          "Brazil",
          "Iran"
         ],
         "legendgroup": "",
         "marker": {
          "color": [
           1204475,
           219329,
           213013,
           196243,
           170694,
           167007,
           165929,
           129491,
           116299,
           101650
          ],
          "coloraxis": "coloraxis",
          "size": [
           1204475,
           219329,
           213013,
           196243,
           170694,
           167007,
           165929,
           129491,
           116299,
           101650
          ],
          "sizemode": "area",
          "sizeref": 481.79,
          "symbol": "circle"
         },
         "mode": "markers",
         "name": "",
         "showlegend": false,
         "type": "scatter",
         "x": [
          "US",
          "Spain",
          "Italy",
          "United Kingdom",
          "France",
          "Germany",
          "Russia",
          "Turkey",
          "Brazil",
          "Iran"
         ],
         "xaxis": "x",
         "y": [
          1204475,
          219329,
          213013,
          196243,
          170694,
          167007,
          165929,
          129491,
          116299,
          101650
         ],
         "yaxis": "y"
        }
       ],
       "layout": {
        "coloraxis": {
         "colorbar": {
          "title": {
           "text": "confirmed"
          }
         },
         "colorscale": [
          [
           0,
           "#0d0887"
          ],
          [
           0.1111111111111111,
           "#46039f"
          ],
          [
           0.2222222222222222,
           "#7201a8"
          ],
          [
           0.3333333333333333,
           "#9c179e"
          ],
          [
           0.4444444444444444,
           "#bd3786"
          ],
          [
           0.5555555555555556,
           "#d8576b"
          ],
          [
           0.6666666666666666,
           "#ed7953"
          ],
          [
           0.7777777777777778,
           "#fb9f3a"
          ],
          [
           0.8888888888888888,
           "#fdca26"
          ],
          [
           1,
           "#f0f921"
          ]
         ]
        },
        "legend": {
         "itemsizing": "constant",
         "tracegroupgap": 0
        },
        "margin": {
         "t": 60
        },
        "template": {
         "data": {
          "bar": [
           {
            "error_x": {
             "color": "#f2f5fa"
            },
            "error_y": {
             "color": "#f2f5fa"
            },
            "marker": {
             "line": {
              "color": "rgb(17,17,17)",
              "width": 0.5
             }
            },
            "type": "bar"
           }
          ],
          "barpolar": [
           {
            "marker": {
             "line": {
              "color": "rgb(17,17,17)",
              "width": 0.5
             }
            },
            "type": "barpolar"
           }
          ],
          "carpet": [
           {
            "aaxis": {
             "endlinecolor": "#A2B1C6",
             "gridcolor": "#506784",
             "linecolor": "#506784",
             "minorgridcolor": "#506784",
             "startlinecolor": "#A2B1C6"
            },
            "baxis": {
             "endlinecolor": "#A2B1C6",
             "gridcolor": "#506784",
             "linecolor": "#506784",
             "minorgridcolor": "#506784",
             "startlinecolor": "#A2B1C6"
            },
            "type": "carpet"
           }
          ],
          "choropleth": [
           {
            "colorbar": {
             "outlinewidth": 0,
             "ticks": ""
            },
            "type": "choropleth"
           }
          ],
          "contour": [
           {
            "colorbar": {
             "outlinewidth": 0,
             "ticks": ""
            },
            "colorscale": [
             [
              0,
              "#0d0887"
             ],
             [
              0.1111111111111111,
              "#46039f"
             ],
             [
              0.2222222222222222,
              "#7201a8"
             ],
             [
              0.3333333333333333,
              "#9c179e"
             ],
             [
              0.4444444444444444,
              "#bd3786"
             ],
             [
              0.5555555555555556,
              "#d8576b"
             ],
             [
              0.6666666666666666,
              "#ed7953"
             ],
             [
              0.7777777777777778,
              "#fb9f3a"
             ],
             [
              0.8888888888888888,
              "#fdca26"
             ],
             [
              1,
              "#f0f921"
             ]
            ],
            "type": "contour"
           }
          ],
          "contourcarpet": [
           {
            "colorbar": {
             "outlinewidth": 0,
             "ticks": ""
            },
            "type": "contourcarpet"
           }
          ],
          "heatmap": [
           {
            "colorbar": {
             "outlinewidth": 0,
             "ticks": ""
            },
            "colorscale": [
             [
              0,
              "#0d0887"
             ],
             [
              0.1111111111111111,
              "#46039f"
             ],
             [
              0.2222222222222222,
              "#7201a8"
             ],
             [
              0.3333333333333333,
              "#9c179e"
             ],
             [
              0.4444444444444444,
              "#bd3786"
             ],
             [
              0.5555555555555556,
              "#d8576b"
             ],
             [
              0.6666666666666666,
              "#ed7953"
             ],
             [
              0.7777777777777778,
              "#fb9f3a"
             ],
             [
              0.8888888888888888,
              "#fdca26"
             ],
             [
              1,
              "#f0f921"
             ]
            ],
            "type": "heatmap"
           }
          ],
          "heatmapgl": [
           {
            "colorbar": {
             "outlinewidth": 0,
             "ticks": ""
            },
            "colorscale": [
             [
              0,
              "#0d0887"
             ],
             [
              0.1111111111111111,
              "#46039f"
             ],
             [
              0.2222222222222222,
              "#7201a8"
             ],
             [
              0.3333333333333333,
              "#9c179e"
             ],
             [
              0.4444444444444444,
              "#bd3786"
             ],
             [
              0.5555555555555556,
              "#d8576b"
             ],
             [
              0.6666666666666666,
              "#ed7953"
             ],
             [
              0.7777777777777778,
              "#fb9f3a"
             ],
             [
              0.8888888888888888,
              "#fdca26"
             ],
             [
              1,
              "#f0f921"
             ]
            ],
            "type": "heatmapgl"
           }
          ],
          "histogram": [
           {
            "marker": {
             "colorbar": {
              "outlinewidth": 0,
              "ticks": ""
             }
            },
            "type": "histogram"
           }
          ],
          "histogram2d": [
           {
            "colorbar": {
             "outlinewidth": 0,
             "ticks": ""
            },
            "colorscale": [
             [
              0,
              "#0d0887"
             ],
             [
              0.1111111111111111,
              "#46039f"
             ],
             [
              0.2222222222222222,
              "#7201a8"
             ],
             [
              0.3333333333333333,
              "#9c179e"
             ],
             [
              0.4444444444444444,
              "#bd3786"
             ],
             [
              0.5555555555555556,
              "#d8576b"
             ],
             [
              0.6666666666666666,
              "#ed7953"
             ],
             [
              0.7777777777777778,
              "#fb9f3a"
             ],
             [
              0.8888888888888888,
              "#fdca26"
             ],
             [
              1,
              "#f0f921"
             ]
            ],
            "type": "histogram2d"
           }
          ],
          "histogram2dcontour": [
           {
            "colorbar": {
             "outlinewidth": 0,
             "ticks": ""
            },
            "colorscale": [
             [
              0,
              "#0d0887"
             ],
             [
              0.1111111111111111,
              "#46039f"
             ],
             [
              0.2222222222222222,
              "#7201a8"
             ],
             [
              0.3333333333333333,
              "#9c179e"
             ],
             [
              0.4444444444444444,
              "#bd3786"
             ],
             [
              0.5555555555555556,
              "#d8576b"
             ],
             [
              0.6666666666666666,
              "#ed7953"
             ],
             [
              0.7777777777777778,
              "#fb9f3a"
             ],
             [
              0.8888888888888888,
              "#fdca26"
             ],
             [
              1,
              "#f0f921"
             ]
            ],
            "type": "histogram2dcontour"
           }
          ],
          "mesh3d": [
           {
            "colorbar": {
             "outlinewidth": 0,
             "ticks": ""
            },
            "type": "mesh3d"
           }
          ],
          "parcoords": [
           {
            "line": {
             "colorbar": {
              "outlinewidth": 0,
              "ticks": ""
             }
            },
            "type": "parcoords"
           }
          ],
          "pie": [
           {
            "automargin": true,
            "type": "pie"
           }
          ],
          "scatter": [
           {
            "marker": {
             "line": {
              "color": "#283442"
             }
            },
            "type": "scatter"
           }
          ],
          "scatter3d": [
           {
            "line": {
             "colorbar": {
              "outlinewidth": 0,
              "ticks": ""
             }
            },
            "marker": {
             "colorbar": {
              "outlinewidth": 0,
              "ticks": ""
             }
            },
            "type": "scatter3d"
           }
          ],
          "scattercarpet": [
           {
            "marker": {
             "colorbar": {
              "outlinewidth": 0,
              "ticks": ""
             }
            },
            "type": "scattercarpet"
           }
          ],
          "scattergeo": [
           {
            "marker": {
             "colorbar": {
              "outlinewidth": 0,
              "ticks": ""
             }
            },
            "type": "scattergeo"
           }
          ],
          "scattergl": [
           {
            "marker": {
             "line": {
              "color": "#283442"
             }
            },
            "type": "scattergl"
           }
          ],
          "scattermapbox": [
           {
            "marker": {
             "colorbar": {
              "outlinewidth": 0,
              "ticks": ""
             }
            },
            "type": "scattermapbox"
           }
          ],
          "scatterpolar": [
           {
            "marker": {
             "colorbar": {
              "outlinewidth": 0,
              "ticks": ""
             }
            },
            "type": "scatterpolar"
           }
          ],
          "scatterpolargl": [
           {
            "marker": {
             "colorbar": {
              "outlinewidth": 0,
              "ticks": ""
             }
            },
            "type": "scatterpolargl"
           }
          ],
          "scatterternary": [
           {
            "marker": {
             "colorbar": {
              "outlinewidth": 0,
              "ticks": ""
             }
            },
            "type": "scatterternary"
           }
          ],
          "surface": [
           {
            "colorbar": {
             "outlinewidth": 0,
             "ticks": ""
            },
            "colorscale": [
             [
              0,
              "#0d0887"
             ],
             [
              0.1111111111111111,
              "#46039f"
             ],
             [
              0.2222222222222222,
              "#7201a8"
             ],
             [
              0.3333333333333333,
              "#9c179e"
             ],
             [
              0.4444444444444444,
              "#bd3786"
             ],
             [
              0.5555555555555556,
              "#d8576b"
             ],
             [
              0.6666666666666666,
              "#ed7953"
             ],
             [
              0.7777777777777778,
              "#fb9f3a"
             ],
             [
              0.8888888888888888,
              "#fdca26"
             ],
             [
              1,
              "#f0f921"
             ]
            ],
            "type": "surface"
           }
          ],
          "table": [
           {
            "cells": {
             "fill": {
              "color": "#506784"
             },
             "line": {
              "color": "rgb(17,17,17)"
             }
            },
            "header": {
             "fill": {
              "color": "#2a3f5f"
             },
             "line": {
              "color": "rgb(17,17,17)"
             }
            },
            "type": "table"
           }
          ]
         },
         "layout": {
          "annotationdefaults": {
           "arrowcolor": "#f2f5fa",
           "arrowhead": 0,
           "arrowwidth": 1
          },
          "coloraxis": {
           "colorbar": {
            "outlinewidth": 0,
            "ticks": ""
           }
          },
          "colorscale": {
           "diverging": [
            [
             0,
             "#8e0152"
            ],
            [
             0.1,
             "#c51b7d"
            ],
            [
             0.2,
             "#de77ae"
            ],
            [
             0.3,
             "#f1b6da"
            ],
            [
             0.4,
             "#fde0ef"
            ],
            [
             0.5,
             "#f7f7f7"
            ],
            [
             0.6,
             "#e6f5d0"
            ],
            [
             0.7,
             "#b8e186"
            ],
            [
             0.8,
             "#7fbc41"
            ],
            [
             0.9,
             "#4d9221"
            ],
            [
             1,
             "#276419"
            ]
           ],
           "sequential": [
            [
             0,
             "#0d0887"
            ],
            [
             0.1111111111111111,
             "#46039f"
            ],
            [
             0.2222222222222222,
             "#7201a8"
            ],
            [
             0.3333333333333333,
             "#9c179e"
            ],
            [
             0.4444444444444444,
             "#bd3786"
            ],
            [
             0.5555555555555556,
             "#d8576b"
            ],
            [
             0.6666666666666666,
             "#ed7953"
            ],
            [
             0.7777777777777778,
             "#fb9f3a"
            ],
            [
             0.8888888888888888,
             "#fdca26"
            ],
            [
             1,
             "#f0f921"
            ]
           ],
           "sequentialminus": [
            [
             0,
             "#0d0887"
            ],
            [
             0.1111111111111111,
             "#46039f"
            ],
            [
             0.2222222222222222,
             "#7201a8"
            ],
            [
             0.3333333333333333,
             "#9c179e"
            ],
            [
             0.4444444444444444,
             "#bd3786"
            ],
            [
             0.5555555555555556,
             "#d8576b"
            ],
            [
             0.6666666666666666,
             "#ed7953"
            ],
            [
             0.7777777777777778,
             "#fb9f3a"
            ],
            [
             0.8888888888888888,
             "#fdca26"
            ],
            [
             1,
             "#f0f921"
            ]
           ]
          },
          "colorway": [
           "#636efa",
           "#EF553B",
           "#00cc96",
           "#ab63fa",
           "#FFA15A",
           "#19d3f3",
           "#FF6692",
           "#B6E880",
           "#FF97FF",
           "#FECB52"
          ],
          "font": {
           "color": "#f2f5fa"
          },
          "geo": {
           "bgcolor": "rgb(17,17,17)",
           "lakecolor": "rgb(17,17,17)",
           "landcolor": "rgb(17,17,17)",
           "showlakes": true,
           "showland": true,
           "subunitcolor": "#506784"
          },
          "hoverlabel": {
           "align": "left"
          },
          "hovermode": "closest",
          "mapbox": {
           "style": "dark"
          },
          "paper_bgcolor": "rgb(17,17,17)",
          "plot_bgcolor": "rgb(17,17,17)",
          "polar": {
           "angularaxis": {
            "gridcolor": "#506784",
            "linecolor": "#506784",
            "ticks": ""
           },
           "bgcolor": "rgb(17,17,17)",
           "radialaxis": {
            "gridcolor": "#506784",
            "linecolor": "#506784",
            "ticks": ""
           }
          },
          "scene": {
           "xaxis": {
            "backgroundcolor": "rgb(17,17,17)",
            "gridcolor": "#506784",
            "gridwidth": 2,
            "linecolor": "#506784",
            "showbackground": true,
            "ticks": "",
            "zerolinecolor": "#C8D4E3"
           },
           "yaxis": {
            "backgroundcolor": "rgb(17,17,17)",
            "gridcolor": "#506784",
            "gridwidth": 2,
            "linecolor": "#506784",
            "showbackground": true,
            "ticks": "",
            "zerolinecolor": "#C8D4E3"
           },
           "zaxis": {
            "backgroundcolor": "rgb(17,17,17)",
            "gridcolor": "#506784",
            "gridwidth": 2,
            "linecolor": "#506784",
            "showbackground": true,
            "ticks": "",
            "zerolinecolor": "#C8D4E3"
           }
          },
          "shapedefaults": {
           "line": {
            "color": "#f2f5fa"
           }
          },
          "sliderdefaults": {
           "bgcolor": "#C8D4E3",
           "bordercolor": "rgb(17,17,17)",
           "borderwidth": 1,
           "tickwidth": 0
          },
          "ternary": {
           "aaxis": {
            "gridcolor": "#506784",
            "linecolor": "#506784",
            "ticks": ""
           },
           "baxis": {
            "gridcolor": "#506784",
            "linecolor": "#506784",
            "ticks": ""
           },
           "bgcolor": "rgb(17,17,17)",
           "caxis": {
            "gridcolor": "#506784",
            "linecolor": "#506784",
            "ticks": ""
           }
          },
          "title": {
           "x": 0.05
          },
          "updatemenudefaults": {
           "bgcolor": "#506784",
           "borderwidth": 0
          },
          "xaxis": {
           "automargin": true,
           "gridcolor": "#283442",
           "linecolor": "#506784",
           "ticks": "",
           "title": {
            "standoff": 15
           },
           "zerolinecolor": "#283442",
           "zerolinewidth": 2
          },
          "yaxis": {
           "automargin": true,
           "gridcolor": "#283442",
           "linecolor": "#506784",
           "ticks": "",
           "title": {
            "standoff": 15
           },
           "zerolinecolor": "#283442",
           "zerolinewidth": 2
          }
         }
        },
        "xaxis": {
         "anchor": "y",
         "domain": [
          0,
          1
         ],
         "title": {
          "text": "country"
         }
        },
        "yaxis": {
         "anchor": "x",
         "domain": [
          0,
          1
         ],
         "title": {
          "text": "confirmed"
         }
        }
       }
      },
      "text/html": [
       "<div>\n",
       "        \n",
       "        \n",
       "            <div id=\"a72aadff-e806-4180-988b-96a5e7626a83\" class=\"plotly-graph-div\" style=\"height:525px; width:100%;\"></div>\n",
       "            <script type=\"text/javascript\">\n",
       "                require([\"plotly\"], function(Plotly) {\n",
       "                    window.PLOTLYENV=window.PLOTLYENV || {};\n",
       "                    \n",
       "                if (document.getElementById(\"a72aadff-e806-4180-988b-96a5e7626a83\")) {\n",
       "                    Plotly.newPlot(\n",
       "                        'a72aadff-e806-4180-988b-96a5e7626a83',\n",
       "                        [{\"hovertemplate\": \"<b>%{hovertext}</b><br><br>country=%{x}<br>confirmed=%{marker.color}<extra></extra>\", \"hovertext\": [\"US\", \"Spain\", \"Italy\", \"United Kingdom\", \"France\", \"Germany\", \"Russia\", \"Turkey\", \"Brazil\", \"Iran\"], \"legendgroup\": \"\", \"marker\": {\"color\": [1204475, 219329, 213013, 196243, 170694, 167007, 165929, 129491, 116299, 101650], \"coloraxis\": \"coloraxis\", \"size\": [1204475, 219329, 213013, 196243, 170694, 167007, 165929, 129491, 116299, 101650], \"sizemode\": \"area\", \"sizeref\": 481.79, \"symbol\": \"circle\"}, \"mode\": \"markers\", \"name\": \"\", \"showlegend\": false, \"type\": \"scatter\", \"x\": [\"US\", \"Spain\", \"Italy\", \"United Kingdom\", \"France\", \"Germany\", \"Russia\", \"Turkey\", \"Brazil\", \"Iran\"], \"xaxis\": \"x\", \"y\": [1204475, 219329, 213013, 196243, 170694, 167007, 165929, 129491, 116299, 101650], \"yaxis\": \"y\"}],\n",
       "                        {\"coloraxis\": {\"colorbar\": {\"title\": {\"text\": \"confirmed\"}}, \"colorscale\": [[0.0, \"#0d0887\"], [0.1111111111111111, \"#46039f\"], [0.2222222222222222, \"#7201a8\"], [0.3333333333333333, \"#9c179e\"], [0.4444444444444444, \"#bd3786\"], [0.5555555555555556, \"#d8576b\"], [0.6666666666666666, \"#ed7953\"], [0.7777777777777778, \"#fb9f3a\"], [0.8888888888888888, \"#fdca26\"], [1.0, \"#f0f921\"]]}, \"legend\": {\"itemsizing\": \"constant\", \"tracegroupgap\": 0}, \"margin\": {\"t\": 60}, \"template\": {\"data\": {\"bar\": [{\"error_x\": {\"color\": \"#f2f5fa\"}, \"error_y\": {\"color\": \"#f2f5fa\"}, \"marker\": {\"line\": {\"color\": \"rgb(17,17,17)\", \"width\": 0.5}}, \"type\": \"bar\"}], \"barpolar\": [{\"marker\": {\"line\": {\"color\": \"rgb(17,17,17)\", \"width\": 0.5}}, \"type\": \"barpolar\"}], \"carpet\": [{\"aaxis\": {\"endlinecolor\": \"#A2B1C6\", \"gridcolor\": \"#506784\", \"linecolor\": \"#506784\", \"minorgridcolor\": \"#506784\", \"startlinecolor\": \"#A2B1C6\"}, \"baxis\": {\"endlinecolor\": \"#A2B1C6\", \"gridcolor\": \"#506784\", \"linecolor\": \"#506784\", \"minorgridcolor\": \"#506784\", \"startlinecolor\": \"#A2B1C6\"}, \"type\": \"carpet\"}], \"choropleth\": [{\"colorbar\": {\"outlinewidth\": 0, \"ticks\": \"\"}, \"type\": \"choropleth\"}], \"contour\": [{\"colorbar\": {\"outlinewidth\": 0, \"ticks\": \"\"}, \"colorscale\": [[0.0, \"#0d0887\"], [0.1111111111111111, \"#46039f\"], [0.2222222222222222, \"#7201a8\"], [0.3333333333333333, \"#9c179e\"], [0.4444444444444444, \"#bd3786\"], [0.5555555555555556, \"#d8576b\"], [0.6666666666666666, \"#ed7953\"], [0.7777777777777778, \"#fb9f3a\"], [0.8888888888888888, \"#fdca26\"], [1.0, \"#f0f921\"]], \"type\": \"contour\"}], \"contourcarpet\": [{\"colorbar\": {\"outlinewidth\": 0, \"ticks\": \"\"}, \"type\": \"contourcarpet\"}], \"heatmap\": [{\"colorbar\": {\"outlinewidth\": 0, \"ticks\": \"\"}, \"colorscale\": [[0.0, \"#0d0887\"], [0.1111111111111111, \"#46039f\"], [0.2222222222222222, \"#7201a8\"], [0.3333333333333333, \"#9c179e\"], [0.4444444444444444, \"#bd3786\"], [0.5555555555555556, \"#d8576b\"], [0.6666666666666666, \"#ed7953\"], [0.7777777777777778, \"#fb9f3a\"], [0.8888888888888888, \"#fdca26\"], [1.0, \"#f0f921\"]], \"type\": \"heatmap\"}], \"heatmapgl\": [{\"colorbar\": {\"outlinewidth\": 0, \"ticks\": \"\"}, \"colorscale\": [[0.0, \"#0d0887\"], [0.1111111111111111, \"#46039f\"], [0.2222222222222222, \"#7201a8\"], [0.3333333333333333, \"#9c179e\"], [0.4444444444444444, \"#bd3786\"], [0.5555555555555556, \"#d8576b\"], [0.6666666666666666, \"#ed7953\"], [0.7777777777777778, \"#fb9f3a\"], [0.8888888888888888, \"#fdca26\"], [1.0, \"#f0f921\"]], \"type\": \"heatmapgl\"}], \"histogram\": [{\"marker\": {\"colorbar\": {\"outlinewidth\": 0, \"ticks\": \"\"}}, \"type\": \"histogram\"}], \"histogram2d\": [{\"colorbar\": {\"outlinewidth\": 0, \"ticks\": \"\"}, \"colorscale\": [[0.0, \"#0d0887\"], [0.1111111111111111, \"#46039f\"], [0.2222222222222222, \"#7201a8\"], [0.3333333333333333, \"#9c179e\"], [0.4444444444444444, \"#bd3786\"], [0.5555555555555556, \"#d8576b\"], [0.6666666666666666, \"#ed7953\"], [0.7777777777777778, \"#fb9f3a\"], [0.8888888888888888, \"#fdca26\"], [1.0, \"#f0f921\"]], \"type\": \"histogram2d\"}], \"histogram2dcontour\": [{\"colorbar\": {\"outlinewidth\": 0, \"ticks\": \"\"}, \"colorscale\": [[0.0, \"#0d0887\"], [0.1111111111111111, \"#46039f\"], [0.2222222222222222, \"#7201a8\"], [0.3333333333333333, \"#9c179e\"], [0.4444444444444444, \"#bd3786\"], [0.5555555555555556, \"#d8576b\"], [0.6666666666666666, \"#ed7953\"], [0.7777777777777778, \"#fb9f3a\"], [0.8888888888888888, \"#fdca26\"], [1.0, \"#f0f921\"]], \"type\": \"histogram2dcontour\"}], \"mesh3d\": [{\"colorbar\": {\"outlinewidth\": 0, \"ticks\": \"\"}, \"type\": \"mesh3d\"}], \"parcoords\": [{\"line\": {\"colorbar\": {\"outlinewidth\": 0, \"ticks\": \"\"}}, \"type\": \"parcoords\"}], \"pie\": [{\"automargin\": true, \"type\": \"pie\"}], \"scatter\": [{\"marker\": {\"line\": {\"color\": \"#283442\"}}, \"type\": \"scatter\"}], \"scatter3d\": [{\"line\": {\"colorbar\": {\"outlinewidth\": 0, \"ticks\": \"\"}}, \"marker\": {\"colorbar\": {\"outlinewidth\": 0, \"ticks\": \"\"}}, \"type\": \"scatter3d\"}], \"scattercarpet\": [{\"marker\": {\"colorbar\": {\"outlinewidth\": 0, \"ticks\": \"\"}}, \"type\": \"scattercarpet\"}], \"scattergeo\": [{\"marker\": {\"colorbar\": {\"outlinewidth\": 0, \"ticks\": \"\"}}, \"type\": \"scattergeo\"}], \"scattergl\": [{\"marker\": {\"line\": {\"color\": \"#283442\"}}, \"type\": \"scattergl\"}], \"scattermapbox\": [{\"marker\": {\"colorbar\": {\"outlinewidth\": 0, \"ticks\": \"\"}}, \"type\": \"scattermapbox\"}], \"scatterpolar\": [{\"marker\": {\"colorbar\": {\"outlinewidth\": 0, \"ticks\": \"\"}}, \"type\": \"scatterpolar\"}], \"scatterpolargl\": [{\"marker\": {\"colorbar\": {\"outlinewidth\": 0, \"ticks\": \"\"}}, \"type\": \"scatterpolargl\"}], \"scatterternary\": [{\"marker\": {\"colorbar\": {\"outlinewidth\": 0, \"ticks\": \"\"}}, \"type\": \"scatterternary\"}], \"surface\": [{\"colorbar\": {\"outlinewidth\": 0, \"ticks\": \"\"}, \"colorscale\": [[0.0, \"#0d0887\"], [0.1111111111111111, \"#46039f\"], [0.2222222222222222, \"#7201a8\"], [0.3333333333333333, \"#9c179e\"], [0.4444444444444444, \"#bd3786\"], [0.5555555555555556, \"#d8576b\"], [0.6666666666666666, \"#ed7953\"], [0.7777777777777778, \"#fb9f3a\"], [0.8888888888888888, \"#fdca26\"], [1.0, \"#f0f921\"]], \"type\": \"surface\"}], \"table\": [{\"cells\": {\"fill\": {\"color\": \"#506784\"}, \"line\": {\"color\": \"rgb(17,17,17)\"}}, \"header\": {\"fill\": {\"color\": \"#2a3f5f\"}, \"line\": {\"color\": \"rgb(17,17,17)\"}}, \"type\": \"table\"}]}, \"layout\": {\"annotationdefaults\": {\"arrowcolor\": \"#f2f5fa\", \"arrowhead\": 0, \"arrowwidth\": 1}, \"coloraxis\": {\"colorbar\": {\"outlinewidth\": 0, \"ticks\": \"\"}}, \"colorscale\": {\"diverging\": [[0, \"#8e0152\"], [0.1, \"#c51b7d\"], [0.2, \"#de77ae\"], [0.3, \"#f1b6da\"], [0.4, \"#fde0ef\"], [0.5, \"#f7f7f7\"], [0.6, \"#e6f5d0\"], [0.7, \"#b8e186\"], [0.8, \"#7fbc41\"], [0.9, \"#4d9221\"], [1, \"#276419\"]], \"sequential\": [[0.0, \"#0d0887\"], [0.1111111111111111, \"#46039f\"], [0.2222222222222222, \"#7201a8\"], [0.3333333333333333, \"#9c179e\"], [0.4444444444444444, \"#bd3786\"], [0.5555555555555556, \"#d8576b\"], [0.6666666666666666, \"#ed7953\"], [0.7777777777777778, \"#fb9f3a\"], [0.8888888888888888, \"#fdca26\"], [1.0, \"#f0f921\"]], \"sequentialminus\": [[0.0, \"#0d0887\"], [0.1111111111111111, \"#46039f\"], [0.2222222222222222, \"#7201a8\"], [0.3333333333333333, \"#9c179e\"], [0.4444444444444444, \"#bd3786\"], [0.5555555555555556, \"#d8576b\"], [0.6666666666666666, \"#ed7953\"], [0.7777777777777778, \"#fb9f3a\"], [0.8888888888888888, \"#fdca26\"], [1.0, \"#f0f921\"]]}, \"colorway\": [\"#636efa\", \"#EF553B\", \"#00cc96\", \"#ab63fa\", \"#FFA15A\", \"#19d3f3\", \"#FF6692\", \"#B6E880\", \"#FF97FF\", \"#FECB52\"], \"font\": {\"color\": \"#f2f5fa\"}, \"geo\": {\"bgcolor\": \"rgb(17,17,17)\", \"lakecolor\": \"rgb(17,17,17)\", \"landcolor\": \"rgb(17,17,17)\", \"showlakes\": true, \"showland\": true, \"subunitcolor\": \"#506784\"}, \"hoverlabel\": {\"align\": \"left\"}, \"hovermode\": \"closest\", \"mapbox\": {\"style\": \"dark\"}, \"paper_bgcolor\": \"rgb(17,17,17)\", \"plot_bgcolor\": \"rgb(17,17,17)\", \"polar\": {\"angularaxis\": {\"gridcolor\": \"#506784\", \"linecolor\": \"#506784\", \"ticks\": \"\"}, \"bgcolor\": \"rgb(17,17,17)\", \"radialaxis\": {\"gridcolor\": \"#506784\", \"linecolor\": \"#506784\", \"ticks\": \"\"}}, \"scene\": {\"xaxis\": {\"backgroundcolor\": \"rgb(17,17,17)\", \"gridcolor\": \"#506784\", \"gridwidth\": 2, \"linecolor\": \"#506784\", \"showbackground\": true, \"ticks\": \"\", \"zerolinecolor\": \"#C8D4E3\"}, \"yaxis\": {\"backgroundcolor\": \"rgb(17,17,17)\", \"gridcolor\": \"#506784\", \"gridwidth\": 2, \"linecolor\": \"#506784\", \"showbackground\": true, \"ticks\": \"\", \"zerolinecolor\": \"#C8D4E3\"}, \"zaxis\": {\"backgroundcolor\": \"rgb(17,17,17)\", \"gridcolor\": \"#506784\", \"gridwidth\": 2, \"linecolor\": \"#506784\", \"showbackground\": true, \"ticks\": \"\", \"zerolinecolor\": \"#C8D4E3\"}}, \"shapedefaults\": {\"line\": {\"color\": \"#f2f5fa\"}}, \"sliderdefaults\": {\"bgcolor\": \"#C8D4E3\", \"bordercolor\": \"rgb(17,17,17)\", \"borderwidth\": 1, \"tickwidth\": 0}, \"ternary\": {\"aaxis\": {\"gridcolor\": \"#506784\", \"linecolor\": \"#506784\", \"ticks\": \"\"}, \"baxis\": {\"gridcolor\": \"#506784\", \"linecolor\": \"#506784\", \"ticks\": \"\"}, \"bgcolor\": \"rgb(17,17,17)\", \"caxis\": {\"gridcolor\": \"#506784\", \"linecolor\": \"#506784\", \"ticks\": \"\"}}, \"title\": {\"x\": 0.05}, \"updatemenudefaults\": {\"bgcolor\": \"#506784\", \"borderwidth\": 0}, \"xaxis\": {\"automargin\": true, \"gridcolor\": \"#283442\", \"linecolor\": \"#506784\", \"ticks\": \"\", \"title\": {\"standoff\": 15}, \"zerolinecolor\": \"#283442\", \"zerolinewidth\": 2}, \"yaxis\": {\"automargin\": true, \"gridcolor\": \"#283442\", \"linecolor\": \"#506784\", \"ticks\": \"\", \"title\": {\"standoff\": 15}, \"zerolinecolor\": \"#283442\", \"zerolinewidth\": 2}}}, \"xaxis\": {\"anchor\": \"y\", \"domain\": [0.0, 1.0], \"title\": {\"text\": \"country\"}}, \"yaxis\": {\"anchor\": \"x\", \"domain\": [0.0, 1.0], \"title\": {\"text\": \"confirmed\"}}},\n",
       "                        {\"responsive\": true}\n",
       "                    ).then(function(){\n",
       "                            \n",
       "var gd = document.getElementById('a72aadff-e806-4180-988b-96a5e7626a83');\n",
       "var x = new MutationObserver(function (mutations, observer) {{\n",
       "        var display = window.getComputedStyle(gd).display;\n",
       "        if (!display || display === 'none') {{\n",
       "            console.log([gd, 'removed!']);\n",
       "            Plotly.purge(gd);\n",
       "            observer.disconnect();\n",
       "        }}\n",
       "}});\n",
       "\n",
       "// Listen for the removal of the full notebook cells\n",
       "var notebookContainer = gd.closest('#notebook-container');\n",
       "if (notebookContainer) {{\n",
       "    x.observe(notebookContainer, {childList: true});\n",
       "}}\n",
       "\n",
       "// Listen for the clearing of the current output cell\n",
       "var outputEl = gd.closest('.output');\n",
       "if (outputEl) {{\n",
       "    x.observe(outputEl, {childList: true});\n",
       "}}\n",
       "\n",
       "                        })\n",
       "                };\n",
       "                });\n",
       "            </script>\n",
       "        </div>"
      ]
     },
     "metadata": {},
     "output_type": "display_data"
    }
   ],
   "source": [
    "# Scatter Plot Showing Countries with the Highest Number of Confirmed Cases\n",
    "\n",
    "fig = px.scatter(sorted_country_cases.head(10), x = 'country', y = 'confirmed', size='confirmed',\n",
    "                 hover_name = 'country', size_max = 50, template = 'plotly_dark', color = 'confirmed')\n",
    "fig.show()"
   ]
  },
  {
   "cell_type": "code",
   "execution_count": null,
   "metadata": {},
   "outputs": [],
   "source": []
  }
 ],
 "metadata": {
  "kernelspec": {
   "display_name": "Python 3",
   "language": "python",
   "name": "python3"
  },
  "language_info": {
   "codemirror_mode": {
    "name": "ipython",
    "version": 3
   },
   "file_extension": ".py",
   "mimetype": "text/x-python",
   "name": "python",
   "nbconvert_exporter": "python",
   "pygments_lexer": "ipython3",
   "version": "3.7.6"
  }
 },
 "nbformat": 4,
 "nbformat_minor": 4
}
