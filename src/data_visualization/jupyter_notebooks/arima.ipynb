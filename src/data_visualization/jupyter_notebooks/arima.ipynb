{
 "cells": [
  {
   "cell_type": "markdown",
   "metadata": {},
   "source": [
    "# Arima\n",
    "This file contains the ARIMA model that is used to forecast the COVID-19 cases"
   ]
  },
  {
   "cell_type": "markdown",
   "metadata": {},
   "source": [
    "### Imports"
   ]
  },
  {
   "cell_type": "code",
   "execution_count": 136,
   "metadata": {},
   "outputs": [],
   "source": [
    "import sys\n",
    "import pandas as pd\n",
    "import numpy as np\n",
    "import math\n",
    "import plotly.graph_objects as go\n",
    "import plotly\n",
    "from pmdarima import auto_arima\n",
    "from sklearn.model_selection import train_test_split\n",
    "from statsmodels.tsa.statespace.sarimax import SARIMAX\n",
    "from pmdarima.arima.utils import nsdiffs\n",
    "# Ignoring warnings\n",
    "import warnings\n",
    "warnings.filterwarnings(\"ignore\")\n",
    "\n",
    "# To import the main.py file\n",
    "sys.path.append('../')\n",
    "from python_files import main"
   ]
  },
  {
   "cell_type": "code",
   "execution_count": 4,
   "metadata": {},
   "outputs": [
    {
     "data": {
      "text/html": [
       "        <script type=\"text/javascript\">\n",
       "        window.PlotlyConfig = {MathJaxConfig: 'local'};\n",
       "        if (window.MathJax) {MathJax.Hub.Config({SVG: {font: \"STIX-Web\"}});}\n",
       "        if (typeof require !== 'undefined') {\n",
       "        require.undef(\"plotly\");\n",
       "        requirejs.config({\n",
       "            paths: {\n",
       "                'plotly': ['https://cdn.plot.ly/plotly-latest.min']\n",
       "            }\n",
       "        });\n",
       "        require(['plotly'], function(Plotly) {\n",
       "            window._Plotly = Plotly;\n",
       "        });\n",
       "        }\n",
       "        </script>\n",
       "        "
      ]
     },
     "metadata": {},
     "output_type": "display_data"
    }
   ],
   "source": [
    "%matplotlib inline\n",
    "plotly.offline.init_notebook_mode(connected=True)"
   ]
  },
  {
   "cell_type": "markdown",
   "metadata": {},
   "source": [
    "### Data Preprocessing"
   ]
  },
  {
   "cell_type": "code",
   "execution_count": 5,
   "metadata": {},
   "outputs": [],
   "source": [
    "def get_data():\n",
    "    confirmed_global, deaths_global, recovered_global, country_cases = main.collect_data()\n",
    "    \n",
    "    recovered = recovered_global.groupby('country').sum().T\n",
    "    deaths = deaths_global.groupby('country').sum().T\n",
    "    confirmed = confirmed_global.groupby('country').sum().T\n",
    "    \n",
    "    deaths.index = pd.to_datetime(deaths.index, infer_datetime_format=True)\n",
    "    recovered.index = pd.to_datetime(recovered.index, infer_datetime_format=True)\n",
    "    confirmed.index = pd.to_datetime(confirmed.index, infer_datetime_format=True)\n",
    "    \n",
    "    return deaths, recovered, confirmed"
   ]
  },
  {
   "cell_type": "code",
   "execution_count": 6,
   "metadata": {},
   "outputs": [],
   "source": [
    "def create_data_frame(dataframe, country):\n",
    "    deaths, recovered, confirmed = get_data()\n",
    "\n",
    "    if dataframe == 'deaths':\n",
    "        data = pd.DataFrame(index=deaths.index, data=deaths[country].values, columns=['Total'])\n",
    "\n",
    "    elif dataframe == 'recovered':\n",
    "        data = pd.DataFrame(index=recovered.index, data=recovered[country].values, columns=['Total'])\n",
    "\n",
    "    elif dataframe == 'confirmed':\n",
    "        data = pd.DataFrame(index=confirmed.index, data=confirmed[country].values, columns=['Total'])\n",
    "\n",
    "    data = data[(data != 0).all(1)]\n",
    "    \n",
    "    data['Date'] = data.index\n",
    "    cols = [data.columns[-1]] + [col for col in data if col != data.columns[-1]]\n",
    "    data = data[cols]   \n",
    "\n",
    "    return data"
   ]
  },
  {
   "cell_type": "markdown",
   "metadata": {},
   "source": [
    "### Graphing"
   ]
  },
  {
   "cell_type": "code",
   "execution_count": 7,
   "metadata": {},
   "outputs": [],
   "source": [
    "def plot_forecast(data,forecast):\n",
    "    fig = go.Figure()\n",
    "\n",
    "    fig.add_trace(\n",
    "        go.Scatter(\n",
    "            x=data['Date'], y=data['Total'],\n",
    "            mode='lines',\n",
    "            name='Present'\n",
    "        )\n",
    "    )\n",
    "\n",
    "    fig.add_trace(\n",
    "        go.Scatter(\n",
    "            x=forecast.index, y=forecast['cumulative'],\n",
    "            mode='lines',\n",
    "            name='Predictions'\n",
    "        )\n",
    "    )\n",
    "\n",
    "    fig.update_layout(\n",
    "        title={\n",
    "            'text': 'Forecasted Results',\n",
    "            'y': 0.9,\n",
    "            'x': 0.5,\n",
    "            'xanchor': 'center',\n",
    "            'yanchor': 'top'\n",
    "        },\n",
    "        xaxis_title='Date',\n",
    "        yaxis_title='Cases',\n",
    "        legend_title='Legend',\n",
    "        font={\n",
    "            'family': 'Arial',\n",
    "            'size': 15,\n",
    "            'color': 'black'\n",
    "        }\n",
    "    )\n",
    "\n",
    "    return fig"
   ]
  },
  {
   "cell_type": "markdown",
   "metadata": {},
   "source": [
    "### Model Training and Testing"
   ]
  },
  {
   "cell_type": "code",
   "execution_count": 251,
   "metadata": {},
   "outputs": [],
   "source": [
    "def find_params(train_set):\n",
    "    stepwise_model = auto_arima(\n",
    "        train_set, start_p=0, start_q=0,\n",
    "        max_p=1, max_q=1, m=7,\n",
    "        start_P=0, start_Q=0, max_P=1, max_Q=1, seasonal=True,\n",
    "        d=None, D=nsdiffs(train_set,m=7,\n",
    "        max_D=12,\n",
    "        test='ocsb'), n_jobs=-1, trace=True,\n",
    "        error_action='ignore',\n",
    "        suppress_warnings=True,\n",
    "        stepwise=True,method='nm'\n",
    "    )\n",
    "    return stepwise_model"
   ]
  },
  {
   "cell_type": "code",
   "execution_count": 221,
   "metadata": {},
   "outputs": [],
   "source": [
    "def predict_cases(stepwise_model, train, test):\n",
    "    stepwise_model.fit(train)\n",
    "    pred = stepwise_model.predict(n_periods=len(test))\n",
    "\n",
    "    pred = pd.DataFrame(pred, index=test.index, columns=['Prediction'])\n",
    "    pred =  pred.values.flatten()\n",
    "   \n",
    "    return pred"
   ]
  },
  {
   "cell_type": "markdown",
   "metadata": {},
   "source": [
    "### Error Calculation"
   ]
  },
  {
   "cell_type": "code",
   "execution_count": 222,
   "metadata": {},
   "outputs": [],
   "source": [
    "def mape(y_true, y_pred): \n",
    "    y_true, y_pred = np.array(y_true), np.array(y_pred)\n",
    "    return np.mean(np.abs((y_true - y_pred) / y_true)) * 100"
   ]
  },
  {
   "cell_type": "markdown",
   "metadata": {},
   "source": [
    "### Forecasting"
   ]
  },
  {
   "cell_type": "code",
   "execution_count": 223,
   "metadata": {},
   "outputs": [],
   "source": [
    "def future_cases(order, seasonal_order, train, test, data):\n",
    "    model = SARIMAX(\n",
    "        data.diff()['Total'][1:],\n",
    "        order=order,\n",
    "        seasonal_order=seasonal_order,enforce_stationarity=False\n",
    "    )\n",
    "    result = model.fit()\n",
    "\n",
    "    forecast = result.predict(\n",
    "        start=len(data),\n",
    "        end=((len(data)-1) + 14)\n",
    "    ).rename('Forecast')\n",
    "    \n",
    "    forecast_cumulative = []\n",
    "    start = data['Total'][-1]\n",
    "\n",
    "    for i in forecast.values:\n",
    "        start = start + i\n",
    "        forecast_cumulative.append(start)\n",
    "    forecast['cumulative'] = forecast_cumulative\n",
    "    graph = plot_forecast(data, forecast)\n",
    "\n",
    "    return forecast_cumulative, graph"
   ]
  },
  {
   "cell_type": "markdown",
   "metadata": {},
   "source": [
    "### Main Function"
   ]
  },
  {
   "cell_type": "code",
   "execution_count": 224,
   "metadata": {},
   "outputs": [],
   "source": [
    "def arima_predict(df_name, country):\n",
    "    data = create_data_frame(df_name,country)\n",
    "    \n",
    "    train = data['Total'][:len(data)*4//5].diff()[1:]\n",
    "    test = data['Total'][len(data)*4//5:].diff()[1:]\n",
    "    start = data['Total'][-len(test)-1]\n",
    "\n",
    "    model = find_params(train)\n",
    "    pred = predict_cases(model, train, test)\n",
    "    predictions_cumulative=[]\n",
    "\n",
    "    for i in pred :\n",
    "        start = start + i\n",
    "        predictions_cumulative.append(start)\n",
    "\n",
    "    y_test_cumulative = data['Total'][-len(test):]\n",
    "\n",
    "    MAPE = mape(y_test_cumulative, predictions_cumulative)\n",
    "\n",
    "    order=model.get_params()['order']\n",
    "    seasonal_order=model.get_params()['seasonal_order']\n",
    "    forecast, graph = future_cases(order, seasonal_order, train, test, data)\n",
    "\n",
    "    return forecast, graph, MAPE"
   ]
  },
  {
   "cell_type": "markdown",
   "metadata": {},
   "source": [
    "### Example"
   ]
  },
  {
   "cell_type": "code",
   "execution_count": null,
   "metadata": {
    "scrolled": false
   },
   "outputs": [
    {
     "name": "stdout",
     "output_type": "stream",
     "text": [
      "Performing stepwise search to minimize aic\n",
      " ARIMA(0,2,0)(0,0,0)[7]             : AIC=4280.395, Time=0.11 sec\n",
      " ARIMA(1,2,0)(1,0,0)[7]             : AIC=4111.216, Time=0.62 sec\n"
     ]
    }
   ],
   "source": [
    "forecast, graph, error = arima_predict(\"recovered\", \"India\")"
   ]
  },
  {
   "cell_type": "code",
   "execution_count": null,
   "metadata": {},
   "outputs": [],
   "source": [
    "print('Predictions for the next 2 weeks:')\n",
    "for i in range(len(forecast)):\n",
    "    print(int(forecast[i]))"
   ]
  },
  {
   "cell_type": "code",
   "execution_count": null,
   "metadata": {},
   "outputs": [],
   "source": [
    "graph.show()"
   ]
  },
  {
   "cell_type": "code",
   "execution_count": null,
   "metadata": {},
   "outputs": [],
   "source": [
    "print(f\"Allow an error of upto {error}%\")"
   ]
  },
  {
   "cell_type": "code",
   "execution_count": null,
   "metadata": {},
   "outputs": [],
   "source": [
    "forecast"
   ]
  },
  {
   "cell_type": "code",
   "execution_count": null,
   "metadata": {},
   "outputs": [],
   "source": []
  },
  {
   "cell_type": "code",
   "execution_count": null,
   "metadata": {},
   "outputs": [],
   "source": []
  }
 ],
 "metadata": {
  "kernelspec": {
   "display_name": "Python 3",
   "language": "python",
   "name": "python3"
  },
  "language_info": {
   "codemirror_mode": {
    "name": "ipython",
    "version": 3
   },
   "file_extension": ".py",
   "mimetype": "text/x-python",
   "name": "python",
   "nbconvert_exporter": "python",
   "pygments_lexer": "ipython3",
   "version": "3.8.5"
  }
 },
 "nbformat": 4,
 "nbformat_minor": 4
}
