{
  "nbformat": 4,
  "nbformat_minor": 0,
  "metadata": {
    "colab": {
      "name": "Untitled0.ipynb",
      "provenance": []
    },
    "kernelspec": {
      "name": "python3",
      "display_name": "Python 3"
    }
  },
  "cells": [
    {
      "cell_type": "code",
      "metadata": {
        "id": "215xOKDF0PC9"
      },
      "source": [
        "import sys\n",
        "sys.path.append('../')\n",
        "from python_files import main\n",
        "import sys\n",
        "import pandas as pd\n",
        "import plotly.express as px"
      ],
      "execution_count": 5,
      "outputs": []
    },
    {
      "cell_type": "code",
      "metadata": {
        "id": "WbWUOKn70W4G"
      },
      "source": [
        "confirmed_global, deaths_global, recovered_global, country_cases = main.collect_data()"
      ],
      "execution_count": 6,
      "outputs": []
    },
    {
      "cell_type": "code",
      "metadata": {
        "id": "hv5CnWCRGSA3"
      },
      "source": [
        "def unpivot(df):\n",
        "   return df.melt(id_vars = [\"country\"],  value_vars = df.columns[1:])\n"
      ],
      "execution_count": 7,
      "outputs": []
    },
    {
      "cell_type": "code",
      "metadata": {
        "id": "CX3jwbbF0dQT"
      },
      "source": [
        "def take_top10(df):\n",
        "  top = list(df[df[\"variable\"] == df['variable'][df.index[-1]]].sort_values(by=['value'], ascending=False).head(10)[\"country\"])\n",
        "  df = df[df['country'].isin(top)]\n",
        "  return df"
      ],
      "execution_count": 8,
      "outputs": []
    },
    {
      "cell_type": "code",
      "metadata": {
        "id": "gj3XKH0eGsxu"
      },
      "source": [
        "def create_data(df):\n",
        "  new = take_top10(df)\n",
        "  l = list(set(new[\"variable\"]))\n",
        "  l.sort()\n",
        "  l.reverse()\n",
        "  ff= new[new['variable'].isin(l[::5])]\n",
        "  ff.rename(columns = {\"country\": \"Country\",\"variable\" : \"Date\",\"value\": \"Cases\"}, inplace = True)\n",
        "  return ff"
      ],
      "execution_count": 9,
      "outputs": []
    },
    {
      "cell_type": "code",
      "metadata": {
        "id": "dgKcE1C8G-Ad"
      },
      "source": [
        "def plot_fig(ff):\n",
        "  fig = px.bar(ff, x=\"Country\", y=\"Cases\", color=\"Country\",template=\"plotly_dark\",animation_frame=\"Date\", animation_group=\"Country\", range_y=[0,ff[\"Cases\"].max()])\n",
        "  fig.layout.update(showlegend=False)\n",
        "  return fig\n"
      ],
      "execution_count": 10,
      "outputs": []
    },
    {
      "cell_type": "code",
      "metadata": {
        "id": "yKRkg69UHJLS"
      },
      "source": [
        "def animated_barchart(df):\n",
        "  return (plot_fig(create_data(take_top10(unpivot(df)))))"
      ],
      "execution_count": 11,
      "outputs": []
    },
    {
      "cell_type": "code",
      "metadata": {
        "id": "rzdosi2QHoTg",
        "outputId": "70dab48a-c942-4bfa-9c91-b0fdd5ce61b8",
        "colab": {
          "base_uri": "https://localhost:8080/",
          "height": 658
        }
      },
      "source": [
        "animated_barchart(confirmed_global)"
      ],
      "execution_count": 12,
      "outputs": [
        {
          "output_type": "display_data",
          "data": {
            "application/vnd.plotly.v1+json": {
              "config": {
                "plotlyServerURL": "https://plotly.com"
              },
              "data": [
                {
                  "alignmentgroup": "True",
                  "hovertemplate": "Country=%{x}<br>Date=1/26/20<br>Cases=%{y}<extra></extra>",
                  "ids": [
                    "Argentina"
                  ],
                  "legendgroup": "Argentina",
                  "marker": {
                    "color": "#636efa"
                  },
                  "name": "Argentina",
                  "offsetgroup": "Argentina",
                  "orientation": "v",
                  "showlegend": true,
                  "textposition": "auto",
                  "type": "bar",
                  "x": [
                    "Argentina"
                  ],
                  "xaxis": "x",
                  "y": [
                    0
                  ],
                  "yaxis": "y"
                },
                {
                  "alignmentgroup": "True",
                  "hovertemplate": "Country=%{x}<br>Date=1/26/20<br>Cases=%{y}<extra></extra>",
                  "ids": [
                    "Brazil"
                  ],
                  "legendgroup": "Brazil",
                  "marker": {
                    "color": "#EF553B"
                  },
                  "name": "Brazil",
                  "offsetgroup": "Brazil",
                  "orientation": "v",
                  "showlegend": true,
                  "textposition": "auto",
                  "type": "bar",
                  "x": [
                    "Brazil"
                  ],
                  "xaxis": "x",
                  "y": [
                    0
                  ],
                  "yaxis": "y"
                },
                {
                  "alignmentgroup": "True",
                  "hovertemplate": "Country=%{x}<br>Date=1/26/20<br>Cases=%{y}<extra></extra>",
                  "ids": [
                    "Colombia"
                  ],
                  "legendgroup": "Colombia",
                  "marker": {
                    "color": "#00cc96"
                  },
                  "name": "Colombia",
                  "offsetgroup": "Colombia",
                  "orientation": "v",
                  "showlegend": true,
                  "textposition": "auto",
                  "type": "bar",
                  "x": [
                    "Colombia"
                  ],
                  "xaxis": "x",
                  "y": [
                    0
                  ],
                  "yaxis": "y"
                },
                {
                  "alignmentgroup": "True",
                  "hovertemplate": "Country=%{x}<br>Date=1/26/20<br>Cases=%{y}<extra></extra>",
                  "ids": [
                    "France"
                  ],
                  "legendgroup": "France",
                  "marker": {
                    "color": "#ab63fa"
                  },
                  "name": "France",
                  "offsetgroup": "France",
                  "orientation": "v",
                  "showlegend": true,
                  "textposition": "auto",
                  "type": "bar",
                  "x": [
                    "France"
                  ],
                  "xaxis": "x",
                  "y": [
                    3
                  ],
                  "yaxis": "y"
                },
                {
                  "alignmentgroup": "True",
                  "hovertemplate": "Country=%{x}<br>Date=1/26/20<br>Cases=%{y}<extra></extra>",
                  "ids": [
                    "India"
                  ],
                  "legendgroup": "India",
                  "marker": {
                    "color": "#FFA15A"
                  },
                  "name": "India",
                  "offsetgroup": "India",
                  "orientation": "v",
                  "showlegend": true,
                  "textposition": "auto",
                  "type": "bar",
                  "x": [
                    "India"
                  ],
                  "xaxis": "x",
                  "y": [
                    0
                  ],
                  "yaxis": "y"
                },
                {
                  "alignmentgroup": "True",
                  "hovertemplate": "Country=%{x}<br>Date=1/26/20<br>Cases=%{y}<extra></extra>",
                  "ids": [
                    "Italy"
                  ],
                  "legendgroup": "Italy",
                  "marker": {
                    "color": "#19d3f3"
                  },
                  "name": "Italy",
                  "offsetgroup": "Italy",
                  "orientation": "v",
                  "showlegend": true,
                  "textposition": "auto",
                  "type": "bar",
                  "x": [
                    "Italy"
                  ],
                  "xaxis": "x",
                  "y": [
                    0
                  ],
                  "yaxis": "y"
                },
                {
                  "alignmentgroup": "True",
                  "hovertemplate": "Country=%{x}<br>Date=1/26/20<br>Cases=%{y}<extra></extra>",
                  "ids": [
                    "Russia"
                  ],
                  "legendgroup": "Russia",
                  "marker": {
                    "color": "#FF6692"
                  },
                  "name": "Russia",
                  "offsetgroup": "Russia",
                  "orientation": "v",
                  "showlegend": true,
                  "textposition": "auto",
                  "type": "bar",
                  "x": [
                    "Russia"
                  ],
                  "xaxis": "x",
                  "y": [
                    0
                  ],
                  "yaxis": "y"
                },
                {
                  "alignmentgroup": "True",
                  "hovertemplate": "Country=%{x}<br>Date=1/26/20<br>Cases=%{y}<extra></extra>",
                  "ids": [
                    "Spain"
                  ],
                  "legendgroup": "Spain",
                  "marker": {
                    "color": "#B6E880"
                  },
                  "name": "Spain",
                  "offsetgroup": "Spain",
                  "orientation": "v",
                  "showlegend": true,
                  "textposition": "auto",
                  "type": "bar",
                  "x": [
                    "Spain"
                  ],
                  "xaxis": "x",
                  "y": [
                    0
                  ],
                  "yaxis": "y"
                },
                {
                  "alignmentgroup": "True",
                  "hovertemplate": "Country=%{x}<br>Date=1/26/20<br>Cases=%{y}<extra></extra>",
                  "ids": [
                    "US"
                  ],
                  "legendgroup": "US",
                  "marker": {
                    "color": "#FF97FF"
                  },
                  "name": "US",
                  "offsetgroup": "US",
                  "orientation": "v",
                  "showlegend": true,
                  "textposition": "auto",
                  "type": "bar",
                  "x": [
                    "US"
                  ],
                  "xaxis": "x",
                  "y": [
                    5
                  ],
                  "yaxis": "y"
                },
                {
                  "alignmentgroup": "True",
                  "hovertemplate": "Country=%{x}<br>Date=1/26/20<br>Cases=%{y}<extra></extra>",
                  "ids": [
                    "United Kingdom"
                  ],
                  "legendgroup": "United Kingdom",
                  "marker": {
                    "color": "#FECB52"
                  },
                  "name": "United Kingdom",
                  "offsetgroup": "United Kingdom",
                  "orientation": "v",
                  "showlegend": true,
                  "textposition": "auto",
                  "type": "bar",
                  "x": [
                    "United Kingdom"
                  ],
                  "xaxis": "x",
                  "y": [
                    0
                  ],
                  "yaxis": "y"
                }
              ],
              "frames": [
                {
                  "data": [
                    {
                      "alignmentgroup": "True",
                      "hovertemplate": "Country=%{x}<br>Date=1/26/20<br>Cases=%{y}<extra></extra>",
                      "ids": [
                        "Argentina"
                      ],
                      "legendgroup": "Argentina",
                      "marker": {
                        "color": "#636efa"
                      },
                      "name": "Argentina",
                      "offsetgroup": "Argentina",
                      "orientation": "v",
                      "showlegend": true,
                      "textposition": "auto",
                      "type": "bar",
                      "x": [
                        "Argentina"
                      ],
                      "xaxis": "x",
                      "y": [
                        0
                      ],
                      "yaxis": "y"
                    },
                    {
                      "alignmentgroup": "True",
                      "hovertemplate": "Country=%{x}<br>Date=1/26/20<br>Cases=%{y}<extra></extra>",
                      "ids": [
                        "Brazil"
                      ],
                      "legendgroup": "Brazil",
                      "marker": {
                        "color": "#EF553B"
                      },
                      "name": "Brazil",
                      "offsetgroup": "Brazil",
                      "orientation": "v",
                      "showlegend": true,
                      "textposition": "auto",
                      "type": "bar",
                      "x": [
                        "Brazil"
                      ],
                      "xaxis": "x",
                      "y": [
                        0
                      ],
                      "yaxis": "y"
                    },
                    {
                      "alignmentgroup": "True",
                      "hovertemplate": "Country=%{x}<br>Date=1/26/20<br>Cases=%{y}<extra></extra>",
                      "ids": [
                        "Colombia"
                      ],
                      "legendgroup": "Colombia",
                      "marker": {
                        "color": "#00cc96"
                      },
                      "name": "Colombia",
                      "offsetgroup": "Colombia",
                      "orientation": "v",
                      "showlegend": true,
                      "textposition": "auto",
                      "type": "bar",
                      "x": [
                        "Colombia"
                      ],
                      "xaxis": "x",
                      "y": [
                        0
                      ],
                      "yaxis": "y"
                    },
                    {
                      "alignmentgroup": "True",
                      "hovertemplate": "Country=%{x}<br>Date=1/26/20<br>Cases=%{y}<extra></extra>",
                      "ids": [
                        "France"
                      ],
                      "legendgroup": "France",
                      "marker": {
                        "color": "#ab63fa"
                      },
                      "name": "France",
                      "offsetgroup": "France",
                      "orientation": "v",
                      "showlegend": true,
                      "textposition": "auto",
                      "type": "bar",
                      "x": [
                        "France"
                      ],
                      "xaxis": "x",
                      "y": [
                        3
                      ],
                      "yaxis": "y"
                    },
                    {
                      "alignmentgroup": "True",
                      "hovertemplate": "Country=%{x}<br>Date=1/26/20<br>Cases=%{y}<extra></extra>",
                      "ids": [
                        "India"
                      ],
                      "legendgroup": "India",
                      "marker": {
                        "color": "#FFA15A"
                      },
                      "name": "India",
                      "offsetgroup": "India",
                      "orientation": "v",
                      "showlegend": true,
                      "textposition": "auto",
                      "type": "bar",
                      "x": [
                        "India"
                      ],
                      "xaxis": "x",
                      "y": [
                        0
                      ],
                      "yaxis": "y"
                    },
                    {
                      "alignmentgroup": "True",
                      "hovertemplate": "Country=%{x}<br>Date=1/26/20<br>Cases=%{y}<extra></extra>",
                      "ids": [
                        "Italy"
                      ],
                      "legendgroup": "Italy",
                      "marker": {
                        "color": "#19d3f3"
                      },
                      "name": "Italy",
                      "offsetgroup": "Italy",
                      "orientation": "v",
                      "showlegend": true,
                      "textposition": "auto",
                      "type": "bar",
                      "x": [
                        "Italy"
                      ],
                      "xaxis": "x",
                      "y": [
                        0
                      ],
                      "yaxis": "y"
                    },
                    {
                      "alignmentgroup": "True",
                      "hovertemplate": "Country=%{x}<br>Date=1/26/20<br>Cases=%{y}<extra></extra>",
                      "ids": [
                        "Russia"
                      ],
                      "legendgroup": "Russia",
                      "marker": {
                        "color": "#FF6692"
                      },
                      "name": "Russia",
                      "offsetgroup": "Russia",
                      "orientation": "v",
                      "showlegend": true,
                      "textposition": "auto",
                      "type": "bar",
                      "x": [
                        "Russia"
                      ],
                      "xaxis": "x",
                      "y": [
                        0
                      ],
                      "yaxis": "y"
                    },
                    {
                      "alignmentgroup": "True",
                      "hovertemplate": "Country=%{x}<br>Date=1/26/20<br>Cases=%{y}<extra></extra>",
                      "ids": [
                        "Spain"
                      ],
                      "legendgroup": "Spain",
                      "marker": {
                        "color": "#B6E880"
                      },
                      "name": "Spain",
                      "offsetgroup": "Spain",
                      "orientation": "v",
                      "showlegend": true,
                      "textposition": "auto",
                      "type": "bar",
                      "x": [
                        "Spain"
                      ],
                      "xaxis": "x",
                      "y": [
                        0
                      ],
                      "yaxis": "y"
                    },
                    {
                      "alignmentgroup": "True",
                      "hovertemplate": "Country=%{x}<br>Date=1/26/20<br>Cases=%{y}<extra></extra>",
                      "ids": [
                        "US"
                      ],
                      "legendgroup": "US",
                      "marker": {
                        "color": "#FF97FF"
                      },
                      "name": "US",
                      "offsetgroup": "US",
                      "orientation": "v",
                      "showlegend": true,
                      "textposition": "auto",
                      "type": "bar",
                      "x": [
                        "US"
                      ],
                      "xaxis": "x",
                      "y": [
                        5
                      ],
                      "yaxis": "y"
                    },
                    {
                      "alignmentgroup": "True",
                      "hovertemplate": "Country=%{x}<br>Date=1/26/20<br>Cases=%{y}<extra></extra>",
                      "ids": [
                        "United Kingdom"
                      ],
                      "legendgroup": "United Kingdom",
                      "marker": {
                        "color": "#FECB52"
                      },
                      "name": "United Kingdom",
                      "offsetgroup": "United Kingdom",
                      "orientation": "v",
                      "showlegend": true,
                      "textposition": "auto",
                      "type": "bar",
                      "x": [
                        "United Kingdom"
                      ],
                      "xaxis": "x",
                      "y": [
                        0
                      ],
                      "yaxis": "y"
                    }
                  ],
                  "name": "1/26/20"
                },
                {
                  "data": [
                    {
                      "alignmentgroup": "True",
                      "hovertemplate": "Country=%{x}<br>Date=1/31/20<br>Cases=%{y}<extra></extra>",
                      "ids": [
                        "Argentina"
                      ],
                      "legendgroup": "Argentina",
                      "marker": {
                        "color": "#636efa"
                      },
                      "name": "Argentina",
                      "offsetgroup": "Argentina",
                      "orientation": "v",
                      "showlegend": true,
                      "textposition": "auto",
                      "type": "bar",
                      "x": [
                        "Argentina"
                      ],
                      "xaxis": "x",
                      "y": [
                        0
                      ],
                      "yaxis": "y"
                    },
                    {
                      "alignmentgroup": "True",
                      "hovertemplate": "Country=%{x}<br>Date=1/31/20<br>Cases=%{y}<extra></extra>",
                      "ids": [
                        "Brazil"
                      ],
                      "legendgroup": "Brazil",
                      "marker": {
                        "color": "#EF553B"
                      },
                      "name": "Brazil",
                      "offsetgroup": "Brazil",
                      "orientation": "v",
                      "showlegend": true,
                      "textposition": "auto",
                      "type": "bar",
                      "x": [
                        "Brazil"
                      ],
                      "xaxis": "x",
                      "y": [
                        0
                      ],
                      "yaxis": "y"
                    },
                    {
                      "alignmentgroup": "True",
                      "hovertemplate": "Country=%{x}<br>Date=1/31/20<br>Cases=%{y}<extra></extra>",
                      "ids": [
                        "Colombia"
                      ],
                      "legendgroup": "Colombia",
                      "marker": {
                        "color": "#00cc96"
                      },
                      "name": "Colombia",
                      "offsetgroup": "Colombia",
                      "orientation": "v",
                      "showlegend": true,
                      "textposition": "auto",
                      "type": "bar",
                      "x": [
                        "Colombia"
                      ],
                      "xaxis": "x",
                      "y": [
                        0
                      ],
                      "yaxis": "y"
                    },
                    {
                      "alignmentgroup": "True",
                      "hovertemplate": "Country=%{x}<br>Date=1/31/20<br>Cases=%{y}<extra></extra>",
                      "ids": [
                        "France"
                      ],
                      "legendgroup": "France",
                      "marker": {
                        "color": "#ab63fa"
                      },
                      "name": "France",
                      "offsetgroup": "France",
                      "orientation": "v",
                      "showlegend": true,
                      "textposition": "auto",
                      "type": "bar",
                      "x": [
                        "France"
                      ],
                      "xaxis": "x",
                      "y": [
                        5
                      ],
                      "yaxis": "y"
                    },
                    {
                      "alignmentgroup": "True",
                      "hovertemplate": "Country=%{x}<br>Date=1/31/20<br>Cases=%{y}<extra></extra>",
                      "ids": [
                        "India"
                      ],
                      "legendgroup": "India",
                      "marker": {
                        "color": "#FFA15A"
                      },
                      "name": "India",
                      "offsetgroup": "India",
                      "orientation": "v",
                      "showlegend": true,
                      "textposition": "auto",
                      "type": "bar",
                      "x": [
                        "India"
                      ],
                      "xaxis": "x",
                      "y": [
                        1
                      ],
                      "yaxis": "y"
                    },
                    {
                      "alignmentgroup": "True",
                      "hovertemplate": "Country=%{x}<br>Date=1/31/20<br>Cases=%{y}<extra></extra>",
                      "ids": [
                        "Italy"
                      ],
                      "legendgroup": "Italy",
                      "marker": {
                        "color": "#19d3f3"
                      },
                      "name": "Italy",
                      "offsetgroup": "Italy",
                      "orientation": "v",
                      "showlegend": true,
                      "textposition": "auto",
                      "type": "bar",
                      "x": [
                        "Italy"
                      ],
                      "xaxis": "x",
                      "y": [
                        2
                      ],
                      "yaxis": "y"
                    },
                    {
                      "alignmentgroup": "True",
                      "hovertemplate": "Country=%{x}<br>Date=1/31/20<br>Cases=%{y}<extra></extra>",
                      "ids": [
                        "Russia"
                      ],
                      "legendgroup": "Russia",
                      "marker": {
                        "color": "#FF6692"
                      },
                      "name": "Russia",
                      "offsetgroup": "Russia",
                      "orientation": "v",
                      "showlegend": true,
                      "textposition": "auto",
                      "type": "bar",
                      "x": [
                        "Russia"
                      ],
                      "xaxis": "x",
                      "y": [
                        2
                      ],
                      "yaxis": "y"
                    },
                    {
                      "alignmentgroup": "True",
                      "hovertemplate": "Country=%{x}<br>Date=1/31/20<br>Cases=%{y}<extra></extra>",
                      "ids": [
                        "Spain"
                      ],
                      "legendgroup": "Spain",
                      "marker": {
                        "color": "#B6E880"
                      },
                      "name": "Spain",
                      "offsetgroup": "Spain",
                      "orientation": "v",
                      "showlegend": true,
                      "textposition": "auto",
                      "type": "bar",
                      "x": [
                        "Spain"
                      ],
                      "xaxis": "x",
                      "y": [
                        0
                      ],
                      "yaxis": "y"
                    },
                    {
                      "alignmentgroup": "True",
                      "hovertemplate": "Country=%{x}<br>Date=1/31/20<br>Cases=%{y}<extra></extra>",
                      "ids": [
                        "US"
                      ],
                      "legendgroup": "US",
                      "marker": {
                        "color": "#FF97FF"
                      },
                      "name": "US",
                      "offsetgroup": "US",
                      "orientation": "v",
                      "showlegend": true,
                      "textposition": "auto",
                      "type": "bar",
                      "x": [
                        "US"
                      ],
                      "xaxis": "x",
                      "y": [
                        8
                      ],
                      "yaxis": "y"
                    },
                    {
                      "alignmentgroup": "True",
                      "hovertemplate": "Country=%{x}<br>Date=1/31/20<br>Cases=%{y}<extra></extra>",
                      "ids": [
                        "United Kingdom"
                      ],
                      "legendgroup": "United Kingdom",
                      "marker": {
                        "color": "#FECB52"
                      },
                      "name": "United Kingdom",
                      "offsetgroup": "United Kingdom",
                      "orientation": "v",
                      "showlegend": true,
                      "textposition": "auto",
                      "type": "bar",
                      "x": [
                        "United Kingdom"
                      ],
                      "xaxis": "x",
                      "y": [
                        2
                      ],
                      "yaxis": "y"
                    }
                  ],
                  "name": "1/31/20"
                },
                {
                  "data": [
                    {
                      "alignmentgroup": "True",
                      "hovertemplate": "Country=%{x}<br>Date=2/3/20<br>Cases=%{y}<extra></extra>",
                      "ids": [
                        "Argentina"
                      ],
                      "legendgroup": "Argentina",
                      "marker": {
                        "color": "#636efa"
                      },
                      "name": "Argentina",
                      "offsetgroup": "Argentina",
                      "orientation": "v",
                      "showlegend": true,
                      "textposition": "auto",
                      "type": "bar",
                      "x": [
                        "Argentina"
                      ],
                      "xaxis": "x",
                      "y": [
                        0
                      ],
                      "yaxis": "y"
                    },
                    {
                      "alignmentgroup": "True",
                      "hovertemplate": "Country=%{x}<br>Date=2/3/20<br>Cases=%{y}<extra></extra>",
                      "ids": [
                        "Brazil"
                      ],
                      "legendgroup": "Brazil",
                      "marker": {
                        "color": "#EF553B"
                      },
                      "name": "Brazil",
                      "offsetgroup": "Brazil",
                      "orientation": "v",
                      "showlegend": true,
                      "textposition": "auto",
                      "type": "bar",
                      "x": [
                        "Brazil"
                      ],
                      "xaxis": "x",
                      "y": [
                        0
                      ],
                      "yaxis": "y"
                    },
                    {
                      "alignmentgroup": "True",
                      "hovertemplate": "Country=%{x}<br>Date=2/3/20<br>Cases=%{y}<extra></extra>",
                      "ids": [
                        "Colombia"
                      ],
                      "legendgroup": "Colombia",
                      "marker": {
                        "color": "#00cc96"
                      },
                      "name": "Colombia",
                      "offsetgroup": "Colombia",
                      "orientation": "v",
                      "showlegend": true,
                      "textposition": "auto",
                      "type": "bar",
                      "x": [
                        "Colombia"
                      ],
                      "xaxis": "x",
                      "y": [
                        0
                      ],
                      "yaxis": "y"
                    },
                    {
                      "alignmentgroup": "True",
                      "hovertemplate": "Country=%{x}<br>Date=2/3/20<br>Cases=%{y}<extra></extra>",
                      "ids": [
                        "France"
                      ],
                      "legendgroup": "France",
                      "marker": {
                        "color": "#ab63fa"
                      },
                      "name": "France",
                      "offsetgroup": "France",
                      "orientation": "v",
                      "showlegend": true,
                      "textposition": "auto",
                      "type": "bar",
                      "x": [
                        "France"
                      ],
                      "xaxis": "x",
                      "y": [
                        6
                      ],
                      "yaxis": "y"
                    },
                    {
                      "alignmentgroup": "True",
                      "hovertemplate": "Country=%{x}<br>Date=2/3/20<br>Cases=%{y}<extra></extra>",
                      "ids": [
                        "India"
                      ],
                      "legendgroup": "India",
                      "marker": {
                        "color": "#FFA15A"
                      },
                      "name": "India",
                      "offsetgroup": "India",
                      "orientation": "v",
                      "showlegend": true,
                      "textposition": "auto",
                      "type": "bar",
                      "x": [
                        "India"
                      ],
                      "xaxis": "x",
                      "y": [
                        3
                      ],
                      "yaxis": "y"
                    },
                    {
                      "alignmentgroup": "True",
                      "hovertemplate": "Country=%{x}<br>Date=2/3/20<br>Cases=%{y}<extra></extra>",
                      "ids": [
                        "Italy"
                      ],
                      "legendgroup": "Italy",
                      "marker": {
                        "color": "#19d3f3"
                      },
                      "name": "Italy",
                      "offsetgroup": "Italy",
                      "orientation": "v",
                      "showlegend": true,
                      "textposition": "auto",
                      "type": "bar",
                      "x": [
                        "Italy"
                      ],
                      "xaxis": "x",
                      "y": [
                        2
                      ],
                      "yaxis": "y"
                    },
                    {
                      "alignmentgroup": "True",
                      "hovertemplate": "Country=%{x}<br>Date=2/3/20<br>Cases=%{y}<extra></extra>",
                      "ids": [
                        "Russia"
                      ],
                      "legendgroup": "Russia",
                      "marker": {
                        "color": "#FF6692"
                      },
                      "name": "Russia",
                      "offsetgroup": "Russia",
                      "orientation": "v",
                      "showlegend": true,
                      "textposition": "auto",
                      "type": "bar",
                      "x": [
                        "Russia"
                      ],
                      "xaxis": "x",
                      "y": [
                        2
                      ],
                      "yaxis": "y"
                    },
                    {
                      "alignmentgroup": "True",
                      "hovertemplate": "Country=%{x}<br>Date=2/3/20<br>Cases=%{y}<extra></extra>",
                      "ids": [
                        "Spain"
                      ],
                      "legendgroup": "Spain",
                      "marker": {
                        "color": "#B6E880"
                      },
                      "name": "Spain",
                      "offsetgroup": "Spain",
                      "orientation": "v",
                      "showlegend": true,
                      "textposition": "auto",
                      "type": "bar",
                      "x": [
                        "Spain"
                      ],
                      "xaxis": "x",
                      "y": [
                        1
                      ],
                      "yaxis": "y"
                    },
                    {
                      "alignmentgroup": "True",
                      "hovertemplate": "Country=%{x}<br>Date=2/3/20<br>Cases=%{y}<extra></extra>",
                      "ids": [
                        "US"
                      ],
                      "legendgroup": "US",
                      "marker": {
                        "color": "#FF97FF"
                      },
                      "name": "US",
                      "offsetgroup": "US",
                      "orientation": "v",
                      "showlegend": true,
                      "textposition": "auto",
                      "type": "bar",
                      "x": [
                        "US"
                      ],
                      "xaxis": "x",
                      "y": [
                        11
                      ],
                      "yaxis": "y"
                    },
                    {
                      "alignmentgroup": "True",
                      "hovertemplate": "Country=%{x}<br>Date=2/3/20<br>Cases=%{y}<extra></extra>",
                      "ids": [
                        "United Kingdom"
                      ],
                      "legendgroup": "United Kingdom",
                      "marker": {
                        "color": "#FECB52"
                      },
                      "name": "United Kingdom",
                      "offsetgroup": "United Kingdom",
                      "orientation": "v",
                      "showlegend": true,
                      "textposition": "auto",
                      "type": "bar",
                      "x": [
                        "United Kingdom"
                      ],
                      "xaxis": "x",
                      "y": [
                        8
                      ],
                      "yaxis": "y"
                    }
                  ],
                  "name": "2/3/20"
                },
                {
                  "data": [
                    {
                      "alignmentgroup": "True",
                      "hovertemplate": "Country=%{x}<br>Date=2/8/20<br>Cases=%{y}<extra></extra>",
                      "ids": [
                        "Argentina"
                      ],
                      "legendgroup": "Argentina",
                      "marker": {
                        "color": "#636efa"
                      },
                      "name": "Argentina",
                      "offsetgroup": "Argentina",
                      "orientation": "v",
                      "showlegend": true,
                      "textposition": "auto",
                      "type": "bar",
                      "x": [
                        "Argentina"
                      ],
                      "xaxis": "x",
                      "y": [
                        0
                      ],
                      "yaxis": "y"
                    },
                    {
                      "alignmentgroup": "True",
                      "hovertemplate": "Country=%{x}<br>Date=2/8/20<br>Cases=%{y}<extra></extra>",
                      "ids": [
                        "Brazil"
                      ],
                      "legendgroup": "Brazil",
                      "marker": {
                        "color": "#EF553B"
                      },
                      "name": "Brazil",
                      "offsetgroup": "Brazil",
                      "orientation": "v",
                      "showlegend": true,
                      "textposition": "auto",
                      "type": "bar",
                      "x": [
                        "Brazil"
                      ],
                      "xaxis": "x",
                      "y": [
                        0
                      ],
                      "yaxis": "y"
                    },
                    {
                      "alignmentgroup": "True",
                      "hovertemplate": "Country=%{x}<br>Date=2/8/20<br>Cases=%{y}<extra></extra>",
                      "ids": [
                        "Colombia"
                      ],
                      "legendgroup": "Colombia",
                      "marker": {
                        "color": "#00cc96"
                      },
                      "name": "Colombia",
                      "offsetgroup": "Colombia",
                      "orientation": "v",
                      "showlegend": true,
                      "textposition": "auto",
                      "type": "bar",
                      "x": [
                        "Colombia"
                      ],
                      "xaxis": "x",
                      "y": [
                        0
                      ],
                      "yaxis": "y"
                    },
                    {
                      "alignmentgroup": "True",
                      "hovertemplate": "Country=%{x}<br>Date=2/8/20<br>Cases=%{y}<extra></extra>",
                      "ids": [
                        "France"
                      ],
                      "legendgroup": "France",
                      "marker": {
                        "color": "#ab63fa"
                      },
                      "name": "France",
                      "offsetgroup": "France",
                      "orientation": "v",
                      "showlegend": true,
                      "textposition": "auto",
                      "type": "bar",
                      "x": [
                        "France"
                      ],
                      "xaxis": "x",
                      "y": [
                        11
                      ],
                      "yaxis": "y"
                    },
                    {
                      "alignmentgroup": "True",
                      "hovertemplate": "Country=%{x}<br>Date=2/8/20<br>Cases=%{y}<extra></extra>",
                      "ids": [
                        "India"
                      ],
                      "legendgroup": "India",
                      "marker": {
                        "color": "#FFA15A"
                      },
                      "name": "India",
                      "offsetgroup": "India",
                      "orientation": "v",
                      "showlegend": true,
                      "textposition": "auto",
                      "type": "bar",
                      "x": [
                        "India"
                      ],
                      "xaxis": "x",
                      "y": [
                        3
                      ],
                      "yaxis": "y"
                    },
                    {
                      "alignmentgroup": "True",
                      "hovertemplate": "Country=%{x}<br>Date=2/8/20<br>Cases=%{y}<extra></extra>",
                      "ids": [
                        "Italy"
                      ],
                      "legendgroup": "Italy",
                      "marker": {
                        "color": "#19d3f3"
                      },
                      "name": "Italy",
                      "offsetgroup": "Italy",
                      "orientation": "v",
                      "showlegend": true,
                      "textposition": "auto",
                      "type": "bar",
                      "x": [
                        "Italy"
                      ],
                      "xaxis": "x",
                      "y": [
                        3
                      ],
                      "yaxis": "y"
                    },
                    {
                      "alignmentgroup": "True",
                      "hovertemplate": "Country=%{x}<br>Date=2/8/20<br>Cases=%{y}<extra></extra>",
                      "ids": [
                        "Russia"
                      ],
                      "legendgroup": "Russia",
                      "marker": {
                        "color": "#FF6692"
                      },
                      "name": "Russia",
                      "offsetgroup": "Russia",
                      "orientation": "v",
                      "showlegend": true,
                      "textposition": "auto",
                      "type": "bar",
                      "x": [
                        "Russia"
                      ],
                      "xaxis": "x",
                      "y": [
                        2
                      ],
                      "yaxis": "y"
                    },
                    {
                      "alignmentgroup": "True",
                      "hovertemplate": "Country=%{x}<br>Date=2/8/20<br>Cases=%{y}<extra></extra>",
                      "ids": [
                        "Spain"
                      ],
                      "legendgroup": "Spain",
                      "marker": {
                        "color": "#B6E880"
                      },
                      "name": "Spain",
                      "offsetgroup": "Spain",
                      "orientation": "v",
                      "showlegend": true,
                      "textposition": "auto",
                      "type": "bar",
                      "x": [
                        "Spain"
                      ],
                      "xaxis": "x",
                      "y": [
                        1
                      ],
                      "yaxis": "y"
                    },
                    {
                      "alignmentgroup": "True",
                      "hovertemplate": "Country=%{x}<br>Date=2/8/20<br>Cases=%{y}<extra></extra>",
                      "ids": [
                        "US"
                      ],
                      "legendgroup": "US",
                      "marker": {
                        "color": "#FF97FF"
                      },
                      "name": "US",
                      "offsetgroup": "US",
                      "orientation": "v",
                      "showlegend": true,
                      "textposition": "auto",
                      "type": "bar",
                      "x": [
                        "US"
                      ],
                      "xaxis": "x",
                      "y": [
                        12
                      ],
                      "yaxis": "y"
                    },
                    {
                      "alignmentgroup": "True",
                      "hovertemplate": "Country=%{x}<br>Date=2/8/20<br>Cases=%{y}<extra></extra>",
                      "ids": [
                        "United Kingdom"
                      ],
                      "legendgroup": "United Kingdom",
                      "marker": {
                        "color": "#FECB52"
                      },
                      "name": "United Kingdom",
                      "offsetgroup": "United Kingdom",
                      "orientation": "v",
                      "showlegend": true,
                      "textposition": "auto",
                      "type": "bar",
                      "x": [
                        "United Kingdom"
                      ],
                      "xaxis": "x",
                      "y": [
                        13
                      ],
                      "yaxis": "y"
                    }
                  ],
                  "name": "2/8/20"
                },
                {
                  "data": [
                    {
                      "alignmentgroup": "True",
                      "hovertemplate": "Country=%{x}<br>Date=2/11/20<br>Cases=%{y}<extra></extra>",
                      "ids": [
                        "Argentina"
                      ],
                      "legendgroup": "Argentina",
                      "marker": {
                        "color": "#636efa"
                      },
                      "name": "Argentina",
                      "offsetgroup": "Argentina",
                      "orientation": "v",
                      "showlegend": true,
                      "textposition": "auto",
                      "type": "bar",
                      "x": [
                        "Argentina"
                      ],
                      "xaxis": "x",
                      "y": [
                        0
                      ],
                      "yaxis": "y"
                    },
                    {
                      "alignmentgroup": "True",
                      "hovertemplate": "Country=%{x}<br>Date=2/11/20<br>Cases=%{y}<extra></extra>",
                      "ids": [
                        "Brazil"
                      ],
                      "legendgroup": "Brazil",
                      "marker": {
                        "color": "#EF553B"
                      },
                      "name": "Brazil",
                      "offsetgroup": "Brazil",
                      "orientation": "v",
                      "showlegend": true,
                      "textposition": "auto",
                      "type": "bar",
                      "x": [
                        "Brazil"
                      ],
                      "xaxis": "x",
                      "y": [
                        0
                      ],
                      "yaxis": "y"
                    },
                    {
                      "alignmentgroup": "True",
                      "hovertemplate": "Country=%{x}<br>Date=2/11/20<br>Cases=%{y}<extra></extra>",
                      "ids": [
                        "Colombia"
                      ],
                      "legendgroup": "Colombia",
                      "marker": {
                        "color": "#00cc96"
                      },
                      "name": "Colombia",
                      "offsetgroup": "Colombia",
                      "orientation": "v",
                      "showlegend": true,
                      "textposition": "auto",
                      "type": "bar",
                      "x": [
                        "Colombia"
                      ],
                      "xaxis": "x",
                      "y": [
                        0
                      ],
                      "yaxis": "y"
                    },
                    {
                      "alignmentgroup": "True",
                      "hovertemplate": "Country=%{x}<br>Date=2/11/20<br>Cases=%{y}<extra></extra>",
                      "ids": [
                        "France"
                      ],
                      "legendgroup": "France",
                      "marker": {
                        "color": "#ab63fa"
                      },
                      "name": "France",
                      "offsetgroup": "France",
                      "orientation": "v",
                      "showlegend": true,
                      "textposition": "auto",
                      "type": "bar",
                      "x": [
                        "France"
                      ],
                      "xaxis": "x",
                      "y": [
                        11
                      ],
                      "yaxis": "y"
                    },
                    {
                      "alignmentgroup": "True",
                      "hovertemplate": "Country=%{x}<br>Date=2/11/20<br>Cases=%{y}<extra></extra>",
                      "ids": [
                        "India"
                      ],
                      "legendgroup": "India",
                      "marker": {
                        "color": "#FFA15A"
                      },
                      "name": "India",
                      "offsetgroup": "India",
                      "orientation": "v",
                      "showlegend": true,
                      "textposition": "auto",
                      "type": "bar",
                      "x": [
                        "India"
                      ],
                      "xaxis": "x",
                      "y": [
                        3
                      ],
                      "yaxis": "y"
                    },
                    {
                      "alignmentgroup": "True",
                      "hovertemplate": "Country=%{x}<br>Date=2/11/20<br>Cases=%{y}<extra></extra>",
                      "ids": [
                        "Italy"
                      ],
                      "legendgroup": "Italy",
                      "marker": {
                        "color": "#19d3f3"
                      },
                      "name": "Italy",
                      "offsetgroup": "Italy",
                      "orientation": "v",
                      "showlegend": true,
                      "textposition": "auto",
                      "type": "bar",
                      "x": [
                        "Italy"
                      ],
                      "xaxis": "x",
                      "y": [
                        3
                      ],
                      "yaxis": "y"
                    },
                    {
                      "alignmentgroup": "True",
                      "hovertemplate": "Country=%{x}<br>Date=2/11/20<br>Cases=%{y}<extra></extra>",
                      "ids": [
                        "Russia"
                      ],
                      "legendgroup": "Russia",
                      "marker": {
                        "color": "#FF6692"
                      },
                      "name": "Russia",
                      "offsetgroup": "Russia",
                      "orientation": "v",
                      "showlegend": true,
                      "textposition": "auto",
                      "type": "bar",
                      "x": [
                        "Russia"
                      ],
                      "xaxis": "x",
                      "y": [
                        2
                      ],
                      "yaxis": "y"
                    },
                    {
                      "alignmentgroup": "True",
                      "hovertemplate": "Country=%{x}<br>Date=2/11/20<br>Cases=%{y}<extra></extra>",
                      "ids": [
                        "Spain"
                      ],
                      "legendgroup": "Spain",
                      "marker": {
                        "color": "#B6E880"
                      },
                      "name": "Spain",
                      "offsetgroup": "Spain",
                      "orientation": "v",
                      "showlegend": true,
                      "textposition": "auto",
                      "type": "bar",
                      "x": [
                        "Spain"
                      ],
                      "xaxis": "x",
                      "y": [
                        2
                      ],
                      "yaxis": "y"
                    },
                    {
                      "alignmentgroup": "True",
                      "hovertemplate": "Country=%{x}<br>Date=2/11/20<br>Cases=%{y}<extra></extra>",
                      "ids": [
                        "US"
                      ],
                      "legendgroup": "US",
                      "marker": {
                        "color": "#FF97FF"
                      },
                      "name": "US",
                      "offsetgroup": "US",
                      "orientation": "v",
                      "showlegend": true,
                      "textposition": "auto",
                      "type": "bar",
                      "x": [
                        "US"
                      ],
                      "xaxis": "x",
                      "y": [
                        13
                      ],
                      "yaxis": "y"
                    },
                    {
                      "alignmentgroup": "True",
                      "hovertemplate": "Country=%{x}<br>Date=2/11/20<br>Cases=%{y}<extra></extra>",
                      "ids": [
                        "United Kingdom"
                      ],
                      "legendgroup": "United Kingdom",
                      "marker": {
                        "color": "#FECB52"
                      },
                      "name": "United Kingdom",
                      "offsetgroup": "United Kingdom",
                      "orientation": "v",
                      "showlegend": true,
                      "textposition": "auto",
                      "type": "bar",
                      "x": [
                        "United Kingdom"
                      ],
                      "xaxis": "x",
                      "y": [
                        15
                      ],
                      "yaxis": "y"
                    }
                  ],
                  "name": "2/11/20"
                },
                {
                  "data": [
                    {
                      "alignmentgroup": "True",
                      "hovertemplate": "Country=%{x}<br>Date=2/16/20<br>Cases=%{y}<extra></extra>",
                      "ids": [
                        "Argentina"
                      ],
                      "legendgroup": "Argentina",
                      "marker": {
                        "color": "#636efa"
                      },
                      "name": "Argentina",
                      "offsetgroup": "Argentina",
                      "orientation": "v",
                      "showlegend": true,
                      "textposition": "auto",
                      "type": "bar",
                      "x": [
                        "Argentina"
                      ],
                      "xaxis": "x",
                      "y": [
                        0
                      ],
                      "yaxis": "y"
                    },
                    {
                      "alignmentgroup": "True",
                      "hovertemplate": "Country=%{x}<br>Date=2/16/20<br>Cases=%{y}<extra></extra>",
                      "ids": [
                        "Brazil"
                      ],
                      "legendgroup": "Brazil",
                      "marker": {
                        "color": "#EF553B"
                      },
                      "name": "Brazil",
                      "offsetgroup": "Brazil",
                      "orientation": "v",
                      "showlegend": true,
                      "textposition": "auto",
                      "type": "bar",
                      "x": [
                        "Brazil"
                      ],
                      "xaxis": "x",
                      "y": [
                        0
                      ],
                      "yaxis": "y"
                    },
                    {
                      "alignmentgroup": "True",
                      "hovertemplate": "Country=%{x}<br>Date=2/16/20<br>Cases=%{y}<extra></extra>",
                      "ids": [
                        "Colombia"
                      ],
                      "legendgroup": "Colombia",
                      "marker": {
                        "color": "#00cc96"
                      },
                      "name": "Colombia",
                      "offsetgroup": "Colombia",
                      "orientation": "v",
                      "showlegend": true,
                      "textposition": "auto",
                      "type": "bar",
                      "x": [
                        "Colombia"
                      ],
                      "xaxis": "x",
                      "y": [
                        0
                      ],
                      "yaxis": "y"
                    },
                    {
                      "alignmentgroup": "True",
                      "hovertemplate": "Country=%{x}<br>Date=2/16/20<br>Cases=%{y}<extra></extra>",
                      "ids": [
                        "France"
                      ],
                      "legendgroup": "France",
                      "marker": {
                        "color": "#ab63fa"
                      },
                      "name": "France",
                      "offsetgroup": "France",
                      "orientation": "v",
                      "showlegend": true,
                      "textposition": "auto",
                      "type": "bar",
                      "x": [
                        "France"
                      ],
                      "xaxis": "x",
                      "y": [
                        12
                      ],
                      "yaxis": "y"
                    },
                    {
                      "alignmentgroup": "True",
                      "hovertemplate": "Country=%{x}<br>Date=2/16/20<br>Cases=%{y}<extra></extra>",
                      "ids": [
                        "India"
                      ],
                      "legendgroup": "India",
                      "marker": {
                        "color": "#FFA15A"
                      },
                      "name": "India",
                      "offsetgroup": "India",
                      "orientation": "v",
                      "showlegend": true,
                      "textposition": "auto",
                      "type": "bar",
                      "x": [
                        "India"
                      ],
                      "xaxis": "x",
                      "y": [
                        3
                      ],
                      "yaxis": "y"
                    },
                    {
                      "alignmentgroup": "True",
                      "hovertemplate": "Country=%{x}<br>Date=2/16/20<br>Cases=%{y}<extra></extra>",
                      "ids": [
                        "Italy"
                      ],
                      "legendgroup": "Italy",
                      "marker": {
                        "color": "#19d3f3"
                      },
                      "name": "Italy",
                      "offsetgroup": "Italy",
                      "orientation": "v",
                      "showlegend": true,
                      "textposition": "auto",
                      "type": "bar",
                      "x": [
                        "Italy"
                      ],
                      "xaxis": "x",
                      "y": [
                        3
                      ],
                      "yaxis": "y"
                    },
                    {
                      "alignmentgroup": "True",
                      "hovertemplate": "Country=%{x}<br>Date=2/16/20<br>Cases=%{y}<extra></extra>",
                      "ids": [
                        "Russia"
                      ],
                      "legendgroup": "Russia",
                      "marker": {
                        "color": "#FF6692"
                      },
                      "name": "Russia",
                      "offsetgroup": "Russia",
                      "orientation": "v",
                      "showlegend": true,
                      "textposition": "auto",
                      "type": "bar",
                      "x": [
                        "Russia"
                      ],
                      "xaxis": "x",
                      "y": [
                        2
                      ],
                      "yaxis": "y"
                    },
                    {
                      "alignmentgroup": "True",
                      "hovertemplate": "Country=%{x}<br>Date=2/16/20<br>Cases=%{y}<extra></extra>",
                      "ids": [
                        "Spain"
                      ],
                      "legendgroup": "Spain",
                      "marker": {
                        "color": "#B6E880"
                      },
                      "name": "Spain",
                      "offsetgroup": "Spain",
                      "orientation": "v",
                      "showlegend": true,
                      "textposition": "auto",
                      "type": "bar",
                      "x": [
                        "Spain"
                      ],
                      "xaxis": "x",
                      "y": [
                        2
                      ],
                      "yaxis": "y"
                    },
                    {
                      "alignmentgroup": "True",
                      "hovertemplate": "Country=%{x}<br>Date=2/16/20<br>Cases=%{y}<extra></extra>",
                      "ids": [
                        "US"
                      ],
                      "legendgroup": "US",
                      "marker": {
                        "color": "#FF97FF"
                      },
                      "name": "US",
                      "offsetgroup": "US",
                      "orientation": "v",
                      "showlegend": true,
                      "textposition": "auto",
                      "type": "bar",
                      "x": [
                        "US"
                      ],
                      "xaxis": "x",
                      "y": [
                        14
                      ],
                      "yaxis": "y"
                    },
                    {
                      "alignmentgroup": "True",
                      "hovertemplate": "Country=%{x}<br>Date=2/16/20<br>Cases=%{y}<extra></extra>",
                      "ids": [
                        "United Kingdom"
                      ],
                      "legendgroup": "United Kingdom",
                      "marker": {
                        "color": "#FECB52"
                      },
                      "name": "United Kingdom",
                      "offsetgroup": "United Kingdom",
                      "orientation": "v",
                      "showlegend": true,
                      "textposition": "auto",
                      "type": "bar",
                      "x": [
                        "United Kingdom"
                      ],
                      "xaxis": "x",
                      "y": [
                        18
                      ],
                      "yaxis": "y"
                    }
                  ],
                  "name": "2/16/20"
                },
                {
                  "data": [
                    {
                      "alignmentgroup": "True",
                      "hovertemplate": "Country=%{x}<br>Date=2/20/20<br>Cases=%{y}<extra></extra>",
                      "ids": [
                        "Argentina"
                      ],
                      "legendgroup": "Argentina",
                      "marker": {
                        "color": "#636efa"
                      },
                      "name": "Argentina",
                      "offsetgroup": "Argentina",
                      "orientation": "v",
                      "showlegend": true,
                      "textposition": "auto",
                      "type": "bar",
                      "x": [
                        "Argentina"
                      ],
                      "xaxis": "x",
                      "y": [
                        0
                      ],
                      "yaxis": "y"
                    },
                    {
                      "alignmentgroup": "True",
                      "hovertemplate": "Country=%{x}<br>Date=2/20/20<br>Cases=%{y}<extra></extra>",
                      "ids": [
                        "Brazil"
                      ],
                      "legendgroup": "Brazil",
                      "marker": {
                        "color": "#EF553B"
                      },
                      "name": "Brazil",
                      "offsetgroup": "Brazil",
                      "orientation": "v",
                      "showlegend": true,
                      "textposition": "auto",
                      "type": "bar",
                      "x": [
                        "Brazil"
                      ],
                      "xaxis": "x",
                      "y": [
                        0
                      ],
                      "yaxis": "y"
                    },
                    {
                      "alignmentgroup": "True",
                      "hovertemplate": "Country=%{x}<br>Date=2/20/20<br>Cases=%{y}<extra></extra>",
                      "ids": [
                        "Colombia"
                      ],
                      "legendgroup": "Colombia",
                      "marker": {
                        "color": "#00cc96"
                      },
                      "name": "Colombia",
                      "offsetgroup": "Colombia",
                      "orientation": "v",
                      "showlegend": true,
                      "textposition": "auto",
                      "type": "bar",
                      "x": [
                        "Colombia"
                      ],
                      "xaxis": "x",
                      "y": [
                        0
                      ],
                      "yaxis": "y"
                    },
                    {
                      "alignmentgroup": "True",
                      "hovertemplate": "Country=%{x}<br>Date=2/20/20<br>Cases=%{y}<extra></extra>",
                      "ids": [
                        "France"
                      ],
                      "legendgroup": "France",
                      "marker": {
                        "color": "#ab63fa"
                      },
                      "name": "France",
                      "offsetgroup": "France",
                      "orientation": "v",
                      "showlegend": true,
                      "textposition": "auto",
                      "type": "bar",
                      "x": [
                        "France"
                      ],
                      "xaxis": "x",
                      "y": [
                        12
                      ],
                      "yaxis": "y"
                    },
                    {
                      "alignmentgroup": "True",
                      "hovertemplate": "Country=%{x}<br>Date=2/20/20<br>Cases=%{y}<extra></extra>",
                      "ids": [
                        "India"
                      ],
                      "legendgroup": "India",
                      "marker": {
                        "color": "#FFA15A"
                      },
                      "name": "India",
                      "offsetgroup": "India",
                      "orientation": "v",
                      "showlegend": true,
                      "textposition": "auto",
                      "type": "bar",
                      "x": [
                        "India"
                      ],
                      "xaxis": "x",
                      "y": [
                        3
                      ],
                      "yaxis": "y"
                    },
                    {
                      "alignmentgroup": "True",
                      "hovertemplate": "Country=%{x}<br>Date=2/20/20<br>Cases=%{y}<extra></extra>",
                      "ids": [
                        "Italy"
                      ],
                      "legendgroup": "Italy",
                      "marker": {
                        "color": "#19d3f3"
                      },
                      "name": "Italy",
                      "offsetgroup": "Italy",
                      "orientation": "v",
                      "showlegend": true,
                      "textposition": "auto",
                      "type": "bar",
                      "x": [
                        "Italy"
                      ],
                      "xaxis": "x",
                      "y": [
                        3
                      ],
                      "yaxis": "y"
                    },
                    {
                      "alignmentgroup": "True",
                      "hovertemplate": "Country=%{x}<br>Date=2/20/20<br>Cases=%{y}<extra></extra>",
                      "ids": [
                        "Russia"
                      ],
                      "legendgroup": "Russia",
                      "marker": {
                        "color": "#FF6692"
                      },
                      "name": "Russia",
                      "offsetgroup": "Russia",
                      "orientation": "v",
                      "showlegend": true,
                      "textposition": "auto",
                      "type": "bar",
                      "x": [
                        "Russia"
                      ],
                      "xaxis": "x",
                      "y": [
                        2
                      ],
                      "yaxis": "y"
                    },
                    {
                      "alignmentgroup": "True",
                      "hovertemplate": "Country=%{x}<br>Date=2/20/20<br>Cases=%{y}<extra></extra>",
                      "ids": [
                        "Spain"
                      ],
                      "legendgroup": "Spain",
                      "marker": {
                        "color": "#B6E880"
                      },
                      "name": "Spain",
                      "offsetgroup": "Spain",
                      "orientation": "v",
                      "showlegend": true,
                      "textposition": "auto",
                      "type": "bar",
                      "x": [
                        "Spain"
                      ],
                      "xaxis": "x",
                      "y": [
                        2
                      ],
                      "yaxis": "y"
                    },
                    {
                      "alignmentgroup": "True",
                      "hovertemplate": "Country=%{x}<br>Date=2/20/20<br>Cases=%{y}<extra></extra>",
                      "ids": [
                        "US"
                      ],
                      "legendgroup": "US",
                      "marker": {
                        "color": "#FF97FF"
                      },
                      "name": "US",
                      "offsetgroup": "US",
                      "orientation": "v",
                      "showlegend": true,
                      "textposition": "auto",
                      "type": "bar",
                      "x": [
                        "US"
                      ],
                      "xaxis": "x",
                      "y": [
                        14
                      ],
                      "yaxis": "y"
                    },
                    {
                      "alignmentgroup": "True",
                      "hovertemplate": "Country=%{x}<br>Date=2/20/20<br>Cases=%{y}<extra></extra>",
                      "ids": [
                        "United Kingdom"
                      ],
                      "legendgroup": "United Kingdom",
                      "marker": {
                        "color": "#FECB52"
                      },
                      "name": "United Kingdom",
                      "offsetgroup": "United Kingdom",
                      "orientation": "v",
                      "showlegend": true,
                      "textposition": "auto",
                      "type": "bar",
                      "x": [
                        "United Kingdom"
                      ],
                      "xaxis": "x",
                      "y": [
                        22
                      ],
                      "yaxis": "y"
                    }
                  ],
                  "name": "2/20/20"
                },
                {
                  "data": [
                    {
                      "alignmentgroup": "True",
                      "hovertemplate": "Country=%{x}<br>Date=2/25/20<br>Cases=%{y}<extra></extra>",
                      "ids": [
                        "Argentina"
                      ],
                      "legendgroup": "Argentina",
                      "marker": {
                        "color": "#636efa"
                      },
                      "name": "Argentina",
                      "offsetgroup": "Argentina",
                      "orientation": "v",
                      "showlegend": true,
                      "textposition": "auto",
                      "type": "bar",
                      "x": [
                        "Argentina"
                      ],
                      "xaxis": "x",
                      "y": [
                        0
                      ],
                      "yaxis": "y"
                    },
                    {
                      "alignmentgroup": "True",
                      "hovertemplate": "Country=%{x}<br>Date=2/25/20<br>Cases=%{y}<extra></extra>",
                      "ids": [
                        "Brazil"
                      ],
                      "legendgroup": "Brazil",
                      "marker": {
                        "color": "#EF553B"
                      },
                      "name": "Brazil",
                      "offsetgroup": "Brazil",
                      "orientation": "v",
                      "showlegend": true,
                      "textposition": "auto",
                      "type": "bar",
                      "x": [
                        "Brazil"
                      ],
                      "xaxis": "x",
                      "y": [
                        0
                      ],
                      "yaxis": "y"
                    },
                    {
                      "alignmentgroup": "True",
                      "hovertemplate": "Country=%{x}<br>Date=2/25/20<br>Cases=%{y}<extra></extra>",
                      "ids": [
                        "Colombia"
                      ],
                      "legendgroup": "Colombia",
                      "marker": {
                        "color": "#00cc96"
                      },
                      "name": "Colombia",
                      "offsetgroup": "Colombia",
                      "orientation": "v",
                      "showlegend": true,
                      "textposition": "auto",
                      "type": "bar",
                      "x": [
                        "Colombia"
                      ],
                      "xaxis": "x",
                      "y": [
                        0
                      ],
                      "yaxis": "y"
                    },
                    {
                      "alignmentgroup": "True",
                      "hovertemplate": "Country=%{x}<br>Date=2/25/20<br>Cases=%{y}<extra></extra>",
                      "ids": [
                        "France"
                      ],
                      "legendgroup": "France",
                      "marker": {
                        "color": "#ab63fa"
                      },
                      "name": "France",
                      "offsetgroup": "France",
                      "orientation": "v",
                      "showlegend": true,
                      "textposition": "auto",
                      "type": "bar",
                      "x": [
                        "France"
                      ],
                      "xaxis": "x",
                      "y": [
                        14
                      ],
                      "yaxis": "y"
                    },
                    {
                      "alignmentgroup": "True",
                      "hovertemplate": "Country=%{x}<br>Date=2/25/20<br>Cases=%{y}<extra></extra>",
                      "ids": [
                        "India"
                      ],
                      "legendgroup": "India",
                      "marker": {
                        "color": "#FFA15A"
                      },
                      "name": "India",
                      "offsetgroup": "India",
                      "orientation": "v",
                      "showlegend": true,
                      "textposition": "auto",
                      "type": "bar",
                      "x": [
                        "India"
                      ],
                      "xaxis": "x",
                      "y": [
                        3
                      ],
                      "yaxis": "y"
                    },
                    {
                      "alignmentgroup": "True",
                      "hovertemplate": "Country=%{x}<br>Date=2/25/20<br>Cases=%{y}<extra></extra>",
                      "ids": [
                        "Italy"
                      ],
                      "legendgroup": "Italy",
                      "marker": {
                        "color": "#19d3f3"
                      },
                      "name": "Italy",
                      "offsetgroup": "Italy",
                      "orientation": "v",
                      "showlegend": true,
                      "textposition": "auto",
                      "type": "bar",
                      "x": [
                        "Italy"
                      ],
                      "xaxis": "x",
                      "y": [
                        322
                      ],
                      "yaxis": "y"
                    },
                    {
                      "alignmentgroup": "True",
                      "hovertemplate": "Country=%{x}<br>Date=2/25/20<br>Cases=%{y}<extra></extra>",
                      "ids": [
                        "Russia"
                      ],
                      "legendgroup": "Russia",
                      "marker": {
                        "color": "#FF6692"
                      },
                      "name": "Russia",
                      "offsetgroup": "Russia",
                      "orientation": "v",
                      "showlegend": true,
                      "textposition": "auto",
                      "type": "bar",
                      "x": [
                        "Russia"
                      ],
                      "xaxis": "x",
                      "y": [
                        2
                      ],
                      "yaxis": "y"
                    },
                    {
                      "alignmentgroup": "True",
                      "hovertemplate": "Country=%{x}<br>Date=2/25/20<br>Cases=%{y}<extra></extra>",
                      "ids": [
                        "Spain"
                      ],
                      "legendgroup": "Spain",
                      "marker": {
                        "color": "#B6E880"
                      },
                      "name": "Spain",
                      "offsetgroup": "Spain",
                      "orientation": "v",
                      "showlegend": true,
                      "textposition": "auto",
                      "type": "bar",
                      "x": [
                        "Spain"
                      ],
                      "xaxis": "x",
                      "y": [
                        6
                      ],
                      "yaxis": "y"
                    },
                    {
                      "alignmentgroup": "True",
                      "hovertemplate": "Country=%{x}<br>Date=2/25/20<br>Cases=%{y}<extra></extra>",
                      "ids": [
                        "US"
                      ],
                      "legendgroup": "US",
                      "marker": {
                        "color": "#FF97FF"
                      },
                      "name": "US",
                      "offsetgroup": "US",
                      "orientation": "v",
                      "showlegend": true,
                      "textposition": "auto",
                      "type": "bar",
                      "x": [
                        "US"
                      ],
                      "xaxis": "x",
                      "y": [
                        16
                      ],
                      "yaxis": "y"
                    },
                    {
                      "alignmentgroup": "True",
                      "hovertemplate": "Country=%{x}<br>Date=2/25/20<br>Cases=%{y}<extra></extra>",
                      "ids": [
                        "United Kingdom"
                      ],
                      "legendgroup": "United Kingdom",
                      "marker": {
                        "color": "#FECB52"
                      },
                      "name": "United Kingdom",
                      "offsetgroup": "United Kingdom",
                      "orientation": "v",
                      "showlegend": true,
                      "textposition": "auto",
                      "type": "bar",
                      "x": [
                        "United Kingdom"
                      ],
                      "xaxis": "x",
                      "y": [
                        34
                      ],
                      "yaxis": "y"
                    }
                  ],
                  "name": "2/25/20"
                },
                {
                  "data": [
                    {
                      "alignmentgroup": "True",
                      "hovertemplate": "Country=%{x}<br>Date=3/7/20<br>Cases=%{y}<extra></extra>",
                      "ids": [
                        "Argentina"
                      ],
                      "legendgroup": "Argentina",
                      "marker": {
                        "color": "#636efa"
                      },
                      "name": "Argentina",
                      "offsetgroup": "Argentina",
                      "orientation": "v",
                      "showlegend": true,
                      "textposition": "auto",
                      "type": "bar",
                      "x": [
                        "Argentina"
                      ],
                      "xaxis": "x",
                      "y": [
                        8
                      ],
                      "yaxis": "y"
                    },
                    {
                      "alignmentgroup": "True",
                      "hovertemplate": "Country=%{x}<br>Date=3/7/20<br>Cases=%{y}<extra></extra>",
                      "ids": [
                        "Brazil"
                      ],
                      "legendgroup": "Brazil",
                      "marker": {
                        "color": "#EF553B"
                      },
                      "name": "Brazil",
                      "offsetgroup": "Brazil",
                      "orientation": "v",
                      "showlegend": true,
                      "textposition": "auto",
                      "type": "bar",
                      "x": [
                        "Brazil"
                      ],
                      "xaxis": "x",
                      "y": [
                        13
                      ],
                      "yaxis": "y"
                    },
                    {
                      "alignmentgroup": "True",
                      "hovertemplate": "Country=%{x}<br>Date=3/7/20<br>Cases=%{y}<extra></extra>",
                      "ids": [
                        "Colombia"
                      ],
                      "legendgroup": "Colombia",
                      "marker": {
                        "color": "#00cc96"
                      },
                      "name": "Colombia",
                      "offsetgroup": "Colombia",
                      "orientation": "v",
                      "showlegend": true,
                      "textposition": "auto",
                      "type": "bar",
                      "x": [
                        "Colombia"
                      ],
                      "xaxis": "x",
                      "y": [
                        1
                      ],
                      "yaxis": "y"
                    },
                    {
                      "alignmentgroup": "True",
                      "hovertemplate": "Country=%{x}<br>Date=3/7/20<br>Cases=%{y}<extra></extra>",
                      "ids": [
                        "France"
                      ],
                      "legendgroup": "France",
                      "marker": {
                        "color": "#ab63fa"
                      },
                      "name": "France",
                      "offsetgroup": "France",
                      "orientation": "v",
                      "showlegend": true,
                      "textposition": "auto",
                      "type": "bar",
                      "x": [
                        "France"
                      ],
                      "xaxis": "x",
                      "y": [
                        959
                      ],
                      "yaxis": "y"
                    },
                    {
                      "alignmentgroup": "True",
                      "hovertemplate": "Country=%{x}<br>Date=3/7/20<br>Cases=%{y}<extra></extra>",
                      "ids": [
                        "India"
                      ],
                      "legendgroup": "India",
                      "marker": {
                        "color": "#FFA15A"
                      },
                      "name": "India",
                      "offsetgroup": "India",
                      "orientation": "v",
                      "showlegend": true,
                      "textposition": "auto",
                      "type": "bar",
                      "x": [
                        "India"
                      ],
                      "xaxis": "x",
                      "y": [
                        34
                      ],
                      "yaxis": "y"
                    },
                    {
                      "alignmentgroup": "True",
                      "hovertemplate": "Country=%{x}<br>Date=3/7/20<br>Cases=%{y}<extra></extra>",
                      "ids": [
                        "Italy"
                      ],
                      "legendgroup": "Italy",
                      "marker": {
                        "color": "#19d3f3"
                      },
                      "name": "Italy",
                      "offsetgroup": "Italy",
                      "orientation": "v",
                      "showlegend": true,
                      "textposition": "auto",
                      "type": "bar",
                      "x": [
                        "Italy"
                      ],
                      "xaxis": "x",
                      "y": [
                        5883
                      ],
                      "yaxis": "y"
                    },
                    {
                      "alignmentgroup": "True",
                      "hovertemplate": "Country=%{x}<br>Date=3/7/20<br>Cases=%{y}<extra></extra>",
                      "ids": [
                        "Russia"
                      ],
                      "legendgroup": "Russia",
                      "marker": {
                        "color": "#FF6692"
                      },
                      "name": "Russia",
                      "offsetgroup": "Russia",
                      "orientation": "v",
                      "showlegend": true,
                      "textposition": "auto",
                      "type": "bar",
                      "x": [
                        "Russia"
                      ],
                      "xaxis": "x",
                      "y": [
                        13
                      ],
                      "yaxis": "y"
                    },
                    {
                      "alignmentgroup": "True",
                      "hovertemplate": "Country=%{x}<br>Date=3/7/20<br>Cases=%{y}<extra></extra>",
                      "ids": [
                        "Spain"
                      ],
                      "legendgroup": "Spain",
                      "marker": {
                        "color": "#B6E880"
                      },
                      "name": "Spain",
                      "offsetgroup": "Spain",
                      "orientation": "v",
                      "showlegend": true,
                      "textposition": "auto",
                      "type": "bar",
                      "x": [
                        "Spain"
                      ],
                      "xaxis": "x",
                      "y": [
                        500
                      ],
                      "yaxis": "y"
                    },
                    {
                      "alignmentgroup": "True",
                      "hovertemplate": "Country=%{x}<br>Date=3/7/20<br>Cases=%{y}<extra></extra>",
                      "ids": [
                        "US"
                      ],
                      "legendgroup": "US",
                      "marker": {
                        "color": "#FF97FF"
                      },
                      "name": "US",
                      "offsetgroup": "US",
                      "orientation": "v",
                      "showlegend": true,
                      "textposition": "auto",
                      "type": "bar",
                      "x": [
                        "US"
                      ],
                      "xaxis": "x",
                      "y": [
                        403
                      ],
                      "yaxis": "y"
                    },
                    {
                      "alignmentgroup": "True",
                      "hovertemplate": "Country=%{x}<br>Date=3/7/20<br>Cases=%{y}<extra></extra>",
                      "ids": [
                        "United Kingdom"
                      ],
                      "legendgroup": "United Kingdom",
                      "marker": {
                        "color": "#FECB52"
                      },
                      "name": "United Kingdom",
                      "offsetgroup": "United Kingdom",
                      "orientation": "v",
                      "showlegend": true,
                      "textposition": "auto",
                      "type": "bar",
                      "x": [
                        "United Kingdom"
                      ],
                      "xaxis": "x",
                      "y": [
                        429
                      ],
                      "yaxis": "y"
                    }
                  ],
                  "name": "3/7/20"
                },
                {
                  "data": [
                    {
                      "alignmentgroup": "True",
                      "hovertemplate": "Country=%{x}<br>Date=3/12/20<br>Cases=%{y}<extra></extra>",
                      "ids": [
                        "Argentina"
                      ],
                      "legendgroup": "Argentina",
                      "marker": {
                        "color": "#636efa"
                      },
                      "name": "Argentina",
                      "offsetgroup": "Argentina",
                      "orientation": "v",
                      "showlegend": true,
                      "textposition": "auto",
                      "type": "bar",
                      "x": [
                        "Argentina"
                      ],
                      "xaxis": "x",
                      "y": [
                        19
                      ],
                      "yaxis": "y"
                    },
                    {
                      "alignmentgroup": "True",
                      "hovertemplate": "Country=%{x}<br>Date=3/12/20<br>Cases=%{y}<extra></extra>",
                      "ids": [
                        "Brazil"
                      ],
                      "legendgroup": "Brazil",
                      "marker": {
                        "color": "#EF553B"
                      },
                      "name": "Brazil",
                      "offsetgroup": "Brazil",
                      "orientation": "v",
                      "showlegend": true,
                      "textposition": "auto",
                      "type": "bar",
                      "x": [
                        "Brazil"
                      ],
                      "xaxis": "x",
                      "y": [
                        52
                      ],
                      "yaxis": "y"
                    },
                    {
                      "alignmentgroup": "True",
                      "hovertemplate": "Country=%{x}<br>Date=3/12/20<br>Cases=%{y}<extra></extra>",
                      "ids": [
                        "Colombia"
                      ],
                      "legendgroup": "Colombia",
                      "marker": {
                        "color": "#00cc96"
                      },
                      "name": "Colombia",
                      "offsetgroup": "Colombia",
                      "orientation": "v",
                      "showlegend": true,
                      "textposition": "auto",
                      "type": "bar",
                      "x": [
                        "Colombia"
                      ],
                      "xaxis": "x",
                      "y": [
                        9
                      ],
                      "yaxis": "y"
                    },
                    {
                      "alignmentgroup": "True",
                      "hovertemplate": "Country=%{x}<br>Date=3/12/20<br>Cases=%{y}<extra></extra>",
                      "ids": [
                        "France"
                      ],
                      "legendgroup": "France",
                      "marker": {
                        "color": "#ab63fa"
                      },
                      "name": "France",
                      "offsetgroup": "France",
                      "orientation": "v",
                      "showlegend": true,
                      "textposition": "auto",
                      "type": "bar",
                      "x": [
                        "France"
                      ],
                      "xaxis": "x",
                      "y": [
                        2293
                      ],
                      "yaxis": "y"
                    },
                    {
                      "alignmentgroup": "True",
                      "hovertemplate": "Country=%{x}<br>Date=3/12/20<br>Cases=%{y}<extra></extra>",
                      "ids": [
                        "India"
                      ],
                      "legendgroup": "India",
                      "marker": {
                        "color": "#FFA15A"
                      },
                      "name": "India",
                      "offsetgroup": "India",
                      "orientation": "v",
                      "showlegend": true,
                      "textposition": "auto",
                      "type": "bar",
                      "x": [
                        "India"
                      ],
                      "xaxis": "x",
                      "y": [
                        73
                      ],
                      "yaxis": "y"
                    },
                    {
                      "alignmentgroup": "True",
                      "hovertemplate": "Country=%{x}<br>Date=3/12/20<br>Cases=%{y}<extra></extra>",
                      "ids": [
                        "Italy"
                      ],
                      "legendgroup": "Italy",
                      "marker": {
                        "color": "#19d3f3"
                      },
                      "name": "Italy",
                      "offsetgroup": "Italy",
                      "orientation": "v",
                      "showlegend": true,
                      "textposition": "auto",
                      "type": "bar",
                      "x": [
                        "Italy"
                      ],
                      "xaxis": "x",
                      "y": [
                        15113
                      ],
                      "yaxis": "y"
                    },
                    {
                      "alignmentgroup": "True",
                      "hovertemplate": "Country=%{x}<br>Date=3/12/20<br>Cases=%{y}<extra></extra>",
                      "ids": [
                        "Russia"
                      ],
                      "legendgroup": "Russia",
                      "marker": {
                        "color": "#FF6692"
                      },
                      "name": "Russia",
                      "offsetgroup": "Russia",
                      "orientation": "v",
                      "showlegend": true,
                      "textposition": "auto",
                      "type": "bar",
                      "x": [
                        "Russia"
                      ],
                      "xaxis": "x",
                      "y": [
                        28
                      ],
                      "yaxis": "y"
                    },
                    {
                      "alignmentgroup": "True",
                      "hovertemplate": "Country=%{x}<br>Date=3/12/20<br>Cases=%{y}<extra></extra>",
                      "ids": [
                        "Spain"
                      ],
                      "legendgroup": "Spain",
                      "marker": {
                        "color": "#B6E880"
                      },
                      "name": "Spain",
                      "offsetgroup": "Spain",
                      "orientation": "v",
                      "showlegend": true,
                      "textposition": "auto",
                      "type": "bar",
                      "x": [
                        "Spain"
                      ],
                      "xaxis": "x",
                      "y": [
                        2277
                      ],
                      "yaxis": "y"
                    },
                    {
                      "alignmentgroup": "True",
                      "hovertemplate": "Country=%{x}<br>Date=3/12/20<br>Cases=%{y}<extra></extra>",
                      "ids": [
                        "US"
                      ],
                      "legendgroup": "US",
                      "marker": {
                        "color": "#FF97FF"
                      },
                      "name": "US",
                      "offsetgroup": "US",
                      "orientation": "v",
                      "showlegend": true,
                      "textposition": "auto",
                      "type": "bar",
                      "x": [
                        "US"
                      ],
                      "xaxis": "x",
                      "y": [
                        1586
                      ],
                      "yaxis": "y"
                    },
                    {
                      "alignmentgroup": "True",
                      "hovertemplate": "Country=%{x}<br>Date=3/12/20<br>Cases=%{y}<extra></extra>",
                      "ids": [
                        "United Kingdom"
                      ],
                      "legendgroup": "United Kingdom",
                      "marker": {
                        "color": "#FECB52"
                      },
                      "name": "United Kingdom",
                      "offsetgroup": "United Kingdom",
                      "orientation": "v",
                      "showlegend": true,
                      "textposition": "auto",
                      "type": "bar",
                      "x": [
                        "United Kingdom"
                      ],
                      "xaxis": "x",
                      "y": [
                        1790
                      ],
                      "yaxis": "y"
                    }
                  ],
                  "name": "3/12/20"
                },
                {
                  "data": [
                    {
                      "alignmentgroup": "True",
                      "hovertemplate": "Country=%{x}<br>Date=3/17/20<br>Cases=%{y}<extra></extra>",
                      "ids": [
                        "Argentina"
                      ],
                      "legendgroup": "Argentina",
                      "marker": {
                        "color": "#636efa"
                      },
                      "name": "Argentina",
                      "offsetgroup": "Argentina",
                      "orientation": "v",
                      "showlegend": true,
                      "textposition": "auto",
                      "type": "bar",
                      "x": [
                        "Argentina"
                      ],
                      "xaxis": "x",
                      "y": [
                        68
                      ],
                      "yaxis": "y"
                    },
                    {
                      "alignmentgroup": "True",
                      "hovertemplate": "Country=%{x}<br>Date=3/17/20<br>Cases=%{y}<extra></extra>",
                      "ids": [
                        "Brazil"
                      ],
                      "legendgroup": "Brazil",
                      "marker": {
                        "color": "#EF553B"
                      },
                      "name": "Brazil",
                      "offsetgroup": "Brazil",
                      "orientation": "v",
                      "showlegend": true,
                      "textposition": "auto",
                      "type": "bar",
                      "x": [
                        "Brazil"
                      ],
                      "xaxis": "x",
                      "y": [
                        321
                      ],
                      "yaxis": "y"
                    },
                    {
                      "alignmentgroup": "True",
                      "hovertemplate": "Country=%{x}<br>Date=3/17/20<br>Cases=%{y}<extra></extra>",
                      "ids": [
                        "Colombia"
                      ],
                      "legendgroup": "Colombia",
                      "marker": {
                        "color": "#00cc96"
                      },
                      "name": "Colombia",
                      "offsetgroup": "Colombia",
                      "orientation": "v",
                      "showlegend": true,
                      "textposition": "auto",
                      "type": "bar",
                      "x": [
                        "Colombia"
                      ],
                      "xaxis": "x",
                      "y": [
                        75
                      ],
                      "yaxis": "y"
                    },
                    {
                      "alignmentgroup": "True",
                      "hovertemplate": "Country=%{x}<br>Date=3/17/20<br>Cases=%{y}<extra></extra>",
                      "ids": [
                        "France"
                      ],
                      "legendgroup": "France",
                      "marker": {
                        "color": "#ab63fa"
                      },
                      "name": "France",
                      "offsetgroup": "France",
                      "orientation": "v",
                      "showlegend": true,
                      "textposition": "auto",
                      "type": "bar",
                      "x": [
                        "France"
                      ],
                      "xaxis": "x",
                      "y": [
                        7715
                      ],
                      "yaxis": "y"
                    },
                    {
                      "alignmentgroup": "True",
                      "hovertemplate": "Country=%{x}<br>Date=3/17/20<br>Cases=%{y}<extra></extra>",
                      "ids": [
                        "India"
                      ],
                      "legendgroup": "India",
                      "marker": {
                        "color": "#FFA15A"
                      },
                      "name": "India",
                      "offsetgroup": "India",
                      "orientation": "v",
                      "showlegend": true,
                      "textposition": "auto",
                      "type": "bar",
                      "x": [
                        "India"
                      ],
                      "xaxis": "x",
                      "y": [
                        142
                      ],
                      "yaxis": "y"
                    },
                    {
                      "alignmentgroup": "True",
                      "hovertemplate": "Country=%{x}<br>Date=3/17/20<br>Cases=%{y}<extra></extra>",
                      "ids": [
                        "Italy"
                      ],
                      "legendgroup": "Italy",
                      "marker": {
                        "color": "#19d3f3"
                      },
                      "name": "Italy",
                      "offsetgroup": "Italy",
                      "orientation": "v",
                      "showlegend": true,
                      "textposition": "auto",
                      "type": "bar",
                      "x": [
                        "Italy"
                      ],
                      "xaxis": "x",
                      "y": [
                        31506
                      ],
                      "yaxis": "y"
                    },
                    {
                      "alignmentgroup": "True",
                      "hovertemplate": "Country=%{x}<br>Date=3/17/20<br>Cases=%{y}<extra></extra>",
                      "ids": [
                        "Russia"
                      ],
                      "legendgroup": "Russia",
                      "marker": {
                        "color": "#FF6692"
                      },
                      "name": "Russia",
                      "offsetgroup": "Russia",
                      "orientation": "v",
                      "showlegend": true,
                      "textposition": "auto",
                      "type": "bar",
                      "x": [
                        "Russia"
                      ],
                      "xaxis": "x",
                      "y": [
                        114
                      ],
                      "yaxis": "y"
                    },
                    {
                      "alignmentgroup": "True",
                      "hovertemplate": "Country=%{x}<br>Date=3/17/20<br>Cases=%{y}<extra></extra>",
                      "ids": [
                        "Spain"
                      ],
                      "legendgroup": "Spain",
                      "marker": {
                        "color": "#B6E880"
                      },
                      "name": "Spain",
                      "offsetgroup": "Spain",
                      "orientation": "v",
                      "showlegend": true,
                      "textposition": "auto",
                      "type": "bar",
                      "x": [
                        "Spain"
                      ],
                      "xaxis": "x",
                      "y": [
                        11748
                      ],
                      "yaxis": "y"
                    },
                    {
                      "alignmentgroup": "True",
                      "hovertemplate": "Country=%{x}<br>Date=3/17/20<br>Cases=%{y}<extra></extra>",
                      "ids": [
                        "US"
                      ],
                      "legendgroup": "US",
                      "marker": {
                        "color": "#FF97FF"
                      },
                      "name": "US",
                      "offsetgroup": "US",
                      "orientation": "v",
                      "showlegend": true,
                      "textposition": "auto",
                      "type": "bar",
                      "x": [
                        "US"
                      ],
                      "xaxis": "x",
                      "y": [
                        6512
                      ],
                      "yaxis": "y"
                    },
                    {
                      "alignmentgroup": "True",
                      "hovertemplate": "Country=%{x}<br>Date=3/17/20<br>Cases=%{y}<extra></extra>",
                      "ids": [
                        "United Kingdom"
                      ],
                      "legendgroup": "United Kingdom",
                      "marker": {
                        "color": "#FECB52"
                      },
                      "name": "United Kingdom",
                      "offsetgroup": "United Kingdom",
                      "orientation": "v",
                      "showlegend": true,
                      "textposition": "auto",
                      "type": "bar",
                      "x": [
                        "United Kingdom"
                      ],
                      "xaxis": "x",
                      "y": [
                        4462
                      ],
                      "yaxis": "y"
                    }
                  ],
                  "name": "3/17/20"
                },
                {
                  "data": [
                    {
                      "alignmentgroup": "True",
                      "hovertemplate": "Country=%{x}<br>Date=3/21/20<br>Cases=%{y}<extra></extra>",
                      "ids": [
                        "Argentina"
                      ],
                      "legendgroup": "Argentina",
                      "marker": {
                        "color": "#636efa"
                      },
                      "name": "Argentina",
                      "offsetgroup": "Argentina",
                      "orientation": "v",
                      "showlegend": true,
                      "textposition": "auto",
                      "type": "bar",
                      "x": [
                        "Argentina"
                      ],
                      "xaxis": "x",
                      "y": [
                        158
                      ],
                      "yaxis": "y"
                    },
                    {
                      "alignmentgroup": "True",
                      "hovertemplate": "Country=%{x}<br>Date=3/21/20<br>Cases=%{y}<extra></extra>",
                      "ids": [
                        "Brazil"
                      ],
                      "legendgroup": "Brazil",
                      "marker": {
                        "color": "#EF553B"
                      },
                      "name": "Brazil",
                      "offsetgroup": "Brazil",
                      "orientation": "v",
                      "showlegend": true,
                      "textposition": "auto",
                      "type": "bar",
                      "x": [
                        "Brazil"
                      ],
                      "xaxis": "x",
                      "y": [
                        1021
                      ],
                      "yaxis": "y"
                    },
                    {
                      "alignmentgroup": "True",
                      "hovertemplate": "Country=%{x}<br>Date=3/21/20<br>Cases=%{y}<extra></extra>",
                      "ids": [
                        "Colombia"
                      ],
                      "legendgroup": "Colombia",
                      "marker": {
                        "color": "#00cc96"
                      },
                      "name": "Colombia",
                      "offsetgroup": "Colombia",
                      "orientation": "v",
                      "showlegend": true,
                      "textposition": "auto",
                      "type": "bar",
                      "x": [
                        "Colombia"
                      ],
                      "xaxis": "x",
                      "y": [
                        196
                      ],
                      "yaxis": "y"
                    },
                    {
                      "alignmentgroup": "True",
                      "hovertemplate": "Country=%{x}<br>Date=3/21/20<br>Cases=%{y}<extra></extra>",
                      "ids": [
                        "France"
                      ],
                      "legendgroup": "France",
                      "marker": {
                        "color": "#ab63fa"
                      },
                      "name": "France",
                      "offsetgroup": "France",
                      "orientation": "v",
                      "showlegend": true,
                      "textposition": "auto",
                      "type": "bar",
                      "x": [
                        "France"
                      ],
                      "xaxis": "x",
                      "y": [
                        14463
                      ],
                      "yaxis": "y"
                    },
                    {
                      "alignmentgroup": "True",
                      "hovertemplate": "Country=%{x}<br>Date=3/21/20<br>Cases=%{y}<extra></extra>",
                      "ids": [
                        "India"
                      ],
                      "legendgroup": "India",
                      "marker": {
                        "color": "#FFA15A"
                      },
                      "name": "India",
                      "offsetgroup": "India",
                      "orientation": "v",
                      "showlegend": true,
                      "textposition": "auto",
                      "type": "bar",
                      "x": [
                        "India"
                      ],
                      "xaxis": "x",
                      "y": [
                        330
                      ],
                      "yaxis": "y"
                    },
                    {
                      "alignmentgroup": "True",
                      "hovertemplate": "Country=%{x}<br>Date=3/21/20<br>Cases=%{y}<extra></extra>",
                      "ids": [
                        "Italy"
                      ],
                      "legendgroup": "Italy",
                      "marker": {
                        "color": "#19d3f3"
                      },
                      "name": "Italy",
                      "offsetgroup": "Italy",
                      "orientation": "v",
                      "showlegend": true,
                      "textposition": "auto",
                      "type": "bar",
                      "x": [
                        "Italy"
                      ],
                      "xaxis": "x",
                      "y": [
                        53578
                      ],
                      "yaxis": "y"
                    },
                    {
                      "alignmentgroup": "True",
                      "hovertemplate": "Country=%{x}<br>Date=3/21/20<br>Cases=%{y}<extra></extra>",
                      "ids": [
                        "Russia"
                      ],
                      "legendgroup": "Russia",
                      "marker": {
                        "color": "#FF6692"
                      },
                      "name": "Russia",
                      "offsetgroup": "Russia",
                      "orientation": "v",
                      "showlegend": true,
                      "textposition": "auto",
                      "type": "bar",
                      "x": [
                        "Russia"
                      ],
                      "xaxis": "x",
                      "y": [
                        306
                      ],
                      "yaxis": "y"
                    },
                    {
                      "alignmentgroup": "True",
                      "hovertemplate": "Country=%{x}<br>Date=3/21/20<br>Cases=%{y}<extra></extra>",
                      "ids": [
                        "Spain"
                      ],
                      "legendgroup": "Spain",
                      "marker": {
                        "color": "#B6E880"
                      },
                      "name": "Spain",
                      "offsetgroup": "Spain",
                      "orientation": "v",
                      "showlegend": true,
                      "textposition": "auto",
                      "type": "bar",
                      "x": [
                        "Spain"
                      ],
                      "xaxis": "x",
                      "y": [
                        25374
                      ],
                      "yaxis": "y"
                    },
                    {
                      "alignmentgroup": "True",
                      "hovertemplate": "Country=%{x}<br>Date=3/21/20<br>Cases=%{y}<extra></extra>",
                      "ids": [
                        "US"
                      ],
                      "legendgroup": "US",
                      "marker": {
                        "color": "#FF97FF"
                      },
                      "name": "US",
                      "offsetgroup": "US",
                      "orientation": "v",
                      "showlegend": true,
                      "textposition": "auto",
                      "type": "bar",
                      "x": [
                        "US"
                      ],
                      "xaxis": "x",
                      "y": [
                        26025
                      ],
                      "yaxis": "y"
                    },
                    {
                      "alignmentgroup": "True",
                      "hovertemplate": "Country=%{x}<br>Date=3/21/20<br>Cases=%{y}<extra></extra>",
                      "ids": [
                        "United Kingdom"
                      ],
                      "legendgroup": "United Kingdom",
                      "marker": {
                        "color": "#FECB52"
                      },
                      "name": "United Kingdom",
                      "offsetgroup": "United Kingdom",
                      "orientation": "v",
                      "showlegend": true,
                      "textposition": "auto",
                      "type": "bar",
                      "x": [
                        "United Kingdom"
                      ],
                      "xaxis": "x",
                      "y": [
                        9006
                      ],
                      "yaxis": "y"
                    }
                  ],
                  "name": "3/21/20"
                },
                {
                  "data": [
                    {
                      "alignmentgroup": "True",
                      "hovertemplate": "Country=%{x}<br>Date=3/26/20<br>Cases=%{y}<extra></extra>",
                      "ids": [
                        "Argentina"
                      ],
                      "legendgroup": "Argentina",
                      "marker": {
                        "color": "#636efa"
                      },
                      "name": "Argentina",
                      "offsetgroup": "Argentina",
                      "orientation": "v",
                      "showlegend": true,
                      "textposition": "auto",
                      "type": "bar",
                      "x": [
                        "Argentina"
                      ],
                      "xaxis": "x",
                      "y": [
                        502
                      ],
                      "yaxis": "y"
                    },
                    {
                      "alignmentgroup": "True",
                      "hovertemplate": "Country=%{x}<br>Date=3/26/20<br>Cases=%{y}<extra></extra>",
                      "ids": [
                        "Brazil"
                      ],
                      "legendgroup": "Brazil",
                      "marker": {
                        "color": "#EF553B"
                      },
                      "name": "Brazil",
                      "offsetgroup": "Brazil",
                      "orientation": "v",
                      "showlegend": true,
                      "textposition": "auto",
                      "type": "bar",
                      "x": [
                        "Brazil"
                      ],
                      "xaxis": "x",
                      "y": [
                        2985
                      ],
                      "yaxis": "y"
                    },
                    {
                      "alignmentgroup": "True",
                      "hovertemplate": "Country=%{x}<br>Date=3/26/20<br>Cases=%{y}<extra></extra>",
                      "ids": [
                        "Colombia"
                      ],
                      "legendgroup": "Colombia",
                      "marker": {
                        "color": "#00cc96"
                      },
                      "name": "Colombia",
                      "offsetgroup": "Colombia",
                      "orientation": "v",
                      "showlegend": true,
                      "textposition": "auto",
                      "type": "bar",
                      "x": [
                        "Colombia"
                      ],
                      "xaxis": "x",
                      "y": [
                        491
                      ],
                      "yaxis": "y"
                    },
                    {
                      "alignmentgroup": "True",
                      "hovertemplate": "Country=%{x}<br>Date=3/26/20<br>Cases=%{y}<extra></extra>",
                      "ids": [
                        "France"
                      ],
                      "legendgroup": "France",
                      "marker": {
                        "color": "#ab63fa"
                      },
                      "name": "France",
                      "offsetgroup": "France",
                      "orientation": "v",
                      "showlegend": true,
                      "textposition": "auto",
                      "type": "bar",
                      "x": [
                        "France"
                      ],
                      "xaxis": "x",
                      "y": [
                        29551
                      ],
                      "yaxis": "y"
                    },
                    {
                      "alignmentgroup": "True",
                      "hovertemplate": "Country=%{x}<br>Date=3/26/20<br>Cases=%{y}<extra></extra>",
                      "ids": [
                        "India"
                      ],
                      "legendgroup": "India",
                      "marker": {
                        "color": "#FFA15A"
                      },
                      "name": "India",
                      "offsetgroup": "India",
                      "orientation": "v",
                      "showlegend": true,
                      "textposition": "auto",
                      "type": "bar",
                      "x": [
                        "India"
                      ],
                      "xaxis": "x",
                      "y": [
                        727
                      ],
                      "yaxis": "y"
                    },
                    {
                      "alignmentgroup": "True",
                      "hovertemplate": "Country=%{x}<br>Date=3/26/20<br>Cases=%{y}<extra></extra>",
                      "ids": [
                        "Italy"
                      ],
                      "legendgroup": "Italy",
                      "marker": {
                        "color": "#19d3f3"
                      },
                      "name": "Italy",
                      "offsetgroup": "Italy",
                      "orientation": "v",
                      "showlegend": true,
                      "textposition": "auto",
                      "type": "bar",
                      "x": [
                        "Italy"
                      ],
                      "xaxis": "x",
                      "y": [
                        80589
                      ],
                      "yaxis": "y"
                    },
                    {
                      "alignmentgroup": "True",
                      "hovertemplate": "Country=%{x}<br>Date=3/26/20<br>Cases=%{y}<extra></extra>",
                      "ids": [
                        "Russia"
                      ],
                      "legendgroup": "Russia",
                      "marker": {
                        "color": "#FF6692"
                      },
                      "name": "Russia",
                      "offsetgroup": "Russia",
                      "orientation": "v",
                      "showlegend": true,
                      "textposition": "auto",
                      "type": "bar",
                      "x": [
                        "Russia"
                      ],
                      "xaxis": "x",
                      "y": [
                        840
                      ],
                      "yaxis": "y"
                    },
                    {
                      "alignmentgroup": "True",
                      "hovertemplate": "Country=%{x}<br>Date=3/26/20<br>Cases=%{y}<extra></extra>",
                      "ids": [
                        "Spain"
                      ],
                      "legendgroup": "Spain",
                      "marker": {
                        "color": "#B6E880"
                      },
                      "name": "Spain",
                      "offsetgroup": "Spain",
                      "orientation": "v",
                      "showlegend": true,
                      "textposition": "auto",
                      "type": "bar",
                      "x": [
                        "Spain"
                      ],
                      "xaxis": "x",
                      "y": [
                        57786
                      ],
                      "yaxis": "y"
                    },
                    {
                      "alignmentgroup": "True",
                      "hovertemplate": "Country=%{x}<br>Date=3/26/20<br>Cases=%{y}<extra></extra>",
                      "ids": [
                        "US"
                      ],
                      "legendgroup": "US",
                      "marker": {
                        "color": "#FF97FF"
                      },
                      "name": "US",
                      "offsetgroup": "US",
                      "orientation": "v",
                      "showlegend": true,
                      "textposition": "auto",
                      "type": "bar",
                      "x": [
                        "US"
                      ],
                      "xaxis": "x",
                      "y": [
                        86556
                      ],
                      "yaxis": "y"
                    },
                    {
                      "alignmentgroup": "True",
                      "hovertemplate": "Country=%{x}<br>Date=3/26/20<br>Cases=%{y}<extra></extra>",
                      "ids": [
                        "United Kingdom"
                      ],
                      "legendgroup": "United Kingdom",
                      "marker": {
                        "color": "#FECB52"
                      },
                      "name": "United Kingdom",
                      "offsetgroup": "United Kingdom",
                      "orientation": "v",
                      "showlegend": true,
                      "textposition": "auto",
                      "type": "bar",
                      "x": [
                        "United Kingdom"
                      ],
                      "xaxis": "x",
                      "y": [
                        20970
                      ],
                      "yaxis": "y"
                    }
                  ],
                  "name": "3/26/20"
                },
                {
                  "data": [
                    {
                      "alignmentgroup": "True",
                      "hovertemplate": "Country=%{x}<br>Date=3/30/20<br>Cases=%{y}<extra></extra>",
                      "ids": [
                        "Argentina"
                      ],
                      "legendgroup": "Argentina",
                      "marker": {
                        "color": "#636efa"
                      },
                      "name": "Argentina",
                      "offsetgroup": "Argentina",
                      "orientation": "v",
                      "showlegend": true,
                      "textposition": "auto",
                      "type": "bar",
                      "x": [
                        "Argentina"
                      ],
                      "xaxis": "x",
                      "y": [
                        820
                      ],
                      "yaxis": "y"
                    },
                    {
                      "alignmentgroup": "True",
                      "hovertemplate": "Country=%{x}<br>Date=3/30/20<br>Cases=%{y}<extra></extra>",
                      "ids": [
                        "Brazil"
                      ],
                      "legendgroup": "Brazil",
                      "marker": {
                        "color": "#EF553B"
                      },
                      "name": "Brazil",
                      "offsetgroup": "Brazil",
                      "orientation": "v",
                      "showlegend": true,
                      "textposition": "auto",
                      "type": "bar",
                      "x": [
                        "Brazil"
                      ],
                      "xaxis": "x",
                      "y": [
                        4579
                      ],
                      "yaxis": "y"
                    },
                    {
                      "alignmentgroup": "True",
                      "hovertemplate": "Country=%{x}<br>Date=3/30/20<br>Cases=%{y}<extra></extra>",
                      "ids": [
                        "Colombia"
                      ],
                      "legendgroup": "Colombia",
                      "marker": {
                        "color": "#00cc96"
                      },
                      "name": "Colombia",
                      "offsetgroup": "Colombia",
                      "orientation": "v",
                      "showlegend": true,
                      "textposition": "auto",
                      "type": "bar",
                      "x": [
                        "Colombia"
                      ],
                      "xaxis": "x",
                      "y": [
                        798
                      ],
                      "yaxis": "y"
                    },
                    {
                      "alignmentgroup": "True",
                      "hovertemplate": "Country=%{x}<br>Date=3/30/20<br>Cases=%{y}<extra></extra>",
                      "ids": [
                        "France"
                      ],
                      "legendgroup": "France",
                      "marker": {
                        "color": "#ab63fa"
                      },
                      "name": "France",
                      "offsetgroup": "France",
                      "orientation": "v",
                      "showlegend": true,
                      "textposition": "auto",
                      "type": "bar",
                      "x": [
                        "France"
                      ],
                      "xaxis": "x",
                      "y": [
                        45170
                      ],
                      "yaxis": "y"
                    },
                    {
                      "alignmentgroup": "True",
                      "hovertemplate": "Country=%{x}<br>Date=3/30/20<br>Cases=%{y}<extra></extra>",
                      "ids": [
                        "India"
                      ],
                      "legendgroup": "India",
                      "marker": {
                        "color": "#FFA15A"
                      },
                      "name": "India",
                      "offsetgroup": "India",
                      "orientation": "v",
                      "showlegend": true,
                      "textposition": "auto",
                      "type": "bar",
                      "x": [
                        "India"
                      ],
                      "xaxis": "x",
                      "y": [
                        1251
                      ],
                      "yaxis": "y"
                    },
                    {
                      "alignmentgroup": "True",
                      "hovertemplate": "Country=%{x}<br>Date=3/30/20<br>Cases=%{y}<extra></extra>",
                      "ids": [
                        "Italy"
                      ],
                      "legendgroup": "Italy",
                      "marker": {
                        "color": "#19d3f3"
                      },
                      "name": "Italy",
                      "offsetgroup": "Italy",
                      "orientation": "v",
                      "showlegend": true,
                      "textposition": "auto",
                      "type": "bar",
                      "x": [
                        "Italy"
                      ],
                      "xaxis": "x",
                      "y": [
                        101739
                      ],
                      "yaxis": "y"
                    },
                    {
                      "alignmentgroup": "True",
                      "hovertemplate": "Country=%{x}<br>Date=3/30/20<br>Cases=%{y}<extra></extra>",
                      "ids": [
                        "Russia"
                      ],
                      "legendgroup": "Russia",
                      "marker": {
                        "color": "#FF6692"
                      },
                      "name": "Russia",
                      "offsetgroup": "Russia",
                      "orientation": "v",
                      "showlegend": true,
                      "textposition": "auto",
                      "type": "bar",
                      "x": [
                        "Russia"
                      ],
                      "xaxis": "x",
                      "y": [
                        1836
                      ],
                      "yaxis": "y"
                    },
                    {
                      "alignmentgroup": "True",
                      "hovertemplate": "Country=%{x}<br>Date=3/30/20<br>Cases=%{y}<extra></extra>",
                      "ids": [
                        "Spain"
                      ],
                      "legendgroup": "Spain",
                      "marker": {
                        "color": "#B6E880"
                      },
                      "name": "Spain",
                      "offsetgroup": "Spain",
                      "orientation": "v",
                      "showlegend": true,
                      "textposition": "auto",
                      "type": "bar",
                      "x": [
                        "Spain"
                      ],
                      "xaxis": "x",
                      "y": [
                        87956
                      ],
                      "yaxis": "y"
                    },
                    {
                      "alignmentgroup": "True",
                      "hovertemplate": "Country=%{x}<br>Date=3/30/20<br>Cases=%{y}<extra></extra>",
                      "ids": [
                        "US"
                      ],
                      "legendgroup": "US",
                      "marker": {
                        "color": "#FF97FF"
                      },
                      "name": "US",
                      "offsetgroup": "US",
                      "orientation": "v",
                      "showlegend": true,
                      "textposition": "auto",
                      "type": "bar",
                      "x": [
                        "US"
                      ],
                      "xaxis": "x",
                      "y": [
                        165733
                      ],
                      "yaxis": "y"
                    },
                    {
                      "alignmentgroup": "True",
                      "hovertemplate": "Country=%{x}<br>Date=3/30/20<br>Cases=%{y}<extra></extra>",
                      "ids": [
                        "United Kingdom"
                      ],
                      "legendgroup": "United Kingdom",
                      "marker": {
                        "color": "#FECB52"
                      },
                      "name": "United Kingdom",
                      "offsetgroup": "United Kingdom",
                      "orientation": "v",
                      "showlegend": true,
                      "textposition": "auto",
                      "type": "bar",
                      "x": [
                        "United Kingdom"
                      ],
                      "xaxis": "x",
                      "y": [
                        34281
                      ],
                      "yaxis": "y"
                    }
                  ],
                  "name": "3/30/20"
                },
                {
                  "data": [
                    {
                      "alignmentgroup": "True",
                      "hovertemplate": "Country=%{x}<br>Date=4/3/20<br>Cases=%{y}<extra></extra>",
                      "ids": [
                        "Argentina"
                      ],
                      "legendgroup": "Argentina",
                      "marker": {
                        "color": "#636efa"
                      },
                      "name": "Argentina",
                      "offsetgroup": "Argentina",
                      "orientation": "v",
                      "showlegend": true,
                      "textposition": "auto",
                      "type": "bar",
                      "x": [
                        "Argentina"
                      ],
                      "xaxis": "x",
                      "y": [
                        1265
                      ],
                      "yaxis": "y"
                    },
                    {
                      "alignmentgroup": "True",
                      "hovertemplate": "Country=%{x}<br>Date=4/3/20<br>Cases=%{y}<extra></extra>",
                      "ids": [
                        "Brazil"
                      ],
                      "legendgroup": "Brazil",
                      "marker": {
                        "color": "#EF553B"
                      },
                      "name": "Brazil",
                      "offsetgroup": "Brazil",
                      "orientation": "v",
                      "showlegend": true,
                      "textposition": "auto",
                      "type": "bar",
                      "x": [
                        "Brazil"
                      ],
                      "xaxis": "x",
                      "y": [
                        9056
                      ],
                      "yaxis": "y"
                    },
                    {
                      "alignmentgroup": "True",
                      "hovertemplate": "Country=%{x}<br>Date=4/3/20<br>Cases=%{y}<extra></extra>",
                      "ids": [
                        "Colombia"
                      ],
                      "legendgroup": "Colombia",
                      "marker": {
                        "color": "#00cc96"
                      },
                      "name": "Colombia",
                      "offsetgroup": "Colombia",
                      "orientation": "v",
                      "showlegend": true,
                      "textposition": "auto",
                      "type": "bar",
                      "x": [
                        "Colombia"
                      ],
                      "xaxis": "x",
                      "y": [
                        1267
                      ],
                      "yaxis": "y"
                    },
                    {
                      "alignmentgroup": "True",
                      "hovertemplate": "Country=%{x}<br>Date=4/3/20<br>Cases=%{y}<extra></extra>",
                      "ids": [
                        "France"
                      ],
                      "legendgroup": "France",
                      "marker": {
                        "color": "#ab63fa"
                      },
                      "name": "France",
                      "offsetgroup": "France",
                      "orientation": "v",
                      "showlegend": true,
                      "textposition": "auto",
                      "type": "bar",
                      "x": [
                        "France"
                      ],
                      "xaxis": "x",
                      "y": [
                        65202
                      ],
                      "yaxis": "y"
                    },
                    {
                      "alignmentgroup": "True",
                      "hovertemplate": "Country=%{x}<br>Date=4/3/20<br>Cases=%{y}<extra></extra>",
                      "ids": [
                        "India"
                      ],
                      "legendgroup": "India",
                      "marker": {
                        "color": "#FFA15A"
                      },
                      "name": "India",
                      "offsetgroup": "India",
                      "orientation": "v",
                      "showlegend": true,
                      "textposition": "auto",
                      "type": "bar",
                      "x": [
                        "India"
                      ],
                      "xaxis": "x",
                      "y": [
                        2567
                      ],
                      "yaxis": "y"
                    },
                    {
                      "alignmentgroup": "True",
                      "hovertemplate": "Country=%{x}<br>Date=4/3/20<br>Cases=%{y}<extra></extra>",
                      "ids": [
                        "Italy"
                      ],
                      "legendgroup": "Italy",
                      "marker": {
                        "color": "#19d3f3"
                      },
                      "name": "Italy",
                      "offsetgroup": "Italy",
                      "orientation": "v",
                      "showlegend": true,
                      "textposition": "auto",
                      "type": "bar",
                      "x": [
                        "Italy"
                      ],
                      "xaxis": "x",
                      "y": [
                        119827
                      ],
                      "yaxis": "y"
                    },
                    {
                      "alignmentgroup": "True",
                      "hovertemplate": "Country=%{x}<br>Date=4/3/20<br>Cases=%{y}<extra></extra>",
                      "ids": [
                        "Russia"
                      ],
                      "legendgroup": "Russia",
                      "marker": {
                        "color": "#FF6692"
                      },
                      "name": "Russia",
                      "offsetgroup": "Russia",
                      "orientation": "v",
                      "showlegend": true,
                      "textposition": "auto",
                      "type": "bar",
                      "x": [
                        "Russia"
                      ],
                      "xaxis": "x",
                      "y": [
                        4149
                      ],
                      "yaxis": "y"
                    },
                    {
                      "alignmentgroup": "True",
                      "hovertemplate": "Country=%{x}<br>Date=4/3/20<br>Cases=%{y}<extra></extra>",
                      "ids": [
                        "Spain"
                      ],
                      "legendgroup": "Spain",
                      "marker": {
                        "color": "#B6E880"
                      },
                      "name": "Spain",
                      "offsetgroup": "Spain",
                      "orientation": "v",
                      "showlegend": true,
                      "textposition": "auto",
                      "type": "bar",
                      "x": [
                        "Spain"
                      ],
                      "xaxis": "x",
                      "y": [
                        119199
                      ],
                      "yaxis": "y"
                    },
                    {
                      "alignmentgroup": "True",
                      "hovertemplate": "Country=%{x}<br>Date=4/3/20<br>Cases=%{y}<extra></extra>",
                      "ids": [
                        "US"
                      ],
                      "legendgroup": "US",
                      "marker": {
                        "color": "#FF97FF"
                      },
                      "name": "US",
                      "offsetgroup": "US",
                      "orientation": "v",
                      "showlegend": true,
                      "textposition": "auto",
                      "type": "bar",
                      "x": [
                        "US"
                      ],
                      "xaxis": "x",
                      "y": [
                        280306
                      ],
                      "yaxis": "y"
                    },
                    {
                      "alignmentgroup": "True",
                      "hovertemplate": "Country=%{x}<br>Date=4/3/20<br>Cases=%{y}<extra></extra>",
                      "ids": [
                        "United Kingdom"
                      ],
                      "legendgroup": "United Kingdom",
                      "marker": {
                        "color": "#FECB52"
                      },
                      "name": "United Kingdom",
                      "offsetgroup": "United Kingdom",
                      "orientation": "v",
                      "showlegend": true,
                      "textposition": "auto",
                      "type": "bar",
                      "x": [
                        "United Kingdom"
                      ],
                      "xaxis": "x",
                      "y": [
                        53699
                      ],
                      "yaxis": "y"
                    }
                  ],
                  "name": "4/3/20"
                },
                {
                  "data": [
                    {
                      "alignmentgroup": "True",
                      "hovertemplate": "Country=%{x}<br>Date=4/7/20<br>Cases=%{y}<extra></extra>",
                      "ids": [
                        "Argentina"
                      ],
                      "legendgroup": "Argentina",
                      "marker": {
                        "color": "#636efa"
                      },
                      "name": "Argentina",
                      "offsetgroup": "Argentina",
                      "orientation": "v",
                      "showlegend": true,
                      "textposition": "auto",
                      "type": "bar",
                      "x": [
                        "Argentina"
                      ],
                      "xaxis": "x",
                      "y": [
                        1628
                      ],
                      "yaxis": "y"
                    },
                    {
                      "alignmentgroup": "True",
                      "hovertemplate": "Country=%{x}<br>Date=4/7/20<br>Cases=%{y}<extra></extra>",
                      "ids": [
                        "Brazil"
                      ],
                      "legendgroup": "Brazil",
                      "marker": {
                        "color": "#EF553B"
                      },
                      "name": "Brazil",
                      "offsetgroup": "Brazil",
                      "orientation": "v",
                      "showlegend": true,
                      "textposition": "auto",
                      "type": "bar",
                      "x": [
                        "Brazil"
                      ],
                      "xaxis": "x",
                      "y": [
                        14034
                      ],
                      "yaxis": "y"
                    },
                    {
                      "alignmentgroup": "True",
                      "hovertemplate": "Country=%{x}<br>Date=4/7/20<br>Cases=%{y}<extra></extra>",
                      "ids": [
                        "Colombia"
                      ],
                      "legendgroup": "Colombia",
                      "marker": {
                        "color": "#00cc96"
                      },
                      "name": "Colombia",
                      "offsetgroup": "Colombia",
                      "orientation": "v",
                      "showlegend": true,
                      "textposition": "auto",
                      "type": "bar",
                      "x": [
                        "Colombia"
                      ],
                      "xaxis": "x",
                      "y": [
                        1780
                      ],
                      "yaxis": "y"
                    },
                    {
                      "alignmentgroup": "True",
                      "hovertemplate": "Country=%{x}<br>Date=4/7/20<br>Cases=%{y}<extra></extra>",
                      "ids": [
                        "France"
                      ],
                      "legendgroup": "France",
                      "marker": {
                        "color": "#ab63fa"
                      },
                      "name": "France",
                      "offsetgroup": "France",
                      "orientation": "v",
                      "showlegend": true,
                      "textposition": "auto",
                      "type": "bar",
                      "x": [
                        "France"
                      ],
                      "xaxis": "x",
                      "y": [
                        79163
                      ],
                      "yaxis": "y"
                    },
                    {
                      "alignmentgroup": "True",
                      "hovertemplate": "Country=%{x}<br>Date=4/7/20<br>Cases=%{y}<extra></extra>",
                      "ids": [
                        "India"
                      ],
                      "legendgroup": "India",
                      "marker": {
                        "color": "#FFA15A"
                      },
                      "name": "India",
                      "offsetgroup": "India",
                      "orientation": "v",
                      "showlegend": true,
                      "textposition": "auto",
                      "type": "bar",
                      "x": [
                        "India"
                      ],
                      "xaxis": "x",
                      "y": [
                        5311
                      ],
                      "yaxis": "y"
                    },
                    {
                      "alignmentgroup": "True",
                      "hovertemplate": "Country=%{x}<br>Date=4/7/20<br>Cases=%{y}<extra></extra>",
                      "ids": [
                        "Italy"
                      ],
                      "legendgroup": "Italy",
                      "marker": {
                        "color": "#19d3f3"
                      },
                      "name": "Italy",
                      "offsetgroup": "Italy",
                      "orientation": "v",
                      "showlegend": true,
                      "textposition": "auto",
                      "type": "bar",
                      "x": [
                        "Italy"
                      ],
                      "xaxis": "x",
                      "y": [
                        135586
                      ],
                      "yaxis": "y"
                    },
                    {
                      "alignmentgroup": "True",
                      "hovertemplate": "Country=%{x}<br>Date=4/7/20<br>Cases=%{y}<extra></extra>",
                      "ids": [
                        "Russia"
                      ],
                      "legendgroup": "Russia",
                      "marker": {
                        "color": "#FF6692"
                      },
                      "name": "Russia",
                      "offsetgroup": "Russia",
                      "orientation": "v",
                      "showlegend": true,
                      "textposition": "auto",
                      "type": "bar",
                      "x": [
                        "Russia"
                      ],
                      "xaxis": "x",
                      "y": [
                        7497
                      ],
                      "yaxis": "y"
                    },
                    {
                      "alignmentgroup": "True",
                      "hovertemplate": "Country=%{x}<br>Date=4/7/20<br>Cases=%{y}<extra></extra>",
                      "ids": [
                        "Spain"
                      ],
                      "legendgroup": "Spain",
                      "marker": {
                        "color": "#B6E880"
                      },
                      "name": "Spain",
                      "offsetgroup": "Spain",
                      "orientation": "v",
                      "showlegend": true,
                      "textposition": "auto",
                      "type": "bar",
                      "x": [
                        "Spain"
                      ],
                      "xaxis": "x",
                      "y": [
                        141942
                      ],
                      "yaxis": "y"
                    },
                    {
                      "alignmentgroup": "True",
                      "hovertemplate": "Country=%{x}<br>Date=4/7/20<br>Cases=%{y}<extra></extra>",
                      "ids": [
                        "US"
                      ],
                      "legendgroup": "US",
                      "marker": {
                        "color": "#FF97FF"
                      },
                      "name": "US",
                      "offsetgroup": "US",
                      "orientation": "v",
                      "showlegend": true,
                      "textposition": "auto",
                      "type": "bar",
                      "x": [
                        "US"
                      ],
                      "xaxis": "x",
                      "y": [
                        403073
                      ],
                      "yaxis": "y"
                    },
                    {
                      "alignmentgroup": "True",
                      "hovertemplate": "Country=%{x}<br>Date=4/7/20<br>Cases=%{y}<extra></extra>",
                      "ids": [
                        "United Kingdom"
                      ],
                      "legendgroup": "United Kingdom",
                      "marker": {
                        "color": "#FECB52"
                      },
                      "name": "United Kingdom",
                      "offsetgroup": "United Kingdom",
                      "orientation": "v",
                      "showlegend": true,
                      "textposition": "auto",
                      "type": "bar",
                      "x": [
                        "United Kingdom"
                      ],
                      "xaxis": "x",
                      "y": [
                        72224
                      ],
                      "yaxis": "y"
                    }
                  ],
                  "name": "4/7/20"
                },
                {
                  "data": [
                    {
                      "alignmentgroup": "True",
                      "hovertemplate": "Country=%{x}<br>Date=4/11/20<br>Cases=%{y}<extra></extra>",
                      "ids": [
                        "Argentina"
                      ],
                      "legendgroup": "Argentina",
                      "marker": {
                        "color": "#636efa"
                      },
                      "name": "Argentina",
                      "offsetgroup": "Argentina",
                      "orientation": "v",
                      "showlegend": true,
                      "textposition": "auto",
                      "type": "bar",
                      "x": [
                        "Argentina"
                      ],
                      "xaxis": "x",
                      "y": [
                        1975
                      ],
                      "yaxis": "y"
                    },
                    {
                      "alignmentgroup": "True",
                      "hovertemplate": "Country=%{x}<br>Date=4/11/20<br>Cases=%{y}<extra></extra>",
                      "ids": [
                        "Brazil"
                      ],
                      "legendgroup": "Brazil",
                      "marker": {
                        "color": "#EF553B"
                      },
                      "name": "Brazil",
                      "offsetgroup": "Brazil",
                      "orientation": "v",
                      "showlegend": true,
                      "textposition": "auto",
                      "type": "bar",
                      "x": [
                        "Brazil"
                      ],
                      "xaxis": "x",
                      "y": [
                        20727
                      ],
                      "yaxis": "y"
                    },
                    {
                      "alignmentgroup": "True",
                      "hovertemplate": "Country=%{x}<br>Date=4/11/20<br>Cases=%{y}<extra></extra>",
                      "ids": [
                        "Colombia"
                      ],
                      "legendgroup": "Colombia",
                      "marker": {
                        "color": "#00cc96"
                      },
                      "name": "Colombia",
                      "offsetgroup": "Colombia",
                      "orientation": "v",
                      "showlegend": true,
                      "textposition": "auto",
                      "type": "bar",
                      "x": [
                        "Colombia"
                      ],
                      "xaxis": "x",
                      "y": [
                        2709
                      ],
                      "yaxis": "y"
                    },
                    {
                      "alignmentgroup": "True",
                      "hovertemplate": "Country=%{x}<br>Date=4/11/20<br>Cases=%{y}<extra></extra>",
                      "ids": [
                        "France"
                      ],
                      "legendgroup": "France",
                      "marker": {
                        "color": "#ab63fa"
                      },
                      "name": "France",
                      "offsetgroup": "France",
                      "orientation": "v",
                      "showlegend": true,
                      "textposition": "auto",
                      "type": "bar",
                      "x": [
                        "France"
                      ],
                      "xaxis": "x",
                      "y": [
                        94863
                      ],
                      "yaxis": "y"
                    },
                    {
                      "alignmentgroup": "True",
                      "hovertemplate": "Country=%{x}<br>Date=4/11/20<br>Cases=%{y}<extra></extra>",
                      "ids": [
                        "India"
                      ],
                      "legendgroup": "India",
                      "marker": {
                        "color": "#FFA15A"
                      },
                      "name": "India",
                      "offsetgroup": "India",
                      "orientation": "v",
                      "showlegend": true,
                      "textposition": "auto",
                      "type": "bar",
                      "x": [
                        "India"
                      ],
                      "xaxis": "x",
                      "y": [
                        8446
                      ],
                      "yaxis": "y"
                    },
                    {
                      "alignmentgroup": "True",
                      "hovertemplate": "Country=%{x}<br>Date=4/11/20<br>Cases=%{y}<extra></extra>",
                      "ids": [
                        "Italy"
                      ],
                      "legendgroup": "Italy",
                      "marker": {
                        "color": "#19d3f3"
                      },
                      "name": "Italy",
                      "offsetgroup": "Italy",
                      "orientation": "v",
                      "showlegend": true,
                      "textposition": "auto",
                      "type": "bar",
                      "x": [
                        "Italy"
                      ],
                      "xaxis": "x",
                      "y": [
                        152271
                      ],
                      "yaxis": "y"
                    },
                    {
                      "alignmentgroup": "True",
                      "hovertemplate": "Country=%{x}<br>Date=4/11/20<br>Cases=%{y}<extra></extra>",
                      "ids": [
                        "Russia"
                      ],
                      "legendgroup": "Russia",
                      "marker": {
                        "color": "#FF6692"
                      },
                      "name": "Russia",
                      "offsetgroup": "Russia",
                      "orientation": "v",
                      "showlegend": true,
                      "textposition": "auto",
                      "type": "bar",
                      "x": [
                        "Russia"
                      ],
                      "xaxis": "x",
                      "y": [
                        13584
                      ],
                      "yaxis": "y"
                    },
                    {
                      "alignmentgroup": "True",
                      "hovertemplate": "Country=%{x}<br>Date=4/11/20<br>Cases=%{y}<extra></extra>",
                      "ids": [
                        "Spain"
                      ],
                      "legendgroup": "Spain",
                      "marker": {
                        "color": "#B6E880"
                      },
                      "name": "Spain",
                      "offsetgroup": "Spain",
                      "orientation": "v",
                      "showlegend": true,
                      "textposition": "auto",
                      "type": "bar",
                      "x": [
                        "Spain"
                      ],
                      "xaxis": "x",
                      "y": [
                        163027
                      ],
                      "yaxis": "y"
                    },
                    {
                      "alignmentgroup": "True",
                      "hovertemplate": "Country=%{x}<br>Date=4/11/20<br>Cases=%{y}<extra></extra>",
                      "ids": [
                        "US"
                      ],
                      "legendgroup": "US",
                      "marker": {
                        "color": "#FF97FF"
                      },
                      "name": "US",
                      "offsetgroup": "US",
                      "orientation": "v",
                      "showlegend": true,
                      "textposition": "auto",
                      "type": "bar",
                      "x": [
                        "US"
                      ],
                      "xaxis": "x",
                      "y": [
                        532632
                      ],
                      "yaxis": "y"
                    },
                    {
                      "alignmentgroup": "True",
                      "hovertemplate": "Country=%{x}<br>Date=4/11/20<br>Cases=%{y}<extra></extra>",
                      "ids": [
                        "United Kingdom"
                      ],
                      "legendgroup": "United Kingdom",
                      "marker": {
                        "color": "#FECB52"
                      },
                      "name": "United Kingdom",
                      "offsetgroup": "United Kingdom",
                      "orientation": "v",
                      "showlegend": true,
                      "textposition": "auto",
                      "type": "bar",
                      "x": [
                        "United Kingdom"
                      ],
                      "xaxis": "x",
                      "y": [
                        90273
                      ],
                      "yaxis": "y"
                    }
                  ],
                  "name": "4/11/20"
                },
                {
                  "data": [
                    {
                      "alignmentgroup": "True",
                      "hovertemplate": "Country=%{x}<br>Date=4/16/20<br>Cases=%{y}<extra></extra>",
                      "ids": [
                        "Argentina"
                      ],
                      "legendgroup": "Argentina",
                      "marker": {
                        "color": "#636efa"
                      },
                      "name": "Argentina",
                      "offsetgroup": "Argentina",
                      "orientation": "v",
                      "showlegend": true,
                      "textposition": "auto",
                      "type": "bar",
                      "x": [
                        "Argentina"
                      ],
                      "xaxis": "x",
                      "y": [
                        2571
                      ],
                      "yaxis": "y"
                    },
                    {
                      "alignmentgroup": "True",
                      "hovertemplate": "Country=%{x}<br>Date=4/16/20<br>Cases=%{y}<extra></extra>",
                      "ids": [
                        "Brazil"
                      ],
                      "legendgroup": "Brazil",
                      "marker": {
                        "color": "#EF553B"
                      },
                      "name": "Brazil",
                      "offsetgroup": "Brazil",
                      "orientation": "v",
                      "showlegend": true,
                      "textposition": "auto",
                      "type": "bar",
                      "x": [
                        "Brazil"
                      ],
                      "xaxis": "x",
                      "y": [
                        30425
                      ],
                      "yaxis": "y"
                    },
                    {
                      "alignmentgroup": "True",
                      "hovertemplate": "Country=%{x}<br>Date=4/16/20<br>Cases=%{y}<extra></extra>",
                      "ids": [
                        "Colombia"
                      ],
                      "legendgroup": "Colombia",
                      "marker": {
                        "color": "#00cc96"
                      },
                      "name": "Colombia",
                      "offsetgroup": "Colombia",
                      "orientation": "v",
                      "showlegend": true,
                      "textposition": "auto",
                      "type": "bar",
                      "x": [
                        "Colombia"
                      ],
                      "xaxis": "x",
                      "y": [
                        3233
                      ],
                      "yaxis": "y"
                    },
                    {
                      "alignmentgroup": "True",
                      "hovertemplate": "Country=%{x}<br>Date=4/16/20<br>Cases=%{y}<extra></extra>",
                      "ids": [
                        "France"
                      ],
                      "legendgroup": "France",
                      "marker": {
                        "color": "#ab63fa"
                      },
                      "name": "France",
                      "offsetgroup": "France",
                      "orientation": "v",
                      "showlegend": true,
                      "textposition": "auto",
                      "type": "bar",
                      "x": [
                        "France"
                      ],
                      "xaxis": "x",
                      "y": [
                        146075
                      ],
                      "yaxis": "y"
                    },
                    {
                      "alignmentgroup": "True",
                      "hovertemplate": "Country=%{x}<br>Date=4/16/20<br>Cases=%{y}<extra></extra>",
                      "ids": [
                        "India"
                      ],
                      "legendgroup": "India",
                      "marker": {
                        "color": "#FFA15A"
                      },
                      "name": "India",
                      "offsetgroup": "India",
                      "orientation": "v",
                      "showlegend": true,
                      "textposition": "auto",
                      "type": "bar",
                      "x": [
                        "India"
                      ],
                      "xaxis": "x",
                      "y": [
                        13430
                      ],
                      "yaxis": "y"
                    },
                    {
                      "alignmentgroup": "True",
                      "hovertemplate": "Country=%{x}<br>Date=4/16/20<br>Cases=%{y}<extra></extra>",
                      "ids": [
                        "Italy"
                      ],
                      "legendgroup": "Italy",
                      "marker": {
                        "color": "#19d3f3"
                      },
                      "name": "Italy",
                      "offsetgroup": "Italy",
                      "orientation": "v",
                      "showlegend": true,
                      "textposition": "auto",
                      "type": "bar",
                      "x": [
                        "Italy"
                      ],
                      "xaxis": "x",
                      "y": [
                        168941
                      ],
                      "yaxis": "y"
                    },
                    {
                      "alignmentgroup": "True",
                      "hovertemplate": "Country=%{x}<br>Date=4/16/20<br>Cases=%{y}<extra></extra>",
                      "ids": [
                        "Russia"
                      ],
                      "legendgroup": "Russia",
                      "marker": {
                        "color": "#FF6692"
                      },
                      "name": "Russia",
                      "offsetgroup": "Russia",
                      "orientation": "v",
                      "showlegend": true,
                      "textposition": "auto",
                      "type": "bar",
                      "x": [
                        "Russia"
                      ],
                      "xaxis": "x",
                      "y": [
                        27938
                      ],
                      "yaxis": "y"
                    },
                    {
                      "alignmentgroup": "True",
                      "hovertemplate": "Country=%{x}<br>Date=4/16/20<br>Cases=%{y}<extra></extra>",
                      "ids": [
                        "Spain"
                      ],
                      "legendgroup": "Spain",
                      "marker": {
                        "color": "#B6E880"
                      },
                      "name": "Spain",
                      "offsetgroup": "Spain",
                      "orientation": "v",
                      "showlegend": true,
                      "textposition": "auto",
                      "type": "bar",
                      "x": [
                        "Spain"
                      ],
                      "xaxis": "x",
                      "y": [
                        184948
                      ],
                      "yaxis": "y"
                    },
                    {
                      "alignmentgroup": "True",
                      "hovertemplate": "Country=%{x}<br>Date=4/16/20<br>Cases=%{y}<extra></extra>",
                      "ids": [
                        "US"
                      ],
                      "legendgroup": "US",
                      "marker": {
                        "color": "#FF97FF"
                      },
                      "name": "US",
                      "offsetgroup": "US",
                      "orientation": "v",
                      "showlegend": true,
                      "textposition": "auto",
                      "type": "bar",
                      "x": [
                        "US"
                      ],
                      "xaxis": "x",
                      "y": [
                        675504
                      ],
                      "yaxis": "y"
                    },
                    {
                      "alignmentgroup": "True",
                      "hovertemplate": "Country=%{x}<br>Date=4/16/20<br>Cases=%{y}<extra></extra>",
                      "ids": [
                        "United Kingdom"
                      ],
                      "legendgroup": "United Kingdom",
                      "marker": {
                        "color": "#FECB52"
                      },
                      "name": "United Kingdom",
                      "offsetgroup": "United Kingdom",
                      "orientation": "v",
                      "showlegend": true,
                      "textposition": "auto",
                      "type": "bar",
                      "x": [
                        "United Kingdom"
                      ],
                      "xaxis": "x",
                      "y": [
                        112808
                      ],
                      "yaxis": "y"
                    }
                  ],
                  "name": "4/16/20"
                },
                {
                  "data": [
                    {
                      "alignmentgroup": "True",
                      "hovertemplate": "Country=%{x}<br>Date=4/20/20<br>Cases=%{y}<extra></extra>",
                      "ids": [
                        "Argentina"
                      ],
                      "legendgroup": "Argentina",
                      "marker": {
                        "color": "#636efa"
                      },
                      "name": "Argentina",
                      "offsetgroup": "Argentina",
                      "orientation": "v",
                      "showlegend": true,
                      "textposition": "auto",
                      "type": "bar",
                      "x": [
                        "Argentina"
                      ],
                      "xaxis": "x",
                      "y": [
                        2941
                      ],
                      "yaxis": "y"
                    },
                    {
                      "alignmentgroup": "True",
                      "hovertemplate": "Country=%{x}<br>Date=4/20/20<br>Cases=%{y}<extra></extra>",
                      "ids": [
                        "Brazil"
                      ],
                      "legendgroup": "Brazil",
                      "marker": {
                        "color": "#EF553B"
                      },
                      "name": "Brazil",
                      "offsetgroup": "Brazil",
                      "orientation": "v",
                      "showlegend": true,
                      "textposition": "auto",
                      "type": "bar",
                      "x": [
                        "Brazil"
                      ],
                      "xaxis": "x",
                      "y": [
                        40743
                      ],
                      "yaxis": "y"
                    },
                    {
                      "alignmentgroup": "True",
                      "hovertemplate": "Country=%{x}<br>Date=4/20/20<br>Cases=%{y}<extra></extra>",
                      "ids": [
                        "Colombia"
                      ],
                      "legendgroup": "Colombia",
                      "marker": {
                        "color": "#00cc96"
                      },
                      "name": "Colombia",
                      "offsetgroup": "Colombia",
                      "orientation": "v",
                      "showlegend": true,
                      "textposition": "auto",
                      "type": "bar",
                      "x": [
                        "Colombia"
                      ],
                      "xaxis": "x",
                      "y": [
                        3977
                      ],
                      "yaxis": "y"
                    },
                    {
                      "alignmentgroup": "True",
                      "hovertemplate": "Country=%{x}<br>Date=4/20/20<br>Cases=%{y}<extra></extra>",
                      "ids": [
                        "France"
                      ],
                      "legendgroup": "France",
                      "marker": {
                        "color": "#ab63fa"
                      },
                      "name": "France",
                      "offsetgroup": "France",
                      "orientation": "v",
                      "showlegend": true,
                      "textposition": "auto",
                      "type": "bar",
                      "x": [
                        "France"
                      ],
                      "xaxis": "x",
                      "y": [
                        155393
                      ],
                      "yaxis": "y"
                    },
                    {
                      "alignmentgroup": "True",
                      "hovertemplate": "Country=%{x}<br>Date=4/20/20<br>Cases=%{y}<extra></extra>",
                      "ids": [
                        "India"
                      ],
                      "legendgroup": "India",
                      "marker": {
                        "color": "#FFA15A"
                      },
                      "name": "India",
                      "offsetgroup": "India",
                      "orientation": "v",
                      "showlegend": true,
                      "textposition": "auto",
                      "type": "bar",
                      "x": [
                        "India"
                      ],
                      "xaxis": "x",
                      "y": [
                        18539
                      ],
                      "yaxis": "y"
                    },
                    {
                      "alignmentgroup": "True",
                      "hovertemplate": "Country=%{x}<br>Date=4/20/20<br>Cases=%{y}<extra></extra>",
                      "ids": [
                        "Italy"
                      ],
                      "legendgroup": "Italy",
                      "marker": {
                        "color": "#19d3f3"
                      },
                      "name": "Italy",
                      "offsetgroup": "Italy",
                      "orientation": "v",
                      "showlegend": true,
                      "textposition": "auto",
                      "type": "bar",
                      "x": [
                        "Italy"
                      ],
                      "xaxis": "x",
                      "y": [
                        181228
                      ],
                      "yaxis": "y"
                    },
                    {
                      "alignmentgroup": "True",
                      "hovertemplate": "Country=%{x}<br>Date=4/20/20<br>Cases=%{y}<extra></extra>",
                      "ids": [
                        "Russia"
                      ],
                      "legendgroup": "Russia",
                      "marker": {
                        "color": "#FF6692"
                      },
                      "name": "Russia",
                      "offsetgroup": "Russia",
                      "orientation": "v",
                      "showlegend": true,
                      "textposition": "auto",
                      "type": "bar",
                      "x": [
                        "Russia"
                      ],
                      "xaxis": "x",
                      "y": [
                        47121
                      ],
                      "yaxis": "y"
                    },
                    {
                      "alignmentgroup": "True",
                      "hovertemplate": "Country=%{x}<br>Date=4/20/20<br>Cases=%{y}<extra></extra>",
                      "ids": [
                        "Spain"
                      ],
                      "legendgroup": "Spain",
                      "marker": {
                        "color": "#B6E880"
                      },
                      "name": "Spain",
                      "offsetgroup": "Spain",
                      "orientation": "v",
                      "showlegend": true,
                      "textposition": "auto",
                      "type": "bar",
                      "x": [
                        "Spain"
                      ],
                      "xaxis": "x",
                      "y": [
                        200210
                      ],
                      "yaxis": "y"
                    },
                    {
                      "alignmentgroup": "True",
                      "hovertemplate": "Country=%{x}<br>Date=4/20/20<br>Cases=%{y}<extra></extra>",
                      "ids": [
                        "US"
                      ],
                      "legendgroup": "US",
                      "marker": {
                        "color": "#FF97FF"
                      },
                      "name": "US",
                      "offsetgroup": "US",
                      "orientation": "v",
                      "showlegend": true,
                      "textposition": "auto",
                      "type": "bar",
                      "x": [
                        "US"
                      ],
                      "xaxis": "x",
                      "y": [
                        790264
                      ],
                      "yaxis": "y"
                    },
                    {
                      "alignmentgroup": "True",
                      "hovertemplate": "Country=%{x}<br>Date=4/20/20<br>Cases=%{y}<extra></extra>",
                      "ids": [
                        "United Kingdom"
                      ],
                      "legendgroup": "United Kingdom",
                      "marker": {
                        "color": "#FECB52"
                      },
                      "name": "United Kingdom",
                      "offsetgroup": "United Kingdom",
                      "orientation": "v",
                      "showlegend": true,
                      "textposition": "auto",
                      "type": "bar",
                      "x": [
                        "United Kingdom"
                      ],
                      "xaxis": "x",
                      "y": [
                        131260
                      ],
                      "yaxis": "y"
                    }
                  ],
                  "name": "4/20/20"
                },
                {
                  "data": [
                    {
                      "alignmentgroup": "True",
                      "hovertemplate": "Country=%{x}<br>Date=4/25/20<br>Cases=%{y}<extra></extra>",
                      "ids": [
                        "Argentina"
                      ],
                      "legendgroup": "Argentina",
                      "marker": {
                        "color": "#636efa"
                      },
                      "name": "Argentina",
                      "offsetgroup": "Argentina",
                      "orientation": "v",
                      "showlegend": true,
                      "textposition": "auto",
                      "type": "bar",
                      "x": [
                        "Argentina"
                      ],
                      "xaxis": "x",
                      "y": [
                        3780
                      ],
                      "yaxis": "y"
                    },
                    {
                      "alignmentgroup": "True",
                      "hovertemplate": "Country=%{x}<br>Date=4/25/20<br>Cases=%{y}<extra></extra>",
                      "ids": [
                        "Brazil"
                      ],
                      "legendgroup": "Brazil",
                      "marker": {
                        "color": "#EF553B"
                      },
                      "name": "Brazil",
                      "offsetgroup": "Brazil",
                      "orientation": "v",
                      "showlegend": true,
                      "textposition": "auto",
                      "type": "bar",
                      "x": [
                        "Brazil"
                      ],
                      "xaxis": "x",
                      "y": [
                        59324
                      ],
                      "yaxis": "y"
                    },
                    {
                      "alignmentgroup": "True",
                      "hovertemplate": "Country=%{x}<br>Date=4/25/20<br>Cases=%{y}<extra></extra>",
                      "ids": [
                        "Colombia"
                      ],
                      "legendgroup": "Colombia",
                      "marker": {
                        "color": "#00cc96"
                      },
                      "name": "Colombia",
                      "offsetgroup": "Colombia",
                      "orientation": "v",
                      "showlegend": true,
                      "textposition": "auto",
                      "type": "bar",
                      "x": [
                        "Colombia"
                      ],
                      "xaxis": "x",
                      "y": [
                        5142
                      ],
                      "yaxis": "y"
                    },
                    {
                      "alignmentgroup": "True",
                      "hovertemplate": "Country=%{x}<br>Date=4/25/20<br>Cases=%{y}<extra></extra>",
                      "ids": [
                        "France"
                      ],
                      "legendgroup": "France",
                      "marker": {
                        "color": "#ab63fa"
                      },
                      "name": "France",
                      "offsetgroup": "France",
                      "orientation": "v",
                      "showlegend": true,
                      "textposition": "auto",
                      "type": "bar",
                      "x": [
                        "France"
                      ],
                      "xaxis": "x",
                      "y": [
                        161644
                      ],
                      "yaxis": "y"
                    },
                    {
                      "alignmentgroup": "True",
                      "hovertemplate": "Country=%{x}<br>Date=4/25/20<br>Cases=%{y}<extra></extra>",
                      "ids": [
                        "India"
                      ],
                      "legendgroup": "India",
                      "marker": {
                        "color": "#FFA15A"
                      },
                      "name": "India",
                      "offsetgroup": "India",
                      "orientation": "v",
                      "showlegend": true,
                      "textposition": "auto",
                      "type": "bar",
                      "x": [
                        "India"
                      ],
                      "xaxis": "x",
                      "y": [
                        26283
                      ],
                      "yaxis": "y"
                    },
                    {
                      "alignmentgroup": "True",
                      "hovertemplate": "Country=%{x}<br>Date=4/25/20<br>Cases=%{y}<extra></extra>",
                      "ids": [
                        "Italy"
                      ],
                      "legendgroup": "Italy",
                      "marker": {
                        "color": "#19d3f3"
                      },
                      "name": "Italy",
                      "offsetgroup": "Italy",
                      "orientation": "v",
                      "showlegend": true,
                      "textposition": "auto",
                      "type": "bar",
                      "x": [
                        "Italy"
                      ],
                      "xaxis": "x",
                      "y": [
                        195351
                      ],
                      "yaxis": "y"
                    },
                    {
                      "alignmentgroup": "True",
                      "hovertemplate": "Country=%{x}<br>Date=4/25/20<br>Cases=%{y}<extra></extra>",
                      "ids": [
                        "Russia"
                      ],
                      "legendgroup": "Russia",
                      "marker": {
                        "color": "#FF6692"
                      },
                      "name": "Russia",
                      "offsetgroup": "Russia",
                      "orientation": "v",
                      "showlegend": true,
                      "textposition": "auto",
                      "type": "bar",
                      "x": [
                        "Russia"
                      ],
                      "xaxis": "x",
                      "y": [
                        74588
                      ],
                      "yaxis": "y"
                    },
                    {
                      "alignmentgroup": "True",
                      "hovertemplate": "Country=%{x}<br>Date=4/25/20<br>Cases=%{y}<extra></extra>",
                      "ids": [
                        "Spain"
                      ],
                      "legendgroup": "Spain",
                      "marker": {
                        "color": "#B6E880"
                      },
                      "name": "Spain",
                      "offsetgroup": "Spain",
                      "orientation": "v",
                      "showlegend": true,
                      "textposition": "auto",
                      "type": "bar",
                      "x": [
                        "Spain"
                      ],
                      "xaxis": "x",
                      "y": [
                        205905
                      ],
                      "yaxis": "y"
                    },
                    {
                      "alignmentgroup": "True",
                      "hovertemplate": "Country=%{x}<br>Date=4/25/20<br>Cases=%{y}<extra></extra>",
                      "ids": [
                        "US"
                      ],
                      "legendgroup": "US",
                      "marker": {
                        "color": "#FF97FF"
                      },
                      "name": "US",
                      "offsetgroup": "US",
                      "orientation": "v",
                      "showlegend": true,
                      "textposition": "auto",
                      "type": "bar",
                      "x": [
                        "US"
                      ],
                      "xaxis": "x",
                      "y": [
                        943963
                      ],
                      "yaxis": "y"
                    },
                    {
                      "alignmentgroup": "True",
                      "hovertemplate": "Country=%{x}<br>Date=4/25/20<br>Cases=%{y}<extra></extra>",
                      "ids": [
                        "United Kingdom"
                      ],
                      "legendgroup": "United Kingdom",
                      "marker": {
                        "color": "#FECB52"
                      },
                      "name": "United Kingdom",
                      "offsetgroup": "United Kingdom",
                      "orientation": "v",
                      "showlegend": true,
                      "textposition": "auto",
                      "type": "bar",
                      "x": [
                        "United Kingdom"
                      ],
                      "xaxis": "x",
                      "y": [
                        155453
                      ],
                      "yaxis": "y"
                    }
                  ],
                  "name": "4/25/20"
                },
                {
                  "data": [
                    {
                      "alignmentgroup": "True",
                      "hovertemplate": "Country=%{x}<br>Date=5/3/20<br>Cases=%{y}<extra></extra>",
                      "ids": [
                        "Argentina"
                      ],
                      "legendgroup": "Argentina",
                      "marker": {
                        "color": "#636efa"
                      },
                      "name": "Argentina",
                      "offsetgroup": "Argentina",
                      "orientation": "v",
                      "showlegend": true,
                      "textposition": "auto",
                      "type": "bar",
                      "x": [
                        "Argentina"
                      ],
                      "xaxis": "x",
                      "y": [
                        4783
                      ],
                      "yaxis": "y"
                    },
                    {
                      "alignmentgroup": "True",
                      "hovertemplate": "Country=%{x}<br>Date=5/3/20<br>Cases=%{y}<extra></extra>",
                      "ids": [
                        "Brazil"
                      ],
                      "legendgroup": "Brazil",
                      "marker": {
                        "color": "#EF553B"
                      },
                      "name": "Brazil",
                      "offsetgroup": "Brazil",
                      "orientation": "v",
                      "showlegend": true,
                      "textposition": "auto",
                      "type": "bar",
                      "x": [
                        "Brazil"
                      ],
                      "xaxis": "x",
                      "y": [
                        101826
                      ],
                      "yaxis": "y"
                    },
                    {
                      "alignmentgroup": "True",
                      "hovertemplate": "Country=%{x}<br>Date=5/3/20<br>Cases=%{y}<extra></extra>",
                      "ids": [
                        "Colombia"
                      ],
                      "legendgroup": "Colombia",
                      "marker": {
                        "color": "#00cc96"
                      },
                      "name": "Colombia",
                      "offsetgroup": "Colombia",
                      "orientation": "v",
                      "showlegend": true,
                      "textposition": "auto",
                      "type": "bar",
                      "x": [
                        "Colombia"
                      ],
                      "xaxis": "x",
                      "y": [
                        7668
                      ],
                      "yaxis": "y"
                    },
                    {
                      "alignmentgroup": "True",
                      "hovertemplate": "Country=%{x}<br>Date=5/3/20<br>Cases=%{y}<extra></extra>",
                      "ids": [
                        "France"
                      ],
                      "legendgroup": "France",
                      "marker": {
                        "color": "#ab63fa"
                      },
                      "name": "France",
                      "offsetgroup": "France",
                      "orientation": "v",
                      "showlegend": true,
                      "textposition": "auto",
                      "type": "bar",
                      "x": [
                        "France"
                      ],
                      "xaxis": "x",
                      "y": [
                        168925
                      ],
                      "yaxis": "y"
                    },
                    {
                      "alignmentgroup": "True",
                      "hovertemplate": "Country=%{x}<br>Date=5/3/20<br>Cases=%{y}<extra></extra>",
                      "ids": [
                        "India"
                      ],
                      "legendgroup": "India",
                      "marker": {
                        "color": "#FFA15A"
                      },
                      "name": "India",
                      "offsetgroup": "India",
                      "orientation": "v",
                      "showlegend": true,
                      "textposition": "auto",
                      "type": "bar",
                      "x": [
                        "India"
                      ],
                      "xaxis": "x",
                      "y": [
                        42505
                      ],
                      "yaxis": "y"
                    },
                    {
                      "alignmentgroup": "True",
                      "hovertemplate": "Country=%{x}<br>Date=5/3/20<br>Cases=%{y}<extra></extra>",
                      "ids": [
                        "Italy"
                      ],
                      "legendgroup": "Italy",
                      "marker": {
                        "color": "#19d3f3"
                      },
                      "name": "Italy",
                      "offsetgroup": "Italy",
                      "orientation": "v",
                      "showlegend": true,
                      "textposition": "auto",
                      "type": "bar",
                      "x": [
                        "Italy"
                      ],
                      "xaxis": "x",
                      "y": [
                        210717
                      ],
                      "yaxis": "y"
                    },
                    {
                      "alignmentgroup": "True",
                      "hovertemplate": "Country=%{x}<br>Date=5/3/20<br>Cases=%{y}<extra></extra>",
                      "ids": [
                        "Russia"
                      ],
                      "legendgroup": "Russia",
                      "marker": {
                        "color": "#FF6692"
                      },
                      "name": "Russia",
                      "offsetgroup": "Russia",
                      "orientation": "v",
                      "showlegend": true,
                      "textposition": "auto",
                      "type": "bar",
                      "x": [
                        "Russia"
                      ],
                      "xaxis": "x",
                      "y": [
                        134687
                      ],
                      "yaxis": "y"
                    },
                    {
                      "alignmentgroup": "True",
                      "hovertemplate": "Country=%{x}<br>Date=5/3/20<br>Cases=%{y}<extra></extra>",
                      "ids": [
                        "Spain"
                      ],
                      "legendgroup": "Spain",
                      "marker": {
                        "color": "#B6E880"
                      },
                      "name": "Spain",
                      "offsetgroup": "Spain",
                      "orientation": "v",
                      "showlegend": true,
                      "textposition": "auto",
                      "type": "bar",
                      "x": [
                        "Spain"
                      ],
                      "xaxis": "x",
                      "y": [
                        217466
                      ],
                      "yaxis": "y"
                    },
                    {
                      "alignmentgroup": "True",
                      "hovertemplate": "Country=%{x}<br>Date=5/3/20<br>Cases=%{y}<extra></extra>",
                      "ids": [
                        "US"
                      ],
                      "legendgroup": "US",
                      "marker": {
                        "color": "#FF97FF"
                      },
                      "name": "US",
                      "offsetgroup": "US",
                      "orientation": "v",
                      "showlegend": true,
                      "textposition": "auto",
                      "type": "bar",
                      "x": [
                        "US"
                      ],
                      "xaxis": "x",
                      "y": [
                        1162592
                      ],
                      "yaxis": "y"
                    },
                    {
                      "alignmentgroup": "True",
                      "hovertemplate": "Country=%{x}<br>Date=5/3/20<br>Cases=%{y}<extra></extra>",
                      "ids": [
                        "United Kingdom"
                      ],
                      "legendgroup": "United Kingdom",
                      "marker": {
                        "color": "#FECB52"
                      },
                      "name": "United Kingdom",
                      "offsetgroup": "United Kingdom",
                      "orientation": "v",
                      "showlegend": true,
                      "textposition": "auto",
                      "type": "bar",
                      "x": [
                        "United Kingdom"
                      ],
                      "xaxis": "x",
                      "y": [
                        189708
                      ],
                      "yaxis": "y"
                    }
                  ],
                  "name": "5/3/20"
                },
                {
                  "data": [
                    {
                      "alignmentgroup": "True",
                      "hovertemplate": "Country=%{x}<br>Date=5/6/20<br>Cases=%{y}<extra></extra>",
                      "ids": [
                        "Argentina"
                      ],
                      "legendgroup": "Argentina",
                      "marker": {
                        "color": "#636efa"
                      },
                      "name": "Argentina",
                      "offsetgroup": "Argentina",
                      "orientation": "v",
                      "showlegend": true,
                      "textposition": "auto",
                      "type": "bar",
                      "x": [
                        "Argentina"
                      ],
                      "xaxis": "x",
                      "y": [
                        5208
                      ],
                      "yaxis": "y"
                    },
                    {
                      "alignmentgroup": "True",
                      "hovertemplate": "Country=%{x}<br>Date=5/6/20<br>Cases=%{y}<extra></extra>",
                      "ids": [
                        "Brazil"
                      ],
                      "legendgroup": "Brazil",
                      "marker": {
                        "color": "#EF553B"
                      },
                      "name": "Brazil",
                      "offsetgroup": "Brazil",
                      "orientation": "v",
                      "showlegend": true,
                      "textposition": "auto",
                      "type": "bar",
                      "x": [
                        "Brazil"
                      ],
                      "xaxis": "x",
                      "y": [
                        126611
                      ],
                      "yaxis": "y"
                    },
                    {
                      "alignmentgroup": "True",
                      "hovertemplate": "Country=%{x}<br>Date=5/6/20<br>Cases=%{y}<extra></extra>",
                      "ids": [
                        "Colombia"
                      ],
                      "legendgroup": "Colombia",
                      "marker": {
                        "color": "#00cc96"
                      },
                      "name": "Colombia",
                      "offsetgroup": "Colombia",
                      "orientation": "v",
                      "showlegend": true,
                      "textposition": "auto",
                      "type": "bar",
                      "x": [
                        "Colombia"
                      ],
                      "xaxis": "x",
                      "y": [
                        8959
                      ],
                      "yaxis": "y"
                    },
                    {
                      "alignmentgroup": "True",
                      "hovertemplate": "Country=%{x}<br>Date=5/6/20<br>Cases=%{y}<extra></extra>",
                      "ids": [
                        "France"
                      ],
                      "legendgroup": "France",
                      "marker": {
                        "color": "#ab63fa"
                      },
                      "name": "France",
                      "offsetgroup": "France",
                      "orientation": "v",
                      "showlegend": true,
                      "textposition": "auto",
                      "type": "bar",
                      "x": [
                        "France"
                      ],
                      "xaxis": "x",
                      "y": [
                        174224
                      ],
                      "yaxis": "y"
                    },
                    {
                      "alignmentgroup": "True",
                      "hovertemplate": "Country=%{x}<br>Date=5/6/20<br>Cases=%{y}<extra></extra>",
                      "ids": [
                        "India"
                      ],
                      "legendgroup": "India",
                      "marker": {
                        "color": "#FFA15A"
                      },
                      "name": "India",
                      "offsetgroup": "India",
                      "orientation": "v",
                      "showlegend": true,
                      "textposition": "auto",
                      "type": "bar",
                      "x": [
                        "India"
                      ],
                      "xaxis": "x",
                      "y": [
                        52987
                      ],
                      "yaxis": "y"
                    },
                    {
                      "alignmentgroup": "True",
                      "hovertemplate": "Country=%{x}<br>Date=5/6/20<br>Cases=%{y}<extra></extra>",
                      "ids": [
                        "Italy"
                      ],
                      "legendgroup": "Italy",
                      "marker": {
                        "color": "#19d3f3"
                      },
                      "name": "Italy",
                      "offsetgroup": "Italy",
                      "orientation": "v",
                      "showlegend": true,
                      "textposition": "auto",
                      "type": "bar",
                      "x": [
                        "Italy"
                      ],
                      "xaxis": "x",
                      "y": [
                        214457
                      ],
                      "yaxis": "y"
                    },
                    {
                      "alignmentgroup": "True",
                      "hovertemplate": "Country=%{x}<br>Date=5/6/20<br>Cases=%{y}<extra></extra>",
                      "ids": [
                        "Russia"
                      ],
                      "legendgroup": "Russia",
                      "marker": {
                        "color": "#FF6692"
                      },
                      "name": "Russia",
                      "offsetgroup": "Russia",
                      "orientation": "v",
                      "showlegend": true,
                      "textposition": "auto",
                      "type": "bar",
                      "x": [
                        "Russia"
                      ],
                      "xaxis": "x",
                      "y": [
                        165929
                      ],
                      "yaxis": "y"
                    },
                    {
                      "alignmentgroup": "True",
                      "hovertemplate": "Country=%{x}<br>Date=5/6/20<br>Cases=%{y}<extra></extra>",
                      "ids": [
                        "Spain"
                      ],
                      "legendgroup": "Spain",
                      "marker": {
                        "color": "#B6E880"
                      },
                      "name": "Spain",
                      "offsetgroup": "Spain",
                      "orientation": "v",
                      "showlegend": true,
                      "textposition": "auto",
                      "type": "bar",
                      "x": [
                        "Spain"
                      ],
                      "xaxis": "x",
                      "y": [
                        220325
                      ],
                      "yaxis": "y"
                    },
                    {
                      "alignmentgroup": "True",
                      "hovertemplate": "Country=%{x}<br>Date=5/6/20<br>Cases=%{y}<extra></extra>",
                      "ids": [
                        "US"
                      ],
                      "legendgroup": "US",
                      "marker": {
                        "color": "#FF97FF"
                      },
                      "name": "US",
                      "offsetgroup": "US",
                      "orientation": "v",
                      "showlegend": true,
                      "textposition": "auto",
                      "type": "bar",
                      "x": [
                        "US"
                      ],
                      "xaxis": "x",
                      "y": [
                        1235561
                      ],
                      "yaxis": "y"
                    },
                    {
                      "alignmentgroup": "True",
                      "hovertemplate": "Country=%{x}<br>Date=5/6/20<br>Cases=%{y}<extra></extra>",
                      "ids": [
                        "United Kingdom"
                      ],
                      "legendgroup": "United Kingdom",
                      "marker": {
                        "color": "#FECB52"
                      },
                      "name": "United Kingdom",
                      "offsetgroup": "United Kingdom",
                      "orientation": "v",
                      "showlegend": true,
                      "textposition": "auto",
                      "type": "bar",
                      "x": [
                        "United Kingdom"
                      ],
                      "xaxis": "x",
                      "y": [
                        200616
                      ],
                      "yaxis": "y"
                    }
                  ],
                  "name": "5/6/20"
                },
                {
                  "data": [
                    {
                      "alignmentgroup": "True",
                      "hovertemplate": "Country=%{x}<br>Date=5/11/20<br>Cases=%{y}<extra></extra>",
                      "ids": [
                        "Argentina"
                      ],
                      "legendgroup": "Argentina",
                      "marker": {
                        "color": "#636efa"
                      },
                      "name": "Argentina",
                      "offsetgroup": "Argentina",
                      "orientation": "v",
                      "showlegend": true,
                      "textposition": "auto",
                      "type": "bar",
                      "x": [
                        "Argentina"
                      ],
                      "xaxis": "x",
                      "y": [
                        6278
                      ],
                      "yaxis": "y"
                    },
                    {
                      "alignmentgroup": "True",
                      "hovertemplate": "Country=%{x}<br>Date=5/11/20<br>Cases=%{y}<extra></extra>",
                      "ids": [
                        "Brazil"
                      ],
                      "legendgroup": "Brazil",
                      "marker": {
                        "color": "#EF553B"
                      },
                      "name": "Brazil",
                      "offsetgroup": "Brazil",
                      "orientation": "v",
                      "showlegend": true,
                      "textposition": "auto",
                      "type": "bar",
                      "x": [
                        "Brazil"
                      ],
                      "xaxis": "x",
                      "y": [
                        169594
                      ],
                      "yaxis": "y"
                    },
                    {
                      "alignmentgroup": "True",
                      "hovertemplate": "Country=%{x}<br>Date=5/11/20<br>Cases=%{y}<extra></extra>",
                      "ids": [
                        "Colombia"
                      ],
                      "legendgroup": "Colombia",
                      "marker": {
                        "color": "#00cc96"
                      },
                      "name": "Colombia",
                      "offsetgroup": "Colombia",
                      "orientation": "v",
                      "showlegend": true,
                      "textposition": "auto",
                      "type": "bar",
                      "x": [
                        "Colombia"
                      ],
                      "xaxis": "x",
                      "y": [
                        11613
                      ],
                      "yaxis": "y"
                    },
                    {
                      "alignmentgroup": "True",
                      "hovertemplate": "Country=%{x}<br>Date=5/11/20<br>Cases=%{y}<extra></extra>",
                      "ids": [
                        "France"
                      ],
                      "legendgroup": "France",
                      "marker": {
                        "color": "#ab63fa"
                      },
                      "name": "France",
                      "offsetgroup": "France",
                      "orientation": "v",
                      "showlegend": true,
                      "textposition": "auto",
                      "type": "bar",
                      "x": [
                        "France"
                      ],
                      "xaxis": "x",
                      "y": [
                        177547
                      ],
                      "yaxis": "y"
                    },
                    {
                      "alignmentgroup": "True",
                      "hovertemplate": "Country=%{x}<br>Date=5/11/20<br>Cases=%{y}<extra></extra>",
                      "ids": [
                        "India"
                      ],
                      "legendgroup": "India",
                      "marker": {
                        "color": "#FFA15A"
                      },
                      "name": "India",
                      "offsetgroup": "India",
                      "orientation": "v",
                      "showlegend": true,
                      "textposition": "auto",
                      "type": "bar",
                      "x": [
                        "India"
                      ],
                      "xaxis": "x",
                      "y": [
                        70768
                      ],
                      "yaxis": "y"
                    },
                    {
                      "alignmentgroup": "True",
                      "hovertemplate": "Country=%{x}<br>Date=5/11/20<br>Cases=%{y}<extra></extra>",
                      "ids": [
                        "Italy"
                      ],
                      "legendgroup": "Italy",
                      "marker": {
                        "color": "#19d3f3"
                      },
                      "name": "Italy",
                      "offsetgroup": "Italy",
                      "orientation": "v",
                      "showlegend": true,
                      "textposition": "auto",
                      "type": "bar",
                      "x": [
                        "Italy"
                      ],
                      "xaxis": "x",
                      "y": [
                        219814
                      ],
                      "yaxis": "y"
                    },
                    {
                      "alignmentgroup": "True",
                      "hovertemplate": "Country=%{x}<br>Date=5/11/20<br>Cases=%{y}<extra></extra>",
                      "ids": [
                        "Russia"
                      ],
                      "legendgroup": "Russia",
                      "marker": {
                        "color": "#FF6692"
                      },
                      "name": "Russia",
                      "offsetgroup": "Russia",
                      "orientation": "v",
                      "showlegend": true,
                      "textposition": "auto",
                      "type": "bar",
                      "x": [
                        "Russia"
                      ],
                      "xaxis": "x",
                      "y": [
                        221344
                      ],
                      "yaxis": "y"
                    },
                    {
                      "alignmentgroup": "True",
                      "hovertemplate": "Country=%{x}<br>Date=5/11/20<br>Cases=%{y}<extra></extra>",
                      "ids": [
                        "Spain"
                      ],
                      "legendgroup": "Spain",
                      "marker": {
                        "color": "#B6E880"
                      },
                      "name": "Spain",
                      "offsetgroup": "Spain",
                      "orientation": "v",
                      "showlegend": true,
                      "textposition": "auto",
                      "type": "bar",
                      "x": [
                        "Spain"
                      ],
                      "xaxis": "x",
                      "y": [
                        227436
                      ],
                      "yaxis": "y"
                    },
                    {
                      "alignmentgroup": "True",
                      "hovertemplate": "Country=%{x}<br>Date=5/11/20<br>Cases=%{y}<extra></extra>",
                      "ids": [
                        "US"
                      ],
                      "legendgroup": "US",
                      "marker": {
                        "color": "#FF97FF"
                      },
                      "name": "US",
                      "offsetgroup": "US",
                      "orientation": "v",
                      "showlegend": true,
                      "textposition": "auto",
                      "type": "bar",
                      "x": [
                        "US"
                      ],
                      "xaxis": "x",
                      "y": [
                        1353268
                      ],
                      "yaxis": "y"
                    },
                    {
                      "alignmentgroup": "True",
                      "hovertemplate": "Country=%{x}<br>Date=5/11/20<br>Cases=%{y}<extra></extra>",
                      "ids": [
                        "United Kingdom"
                      ],
                      "legendgroup": "United Kingdom",
                      "marker": {
                        "color": "#FECB52"
                      },
                      "name": "United Kingdom",
                      "offsetgroup": "United Kingdom",
                      "orientation": "v",
                      "showlegend": true,
                      "textposition": "auto",
                      "type": "bar",
                      "x": [
                        "United Kingdom"
                      ],
                      "xaxis": "x",
                      "y": [
                        215500
                      ],
                      "yaxis": "y"
                    }
                  ],
                  "name": "5/11/20"
                },
                {
                  "data": [
                    {
                      "alignmentgroup": "True",
                      "hovertemplate": "Country=%{x}<br>Date=5/16/20<br>Cases=%{y}<extra></extra>",
                      "ids": [
                        "Argentina"
                      ],
                      "legendgroup": "Argentina",
                      "marker": {
                        "color": "#636efa"
                      },
                      "name": "Argentina",
                      "offsetgroup": "Argentina",
                      "orientation": "v",
                      "showlegend": true,
                      "textposition": "auto",
                      "type": "bar",
                      "x": [
                        "Argentina"
                      ],
                      "xaxis": "x",
                      "y": [
                        7805
                      ],
                      "yaxis": "y"
                    },
                    {
                      "alignmentgroup": "True",
                      "hovertemplate": "Country=%{x}<br>Date=5/16/20<br>Cases=%{y}<extra></extra>",
                      "ids": [
                        "Brazil"
                      ],
                      "legendgroup": "Brazil",
                      "marker": {
                        "color": "#EF553B"
                      },
                      "name": "Brazil",
                      "offsetgroup": "Brazil",
                      "orientation": "v",
                      "showlegend": true,
                      "textposition": "auto",
                      "type": "bar",
                      "x": [
                        "Brazil"
                      ],
                      "xaxis": "x",
                      "y": [
                        233511
                      ],
                      "yaxis": "y"
                    },
                    {
                      "alignmentgroup": "True",
                      "hovertemplate": "Country=%{x}<br>Date=5/16/20<br>Cases=%{y}<extra></extra>",
                      "ids": [
                        "Colombia"
                      ],
                      "legendgroup": "Colombia",
                      "marker": {
                        "color": "#00cc96"
                      },
                      "name": "Colombia",
                      "offsetgroup": "Colombia",
                      "orientation": "v",
                      "showlegend": true,
                      "textposition": "auto",
                      "type": "bar",
                      "x": [
                        "Colombia"
                      ],
                      "xaxis": "x",
                      "y": [
                        14939
                      ],
                      "yaxis": "y"
                    },
                    {
                      "alignmentgroup": "True",
                      "hovertemplate": "Country=%{x}<br>Date=5/16/20<br>Cases=%{y}<extra></extra>",
                      "ids": [
                        "France"
                      ],
                      "legendgroup": "France",
                      "marker": {
                        "color": "#ab63fa"
                      },
                      "name": "France",
                      "offsetgroup": "France",
                      "orientation": "v",
                      "showlegend": true,
                      "textposition": "auto",
                      "type": "bar",
                      "x": [
                        "France"
                      ],
                      "xaxis": "x",
                      "y": [
                        179630
                      ],
                      "yaxis": "y"
                    },
                    {
                      "alignmentgroup": "True",
                      "hovertemplate": "Country=%{x}<br>Date=5/16/20<br>Cases=%{y}<extra></extra>",
                      "ids": [
                        "India"
                      ],
                      "legendgroup": "India",
                      "marker": {
                        "color": "#FFA15A"
                      },
                      "name": "India",
                      "offsetgroup": "India",
                      "orientation": "v",
                      "showlegend": true,
                      "textposition": "auto",
                      "type": "bar",
                      "x": [
                        "India"
                      ],
                      "xaxis": "x",
                      "y": [
                        90648
                      ],
                      "yaxis": "y"
                    },
                    {
                      "alignmentgroup": "True",
                      "hovertemplate": "Country=%{x}<br>Date=5/16/20<br>Cases=%{y}<extra></extra>",
                      "ids": [
                        "Italy"
                      ],
                      "legendgroup": "Italy",
                      "marker": {
                        "color": "#19d3f3"
                      },
                      "name": "Italy",
                      "offsetgroup": "Italy",
                      "orientation": "v",
                      "showlegend": true,
                      "textposition": "auto",
                      "type": "bar",
                      "x": [
                        "Italy"
                      ],
                      "xaxis": "x",
                      "y": [
                        224760
                      ],
                      "yaxis": "y"
                    },
                    {
                      "alignmentgroup": "True",
                      "hovertemplate": "Country=%{x}<br>Date=5/16/20<br>Cases=%{y}<extra></extra>",
                      "ids": [
                        "Russia"
                      ],
                      "legendgroup": "Russia",
                      "marker": {
                        "color": "#FF6692"
                      },
                      "name": "Russia",
                      "offsetgroup": "Russia",
                      "orientation": "v",
                      "showlegend": true,
                      "textposition": "auto",
                      "type": "bar",
                      "x": [
                        "Russia"
                      ],
                      "xaxis": "x",
                      "y": [
                        272043
                      ],
                      "yaxis": "y"
                    },
                    {
                      "alignmentgroup": "True",
                      "hovertemplate": "Country=%{x}<br>Date=5/16/20<br>Cases=%{y}<extra></extra>",
                      "ids": [
                        "Spain"
                      ],
                      "legendgroup": "Spain",
                      "marker": {
                        "color": "#B6E880"
                      },
                      "name": "Spain",
                      "offsetgroup": "Spain",
                      "orientation": "v",
                      "showlegend": true,
                      "textposition": "auto",
                      "type": "bar",
                      "x": [
                        "Spain"
                      ],
                      "xaxis": "x",
                      "y": [
                        230698
                      ],
                      "yaxis": "y"
                    },
                    {
                      "alignmentgroup": "True",
                      "hovertemplate": "Country=%{x}<br>Date=5/16/20<br>Cases=%{y}<extra></extra>",
                      "ids": [
                        "US"
                      ],
                      "legendgroup": "US",
                      "marker": {
                        "color": "#FF97FF"
                      },
                      "name": "US",
                      "offsetgroup": "US",
                      "orientation": "v",
                      "showlegend": true,
                      "textposition": "auto",
                      "type": "bar",
                      "x": [
                        "US"
                      ],
                      "xaxis": "x",
                      "y": [
                        1473343
                      ],
                      "yaxis": "y"
                    },
                    {
                      "alignmentgroup": "True",
                      "hovertemplate": "Country=%{x}<br>Date=5/16/20<br>Cases=%{y}<extra></extra>",
                      "ids": [
                        "United Kingdom"
                      ],
                      "legendgroup": "United Kingdom",
                      "marker": {
                        "color": "#FECB52"
                      },
                      "name": "United Kingdom",
                      "offsetgroup": "United Kingdom",
                      "orientation": "v",
                      "showlegend": true,
                      "textposition": "auto",
                      "type": "bar",
                      "x": [
                        "United Kingdom"
                      ],
                      "xaxis": "x",
                      "y": [
                        229406
                      ],
                      "yaxis": "y"
                    }
                  ],
                  "name": "5/16/20"
                },
                {
                  "data": [
                    {
                      "alignmentgroup": "True",
                      "hovertemplate": "Country=%{x}<br>Date=5/20/20<br>Cases=%{y}<extra></extra>",
                      "ids": [
                        "Argentina"
                      ],
                      "legendgroup": "Argentina",
                      "marker": {
                        "color": "#636efa"
                      },
                      "name": "Argentina",
                      "offsetgroup": "Argentina",
                      "orientation": "v",
                      "showlegend": true,
                      "textposition": "auto",
                      "type": "bar",
                      "x": [
                        "Argentina"
                      ],
                      "xaxis": "x",
                      "y": [
                        9283
                      ],
                      "yaxis": "y"
                    },
                    {
                      "alignmentgroup": "True",
                      "hovertemplate": "Country=%{x}<br>Date=5/20/20<br>Cases=%{y}<extra></extra>",
                      "ids": [
                        "Brazil"
                      ],
                      "legendgroup": "Brazil",
                      "marker": {
                        "color": "#EF553B"
                      },
                      "name": "Brazil",
                      "offsetgroup": "Brazil",
                      "orientation": "v",
                      "showlegend": true,
                      "textposition": "auto",
                      "type": "bar",
                      "x": [
                        "Brazil"
                      ],
                      "xaxis": "x",
                      "y": [
                        291579
                      ],
                      "yaxis": "y"
                    },
                    {
                      "alignmentgroup": "True",
                      "hovertemplate": "Country=%{x}<br>Date=5/20/20<br>Cases=%{y}<extra></extra>",
                      "ids": [
                        "Colombia"
                      ],
                      "legendgroup": "Colombia",
                      "marker": {
                        "color": "#00cc96"
                      },
                      "name": "Colombia",
                      "offsetgroup": "Colombia",
                      "orientation": "v",
                      "showlegend": true,
                      "textposition": "auto",
                      "type": "bar",
                      "x": [
                        "Colombia"
                      ],
                      "xaxis": "x",
                      "y": [
                        17687
                      ],
                      "yaxis": "y"
                    },
                    {
                      "alignmentgroup": "True",
                      "hovertemplate": "Country=%{x}<br>Date=5/20/20<br>Cases=%{y}<extra></extra>",
                      "ids": [
                        "France"
                      ],
                      "legendgroup": "France",
                      "marker": {
                        "color": "#ab63fa"
                      },
                      "name": "France",
                      "offsetgroup": "France",
                      "orientation": "v",
                      "showlegend": true,
                      "textposition": "auto",
                      "type": "bar",
                      "x": [
                        "France"
                      ],
                      "xaxis": "x",
                      "y": [
                        181700
                      ],
                      "yaxis": "y"
                    },
                    {
                      "alignmentgroup": "True",
                      "hovertemplate": "Country=%{x}<br>Date=5/20/20<br>Cases=%{y}<extra></extra>",
                      "ids": [
                        "India"
                      ],
                      "legendgroup": "India",
                      "marker": {
                        "color": "#FFA15A"
                      },
                      "name": "India",
                      "offsetgroup": "India",
                      "orientation": "v",
                      "showlegend": true,
                      "textposition": "auto",
                      "type": "bar",
                      "x": [
                        "India"
                      ],
                      "xaxis": "x",
                      "y": [
                        112028
                      ],
                      "yaxis": "y"
                    },
                    {
                      "alignmentgroup": "True",
                      "hovertemplate": "Country=%{x}<br>Date=5/20/20<br>Cases=%{y}<extra></extra>",
                      "ids": [
                        "Italy"
                      ],
                      "legendgroup": "Italy",
                      "marker": {
                        "color": "#19d3f3"
                      },
                      "name": "Italy",
                      "offsetgroup": "Italy",
                      "orientation": "v",
                      "showlegend": true,
                      "textposition": "auto",
                      "type": "bar",
                      "x": [
                        "Italy"
                      ],
                      "xaxis": "x",
                      "y": [
                        227364
                      ],
                      "yaxis": "y"
                    },
                    {
                      "alignmentgroup": "True",
                      "hovertemplate": "Country=%{x}<br>Date=5/20/20<br>Cases=%{y}<extra></extra>",
                      "ids": [
                        "Russia"
                      ],
                      "legendgroup": "Russia",
                      "marker": {
                        "color": "#FF6692"
                      },
                      "name": "Russia",
                      "offsetgroup": "Russia",
                      "orientation": "v",
                      "showlegend": true,
                      "textposition": "auto",
                      "type": "bar",
                      "x": [
                        "Russia"
                      ],
                      "xaxis": "x",
                      "y": [
                        308705
                      ],
                      "yaxis": "y"
                    },
                    {
                      "alignmentgroup": "True",
                      "hovertemplate": "Country=%{x}<br>Date=5/20/20<br>Cases=%{y}<extra></extra>",
                      "ids": [
                        "Spain"
                      ],
                      "legendgroup": "Spain",
                      "marker": {
                        "color": "#B6E880"
                      },
                      "name": "Spain",
                      "offsetgroup": "Spain",
                      "orientation": "v",
                      "showlegend": true,
                      "textposition": "auto",
                      "type": "bar",
                      "x": [
                        "Spain"
                      ],
                      "xaxis": "x",
                      "y": [
                        232555
                      ],
                      "yaxis": "y"
                    },
                    {
                      "alignmentgroup": "True",
                      "hovertemplate": "Country=%{x}<br>Date=5/20/20<br>Cases=%{y}<extra></extra>",
                      "ids": [
                        "US"
                      ],
                      "legendgroup": "US",
                      "marker": {
                        "color": "#FF97FF"
                      },
                      "name": "US",
                      "offsetgroup": "US",
                      "orientation": "v",
                      "showlegend": true,
                      "textposition": "auto",
                      "type": "bar",
                      "x": [
                        "US"
                      ],
                      "xaxis": "x",
                      "y": [
                        1557833
                      ],
                      "yaxis": "y"
                    },
                    {
                      "alignmentgroup": "True",
                      "hovertemplate": "Country=%{x}<br>Date=5/20/20<br>Cases=%{y}<extra></extra>",
                      "ids": [
                        "United Kingdom"
                      ],
                      "legendgroup": "United Kingdom",
                      "marker": {
                        "color": "#FECB52"
                      },
                      "name": "United Kingdom",
                      "offsetgroup": "United Kingdom",
                      "orientation": "v",
                      "showlegend": true,
                      "textposition": "auto",
                      "type": "bar",
                      "x": [
                        "United Kingdom"
                      ],
                      "xaxis": "x",
                      "y": [
                        239579
                      ],
                      "yaxis": "y"
                    }
                  ],
                  "name": "5/20/20"
                },
                {
                  "data": [
                    {
                      "alignmentgroup": "True",
                      "hovertemplate": "Country=%{x}<br>Date=5/25/20<br>Cases=%{y}<extra></extra>",
                      "ids": [
                        "Argentina"
                      ],
                      "legendgroup": "Argentina",
                      "marker": {
                        "color": "#636efa"
                      },
                      "name": "Argentina",
                      "offsetgroup": "Argentina",
                      "orientation": "v",
                      "showlegend": true,
                      "textposition": "auto",
                      "type": "bar",
                      "x": [
                        "Argentina"
                      ],
                      "xaxis": "x",
                      "y": [
                        12628
                      ],
                      "yaxis": "y"
                    },
                    {
                      "alignmentgroup": "True",
                      "hovertemplate": "Country=%{x}<br>Date=5/25/20<br>Cases=%{y}<extra></extra>",
                      "ids": [
                        "Brazil"
                      ],
                      "legendgroup": "Brazil",
                      "marker": {
                        "color": "#EF553B"
                      },
                      "name": "Brazil",
                      "offsetgroup": "Brazil",
                      "orientation": "v",
                      "showlegend": true,
                      "textposition": "auto",
                      "type": "bar",
                      "x": [
                        "Brazil"
                      ],
                      "xaxis": "x",
                      "y": [
                        374898
                      ],
                      "yaxis": "y"
                    },
                    {
                      "alignmentgroup": "True",
                      "hovertemplate": "Country=%{x}<br>Date=5/25/20<br>Cases=%{y}<extra></extra>",
                      "ids": [
                        "Colombia"
                      ],
                      "legendgroup": "Colombia",
                      "marker": {
                        "color": "#00cc96"
                      },
                      "name": "Colombia",
                      "offsetgroup": "Colombia",
                      "orientation": "v",
                      "showlegend": true,
                      "textposition": "auto",
                      "type": "bar",
                      "x": [
                        "Colombia"
                      ],
                      "xaxis": "x",
                      "y": [
                        21981
                      ],
                      "yaxis": "y"
                    },
                    {
                      "alignmentgroup": "True",
                      "hovertemplate": "Country=%{x}<br>Date=5/25/20<br>Cases=%{y}<extra></extra>",
                      "ids": [
                        "France"
                      ],
                      "legendgroup": "France",
                      "marker": {
                        "color": "#ab63fa"
                      },
                      "name": "France",
                      "offsetgroup": "France",
                      "orientation": "v",
                      "showlegend": true,
                      "textposition": "auto",
                      "type": "bar",
                      "x": [
                        "France"
                      ],
                      "xaxis": "x",
                      "y": [
                        183067
                      ],
                      "yaxis": "y"
                    },
                    {
                      "alignmentgroup": "True",
                      "hovertemplate": "Country=%{x}<br>Date=5/25/20<br>Cases=%{y}<extra></extra>",
                      "ids": [
                        "India"
                      ],
                      "legendgroup": "India",
                      "marker": {
                        "color": "#FFA15A"
                      },
                      "name": "India",
                      "offsetgroup": "India",
                      "orientation": "v",
                      "showlegend": true,
                      "textposition": "auto",
                      "type": "bar",
                      "x": [
                        "India"
                      ],
                      "xaxis": "x",
                      "y": [
                        144950
                      ],
                      "yaxis": "y"
                    },
                    {
                      "alignmentgroup": "True",
                      "hovertemplate": "Country=%{x}<br>Date=5/25/20<br>Cases=%{y}<extra></extra>",
                      "ids": [
                        "Italy"
                      ],
                      "legendgroup": "Italy",
                      "marker": {
                        "color": "#19d3f3"
                      },
                      "name": "Italy",
                      "offsetgroup": "Italy",
                      "orientation": "v",
                      "showlegend": true,
                      "textposition": "auto",
                      "type": "bar",
                      "x": [
                        "Italy"
                      ],
                      "xaxis": "x",
                      "y": [
                        230158
                      ],
                      "yaxis": "y"
                    },
                    {
                      "alignmentgroup": "True",
                      "hovertemplate": "Country=%{x}<br>Date=5/25/20<br>Cases=%{y}<extra></extra>",
                      "ids": [
                        "Russia"
                      ],
                      "legendgroup": "Russia",
                      "marker": {
                        "color": "#FF6692"
                      },
                      "name": "Russia",
                      "offsetgroup": "Russia",
                      "orientation": "v",
                      "showlegend": true,
                      "textposition": "auto",
                      "type": "bar",
                      "x": [
                        "Russia"
                      ],
                      "xaxis": "x",
                      "y": [
                        353427
                      ],
                      "yaxis": "y"
                    },
                    {
                      "alignmentgroup": "True",
                      "hovertemplate": "Country=%{x}<br>Date=5/25/20<br>Cases=%{y}<extra></extra>",
                      "ids": [
                        "Spain"
                      ],
                      "legendgroup": "Spain",
                      "marker": {
                        "color": "#B6E880"
                      },
                      "name": "Spain",
                      "offsetgroup": "Spain",
                      "orientation": "v",
                      "showlegend": true,
                      "textposition": "auto",
                      "type": "bar",
                      "x": [
                        "Spain"
                      ],
                      "xaxis": "x",
                      "y": [
                        235400
                      ],
                      "yaxis": "y"
                    },
                    {
                      "alignmentgroup": "True",
                      "hovertemplate": "Country=%{x}<br>Date=5/25/20<br>Cases=%{y}<extra></extra>",
                      "ids": [
                        "US"
                      ],
                      "legendgroup": "US",
                      "marker": {
                        "color": "#FF97FF"
                      },
                      "name": "US",
                      "offsetgroup": "US",
                      "orientation": "v",
                      "showlegend": true,
                      "textposition": "auto",
                      "type": "bar",
                      "x": [
                        "US"
                      ],
                      "xaxis": "x",
                      "y": [
                        1666219
                      ],
                      "yaxis": "y"
                    },
                    {
                      "alignmentgroup": "True",
                      "hovertemplate": "Country=%{x}<br>Date=5/25/20<br>Cases=%{y}<extra></extra>",
                      "ids": [
                        "United Kingdom"
                      ],
                      "legendgroup": "United Kingdom",
                      "marker": {
                        "color": "#FECB52"
                      },
                      "name": "United Kingdom",
                      "offsetgroup": "United Kingdom",
                      "orientation": "v",
                      "showlegend": true,
                      "textposition": "auto",
                      "type": "bar",
                      "x": [
                        "United Kingdom"
                      ],
                      "xaxis": "x",
                      "y": [
                        248650
                      ],
                      "yaxis": "y"
                    }
                  ],
                  "name": "5/25/20"
                },
                {
                  "data": [
                    {
                      "alignmentgroup": "True",
                      "hovertemplate": "Country=%{x}<br>Date=6/2/20<br>Cases=%{y}<extra></extra>",
                      "ids": [
                        "Argentina"
                      ],
                      "legendgroup": "Argentina",
                      "marker": {
                        "color": "#636efa"
                      },
                      "name": "Argentina",
                      "offsetgroup": "Argentina",
                      "orientation": "v",
                      "showlegend": true,
                      "textposition": "auto",
                      "type": "bar",
                      "x": [
                        "Argentina"
                      ],
                      "xaxis": "x",
                      "y": [
                        18319
                      ],
                      "yaxis": "y"
                    },
                    {
                      "alignmentgroup": "True",
                      "hovertemplate": "Country=%{x}<br>Date=6/2/20<br>Cases=%{y}<extra></extra>",
                      "ids": [
                        "Brazil"
                      ],
                      "legendgroup": "Brazil",
                      "marker": {
                        "color": "#EF553B"
                      },
                      "name": "Brazil",
                      "offsetgroup": "Brazil",
                      "orientation": "v",
                      "showlegend": true,
                      "textposition": "auto",
                      "type": "bar",
                      "x": [
                        "Brazil"
                      ],
                      "xaxis": "x",
                      "y": [
                        555383
                      ],
                      "yaxis": "y"
                    },
                    {
                      "alignmentgroup": "True",
                      "hovertemplate": "Country=%{x}<br>Date=6/2/20<br>Cases=%{y}<extra></extra>",
                      "ids": [
                        "Colombia"
                      ],
                      "legendgroup": "Colombia",
                      "marker": {
                        "color": "#00cc96"
                      },
                      "name": "Colombia",
                      "offsetgroup": "Colombia",
                      "orientation": "v",
                      "showlegend": true,
                      "textposition": "auto",
                      "type": "bar",
                      "x": [
                        "Colombia"
                      ],
                      "xaxis": "x",
                      "y": [
                        31833
                      ],
                      "yaxis": "y"
                    },
                    {
                      "alignmentgroup": "True",
                      "hovertemplate": "Country=%{x}<br>Date=6/2/20<br>Cases=%{y}<extra></extra>",
                      "ids": [
                        "France"
                      ],
                      "legendgroup": "France",
                      "marker": {
                        "color": "#ab63fa"
                      },
                      "name": "France",
                      "offsetgroup": "France",
                      "orientation": "v",
                      "showlegend": true,
                      "textposition": "auto",
                      "type": "bar",
                      "x": [
                        "France"
                      ],
                      "xaxis": "x",
                      "y": [
                        188582
                      ],
                      "yaxis": "y"
                    },
                    {
                      "alignmentgroup": "True",
                      "hovertemplate": "Country=%{x}<br>Date=6/2/20<br>Cases=%{y}<extra></extra>",
                      "ids": [
                        "India"
                      ],
                      "legendgroup": "India",
                      "marker": {
                        "color": "#FFA15A"
                      },
                      "name": "India",
                      "offsetgroup": "India",
                      "orientation": "v",
                      "showlegend": true,
                      "textposition": "auto",
                      "type": "bar",
                      "x": [
                        "India"
                      ],
                      "xaxis": "x",
                      "y": [
                        207191
                      ],
                      "yaxis": "y"
                    },
                    {
                      "alignmentgroup": "True",
                      "hovertemplate": "Country=%{x}<br>Date=6/2/20<br>Cases=%{y}<extra></extra>",
                      "ids": [
                        "Italy"
                      ],
                      "legendgroup": "Italy",
                      "marker": {
                        "color": "#19d3f3"
                      },
                      "name": "Italy",
                      "offsetgroup": "Italy",
                      "orientation": "v",
                      "showlegend": true,
                      "textposition": "auto",
                      "type": "bar",
                      "x": [
                        "Italy"
                      ],
                      "xaxis": "x",
                      "y": [
                        233515
                      ],
                      "yaxis": "y"
                    },
                    {
                      "alignmentgroup": "True",
                      "hovertemplate": "Country=%{x}<br>Date=6/2/20<br>Cases=%{y}<extra></extra>",
                      "ids": [
                        "Russia"
                      ],
                      "legendgroup": "Russia",
                      "marker": {
                        "color": "#FF6692"
                      },
                      "name": "Russia",
                      "offsetgroup": "Russia",
                      "orientation": "v",
                      "showlegend": true,
                      "textposition": "auto",
                      "type": "bar",
                      "x": [
                        "Russia"
                      ],
                      "xaxis": "x",
                      "y": [
                        423186
                      ],
                      "yaxis": "y"
                    },
                    {
                      "alignmentgroup": "True",
                      "hovertemplate": "Country=%{x}<br>Date=6/2/20<br>Cases=%{y}<extra></extra>",
                      "ids": [
                        "Spain"
                      ],
                      "legendgroup": "Spain",
                      "marker": {
                        "color": "#B6E880"
                      },
                      "name": "Spain",
                      "offsetgroup": "Spain",
                      "orientation": "v",
                      "showlegend": true,
                      "textposition": "auto",
                      "type": "bar",
                      "x": [
                        "Spain"
                      ],
                      "xaxis": "x",
                      "y": [
                        239932
                      ],
                      "yaxis": "y"
                    },
                    {
                      "alignmentgroup": "True",
                      "hovertemplate": "Country=%{x}<br>Date=6/2/20<br>Cases=%{y}<extra></extra>",
                      "ids": [
                        "US"
                      ],
                      "legendgroup": "US",
                      "marker": {
                        "color": "#FF97FF"
                      },
                      "name": "US",
                      "offsetgroup": "US",
                      "orientation": "v",
                      "showlegend": true,
                      "textposition": "auto",
                      "type": "bar",
                      "x": [
                        "US"
                      ],
                      "xaxis": "x",
                      "y": [
                        1832782
                      ],
                      "yaxis": "y"
                    },
                    {
                      "alignmentgroup": "True",
                      "hovertemplate": "Country=%{x}<br>Date=6/2/20<br>Cases=%{y}<extra></extra>",
                      "ids": [
                        "United Kingdom"
                      ],
                      "legendgroup": "United Kingdom",
                      "marker": {
                        "color": "#FECB52"
                      },
                      "name": "United Kingdom",
                      "offsetgroup": "United Kingdom",
                      "orientation": "v",
                      "showlegend": true,
                      "textposition": "auto",
                      "type": "bar",
                      "x": [
                        "United Kingdom"
                      ],
                      "xaxis": "x",
                      "y": [
                        260453
                      ],
                      "yaxis": "y"
                    }
                  ],
                  "name": "6/2/20"
                },
                {
                  "data": [
                    {
                      "alignmentgroup": "True",
                      "hovertemplate": "Country=%{x}<br>Date=6/6/20<br>Cases=%{y}<extra></extra>",
                      "ids": [
                        "Argentina"
                      ],
                      "legendgroup": "Argentina",
                      "marker": {
                        "color": "#636efa"
                      },
                      "name": "Argentina",
                      "offsetgroup": "Argentina",
                      "orientation": "v",
                      "showlegend": true,
                      "textposition": "auto",
                      "type": "bar",
                      "x": [
                        "Argentina"
                      ],
                      "xaxis": "x",
                      "y": [
                        22020
                      ],
                      "yaxis": "y"
                    },
                    {
                      "alignmentgroup": "True",
                      "hovertemplate": "Country=%{x}<br>Date=6/6/20<br>Cases=%{y}<extra></extra>",
                      "ids": [
                        "Brazil"
                      ],
                      "legendgroup": "Brazil",
                      "marker": {
                        "color": "#EF553B"
                      },
                      "name": "Brazil",
                      "offsetgroup": "Brazil",
                      "orientation": "v",
                      "showlegend": true,
                      "textposition": "auto",
                      "type": "bar",
                      "x": [
                        "Brazil"
                      ],
                      "xaxis": "x",
                      "y": [
                        672846
                      ],
                      "yaxis": "y"
                    },
                    {
                      "alignmentgroup": "True",
                      "hovertemplate": "Country=%{x}<br>Date=6/6/20<br>Cases=%{y}<extra></extra>",
                      "ids": [
                        "Colombia"
                      ],
                      "legendgroup": "Colombia",
                      "marker": {
                        "color": "#00cc96"
                      },
                      "name": "Colombia",
                      "offsetgroup": "Colombia",
                      "orientation": "v",
                      "showlegend": true,
                      "textposition": "auto",
                      "type": "bar",
                      "x": [
                        "Colombia"
                      ],
                      "xaxis": "x",
                      "y": [
                        38027
                      ],
                      "yaxis": "y"
                    },
                    {
                      "alignmentgroup": "True",
                      "hovertemplate": "Country=%{x}<br>Date=6/6/20<br>Cases=%{y}<extra></extra>",
                      "ids": [
                        "France"
                      ],
                      "legendgroup": "France",
                      "marker": {
                        "color": "#ab63fa"
                      },
                      "name": "France",
                      "offsetgroup": "France",
                      "orientation": "v",
                      "showlegend": true,
                      "textposition": "auto",
                      "type": "bar",
                      "x": [
                        "France"
                      ],
                      "xaxis": "x",
                      "y": [
                        190891
                      ],
                      "yaxis": "y"
                    },
                    {
                      "alignmentgroup": "True",
                      "hovertemplate": "Country=%{x}<br>Date=6/6/20<br>Cases=%{y}<extra></extra>",
                      "ids": [
                        "India"
                      ],
                      "legendgroup": "India",
                      "marker": {
                        "color": "#FFA15A"
                      },
                      "name": "India",
                      "offsetgroup": "India",
                      "orientation": "v",
                      "showlegend": true,
                      "textposition": "auto",
                      "type": "bar",
                      "x": [
                        "India"
                      ],
                      "xaxis": "x",
                      "y": [
                        246622
                      ],
                      "yaxis": "y"
                    },
                    {
                      "alignmentgroup": "True",
                      "hovertemplate": "Country=%{x}<br>Date=6/6/20<br>Cases=%{y}<extra></extra>",
                      "ids": [
                        "Italy"
                      ],
                      "legendgroup": "Italy",
                      "marker": {
                        "color": "#19d3f3"
                      },
                      "name": "Italy",
                      "offsetgroup": "Italy",
                      "orientation": "v",
                      "showlegend": true,
                      "textposition": "auto",
                      "type": "bar",
                      "x": [
                        "Italy"
                      ],
                      "xaxis": "x",
                      "y": [
                        234801
                      ],
                      "yaxis": "y"
                    },
                    {
                      "alignmentgroup": "True",
                      "hovertemplate": "Country=%{x}<br>Date=6/6/20<br>Cases=%{y}<extra></extra>",
                      "ids": [
                        "Russia"
                      ],
                      "legendgroup": "Russia",
                      "marker": {
                        "color": "#FF6692"
                      },
                      "name": "Russia",
                      "offsetgroup": "Russia",
                      "orientation": "v",
                      "showlegend": true,
                      "textposition": "auto",
                      "type": "bar",
                      "x": [
                        "Russia"
                      ],
                      "xaxis": "x",
                      "y": [
                        458102
                      ],
                      "yaxis": "y"
                    },
                    {
                      "alignmentgroup": "True",
                      "hovertemplate": "Country=%{x}<br>Date=6/6/20<br>Cases=%{y}<extra></extra>",
                      "ids": [
                        "Spain"
                      ],
                      "legendgroup": "Spain",
                      "marker": {
                        "color": "#B6E880"
                      },
                      "name": "Spain",
                      "offsetgroup": "Spain",
                      "orientation": "v",
                      "showlegend": true,
                      "textposition": "auto",
                      "type": "bar",
                      "x": [
                        "Spain"
                      ],
                      "xaxis": "x",
                      "y": [
                        241310
                      ],
                      "yaxis": "y"
                    },
                    {
                      "alignmentgroup": "True",
                      "hovertemplate": "Country=%{x}<br>Date=6/6/20<br>Cases=%{y}<extra></extra>",
                      "ids": [
                        "US"
                      ],
                      "legendgroup": "US",
                      "marker": {
                        "color": "#FF97FF"
                      },
                      "name": "US",
                      "offsetgroup": "US",
                      "orientation": "v",
                      "showlegend": true,
                      "textposition": "auto",
                      "type": "bar",
                      "x": [
                        "US"
                      ],
                      "xaxis": "x",
                      "y": [
                        1920581
                      ],
                      "yaxis": "y"
                    },
                    {
                      "alignmentgroup": "True",
                      "hovertemplate": "Country=%{x}<br>Date=6/6/20<br>Cases=%{y}<extra></extra>",
                      "ids": [
                        "United Kingdom"
                      ],
                      "legendgroup": "United Kingdom",
                      "marker": {
                        "color": "#FECB52"
                      },
                      "name": "United Kingdom",
                      "offsetgroup": "United Kingdom",
                      "orientation": "v",
                      "showlegend": true,
                      "textposition": "auto",
                      "type": "bar",
                      "x": [
                        "United Kingdom"
                      ],
                      "xaxis": "x",
                      "y": [
                        264944
                      ],
                      "yaxis": "y"
                    }
                  ],
                  "name": "6/6/20"
                },
                {
                  "data": [
                    {
                      "alignmentgroup": "True",
                      "hovertemplate": "Country=%{x}<br>Date=6/10/20<br>Cases=%{y}<extra></extra>",
                      "ids": [
                        "Argentina"
                      ],
                      "legendgroup": "Argentina",
                      "marker": {
                        "color": "#636efa"
                      },
                      "name": "Argentina",
                      "offsetgroup": "Argentina",
                      "orientation": "v",
                      "showlegend": true,
                      "textposition": "auto",
                      "type": "bar",
                      "x": [
                        "Argentina"
                      ],
                      "xaxis": "x",
                      "y": [
                        25987
                      ],
                      "yaxis": "y"
                    },
                    {
                      "alignmentgroup": "True",
                      "hovertemplate": "Country=%{x}<br>Date=6/10/20<br>Cases=%{y}<extra></extra>",
                      "ids": [
                        "Brazil"
                      ],
                      "legendgroup": "Brazil",
                      "marker": {
                        "color": "#EF553B"
                      },
                      "name": "Brazil",
                      "offsetgroup": "Brazil",
                      "orientation": "v",
                      "showlegend": true,
                      "textposition": "auto",
                      "type": "bar",
                      "x": [
                        "Brazil"
                      ],
                      "xaxis": "x",
                      "y": [
                        772416
                      ],
                      "yaxis": "y"
                    },
                    {
                      "alignmentgroup": "True",
                      "hovertemplate": "Country=%{x}<br>Date=6/10/20<br>Cases=%{y}<extra></extra>",
                      "ids": [
                        "Colombia"
                      ],
                      "legendgroup": "Colombia",
                      "marker": {
                        "color": "#00cc96"
                      },
                      "name": "Colombia",
                      "offsetgroup": "Colombia",
                      "orientation": "v",
                      "showlegend": true,
                      "textposition": "auto",
                      "type": "bar",
                      "x": [
                        "Colombia"
                      ],
                      "xaxis": "x",
                      "y": [
                        43682
                      ],
                      "yaxis": "y"
                    },
                    {
                      "alignmentgroup": "True",
                      "hovertemplate": "Country=%{x}<br>Date=6/10/20<br>Cases=%{y}<extra></extra>",
                      "ids": [
                        "France"
                      ],
                      "legendgroup": "France",
                      "marker": {
                        "color": "#ab63fa"
                      },
                      "name": "France",
                      "offsetgroup": "France",
                      "orientation": "v",
                      "showlegend": true,
                      "textposition": "auto",
                      "type": "bar",
                      "x": [
                        "France"
                      ],
                      "xaxis": "x",
                      "y": [
                        192394
                      ],
                      "yaxis": "y"
                    },
                    {
                      "alignmentgroup": "True",
                      "hovertemplate": "Country=%{x}<br>Date=6/10/20<br>Cases=%{y}<extra></extra>",
                      "ids": [
                        "India"
                      ],
                      "legendgroup": "India",
                      "marker": {
                        "color": "#FFA15A"
                      },
                      "name": "India",
                      "offsetgroup": "India",
                      "orientation": "v",
                      "showlegend": true,
                      "textposition": "auto",
                      "type": "bar",
                      "x": [
                        "India"
                      ],
                      "xaxis": "x",
                      "y": [
                        286605
                      ],
                      "yaxis": "y"
                    },
                    {
                      "alignmentgroup": "True",
                      "hovertemplate": "Country=%{x}<br>Date=6/10/20<br>Cases=%{y}<extra></extra>",
                      "ids": [
                        "Italy"
                      ],
                      "legendgroup": "Italy",
                      "marker": {
                        "color": "#19d3f3"
                      },
                      "name": "Italy",
                      "offsetgroup": "Italy",
                      "orientation": "v",
                      "showlegend": true,
                      "textposition": "auto",
                      "type": "bar",
                      "x": [
                        "Italy"
                      ],
                      "xaxis": "x",
                      "y": [
                        235763
                      ],
                      "yaxis": "y"
                    },
                    {
                      "alignmentgroup": "True",
                      "hovertemplate": "Country=%{x}<br>Date=6/10/20<br>Cases=%{y}<extra></extra>",
                      "ids": [
                        "Russia"
                      ],
                      "legendgroup": "Russia",
                      "marker": {
                        "color": "#FF6692"
                      },
                      "name": "Russia",
                      "offsetgroup": "Russia",
                      "orientation": "v",
                      "showlegend": true,
                      "textposition": "auto",
                      "type": "bar",
                      "x": [
                        "Russia"
                      ],
                      "xaxis": "x",
                      "y": [
                        493023
                      ],
                      "yaxis": "y"
                    },
                    {
                      "alignmentgroup": "True",
                      "hovertemplate": "Country=%{x}<br>Date=6/10/20<br>Cases=%{y}<extra></extra>",
                      "ids": [
                        "Spain"
                      ],
                      "legendgroup": "Spain",
                      "marker": {
                        "color": "#B6E880"
                      },
                      "name": "Spain",
                      "offsetgroup": "Spain",
                      "orientation": "v",
                      "showlegend": true,
                      "textposition": "auto",
                      "type": "bar",
                      "x": [
                        "Spain"
                      ],
                      "xaxis": "x",
                      "y": [
                        242280
                      ],
                      "yaxis": "y"
                    },
                    {
                      "alignmentgroup": "True",
                      "hovertemplate": "Country=%{x}<br>Date=6/10/20<br>Cases=%{y}<extra></extra>",
                      "ids": [
                        "US"
                      ],
                      "legendgroup": "US",
                      "marker": {
                        "color": "#FF97FF"
                      },
                      "name": "US",
                      "offsetgroup": "US",
                      "orientation": "v",
                      "showlegend": true,
                      "textposition": "auto",
                      "type": "bar",
                      "x": [
                        "US"
                      ],
                      "xaxis": "x",
                      "y": [
                        1994722
                      ],
                      "yaxis": "y"
                    },
                    {
                      "alignmentgroup": "True",
                      "hovertemplate": "Country=%{x}<br>Date=6/10/20<br>Cases=%{y}<extra></extra>",
                      "ids": [
                        "United Kingdom"
                      ],
                      "legendgroup": "United Kingdom",
                      "marker": {
                        "color": "#FECB52"
                      },
                      "name": "United Kingdom",
                      "offsetgroup": "United Kingdom",
                      "orientation": "v",
                      "showlegend": true,
                      "textposition": "auto",
                      "type": "bar",
                      "x": [
                        "United Kingdom"
                      ],
                      "xaxis": "x",
                      "y": [
                        269101
                      ],
                      "yaxis": "y"
                    }
                  ],
                  "name": "6/10/20"
                },
                {
                  "data": [
                    {
                      "alignmentgroup": "True",
                      "hovertemplate": "Country=%{x}<br>Date=6/15/20<br>Cases=%{y}<extra></extra>",
                      "ids": [
                        "Argentina"
                      ],
                      "legendgroup": "Argentina",
                      "marker": {
                        "color": "#636efa"
                      },
                      "name": "Argentina",
                      "offsetgroup": "Argentina",
                      "orientation": "v",
                      "showlegend": true,
                      "textposition": "auto",
                      "type": "bar",
                      "x": [
                        "Argentina"
                      ],
                      "xaxis": "x",
                      "y": [
                        32785
                      ],
                      "yaxis": "y"
                    },
                    {
                      "alignmentgroup": "True",
                      "hovertemplate": "Country=%{x}<br>Date=6/15/20<br>Cases=%{y}<extra></extra>",
                      "ids": [
                        "Brazil"
                      ],
                      "legendgroup": "Brazil",
                      "marker": {
                        "color": "#EF553B"
                      },
                      "name": "Brazil",
                      "offsetgroup": "Brazil",
                      "orientation": "v",
                      "showlegend": true,
                      "textposition": "auto",
                      "type": "bar",
                      "x": [
                        "Brazil"
                      ],
                      "xaxis": "x",
                      "y": [
                        888271
                      ],
                      "yaxis": "y"
                    },
                    {
                      "alignmentgroup": "True",
                      "hovertemplate": "Country=%{x}<br>Date=6/15/20<br>Cases=%{y}<extra></extra>",
                      "ids": [
                        "Colombia"
                      ],
                      "legendgroup": "Colombia",
                      "marker": {
                        "color": "#00cc96"
                      },
                      "name": "Colombia",
                      "offsetgroup": "Colombia",
                      "orientation": "v",
                      "showlegend": true,
                      "textposition": "auto",
                      "type": "bar",
                      "x": [
                        "Colombia"
                      ],
                      "xaxis": "x",
                      "y": [
                        53063
                      ],
                      "yaxis": "y"
                    },
                    {
                      "alignmentgroup": "True",
                      "hovertemplate": "Country=%{x}<br>Date=6/15/20<br>Cases=%{y}<extra></extra>",
                      "ids": [
                        "France"
                      ],
                      "legendgroup": "France",
                      "marker": {
                        "color": "#ab63fa"
                      },
                      "name": "France",
                      "offsetgroup": "France",
                      "orientation": "v",
                      "showlegend": true,
                      "textposition": "auto",
                      "type": "bar",
                      "x": [
                        "France"
                      ],
                      "xaxis": "x",
                      "y": [
                        194631
                      ],
                      "yaxis": "y"
                    },
                    {
                      "alignmentgroup": "True",
                      "hovertemplate": "Country=%{x}<br>Date=6/15/20<br>Cases=%{y}<extra></extra>",
                      "ids": [
                        "India"
                      ],
                      "legendgroup": "India",
                      "marker": {
                        "color": "#FFA15A"
                      },
                      "name": "India",
                      "offsetgroup": "India",
                      "orientation": "v",
                      "showlegend": true,
                      "textposition": "auto",
                      "type": "bar",
                      "x": [
                        "India"
                      ],
                      "xaxis": "x",
                      "y": [
                        343091
                      ],
                      "yaxis": "y"
                    },
                    {
                      "alignmentgroup": "True",
                      "hovertemplate": "Country=%{x}<br>Date=6/15/20<br>Cases=%{y}<extra></extra>",
                      "ids": [
                        "Italy"
                      ],
                      "legendgroup": "Italy",
                      "marker": {
                        "color": "#19d3f3"
                      },
                      "name": "Italy",
                      "offsetgroup": "Italy",
                      "orientation": "v",
                      "showlegend": true,
                      "textposition": "auto",
                      "type": "bar",
                      "x": [
                        "Italy"
                      ],
                      "xaxis": "x",
                      "y": [
                        237290
                      ],
                      "yaxis": "y"
                    },
                    {
                      "alignmentgroup": "True",
                      "hovertemplate": "Country=%{x}<br>Date=6/15/20<br>Cases=%{y}<extra></extra>",
                      "ids": [
                        "Russia"
                      ],
                      "legendgroup": "Russia",
                      "marker": {
                        "color": "#FF6692"
                      },
                      "name": "Russia",
                      "offsetgroup": "Russia",
                      "orientation": "v",
                      "showlegend": true,
                      "textposition": "auto",
                      "type": "bar",
                      "x": [
                        "Russia"
                      ],
                      "xaxis": "x",
                      "y": [
                        536484
                      ],
                      "yaxis": "y"
                    },
                    {
                      "alignmentgroup": "True",
                      "hovertemplate": "Country=%{x}<br>Date=6/15/20<br>Cases=%{y}<extra></extra>",
                      "ids": [
                        "Spain"
                      ],
                      "legendgroup": "Spain",
                      "marker": {
                        "color": "#B6E880"
                      },
                      "name": "Spain",
                      "offsetgroup": "Spain",
                      "orientation": "v",
                      "showlegend": true,
                      "textposition": "auto",
                      "type": "bar",
                      "x": [
                        "Spain"
                      ],
                      "xaxis": "x",
                      "y": [
                        244109
                      ],
                      "yaxis": "y"
                    },
                    {
                      "alignmentgroup": "True",
                      "hovertemplate": "Country=%{x}<br>Date=6/15/20<br>Cases=%{y}<extra></extra>",
                      "ids": [
                        "US"
                      ],
                      "legendgroup": "US",
                      "marker": {
                        "color": "#FF97FF"
                      },
                      "name": "US",
                      "offsetgroup": "US",
                      "orientation": "v",
                      "showlegend": true,
                      "textposition": "auto",
                      "type": "bar",
                      "x": [
                        "US"
                      ],
                      "xaxis": "x",
                      "y": [
                        2106893
                      ],
                      "yaxis": "y"
                    },
                    {
                      "alignmentgroup": "True",
                      "hovertemplate": "Country=%{x}<br>Date=6/15/20<br>Cases=%{y}<extra></extra>",
                      "ids": [
                        "United Kingdom"
                      ],
                      "legendgroup": "United Kingdom",
                      "marker": {
                        "color": "#FECB52"
                      },
                      "name": "United Kingdom",
                      "offsetgroup": "United Kingdom",
                      "orientation": "v",
                      "showlegend": true,
                      "textposition": "auto",
                      "type": "bar",
                      "x": [
                        "United Kingdom"
                      ],
                      "xaxis": "x",
                      "y": [
                        273888
                      ],
                      "yaxis": "y"
                    }
                  ],
                  "name": "6/15/20"
                },
                {
                  "data": [
                    {
                      "alignmentgroup": "True",
                      "hovertemplate": "Country=%{x}<br>Date=6/24/20<br>Cases=%{y}<extra></extra>",
                      "ids": [
                        "Argentina"
                      ],
                      "legendgroup": "Argentina",
                      "marker": {
                        "color": "#636efa"
                      },
                      "name": "Argentina",
                      "offsetgroup": "Argentina",
                      "orientation": "v",
                      "showlegend": true,
                      "textposition": "auto",
                      "type": "bar",
                      "x": [
                        "Argentina"
                      ],
                      "xaxis": "x",
                      "y": [
                        49851
                      ],
                      "yaxis": "y"
                    },
                    {
                      "alignmentgroup": "True",
                      "hovertemplate": "Country=%{x}<br>Date=6/24/20<br>Cases=%{y}<extra></extra>",
                      "ids": [
                        "Brazil"
                      ],
                      "legendgroup": "Brazil",
                      "marker": {
                        "color": "#EF553B"
                      },
                      "name": "Brazil",
                      "offsetgroup": "Brazil",
                      "orientation": "v",
                      "showlegend": true,
                      "textposition": "auto",
                      "type": "bar",
                      "x": [
                        "Brazil"
                      ],
                      "xaxis": "x",
                      "y": [
                        1188631
                      ],
                      "yaxis": "y"
                    },
                    {
                      "alignmentgroup": "True",
                      "hovertemplate": "Country=%{x}<br>Date=6/24/20<br>Cases=%{y}<extra></extra>",
                      "ids": [
                        "Colombia"
                      ],
                      "legendgroup": "Colombia",
                      "marker": {
                        "color": "#00cc96"
                      },
                      "name": "Colombia",
                      "offsetgroup": "Colombia",
                      "orientation": "v",
                      "showlegend": true,
                      "textposition": "auto",
                      "type": "bar",
                      "x": [
                        "Colombia"
                      ],
                      "xaxis": "x",
                      "y": [
                        77113
                      ],
                      "yaxis": "y"
                    },
                    {
                      "alignmentgroup": "True",
                      "hovertemplate": "Country=%{x}<br>Date=6/24/20<br>Cases=%{y}<extra></extra>",
                      "ids": [
                        "France"
                      ],
                      "legendgroup": "France",
                      "marker": {
                        "color": "#ab63fa"
                      },
                      "name": "France",
                      "offsetgroup": "France",
                      "orientation": "v",
                      "showlegend": true,
                      "textposition": "auto",
                      "type": "bar",
                      "x": [
                        "France"
                      ],
                      "xaxis": "x",
                      "y": [
                        198607
                      ],
                      "yaxis": "y"
                    },
                    {
                      "alignmentgroup": "True",
                      "hovertemplate": "Country=%{x}<br>Date=6/24/20<br>Cases=%{y}<extra></extra>",
                      "ids": [
                        "India"
                      ],
                      "legendgroup": "India",
                      "marker": {
                        "color": "#FFA15A"
                      },
                      "name": "India",
                      "offsetgroup": "India",
                      "orientation": "v",
                      "showlegend": true,
                      "textposition": "auto",
                      "type": "bar",
                      "x": [
                        "India"
                      ],
                      "xaxis": "x",
                      "y": [
                        473105
                      ],
                      "yaxis": "y"
                    },
                    {
                      "alignmentgroup": "True",
                      "hovertemplate": "Country=%{x}<br>Date=6/24/20<br>Cases=%{y}<extra></extra>",
                      "ids": [
                        "Italy"
                      ],
                      "legendgroup": "Italy",
                      "marker": {
                        "color": "#19d3f3"
                      },
                      "name": "Italy",
                      "offsetgroup": "Italy",
                      "orientation": "v",
                      "showlegend": true,
                      "textposition": "auto",
                      "type": "bar",
                      "x": [
                        "Italy"
                      ],
                      "xaxis": "x",
                      "y": [
                        239410
                      ],
                      "yaxis": "y"
                    },
                    {
                      "alignmentgroup": "True",
                      "hovertemplate": "Country=%{x}<br>Date=6/24/20<br>Cases=%{y}<extra></extra>",
                      "ids": [
                        "Russia"
                      ],
                      "legendgroup": "Russia",
                      "marker": {
                        "color": "#FF6692"
                      },
                      "name": "Russia",
                      "offsetgroup": "Russia",
                      "orientation": "v",
                      "showlegend": true,
                      "textposition": "auto",
                      "type": "bar",
                      "x": [
                        "Russia"
                      ],
                      "xaxis": "x",
                      "y": [
                        606043
                      ],
                      "yaxis": "y"
                    },
                    {
                      "alignmentgroup": "True",
                      "hovertemplate": "Country=%{x}<br>Date=6/24/20<br>Cases=%{y}<extra></extra>",
                      "ids": [
                        "Spain"
                      ],
                      "legendgroup": "Spain",
                      "marker": {
                        "color": "#B6E880"
                      },
                      "name": "Spain",
                      "offsetgroup": "Spain",
                      "orientation": "v",
                      "showlegend": true,
                      "textposition": "auto",
                      "type": "bar",
                      "x": [
                        "Spain"
                      ],
                      "xaxis": "x",
                      "y": [
                        247086
                      ],
                      "yaxis": "y"
                    },
                    {
                      "alignmentgroup": "True",
                      "hovertemplate": "Country=%{x}<br>Date=6/24/20<br>Cases=%{y}<extra></extra>",
                      "ids": [
                        "US"
                      ],
                      "legendgroup": "US",
                      "marker": {
                        "color": "#FF97FF"
                      },
                      "name": "US",
                      "offsetgroup": "US",
                      "orientation": "v",
                      "showlegend": true,
                      "textposition": "auto",
                      "type": "bar",
                      "x": [
                        "US"
                      ],
                      "xaxis": "x",
                      "y": [
                        2374395
                      ],
                      "yaxis": "y"
                    },
                    {
                      "alignmentgroup": "True",
                      "hovertemplate": "Country=%{x}<br>Date=6/24/20<br>Cases=%{y}<extra></extra>",
                      "ids": [
                        "United Kingdom"
                      ],
                      "legendgroup": "United Kingdom",
                      "marker": {
                        "color": "#FECB52"
                      },
                      "name": "United Kingdom",
                      "offsetgroup": "United Kingdom",
                      "orientation": "v",
                      "showlegend": true,
                      "textposition": "auto",
                      "type": "bar",
                      "x": [
                        "United Kingdom"
                      ],
                      "xaxis": "x",
                      "y": [
                        281815
                      ],
                      "yaxis": "y"
                    }
                  ],
                  "name": "6/24/20"
                },
                {
                  "data": [
                    {
                      "alignmentgroup": "True",
                      "hovertemplate": "Country=%{x}<br>Date=6/29/20<br>Cases=%{y}<extra></extra>",
                      "ids": [
                        "Argentina"
                      ],
                      "legendgroup": "Argentina",
                      "marker": {
                        "color": "#636efa"
                      },
                      "name": "Argentina",
                      "offsetgroup": "Argentina",
                      "orientation": "v",
                      "showlegend": true,
                      "textposition": "auto",
                      "type": "bar",
                      "x": [
                        "Argentina"
                      ],
                      "xaxis": "x",
                      "y": [
                        62268
                      ],
                      "yaxis": "y"
                    },
                    {
                      "alignmentgroup": "True",
                      "hovertemplate": "Country=%{x}<br>Date=6/29/20<br>Cases=%{y}<extra></extra>",
                      "ids": [
                        "Brazil"
                      ],
                      "legendgroup": "Brazil",
                      "marker": {
                        "color": "#EF553B"
                      },
                      "name": "Brazil",
                      "offsetgroup": "Brazil",
                      "orientation": "v",
                      "showlegend": true,
                      "textposition": "auto",
                      "type": "bar",
                      "x": [
                        "Brazil"
                      ],
                      "xaxis": "x",
                      "y": [
                        1368195
                      ],
                      "yaxis": "y"
                    },
                    {
                      "alignmentgroup": "True",
                      "hovertemplate": "Country=%{x}<br>Date=6/29/20<br>Cases=%{y}<extra></extra>",
                      "ids": [
                        "Colombia"
                      ],
                      "legendgroup": "Colombia",
                      "marker": {
                        "color": "#00cc96"
                      },
                      "name": "Colombia",
                      "offsetgroup": "Colombia",
                      "orientation": "v",
                      "showlegend": true,
                      "textposition": "auto",
                      "type": "bar",
                      "x": [
                        "Colombia"
                      ],
                      "xaxis": "x",
                      "y": [
                        95043
                      ],
                      "yaxis": "y"
                    },
                    {
                      "alignmentgroup": "True",
                      "hovertemplate": "Country=%{x}<br>Date=6/29/20<br>Cases=%{y}<extra></extra>",
                      "ids": [
                        "France"
                      ],
                      "legendgroup": "France",
                      "marker": {
                        "color": "#ab63fa"
                      },
                      "name": "France",
                      "offsetgroup": "France",
                      "orientation": "v",
                      "showlegend": true,
                      "textposition": "auto",
                      "type": "bar",
                      "x": [
                        "France"
                      ],
                      "xaxis": "x",
                      "y": [
                        201522
                      ],
                      "yaxis": "y"
                    },
                    {
                      "alignmentgroup": "True",
                      "hovertemplate": "Country=%{x}<br>Date=6/29/20<br>Cases=%{y}<extra></extra>",
                      "ids": [
                        "India"
                      ],
                      "legendgroup": "India",
                      "marker": {
                        "color": "#FFA15A"
                      },
                      "name": "India",
                      "offsetgroup": "India",
                      "orientation": "v",
                      "showlegend": true,
                      "textposition": "auto",
                      "type": "bar",
                      "x": [
                        "India"
                      ],
                      "xaxis": "x",
                      "y": [
                        566840
                      ],
                      "yaxis": "y"
                    },
                    {
                      "alignmentgroup": "True",
                      "hovertemplate": "Country=%{x}<br>Date=6/29/20<br>Cases=%{y}<extra></extra>",
                      "ids": [
                        "Italy"
                      ],
                      "legendgroup": "Italy",
                      "marker": {
                        "color": "#19d3f3"
                      },
                      "name": "Italy",
                      "offsetgroup": "Italy",
                      "orientation": "v",
                      "showlegend": true,
                      "textposition": "auto",
                      "type": "bar",
                      "x": [
                        "Italy"
                      ],
                      "xaxis": "x",
                      "y": [
                        240436
                      ],
                      "yaxis": "y"
                    },
                    {
                      "alignmentgroup": "True",
                      "hovertemplate": "Country=%{x}<br>Date=6/29/20<br>Cases=%{y}<extra></extra>",
                      "ids": [
                        "Russia"
                      ],
                      "legendgroup": "Russia",
                      "marker": {
                        "color": "#FF6692"
                      },
                      "name": "Russia",
                      "offsetgroup": "Russia",
                      "orientation": "v",
                      "showlegend": true,
                      "textposition": "auto",
                      "type": "bar",
                      "x": [
                        "Russia"
                      ],
                      "xaxis": "x",
                      "y": [
                        640246
                      ],
                      "yaxis": "y"
                    },
                    {
                      "alignmentgroup": "True",
                      "hovertemplate": "Country=%{x}<br>Date=6/29/20<br>Cases=%{y}<extra></extra>",
                      "ids": [
                        "Spain"
                      ],
                      "legendgroup": "Spain",
                      "marker": {
                        "color": "#B6E880"
                      },
                      "name": "Spain",
                      "offsetgroup": "Spain",
                      "orientation": "v",
                      "showlegend": true,
                      "textposition": "auto",
                      "type": "bar",
                      "x": [
                        "Spain"
                      ],
                      "xaxis": "x",
                      "y": [
                        248970
                      ],
                      "yaxis": "y"
                    },
                    {
                      "alignmentgroup": "True",
                      "hovertemplate": "Country=%{x}<br>Date=6/29/20<br>Cases=%{y}<extra></extra>",
                      "ids": [
                        "US"
                      ],
                      "legendgroup": "US",
                      "marker": {
                        "color": "#FF97FF"
                      },
                      "name": "US",
                      "offsetgroup": "US",
                      "orientation": "v",
                      "showlegend": true,
                      "textposition": "auto",
                      "type": "bar",
                      "x": [
                        "US"
                      ],
                      "xaxis": "x",
                      "y": [
                        2582307
                      ],
                      "yaxis": "y"
                    },
                    {
                      "alignmentgroup": "True",
                      "hovertemplate": "Country=%{x}<br>Date=6/29/20<br>Cases=%{y}<extra></extra>",
                      "ids": [
                        "United Kingdom"
                      ],
                      "legendgroup": "United Kingdom",
                      "marker": {
                        "color": "#FECB52"
                      },
                      "name": "United Kingdom",
                      "offsetgroup": "United Kingdom",
                      "orientation": "v",
                      "showlegend": true,
                      "textposition": "auto",
                      "type": "bar",
                      "x": [
                        "United Kingdom"
                      ],
                      "xaxis": "x",
                      "y": [
                        284812
                      ],
                      "yaxis": "y"
                    }
                  ],
                  "name": "6/29/20"
                },
                {
                  "data": [
                    {
                      "alignmentgroup": "True",
                      "hovertemplate": "Country=%{x}<br>Date=7/2/20<br>Cases=%{y}<extra></extra>",
                      "ids": [
                        "Argentina"
                      ],
                      "legendgroup": "Argentina",
                      "marker": {
                        "color": "#636efa"
                      },
                      "name": "Argentina",
                      "offsetgroup": "Argentina",
                      "orientation": "v",
                      "showlegend": true,
                      "textposition": "auto",
                      "type": "bar",
                      "x": [
                        "Argentina"
                      ],
                      "xaxis": "x",
                      "y": [
                        69941
                      ],
                      "yaxis": "y"
                    },
                    {
                      "alignmentgroup": "True",
                      "hovertemplate": "Country=%{x}<br>Date=7/2/20<br>Cases=%{y}<extra></extra>",
                      "ids": [
                        "Brazil"
                      ],
                      "legendgroup": "Brazil",
                      "marker": {
                        "color": "#EF553B"
                      },
                      "name": "Brazil",
                      "offsetgroup": "Brazil",
                      "orientation": "v",
                      "showlegend": true,
                      "textposition": "auto",
                      "type": "bar",
                      "x": [
                        "Brazil"
                      ],
                      "xaxis": "x",
                      "y": [
                        1496858
                      ],
                      "yaxis": "y"
                    },
                    {
                      "alignmentgroup": "True",
                      "hovertemplate": "Country=%{x}<br>Date=7/2/20<br>Cases=%{y}<extra></extra>",
                      "ids": [
                        "Colombia"
                      ],
                      "legendgroup": "Colombia",
                      "marker": {
                        "color": "#00cc96"
                      },
                      "name": "Colombia",
                      "offsetgroup": "Colombia",
                      "orientation": "v",
                      "showlegend": true,
                      "textposition": "auto",
                      "type": "bar",
                      "x": [
                        "Colombia"
                      ],
                      "xaxis": "x",
                      "y": [
                        106110
                      ],
                      "yaxis": "y"
                    },
                    {
                      "alignmentgroup": "True",
                      "hovertemplate": "Country=%{x}<br>Date=7/2/20<br>Cases=%{y}<extra></extra>",
                      "ids": [
                        "France"
                      ],
                      "legendgroup": "France",
                      "marker": {
                        "color": "#ab63fa"
                      },
                      "name": "France",
                      "offsetgroup": "France",
                      "orientation": "v",
                      "showlegend": true,
                      "textposition": "auto",
                      "type": "bar",
                      "x": [
                        "France"
                      ],
                      "xaxis": "x",
                      "y": [
                        203640
                      ],
                      "yaxis": "y"
                    },
                    {
                      "alignmentgroup": "True",
                      "hovertemplate": "Country=%{x}<br>Date=7/2/20<br>Cases=%{y}<extra></extra>",
                      "ids": [
                        "India"
                      ],
                      "legendgroup": "India",
                      "marker": {
                        "color": "#FFA15A"
                      },
                      "name": "India",
                      "offsetgroup": "India",
                      "orientation": "v",
                      "showlegend": true,
                      "textposition": "auto",
                      "type": "bar",
                      "x": [
                        "India"
                      ],
                      "xaxis": "x",
                      "y": [
                        625544
                      ],
                      "yaxis": "y"
                    },
                    {
                      "alignmentgroup": "True",
                      "hovertemplate": "Country=%{x}<br>Date=7/2/20<br>Cases=%{y}<extra></extra>",
                      "ids": [
                        "Italy"
                      ],
                      "legendgroup": "Italy",
                      "marker": {
                        "color": "#19d3f3"
                      },
                      "name": "Italy",
                      "offsetgroup": "Italy",
                      "orientation": "v",
                      "showlegend": true,
                      "textposition": "auto",
                      "type": "bar",
                      "x": [
                        "Italy"
                      ],
                      "xaxis": "x",
                      "y": [
                        240961
                      ],
                      "yaxis": "y"
                    },
                    {
                      "alignmentgroup": "True",
                      "hovertemplate": "Country=%{x}<br>Date=7/2/20<br>Cases=%{y}<extra></extra>",
                      "ids": [
                        "Russia"
                      ],
                      "legendgroup": "Russia",
                      "marker": {
                        "color": "#FF6692"
                      },
                      "name": "Russia",
                      "offsetgroup": "Russia",
                      "orientation": "v",
                      "showlegend": true,
                      "textposition": "auto",
                      "type": "bar",
                      "x": [
                        "Russia"
                      ],
                      "xaxis": "x",
                      "y": [
                        660231
                      ],
                      "yaxis": "y"
                    },
                    {
                      "alignmentgroup": "True",
                      "hovertemplate": "Country=%{x}<br>Date=7/2/20<br>Cases=%{y}<extra></extra>",
                      "ids": [
                        "Spain"
                      ],
                      "legendgroup": "Spain",
                      "marker": {
                        "color": "#B6E880"
                      },
                      "name": "Spain",
                      "offsetgroup": "Spain",
                      "orientation": "v",
                      "showlegend": true,
                      "textposition": "auto",
                      "type": "bar",
                      "x": [
                        "Spain"
                      ],
                      "xaxis": "x",
                      "y": [
                        250103
                      ],
                      "yaxis": "y"
                    },
                    {
                      "alignmentgroup": "True",
                      "hovertemplate": "Country=%{x}<br>Date=7/2/20<br>Cases=%{y}<extra></extra>",
                      "ids": [
                        "US"
                      ],
                      "legendgroup": "US",
                      "marker": {
                        "color": "#FF97FF"
                      },
                      "name": "US",
                      "offsetgroup": "US",
                      "orientation": "v",
                      "showlegend": true,
                      "textposition": "auto",
                      "type": "bar",
                      "x": [
                        "US"
                      ],
                      "xaxis": "x",
                      "y": [
                        2734697
                      ],
                      "yaxis": "y"
                    },
                    {
                      "alignmentgroup": "True",
                      "hovertemplate": "Country=%{x}<br>Date=7/2/20<br>Cases=%{y}<extra></extra>",
                      "ids": [
                        "United Kingdom"
                      ],
                      "legendgroup": "United Kingdom",
                      "marker": {
                        "color": "#FECB52"
                      },
                      "name": "United Kingdom",
                      "offsetgroup": "United Kingdom",
                      "orientation": "v",
                      "showlegend": true,
                      "textposition": "auto",
                      "type": "bar",
                      "x": [
                        "United Kingdom"
                      ],
                      "xaxis": "x",
                      "y": [
                        285285
                      ],
                      "yaxis": "y"
                    }
                  ],
                  "name": "7/2/20"
                },
                {
                  "data": [
                    {
                      "alignmentgroup": "True",
                      "hovertemplate": "Country=%{x}<br>Date=7/5/20<br>Cases=%{y}<extra></extra>",
                      "ids": [
                        "Argentina"
                      ],
                      "legendgroup": "Argentina",
                      "marker": {
                        "color": "#636efa"
                      },
                      "name": "Argentina",
                      "offsetgroup": "Argentina",
                      "orientation": "v",
                      "showlegend": true,
                      "textposition": "auto",
                      "type": "bar",
                      "x": [
                        "Argentina"
                      ],
                      "xaxis": "x",
                      "y": [
                        77815
                      ],
                      "yaxis": "y"
                    },
                    {
                      "alignmentgroup": "True",
                      "hovertemplate": "Country=%{x}<br>Date=7/5/20<br>Cases=%{y}<extra></extra>",
                      "ids": [
                        "Brazil"
                      ],
                      "legendgroup": "Brazil",
                      "marker": {
                        "color": "#EF553B"
                      },
                      "name": "Brazil",
                      "offsetgroup": "Brazil",
                      "orientation": "v",
                      "showlegend": true,
                      "textposition": "auto",
                      "type": "bar",
                      "x": [
                        "Brazil"
                      ],
                      "xaxis": "x",
                      "y": [
                        1603055
                      ],
                      "yaxis": "y"
                    },
                    {
                      "alignmentgroup": "True",
                      "hovertemplate": "Country=%{x}<br>Date=7/5/20<br>Cases=%{y}<extra></extra>",
                      "ids": [
                        "Colombia"
                      ],
                      "legendgroup": "Colombia",
                      "marker": {
                        "color": "#00cc96"
                      },
                      "name": "Colombia",
                      "offsetgroup": "Colombia",
                      "orientation": "v",
                      "showlegend": true,
                      "textposition": "auto",
                      "type": "bar",
                      "x": [
                        "Colombia"
                      ],
                      "xaxis": "x",
                      "y": [
                        117110
                      ],
                      "yaxis": "y"
                    },
                    {
                      "alignmentgroup": "True",
                      "hovertemplate": "Country=%{x}<br>Date=7/5/20<br>Cases=%{y}<extra></extra>",
                      "ids": [
                        "France"
                      ],
                      "legendgroup": "France",
                      "marker": {
                        "color": "#ab63fa"
                      },
                      "name": "France",
                      "offsetgroup": "France",
                      "orientation": "v",
                      "showlegend": true,
                      "textposition": "auto",
                      "type": "bar",
                      "x": [
                        "France"
                      ],
                      "xaxis": "x",
                      "y": [
                        204222
                      ],
                      "yaxis": "y"
                    },
                    {
                      "alignmentgroup": "True",
                      "hovertemplate": "Country=%{x}<br>Date=7/5/20<br>Cases=%{y}<extra></extra>",
                      "ids": [
                        "India"
                      ],
                      "legendgroup": "India",
                      "marker": {
                        "color": "#FFA15A"
                      },
                      "name": "India",
                      "offsetgroup": "India",
                      "orientation": "v",
                      "showlegend": true,
                      "textposition": "auto",
                      "type": "bar",
                      "x": [
                        "India"
                      ],
                      "xaxis": "x",
                      "y": [
                        697413
                      ],
                      "yaxis": "y"
                    },
                    {
                      "alignmentgroup": "True",
                      "hovertemplate": "Country=%{x}<br>Date=7/5/20<br>Cases=%{y}<extra></extra>",
                      "ids": [
                        "Italy"
                      ],
                      "legendgroup": "Italy",
                      "marker": {
                        "color": "#19d3f3"
                      },
                      "name": "Italy",
                      "offsetgroup": "Italy",
                      "orientation": "v",
                      "showlegend": true,
                      "textposition": "auto",
                      "type": "bar",
                      "x": [
                        "Italy"
                      ],
                      "xaxis": "x",
                      "y": [
                        241611
                      ],
                      "yaxis": "y"
                    },
                    {
                      "alignmentgroup": "True",
                      "hovertemplate": "Country=%{x}<br>Date=7/5/20<br>Cases=%{y}<extra></extra>",
                      "ids": [
                        "Russia"
                      ],
                      "legendgroup": "Russia",
                      "marker": {
                        "color": "#FF6692"
                      },
                      "name": "Russia",
                      "offsetgroup": "Russia",
                      "orientation": "v",
                      "showlegend": true,
                      "textposition": "auto",
                      "type": "bar",
                      "x": [
                        "Russia"
                      ],
                      "xaxis": "x",
                      "y": [
                        680283
                      ],
                      "yaxis": "y"
                    },
                    {
                      "alignmentgroup": "True",
                      "hovertemplate": "Country=%{x}<br>Date=7/5/20<br>Cases=%{y}<extra></extra>",
                      "ids": [
                        "Spain"
                      ],
                      "legendgroup": "Spain",
                      "marker": {
                        "color": "#B6E880"
                      },
                      "name": "Spain",
                      "offsetgroup": "Spain",
                      "orientation": "v",
                      "showlegend": true,
                      "textposition": "auto",
                      "type": "bar",
                      "x": [
                        "Spain"
                      ],
                      "xaxis": "x",
                      "y": [
                        250545
                      ],
                      "yaxis": "y"
                    },
                    {
                      "alignmentgroup": "True",
                      "hovertemplate": "Country=%{x}<br>Date=7/5/20<br>Cases=%{y}<extra></extra>",
                      "ids": [
                        "US"
                      ],
                      "legendgroup": "US",
                      "marker": {
                        "color": "#FF97FF"
                      },
                      "name": "US",
                      "offsetgroup": "US",
                      "orientation": "v",
                      "showlegend": true,
                      "textposition": "auto",
                      "type": "bar",
                      "x": [
                        "US"
                      ],
                      "xaxis": "x",
                      "y": [
                        2882761
                      ],
                      "yaxis": "y"
                    },
                    {
                      "alignmentgroup": "True",
                      "hovertemplate": "Country=%{x}<br>Date=7/5/20<br>Cases=%{y}<extra></extra>",
                      "ids": [
                        "United Kingdom"
                      ],
                      "legendgroup": "United Kingdom",
                      "marker": {
                        "color": "#FECB52"
                      },
                      "name": "United Kingdom",
                      "offsetgroup": "United Kingdom",
                      "orientation": "v",
                      "showlegend": true,
                      "textposition": "auto",
                      "type": "bar",
                      "x": [
                        "United Kingdom"
                      ],
                      "xaxis": "x",
                      "y": [
                        286931
                      ],
                      "yaxis": "y"
                    }
                  ],
                  "name": "7/5/20"
                },
                {
                  "data": [
                    {
                      "alignmentgroup": "True",
                      "hovertemplate": "Country=%{x}<br>Date=7/10/20<br>Cases=%{y}<extra></extra>",
                      "ids": [
                        "Argentina"
                      ],
                      "legendgroup": "Argentina",
                      "marker": {
                        "color": "#636efa"
                      },
                      "name": "Argentina",
                      "offsetgroup": "Argentina",
                      "orientation": "v",
                      "showlegend": true,
                      "textposition": "auto",
                      "type": "bar",
                      "x": [
                        "Argentina"
                      ],
                      "xaxis": "x",
                      "y": [
                        94060
                      ],
                      "yaxis": "y"
                    },
                    {
                      "alignmentgroup": "True",
                      "hovertemplate": "Country=%{x}<br>Date=7/10/20<br>Cases=%{y}<extra></extra>",
                      "ids": [
                        "Brazil"
                      ],
                      "legendgroup": "Brazil",
                      "marker": {
                        "color": "#EF553B"
                      },
                      "name": "Brazil",
                      "offsetgroup": "Brazil",
                      "orientation": "v",
                      "showlegend": true,
                      "textposition": "auto",
                      "type": "bar",
                      "x": [
                        "Brazil"
                      ],
                      "xaxis": "x",
                      "y": [
                        1800827
                      ],
                      "yaxis": "y"
                    },
                    {
                      "alignmentgroup": "True",
                      "hovertemplate": "Country=%{x}<br>Date=7/10/20<br>Cases=%{y}<extra></extra>",
                      "ids": [
                        "Colombia"
                      ],
                      "legendgroup": "Colombia",
                      "marker": {
                        "color": "#00cc96"
                      },
                      "name": "Colombia",
                      "offsetgroup": "Colombia",
                      "orientation": "v",
                      "showlegend": true,
                      "textposition": "auto",
                      "type": "bar",
                      "x": [
                        "Colombia"
                      ],
                      "xaxis": "x",
                      "y": [
                        140776
                      ],
                      "yaxis": "y"
                    },
                    {
                      "alignmentgroup": "True",
                      "hovertemplate": "Country=%{x}<br>Date=7/10/20<br>Cases=%{y}<extra></extra>",
                      "ids": [
                        "France"
                      ],
                      "legendgroup": "France",
                      "marker": {
                        "color": "#ab63fa"
                      },
                      "name": "France",
                      "offsetgroup": "France",
                      "orientation": "v",
                      "showlegend": true,
                      "textposition": "auto",
                      "type": "bar",
                      "x": [
                        "France"
                      ],
                      "xaxis": "x",
                      "y": [
                        208015
                      ],
                      "yaxis": "y"
                    },
                    {
                      "alignmentgroup": "True",
                      "hovertemplate": "Country=%{x}<br>Date=7/10/20<br>Cases=%{y}<extra></extra>",
                      "ids": [
                        "India"
                      ],
                      "legendgroup": "India",
                      "marker": {
                        "color": "#FFA15A"
                      },
                      "name": "India",
                      "offsetgroup": "India",
                      "orientation": "v",
                      "showlegend": true,
                      "textposition": "auto",
                      "type": "bar",
                      "x": [
                        "India"
                      ],
                      "xaxis": "x",
                      "y": [
                        820916
                      ],
                      "yaxis": "y"
                    },
                    {
                      "alignmentgroup": "True",
                      "hovertemplate": "Country=%{x}<br>Date=7/10/20<br>Cases=%{y}<extra></extra>",
                      "ids": [
                        "Italy"
                      ],
                      "legendgroup": "Italy",
                      "marker": {
                        "color": "#19d3f3"
                      },
                      "name": "Italy",
                      "offsetgroup": "Italy",
                      "orientation": "v",
                      "showlegend": true,
                      "textposition": "auto",
                      "type": "bar",
                      "x": [
                        "Italy"
                      ],
                      "xaxis": "x",
                      "y": [
                        242639
                      ],
                      "yaxis": "y"
                    },
                    {
                      "alignmentgroup": "True",
                      "hovertemplate": "Country=%{x}<br>Date=7/10/20<br>Cases=%{y}<extra></extra>",
                      "ids": [
                        "Russia"
                      ],
                      "legendgroup": "Russia",
                      "marker": {
                        "color": "#FF6692"
                      },
                      "name": "Russia",
                      "offsetgroup": "Russia",
                      "orientation": "v",
                      "showlegend": true,
                      "textposition": "auto",
                      "type": "bar",
                      "x": [
                        "Russia"
                      ],
                      "xaxis": "x",
                      "y": [
                        712863
                      ],
                      "yaxis": "y"
                    },
                    {
                      "alignmentgroup": "True",
                      "hovertemplate": "Country=%{x}<br>Date=7/10/20<br>Cases=%{y}<extra></extra>",
                      "ids": [
                        "Spain"
                      ],
                      "legendgroup": "Spain",
                      "marker": {
                        "color": "#B6E880"
                      },
                      "name": "Spain",
                      "offsetgroup": "Spain",
                      "orientation": "v",
                      "showlegend": true,
                      "textposition": "auto",
                      "type": "bar",
                      "x": [
                        "Spain"
                      ],
                      "xaxis": "x",
                      "y": [
                        253908
                      ],
                      "yaxis": "y"
                    },
                    {
                      "alignmentgroup": "True",
                      "hovertemplate": "Country=%{x}<br>Date=7/10/20<br>Cases=%{y}<extra></extra>",
                      "ids": [
                        "US"
                      ],
                      "legendgroup": "US",
                      "marker": {
                        "color": "#FF97FF"
                      },
                      "name": "US",
                      "offsetgroup": "US",
                      "orientation": "v",
                      "showlegend": true,
                      "textposition": "auto",
                      "type": "bar",
                      "x": [
                        "US"
                      ],
                      "xaxis": "x",
                      "y": [
                        3177035
                      ],
                      "yaxis": "y"
                    },
                    {
                      "alignmentgroup": "True",
                      "hovertemplate": "Country=%{x}<br>Date=7/10/20<br>Cases=%{y}<extra></extra>",
                      "ids": [
                        "United Kingdom"
                      ],
                      "legendgroup": "United Kingdom",
                      "marker": {
                        "color": "#FECB52"
                      },
                      "name": "United Kingdom",
                      "offsetgroup": "United Kingdom",
                      "orientation": "v",
                      "showlegend": true,
                      "textposition": "auto",
                      "type": "bar",
                      "x": [
                        "United Kingdom"
                      ],
                      "xaxis": "x",
                      "y": [
                        289678
                      ],
                      "yaxis": "y"
                    }
                  ],
                  "name": "7/10/20"
                },
                {
                  "data": [
                    {
                      "alignmentgroup": "True",
                      "hovertemplate": "Country=%{x}<br>Date=7/15/20<br>Cases=%{y}<extra></extra>",
                      "ids": [
                        "Argentina"
                      ],
                      "legendgroup": "Argentina",
                      "marker": {
                        "color": "#636efa"
                      },
                      "name": "Argentina",
                      "offsetgroup": "Argentina",
                      "orientation": "v",
                      "showlegend": true,
                      "textposition": "auto",
                      "type": "bar",
                      "x": [
                        "Argentina"
                      ],
                      "xaxis": "x",
                      "y": [
                        111146
                      ],
                      "yaxis": "y"
                    },
                    {
                      "alignmentgroup": "True",
                      "hovertemplate": "Country=%{x}<br>Date=7/15/20<br>Cases=%{y}<extra></extra>",
                      "ids": [
                        "Brazil"
                      ],
                      "legendgroup": "Brazil",
                      "marker": {
                        "color": "#EF553B"
                      },
                      "name": "Brazil",
                      "offsetgroup": "Brazil",
                      "orientation": "v",
                      "showlegend": true,
                      "textposition": "auto",
                      "type": "bar",
                      "x": [
                        "Brazil"
                      ],
                      "xaxis": "x",
                      "y": [
                        1966748
                      ],
                      "yaxis": "y"
                    },
                    {
                      "alignmentgroup": "True",
                      "hovertemplate": "Country=%{x}<br>Date=7/15/20<br>Cases=%{y}<extra></extra>",
                      "ids": [
                        "Colombia"
                      ],
                      "legendgroup": "Colombia",
                      "marker": {
                        "color": "#00cc96"
                      },
                      "name": "Colombia",
                      "offsetgroup": "Colombia",
                      "orientation": "v",
                      "showlegend": true,
                      "textposition": "auto",
                      "type": "bar",
                      "x": [
                        "Colombia"
                      ],
                      "xaxis": "x",
                      "y": [
                        165169
                      ],
                      "yaxis": "y"
                    },
                    {
                      "alignmentgroup": "True",
                      "hovertemplate": "Country=%{x}<br>Date=7/15/20<br>Cases=%{y}<extra></extra>",
                      "ids": [
                        "France"
                      ],
                      "legendgroup": "France",
                      "marker": {
                        "color": "#ab63fa"
                      },
                      "name": "France",
                      "offsetgroup": "France",
                      "orientation": "v",
                      "showlegend": true,
                      "textposition": "auto",
                      "type": "bar",
                      "x": [
                        "France"
                      ],
                      "xaxis": "x",
                      "y": [
                        210568
                      ],
                      "yaxis": "y"
                    },
                    {
                      "alignmentgroup": "True",
                      "hovertemplate": "Country=%{x}<br>Date=7/15/20<br>Cases=%{y}<extra></extra>",
                      "ids": [
                        "India"
                      ],
                      "legendgroup": "India",
                      "marker": {
                        "color": "#FFA15A"
                      },
                      "name": "India",
                      "offsetgroup": "India",
                      "orientation": "v",
                      "showlegend": true,
                      "textposition": "auto",
                      "type": "bar",
                      "x": [
                        "India"
                      ],
                      "xaxis": "x",
                      "y": [
                        968857
                      ],
                      "yaxis": "y"
                    },
                    {
                      "alignmentgroup": "True",
                      "hovertemplate": "Country=%{x}<br>Date=7/15/20<br>Cases=%{y}<extra></extra>",
                      "ids": [
                        "Italy"
                      ],
                      "legendgroup": "Italy",
                      "marker": {
                        "color": "#19d3f3"
                      },
                      "name": "Italy",
                      "offsetgroup": "Italy",
                      "orientation": "v",
                      "showlegend": true,
                      "textposition": "auto",
                      "type": "bar",
                      "x": [
                        "Italy"
                      ],
                      "xaxis": "x",
                      "y": [
                        243506
                      ],
                      "yaxis": "y"
                    },
                    {
                      "alignmentgroup": "True",
                      "hovertemplate": "Country=%{x}<br>Date=7/15/20<br>Cases=%{y}<extra></extra>",
                      "ids": [
                        "Russia"
                      ],
                      "legendgroup": "Russia",
                      "marker": {
                        "color": "#FF6692"
                      },
                      "name": "Russia",
                      "offsetgroup": "Russia",
                      "orientation": "v",
                      "showlegend": true,
                      "textposition": "auto",
                      "type": "bar",
                      "x": [
                        "Russia"
                      ],
                      "xaxis": "x",
                      "y": [
                        745197
                      ],
                      "yaxis": "y"
                    },
                    {
                      "alignmentgroup": "True",
                      "hovertemplate": "Country=%{x}<br>Date=7/15/20<br>Cases=%{y}<extra></extra>",
                      "ids": [
                        "Spain"
                      ],
                      "legendgroup": "Spain",
                      "marker": {
                        "color": "#B6E880"
                      },
                      "name": "Spain",
                      "offsetgroup": "Spain",
                      "orientation": "v",
                      "showlegend": true,
                      "textposition": "auto",
                      "type": "bar",
                      "x": [
                        "Spain"
                      ],
                      "xaxis": "x",
                      "y": [
                        257494
                      ],
                      "yaxis": "y"
                    },
                    {
                      "alignmentgroup": "True",
                      "hovertemplate": "Country=%{x}<br>Date=7/15/20<br>Cases=%{y}<extra></extra>",
                      "ids": [
                        "US"
                      ],
                      "legendgroup": "US",
                      "marker": {
                        "color": "#FF97FF"
                      },
                      "name": "US",
                      "offsetgroup": "US",
                      "orientation": "v",
                      "showlegend": true,
                      "textposition": "auto",
                      "type": "bar",
                      "x": [
                        "US"
                      ],
                      "xaxis": "x",
                      "y": [
                        3489638
                      ],
                      "yaxis": "y"
                    },
                    {
                      "alignmentgroup": "True",
                      "hovertemplate": "Country=%{x}<br>Date=7/15/20<br>Cases=%{y}<extra></extra>",
                      "ids": [
                        "United Kingdom"
                      ],
                      "legendgroup": "United Kingdom",
                      "marker": {
                        "color": "#FECB52"
                      },
                      "name": "United Kingdom",
                      "offsetgroup": "United Kingdom",
                      "orientation": "v",
                      "showlegend": true,
                      "textposition": "auto",
                      "type": "bar",
                      "x": [
                        "United Kingdom"
                      ],
                      "xaxis": "x",
                      "y": [
                        293469
                      ],
                      "yaxis": "y"
                    }
                  ],
                  "name": "7/15/20"
                },
                {
                  "data": [
                    {
                      "alignmentgroup": "True",
                      "hovertemplate": "Country=%{x}<br>Date=7/24/20<br>Cases=%{y}<extra></extra>",
                      "ids": [
                        "Argentina"
                      ],
                      "legendgroup": "Argentina",
                      "marker": {
                        "color": "#636efa"
                      },
                      "name": "Argentina",
                      "offsetgroup": "Argentina",
                      "orientation": "v",
                      "showlegend": true,
                      "textposition": "auto",
                      "type": "bar",
                      "x": [
                        "Argentina"
                      ],
                      "xaxis": "x",
                      "y": [
                        153520
                      ],
                      "yaxis": "y"
                    },
                    {
                      "alignmentgroup": "True",
                      "hovertemplate": "Country=%{x}<br>Date=7/24/20<br>Cases=%{y}<extra></extra>",
                      "ids": [
                        "Brazil"
                      ],
                      "legendgroup": "Brazil",
                      "marker": {
                        "color": "#EF553B"
                      },
                      "name": "Brazil",
                      "offsetgroup": "Brazil",
                      "orientation": "v",
                      "showlegend": true,
                      "textposition": "auto",
                      "type": "bar",
                      "x": [
                        "Brazil"
                      ],
                      "xaxis": "x",
                      "y": [
                        2343366
                      ],
                      "yaxis": "y"
                    },
                    {
                      "alignmentgroup": "True",
                      "hovertemplate": "Country=%{x}<br>Date=7/24/20<br>Cases=%{y}<extra></extra>",
                      "ids": [
                        "Colombia"
                      ],
                      "legendgroup": "Colombia",
                      "marker": {
                        "color": "#00cc96"
                      },
                      "name": "Colombia",
                      "offsetgroup": "Colombia",
                      "orientation": "v",
                      "showlegend": true,
                      "textposition": "auto",
                      "type": "bar",
                      "x": [
                        "Colombia"
                      ],
                      "xaxis": "x",
                      "y": [
                        233541
                      ],
                      "yaxis": "y"
                    },
                    {
                      "alignmentgroup": "True",
                      "hovertemplate": "Country=%{x}<br>Date=7/24/20<br>Cases=%{y}<extra></extra>",
                      "ids": [
                        "France"
                      ],
                      "legendgroup": "France",
                      "marker": {
                        "color": "#ab63fa"
                      },
                      "name": "France",
                      "offsetgroup": "France",
                      "orientation": "v",
                      "showlegend": true,
                      "textposition": "auto",
                      "type": "bar",
                      "x": [
                        "France"
                      ],
                      "xaxis": "x",
                      "y": [
                        217797
                      ],
                      "yaxis": "y"
                    },
                    {
                      "alignmentgroup": "True",
                      "hovertemplate": "Country=%{x}<br>Date=7/24/20<br>Cases=%{y}<extra></extra>",
                      "ids": [
                        "India"
                      ],
                      "legendgroup": "India",
                      "marker": {
                        "color": "#FFA15A"
                      },
                      "name": "India",
                      "offsetgroup": "India",
                      "orientation": "v",
                      "showlegend": true,
                      "textposition": "auto",
                      "type": "bar",
                      "x": [
                        "India"
                      ],
                      "xaxis": "x",
                      "y": [
                        1337024
                      ],
                      "yaxis": "y"
                    },
                    {
                      "alignmentgroup": "True",
                      "hovertemplate": "Country=%{x}<br>Date=7/24/20<br>Cases=%{y}<extra></extra>",
                      "ids": [
                        "Italy"
                      ],
                      "legendgroup": "Italy",
                      "marker": {
                        "color": "#19d3f3"
                      },
                      "name": "Italy",
                      "offsetgroup": "Italy",
                      "orientation": "v",
                      "showlegend": true,
                      "textposition": "auto",
                      "type": "bar",
                      "x": [
                        "Italy"
                      ],
                      "xaxis": "x",
                      "y": [
                        245590
                      ],
                      "yaxis": "y"
                    },
                    {
                      "alignmentgroup": "True",
                      "hovertemplate": "Country=%{x}<br>Date=7/24/20<br>Cases=%{y}<extra></extra>",
                      "ids": [
                        "Russia"
                      ],
                      "legendgroup": "Russia",
                      "marker": {
                        "color": "#FF6692"
                      },
                      "name": "Russia",
                      "offsetgroup": "Russia",
                      "orientation": "v",
                      "showlegend": true,
                      "textposition": "auto",
                      "type": "bar",
                      "x": [
                        "Russia"
                      ],
                      "xaxis": "x",
                      "y": [
                        799499
                      ],
                      "yaxis": "y"
                    },
                    {
                      "alignmentgroup": "True",
                      "hovertemplate": "Country=%{x}<br>Date=7/24/20<br>Cases=%{y}<extra></extra>",
                      "ids": [
                        "Spain"
                      ],
                      "legendgroup": "Spain",
                      "marker": {
                        "color": "#B6E880"
                      },
                      "name": "Spain",
                      "offsetgroup": "Spain",
                      "orientation": "v",
                      "showlegend": true,
                      "textposition": "auto",
                      "type": "bar",
                      "x": [
                        "Spain"
                      ],
                      "xaxis": "x",
                      "y": [
                        272421
                      ],
                      "yaxis": "y"
                    },
                    {
                      "alignmentgroup": "True",
                      "hovertemplate": "Country=%{x}<br>Date=7/24/20<br>Cases=%{y}<extra></extra>",
                      "ids": [
                        "US"
                      ],
                      "legendgroup": "US",
                      "marker": {
                        "color": "#FF97FF"
                      },
                      "name": "US",
                      "offsetgroup": "US",
                      "orientation": "v",
                      "showlegend": true,
                      "textposition": "auto",
                      "type": "bar",
                      "x": [
                        "US"
                      ],
                      "xaxis": "x",
                      "y": [
                        4101237
                      ],
                      "yaxis": "y"
                    },
                    {
                      "alignmentgroup": "True",
                      "hovertemplate": "Country=%{x}<br>Date=7/24/20<br>Cases=%{y}<extra></extra>",
                      "ids": [
                        "United Kingdom"
                      ],
                      "legendgroup": "United Kingdom",
                      "marker": {
                        "color": "#FECB52"
                      },
                      "name": "United Kingdom",
                      "offsetgroup": "United Kingdom",
                      "orientation": "v",
                      "showlegend": true,
                      "textposition": "auto",
                      "type": "bar",
                      "x": [
                        "United Kingdom"
                      ],
                      "xaxis": "x",
                      "y": [
                        299500
                      ],
                      "yaxis": "y"
                    }
                  ],
                  "name": "7/24/20"
                },
                {
                  "data": [
                    {
                      "alignmentgroup": "True",
                      "hovertemplate": "Country=%{x}<br>Date=7/29/20<br>Cases=%{y}<extra></extra>",
                      "ids": [
                        "Argentina"
                      ],
                      "legendgroup": "Argentina",
                      "marker": {
                        "color": "#636efa"
                      },
                      "name": "Argentina",
                      "offsetgroup": "Argentina",
                      "orientation": "v",
                      "showlegend": true,
                      "textposition": "auto",
                      "type": "bar",
                      "x": [
                        "Argentina"
                      ],
                      "xaxis": "x",
                      "y": [
                        178996
                      ],
                      "yaxis": "y"
                    },
                    {
                      "alignmentgroup": "True",
                      "hovertemplate": "Country=%{x}<br>Date=7/29/20<br>Cases=%{y}<extra></extra>",
                      "ids": [
                        "Brazil"
                      ],
                      "legendgroup": "Brazil",
                      "marker": {
                        "color": "#EF553B"
                      },
                      "name": "Brazil",
                      "offsetgroup": "Brazil",
                      "orientation": "v",
                      "showlegend": true,
                      "textposition": "auto",
                      "type": "bar",
                      "x": [
                        "Brazil"
                      ],
                      "xaxis": "x",
                      "y": [
                        2552265
                      ],
                      "yaxis": "y"
                    },
                    {
                      "alignmentgroup": "True",
                      "hovertemplate": "Country=%{x}<br>Date=7/29/20<br>Cases=%{y}<extra></extra>",
                      "ids": [
                        "Colombia"
                      ],
                      "legendgroup": "Colombia",
                      "marker": {
                        "color": "#00cc96"
                      },
                      "name": "Colombia",
                      "offsetgroup": "Colombia",
                      "orientation": "v",
                      "showlegend": true,
                      "textposition": "auto",
                      "type": "bar",
                      "x": [
                        "Colombia"
                      ],
                      "xaxis": "x",
                      "y": [
                        276055
                      ],
                      "yaxis": "y"
                    },
                    {
                      "alignmentgroup": "True",
                      "hovertemplate": "Country=%{x}<br>Date=7/29/20<br>Cases=%{y}<extra></extra>",
                      "ids": [
                        "France"
                      ],
                      "legendgroup": "France",
                      "marker": {
                        "color": "#ab63fa"
                      },
                      "name": "France",
                      "offsetgroup": "France",
                      "orientation": "v",
                      "showlegend": true,
                      "textposition": "auto",
                      "type": "bar",
                      "x": [
                        "France"
                      ],
                      "xaxis": "x",
                      "y": [
                        221077
                      ],
                      "yaxis": "y"
                    },
                    {
                      "alignmentgroup": "True",
                      "hovertemplate": "Country=%{x}<br>Date=7/29/20<br>Cases=%{y}<extra></extra>",
                      "ids": [
                        "India"
                      ],
                      "legendgroup": "India",
                      "marker": {
                        "color": "#FFA15A"
                      },
                      "name": "India",
                      "offsetgroup": "India",
                      "orientation": "v",
                      "showlegend": true,
                      "textposition": "auto",
                      "type": "bar",
                      "x": [
                        "India"
                      ],
                      "xaxis": "x",
                      "y": [
                        1581963
                      ],
                      "yaxis": "y"
                    },
                    {
                      "alignmentgroup": "True",
                      "hovertemplate": "Country=%{x}<br>Date=7/29/20<br>Cases=%{y}<extra></extra>",
                      "ids": [
                        "Italy"
                      ],
                      "legendgroup": "Italy",
                      "marker": {
                        "color": "#19d3f3"
                      },
                      "name": "Italy",
                      "offsetgroup": "Italy",
                      "orientation": "v",
                      "showlegend": true,
                      "textposition": "auto",
                      "type": "bar",
                      "x": [
                        "Italy"
                      ],
                      "xaxis": "x",
                      "y": [
                        246776
                      ],
                      "yaxis": "y"
                    },
                    {
                      "alignmentgroup": "True",
                      "hovertemplate": "Country=%{x}<br>Date=7/29/20<br>Cases=%{y}<extra></extra>",
                      "ids": [
                        "Russia"
                      ],
                      "legendgroup": "Russia",
                      "marker": {
                        "color": "#FF6692"
                      },
                      "name": "Russia",
                      "offsetgroup": "Russia",
                      "orientation": "v",
                      "showlegend": true,
                      "textposition": "auto",
                      "type": "bar",
                      "x": [
                        "Russia"
                      ],
                      "xaxis": "x",
                      "y": [
                        827509
                      ],
                      "yaxis": "y"
                    },
                    {
                      "alignmentgroup": "True",
                      "hovertemplate": "Country=%{x}<br>Date=7/29/20<br>Cases=%{y}<extra></extra>",
                      "ids": [
                        "Spain"
                      ],
                      "legendgroup": "Spain",
                      "marker": {
                        "color": "#B6E880"
                      },
                      "name": "Spain",
                      "offsetgroup": "Spain",
                      "orientation": "v",
                      "showlegend": true,
                      "textposition": "auto",
                      "type": "bar",
                      "x": [
                        "Spain"
                      ],
                      "xaxis": "x",
                      "y": [
                        282641
                      ],
                      "yaxis": "y"
                    },
                    {
                      "alignmentgroup": "True",
                      "hovertemplate": "Country=%{x}<br>Date=7/29/20<br>Cases=%{y}<extra></extra>",
                      "ids": [
                        "US"
                      ],
                      "legendgroup": "US",
                      "marker": {
                        "color": "#FF97FF"
                      },
                      "name": "US",
                      "offsetgroup": "US",
                      "orientation": "v",
                      "showlegend": true,
                      "textposition": "auto",
                      "type": "bar",
                      "x": [
                        "US"
                      ],
                      "xaxis": "x",
                      "y": [
                        4415121
                      ],
                      "yaxis": "y"
                    },
                    {
                      "alignmentgroup": "True",
                      "hovertemplate": "Country=%{x}<br>Date=7/29/20<br>Cases=%{y}<extra></extra>",
                      "ids": [
                        "United Kingdom"
                      ],
                      "legendgroup": "United Kingdom",
                      "marker": {
                        "color": "#FECB52"
                      },
                      "name": "United Kingdom",
                      "offsetgroup": "United Kingdom",
                      "orientation": "v",
                      "showlegend": true,
                      "textposition": "auto",
                      "type": "bar",
                      "x": [
                        "United Kingdom"
                      ],
                      "xaxis": "x",
                      "y": [
                        303063
                      ],
                      "yaxis": "y"
                    }
                  ],
                  "name": "7/29/20"
                },
                {
                  "data": [
                    {
                      "alignmentgroup": "True",
                      "hovertemplate": "Country=%{x}<br>Date=8/1/20<br>Cases=%{y}<extra></extra>",
                      "ids": [
                        "Argentina"
                      ],
                      "legendgroup": "Argentina",
                      "marker": {
                        "color": "#636efa"
                      },
                      "name": "Argentina",
                      "offsetgroup": "Argentina",
                      "orientation": "v",
                      "showlegend": true,
                      "textposition": "auto",
                      "type": "bar",
                      "x": [
                        "Argentina"
                      ],
                      "xaxis": "x",
                      "y": [
                        196543
                      ],
                      "yaxis": "y"
                    },
                    {
                      "alignmentgroup": "True",
                      "hovertemplate": "Country=%{x}<br>Date=8/1/20<br>Cases=%{y}<extra></extra>",
                      "ids": [
                        "Brazil"
                      ],
                      "legendgroup": "Brazil",
                      "marker": {
                        "color": "#EF553B"
                      },
                      "name": "Brazil",
                      "offsetgroup": "Brazil",
                      "orientation": "v",
                      "showlegend": true,
                      "textposition": "auto",
                      "type": "bar",
                      "x": [
                        "Brazil"
                      ],
                      "xaxis": "x",
                      "y": [
                        2707877
                      ],
                      "yaxis": "y"
                    },
                    {
                      "alignmentgroup": "True",
                      "hovertemplate": "Country=%{x}<br>Date=8/1/20<br>Cases=%{y}<extra></extra>",
                      "ids": [
                        "Colombia"
                      ],
                      "legendgroup": "Colombia",
                      "marker": {
                        "color": "#00cc96"
                      },
                      "name": "Colombia",
                      "offsetgroup": "Colombia",
                      "orientation": "v",
                      "showlegend": true,
                      "textposition": "auto",
                      "type": "bar",
                      "x": [
                        "Colombia"
                      ],
                      "xaxis": "x",
                      "y": [
                        306181
                      ],
                      "yaxis": "y"
                    },
                    {
                      "alignmentgroup": "True",
                      "hovertemplate": "Country=%{x}<br>Date=8/1/20<br>Cases=%{y}<extra></extra>",
                      "ids": [
                        "France"
                      ],
                      "legendgroup": "France",
                      "marker": {
                        "color": "#ab63fa"
                      },
                      "name": "France",
                      "offsetgroup": "France",
                      "orientation": "v",
                      "showlegend": true,
                      "textposition": "auto",
                      "type": "bar",
                      "x": [
                        "France"
                      ],
                      "xaxis": "x",
                      "y": [
                        225198
                      ],
                      "yaxis": "y"
                    },
                    {
                      "alignmentgroup": "True",
                      "hovertemplate": "Country=%{x}<br>Date=8/1/20<br>Cases=%{y}<extra></extra>",
                      "ids": [
                        "India"
                      ],
                      "legendgroup": "India",
                      "marker": {
                        "color": "#FFA15A"
                      },
                      "name": "India",
                      "offsetgroup": "India",
                      "orientation": "v",
                      "showlegend": true,
                      "textposition": "auto",
                      "type": "bar",
                      "x": [
                        "India"
                      ],
                      "xaxis": "x",
                      "y": [
                        1750723
                      ],
                      "yaxis": "y"
                    },
                    {
                      "alignmentgroup": "True",
                      "hovertemplate": "Country=%{x}<br>Date=8/1/20<br>Cases=%{y}<extra></extra>",
                      "ids": [
                        "Italy"
                      ],
                      "legendgroup": "Italy",
                      "marker": {
                        "color": "#19d3f3"
                      },
                      "name": "Italy",
                      "offsetgroup": "Italy",
                      "orientation": "v",
                      "showlegend": true,
                      "textposition": "auto",
                      "type": "bar",
                      "x": [
                        "Italy"
                      ],
                      "xaxis": "x",
                      "y": [
                        247832
                      ],
                      "yaxis": "y"
                    },
                    {
                      "alignmentgroup": "True",
                      "hovertemplate": "Country=%{x}<br>Date=8/1/20<br>Cases=%{y}<extra></extra>",
                      "ids": [
                        "Russia"
                      ],
                      "legendgroup": "Russia",
                      "marker": {
                        "color": "#FF6692"
                      },
                      "name": "Russia",
                      "offsetgroup": "Russia",
                      "orientation": "v",
                      "showlegend": true,
                      "textposition": "auto",
                      "type": "bar",
                      "x": [
                        "Russia"
                      ],
                      "xaxis": "x",
                      "y": [
                        843890
                      ],
                      "yaxis": "y"
                    },
                    {
                      "alignmentgroup": "True",
                      "hovertemplate": "Country=%{x}<br>Date=8/1/20<br>Cases=%{y}<extra></extra>",
                      "ids": [
                        "Spain"
                      ],
                      "legendgroup": "Spain",
                      "marker": {
                        "color": "#B6E880"
                      },
                      "name": "Spain",
                      "offsetgroup": "Spain",
                      "orientation": "v",
                      "showlegend": true,
                      "textposition": "auto",
                      "type": "bar",
                      "x": [
                        "Spain"
                      ],
                      "xaxis": "x",
                      "y": [
                        288522
                      ],
                      "yaxis": "y"
                    },
                    {
                      "alignmentgroup": "True",
                      "hovertemplate": "Country=%{x}<br>Date=8/1/20<br>Cases=%{y}<extra></extra>",
                      "ids": [
                        "US"
                      ],
                      "legendgroup": "US",
                      "marker": {
                        "color": "#FF97FF"
                      },
                      "name": "US",
                      "offsetgroup": "US",
                      "orientation": "v",
                      "showlegend": true,
                      "textposition": "auto",
                      "type": "bar",
                      "x": [
                        "US"
                      ],
                      "xaxis": "x",
                      "y": [
                        4607033
                      ],
                      "yaxis": "y"
                    },
                    {
                      "alignmentgroup": "True",
                      "hovertemplate": "Country=%{x}<br>Date=8/1/20<br>Cases=%{y}<extra></extra>",
                      "ids": [
                        "United Kingdom"
                      ],
                      "legendgroup": "United Kingdom",
                      "marker": {
                        "color": "#FECB52"
                      },
                      "name": "United Kingdom",
                      "offsetgroup": "United Kingdom",
                      "orientation": "v",
                      "showlegend": true,
                      "textposition": "auto",
                      "type": "bar",
                      "x": [
                        "United Kingdom"
                      ],
                      "xaxis": "x",
                      "y": [
                        305562
                      ],
                      "yaxis": "y"
                    }
                  ],
                  "name": "8/1/20"
                },
                {
                  "data": [
                    {
                      "alignmentgroup": "True",
                      "hovertemplate": "Country=%{x}<br>Date=8/4/20<br>Cases=%{y}<extra></extra>",
                      "ids": [
                        "Argentina"
                      ],
                      "legendgroup": "Argentina",
                      "marker": {
                        "color": "#636efa"
                      },
                      "name": "Argentina",
                      "offsetgroup": "Argentina",
                      "orientation": "v",
                      "showlegend": true,
                      "textposition": "auto",
                      "type": "bar",
                      "x": [
                        "Argentina"
                      ],
                      "xaxis": "x",
                      "y": [
                        213535
                      ],
                      "yaxis": "y"
                    },
                    {
                      "alignmentgroup": "True",
                      "hovertemplate": "Country=%{x}<br>Date=8/4/20<br>Cases=%{y}<extra></extra>",
                      "ids": [
                        "Brazil"
                      ],
                      "legendgroup": "Brazil",
                      "marker": {
                        "color": "#EF553B"
                      },
                      "name": "Brazil",
                      "offsetgroup": "Brazil",
                      "orientation": "v",
                      "showlegend": true,
                      "textposition": "auto",
                      "type": "bar",
                      "x": [
                        "Brazil"
                      ],
                      "xaxis": "x",
                      "y": [
                        2801921
                      ],
                      "yaxis": "y"
                    },
                    {
                      "alignmentgroup": "True",
                      "hovertemplate": "Country=%{x}<br>Date=8/4/20<br>Cases=%{y}<extra></extra>",
                      "ids": [
                        "Colombia"
                      ],
                      "legendgroup": "Colombia",
                      "marker": {
                        "color": "#00cc96"
                      },
                      "name": "Colombia",
                      "offsetgroup": "Colombia",
                      "orientation": "v",
                      "showlegend": true,
                      "textposition": "auto",
                      "type": "bar",
                      "x": [
                        "Colombia"
                      ],
                      "xaxis": "x",
                      "y": [
                        334979
                      ],
                      "yaxis": "y"
                    },
                    {
                      "alignmentgroup": "True",
                      "hovertemplate": "Country=%{x}<br>Date=8/4/20<br>Cases=%{y}<extra></extra>",
                      "ids": [
                        "France"
                      ],
                      "legendgroup": "France",
                      "marker": {
                        "color": "#ab63fa"
                      },
                      "name": "France",
                      "offsetgroup": "France",
                      "orientation": "v",
                      "showlegend": true,
                      "textposition": "auto",
                      "type": "bar",
                      "x": [
                        "France"
                      ],
                      "xaxis": "x",
                      "y": [
                        228576
                      ],
                      "yaxis": "y"
                    },
                    {
                      "alignmentgroup": "True",
                      "hovertemplate": "Country=%{x}<br>Date=8/4/20<br>Cases=%{y}<extra></extra>",
                      "ids": [
                        "India"
                      ],
                      "legendgroup": "India",
                      "marker": {
                        "color": "#FFA15A"
                      },
                      "name": "India",
                      "offsetgroup": "India",
                      "orientation": "v",
                      "showlegend": true,
                      "textposition": "auto",
                      "type": "bar",
                      "x": [
                        "India"
                      ],
                      "xaxis": "x",
                      "y": [
                        1908254
                      ],
                      "yaxis": "y"
                    },
                    {
                      "alignmentgroup": "True",
                      "hovertemplate": "Country=%{x}<br>Date=8/4/20<br>Cases=%{y}<extra></extra>",
                      "ids": [
                        "Italy"
                      ],
                      "legendgroup": "Italy",
                      "marker": {
                        "color": "#19d3f3"
                      },
                      "name": "Italy",
                      "offsetgroup": "Italy",
                      "orientation": "v",
                      "showlegend": true,
                      "textposition": "auto",
                      "type": "bar",
                      "x": [
                        "Italy"
                      ],
                      "xaxis": "x",
                      "y": [
                        248419
                      ],
                      "yaxis": "y"
                    },
                    {
                      "alignmentgroup": "True",
                      "hovertemplate": "Country=%{x}<br>Date=8/4/20<br>Cases=%{y}<extra></extra>",
                      "ids": [
                        "Russia"
                      ],
                      "legendgroup": "Russia",
                      "marker": {
                        "color": "#FF6692"
                      },
                      "name": "Russia",
                      "offsetgroup": "Russia",
                      "orientation": "v",
                      "showlegend": true,
                      "textposition": "auto",
                      "type": "bar",
                      "x": [
                        "Russia"
                      ],
                      "xaxis": "x",
                      "y": [
                        859762
                      ],
                      "yaxis": "y"
                    },
                    {
                      "alignmentgroup": "True",
                      "hovertemplate": "Country=%{x}<br>Date=8/4/20<br>Cases=%{y}<extra></extra>",
                      "ids": [
                        "Spain"
                      ],
                      "legendgroup": "Spain",
                      "marker": {
                        "color": "#B6E880"
                      },
                      "name": "Spain",
                      "offsetgroup": "Spain",
                      "orientation": "v",
                      "showlegend": true,
                      "textposition": "auto",
                      "type": "bar",
                      "x": [
                        "Spain"
                      ],
                      "xaxis": "x",
                      "y": [
                        302814
                      ],
                      "yaxis": "y"
                    },
                    {
                      "alignmentgroup": "True",
                      "hovertemplate": "Country=%{x}<br>Date=8/4/20<br>Cases=%{y}<extra></extra>",
                      "ids": [
                        "US"
                      ],
                      "legendgroup": "US",
                      "marker": {
                        "color": "#FF97FF"
                      },
                      "name": "US",
                      "offsetgroup": "US",
                      "orientation": "v",
                      "showlegend": true,
                      "textposition": "auto",
                      "type": "bar",
                      "x": [
                        "US"
                      ],
                      "xaxis": "x",
                      "y": [
                        4756107
                      ],
                      "yaxis": "y"
                    },
                    {
                      "alignmentgroup": "True",
                      "hovertemplate": "Country=%{x}<br>Date=8/4/20<br>Cases=%{y}<extra></extra>",
                      "ids": [
                        "United Kingdom"
                      ],
                      "legendgroup": "United Kingdom",
                      "marker": {
                        "color": "#FECB52"
                      },
                      "name": "United Kingdom",
                      "offsetgroup": "United Kingdom",
                      "orientation": "v",
                      "showlegend": true,
                      "textposition": "auto",
                      "type": "bar",
                      "x": [
                        "United Kingdom"
                      ],
                      "xaxis": "x",
                      "y": [
                        307926
                      ],
                      "yaxis": "y"
                    }
                  ],
                  "name": "8/4/20"
                },
                {
                  "data": [
                    {
                      "alignmentgroup": "True",
                      "hovertemplate": "Country=%{x}<br>Date=8/9/20<br>Cases=%{y}<extra></extra>",
                      "ids": [
                        "Argentina"
                      ],
                      "legendgroup": "Argentina",
                      "marker": {
                        "color": "#636efa"
                      },
                      "name": "Argentina",
                      "offsetgroup": "Argentina",
                      "orientation": "v",
                      "showlegend": true,
                      "textposition": "auto",
                      "type": "bar",
                      "x": [
                        "Argentina"
                      ],
                      "xaxis": "x",
                      "y": [
                        246499
                      ],
                      "yaxis": "y"
                    },
                    {
                      "alignmentgroup": "True",
                      "hovertemplate": "Country=%{x}<br>Date=8/9/20<br>Cases=%{y}<extra></extra>",
                      "ids": [
                        "Brazil"
                      ],
                      "legendgroup": "Brazil",
                      "marker": {
                        "color": "#EF553B"
                      },
                      "name": "Brazil",
                      "offsetgroup": "Brazil",
                      "orientation": "v",
                      "showlegend": true,
                      "textposition": "auto",
                      "type": "bar",
                      "x": [
                        "Brazil"
                      ],
                      "xaxis": "x",
                      "y": [
                        3035422
                      ],
                      "yaxis": "y"
                    },
                    {
                      "alignmentgroup": "True",
                      "hovertemplate": "Country=%{x}<br>Date=8/9/20<br>Cases=%{y}<extra></extra>",
                      "ids": [
                        "Colombia"
                      ],
                      "legendgroup": "Colombia",
                      "marker": {
                        "color": "#00cc96"
                      },
                      "name": "Colombia",
                      "offsetgroup": "Colombia",
                      "orientation": "v",
                      "showlegend": true,
                      "textposition": "auto",
                      "type": "bar",
                      "x": [
                        "Colombia"
                      ],
                      "xaxis": "x",
                      "y": [
                        387481
                      ],
                      "yaxis": "y"
                    },
                    {
                      "alignmentgroup": "True",
                      "hovertemplate": "Country=%{x}<br>Date=8/9/20<br>Cases=%{y}<extra></extra>",
                      "ids": [
                        "France"
                      ],
                      "legendgroup": "France",
                      "marker": {
                        "color": "#ab63fa"
                      },
                      "name": "France",
                      "offsetgroup": "France",
                      "orientation": "v",
                      "showlegend": true,
                      "textposition": "auto",
                      "type": "bar",
                      "x": [
                        "France"
                      ],
                      "xaxis": "x",
                      "y": [
                        235237
                      ],
                      "yaxis": "y"
                    },
                    {
                      "alignmentgroup": "True",
                      "hovertemplate": "Country=%{x}<br>Date=8/9/20<br>Cases=%{y}<extra></extra>",
                      "ids": [
                        "India"
                      ],
                      "legendgroup": "India",
                      "marker": {
                        "color": "#FFA15A"
                      },
                      "name": "India",
                      "offsetgroup": "India",
                      "orientation": "v",
                      "showlegend": true,
                      "textposition": "auto",
                      "type": "bar",
                      "x": [
                        "India"
                      ],
                      "xaxis": "x",
                      "y": [
                        2215074
                      ],
                      "yaxis": "y"
                    },
                    {
                      "alignmentgroup": "True",
                      "hovertemplate": "Country=%{x}<br>Date=8/9/20<br>Cases=%{y}<extra></extra>",
                      "ids": [
                        "Italy"
                      ],
                      "legendgroup": "Italy",
                      "marker": {
                        "color": "#19d3f3"
                      },
                      "name": "Italy",
                      "offsetgroup": "Italy",
                      "orientation": "v",
                      "showlegend": true,
                      "textposition": "auto",
                      "type": "bar",
                      "x": [
                        "Italy"
                      ],
                      "xaxis": "x",
                      "y": [
                        250566
                      ],
                      "yaxis": "y"
                    },
                    {
                      "alignmentgroup": "True",
                      "hovertemplate": "Country=%{x}<br>Date=8/9/20<br>Cases=%{y}<extra></extra>",
                      "ids": [
                        "Russia"
                      ],
                      "legendgroup": "Russia",
                      "marker": {
                        "color": "#FF6692"
                      },
                      "name": "Russia",
                      "offsetgroup": "Russia",
                      "orientation": "v",
                      "showlegend": true,
                      "textposition": "auto",
                      "type": "bar",
                      "x": [
                        "Russia"
                      ],
                      "xaxis": "x",
                      "y": [
                        885718
                      ],
                      "yaxis": "y"
                    },
                    {
                      "alignmentgroup": "True",
                      "hovertemplate": "Country=%{x}<br>Date=8/9/20<br>Cases=%{y}<extra></extra>",
                      "ids": [
                        "Spain"
                      ],
                      "legendgroup": "Spain",
                      "marker": {
                        "color": "#B6E880"
                      },
                      "name": "Spain",
                      "offsetgroup": "Spain",
                      "orientation": "v",
                      "showlegend": true,
                      "textposition": "auto",
                      "type": "bar",
                      "x": [
                        "Spain"
                      ],
                      "xaxis": "x",
                      "y": [
                        314362
                      ],
                      "yaxis": "y"
                    },
                    {
                      "alignmentgroup": "True",
                      "hovertemplate": "Country=%{x}<br>Date=8/9/20<br>Cases=%{y}<extra></extra>",
                      "ids": [
                        "US"
                      ],
                      "legendgroup": "US",
                      "marker": {
                        "color": "#FF97FF"
                      },
                      "name": "US",
                      "offsetgroup": "US",
                      "orientation": "v",
                      "showlegend": true,
                      "textposition": "auto",
                      "type": "bar",
                      "x": [
                        "US"
                      ],
                      "xaxis": "x",
                      "y": [
                        5028311
                      ],
                      "yaxis": "y"
                    },
                    {
                      "alignmentgroup": "True",
                      "hovertemplate": "Country=%{x}<br>Date=8/9/20<br>Cases=%{y}<extra></extra>",
                      "ids": [
                        "United Kingdom"
                      ],
                      "legendgroup": "United Kingdom",
                      "marker": {
                        "color": "#FECB52"
                      },
                      "name": "United Kingdom",
                      "offsetgroup": "United Kingdom",
                      "orientation": "v",
                      "showlegend": true,
                      "textposition": "auto",
                      "type": "bar",
                      "x": [
                        "United Kingdom"
                      ],
                      "xaxis": "x",
                      "y": [
                        312574
                      ],
                      "yaxis": "y"
                    }
                  ],
                  "name": "8/9/20"
                },
                {
                  "data": [
                    {
                      "alignmentgroup": "True",
                      "hovertemplate": "Country=%{x}<br>Date=8/14/20<br>Cases=%{y}<extra></extra>",
                      "ids": [
                        "Argentina"
                      ],
                      "legendgroup": "Argentina",
                      "marker": {
                        "color": "#636efa"
                      },
                      "name": "Argentina",
                      "offsetgroup": "Argentina",
                      "orientation": "v",
                      "showlegend": true,
                      "textposition": "auto",
                      "type": "bar",
                      "x": [
                        "Argentina"
                      ],
                      "xaxis": "x",
                      "y": [
                        282437
                      ],
                      "yaxis": "y"
                    },
                    {
                      "alignmentgroup": "True",
                      "hovertemplate": "Country=%{x}<br>Date=8/14/20<br>Cases=%{y}<extra></extra>",
                      "ids": [
                        "Brazil"
                      ],
                      "legendgroup": "Brazil",
                      "marker": {
                        "color": "#EF553B"
                      },
                      "name": "Brazil",
                      "offsetgroup": "Brazil",
                      "orientation": "v",
                      "showlegend": true,
                      "textposition": "auto",
                      "type": "bar",
                      "x": [
                        "Brazil"
                      ],
                      "xaxis": "x",
                      "y": [
                        3275520
                      ],
                      "yaxis": "y"
                    },
                    {
                      "alignmentgroup": "True",
                      "hovertemplate": "Country=%{x}<br>Date=8/14/20<br>Cases=%{y}<extra></extra>",
                      "ids": [
                        "Colombia"
                      ],
                      "legendgroup": "Colombia",
                      "marker": {
                        "color": "#00cc96"
                      },
                      "name": "Colombia",
                      "offsetgroup": "Colombia",
                      "orientation": "v",
                      "showlegend": true,
                      "textposition": "auto",
                      "type": "bar",
                      "x": [
                        "Colombia"
                      ],
                      "xaxis": "x",
                      "y": [
                        445111
                      ],
                      "yaxis": "y"
                    },
                    {
                      "alignmentgroup": "True",
                      "hovertemplate": "Country=%{x}<br>Date=8/14/20<br>Cases=%{y}<extra></extra>",
                      "ids": [
                        "France"
                      ],
                      "legendgroup": "France",
                      "marker": {
                        "color": "#ab63fa"
                      },
                      "name": "France",
                      "offsetgroup": "France",
                      "orientation": "v",
                      "showlegend": true,
                      "textposition": "auto",
                      "type": "bar",
                      "x": [
                        "France"
                      ],
                      "xaxis": "x",
                      "y": [
                        249655
                      ],
                      "yaxis": "y"
                    },
                    {
                      "alignmentgroup": "True",
                      "hovertemplate": "Country=%{x}<br>Date=8/14/20<br>Cases=%{y}<extra></extra>",
                      "ids": [
                        "India"
                      ],
                      "legendgroup": "India",
                      "marker": {
                        "color": "#FFA15A"
                      },
                      "name": "India",
                      "offsetgroup": "India",
                      "orientation": "v",
                      "showlegend": true,
                      "textposition": "auto",
                      "type": "bar",
                      "x": [
                        "India"
                      ],
                      "xaxis": "x",
                      "y": [
                        2525922
                      ],
                      "yaxis": "y"
                    },
                    {
                      "alignmentgroup": "True",
                      "hovertemplate": "Country=%{x}<br>Date=8/14/20<br>Cases=%{y}<extra></extra>",
                      "ids": [
                        "Italy"
                      ],
                      "legendgroup": "Italy",
                      "marker": {
                        "color": "#19d3f3"
                      },
                      "name": "Italy",
                      "offsetgroup": "Italy",
                      "orientation": "v",
                      "showlegend": true,
                      "textposition": "auto",
                      "type": "bar",
                      "x": [
                        "Italy"
                      ],
                      "xaxis": "x",
                      "y": [
                        252809
                      ],
                      "yaxis": "y"
                    },
                    {
                      "alignmentgroup": "True",
                      "hovertemplate": "Country=%{x}<br>Date=8/14/20<br>Cases=%{y}<extra></extra>",
                      "ids": [
                        "Russia"
                      ],
                      "legendgroup": "Russia",
                      "marker": {
                        "color": "#FF6692"
                      },
                      "name": "Russia",
                      "offsetgroup": "Russia",
                      "orientation": "v",
                      "showlegend": true,
                      "textposition": "auto",
                      "type": "bar",
                      "x": [
                        "Russia"
                      ],
                      "xaxis": "x",
                      "y": [
                        910778
                      ],
                      "yaxis": "y"
                    },
                    {
                      "alignmentgroup": "True",
                      "hovertemplate": "Country=%{x}<br>Date=8/14/20<br>Cases=%{y}<extra></extra>",
                      "ids": [
                        "Spain"
                      ],
                      "legendgroup": "Spain",
                      "marker": {
                        "color": "#B6E880"
                      },
                      "name": "Spain",
                      "offsetgroup": "Spain",
                      "orientation": "v",
                      "showlegend": true,
                      "textposition": "auto",
                      "type": "bar",
                      "x": [
                        "Spain"
                      ],
                      "xaxis": "x",
                      "y": [
                        342813
                      ],
                      "yaxis": "y"
                    },
                    {
                      "alignmentgroup": "True",
                      "hovertemplate": "Country=%{x}<br>Date=8/14/20<br>Cases=%{y}<extra></extra>",
                      "ids": [
                        "US"
                      ],
                      "legendgroup": "US",
                      "marker": {
                        "color": "#FF97FF"
                      },
                      "name": "US",
                      "offsetgroup": "US",
                      "orientation": "v",
                      "showlegend": true,
                      "textposition": "auto",
                      "type": "bar",
                      "x": [
                        "US"
                      ],
                      "xaxis": "x",
                      "y": [
                        5297381
                      ],
                      "yaxis": "y"
                    },
                    {
                      "alignmentgroup": "True",
                      "hovertemplate": "Country=%{x}<br>Date=8/14/20<br>Cases=%{y}<extra></extra>",
                      "ids": [
                        "United Kingdom"
                      ],
                      "legendgroup": "United Kingdom",
                      "marker": {
                        "color": "#FECB52"
                      },
                      "name": "United Kingdom",
                      "offsetgroup": "United Kingdom",
                      "orientation": "v",
                      "showlegend": true,
                      "textposition": "auto",
                      "type": "bar",
                      "x": [
                        "United Kingdom"
                      ],
                      "xaxis": "x",
                      "y": [
                        318190
                      ],
                      "yaxis": "y"
                    }
                  ],
                  "name": "8/14/20"
                },
                {
                  "data": [
                    {
                      "alignmentgroup": "True",
                      "hovertemplate": "Country=%{x}<br>Date=8/19/20<br>Cases=%{y}<extra></extra>",
                      "ids": [
                        "Argentina"
                      ],
                      "legendgroup": "Argentina",
                      "marker": {
                        "color": "#636efa"
                      },
                      "name": "Argentina",
                      "offsetgroup": "Argentina",
                      "orientation": "v",
                      "showlegend": true,
                      "textposition": "auto",
                      "type": "bar",
                      "x": [
                        "Argentina"
                      ],
                      "xaxis": "x",
                      "y": [
                        312659
                      ],
                      "yaxis": "y"
                    },
                    {
                      "alignmentgroup": "True",
                      "hovertemplate": "Country=%{x}<br>Date=8/19/20<br>Cases=%{y}<extra></extra>",
                      "ids": [
                        "Brazil"
                      ],
                      "legendgroup": "Brazil",
                      "marker": {
                        "color": "#EF553B"
                      },
                      "name": "Brazil",
                      "offsetgroup": "Brazil",
                      "orientation": "v",
                      "showlegend": true,
                      "textposition": "auto",
                      "type": "bar",
                      "x": [
                        "Brazil"
                      ],
                      "xaxis": "x",
                      "y": [
                        3456652
                      ],
                      "yaxis": "y"
                    },
                    {
                      "alignmentgroup": "True",
                      "hovertemplate": "Country=%{x}<br>Date=8/19/20<br>Cases=%{y}<extra></extra>",
                      "ids": [
                        "Colombia"
                      ],
                      "legendgroup": "Colombia",
                      "marker": {
                        "color": "#00cc96"
                      },
                      "name": "Colombia",
                      "offsetgroup": "Colombia",
                      "orientation": "v",
                      "showlegend": true,
                      "textposition": "auto",
                      "type": "bar",
                      "x": [
                        "Colombia"
                      ],
                      "xaxis": "x",
                      "y": [
                        502178
                      ],
                      "yaxis": "y"
                    },
                    {
                      "alignmentgroup": "True",
                      "hovertemplate": "Country=%{x}<br>Date=8/19/20<br>Cases=%{y}<extra></extra>",
                      "ids": [
                        "France"
                      ],
                      "legendgroup": "France",
                      "marker": {
                        "color": "#ab63fa"
                      },
                      "name": "France",
                      "offsetgroup": "France",
                      "orientation": "v",
                      "showlegend": true,
                      "textposition": "auto",
                      "type": "bar",
                      "x": [
                        "France"
                      ],
                      "xaxis": "x",
                      "y": [
                        256534
                      ],
                      "yaxis": "y"
                    },
                    {
                      "alignmentgroup": "True",
                      "hovertemplate": "Country=%{x}<br>Date=8/19/20<br>Cases=%{y}<extra></extra>",
                      "ids": [
                        "India"
                      ],
                      "legendgroup": "India",
                      "marker": {
                        "color": "#FFA15A"
                      },
                      "name": "India",
                      "offsetgroup": "India",
                      "orientation": "v",
                      "showlegend": true,
                      "textposition": "auto",
                      "type": "bar",
                      "x": [
                        "India"
                      ],
                      "xaxis": "x",
                      "y": [
                        2836925
                      ],
                      "yaxis": "y"
                    },
                    {
                      "alignmentgroup": "True",
                      "hovertemplate": "Country=%{x}<br>Date=8/19/20<br>Cases=%{y}<extra></extra>",
                      "ids": [
                        "Italy"
                      ],
                      "legendgroup": "Italy",
                      "marker": {
                        "color": "#19d3f3"
                      },
                      "name": "Italy",
                      "offsetgroup": "Italy",
                      "orientation": "v",
                      "showlegend": true,
                      "textposition": "auto",
                      "type": "bar",
                      "x": [
                        "Italy"
                      ],
                      "xaxis": "x",
                      "y": [
                        255278
                      ],
                      "yaxis": "y"
                    },
                    {
                      "alignmentgroup": "True",
                      "hovertemplate": "Country=%{x}<br>Date=8/19/20<br>Cases=%{y}<extra></extra>",
                      "ids": [
                        "Russia"
                      ],
                      "legendgroup": "Russia",
                      "marker": {
                        "color": "#FF6692"
                      },
                      "name": "Russia",
                      "offsetgroup": "Russia",
                      "orientation": "v",
                      "showlegend": true,
                      "textposition": "auto",
                      "type": "bar",
                      "x": [
                        "Russia"
                      ],
                      "xaxis": "x",
                      "y": [
                        935066
                      ],
                      "yaxis": "y"
                    },
                    {
                      "alignmentgroup": "True",
                      "hovertemplate": "Country=%{x}<br>Date=8/19/20<br>Cases=%{y}<extra></extra>",
                      "ids": [
                        "Spain"
                      ],
                      "legendgroup": "Spain",
                      "marker": {
                        "color": "#B6E880"
                      },
                      "name": "Spain",
                      "offsetgroup": "Spain",
                      "orientation": "v",
                      "showlegend": true,
                      "textposition": "auto",
                      "type": "bar",
                      "x": [
                        "Spain"
                      ],
                      "xaxis": "x",
                      "y": [
                        370867
                      ],
                      "yaxis": "y"
                    },
                    {
                      "alignmentgroup": "True",
                      "hovertemplate": "Country=%{x}<br>Date=8/19/20<br>Cases=%{y}<extra></extra>",
                      "ids": [
                        "US"
                      ],
                      "legendgroup": "US",
                      "marker": {
                        "color": "#FF97FF"
                      },
                      "name": "US",
                      "offsetgroup": "US",
                      "orientation": "v",
                      "showlegend": true,
                      "textposition": "auto",
                      "type": "bar",
                      "x": [
                        "US"
                      ],
                      "xaxis": "x",
                      "y": [
                        5513780
                      ],
                      "yaxis": "y"
                    },
                    {
                      "alignmentgroup": "True",
                      "hovertemplate": "Country=%{x}<br>Date=8/19/20<br>Cases=%{y}<extra></extra>",
                      "ids": [
                        "United Kingdom"
                      ],
                      "legendgroup": "United Kingdom",
                      "marker": {
                        "color": "#FECB52"
                      },
                      "name": "United Kingdom",
                      "offsetgroup": "United Kingdom",
                      "orientation": "v",
                      "showlegend": true,
                      "textposition": "auto",
                      "type": "bar",
                      "x": [
                        "United Kingdom"
                      ],
                      "xaxis": "x",
                      "y": [
                        323008
                      ],
                      "yaxis": "y"
                    }
                  ],
                  "name": "8/19/20"
                },
                {
                  "data": [
                    {
                      "alignmentgroup": "True",
                      "hovertemplate": "Country=%{x}<br>Date=8/23/20<br>Cases=%{y}<extra></extra>",
                      "ids": [
                        "Argentina"
                      ],
                      "legendgroup": "Argentina",
                      "marker": {
                        "color": "#636efa"
                      },
                      "name": "Argentina",
                      "offsetgroup": "Argentina",
                      "orientation": "v",
                      "showlegend": true,
                      "textposition": "auto",
                      "type": "bar",
                      "x": [
                        "Argentina"
                      ],
                      "xaxis": "x",
                      "y": [
                        342154
                      ],
                      "yaxis": "y"
                    },
                    {
                      "alignmentgroup": "True",
                      "hovertemplate": "Country=%{x}<br>Date=8/23/20<br>Cases=%{y}<extra></extra>",
                      "ids": [
                        "Brazil"
                      ],
                      "legendgroup": "Brazil",
                      "marker": {
                        "color": "#EF553B"
                      },
                      "name": "Brazil",
                      "offsetgroup": "Brazil",
                      "orientation": "v",
                      "showlegend": true,
                      "textposition": "auto",
                      "type": "bar",
                      "x": [
                        "Brazil"
                      ],
                      "xaxis": "x",
                      "y": [
                        3605783
                      ],
                      "yaxis": "y"
                    },
                    {
                      "alignmentgroup": "True",
                      "hovertemplate": "Country=%{x}<br>Date=8/23/20<br>Cases=%{y}<extra></extra>",
                      "ids": [
                        "Colombia"
                      ],
                      "legendgroup": "Colombia",
                      "marker": {
                        "color": "#00cc96"
                      },
                      "name": "Colombia",
                      "offsetgroup": "Colombia",
                      "orientation": "v",
                      "showlegend": true,
                      "textposition": "auto",
                      "type": "bar",
                      "x": [
                        "Colombia"
                      ],
                      "xaxis": "x",
                      "y": [
                        541139
                      ],
                      "yaxis": "y"
                    },
                    {
                      "alignmentgroup": "True",
                      "hovertemplate": "Country=%{x}<br>Date=8/23/20<br>Cases=%{y}<extra></extra>",
                      "ids": [
                        "France"
                      ],
                      "legendgroup": "France",
                      "marker": {
                        "color": "#ab63fa"
                      },
                      "name": "France",
                      "offsetgroup": "France",
                      "orientation": "v",
                      "showlegend": true,
                      "textposition": "auto",
                      "type": "bar",
                      "x": [
                        "France"
                      ],
                      "xaxis": "x",
                      "y": [
                        280459
                      ],
                      "yaxis": "y"
                    },
                    {
                      "alignmentgroup": "True",
                      "hovertemplate": "Country=%{x}<br>Date=8/23/20<br>Cases=%{y}<extra></extra>",
                      "ids": [
                        "India"
                      ],
                      "legendgroup": "India",
                      "marker": {
                        "color": "#FFA15A"
                      },
                      "name": "India",
                      "offsetgroup": "India",
                      "orientation": "v",
                      "showlegend": true,
                      "textposition": "auto",
                      "type": "bar",
                      "x": [
                        "India"
                      ],
                      "xaxis": "x",
                      "y": [
                        3106348
                      ],
                      "yaxis": "y"
                    },
                    {
                      "alignmentgroup": "True",
                      "hovertemplate": "Country=%{x}<br>Date=8/23/20<br>Cases=%{y}<extra></extra>",
                      "ids": [
                        "Italy"
                      ],
                      "legendgroup": "Italy",
                      "marker": {
                        "color": "#19d3f3"
                      },
                      "name": "Italy",
                      "offsetgroup": "Italy",
                      "orientation": "v",
                      "showlegend": true,
                      "textposition": "auto",
                      "type": "bar",
                      "x": [
                        "Italy"
                      ],
                      "xaxis": "x",
                      "y": [
                        259345
                      ],
                      "yaxis": "y"
                    },
                    {
                      "alignmentgroup": "True",
                      "hovertemplate": "Country=%{x}<br>Date=8/23/20<br>Cases=%{y}<extra></extra>",
                      "ids": [
                        "Russia"
                      ],
                      "legendgroup": "Russia",
                      "marker": {
                        "color": "#FF6692"
                      },
                      "name": "Russia",
                      "offsetgroup": "Russia",
                      "orientation": "v",
                      "showlegend": true,
                      "textposition": "auto",
                      "type": "bar",
                      "x": [
                        "Russia"
                      ],
                      "xaxis": "x",
                      "y": [
                        954328
                      ],
                      "yaxis": "y"
                    },
                    {
                      "alignmentgroup": "True",
                      "hovertemplate": "Country=%{x}<br>Date=8/23/20<br>Cases=%{y}<extra></extra>",
                      "ids": [
                        "Spain"
                      ],
                      "legendgroup": "Spain",
                      "marker": {
                        "color": "#B6E880"
                      },
                      "name": "Spain",
                      "offsetgroup": "Spain",
                      "orientation": "v",
                      "showlegend": true,
                      "textposition": "auto",
                      "type": "bar",
                      "x": [
                        "Spain"
                      ],
                      "xaxis": "x",
                      "y": [
                        386054
                      ],
                      "yaxis": "y"
                    },
                    {
                      "alignmentgroup": "True",
                      "hovertemplate": "Country=%{x}<br>Date=8/23/20<br>Cases=%{y}<extra></extra>",
                      "ids": [
                        "US"
                      ],
                      "legendgroup": "US",
                      "marker": {
                        "color": "#FF97FF"
                      },
                      "name": "US",
                      "offsetgroup": "US",
                      "orientation": "v",
                      "showlegend": true,
                      "textposition": "auto",
                      "type": "bar",
                      "x": [
                        "US"
                      ],
                      "xaxis": "x",
                      "y": [
                        5683994
                      ],
                      "yaxis": "y"
                    },
                    {
                      "alignmentgroup": "True",
                      "hovertemplate": "Country=%{x}<br>Date=8/23/20<br>Cases=%{y}<extra></extra>",
                      "ids": [
                        "United Kingdom"
                      ],
                      "legendgroup": "United Kingdom",
                      "marker": {
                        "color": "#FECB52"
                      },
                      "name": "United Kingdom",
                      "offsetgroup": "United Kingdom",
                      "orientation": "v",
                      "showlegend": true,
                      "textposition": "auto",
                      "type": "bar",
                      "x": [
                        "United Kingdom"
                      ],
                      "xaxis": "x",
                      "y": [
                        327643
                      ],
                      "yaxis": "y"
                    }
                  ],
                  "name": "8/23/20"
                },
                {
                  "data": [
                    {
                      "alignmentgroup": "True",
                      "hovertemplate": "Country=%{x}<br>Date=8/28/20<br>Cases=%{y}<extra></extra>",
                      "ids": [
                        "Argentina"
                      ],
                      "legendgroup": "Argentina",
                      "marker": {
                        "color": "#636efa"
                      },
                      "name": "Argentina",
                      "offsetgroup": "Argentina",
                      "orientation": "v",
                      "showlegend": true,
                      "textposition": "auto",
                      "type": "bar",
                      "x": [
                        "Argentina"
                      ],
                      "xaxis": "x",
                      "y": [
                        392009
                      ],
                      "yaxis": "y"
                    },
                    {
                      "alignmentgroup": "True",
                      "hovertemplate": "Country=%{x}<br>Date=8/28/20<br>Cases=%{y}<extra></extra>",
                      "ids": [
                        "Brazil"
                      ],
                      "legendgroup": "Brazil",
                      "marker": {
                        "color": "#EF553B"
                      },
                      "name": "Brazil",
                      "offsetgroup": "Brazil",
                      "orientation": "v",
                      "showlegend": true,
                      "textposition": "auto",
                      "type": "bar",
                      "x": [
                        "Brazil"
                      ],
                      "xaxis": "x",
                      "y": [
                        3804803
                      ],
                      "yaxis": "y"
                    },
                    {
                      "alignmentgroup": "True",
                      "hovertemplate": "Country=%{x}<br>Date=8/28/20<br>Cases=%{y}<extra></extra>",
                      "ids": [
                        "Colombia"
                      ],
                      "legendgroup": "Colombia",
                      "marker": {
                        "color": "#00cc96"
                      },
                      "name": "Colombia",
                      "offsetgroup": "Colombia",
                      "orientation": "v",
                      "showlegend": true,
                      "textposition": "auto",
                      "type": "bar",
                      "x": [
                        "Colombia"
                      ],
                      "xaxis": "x",
                      "y": [
                        590492
                      ],
                      "yaxis": "y"
                    },
                    {
                      "alignmentgroup": "True",
                      "hovertemplate": "Country=%{x}<br>Date=8/28/20<br>Cases=%{y}<extra></extra>",
                      "ids": [
                        "France"
                      ],
                      "legendgroup": "France",
                      "marker": {
                        "color": "#ab63fa"
                      },
                      "name": "France",
                      "offsetgroup": "France",
                      "orientation": "v",
                      "showlegend": true,
                      "textposition": "auto",
                      "type": "bar",
                      "x": [
                        "France"
                      ],
                      "xaxis": "x",
                      "y": [
                        304947
                      ],
                      "yaxis": "y"
                    },
                    {
                      "alignmentgroup": "True",
                      "hovertemplate": "Country=%{x}<br>Date=8/28/20<br>Cases=%{y}<extra></extra>",
                      "ids": [
                        "India"
                      ],
                      "legendgroup": "India",
                      "marker": {
                        "color": "#FFA15A"
                      },
                      "name": "India",
                      "offsetgroup": "India",
                      "orientation": "v",
                      "showlegend": true,
                      "textposition": "auto",
                      "type": "bar",
                      "x": [
                        "India"
                      ],
                      "xaxis": "x",
                      "y": [
                        3463972
                      ],
                      "yaxis": "y"
                    },
                    {
                      "alignmentgroup": "True",
                      "hovertemplate": "Country=%{x}<br>Date=8/28/20<br>Cases=%{y}<extra></extra>",
                      "ids": [
                        "Italy"
                      ],
                      "legendgroup": "Italy",
                      "marker": {
                        "color": "#19d3f3"
                      },
                      "name": "Italy",
                      "offsetgroup": "Italy",
                      "orientation": "v",
                      "showlegend": true,
                      "textposition": "auto",
                      "type": "bar",
                      "x": [
                        "Italy"
                      ],
                      "xaxis": "x",
                      "y": [
                        265409
                      ],
                      "yaxis": "y"
                    },
                    {
                      "alignmentgroup": "True",
                      "hovertemplate": "Country=%{x}<br>Date=8/28/20<br>Cases=%{y}<extra></extra>",
                      "ids": [
                        "Russia"
                      ],
                      "legendgroup": "Russia",
                      "marker": {
                        "color": "#FF6692"
                      },
                      "name": "Russia",
                      "offsetgroup": "Russia",
                      "orientation": "v",
                      "showlegend": true,
                      "textposition": "auto",
                      "type": "bar",
                      "x": [
                        "Russia"
                      ],
                      "xaxis": "x",
                      "y": [
                        977730
                      ],
                      "yaxis": "y"
                    },
                    {
                      "alignmentgroup": "True",
                      "hovertemplate": "Country=%{x}<br>Date=8/28/20<br>Cases=%{y}<extra></extra>",
                      "ids": [
                        "Spain"
                      ],
                      "legendgroup": "Spain",
                      "marker": {
                        "color": "#B6E880"
                      },
                      "name": "Spain",
                      "offsetgroup": "Spain",
                      "orientation": "v",
                      "showlegend": true,
                      "textposition": "auto",
                      "type": "bar",
                      "x": [
                        "Spain"
                      ],
                      "xaxis": "x",
                      "y": [
                        439286
                      ],
                      "yaxis": "y"
                    },
                    {
                      "alignmentgroup": "True",
                      "hovertemplate": "Country=%{x}<br>Date=8/28/20<br>Cases=%{y}<extra></extra>",
                      "ids": [
                        "US"
                      ],
                      "legendgroup": "US",
                      "marker": {
                        "color": "#FF97FF"
                      },
                      "name": "US",
                      "offsetgroup": "US",
                      "orientation": "v",
                      "showlegend": true,
                      "textposition": "auto",
                      "type": "bar",
                      "x": [
                        "US"
                      ],
                      "xaxis": "x",
                      "y": [
                        5897126
                      ],
                      "yaxis": "y"
                    },
                    {
                      "alignmentgroup": "True",
                      "hovertemplate": "Country=%{x}<br>Date=8/28/20<br>Cases=%{y}<extra></extra>",
                      "ids": [
                        "United Kingdom"
                      ],
                      "legendgroup": "United Kingdom",
                      "marker": {
                        "color": "#FECB52"
                      },
                      "name": "United Kingdom",
                      "offsetgroup": "United Kingdom",
                      "orientation": "v",
                      "showlegend": true,
                      "textposition": "auto",
                      "type": "bar",
                      "x": [
                        "United Kingdom"
                      ],
                      "xaxis": "x",
                      "y": [
                        333806
                      ],
                      "yaxis": "y"
                    }
                  ],
                  "name": "8/28/20"
                },
                {
                  "data": [
                    {
                      "alignmentgroup": "True",
                      "hovertemplate": "Country=%{x}<br>Date=9/4/20<br>Cases=%{y}<extra></extra>",
                      "ids": [
                        "Argentina"
                      ],
                      "legendgroup": "Argentina",
                      "marker": {
                        "color": "#636efa"
                      },
                      "name": "Argentina",
                      "offsetgroup": "Argentina",
                      "orientation": "v",
                      "showlegend": true,
                      "textposition": "auto",
                      "type": "bar",
                      "x": [
                        "Argentina"
                      ],
                      "xaxis": "x",
                      "y": [
                        461882
                      ],
                      "yaxis": "y"
                    },
                    {
                      "alignmentgroup": "True",
                      "hovertemplate": "Country=%{x}<br>Date=9/4/20<br>Cases=%{y}<extra></extra>",
                      "ids": [
                        "Brazil"
                      ],
                      "legendgroup": "Brazil",
                      "marker": {
                        "color": "#EF553B"
                      },
                      "name": "Brazil",
                      "offsetgroup": "Brazil",
                      "orientation": "v",
                      "showlegend": true,
                      "textposition": "auto",
                      "type": "bar",
                      "x": [
                        "Brazil"
                      ],
                      "xaxis": "x",
                      "y": [
                        4091801
                      ],
                      "yaxis": "y"
                    },
                    {
                      "alignmentgroup": "True",
                      "hovertemplate": "Country=%{x}<br>Date=9/4/20<br>Cases=%{y}<extra></extra>",
                      "ids": [
                        "Colombia"
                      ],
                      "legendgroup": "Colombia",
                      "marker": {
                        "color": "#00cc96"
                      },
                      "name": "Colombia",
                      "offsetgroup": "Colombia",
                      "orientation": "v",
                      "showlegend": true,
                      "textposition": "auto",
                      "type": "bar",
                      "x": [
                        "Colombia"
                      ],
                      "xaxis": "x",
                      "y": [
                        650063
                      ],
                      "yaxis": "y"
                    },
                    {
                      "alignmentgroup": "True",
                      "hovertemplate": "Country=%{x}<br>Date=9/4/20<br>Cases=%{y}<extra></extra>",
                      "ids": [
                        "France"
                      ],
                      "legendgroup": "France",
                      "marker": {
                        "color": "#ab63fa"
                      },
                      "name": "France",
                      "offsetgroup": "France",
                      "orientation": "v",
                      "showlegend": true,
                      "textposition": "auto",
                      "type": "bar",
                      "x": [
                        "France"
                      ],
                      "xaxis": "x",
                      "y": [
                        347267
                      ],
                      "yaxis": "y"
                    },
                    {
                      "alignmentgroup": "True",
                      "hovertemplate": "Country=%{x}<br>Date=9/4/20<br>Cases=%{y}<extra></extra>",
                      "ids": [
                        "India"
                      ],
                      "legendgroup": "India",
                      "marker": {
                        "color": "#FFA15A"
                      },
                      "name": "India",
                      "offsetgroup": "India",
                      "orientation": "v",
                      "showlegend": true,
                      "textposition": "auto",
                      "type": "bar",
                      "x": [
                        "India"
                      ],
                      "xaxis": "x",
                      "y": [
                        4023179
                      ],
                      "yaxis": "y"
                    },
                    {
                      "alignmentgroup": "True",
                      "hovertemplate": "Country=%{x}<br>Date=9/4/20<br>Cases=%{y}<extra></extra>",
                      "ids": [
                        "Italy"
                      ],
                      "legendgroup": "Italy",
                      "marker": {
                        "color": "#19d3f3"
                      },
                      "name": "Italy",
                      "offsetgroup": "Italy",
                      "orientation": "v",
                      "showlegend": true,
                      "textposition": "auto",
                      "type": "bar",
                      "x": [
                        "Italy"
                      ],
                      "xaxis": "x",
                      "y": [
                        274644
                      ],
                      "yaxis": "y"
                    },
                    {
                      "alignmentgroup": "True",
                      "hovertemplate": "Country=%{x}<br>Date=9/4/20<br>Cases=%{y}<extra></extra>",
                      "ids": [
                        "Russia"
                      ],
                      "legendgroup": "Russia",
                      "marker": {
                        "color": "#FF6692"
                      },
                      "name": "Russia",
                      "offsetgroup": "Russia",
                      "orientation": "v",
                      "showlegend": true,
                      "textposition": "auto",
                      "type": "bar",
                      "x": [
                        "Russia"
                      ],
                      "xaxis": "x",
                      "y": [
                        1011987
                      ],
                      "yaxis": "y"
                    },
                    {
                      "alignmentgroup": "True",
                      "hovertemplate": "Country=%{x}<br>Date=9/4/20<br>Cases=%{y}<extra></extra>",
                      "ids": [
                        "Spain"
                      ],
                      "legendgroup": "Spain",
                      "marker": {
                        "color": "#B6E880"
                      },
                      "name": "Spain",
                      "offsetgroup": "Spain",
                      "orientation": "v",
                      "showlegend": true,
                      "textposition": "auto",
                      "type": "bar",
                      "x": [
                        "Spain"
                      ],
                      "xaxis": "x",
                      "y": [
                        498989
                      ],
                      "yaxis": "y"
                    },
                    {
                      "alignmentgroup": "True",
                      "hovertemplate": "Country=%{x}<br>Date=9/4/20<br>Cases=%{y}<extra></extra>",
                      "ids": [
                        "US"
                      ],
                      "legendgroup": "US",
                      "marker": {
                        "color": "#FF97FF"
                      },
                      "name": "US",
                      "offsetgroup": "US",
                      "orientation": "v",
                      "showlegend": true,
                      "textposition": "auto",
                      "type": "bar",
                      "x": [
                        "US"
                      ],
                      "xaxis": "x",
                      "y": [
                        6189473
                      ],
                      "yaxis": "y"
                    },
                    {
                      "alignmentgroup": "True",
                      "hovertemplate": "Country=%{x}<br>Date=9/4/20<br>Cases=%{y}<extra></extra>",
                      "ids": [
                        "United Kingdom"
                      ],
                      "legendgroup": "United Kingdom",
                      "marker": {
                        "color": "#FECB52"
                      },
                      "name": "United Kingdom",
                      "offsetgroup": "United Kingdom",
                      "orientation": "v",
                      "showlegend": true,
                      "textposition": "auto",
                      "type": "bar",
                      "x": [
                        "United Kingdom"
                      ],
                      "xaxis": "x",
                      "y": [
                        344686
                      ],
                      "yaxis": "y"
                    }
                  ],
                  "name": "9/4/20"
                },
                {
                  "data": [
                    {
                      "alignmentgroup": "True",
                      "hovertemplate": "Country=%{x}<br>Date=9/9/20<br>Cases=%{y}<extra></extra>",
                      "ids": [
                        "Argentina"
                      ],
                      "legendgroup": "Argentina",
                      "marker": {
                        "color": "#636efa"
                      },
                      "name": "Argentina",
                      "offsetgroup": "Argentina",
                      "orientation": "v",
                      "showlegend": true,
                      "textposition": "auto",
                      "type": "bar",
                      "x": [
                        "Argentina"
                      ],
                      "xaxis": "x",
                      "y": [
                        512293
                      ],
                      "yaxis": "y"
                    },
                    {
                      "alignmentgroup": "True",
                      "hovertemplate": "Country=%{x}<br>Date=9/9/20<br>Cases=%{y}<extra></extra>",
                      "ids": [
                        "Brazil"
                      ],
                      "legendgroup": "Brazil",
                      "marker": {
                        "color": "#EF553B"
                      },
                      "name": "Brazil",
                      "offsetgroup": "Brazil",
                      "orientation": "v",
                      "showlegend": true,
                      "textposition": "auto",
                      "type": "bar",
                      "x": [
                        "Brazil"
                      ],
                      "xaxis": "x",
                      "y": [
                        4197889
                      ],
                      "yaxis": "y"
                    },
                    {
                      "alignmentgroup": "True",
                      "hovertemplate": "Country=%{x}<br>Date=9/9/20<br>Cases=%{y}<extra></extra>",
                      "ids": [
                        "Colombia"
                      ],
                      "legendgroup": "Colombia",
                      "marker": {
                        "color": "#00cc96"
                      },
                      "name": "Colombia",
                      "offsetgroup": "Colombia",
                      "orientation": "v",
                      "showlegend": true,
                      "textposition": "auto",
                      "type": "bar",
                      "x": [
                        "Colombia"
                      ],
                      "xaxis": "x",
                      "y": [
                        686851
                      ],
                      "yaxis": "y"
                    },
                    {
                      "alignmentgroup": "True",
                      "hovertemplate": "Country=%{x}<br>Date=9/9/20<br>Cases=%{y}<extra></extra>",
                      "ids": [
                        "France"
                      ],
                      "legendgroup": "France",
                      "marker": {
                        "color": "#ab63fa"
                      },
                      "name": "France",
                      "offsetgroup": "France",
                      "orientation": "v",
                      "showlegend": true,
                      "textposition": "auto",
                      "type": "bar",
                      "x": [
                        "France"
                      ],
                      "xaxis": "x",
                      "y": [
                        383292
                      ],
                      "yaxis": "y"
                    },
                    {
                      "alignmentgroup": "True",
                      "hovertemplate": "Country=%{x}<br>Date=9/9/20<br>Cases=%{y}<extra></extra>",
                      "ids": [
                        "India"
                      ],
                      "legendgroup": "India",
                      "marker": {
                        "color": "#FFA15A"
                      },
                      "name": "India",
                      "offsetgroup": "India",
                      "orientation": "v",
                      "showlegend": true,
                      "textposition": "auto",
                      "type": "bar",
                      "x": [
                        "India"
                      ],
                      "xaxis": "x",
                      "y": [
                        4465863
                      ],
                      "yaxis": "y"
                    },
                    {
                      "alignmentgroup": "True",
                      "hovertemplate": "Country=%{x}<br>Date=9/9/20<br>Cases=%{y}<extra></extra>",
                      "ids": [
                        "Italy"
                      ],
                      "legendgroup": "Italy",
                      "marker": {
                        "color": "#19d3f3"
                      },
                      "name": "Italy",
                      "offsetgroup": "Italy",
                      "orientation": "v",
                      "showlegend": true,
                      "textposition": "auto",
                      "type": "bar",
                      "x": [
                        "Italy"
                      ],
                      "xaxis": "x",
                      "y": [
                        281583
                      ],
                      "yaxis": "y"
                    },
                    {
                      "alignmentgroup": "True",
                      "hovertemplate": "Country=%{x}<br>Date=9/9/20<br>Cases=%{y}<extra></extra>",
                      "ids": [
                        "Russia"
                      ],
                      "legendgroup": "Russia",
                      "marker": {
                        "color": "#FF6692"
                      },
                      "name": "Russia",
                      "offsetgroup": "Russia",
                      "orientation": "v",
                      "showlegend": true,
                      "textposition": "auto",
                      "type": "bar",
                      "x": [
                        "Russia"
                      ],
                      "xaxis": "x",
                      "y": [
                        1037526
                      ],
                      "yaxis": "y"
                    },
                    {
                      "alignmentgroup": "True",
                      "hovertemplate": "Country=%{x}<br>Date=9/9/20<br>Cases=%{y}<extra></extra>",
                      "ids": [
                        "Spain"
                      ],
                      "legendgroup": "Spain",
                      "marker": {
                        "color": "#B6E880"
                      },
                      "name": "Spain",
                      "offsetgroup": "Spain",
                      "orientation": "v",
                      "showlegend": true,
                      "textposition": "auto",
                      "type": "bar",
                      "x": [
                        "Spain"
                      ],
                      "xaxis": "x",
                      "y": [
                        543379
                      ],
                      "yaxis": "y"
                    },
                    {
                      "alignmentgroup": "True",
                      "hovertemplate": "Country=%{x}<br>Date=9/9/20<br>Cases=%{y}<extra></extra>",
                      "ids": [
                        "US"
                      ],
                      "legendgroup": "US",
                      "marker": {
                        "color": "#FF97FF"
                      },
                      "name": "US",
                      "offsetgroup": "US",
                      "orientation": "v",
                      "showlegend": true,
                      "textposition": "auto",
                      "type": "bar",
                      "x": [
                        "US"
                      ],
                      "xaxis": "x",
                      "y": [
                        6348544
                      ],
                      "yaxis": "y"
                    },
                    {
                      "alignmentgroup": "True",
                      "hovertemplate": "Country=%{x}<br>Date=9/9/20<br>Cases=%{y}<extra></extra>",
                      "ids": [
                        "United Kingdom"
                      ],
                      "legendgroup": "United Kingdom",
                      "marker": {
                        "color": "#FECB52"
                      },
                      "name": "United Kingdom",
                      "offsetgroup": "United Kingdom",
                      "orientation": "v",
                      "showlegend": true,
                      "textposition": "auto",
                      "type": "bar",
                      "x": [
                        "United Kingdom"
                      ],
                      "xaxis": "x",
                      "y": [
                        357613
                      ],
                      "yaxis": "y"
                    }
                  ],
                  "name": "9/9/20"
                },
                {
                  "data": [
                    {
                      "alignmentgroup": "True",
                      "hovertemplate": "Country=%{x}<br>Date=9/13/20<br>Cases=%{y}<extra></extra>",
                      "ids": [
                        "Argentina"
                      ],
                      "legendgroup": "Argentina",
                      "marker": {
                        "color": "#636efa"
                      },
                      "name": "Argentina",
                      "offsetgroup": "Argentina",
                      "orientation": "v",
                      "showlegend": true,
                      "textposition": "auto",
                      "type": "bar",
                      "x": [
                        "Argentina"
                      ],
                      "xaxis": "x",
                      "y": [
                        555537
                      ],
                      "yaxis": "y"
                    },
                    {
                      "alignmentgroup": "True",
                      "hovertemplate": "Country=%{x}<br>Date=9/13/20<br>Cases=%{y}<extra></extra>",
                      "ids": [
                        "Brazil"
                      ],
                      "legendgroup": "Brazil",
                      "marker": {
                        "color": "#EF553B"
                      },
                      "name": "Brazil",
                      "offsetgroup": "Brazil",
                      "orientation": "v",
                      "showlegend": true,
                      "textposition": "auto",
                      "type": "bar",
                      "x": [
                        "Brazil"
                      ],
                      "xaxis": "x",
                      "y": [
                        4330455
                      ],
                      "yaxis": "y"
                    },
                    {
                      "alignmentgroup": "True",
                      "hovertemplate": "Country=%{x}<br>Date=9/13/20<br>Cases=%{y}<extra></extra>",
                      "ids": [
                        "Colombia"
                      ],
                      "legendgroup": "Colombia",
                      "marker": {
                        "color": "#00cc96"
                      },
                      "name": "Colombia",
                      "offsetgroup": "Colombia",
                      "orientation": "v",
                      "showlegend": true,
                      "textposition": "auto",
                      "type": "bar",
                      "x": [
                        "Colombia"
                      ],
                      "xaxis": "x",
                      "y": [
                        716319
                      ],
                      "yaxis": "y"
                    },
                    {
                      "alignmentgroup": "True",
                      "hovertemplate": "Country=%{x}<br>Date=9/13/20<br>Cases=%{y}<extra></extra>",
                      "ids": [
                        "France"
                      ],
                      "legendgroup": "France",
                      "marker": {
                        "color": "#ab63fa"
                      },
                      "name": "France",
                      "offsetgroup": "France",
                      "orientation": "v",
                      "showlegend": true,
                      "textposition": "auto",
                      "type": "bar",
                      "x": [
                        "France"
                      ],
                      "xaxis": "x",
                      "y": [
                        402893
                      ],
                      "yaxis": "y"
                    },
                    {
                      "alignmentgroup": "True",
                      "hovertemplate": "Country=%{x}<br>Date=9/13/20<br>Cases=%{y}<extra></extra>",
                      "ids": [
                        "India"
                      ],
                      "legendgroup": "India",
                      "marker": {
                        "color": "#FFA15A"
                      },
                      "name": "India",
                      "offsetgroup": "India",
                      "orientation": "v",
                      "showlegend": true,
                      "textposition": "auto",
                      "type": "bar",
                      "x": [
                        "India"
                      ],
                      "xaxis": "x",
                      "y": [
                        4846427
                      ],
                      "yaxis": "y"
                    },
                    {
                      "alignmentgroup": "True",
                      "hovertemplate": "Country=%{x}<br>Date=9/13/20<br>Cases=%{y}<extra></extra>",
                      "ids": [
                        "Italy"
                      ],
                      "legendgroup": "Italy",
                      "marker": {
                        "color": "#19d3f3"
                      },
                      "name": "Italy",
                      "offsetgroup": "Italy",
                      "orientation": "v",
                      "showlegend": true,
                      "textposition": "auto",
                      "type": "bar",
                      "x": [
                        "Italy"
                      ],
                      "xaxis": "x",
                      "y": [
                        287753
                      ],
                      "yaxis": "y"
                    },
                    {
                      "alignmentgroup": "True",
                      "hovertemplate": "Country=%{x}<br>Date=9/13/20<br>Cases=%{y}<extra></extra>",
                      "ids": [
                        "Russia"
                      ],
                      "legendgroup": "Russia",
                      "marker": {
                        "color": "#FF6692"
                      },
                      "name": "Russia",
                      "offsetgroup": "Russia",
                      "orientation": "v",
                      "showlegend": true,
                      "textposition": "auto",
                      "type": "bar",
                      "x": [
                        "Russia"
                      ],
                      "xaxis": "x",
                      "y": [
                        1059024
                      ],
                      "yaxis": "y"
                    },
                    {
                      "alignmentgroup": "True",
                      "hovertemplate": "Country=%{x}<br>Date=9/13/20<br>Cases=%{y}<extra></extra>",
                      "ids": [
                        "Spain"
                      ],
                      "legendgroup": "Spain",
                      "marker": {
                        "color": "#B6E880"
                      },
                      "name": "Spain",
                      "offsetgroup": "Spain",
                      "orientation": "v",
                      "showlegend": true,
                      "textposition": "auto",
                      "type": "bar",
                      "x": [
                        "Spain"
                      ],
                      "xaxis": "x",
                      "y": [
                        566326
                      ],
                      "yaxis": "y"
                    },
                    {
                      "alignmentgroup": "True",
                      "hovertemplate": "Country=%{x}<br>Date=9/13/20<br>Cases=%{y}<extra></extra>",
                      "ids": [
                        "US"
                      ],
                      "legendgroup": "US",
                      "marker": {
                        "color": "#FF97FF"
                      },
                      "name": "US",
                      "offsetgroup": "US",
                      "orientation": "v",
                      "showlegend": true,
                      "textposition": "auto",
                      "type": "bar",
                      "x": [
                        "US"
                      ],
                      "xaxis": "x",
                      "y": [
                        6507427
                      ],
                      "yaxis": "y"
                    },
                    {
                      "alignmentgroup": "True",
                      "hovertemplate": "Country=%{x}<br>Date=9/13/20<br>Cases=%{y}<extra></extra>",
                      "ids": [
                        "United Kingdom"
                      ],
                      "legendgroup": "United Kingdom",
                      "marker": {
                        "color": "#FECB52"
                      },
                      "name": "United Kingdom",
                      "offsetgroup": "United Kingdom",
                      "orientation": "v",
                      "showlegend": true,
                      "textposition": "auto",
                      "type": "bar",
                      "x": [
                        "United Kingdom"
                      ],
                      "xaxis": "x",
                      "y": [
                        370930
                      ],
                      "yaxis": "y"
                    }
                  ],
                  "name": "9/13/20"
                },
                {
                  "data": [
                    {
                      "alignmentgroup": "True",
                      "hovertemplate": "Country=%{x}<br>Date=9/18/20<br>Cases=%{y}<extra></extra>",
                      "ids": [
                        "Argentina"
                      ],
                      "legendgroup": "Argentina",
                      "marker": {
                        "color": "#636efa"
                      },
                      "name": "Argentina",
                      "offsetgroup": "Argentina",
                      "orientation": "v",
                      "showlegend": true,
                      "textposition": "auto",
                      "type": "bar",
                      "x": [
                        "Argentina"
                      ],
                      "xaxis": "x",
                      "y": [
                        613658
                      ],
                      "yaxis": "y"
                    },
                    {
                      "alignmentgroup": "True",
                      "hovertemplate": "Country=%{x}<br>Date=9/18/20<br>Cases=%{y}<extra></extra>",
                      "ids": [
                        "Brazil"
                      ],
                      "legendgroup": "Brazil",
                      "marker": {
                        "color": "#EF553B"
                      },
                      "name": "Brazil",
                      "offsetgroup": "Brazil",
                      "orientation": "v",
                      "showlegend": true,
                      "textposition": "auto",
                      "type": "bar",
                      "x": [
                        "Brazil"
                      ],
                      "xaxis": "x",
                      "y": [
                        4495183
                      ],
                      "yaxis": "y"
                    },
                    {
                      "alignmentgroup": "True",
                      "hovertemplate": "Country=%{x}<br>Date=9/18/20<br>Cases=%{y}<extra></extra>",
                      "ids": [
                        "Colombia"
                      ],
                      "legendgroup": "Colombia",
                      "marker": {
                        "color": "#00cc96"
                      },
                      "name": "Colombia",
                      "offsetgroup": "Colombia",
                      "orientation": "v",
                      "showlegend": true,
                      "textposition": "auto",
                      "type": "bar",
                      "x": [
                        "Colombia"
                      ],
                      "xaxis": "x",
                      "y": [
                        750471
                      ],
                      "yaxis": "y"
                    },
                    {
                      "alignmentgroup": "True",
                      "hovertemplate": "Country=%{x}<br>Date=9/18/20<br>Cases=%{y}<extra></extra>",
                      "ids": [
                        "France"
                      ],
                      "legendgroup": "France",
                      "marker": {
                        "color": "#ab63fa"
                      },
                      "name": "France",
                      "offsetgroup": "France",
                      "orientation": "v",
                      "showlegend": true,
                      "textposition": "auto",
                      "type": "bar",
                      "x": [
                        "France"
                      ],
                      "xaxis": "x",
                      "y": [
                        467421
                      ],
                      "yaxis": "y"
                    },
                    {
                      "alignmentgroup": "True",
                      "hovertemplate": "Country=%{x}<br>Date=9/18/20<br>Cases=%{y}<extra></extra>",
                      "ids": [
                        "India"
                      ],
                      "legendgroup": "India",
                      "marker": {
                        "color": "#FFA15A"
                      },
                      "name": "India",
                      "offsetgroup": "India",
                      "orientation": "v",
                      "showlegend": true,
                      "textposition": "auto",
                      "type": "bar",
                      "x": [
                        "India"
                      ],
                      "xaxis": "x",
                      "y": [
                        5308014
                      ],
                      "yaxis": "y"
                    },
                    {
                      "alignmentgroup": "True",
                      "hovertemplate": "Country=%{x}<br>Date=9/18/20<br>Cases=%{y}<extra></extra>",
                      "ids": [
                        "Italy"
                      ],
                      "legendgroup": "Italy",
                      "marker": {
                        "color": "#19d3f3"
                      },
                      "name": "Italy",
                      "offsetgroup": "Italy",
                      "orientation": "v",
                      "showlegend": true,
                      "textposition": "auto",
                      "type": "bar",
                      "x": [
                        "Italy"
                      ],
                      "xaxis": "x",
                      "y": [
                        294932
                      ],
                      "yaxis": "y"
                    },
                    {
                      "alignmentgroup": "True",
                      "hovertemplate": "Country=%{x}<br>Date=9/18/20<br>Cases=%{y}<extra></extra>",
                      "ids": [
                        "Russia"
                      ],
                      "legendgroup": "Russia",
                      "marker": {
                        "color": "#FF6692"
                      },
                      "name": "Russia",
                      "offsetgroup": "Russia",
                      "orientation": "v",
                      "showlegend": true,
                      "textposition": "auto",
                      "type": "bar",
                      "x": [
                        "Russia"
                      ],
                      "xaxis": "x",
                      "y": [
                        1086955
                      ],
                      "yaxis": "y"
                    },
                    {
                      "alignmentgroup": "True",
                      "hovertemplate": "Country=%{x}<br>Date=9/18/20<br>Cases=%{y}<extra></extra>",
                      "ids": [
                        "Spain"
                      ],
                      "legendgroup": "Spain",
                      "marker": {
                        "color": "#B6E880"
                      },
                      "name": "Spain",
                      "offsetgroup": "Spain",
                      "orientation": "v",
                      "showlegend": true,
                      "textposition": "auto",
                      "type": "bar",
                      "x": [
                        "Spain"
                      ],
                      "xaxis": "x",
                      "y": [
                        640040
                      ],
                      "yaxis": "y"
                    },
                    {
                      "alignmentgroup": "True",
                      "hovertemplate": "Country=%{x}<br>Date=9/18/20<br>Cases=%{y}<extra></extra>",
                      "ids": [
                        "US"
                      ],
                      "legendgroup": "US",
                      "marker": {
                        "color": "#FF97FF"
                      },
                      "name": "US",
                      "offsetgroup": "US",
                      "orientation": "v",
                      "showlegend": true,
                      "textposition": "auto",
                      "type": "bar",
                      "x": [
                        "US"
                      ],
                      "xaxis": "x",
                      "y": [
                        6711775
                      ],
                      "yaxis": "y"
                    },
                    {
                      "alignmentgroup": "True",
                      "hovertemplate": "Country=%{x}<br>Date=9/18/20<br>Cases=%{y}<extra></extra>",
                      "ids": [
                        "United Kingdom"
                      ],
                      "legendgroup": "United Kingdom",
                      "marker": {
                        "color": "#FECB52"
                      },
                      "name": "United Kingdom",
                      "offsetgroup": "United Kingdom",
                      "orientation": "v",
                      "showlegend": true,
                      "textposition": "auto",
                      "type": "bar",
                      "x": [
                        "United Kingdom"
                      ],
                      "xaxis": "x",
                      "y": [
                        388416
                      ],
                      "yaxis": "y"
                    }
                  ],
                  "name": "9/18/20"
                },
                {
                  "data": [
                    {
                      "alignmentgroup": "True",
                      "hovertemplate": "Country=%{x}<br>Date=9/22/20<br>Cases=%{y}<extra></extra>",
                      "ids": [
                        "Argentina"
                      ],
                      "legendgroup": "Argentina",
                      "marker": {
                        "color": "#636efa"
                      },
                      "name": "Argentina",
                      "offsetgroup": "Argentina",
                      "orientation": "v",
                      "showlegend": true,
                      "textposition": "auto",
                      "type": "bar",
                      "x": [
                        "Argentina"
                      ],
                      "xaxis": "x",
                      "y": [
                        652174
                      ],
                      "yaxis": "y"
                    },
                    {
                      "alignmentgroup": "True",
                      "hovertemplate": "Country=%{x}<br>Date=9/22/20<br>Cases=%{y}<extra></extra>",
                      "ids": [
                        "Brazil"
                      ],
                      "legendgroup": "Brazil",
                      "marker": {
                        "color": "#EF553B"
                      },
                      "name": "Brazil",
                      "offsetgroup": "Brazil",
                      "orientation": "v",
                      "showlegend": true,
                      "textposition": "auto",
                      "type": "bar",
                      "x": [
                        "Brazil"
                      ],
                      "xaxis": "x",
                      "y": [
                        4591364
                      ],
                      "yaxis": "y"
                    },
                    {
                      "alignmentgroup": "True",
                      "hovertemplate": "Country=%{x}<br>Date=9/22/20<br>Cases=%{y}<extra></extra>",
                      "ids": [
                        "Colombia"
                      ],
                      "legendgroup": "Colombia",
                      "marker": {
                        "color": "#00cc96"
                      },
                      "name": "Colombia",
                      "offsetgroup": "Colombia",
                      "orientation": "v",
                      "showlegend": true,
                      "textposition": "auto",
                      "type": "bar",
                      "x": [
                        "Colombia"
                      ],
                      "xaxis": "x",
                      "y": [
                        777537
                      ],
                      "yaxis": "y"
                    },
                    {
                      "alignmentgroup": "True",
                      "hovertemplate": "Country=%{x}<br>Date=9/22/20<br>Cases=%{y}<extra></extra>",
                      "ids": [
                        "France"
                      ],
                      "legendgroup": "France",
                      "marker": {
                        "color": "#ab63fa"
                      },
                      "name": "France",
                      "offsetgroup": "France",
                      "orientation": "v",
                      "showlegend": true,
                      "textposition": "auto",
                      "type": "bar",
                      "x": [
                        "France"
                      ],
                      "xaxis": "x",
                      "y": [
                        507150
                      ],
                      "yaxis": "y"
                    },
                    {
                      "alignmentgroup": "True",
                      "hovertemplate": "Country=%{x}<br>Date=9/22/20<br>Cases=%{y}<extra></extra>",
                      "ids": [
                        "India"
                      ],
                      "legendgroup": "India",
                      "marker": {
                        "color": "#FFA15A"
                      },
                      "name": "India",
                      "offsetgroup": "India",
                      "orientation": "v",
                      "showlegend": true,
                      "textposition": "auto",
                      "type": "bar",
                      "x": [
                        "India"
                      ],
                      "xaxis": "x",
                      "y": [
                        5646010
                      ],
                      "yaxis": "y"
                    },
                    {
                      "alignmentgroup": "True",
                      "hovertemplate": "Country=%{x}<br>Date=9/22/20<br>Cases=%{y}<extra></extra>",
                      "ids": [
                        "Italy"
                      ],
                      "legendgroup": "Italy",
                      "marker": {
                        "color": "#19d3f3"
                      },
                      "name": "Italy",
                      "offsetgroup": "Italy",
                      "orientation": "v",
                      "showlegend": true,
                      "textposition": "auto",
                      "type": "bar",
                      "x": [
                        "Italy"
                      ],
                      "xaxis": "x",
                      "y": [
                        300897
                      ],
                      "yaxis": "y"
                    },
                    {
                      "alignmentgroup": "True",
                      "hovertemplate": "Country=%{x}<br>Date=9/22/20<br>Cases=%{y}<extra></extra>",
                      "ids": [
                        "Russia"
                      ],
                      "legendgroup": "Russia",
                      "marker": {
                        "color": "#FF6692"
                      },
                      "name": "Russia",
                      "offsetgroup": "Russia",
                      "orientation": "v",
                      "showlegend": true,
                      "textposition": "auto",
                      "type": "bar",
                      "x": [
                        "Russia"
                      ],
                      "xaxis": "x",
                      "y": [
                        1111157
                      ],
                      "yaxis": "y"
                    },
                    {
                      "alignmentgroup": "True",
                      "hovertemplate": "Country=%{x}<br>Date=9/22/20<br>Cases=%{y}<extra></extra>",
                      "ids": [
                        "Spain"
                      ],
                      "legendgroup": "Spain",
                      "marker": {
                        "color": "#B6E880"
                      },
                      "name": "Spain",
                      "offsetgroup": "Spain",
                      "orientation": "v",
                      "showlegend": true,
                      "textposition": "auto",
                      "type": "bar",
                      "x": [
                        "Spain"
                      ],
                      "xaxis": "x",
                      "y": [
                        682267
                      ],
                      "yaxis": "y"
                    },
                    {
                      "alignmentgroup": "True",
                      "hovertemplate": "Country=%{x}<br>Date=9/22/20<br>Cases=%{y}<extra></extra>",
                      "ids": [
                        "US"
                      ],
                      "legendgroup": "US",
                      "marker": {
                        "color": "#FF97FF"
                      },
                      "name": "US",
                      "offsetgroup": "US",
                      "orientation": "v",
                      "showlegend": true,
                      "textposition": "auto",
                      "type": "bar",
                      "x": [
                        "US"
                      ],
                      "xaxis": "x",
                      "y": [
                        6884162
                      ],
                      "yaxis": "y"
                    },
                    {
                      "alignmentgroup": "True",
                      "hovertemplate": "Country=%{x}<br>Date=9/22/20<br>Cases=%{y}<extra></extra>",
                      "ids": [
                        "United Kingdom"
                      ],
                      "legendgroup": "United Kingdom",
                      "marker": {
                        "color": "#FECB52"
                      },
                      "name": "United Kingdom",
                      "offsetgroup": "United Kingdom",
                      "orientation": "v",
                      "showlegend": true,
                      "textposition": "auto",
                      "type": "bar",
                      "x": [
                        "United Kingdom"
                      ],
                      "xaxis": "x",
                      "y": [
                        406058
                      ],
                      "yaxis": "y"
                    }
                  ],
                  "name": "9/22/20"
                },
                {
                  "data": [
                    {
                      "alignmentgroup": "True",
                      "hovertemplate": "Country=%{x}<br>Date=9/27/20<br>Cases=%{y}<extra></extra>",
                      "ids": [
                        "Argentina"
                      ],
                      "legendgroup": "Argentina",
                      "marker": {
                        "color": "#636efa"
                      },
                      "name": "Argentina",
                      "offsetgroup": "Argentina",
                      "orientation": "v",
                      "showlegend": true,
                      "textposition": "auto",
                      "type": "bar",
                      "x": [
                        "Argentina"
                      ],
                      "xaxis": "x",
                      "y": [
                        711325
                      ],
                      "yaxis": "y"
                    },
                    {
                      "alignmentgroup": "True",
                      "hovertemplate": "Country=%{x}<br>Date=9/27/20<br>Cases=%{y}<extra></extra>",
                      "ids": [
                        "Brazil"
                      ],
                      "legendgroup": "Brazil",
                      "marker": {
                        "color": "#EF553B"
                      },
                      "name": "Brazil",
                      "offsetgroup": "Brazil",
                      "orientation": "v",
                      "showlegend": true,
                      "textposition": "auto",
                      "type": "bar",
                      "x": [
                        "Brazil"
                      ],
                      "xaxis": "x",
                      "y": [
                        4732309
                      ],
                      "yaxis": "y"
                    },
                    {
                      "alignmentgroup": "True",
                      "hovertemplate": "Country=%{x}<br>Date=9/27/20<br>Cases=%{y}<extra></extra>",
                      "ids": [
                        "Colombia"
                      ],
                      "legendgroup": "Colombia",
                      "marker": {
                        "color": "#00cc96"
                      },
                      "name": "Colombia",
                      "offsetgroup": "Colombia",
                      "orientation": "v",
                      "showlegend": true,
                      "textposition": "auto",
                      "type": "bar",
                      "x": [
                        "Colombia"
                      ],
                      "xaxis": "x",
                      "y": [
                        813056
                      ],
                      "yaxis": "y"
                    },
                    {
                      "alignmentgroup": "True",
                      "hovertemplate": "Country=%{x}<br>Date=9/27/20<br>Cases=%{y}<extra></extra>",
                      "ids": [
                        "France"
                      ],
                      "legendgroup": "France",
                      "marker": {
                        "color": "#ab63fa"
                      },
                      "name": "France",
                      "offsetgroup": "France",
                      "orientation": "v",
                      "showlegend": true,
                      "textposition": "auto",
                      "type": "bar",
                      "x": [
                        "France"
                      ],
                      "xaxis": "x",
                      "y": [
                        552473
                      ],
                      "yaxis": "y"
                    },
                    {
                      "alignmentgroup": "True",
                      "hovertemplate": "Country=%{x}<br>Date=9/27/20<br>Cases=%{y}<extra></extra>",
                      "ids": [
                        "India"
                      ],
                      "legendgroup": "India",
                      "marker": {
                        "color": "#FFA15A"
                      },
                      "name": "India",
                      "offsetgroup": "India",
                      "orientation": "v",
                      "showlegend": true,
                      "textposition": "auto",
                      "type": "bar",
                      "x": [
                        "India"
                      ],
                      "xaxis": "x",
                      "y": [
                        6074702
                      ],
                      "yaxis": "y"
                    },
                    {
                      "alignmentgroup": "True",
                      "hovertemplate": "Country=%{x}<br>Date=9/27/20<br>Cases=%{y}<extra></extra>",
                      "ids": [
                        "Italy"
                      ],
                      "legendgroup": "Italy",
                      "marker": {
                        "color": "#19d3f3"
                      },
                      "name": "Italy",
                      "offsetgroup": "Italy",
                      "orientation": "v",
                      "showlegend": true,
                      "textposition": "auto",
                      "type": "bar",
                      "x": [
                        "Italy"
                      ],
                      "xaxis": "x",
                      "y": [
                        309870
                      ],
                      "yaxis": "y"
                    },
                    {
                      "alignmentgroup": "True",
                      "hovertemplate": "Country=%{x}<br>Date=9/27/20<br>Cases=%{y}<extra></extra>",
                      "ids": [
                        "Russia"
                      ],
                      "legendgroup": "Russia",
                      "marker": {
                        "color": "#FF6692"
                      },
                      "name": "Russia",
                      "offsetgroup": "Russia",
                      "orientation": "v",
                      "showlegend": true,
                      "textposition": "auto",
                      "type": "bar",
                      "x": [
                        "Russia"
                      ],
                      "xaxis": "x",
                      "y": [
                        1146273
                      ],
                      "yaxis": "y"
                    },
                    {
                      "alignmentgroup": "True",
                      "hovertemplate": "Country=%{x}<br>Date=9/27/20<br>Cases=%{y}<extra></extra>",
                      "ids": [
                        "Spain"
                      ],
                      "legendgroup": "Spain",
                      "marker": {
                        "color": "#B6E880"
                      },
                      "name": "Spain",
                      "offsetgroup": "Spain",
                      "orientation": "v",
                      "showlegend": true,
                      "textposition": "auto",
                      "type": "bar",
                      "x": [
                        "Spain"
                      ],
                      "xaxis": "x",
                      "y": [
                        716481
                      ],
                      "yaxis": "y"
                    },
                    {
                      "alignmentgroup": "True",
                      "hovertemplate": "Country=%{x}<br>Date=9/27/20<br>Cases=%{y}<extra></extra>",
                      "ids": [
                        "US"
                      ],
                      "legendgroup": "US",
                      "marker": {
                        "color": "#FF97FF"
                      },
                      "name": "US",
                      "offsetgroup": "US",
                      "orientation": "v",
                      "showlegend": true,
                      "textposition": "auto",
                      "type": "bar",
                      "x": [
                        "US"
                      ],
                      "xaxis": "x",
                      "y": [
                        7097934
                      ],
                      "yaxis": "y"
                    },
                    {
                      "alignmentgroup": "True",
                      "hovertemplate": "Country=%{x}<br>Date=9/27/20<br>Cases=%{y}<extra></extra>",
                      "ids": [
                        "United Kingdom"
                      ],
                      "legendgroup": "United Kingdom",
                      "marker": {
                        "color": "#FECB52"
                      },
                      "name": "United Kingdom",
                      "offsetgroup": "United Kingdom",
                      "orientation": "v",
                      "showlegend": true,
                      "textposition": "auto",
                      "type": "bar",
                      "x": [
                        "United Kingdom"
                      ],
                      "xaxis": "x",
                      "y": [
                        437517
                      ],
                      "yaxis": "y"
                    }
                  ],
                  "name": "9/27/20"
                },
                {
                  "data": [
                    {
                      "alignmentgroup": "True",
                      "hovertemplate": "Country=%{x}<br>Date=10/8/20<br>Cases=%{y}<extra></extra>",
                      "ids": [
                        "Argentina"
                      ],
                      "legendgroup": "Argentina",
                      "marker": {
                        "color": "#636efa"
                      },
                      "name": "Argentina",
                      "offsetgroup": "Argentina",
                      "orientation": "v",
                      "showlegend": true,
                      "textposition": "auto",
                      "type": "bar",
                      "x": [
                        "Argentina"
                      ],
                      "xaxis": "x",
                      "y": [
                        856369
                      ],
                      "yaxis": "y"
                    },
                    {
                      "alignmentgroup": "True",
                      "hovertemplate": "Country=%{x}<br>Date=10/8/20<br>Cases=%{y}<extra></extra>",
                      "ids": [
                        "Brazil"
                      ],
                      "legendgroup": "Brazil",
                      "marker": {
                        "color": "#EF553B"
                      },
                      "name": "Brazil",
                      "offsetgroup": "Brazil",
                      "orientation": "v",
                      "showlegend": true,
                      "textposition": "auto",
                      "type": "bar",
                      "x": [
                        "Brazil"
                      ],
                      "xaxis": "x",
                      "y": [
                        5028444
                      ],
                      "yaxis": "y"
                    },
                    {
                      "alignmentgroup": "True",
                      "hovertemplate": "Country=%{x}<br>Date=10/8/20<br>Cases=%{y}<extra></extra>",
                      "ids": [
                        "Colombia"
                      ],
                      "legendgroup": "Colombia",
                      "marker": {
                        "color": "#00cc96"
                      },
                      "name": "Colombia",
                      "offsetgroup": "Colombia",
                      "orientation": "v",
                      "showlegend": true,
                      "textposition": "auto",
                      "type": "bar",
                      "x": [
                        "Colombia"
                      ],
                      "xaxis": "x",
                      "y": [
                        886179
                      ],
                      "yaxis": "y"
                    },
                    {
                      "alignmentgroup": "True",
                      "hovertemplate": "Country=%{x}<br>Date=10/8/20<br>Cases=%{y}<extra></extra>",
                      "ids": [
                        "France"
                      ],
                      "legendgroup": "France",
                      "marker": {
                        "color": "#ab63fa"
                      },
                      "name": "France",
                      "offsetgroup": "France",
                      "orientation": "v",
                      "showlegend": true,
                      "textposition": "auto",
                      "type": "bar",
                      "x": [
                        "France"
                      ],
                      "xaxis": "x",
                      "y": [
                        711704
                      ],
                      "yaxis": "y"
                    },
                    {
                      "alignmentgroup": "True",
                      "hovertemplate": "Country=%{x}<br>Date=10/8/20<br>Cases=%{y}<extra></extra>",
                      "ids": [
                        "India"
                      ],
                      "legendgroup": "India",
                      "marker": {
                        "color": "#FFA15A"
                      },
                      "name": "India",
                      "offsetgroup": "India",
                      "orientation": "v",
                      "showlegend": true,
                      "textposition": "auto",
                      "type": "bar",
                      "x": [
                        "India"
                      ],
                      "xaxis": "x",
                      "y": [
                        6906151
                      ],
                      "yaxis": "y"
                    },
                    {
                      "alignmentgroup": "True",
                      "hovertemplate": "Country=%{x}<br>Date=10/8/20<br>Cases=%{y}<extra></extra>",
                      "ids": [
                        "Italy"
                      ],
                      "legendgroup": "Italy",
                      "marker": {
                        "color": "#19d3f3"
                      },
                      "name": "Italy",
                      "offsetgroup": "Italy",
                      "orientation": "v",
                      "showlegend": true,
                      "textposition": "auto",
                      "type": "bar",
                      "x": [
                        "Italy"
                      ],
                      "xaxis": "x",
                      "y": [
                        338398
                      ],
                      "yaxis": "y"
                    },
                    {
                      "alignmentgroup": "True",
                      "hovertemplate": "Country=%{x}<br>Date=10/8/20<br>Cases=%{y}<extra></extra>",
                      "ids": [
                        "Russia"
                      ],
                      "legendgroup": "Russia",
                      "marker": {
                        "color": "#FF6692"
                      },
                      "name": "Russia",
                      "offsetgroup": "Russia",
                      "orientation": "v",
                      "showlegend": true,
                      "textposition": "auto",
                      "type": "bar",
                      "x": [
                        "Russia"
                      ],
                      "xaxis": "x",
                      "y": [
                        1253603
                      ],
                      "yaxis": "y"
                    },
                    {
                      "alignmentgroup": "True",
                      "hovertemplate": "Country=%{x}<br>Date=10/8/20<br>Cases=%{y}<extra></extra>",
                      "ids": [
                        "Spain"
                      ],
                      "legendgroup": "Spain",
                      "marker": {
                        "color": "#B6E880"
                      },
                      "name": "Spain",
                      "offsetgroup": "Spain",
                      "orientation": "v",
                      "showlegend": true,
                      "textposition": "auto",
                      "type": "bar",
                      "x": [
                        "Spain"
                      ],
                      "xaxis": "x",
                      "y": [
                        848324
                      ],
                      "yaxis": "y"
                    },
                    {
                      "alignmentgroup": "True",
                      "hovertemplate": "Country=%{x}<br>Date=10/8/20<br>Cases=%{y}<extra></extra>",
                      "ids": [
                        "US"
                      ],
                      "legendgroup": "US",
                      "marker": {
                        "color": "#FF97FF"
                      },
                      "name": "US",
                      "offsetgroup": "US",
                      "orientation": "v",
                      "showlegend": true,
                      "textposition": "auto",
                      "type": "bar",
                      "x": [
                        "US"
                      ],
                      "xaxis": "x",
                      "y": [
                        7587118
                      ],
                      "yaxis": "y"
                    },
                    {
                      "alignmentgroup": "True",
                      "hovertemplate": "Country=%{x}<br>Date=10/8/20<br>Cases=%{y}<extra></extra>",
                      "ids": [
                        "United Kingdom"
                      ],
                      "legendgroup": "United Kingdom",
                      "marker": {
                        "color": "#FECB52"
                      },
                      "name": "United Kingdom",
                      "offsetgroup": "United Kingdom",
                      "orientation": "v",
                      "showlegend": true,
                      "textposition": "auto",
                      "type": "bar",
                      "x": [
                        "United Kingdom"
                      ],
                      "xaxis": "x",
                      "y": [
                        564502
                      ],
                      "yaxis": "y"
                    }
                  ],
                  "name": "10/8/20"
                },
                {
                  "data": [
                    {
                      "alignmentgroup": "True",
                      "hovertemplate": "Country=%{x}<br>Date=10/13/20<br>Cases=%{y}<extra></extra>",
                      "ids": [
                        "Argentina"
                      ],
                      "legendgroup": "Argentina",
                      "marker": {
                        "color": "#636efa"
                      },
                      "name": "Argentina",
                      "offsetgroup": "Argentina",
                      "orientation": "v",
                      "showlegend": true,
                      "textposition": "auto",
                      "type": "bar",
                      "x": [
                        "Argentina"
                      ],
                      "xaxis": "x",
                      "y": [
                        917035
                      ],
                      "yaxis": "y"
                    },
                    {
                      "alignmentgroup": "True",
                      "hovertemplate": "Country=%{x}<br>Date=10/13/20<br>Cases=%{y}<extra></extra>",
                      "ids": [
                        "Brazil"
                      ],
                      "legendgroup": "Brazil",
                      "marker": {
                        "color": "#EF553B"
                      },
                      "name": "Brazil",
                      "offsetgroup": "Brazil",
                      "orientation": "v",
                      "showlegend": true,
                      "textposition": "auto",
                      "type": "bar",
                      "x": [
                        "Brazil"
                      ],
                      "xaxis": "x",
                      "y": [
                        5113628
                      ],
                      "yaxis": "y"
                    },
                    {
                      "alignmentgroup": "True",
                      "hovertemplate": "Country=%{x}<br>Date=10/13/20<br>Cases=%{y}<extra></extra>",
                      "ids": [
                        "Colombia"
                      ],
                      "legendgroup": "Colombia",
                      "marker": {
                        "color": "#00cc96"
                      },
                      "name": "Colombia",
                      "offsetgroup": "Colombia",
                      "orientation": "v",
                      "showlegend": true,
                      "textposition": "auto",
                      "type": "bar",
                      "x": [
                        "Colombia"
                      ],
                      "xaxis": "x",
                      "y": [
                        924098
                      ],
                      "yaxis": "y"
                    },
                    {
                      "alignmentgroup": "True",
                      "hovertemplate": "Country=%{x}<br>Date=10/13/20<br>Cases=%{y}<extra></extra>",
                      "ids": [
                        "France"
                      ],
                      "legendgroup": "France",
                      "marker": {
                        "color": "#ab63fa"
                      },
                      "name": "France",
                      "offsetgroup": "France",
                      "orientation": "v",
                      "showlegend": true,
                      "textposition": "auto",
                      "type": "bar",
                      "x": [
                        "France"
                      ],
                      "xaxis": "x",
                      "y": [
                        798257
                      ],
                      "yaxis": "y"
                    },
                    {
                      "alignmentgroup": "True",
                      "hovertemplate": "Country=%{x}<br>Date=10/13/20<br>Cases=%{y}<extra></extra>",
                      "ids": [
                        "India"
                      ],
                      "legendgroup": "India",
                      "marker": {
                        "color": "#FFA15A"
                      },
                      "name": "India",
                      "offsetgroup": "India",
                      "orientation": "v",
                      "showlegend": true,
                      "textposition": "auto",
                      "type": "bar",
                      "x": [
                        "India"
                      ],
                      "xaxis": "x",
                      "y": [
                        7239389
                      ],
                      "yaxis": "y"
                    },
                    {
                      "alignmentgroup": "True",
                      "hovertemplate": "Country=%{x}<br>Date=10/13/20<br>Cases=%{y}<extra></extra>",
                      "ids": [
                        "Italy"
                      ],
                      "legendgroup": "Italy",
                      "marker": {
                        "color": "#19d3f3"
                      },
                      "name": "Italy",
                      "offsetgroup": "Italy",
                      "orientation": "v",
                      "showlegend": true,
                      "textposition": "auto",
                      "type": "bar",
                      "x": [
                        "Italy"
                      ],
                      "xaxis": "x",
                      "y": [
                        365467
                      ],
                      "yaxis": "y"
                    },
                    {
                      "alignmentgroup": "True",
                      "hovertemplate": "Country=%{x}<br>Date=10/13/20<br>Cases=%{y}<extra></extra>",
                      "ids": [
                        "Russia"
                      ],
                      "legendgroup": "Russia",
                      "marker": {
                        "color": "#FF6692"
                      },
                      "name": "Russia",
                      "offsetgroup": "Russia",
                      "orientation": "v",
                      "showlegend": true,
                      "textposition": "auto",
                      "type": "bar",
                      "x": [
                        "Russia"
                      ],
                      "xaxis": "x",
                      "y": [
                        1318783
                      ],
                      "yaxis": "y"
                    },
                    {
                      "alignmentgroup": "True",
                      "hovertemplate": "Country=%{x}<br>Date=10/13/20<br>Cases=%{y}<extra></extra>",
                      "ids": [
                        "Spain"
                      ],
                      "legendgroup": "Spain",
                      "marker": {
                        "color": "#B6E880"
                      },
                      "name": "Spain",
                      "offsetgroup": "Spain",
                      "orientation": "v",
                      "showlegend": true,
                      "textposition": "auto",
                      "type": "bar",
                      "x": [
                        "Spain"
                      ],
                      "xaxis": "x",
                      "y": [
                        896086
                      ],
                      "yaxis": "y"
                    },
                    {
                      "alignmentgroup": "True",
                      "hovertemplate": "Country=%{x}<br>Date=10/13/20<br>Cases=%{y}<extra></extra>",
                      "ids": [
                        "US"
                      ],
                      "legendgroup": "US",
                      "marker": {
                        "color": "#FF97FF"
                      },
                      "name": "US",
                      "offsetgroup": "US",
                      "orientation": "v",
                      "showlegend": true,
                      "textposition": "auto",
                      "type": "bar",
                      "x": [
                        "US"
                      ],
                      "xaxis": "x",
                      "y": [
                        7836979
                      ],
                      "yaxis": "y"
                    },
                    {
                      "alignmentgroup": "True",
                      "hovertemplate": "Country=%{x}<br>Date=10/13/20<br>Cases=%{y}<extra></extra>",
                      "ids": [
                        "United Kingdom"
                      ],
                      "legendgroup": "United Kingdom",
                      "marker": {
                        "color": "#FECB52"
                      },
                      "name": "United Kingdom",
                      "offsetgroup": "United Kingdom",
                      "orientation": "v",
                      "showlegend": true,
                      "textposition": "auto",
                      "type": "bar",
                      "x": [
                        "United Kingdom"
                      ],
                      "xaxis": "x",
                      "y": [
                        637708
                      ],
                      "yaxis": "y"
                    }
                  ],
                  "name": "10/13/20"
                },
                {
                  "data": [
                    {
                      "alignmentgroup": "True",
                      "hovertemplate": "Country=%{x}<br>Date=10/18/20<br>Cases=%{y}<extra></extra>",
                      "ids": [
                        "Argentina"
                      ],
                      "legendgroup": "Argentina",
                      "marker": {
                        "color": "#636efa"
                      },
                      "name": "Argentina",
                      "offsetgroup": "Argentina",
                      "orientation": "v",
                      "showlegend": true,
                      "textposition": "auto",
                      "type": "bar",
                      "x": [
                        "Argentina"
                      ],
                      "xaxis": "x",
                      "y": [
                        989680
                      ],
                      "yaxis": "y"
                    },
                    {
                      "alignmentgroup": "True",
                      "hovertemplate": "Country=%{x}<br>Date=10/18/20<br>Cases=%{y}<extra></extra>",
                      "ids": [
                        "Brazil"
                      ],
                      "legendgroup": "Brazil",
                      "marker": {
                        "color": "#EF553B"
                      },
                      "name": "Brazil",
                      "offsetgroup": "Brazil",
                      "orientation": "v",
                      "showlegend": true,
                      "textposition": "auto",
                      "type": "bar",
                      "x": [
                        "Brazil"
                      ],
                      "xaxis": "x",
                      "y": [
                        5224362
                      ],
                      "yaxis": "y"
                    },
                    {
                      "alignmentgroup": "True",
                      "hovertemplate": "Country=%{x}<br>Date=10/18/20<br>Cases=%{y}<extra></extra>",
                      "ids": [
                        "Colombia"
                      ],
                      "legendgroup": "Colombia",
                      "marker": {
                        "color": "#00cc96"
                      },
                      "name": "Colombia",
                      "offsetgroup": "Colombia",
                      "orientation": "v",
                      "showlegend": true,
                      "textposition": "auto",
                      "type": "bar",
                      "x": [
                        "Colombia"
                      ],
                      "xaxis": "x",
                      "y": [
                        959572
                      ],
                      "yaxis": "y"
                    },
                    {
                      "alignmentgroup": "True",
                      "hovertemplate": "Country=%{x}<br>Date=10/18/20<br>Cases=%{y}<extra></extra>",
                      "ids": [
                        "France"
                      ],
                      "legendgroup": "France",
                      "marker": {
                        "color": "#ab63fa"
                      },
                      "name": "France",
                      "offsetgroup": "France",
                      "orientation": "v",
                      "showlegend": true,
                      "textposition": "auto",
                      "type": "bar",
                      "x": [
                        "France"
                      ],
                      "xaxis": "x",
                      "y": [
                        876342
                      ],
                      "yaxis": "y"
                    },
                    {
                      "alignmentgroup": "True",
                      "hovertemplate": "Country=%{x}<br>Date=10/18/20<br>Cases=%{y}<extra></extra>",
                      "ids": [
                        "India"
                      ],
                      "legendgroup": "India",
                      "marker": {
                        "color": "#FFA15A"
                      },
                      "name": "India",
                      "offsetgroup": "India",
                      "orientation": "v",
                      "showlegend": true,
                      "textposition": "auto",
                      "type": "bar",
                      "x": [
                        "India"
                      ],
                      "xaxis": "x",
                      "y": [
                        7550273
                      ],
                      "yaxis": "y"
                    },
                    {
                      "alignmentgroup": "True",
                      "hovertemplate": "Country=%{x}<br>Date=10/18/20<br>Cases=%{y}<extra></extra>",
                      "ids": [
                        "Italy"
                      ],
                      "legendgroup": "Italy",
                      "marker": {
                        "color": "#19d3f3"
                      },
                      "name": "Italy",
                      "offsetgroup": "Italy",
                      "orientation": "v",
                      "showlegend": true,
                      "textposition": "auto",
                      "type": "bar",
                      "x": [
                        "Italy"
                      ],
                      "xaxis": "x",
                      "y": [
                        414241
                      ],
                      "yaxis": "y"
                    },
                    {
                      "alignmentgroup": "True",
                      "hovertemplate": "Country=%{x}<br>Date=10/18/20<br>Cases=%{y}<extra></extra>",
                      "ids": [
                        "Russia"
                      ],
                      "legendgroup": "Russia",
                      "marker": {
                        "color": "#FF6692"
                      },
                      "name": "Russia",
                      "offsetgroup": "Russia",
                      "orientation": "v",
                      "showlegend": true,
                      "textposition": "auto",
                      "type": "bar",
                      "x": [
                        "Russia"
                      ],
                      "xaxis": "x",
                      "y": [
                        1390824
                      ],
                      "yaxis": "y"
                    },
                    {
                      "alignmentgroup": "True",
                      "hovertemplate": "Country=%{x}<br>Date=10/18/20<br>Cases=%{y}<extra></extra>",
                      "ids": [
                        "Spain"
                      ],
                      "legendgroup": "Spain",
                      "marker": {
                        "color": "#B6E880"
                      },
                      "name": "Spain",
                      "offsetgroup": "Spain",
                      "orientation": "v",
                      "showlegend": true,
                      "textposition": "auto",
                      "type": "bar",
                      "x": [
                        "Spain"
                      ],
                      "xaxis": "x",
                      "y": [
                        936560
                      ],
                      "yaxis": "y"
                    },
                    {
                      "alignmentgroup": "True",
                      "hovertemplate": "Country=%{x}<br>Date=10/18/20<br>Cases=%{y}<extra></extra>",
                      "ids": [
                        "US"
                      ],
                      "legendgroup": "US",
                      "marker": {
                        "color": "#FF97FF"
                      },
                      "name": "US",
                      "offsetgroup": "US",
                      "orientation": "v",
                      "showlegend": true,
                      "textposition": "auto",
                      "type": "bar",
                      "x": [
                        "US"
                      ],
                      "xaxis": "x",
                      "y": [
                        8134804
                      ],
                      "yaxis": "y"
                    },
                    {
                      "alignmentgroup": "True",
                      "hovertemplate": "Country=%{x}<br>Date=10/18/20<br>Cases=%{y}<extra></extra>",
                      "ids": [
                        "United Kingdom"
                      ],
                      "legendgroup": "United Kingdom",
                      "marker": {
                        "color": "#FECB52"
                      },
                      "name": "United Kingdom",
                      "offsetgroup": "United Kingdom",
                      "orientation": "v",
                      "showlegend": true,
                      "textposition": "auto",
                      "type": "bar",
                      "x": [
                        "United Kingdom"
                      ],
                      "xaxis": "x",
                      "y": [
                        725292
                      ],
                      "yaxis": "y"
                    }
                  ],
                  "name": "10/18/20"
                },
                {
                  "data": [
                    {
                      "alignmentgroup": "True",
                      "hovertemplate": "Country=%{x}<br>Date=10/22/20<br>Cases=%{y}<extra></extra>",
                      "ids": [
                        "Argentina"
                      ],
                      "legendgroup": "Argentina",
                      "marker": {
                        "color": "#636efa"
                      },
                      "name": "Argentina",
                      "offsetgroup": "Argentina",
                      "orientation": "v",
                      "showlegend": true,
                      "textposition": "auto",
                      "type": "bar",
                      "x": [
                        "Argentina"
                      ],
                      "xaxis": "x",
                      "y": [
                        1053650
                      ],
                      "yaxis": "y"
                    },
                    {
                      "alignmentgroup": "True",
                      "hovertemplate": "Country=%{x}<br>Date=10/22/20<br>Cases=%{y}<extra></extra>",
                      "ids": [
                        "Brazil"
                      ],
                      "legendgroup": "Brazil",
                      "marker": {
                        "color": "#EF553B"
                      },
                      "name": "Brazil",
                      "offsetgroup": "Brazil",
                      "orientation": "v",
                      "showlegend": true,
                      "textposition": "auto",
                      "type": "bar",
                      "x": [
                        "Brazil"
                      ],
                      "xaxis": "x",
                      "y": [
                        5323630
                      ],
                      "yaxis": "y"
                    },
                    {
                      "alignmentgroup": "True",
                      "hovertemplate": "Country=%{x}<br>Date=10/22/20<br>Cases=%{y}<extra></extra>",
                      "ids": [
                        "Colombia"
                      ],
                      "legendgroup": "Colombia",
                      "marker": {
                        "color": "#00cc96"
                      },
                      "name": "Colombia",
                      "offsetgroup": "Colombia",
                      "orientation": "v",
                      "showlegend": true,
                      "textposition": "auto",
                      "type": "bar",
                      "x": [
                        "Colombia"
                      ],
                      "xaxis": "x",
                      "y": [
                        990373
                      ],
                      "yaxis": "y"
                    },
                    {
                      "alignmentgroup": "True",
                      "hovertemplate": "Country=%{x}<br>Date=10/22/20<br>Cases=%{y}<extra></extra>",
                      "ids": [
                        "France"
                      ],
                      "legendgroup": "France",
                      "marker": {
                        "color": "#ab63fa"
                      },
                      "name": "France",
                      "offsetgroup": "France",
                      "orientation": "v",
                      "showlegend": true,
                      "textposition": "auto",
                      "type": "bar",
                      "x": [
                        "France"
                      ],
                      "xaxis": "x",
                      "y": [
                        1041991
                      ],
                      "yaxis": "y"
                    },
                    {
                      "alignmentgroup": "True",
                      "hovertemplate": "Country=%{x}<br>Date=10/22/20<br>Cases=%{y}<extra></extra>",
                      "ids": [
                        "India"
                      ],
                      "legendgroup": "India",
                      "marker": {
                        "color": "#FFA15A"
                      },
                      "name": "India",
                      "offsetgroup": "India",
                      "orientation": "v",
                      "showlegend": true,
                      "textposition": "auto",
                      "type": "bar",
                      "x": [
                        "India"
                      ],
                      "xaxis": "x",
                      "y": [
                        7761312
                      ],
                      "yaxis": "y"
                    },
                    {
                      "alignmentgroup": "True",
                      "hovertemplate": "Country=%{x}<br>Date=10/22/20<br>Cases=%{y}<extra></extra>",
                      "ids": [
                        "Italy"
                      ],
                      "legendgroup": "Italy",
                      "marker": {
                        "color": "#19d3f3"
                      },
                      "name": "Italy",
                      "offsetgroup": "Italy",
                      "orientation": "v",
                      "showlegend": true,
                      "textposition": "auto",
                      "type": "bar",
                      "x": [
                        "Italy"
                      ],
                      "xaxis": "x",
                      "y": [
                        465726
                      ],
                      "yaxis": "y"
                    },
                    {
                      "alignmentgroup": "True",
                      "hovertemplate": "Country=%{x}<br>Date=10/22/20<br>Cases=%{y}<extra></extra>",
                      "ids": [
                        "Russia"
                      ],
                      "legendgroup": "Russia",
                      "marker": {
                        "color": "#FF6692"
                      },
                      "name": "Russia",
                      "offsetgroup": "Russia",
                      "orientation": "v",
                      "showlegend": true,
                      "textposition": "auto",
                      "type": "bar",
                      "x": [
                        "Russia"
                      ],
                      "xaxis": "x",
                      "y": [
                        1453923
                      ],
                      "yaxis": "y"
                    },
                    {
                      "alignmentgroup": "True",
                      "hovertemplate": "Country=%{x}<br>Date=10/22/20<br>Cases=%{y}<extra></extra>",
                      "ids": [
                        "Spain"
                      ],
                      "legendgroup": "Spain",
                      "marker": {
                        "color": "#B6E880"
                      },
                      "name": "Spain",
                      "offsetgroup": "Spain",
                      "orientation": "v",
                      "showlegend": true,
                      "textposition": "auto",
                      "type": "bar",
                      "x": [
                        "Spain"
                      ],
                      "xaxis": "x",
                      "y": [
                        1026281
                      ],
                      "yaxis": "y"
                    },
                    {
                      "alignmentgroup": "True",
                      "hovertemplate": "Country=%{x}<br>Date=10/22/20<br>Cases=%{y}<extra></extra>",
                      "ids": [
                        "US"
                      ],
                      "legendgroup": "US",
                      "marker": {
                        "color": "#FF97FF"
                      },
                      "name": "US",
                      "offsetgroup": "US",
                      "orientation": "v",
                      "showlegend": true,
                      "textposition": "auto",
                      "type": "bar",
                      "x": [
                        "US"
                      ],
                      "xaxis": "x",
                      "y": [
                        8397618
                      ],
                      "yaxis": "y"
                    },
                    {
                      "alignmentgroup": "True",
                      "hovertemplate": "Country=%{x}<br>Date=10/22/20<br>Cases=%{y}<extra></extra>",
                      "ids": [
                        "United Kingdom"
                      ],
                      "legendgroup": "United Kingdom",
                      "marker": {
                        "color": "#FECB52"
                      },
                      "name": "United Kingdom",
                      "offsetgroup": "United Kingdom",
                      "orientation": "v",
                      "showlegend": true,
                      "textposition": "auto",
                      "type": "bar",
                      "x": [
                        "United Kingdom"
                      ],
                      "xaxis": "x",
                      "y": [
                        813451
                      ],
                      "yaxis": "y"
                    }
                  ],
                  "name": "10/22/20"
                },
                {
                  "data": [
                    {
                      "alignmentgroup": "True",
                      "hovertemplate": "Country=%{x}<br>Date=10/27/20<br>Cases=%{y}<extra></extra>",
                      "ids": [
                        "Argentina"
                      ],
                      "legendgroup": "Argentina",
                      "marker": {
                        "color": "#636efa"
                      },
                      "name": "Argentina",
                      "offsetgroup": "Argentina",
                      "orientation": "v",
                      "showlegend": true,
                      "textposition": "auto",
                      "type": "bar",
                      "x": [
                        "Argentina"
                      ],
                      "xaxis": "x",
                      "y": [
                        1116609
                      ],
                      "yaxis": "y"
                    },
                    {
                      "alignmentgroup": "True",
                      "hovertemplate": "Country=%{x}<br>Date=10/27/20<br>Cases=%{y}<extra></extra>",
                      "ids": [
                        "Brazil"
                      ],
                      "legendgroup": "Brazil",
                      "marker": {
                        "color": "#EF553B"
                      },
                      "name": "Brazil",
                      "offsetgroup": "Brazil",
                      "orientation": "v",
                      "showlegend": true,
                      "textposition": "auto",
                      "type": "bar",
                      "x": [
                        "Brazil"
                      ],
                      "xaxis": "x",
                      "y": [
                        5439641
                      ],
                      "yaxis": "y"
                    },
                    {
                      "alignmentgroup": "True",
                      "hovertemplate": "Country=%{x}<br>Date=10/27/20<br>Cases=%{y}<extra></extra>",
                      "ids": [
                        "Colombia"
                      ],
                      "legendgroup": "Colombia",
                      "marker": {
                        "color": "#00cc96"
                      },
                      "name": "Colombia",
                      "offsetgroup": "Colombia",
                      "orientation": "v",
                      "showlegend": true,
                      "textposition": "auto",
                      "type": "bar",
                      "x": [
                        "Colombia"
                      ],
                      "xaxis": "x",
                      "y": [
                        1033218
                      ],
                      "yaxis": "y"
                    },
                    {
                      "alignmentgroup": "True",
                      "hovertemplate": "Country=%{x}<br>Date=10/27/20<br>Cases=%{y}<extra></extra>",
                      "ids": [
                        "France"
                      ],
                      "legendgroup": "France",
                      "marker": {
                        "color": "#ab63fa"
                      },
                      "name": "France",
                      "offsetgroup": "France",
                      "orientation": "v",
                      "showlegend": true,
                      "textposition": "auto",
                      "type": "bar",
                      "x": [
                        "France"
                      ],
                      "xaxis": "x",
                      "y": [
                        1244242
                      ],
                      "yaxis": "y"
                    },
                    {
                      "alignmentgroup": "True",
                      "hovertemplate": "Country=%{x}<br>Date=10/27/20<br>Cases=%{y}<extra></extra>",
                      "ids": [
                        "India"
                      ],
                      "legendgroup": "India",
                      "marker": {
                        "color": "#FFA15A"
                      },
                      "name": "India",
                      "offsetgroup": "India",
                      "orientation": "v",
                      "showlegend": true,
                      "textposition": "auto",
                      "type": "bar",
                      "x": [
                        "India"
                      ],
                      "xaxis": "x",
                      "y": [
                        7990322
                      ],
                      "yaxis": "y"
                    },
                    {
                      "alignmentgroup": "True",
                      "hovertemplate": "Country=%{x}<br>Date=10/27/20<br>Cases=%{y}<extra></extra>",
                      "ids": [
                        "Italy"
                      ],
                      "legendgroup": "Italy",
                      "marker": {
                        "color": "#19d3f3"
                      },
                      "name": "Italy",
                      "offsetgroup": "Italy",
                      "orientation": "v",
                      "showlegend": true,
                      "textposition": "auto",
                      "type": "bar",
                      "x": [
                        "Italy"
                      ],
                      "xaxis": "x",
                      "y": [
                        564778
                      ],
                      "yaxis": "y"
                    },
                    {
                      "alignmentgroup": "True",
                      "hovertemplate": "Country=%{x}<br>Date=10/27/20<br>Cases=%{y}<extra></extra>",
                      "ids": [
                        "Russia"
                      ],
                      "legendgroup": "Russia",
                      "marker": {
                        "color": "#FF6692"
                      },
                      "name": "Russia",
                      "offsetgroup": "Russia",
                      "orientation": "v",
                      "showlegend": true,
                      "textposition": "auto",
                      "type": "bar",
                      "x": [
                        "Russia"
                      ],
                      "xaxis": "x",
                      "y": [
                        1537142
                      ],
                      "yaxis": "y"
                    },
                    {
                      "alignmentgroup": "True",
                      "hovertemplate": "Country=%{x}<br>Date=10/27/20<br>Cases=%{y}<extra></extra>",
                      "ids": [
                        "Spain"
                      ],
                      "legendgroup": "Spain",
                      "marker": {
                        "color": "#B6E880"
                      },
                      "name": "Spain",
                      "offsetgroup": "Spain",
                      "orientation": "v",
                      "showlegend": true,
                      "textposition": "auto",
                      "type": "bar",
                      "x": [
                        "Spain"
                      ],
                      "xaxis": "x",
                      "y": [
                        1116738
                      ],
                      "yaxis": "y"
                    },
                    {
                      "alignmentgroup": "True",
                      "hovertemplate": "Country=%{x}<br>Date=10/27/20<br>Cases=%{y}<extra></extra>",
                      "ids": [
                        "US"
                      ],
                      "legendgroup": "US",
                      "marker": {
                        "color": "#FF97FF"
                      },
                      "name": "US",
                      "offsetgroup": "US",
                      "orientation": "v",
                      "showlegend": true,
                      "textposition": "auto",
                      "type": "bar",
                      "x": [
                        "US"
                      ],
                      "xaxis": "x",
                      "y": [
                        8767572
                      ],
                      "yaxis": "y"
                    },
                    {
                      "alignmentgroup": "True",
                      "hovertemplate": "Country=%{x}<br>Date=10/27/20<br>Cases=%{y}<extra></extra>",
                      "ids": [
                        "United Kingdom"
                      ],
                      "legendgroup": "United Kingdom",
                      "marker": {
                        "color": "#FECB52"
                      },
                      "name": "United Kingdom",
                      "offsetgroup": "United Kingdom",
                      "orientation": "v",
                      "showlegend": true,
                      "textposition": "auto",
                      "type": "bar",
                      "x": [
                        "United Kingdom"
                      ],
                      "xaxis": "x",
                      "y": [
                        920664
                      ],
                      "yaxis": "y"
                    }
                  ],
                  "name": "10/27/20"
                },
                {
                  "data": [
                    {
                      "alignmentgroup": "True",
                      "hovertemplate": "Country=%{x}<br>Date=10/31/20<br>Cases=%{y}<extra></extra>",
                      "ids": [
                        "Argentina"
                      ],
                      "legendgroup": "Argentina",
                      "marker": {
                        "color": "#636efa"
                      },
                      "name": "Argentina",
                      "offsetgroup": "Argentina",
                      "orientation": "v",
                      "showlegend": true,
                      "textposition": "auto",
                      "type": "bar",
                      "x": [
                        "Argentina"
                      ],
                      "xaxis": "x",
                      "y": [
                        1166924
                      ],
                      "yaxis": "y"
                    },
                    {
                      "alignmentgroup": "True",
                      "hovertemplate": "Country=%{x}<br>Date=10/31/20<br>Cases=%{y}<extra></extra>",
                      "ids": [
                        "Brazil"
                      ],
                      "legendgroup": "Brazil",
                      "marker": {
                        "color": "#EF553B"
                      },
                      "name": "Brazil",
                      "offsetgroup": "Brazil",
                      "orientation": "v",
                      "showlegend": true,
                      "textposition": "auto",
                      "type": "bar",
                      "x": [
                        "Brazil"
                      ],
                      "xaxis": "x",
                      "y": [
                        5535605
                      ],
                      "yaxis": "y"
                    },
                    {
                      "alignmentgroup": "True",
                      "hovertemplate": "Country=%{x}<br>Date=10/31/20<br>Cases=%{y}<extra></extra>",
                      "ids": [
                        "Colombia"
                      ],
                      "legendgroup": "Colombia",
                      "marker": {
                        "color": "#00cc96"
                      },
                      "name": "Colombia",
                      "offsetgroup": "Colombia",
                      "orientation": "v",
                      "showlegend": true,
                      "textposition": "auto",
                      "type": "bar",
                      "x": [
                        "Colombia"
                      ],
                      "xaxis": "x",
                      "y": [
                        1074184
                      ],
                      "yaxis": "y"
                    },
                    {
                      "alignmentgroup": "True",
                      "hovertemplate": "Country=%{x}<br>Date=10/31/20<br>Cases=%{y}<extra></extra>",
                      "ids": [
                        "France"
                      ],
                      "legendgroup": "France",
                      "marker": {
                        "color": "#ab63fa"
                      },
                      "name": "France",
                      "offsetgroup": "France",
                      "orientation": "v",
                      "showlegend": true,
                      "textposition": "auto",
                      "type": "bar",
                      "x": [
                        "France"
                      ],
                      "xaxis": "x",
                      "y": [
                        1412709
                      ],
                      "yaxis": "y"
                    },
                    {
                      "alignmentgroup": "True",
                      "hovertemplate": "Country=%{x}<br>Date=10/31/20<br>Cases=%{y}<extra></extra>",
                      "ids": [
                        "India"
                      ],
                      "legendgroup": "India",
                      "marker": {
                        "color": "#FFA15A"
                      },
                      "name": "India",
                      "offsetgroup": "India",
                      "orientation": "v",
                      "showlegend": true,
                      "textposition": "auto",
                      "type": "bar",
                      "x": [
                        "India"
                      ],
                      "xaxis": "x",
                      "y": [
                        8184082
                      ],
                      "yaxis": "y"
                    },
                    {
                      "alignmentgroup": "True",
                      "hovertemplate": "Country=%{x}<br>Date=10/31/20<br>Cases=%{y}<extra></extra>",
                      "ids": [
                        "Italy"
                      ],
                      "legendgroup": "Italy",
                      "marker": {
                        "color": "#19d3f3"
                      },
                      "name": "Italy",
                      "offsetgroup": "Italy",
                      "orientation": "v",
                      "showlegend": true,
                      "textposition": "auto",
                      "type": "bar",
                      "x": [
                        "Italy"
                      ],
                      "xaxis": "x",
                      "y": [
                        679430
                      ],
                      "yaxis": "y"
                    },
                    {
                      "alignmentgroup": "True",
                      "hovertemplate": "Country=%{x}<br>Date=10/31/20<br>Cases=%{y}<extra></extra>",
                      "ids": [
                        "Russia"
                      ],
                      "legendgroup": "Russia",
                      "marker": {
                        "color": "#FF6692"
                      },
                      "name": "Russia",
                      "offsetgroup": "Russia",
                      "orientation": "v",
                      "showlegend": true,
                      "textposition": "auto",
                      "type": "bar",
                      "x": [
                        "Russia"
                      ],
                      "xaxis": "x",
                      "y": [
                        1606267
                      ],
                      "yaxis": "y"
                    },
                    {
                      "alignmentgroup": "True",
                      "hovertemplate": "Country=%{x}<br>Date=10/31/20<br>Cases=%{y}<extra></extra>",
                      "ids": [
                        "Spain"
                      ],
                      "legendgroup": "Spain",
                      "marker": {
                        "color": "#B6E880"
                      },
                      "name": "Spain",
                      "offsetgroup": "Spain",
                      "orientation": "v",
                      "showlegend": true,
                      "textposition": "auto",
                      "type": "bar",
                      "x": [
                        "Spain"
                      ],
                      "xaxis": "x",
                      "y": [
                        1185678
                      ],
                      "yaxis": "y"
                    },
                    {
                      "alignmentgroup": "True",
                      "hovertemplate": "Country=%{x}<br>Date=10/31/20<br>Cases=%{y}<extra></extra>",
                      "ids": [
                        "US"
                      ],
                      "legendgroup": "US",
                      "marker": {
                        "color": "#FF97FF"
                      },
                      "name": "US",
                      "offsetgroup": "US",
                      "orientation": "v",
                      "showlegend": true,
                      "textposition": "auto",
                      "type": "bar",
                      "x": [
                        "US"
                      ],
                      "xaxis": "x",
                      "y": [
                        9122666
                      ],
                      "yaxis": "y"
                    },
                    {
                      "alignmentgroup": "True",
                      "hovertemplate": "Country=%{x}<br>Date=10/31/20<br>Cases=%{y}<extra></extra>",
                      "ids": [
                        "United Kingdom"
                      ],
                      "legendgroup": "United Kingdom",
                      "marker": {
                        "color": "#FECB52"
                      },
                      "name": "United Kingdom",
                      "offsetgroup": "United Kingdom",
                      "orientation": "v",
                      "showlegend": true,
                      "textposition": "auto",
                      "type": "bar",
                      "x": [
                        "United Kingdom"
                      ],
                      "xaxis": "x",
                      "y": [
                        1014793
                      ],
                      "yaxis": "y"
                    }
                  ],
                  "name": "10/31/20"
                },
                {
                  "data": [
                    {
                      "alignmentgroup": "True",
                      "hovertemplate": "Country=%{x}<br>Date=11/2/20<br>Cases=%{y}<extra></extra>",
                      "ids": [
                        "Argentina"
                      ],
                      "legendgroup": "Argentina",
                      "marker": {
                        "color": "#636efa"
                      },
                      "name": "Argentina",
                      "offsetgroup": "Argentina",
                      "orientation": "v",
                      "showlegend": true,
                      "textposition": "auto",
                      "type": "bar",
                      "x": [
                        "Argentina"
                      ],
                      "xaxis": "x",
                      "y": [
                        1183131
                      ],
                      "yaxis": "y"
                    },
                    {
                      "alignmentgroup": "True",
                      "hovertemplate": "Country=%{x}<br>Date=11/2/20<br>Cases=%{y}<extra></extra>",
                      "ids": [
                        "Brazil"
                      ],
                      "legendgroup": "Brazil",
                      "marker": {
                        "color": "#EF553B"
                      },
                      "name": "Brazil",
                      "offsetgroup": "Brazil",
                      "orientation": "v",
                      "showlegend": true,
                      "textposition": "auto",
                      "type": "bar",
                      "x": [
                        "Brazil"
                      ],
                      "xaxis": "x",
                      "y": [
                        5554206
                      ],
                      "yaxis": "y"
                    },
                    {
                      "alignmentgroup": "True",
                      "hovertemplate": "Country=%{x}<br>Date=11/2/20<br>Cases=%{y}<extra></extra>",
                      "ids": [
                        "Colombia"
                      ],
                      "legendgroup": "Colombia",
                      "marker": {
                        "color": "#00cc96"
                      },
                      "name": "Colombia",
                      "offsetgroup": "Colombia",
                      "orientation": "v",
                      "showlegend": true,
                      "textposition": "auto",
                      "type": "bar",
                      "x": [
                        "Colombia"
                      ],
                      "xaxis": "x",
                      "y": [
                        1093256
                      ],
                      "yaxis": "y"
                    },
                    {
                      "alignmentgroup": "True",
                      "hovertemplate": "Country=%{x}<br>Date=11/2/20<br>Cases=%{y}<extra></extra>",
                      "ids": [
                        "France"
                      ],
                      "legendgroup": "France",
                      "marker": {
                        "color": "#ab63fa"
                      },
                      "name": "France",
                      "offsetgroup": "France",
                      "orientation": "v",
                      "showlegend": true,
                      "textposition": "auto",
                      "type": "bar",
                      "x": [
                        "France"
                      ],
                      "xaxis": "x",
                      "y": [
                        1512541
                      ],
                      "yaxis": "y"
                    },
                    {
                      "alignmentgroup": "True",
                      "hovertemplate": "Country=%{x}<br>Date=11/2/20<br>Cases=%{y}<extra></extra>",
                      "ids": [
                        "India"
                      ],
                      "legendgroup": "India",
                      "marker": {
                        "color": "#FFA15A"
                      },
                      "name": "India",
                      "offsetgroup": "India",
                      "orientation": "v",
                      "showlegend": true,
                      "textposition": "auto",
                      "type": "bar",
                      "x": [
                        "India"
                      ],
                      "xaxis": "x",
                      "y": [
                        8267623
                      ],
                      "yaxis": "y"
                    },
                    {
                      "alignmentgroup": "True",
                      "hovertemplate": "Country=%{x}<br>Date=11/2/20<br>Cases=%{y}<extra></extra>",
                      "ids": [
                        "Italy"
                      ],
                      "legendgroup": "Italy",
                      "marker": {
                        "color": "#19d3f3"
                      },
                      "name": "Italy",
                      "offsetgroup": "Italy",
                      "orientation": "v",
                      "showlegend": true,
                      "textposition": "auto",
                      "type": "bar",
                      "x": [
                        "Italy"
                      ],
                      "xaxis": "x",
                      "y": [
                        731588
                      ],
                      "yaxis": "y"
                    },
                    {
                      "alignmentgroup": "True",
                      "hovertemplate": "Country=%{x}<br>Date=11/2/20<br>Cases=%{y}<extra></extra>",
                      "ids": [
                        "Russia"
                      ],
                      "legendgroup": "Russia",
                      "marker": {
                        "color": "#FF6692"
                      },
                      "name": "Russia",
                      "offsetgroup": "Russia",
                      "orientation": "v",
                      "showlegend": true,
                      "textposition": "auto",
                      "type": "bar",
                      "x": [
                        "Russia"
                      ],
                      "xaxis": "x",
                      "y": [
                        1642665
                      ],
                      "yaxis": "y"
                    },
                    {
                      "alignmentgroup": "True",
                      "hovertemplate": "Country=%{x}<br>Date=11/2/20<br>Cases=%{y}<extra></extra>",
                      "ids": [
                        "Spain"
                      ],
                      "legendgroup": "Spain",
                      "marker": {
                        "color": "#B6E880"
                      },
                      "name": "Spain",
                      "offsetgroup": "Spain",
                      "orientation": "v",
                      "showlegend": true,
                      "textposition": "auto",
                      "type": "bar",
                      "x": [
                        "Spain"
                      ],
                      "xaxis": "x",
                      "y": [
                        1240697
                      ],
                      "yaxis": "y"
                    },
                    {
                      "alignmentgroup": "True",
                      "hovertemplate": "Country=%{x}<br>Date=11/2/20<br>Cases=%{y}<extra></extra>",
                      "ids": [
                        "US"
                      ],
                      "legendgroup": "US",
                      "marker": {
                        "color": "#FF97FF"
                      },
                      "name": "US",
                      "offsetgroup": "US",
                      "orientation": "v",
                      "showlegend": true,
                      "textposition": "auto",
                      "type": "bar",
                      "x": [
                        "US"
                      ],
                      "xaxis": "x",
                      "y": [
                        9281002
                      ],
                      "yaxis": "y"
                    },
                    {
                      "alignmentgroup": "True",
                      "hovertemplate": "Country=%{x}<br>Date=11/2/20<br>Cases=%{y}<extra></extra>",
                      "ids": [
                        "United Kingdom"
                      ],
                      "legendgroup": "United Kingdom",
                      "marker": {
                        "color": "#FECB52"
                      },
                      "name": "United Kingdom",
                      "offsetgroup": "United Kingdom",
                      "orientation": "v",
                      "showlegend": true,
                      "textposition": "auto",
                      "type": "bar",
                      "x": [
                        "United Kingdom"
                      ],
                      "xaxis": "x",
                      "y": [
                        1057021
                      ],
                      "yaxis": "y"
                    }
                  ],
                  "name": "11/2/20"
                },
                {
                  "data": [
                    {
                      "alignmentgroup": "True",
                      "hovertemplate": "Country=%{x}<br>Date=11/7/20<br>Cases=%{y}<extra></extra>",
                      "ids": [
                        "Argentina"
                      ],
                      "legendgroup": "Argentina",
                      "marker": {
                        "color": "#636efa"
                      },
                      "name": "Argentina",
                      "offsetgroup": "Argentina",
                      "orientation": "v",
                      "showlegend": true,
                      "textposition": "auto",
                      "type": "bar",
                      "x": [
                        "Argentina"
                      ],
                      "xaxis": "x",
                      "y": [
                        1236851
                      ],
                      "yaxis": "y"
                    },
                    {
                      "alignmentgroup": "True",
                      "hovertemplate": "Country=%{x}<br>Date=11/7/20<br>Cases=%{y}<extra></extra>",
                      "ids": [
                        "Brazil"
                      ],
                      "legendgroup": "Brazil",
                      "marker": {
                        "color": "#EF553B"
                      },
                      "name": "Brazil",
                      "offsetgroup": "Brazil",
                      "orientation": "v",
                      "showlegend": true,
                      "textposition": "auto",
                      "type": "bar",
                      "x": [
                        "Brazil"
                      ],
                      "xaxis": "x",
                      "y": [
                        5653561
                      ],
                      "yaxis": "y"
                    },
                    {
                      "alignmentgroup": "True",
                      "hovertemplate": "Country=%{x}<br>Date=11/7/20<br>Cases=%{y}<extra></extra>",
                      "ids": [
                        "Colombia"
                      ],
                      "legendgroup": "Colombia",
                      "marker": {
                        "color": "#00cc96"
                      },
                      "name": "Colombia",
                      "offsetgroup": "Colombia",
                      "orientation": "v",
                      "showlegend": true,
                      "textposition": "auto",
                      "type": "bar",
                      "x": [
                        "Colombia"
                      ],
                      "xaxis": "x",
                      "y": [
                        1136447
                      ],
                      "yaxis": "y"
                    },
                    {
                      "alignmentgroup": "True",
                      "hovertemplate": "Country=%{x}<br>Date=11/7/20<br>Cases=%{y}<extra></extra>",
                      "ids": [
                        "France"
                      ],
                      "legendgroup": "France",
                      "marker": {
                        "color": "#ab63fa"
                      },
                      "name": "France",
                      "offsetgroup": "France",
                      "orientation": "v",
                      "showlegend": true,
                      "textposition": "auto",
                      "type": "bar",
                      "x": [
                        "France"
                      ],
                      "xaxis": "x",
                      "y": [
                        1709773
                      ],
                      "yaxis": "y"
                    },
                    {
                      "alignmentgroup": "True",
                      "hovertemplate": "Country=%{x}<br>Date=11/7/20<br>Cases=%{y}<extra></extra>",
                      "ids": [
                        "India"
                      ],
                      "legendgroup": "India",
                      "marker": {
                        "color": "#FFA15A"
                      },
                      "name": "India",
                      "offsetgroup": "India",
                      "orientation": "v",
                      "showlegend": true,
                      "textposition": "auto",
                      "type": "bar",
                      "x": [
                        "India"
                      ],
                      "xaxis": "x",
                      "y": [
                        8507754
                      ],
                      "yaxis": "y"
                    },
                    {
                      "alignmentgroup": "True",
                      "hovertemplate": "Country=%{x}<br>Date=11/7/20<br>Cases=%{y}<extra></extra>",
                      "ids": [
                        "Italy"
                      ],
                      "legendgroup": "Italy",
                      "marker": {
                        "color": "#19d3f3"
                      },
                      "name": "Italy",
                      "offsetgroup": "Italy",
                      "orientation": "v",
                      "showlegend": true,
                      "textposition": "auto",
                      "type": "bar",
                      "x": [
                        "Italy"
                      ],
                      "xaxis": "x",
                      "y": [
                        902490
                      ],
                      "yaxis": "y"
                    },
                    {
                      "alignmentgroup": "True",
                      "hovertemplate": "Country=%{x}<br>Date=11/7/20<br>Cases=%{y}<extra></extra>",
                      "ids": [
                        "Russia"
                      ],
                      "legendgroup": "Russia",
                      "marker": {
                        "color": "#FF6692"
                      },
                      "name": "Russia",
                      "offsetgroup": "Russia",
                      "orientation": "v",
                      "showlegend": true,
                      "textposition": "auto",
                      "type": "bar",
                      "x": [
                        "Russia"
                      ],
                      "xaxis": "x",
                      "y": [
                        1740172
                      ],
                      "yaxis": "y"
                    },
                    {
                      "alignmentgroup": "True",
                      "hovertemplate": "Country=%{x}<br>Date=11/7/20<br>Cases=%{y}<extra></extra>",
                      "ids": [
                        "Spain"
                      ],
                      "legendgroup": "Spain",
                      "marker": {
                        "color": "#B6E880"
                      },
                      "name": "Spain",
                      "offsetgroup": "Spain",
                      "orientation": "v",
                      "showlegend": true,
                      "textposition": "auto",
                      "type": "bar",
                      "x": [
                        "Spain"
                      ],
                      "xaxis": "x",
                      "y": [
                        1328832
                      ],
                      "yaxis": "y"
                    },
                    {
                      "alignmentgroup": "True",
                      "hovertemplate": "Country=%{x}<br>Date=11/7/20<br>Cases=%{y}<extra></extra>",
                      "ids": [
                        "US"
                      ],
                      "legendgroup": "US",
                      "marker": {
                        "color": "#FF97FF"
                      },
                      "name": "US",
                      "offsetgroup": "US",
                      "orientation": "v",
                      "showlegend": true,
                      "textposition": "auto",
                      "type": "bar",
                      "x": [
                        "US"
                      ],
                      "xaxis": "x",
                      "y": [
                        9886080
                      ],
                      "yaxis": "y"
                    },
                    {
                      "alignmentgroup": "True",
                      "hovertemplate": "Country=%{x}<br>Date=11/7/20<br>Cases=%{y}<extra></extra>",
                      "ids": [
                        "United Kingdom"
                      ],
                      "legendgroup": "United Kingdom",
                      "marker": {
                        "color": "#FECB52"
                      },
                      "name": "United Kingdom",
                      "offsetgroup": "United Kingdom",
                      "orientation": "v",
                      "showlegend": true,
                      "textposition": "auto",
                      "type": "bar",
                      "x": [
                        "United Kingdom"
                      ],
                      "xaxis": "x",
                      "y": [
                        1174770
                      ],
                      "yaxis": "y"
                    }
                  ],
                  "name": "11/7/20"
                }
              ],
              "layout": {
                "barmode": "relative",
                "legend": {
                  "title": {
                    "text": "Country"
                  },
                  "tracegroupgap": 0
                },
                "margin": {
                  "t": 60
                },
                "showlegend": false,
                "sliders": [
                  {
                    "active": 0,
                    "currentvalue": {
                      "prefix": "Date="
                    },
                    "len": 0.9,
                    "pad": {
                      "b": 10,
                      "t": 60
                    },
                    "steps": [
                      {
                        "args": [
                          [
                            "1/26/20"
                          ],
                          {
                            "frame": {
                              "duration": 0,
                              "redraw": true
                            },
                            "fromcurrent": true,
                            "mode": "immediate",
                            "transition": {
                              "duration": 0,
                              "easing": "linear"
                            }
                          }
                        ],
                        "label": "1/26/20",
                        "method": "animate"
                      },
                      {
                        "args": [
                          [
                            "1/31/20"
                          ],
                          {
                            "frame": {
                              "duration": 0,
                              "redraw": true
                            },
                            "fromcurrent": true,
                            "mode": "immediate",
                            "transition": {
                              "duration": 0,
                              "easing": "linear"
                            }
                          }
                        ],
                        "label": "1/31/20",
                        "method": "animate"
                      },
                      {
                        "args": [
                          [
                            "2/3/20"
                          ],
                          {
                            "frame": {
                              "duration": 0,
                              "redraw": true
                            },
                            "fromcurrent": true,
                            "mode": "immediate",
                            "transition": {
                              "duration": 0,
                              "easing": "linear"
                            }
                          }
                        ],
                        "label": "2/3/20",
                        "method": "animate"
                      },
                      {
                        "args": [
                          [
                            "2/8/20"
                          ],
                          {
                            "frame": {
                              "duration": 0,
                              "redraw": true
                            },
                            "fromcurrent": true,
                            "mode": "immediate",
                            "transition": {
                              "duration": 0,
                              "easing": "linear"
                            }
                          }
                        ],
                        "label": "2/8/20",
                        "method": "animate"
                      },
                      {
                        "args": [
                          [
                            "2/11/20"
                          ],
                          {
                            "frame": {
                              "duration": 0,
                              "redraw": true
                            },
                            "fromcurrent": true,
                            "mode": "immediate",
                            "transition": {
                              "duration": 0,
                              "easing": "linear"
                            }
                          }
                        ],
                        "label": "2/11/20",
                        "method": "animate"
                      },
                      {
                        "args": [
                          [
                            "2/16/20"
                          ],
                          {
                            "frame": {
                              "duration": 0,
                              "redraw": true
                            },
                            "fromcurrent": true,
                            "mode": "immediate",
                            "transition": {
                              "duration": 0,
                              "easing": "linear"
                            }
                          }
                        ],
                        "label": "2/16/20",
                        "method": "animate"
                      },
                      {
                        "args": [
                          [
                            "2/20/20"
                          ],
                          {
                            "frame": {
                              "duration": 0,
                              "redraw": true
                            },
                            "fromcurrent": true,
                            "mode": "immediate",
                            "transition": {
                              "duration": 0,
                              "easing": "linear"
                            }
                          }
                        ],
                        "label": "2/20/20",
                        "method": "animate"
                      },
                      {
                        "args": [
                          [
                            "2/25/20"
                          ],
                          {
                            "frame": {
                              "duration": 0,
                              "redraw": true
                            },
                            "fromcurrent": true,
                            "mode": "immediate",
                            "transition": {
                              "duration": 0,
                              "easing": "linear"
                            }
                          }
                        ],
                        "label": "2/25/20",
                        "method": "animate"
                      },
                      {
                        "args": [
                          [
                            "3/7/20"
                          ],
                          {
                            "frame": {
                              "duration": 0,
                              "redraw": true
                            },
                            "fromcurrent": true,
                            "mode": "immediate",
                            "transition": {
                              "duration": 0,
                              "easing": "linear"
                            }
                          }
                        ],
                        "label": "3/7/20",
                        "method": "animate"
                      },
                      {
                        "args": [
                          [
                            "3/12/20"
                          ],
                          {
                            "frame": {
                              "duration": 0,
                              "redraw": true
                            },
                            "fromcurrent": true,
                            "mode": "immediate",
                            "transition": {
                              "duration": 0,
                              "easing": "linear"
                            }
                          }
                        ],
                        "label": "3/12/20",
                        "method": "animate"
                      },
                      {
                        "args": [
                          [
                            "3/17/20"
                          ],
                          {
                            "frame": {
                              "duration": 0,
                              "redraw": true
                            },
                            "fromcurrent": true,
                            "mode": "immediate",
                            "transition": {
                              "duration": 0,
                              "easing": "linear"
                            }
                          }
                        ],
                        "label": "3/17/20",
                        "method": "animate"
                      },
                      {
                        "args": [
                          [
                            "3/21/20"
                          ],
                          {
                            "frame": {
                              "duration": 0,
                              "redraw": true
                            },
                            "fromcurrent": true,
                            "mode": "immediate",
                            "transition": {
                              "duration": 0,
                              "easing": "linear"
                            }
                          }
                        ],
                        "label": "3/21/20",
                        "method": "animate"
                      },
                      {
                        "args": [
                          [
                            "3/26/20"
                          ],
                          {
                            "frame": {
                              "duration": 0,
                              "redraw": true
                            },
                            "fromcurrent": true,
                            "mode": "immediate",
                            "transition": {
                              "duration": 0,
                              "easing": "linear"
                            }
                          }
                        ],
                        "label": "3/26/20",
                        "method": "animate"
                      },
                      {
                        "args": [
                          [
                            "3/30/20"
                          ],
                          {
                            "frame": {
                              "duration": 0,
                              "redraw": true
                            },
                            "fromcurrent": true,
                            "mode": "immediate",
                            "transition": {
                              "duration": 0,
                              "easing": "linear"
                            }
                          }
                        ],
                        "label": "3/30/20",
                        "method": "animate"
                      },
                      {
                        "args": [
                          [
                            "4/3/20"
                          ],
                          {
                            "frame": {
                              "duration": 0,
                              "redraw": true
                            },
                            "fromcurrent": true,
                            "mode": "immediate",
                            "transition": {
                              "duration": 0,
                              "easing": "linear"
                            }
                          }
                        ],
                        "label": "4/3/20",
                        "method": "animate"
                      },
                      {
                        "args": [
                          [
                            "4/7/20"
                          ],
                          {
                            "frame": {
                              "duration": 0,
                              "redraw": true
                            },
                            "fromcurrent": true,
                            "mode": "immediate",
                            "transition": {
                              "duration": 0,
                              "easing": "linear"
                            }
                          }
                        ],
                        "label": "4/7/20",
                        "method": "animate"
                      },
                      {
                        "args": [
                          [
                            "4/11/20"
                          ],
                          {
                            "frame": {
                              "duration": 0,
                              "redraw": true
                            },
                            "fromcurrent": true,
                            "mode": "immediate",
                            "transition": {
                              "duration": 0,
                              "easing": "linear"
                            }
                          }
                        ],
                        "label": "4/11/20",
                        "method": "animate"
                      },
                      {
                        "args": [
                          [
                            "4/16/20"
                          ],
                          {
                            "frame": {
                              "duration": 0,
                              "redraw": true
                            },
                            "fromcurrent": true,
                            "mode": "immediate",
                            "transition": {
                              "duration": 0,
                              "easing": "linear"
                            }
                          }
                        ],
                        "label": "4/16/20",
                        "method": "animate"
                      },
                      {
                        "args": [
                          [
                            "4/20/20"
                          ],
                          {
                            "frame": {
                              "duration": 0,
                              "redraw": true
                            },
                            "fromcurrent": true,
                            "mode": "immediate",
                            "transition": {
                              "duration": 0,
                              "easing": "linear"
                            }
                          }
                        ],
                        "label": "4/20/20",
                        "method": "animate"
                      },
                      {
                        "args": [
                          [
                            "4/25/20"
                          ],
                          {
                            "frame": {
                              "duration": 0,
                              "redraw": true
                            },
                            "fromcurrent": true,
                            "mode": "immediate",
                            "transition": {
                              "duration": 0,
                              "easing": "linear"
                            }
                          }
                        ],
                        "label": "4/25/20",
                        "method": "animate"
                      },
                      {
                        "args": [
                          [
                            "5/3/20"
                          ],
                          {
                            "frame": {
                              "duration": 0,
                              "redraw": true
                            },
                            "fromcurrent": true,
                            "mode": "immediate",
                            "transition": {
                              "duration": 0,
                              "easing": "linear"
                            }
                          }
                        ],
                        "label": "5/3/20",
                        "method": "animate"
                      },
                      {
                        "args": [
                          [
                            "5/6/20"
                          ],
                          {
                            "frame": {
                              "duration": 0,
                              "redraw": true
                            },
                            "fromcurrent": true,
                            "mode": "immediate",
                            "transition": {
                              "duration": 0,
                              "easing": "linear"
                            }
                          }
                        ],
                        "label": "5/6/20",
                        "method": "animate"
                      },
                      {
                        "args": [
                          [
                            "5/11/20"
                          ],
                          {
                            "frame": {
                              "duration": 0,
                              "redraw": true
                            },
                            "fromcurrent": true,
                            "mode": "immediate",
                            "transition": {
                              "duration": 0,
                              "easing": "linear"
                            }
                          }
                        ],
                        "label": "5/11/20",
                        "method": "animate"
                      },
                      {
                        "args": [
                          [
                            "5/16/20"
                          ],
                          {
                            "frame": {
                              "duration": 0,
                              "redraw": true
                            },
                            "fromcurrent": true,
                            "mode": "immediate",
                            "transition": {
                              "duration": 0,
                              "easing": "linear"
                            }
                          }
                        ],
                        "label": "5/16/20",
                        "method": "animate"
                      },
                      {
                        "args": [
                          [
                            "5/20/20"
                          ],
                          {
                            "frame": {
                              "duration": 0,
                              "redraw": true
                            },
                            "fromcurrent": true,
                            "mode": "immediate",
                            "transition": {
                              "duration": 0,
                              "easing": "linear"
                            }
                          }
                        ],
                        "label": "5/20/20",
                        "method": "animate"
                      },
                      {
                        "args": [
                          [
                            "5/25/20"
                          ],
                          {
                            "frame": {
                              "duration": 0,
                              "redraw": true
                            },
                            "fromcurrent": true,
                            "mode": "immediate",
                            "transition": {
                              "duration": 0,
                              "easing": "linear"
                            }
                          }
                        ],
                        "label": "5/25/20",
                        "method": "animate"
                      },
                      {
                        "args": [
                          [
                            "6/2/20"
                          ],
                          {
                            "frame": {
                              "duration": 0,
                              "redraw": true
                            },
                            "fromcurrent": true,
                            "mode": "immediate",
                            "transition": {
                              "duration": 0,
                              "easing": "linear"
                            }
                          }
                        ],
                        "label": "6/2/20",
                        "method": "animate"
                      },
                      {
                        "args": [
                          [
                            "6/6/20"
                          ],
                          {
                            "frame": {
                              "duration": 0,
                              "redraw": true
                            },
                            "fromcurrent": true,
                            "mode": "immediate",
                            "transition": {
                              "duration": 0,
                              "easing": "linear"
                            }
                          }
                        ],
                        "label": "6/6/20",
                        "method": "animate"
                      },
                      {
                        "args": [
                          [
                            "6/10/20"
                          ],
                          {
                            "frame": {
                              "duration": 0,
                              "redraw": true
                            },
                            "fromcurrent": true,
                            "mode": "immediate",
                            "transition": {
                              "duration": 0,
                              "easing": "linear"
                            }
                          }
                        ],
                        "label": "6/10/20",
                        "method": "animate"
                      },
                      {
                        "args": [
                          [
                            "6/15/20"
                          ],
                          {
                            "frame": {
                              "duration": 0,
                              "redraw": true
                            },
                            "fromcurrent": true,
                            "mode": "immediate",
                            "transition": {
                              "duration": 0,
                              "easing": "linear"
                            }
                          }
                        ],
                        "label": "6/15/20",
                        "method": "animate"
                      },
                      {
                        "args": [
                          [
                            "6/24/20"
                          ],
                          {
                            "frame": {
                              "duration": 0,
                              "redraw": true
                            },
                            "fromcurrent": true,
                            "mode": "immediate",
                            "transition": {
                              "duration": 0,
                              "easing": "linear"
                            }
                          }
                        ],
                        "label": "6/24/20",
                        "method": "animate"
                      },
                      {
                        "args": [
                          [
                            "6/29/20"
                          ],
                          {
                            "frame": {
                              "duration": 0,
                              "redraw": true
                            },
                            "fromcurrent": true,
                            "mode": "immediate",
                            "transition": {
                              "duration": 0,
                              "easing": "linear"
                            }
                          }
                        ],
                        "label": "6/29/20",
                        "method": "animate"
                      },
                      {
                        "args": [
                          [
                            "7/2/20"
                          ],
                          {
                            "frame": {
                              "duration": 0,
                              "redraw": true
                            },
                            "fromcurrent": true,
                            "mode": "immediate",
                            "transition": {
                              "duration": 0,
                              "easing": "linear"
                            }
                          }
                        ],
                        "label": "7/2/20",
                        "method": "animate"
                      },
                      {
                        "args": [
                          [
                            "7/5/20"
                          ],
                          {
                            "frame": {
                              "duration": 0,
                              "redraw": true
                            },
                            "fromcurrent": true,
                            "mode": "immediate",
                            "transition": {
                              "duration": 0,
                              "easing": "linear"
                            }
                          }
                        ],
                        "label": "7/5/20",
                        "method": "animate"
                      },
                      {
                        "args": [
                          [
                            "7/10/20"
                          ],
                          {
                            "frame": {
                              "duration": 0,
                              "redraw": true
                            },
                            "fromcurrent": true,
                            "mode": "immediate",
                            "transition": {
                              "duration": 0,
                              "easing": "linear"
                            }
                          }
                        ],
                        "label": "7/10/20",
                        "method": "animate"
                      },
                      {
                        "args": [
                          [
                            "7/15/20"
                          ],
                          {
                            "frame": {
                              "duration": 0,
                              "redraw": true
                            },
                            "fromcurrent": true,
                            "mode": "immediate",
                            "transition": {
                              "duration": 0,
                              "easing": "linear"
                            }
                          }
                        ],
                        "label": "7/15/20",
                        "method": "animate"
                      },
                      {
                        "args": [
                          [
                            "7/24/20"
                          ],
                          {
                            "frame": {
                              "duration": 0,
                              "redraw": true
                            },
                            "fromcurrent": true,
                            "mode": "immediate",
                            "transition": {
                              "duration": 0,
                              "easing": "linear"
                            }
                          }
                        ],
                        "label": "7/24/20",
                        "method": "animate"
                      },
                      {
                        "args": [
                          [
                            "7/29/20"
                          ],
                          {
                            "frame": {
                              "duration": 0,
                              "redraw": true
                            },
                            "fromcurrent": true,
                            "mode": "immediate",
                            "transition": {
                              "duration": 0,
                              "easing": "linear"
                            }
                          }
                        ],
                        "label": "7/29/20",
                        "method": "animate"
                      },
                      {
                        "args": [
                          [
                            "8/1/20"
                          ],
                          {
                            "frame": {
                              "duration": 0,
                              "redraw": true
                            },
                            "fromcurrent": true,
                            "mode": "immediate",
                            "transition": {
                              "duration": 0,
                              "easing": "linear"
                            }
                          }
                        ],
                        "label": "8/1/20",
                        "method": "animate"
                      },
                      {
                        "args": [
                          [
                            "8/4/20"
                          ],
                          {
                            "frame": {
                              "duration": 0,
                              "redraw": true
                            },
                            "fromcurrent": true,
                            "mode": "immediate",
                            "transition": {
                              "duration": 0,
                              "easing": "linear"
                            }
                          }
                        ],
                        "label": "8/4/20",
                        "method": "animate"
                      },
                      {
                        "args": [
                          [
                            "8/9/20"
                          ],
                          {
                            "frame": {
                              "duration": 0,
                              "redraw": true
                            },
                            "fromcurrent": true,
                            "mode": "immediate",
                            "transition": {
                              "duration": 0,
                              "easing": "linear"
                            }
                          }
                        ],
                        "label": "8/9/20",
                        "method": "animate"
                      },
                      {
                        "args": [
                          [
                            "8/14/20"
                          ],
                          {
                            "frame": {
                              "duration": 0,
                              "redraw": true
                            },
                            "fromcurrent": true,
                            "mode": "immediate",
                            "transition": {
                              "duration": 0,
                              "easing": "linear"
                            }
                          }
                        ],
                        "label": "8/14/20",
                        "method": "animate"
                      },
                      {
                        "args": [
                          [
                            "8/19/20"
                          ],
                          {
                            "frame": {
                              "duration": 0,
                              "redraw": true
                            },
                            "fromcurrent": true,
                            "mode": "immediate",
                            "transition": {
                              "duration": 0,
                              "easing": "linear"
                            }
                          }
                        ],
                        "label": "8/19/20",
                        "method": "animate"
                      },
                      {
                        "args": [
                          [
                            "8/23/20"
                          ],
                          {
                            "frame": {
                              "duration": 0,
                              "redraw": true
                            },
                            "fromcurrent": true,
                            "mode": "immediate",
                            "transition": {
                              "duration": 0,
                              "easing": "linear"
                            }
                          }
                        ],
                        "label": "8/23/20",
                        "method": "animate"
                      },
                      {
                        "args": [
                          [
                            "8/28/20"
                          ],
                          {
                            "frame": {
                              "duration": 0,
                              "redraw": true
                            },
                            "fromcurrent": true,
                            "mode": "immediate",
                            "transition": {
                              "duration": 0,
                              "easing": "linear"
                            }
                          }
                        ],
                        "label": "8/28/20",
                        "method": "animate"
                      },
                      {
                        "args": [
                          [
                            "9/4/20"
                          ],
                          {
                            "frame": {
                              "duration": 0,
                              "redraw": true
                            },
                            "fromcurrent": true,
                            "mode": "immediate",
                            "transition": {
                              "duration": 0,
                              "easing": "linear"
                            }
                          }
                        ],
                        "label": "9/4/20",
                        "method": "animate"
                      },
                      {
                        "args": [
                          [
                            "9/9/20"
                          ],
                          {
                            "frame": {
                              "duration": 0,
                              "redraw": true
                            },
                            "fromcurrent": true,
                            "mode": "immediate",
                            "transition": {
                              "duration": 0,
                              "easing": "linear"
                            }
                          }
                        ],
                        "label": "9/9/20",
                        "method": "animate"
                      },
                      {
                        "args": [
                          [
                            "9/13/20"
                          ],
                          {
                            "frame": {
                              "duration": 0,
                              "redraw": true
                            },
                            "fromcurrent": true,
                            "mode": "immediate",
                            "transition": {
                              "duration": 0,
                              "easing": "linear"
                            }
                          }
                        ],
                        "label": "9/13/20",
                        "method": "animate"
                      },
                      {
                        "args": [
                          [
                            "9/18/20"
                          ],
                          {
                            "frame": {
                              "duration": 0,
                              "redraw": true
                            },
                            "fromcurrent": true,
                            "mode": "immediate",
                            "transition": {
                              "duration": 0,
                              "easing": "linear"
                            }
                          }
                        ],
                        "label": "9/18/20",
                        "method": "animate"
                      },
                      {
                        "args": [
                          [
                            "9/22/20"
                          ],
                          {
                            "frame": {
                              "duration": 0,
                              "redraw": true
                            },
                            "fromcurrent": true,
                            "mode": "immediate",
                            "transition": {
                              "duration": 0,
                              "easing": "linear"
                            }
                          }
                        ],
                        "label": "9/22/20",
                        "method": "animate"
                      },
                      {
                        "args": [
                          [
                            "9/27/20"
                          ],
                          {
                            "frame": {
                              "duration": 0,
                              "redraw": true
                            },
                            "fromcurrent": true,
                            "mode": "immediate",
                            "transition": {
                              "duration": 0,
                              "easing": "linear"
                            }
                          }
                        ],
                        "label": "9/27/20",
                        "method": "animate"
                      },
                      {
                        "args": [
                          [
                            "10/8/20"
                          ],
                          {
                            "frame": {
                              "duration": 0,
                              "redraw": true
                            },
                            "fromcurrent": true,
                            "mode": "immediate",
                            "transition": {
                              "duration": 0,
                              "easing": "linear"
                            }
                          }
                        ],
                        "label": "10/8/20",
                        "method": "animate"
                      },
                      {
                        "args": [
                          [
                            "10/13/20"
                          ],
                          {
                            "frame": {
                              "duration": 0,
                              "redraw": true
                            },
                            "fromcurrent": true,
                            "mode": "immediate",
                            "transition": {
                              "duration": 0,
                              "easing": "linear"
                            }
                          }
                        ],
                        "label": "10/13/20",
                        "method": "animate"
                      },
                      {
                        "args": [
                          [
                            "10/18/20"
                          ],
                          {
                            "frame": {
                              "duration": 0,
                              "redraw": true
                            },
                            "fromcurrent": true,
                            "mode": "immediate",
                            "transition": {
                              "duration": 0,
                              "easing": "linear"
                            }
                          }
                        ],
                        "label": "10/18/20",
                        "method": "animate"
                      },
                      {
                        "args": [
                          [
                            "10/22/20"
                          ],
                          {
                            "frame": {
                              "duration": 0,
                              "redraw": true
                            },
                            "fromcurrent": true,
                            "mode": "immediate",
                            "transition": {
                              "duration": 0,
                              "easing": "linear"
                            }
                          }
                        ],
                        "label": "10/22/20",
                        "method": "animate"
                      },
                      {
                        "args": [
                          [
                            "10/27/20"
                          ],
                          {
                            "frame": {
                              "duration": 0,
                              "redraw": true
                            },
                            "fromcurrent": true,
                            "mode": "immediate",
                            "transition": {
                              "duration": 0,
                              "easing": "linear"
                            }
                          }
                        ],
                        "label": "10/27/20",
                        "method": "animate"
                      },
                      {
                        "args": [
                          [
                            "10/31/20"
                          ],
                          {
                            "frame": {
                              "duration": 0,
                              "redraw": true
                            },
                            "fromcurrent": true,
                            "mode": "immediate",
                            "transition": {
                              "duration": 0,
                              "easing": "linear"
                            }
                          }
                        ],
                        "label": "10/31/20",
                        "method": "animate"
                      },
                      {
                        "args": [
                          [
                            "11/2/20"
                          ],
                          {
                            "frame": {
                              "duration": 0,
                              "redraw": true
                            },
                            "fromcurrent": true,
                            "mode": "immediate",
                            "transition": {
                              "duration": 0,
                              "easing": "linear"
                            }
                          }
                        ],
                        "label": "11/2/20",
                        "method": "animate"
                      },
                      {
                        "args": [
                          [
                            "11/7/20"
                          ],
                          {
                            "frame": {
                              "duration": 0,
                              "redraw": true
                            },
                            "fromcurrent": true,
                            "mode": "immediate",
                            "transition": {
                              "duration": 0,
                              "easing": "linear"
                            }
                          }
                        ],
                        "label": "11/7/20",
                        "method": "animate"
                      }
                    ],
                    "x": 0.1,
                    "xanchor": "left",
                    "y": 0,
                    "yanchor": "top"
                  }
                ],
                "template": {
                  "data": {
                    "bar": [
                      {
                        "error_x": {
                          "color": "#f2f5fa"
                        },
                        "error_y": {
                          "color": "#f2f5fa"
                        },
                        "marker": {
                          "line": {
                            "color": "rgb(17,17,17)",
                            "width": 0.5
                          }
                        },
                        "type": "bar"
                      }
                    ],
                    "barpolar": [
                      {
                        "marker": {
                          "line": {
                            "color": "rgb(17,17,17)",
                            "width": 0.5
                          }
                        },
                        "type": "barpolar"
                      }
                    ],
                    "carpet": [
                      {
                        "aaxis": {
                          "endlinecolor": "#A2B1C6",
                          "gridcolor": "#506784",
                          "linecolor": "#506784",
                          "minorgridcolor": "#506784",
                          "startlinecolor": "#A2B1C6"
                        },
                        "baxis": {
                          "endlinecolor": "#A2B1C6",
                          "gridcolor": "#506784",
                          "linecolor": "#506784",
                          "minorgridcolor": "#506784",
                          "startlinecolor": "#A2B1C6"
                        },
                        "type": "carpet"
                      }
                    ],
                    "choropleth": [
                      {
                        "colorbar": {
                          "outlinewidth": 0,
                          "ticks": ""
                        },
                        "type": "choropleth"
                      }
                    ],
                    "contour": [
                      {
                        "colorbar": {
                          "outlinewidth": 0,
                          "ticks": ""
                        },
                        "colorscale": [
                          [
                            0,
                            "#0d0887"
                          ],
                          [
                            0.1111111111111111,
                            "#46039f"
                          ],
                          [
                            0.2222222222222222,
                            "#7201a8"
                          ],
                          [
                            0.3333333333333333,
                            "#9c179e"
                          ],
                          [
                            0.4444444444444444,
                            "#bd3786"
                          ],
                          [
                            0.5555555555555556,
                            "#d8576b"
                          ],
                          [
                            0.6666666666666666,
                            "#ed7953"
                          ],
                          [
                            0.7777777777777778,
                            "#fb9f3a"
                          ],
                          [
                            0.8888888888888888,
                            "#fdca26"
                          ],
                          [
                            1,
                            "#f0f921"
                          ]
                        ],
                        "type": "contour"
                      }
                    ],
                    "contourcarpet": [
                      {
                        "colorbar": {
                          "outlinewidth": 0,
                          "ticks": ""
                        },
                        "type": "contourcarpet"
                      }
                    ],
                    "heatmap": [
                      {
                        "colorbar": {
                          "outlinewidth": 0,
                          "ticks": ""
                        },
                        "colorscale": [
                          [
                            0,
                            "#0d0887"
                          ],
                          [
                            0.1111111111111111,
                            "#46039f"
                          ],
                          [
                            0.2222222222222222,
                            "#7201a8"
                          ],
                          [
                            0.3333333333333333,
                            "#9c179e"
                          ],
                          [
                            0.4444444444444444,
                            "#bd3786"
                          ],
                          [
                            0.5555555555555556,
                            "#d8576b"
                          ],
                          [
                            0.6666666666666666,
                            "#ed7953"
                          ],
                          [
                            0.7777777777777778,
                            "#fb9f3a"
                          ],
                          [
                            0.8888888888888888,
                            "#fdca26"
                          ],
                          [
                            1,
                            "#f0f921"
                          ]
                        ],
                        "type": "heatmap"
                      }
                    ],
                    "heatmapgl": [
                      {
                        "colorbar": {
                          "outlinewidth": 0,
                          "ticks": ""
                        },
                        "colorscale": [
                          [
                            0,
                            "#0d0887"
                          ],
                          [
                            0.1111111111111111,
                            "#46039f"
                          ],
                          [
                            0.2222222222222222,
                            "#7201a8"
                          ],
                          [
                            0.3333333333333333,
                            "#9c179e"
                          ],
                          [
                            0.4444444444444444,
                            "#bd3786"
                          ],
                          [
                            0.5555555555555556,
                            "#d8576b"
                          ],
                          [
                            0.6666666666666666,
                            "#ed7953"
                          ],
                          [
                            0.7777777777777778,
                            "#fb9f3a"
                          ],
                          [
                            0.8888888888888888,
                            "#fdca26"
                          ],
                          [
                            1,
                            "#f0f921"
                          ]
                        ],
                        "type": "heatmapgl"
                      }
                    ],
                    "histogram": [
                      {
                        "marker": {
                          "colorbar": {
                            "outlinewidth": 0,
                            "ticks": ""
                          }
                        },
                        "type": "histogram"
                      }
                    ],
                    "histogram2d": [
                      {
                        "colorbar": {
                          "outlinewidth": 0,
                          "ticks": ""
                        },
                        "colorscale": [
                          [
                            0,
                            "#0d0887"
                          ],
                          [
                            0.1111111111111111,
                            "#46039f"
                          ],
                          [
                            0.2222222222222222,
                            "#7201a8"
                          ],
                          [
                            0.3333333333333333,
                            "#9c179e"
                          ],
                          [
                            0.4444444444444444,
                            "#bd3786"
                          ],
                          [
                            0.5555555555555556,
                            "#d8576b"
                          ],
                          [
                            0.6666666666666666,
                            "#ed7953"
                          ],
                          [
                            0.7777777777777778,
                            "#fb9f3a"
                          ],
                          [
                            0.8888888888888888,
                            "#fdca26"
                          ],
                          [
                            1,
                            "#f0f921"
                          ]
                        ],
                        "type": "histogram2d"
                      }
                    ],
                    "histogram2dcontour": [
                      {
                        "colorbar": {
                          "outlinewidth": 0,
                          "ticks": ""
                        },
                        "colorscale": [
                          [
                            0,
                            "#0d0887"
                          ],
                          [
                            0.1111111111111111,
                            "#46039f"
                          ],
                          [
                            0.2222222222222222,
                            "#7201a8"
                          ],
                          [
                            0.3333333333333333,
                            "#9c179e"
                          ],
                          [
                            0.4444444444444444,
                            "#bd3786"
                          ],
                          [
                            0.5555555555555556,
                            "#d8576b"
                          ],
                          [
                            0.6666666666666666,
                            "#ed7953"
                          ],
                          [
                            0.7777777777777778,
                            "#fb9f3a"
                          ],
                          [
                            0.8888888888888888,
                            "#fdca26"
                          ],
                          [
                            1,
                            "#f0f921"
                          ]
                        ],
                        "type": "histogram2dcontour"
                      }
                    ],
                    "mesh3d": [
                      {
                        "colorbar": {
                          "outlinewidth": 0,
                          "ticks": ""
                        },
                        "type": "mesh3d"
                      }
                    ],
                    "parcoords": [
                      {
                        "line": {
                          "colorbar": {
                            "outlinewidth": 0,
                            "ticks": ""
                          }
                        },
                        "type": "parcoords"
                      }
                    ],
                    "pie": [
                      {
                        "automargin": true,
                        "type": "pie"
                      }
                    ],
                    "scatter": [
                      {
                        "marker": {
                          "line": {
                            "color": "#283442"
                          }
                        },
                        "type": "scatter"
                      }
                    ],
                    "scatter3d": [
                      {
                        "line": {
                          "colorbar": {
                            "outlinewidth": 0,
                            "ticks": ""
                          }
                        },
                        "marker": {
                          "colorbar": {
                            "outlinewidth": 0,
                            "ticks": ""
                          }
                        },
                        "type": "scatter3d"
                      }
                    ],
                    "scattercarpet": [
                      {
                        "marker": {
                          "colorbar": {
                            "outlinewidth": 0,
                            "ticks": ""
                          }
                        },
                        "type": "scattercarpet"
                      }
                    ],
                    "scattergeo": [
                      {
                        "marker": {
                          "colorbar": {
                            "outlinewidth": 0,
                            "ticks": ""
                          }
                        },
                        "type": "scattergeo"
                      }
                    ],
                    "scattergl": [
                      {
                        "marker": {
                          "line": {
                            "color": "#283442"
                          }
                        },
                        "type": "scattergl"
                      }
                    ],
                    "scattermapbox": [
                      {
                        "marker": {
                          "colorbar": {
                            "outlinewidth": 0,
                            "ticks": ""
                          }
                        },
                        "type": "scattermapbox"
                      }
                    ],
                    "scatterpolar": [
                      {
                        "marker": {
                          "colorbar": {
                            "outlinewidth": 0,
                            "ticks": ""
                          }
                        },
                        "type": "scatterpolar"
                      }
                    ],
                    "scatterpolargl": [
                      {
                        "marker": {
                          "colorbar": {
                            "outlinewidth": 0,
                            "ticks": ""
                          }
                        },
                        "type": "scatterpolargl"
                      }
                    ],
                    "scatterternary": [
                      {
                        "marker": {
                          "colorbar": {
                            "outlinewidth": 0,
                            "ticks": ""
                          }
                        },
                        "type": "scatterternary"
                      }
                    ],
                    "surface": [
                      {
                        "colorbar": {
                          "outlinewidth": 0,
                          "ticks": ""
                        },
                        "colorscale": [
                          [
                            0,
                            "#0d0887"
                          ],
                          [
                            0.1111111111111111,
                            "#46039f"
                          ],
                          [
                            0.2222222222222222,
                            "#7201a8"
                          ],
                          [
                            0.3333333333333333,
                            "#9c179e"
                          ],
                          [
                            0.4444444444444444,
                            "#bd3786"
                          ],
                          [
                            0.5555555555555556,
                            "#d8576b"
                          ],
                          [
                            0.6666666666666666,
                            "#ed7953"
                          ],
                          [
                            0.7777777777777778,
                            "#fb9f3a"
                          ],
                          [
                            0.8888888888888888,
                            "#fdca26"
                          ],
                          [
                            1,
                            "#f0f921"
                          ]
                        ],
                        "type": "surface"
                      }
                    ],
                    "table": [
                      {
                        "cells": {
                          "fill": {
                            "color": "#506784"
                          },
                          "line": {
                            "color": "rgb(17,17,17)"
                          }
                        },
                        "header": {
                          "fill": {
                            "color": "#2a3f5f"
                          },
                          "line": {
                            "color": "rgb(17,17,17)"
                          }
                        },
                        "type": "table"
                      }
                    ]
                  },
                  "layout": {
                    "annotationdefaults": {
                      "arrowcolor": "#f2f5fa",
                      "arrowhead": 0,
                      "arrowwidth": 1
                    },
                    "coloraxis": {
                      "colorbar": {
                        "outlinewidth": 0,
                        "ticks": ""
                      }
                    },
                    "colorscale": {
                      "diverging": [
                        [
                          0,
                          "#8e0152"
                        ],
                        [
                          0.1,
                          "#c51b7d"
                        ],
                        [
                          0.2,
                          "#de77ae"
                        ],
                        [
                          0.3,
                          "#f1b6da"
                        ],
                        [
                          0.4,
                          "#fde0ef"
                        ],
                        [
                          0.5,
                          "#f7f7f7"
                        ],
                        [
                          0.6,
                          "#e6f5d0"
                        ],
                        [
                          0.7,
                          "#b8e186"
                        ],
                        [
                          0.8,
                          "#7fbc41"
                        ],
                        [
                          0.9,
                          "#4d9221"
                        ],
                        [
                          1,
                          "#276419"
                        ]
                      ],
                      "sequential": [
                        [
                          0,
                          "#0d0887"
                        ],
                        [
                          0.1111111111111111,
                          "#46039f"
                        ],
                        [
                          0.2222222222222222,
                          "#7201a8"
                        ],
                        [
                          0.3333333333333333,
                          "#9c179e"
                        ],
                        [
                          0.4444444444444444,
                          "#bd3786"
                        ],
                        [
                          0.5555555555555556,
                          "#d8576b"
                        ],
                        [
                          0.6666666666666666,
                          "#ed7953"
                        ],
                        [
                          0.7777777777777778,
                          "#fb9f3a"
                        ],
                        [
                          0.8888888888888888,
                          "#fdca26"
                        ],
                        [
                          1,
                          "#f0f921"
                        ]
                      ],
                      "sequentialminus": [
                        [
                          0,
                          "#0d0887"
                        ],
                        [
                          0.1111111111111111,
                          "#46039f"
                        ],
                        [
                          0.2222222222222222,
                          "#7201a8"
                        ],
                        [
                          0.3333333333333333,
                          "#9c179e"
                        ],
                        [
                          0.4444444444444444,
                          "#bd3786"
                        ],
                        [
                          0.5555555555555556,
                          "#d8576b"
                        ],
                        [
                          0.6666666666666666,
                          "#ed7953"
                        ],
                        [
                          0.7777777777777778,
                          "#fb9f3a"
                        ],
                        [
                          0.8888888888888888,
                          "#fdca26"
                        ],
                        [
                          1,
                          "#f0f921"
                        ]
                      ]
                    },
                    "colorway": [
                      "#636efa",
                      "#EF553B",
                      "#00cc96",
                      "#ab63fa",
                      "#FFA15A",
                      "#19d3f3",
                      "#FF6692",
                      "#B6E880",
                      "#FF97FF",
                      "#FECB52"
                    ],
                    "font": {
                      "color": "#f2f5fa"
                    },
                    "geo": {
                      "bgcolor": "rgb(17,17,17)",
                      "lakecolor": "rgb(17,17,17)",
                      "landcolor": "rgb(17,17,17)",
                      "showlakes": true,
                      "showland": true,
                      "subunitcolor": "#506784"
                    },
                    "hoverlabel": {
                      "align": "left"
                    },
                    "hovermode": "closest",
                    "mapbox": {
                      "style": "dark"
                    },
                    "paper_bgcolor": "rgb(17,17,17)",
                    "plot_bgcolor": "rgb(17,17,17)",
                    "polar": {
                      "angularaxis": {
                        "gridcolor": "#506784",
                        "linecolor": "#506784",
                        "ticks": ""
                      },
                      "bgcolor": "rgb(17,17,17)",
                      "radialaxis": {
                        "gridcolor": "#506784",
                        "linecolor": "#506784",
                        "ticks": ""
                      }
                    },
                    "scene": {
                      "xaxis": {
                        "backgroundcolor": "rgb(17,17,17)",
                        "gridcolor": "#506784",
                        "gridwidth": 2,
                        "linecolor": "#506784",
                        "showbackground": true,
                        "ticks": "",
                        "zerolinecolor": "#C8D4E3"
                      },
                      "yaxis": {
                        "backgroundcolor": "rgb(17,17,17)",
                        "gridcolor": "#506784",
                        "gridwidth": 2,
                        "linecolor": "#506784",
                        "showbackground": true,
                        "ticks": "",
                        "zerolinecolor": "#C8D4E3"
                      },
                      "zaxis": {
                        "backgroundcolor": "rgb(17,17,17)",
                        "gridcolor": "#506784",
                        "gridwidth": 2,
                        "linecolor": "#506784",
                        "showbackground": true,
                        "ticks": "",
                        "zerolinecolor": "#C8D4E3"
                      }
                    },
                    "shapedefaults": {
                      "line": {
                        "color": "#f2f5fa"
                      }
                    },
                    "sliderdefaults": {
                      "bgcolor": "#C8D4E3",
                      "bordercolor": "rgb(17,17,17)",
                      "borderwidth": 1,
                      "tickwidth": 0
                    },
                    "ternary": {
                      "aaxis": {
                        "gridcolor": "#506784",
                        "linecolor": "#506784",
                        "ticks": ""
                      },
                      "baxis": {
                        "gridcolor": "#506784",
                        "linecolor": "#506784",
                        "ticks": ""
                      },
                      "bgcolor": "rgb(17,17,17)",
                      "caxis": {
                        "gridcolor": "#506784",
                        "linecolor": "#506784",
                        "ticks": ""
                      }
                    },
                    "title": {
                      "x": 0.05
                    },
                    "updatemenudefaults": {
                      "bgcolor": "#506784",
                      "borderwidth": 0
                    },
                    "xaxis": {
                      "automargin": true,
                      "gridcolor": "#283442",
                      "linecolor": "#506784",
                      "ticks": "",
                      "title": {
                        "standoff": 15
                      },
                      "zerolinecolor": "#283442",
                      "zerolinewidth": 2
                    },
                    "yaxis": {
                      "automargin": true,
                      "gridcolor": "#283442",
                      "linecolor": "#506784",
                      "ticks": "",
                      "title": {
                        "standoff": 15
                      },
                      "zerolinecolor": "#283442",
                      "zerolinewidth": 2
                    }
                  }
                },
                "updatemenus": [
                  {
                    "buttons": [
                      {
                        "args": [
                          null,
                          {
                            "frame": {
                              "duration": 500,
                              "redraw": true
                            },
                            "fromcurrent": true,
                            "mode": "immediate",
                            "transition": {
                              "duration": 500,
                              "easing": "linear"
                            }
                          }
                        ],
                        "label": "&#9654;",
                        "method": "animate"
                      },
                      {
                        "args": [
                          [
                            null
                          ],
                          {
                            "frame": {
                              "duration": 0,
                              "redraw": true
                            },
                            "fromcurrent": true,
                            "mode": "immediate",
                            "transition": {
                              "duration": 0,
                              "easing": "linear"
                            }
                          }
                        ],
                        "label": "&#9724;",
                        "method": "animate"
                      }
                    ],
                    "direction": "left",
                    "pad": {
                      "r": 10,
                      "t": 70
                    },
                    "showactive": false,
                    "type": "buttons",
                    "x": 0.1,
                    "xanchor": "right",
                    "y": 0,
                    "yanchor": "top"
                  }
                ],
                "xaxis": {
                  "anchor": "y",
                  "categoryarray": [
                    "Argentina",
                    "Brazil",
                    "Colombia",
                    "France",
                    "India",
                    "Italy",
                    "Russia",
                    "Spain",
                    "US",
                    "United Kingdom"
                  ],
                  "categoryorder": "array",
                  "domain": [
                    0,
                    1
                  ],
                  "title": {
                    "text": "Country"
                  }
                },
                "yaxis": {
                  "anchor": "x",
                  "domain": [
                    0,
                    1
                  ],
                  "range": [
                    0,
                    9886080
                  ],
                  "title": {
                    "text": "Cases"
                  }
                }
              }
            }
          },
          "metadata": {}
        }
      ]
    },
    {
      "cell_type": "code",
      "metadata": {
        "id": "5MWA97nh8lRv"
      },
      "source": [
        ""
      ],
      "execution_count": null,
      "outputs": []
    }
  ]
}