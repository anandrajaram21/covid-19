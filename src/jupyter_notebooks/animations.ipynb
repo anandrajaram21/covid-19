{
 "cells": [
  {
   "cell_type": "markdown",
   "metadata": {},
   "source": [
    "#  Animations"
   ]
  },
  {
   "cell_type": "code",
   "execution_count": 1,
   "metadata": {},
   "outputs": [],
   "source": [
    "# Imports\n",
    "from datetime import datetime,date,timedelta\n",
    "import pandas as pd\n",
    "import numpy as np\n",
    "import plotly.io as pio\n",
    "import plotly.graph_objects as go\n",
    "from plotly.offline import init_notebook_mode\n",
    "# To import the main.py file\n",
    "sys.path.append('../')\n",
    "from python_files import main\n",
    "\n",
    "# Getting all the data\n",
    "confirmed_global, deaths_global, recovered_global, country_cases = main.collect_data()\n",
    "\n",
    "\n"
   ]
  },
  {
   "cell_type": "markdown",
   "metadata": {},
   "source": [
    "## BAR GRAPH"
   ]
  },
  {
   "cell_type": "code",
   "execution_count": 3,
   "metadata": {},
   "outputs": [],
   "source": [
    "\n",
    "bar_df=confirmed_global.transpose()\n",
    "l=[datetime.strptime(date,\"%m/%d/%y\").strftime(\"20%y-%m-%d\") for date in bar_df.index[1:]]\n",
    "l.insert(0,0)\n",
    "bar_df.set_index(pd.Index(l),inplace=True)\n",
    "L=pd.to_datetime(l,utc=False)\n"
   ]
  },
  {
   "cell_type": "code",
   "execution_count": 12,
   "metadata": {},
   "outputs": [
    {
     "ename": "ValueError",
     "evalue": "Length mismatch: Expected 188 rows, received array of length 189",
     "output_type": "error",
     "traceback": [
      "\u001b[1;31m---------------------------------------------------------------------------\u001b[0m",
      "\u001b[1;31mValueError\u001b[0m                                Traceback (most recent call last)",
      "\u001b[1;32m<ipython-input-12-14dfeb330469>\u001b[0m in \u001b[0;36m<module>\u001b[1;34m\u001b[0m\n\u001b[1;32m----> 1\u001b[1;33m \u001b[0mbar_df\u001b[0m\u001b[1;33m.\u001b[0m\u001b[0mset_index\u001b[0m\u001b[1;33m(\u001b[0m\u001b[0mpd\u001b[0m\u001b[1;33m.\u001b[0m\u001b[0mIndex\u001b[0m\u001b[1;33m(\u001b[0m\u001b[0mL\u001b[0m\u001b[1;33m)\u001b[0m\u001b[1;33m,\u001b[0m\u001b[0minplace\u001b[0m\u001b[1;33m=\u001b[0m\u001b[1;32mTrue\u001b[0m\u001b[1;33m)\u001b[0m\u001b[1;33m\u001b[0m\u001b[1;33m\u001b[0m\u001b[0m\n\u001b[0m\u001b[0;32m      2\u001b[0m \u001b[0mbar_df\u001b[0m\u001b[1;33m=\u001b[0m\u001b[0mbar_df\u001b[0m\u001b[1;33m.\u001b[0m\u001b[0mtranspose\u001b[0m\u001b[1;33m(\u001b[0m\u001b[1;33m)\u001b[0m\u001b[1;33m\u001b[0m\u001b[1;33m\u001b[0m\u001b[0m\n\u001b[0;32m      3\u001b[0m \u001b[0mpio\u001b[0m\u001b[1;33m.\u001b[0m\u001b[0mtemplates\u001b[0m\u001b[1;33m.\u001b[0m\u001b[0mdefault\u001b[0m \u001b[1;33m=\u001b[0m \u001b[1;34m\"plotly\"\u001b[0m\u001b[1;33m\u001b[0m\u001b[1;33m\u001b[0m\u001b[0m\n",
      "\u001b[1;32m~\\AppData\\Local\\Programs\\Python\\Python38\\lib\\site-packages\\pandas\\core\\frame.py\u001b[0m in \u001b[0;36mset_index\u001b[1;34m(self, keys, drop, append, inplace, verify_integrity)\u001b[0m\n\u001b[0;32m   4344\u001b[0m                 \u001b[1;31m# check newest element against length of calling frame, since\u001b[0m\u001b[1;33m\u001b[0m\u001b[1;33m\u001b[0m\u001b[1;33m\u001b[0m\u001b[0m\n\u001b[0;32m   4345\u001b[0m                 \u001b[1;31m# ensure_index_from_sequences would not raise for append=False.\u001b[0m\u001b[1;33m\u001b[0m\u001b[1;33m\u001b[0m\u001b[1;33m\u001b[0m\u001b[0m\n\u001b[1;32m-> 4346\u001b[1;33m                 raise ValueError(\n\u001b[0m\u001b[0;32m   4347\u001b[0m                     \u001b[1;34mf\"Length mismatch: Expected {len(self)} rows, \"\u001b[0m\u001b[1;33m\u001b[0m\u001b[1;33m\u001b[0m\u001b[0m\n\u001b[0;32m   4348\u001b[0m                     \u001b[1;34mf\"received array of length {len(arrays[-1])}\"\u001b[0m\u001b[1;33m\u001b[0m\u001b[1;33m\u001b[0m\u001b[0m\n",
      "\u001b[1;31mValueError\u001b[0m: Length mismatch: Expected 188 rows, received array of length 189"
     ]
    }
   ],
   "source": [
    "bar_df.set_index(pd.Index(L),inplace=True)\n",
    "bar_df=bar_df.transpose()\n",
    "pio.templates.default = \"plotly\"\n"
   ]
  },
  {
   "cell_type": "code",
   "execution_count": 13,
   "metadata": {},
   "outputs": [],
   "source": [
    "\n",
    "\n",
    "def daterange(date1, date2,n):\n",
    "    for n in range(int ((date2 - date1).days)+1):\n",
    "        yield date1 + timedelta(days=n)\n",
    "        \n",
    "def animated_barchart(dataset, categrical_col, start, end, title , frame_rate = 3):\n",
    "    names = dataset[categrical_col]\n",
    "    yvals = dataset.loc[:,start]\n",
    "    def get_colors():\n",
    "        r = np.random.randint(1,187)\n",
    "        g = np.random.randint(1,187)\n",
    "        b = np.random.randint(1,187)\n",
    "        return [r,g,b]\n",
    "    colors = []\n",
    "    for i in range(len(names)):\n",
    "        c = get_colors()\n",
    "        colors.append(\"rgb(\" + str(c[0]) + \",\"+ str(c[1]) + \",\"+ str(c[2]) + \")\")\n",
    "       \n",
    "    def top_10(d):\n",
    "        df = pd.DataFrame({\"names\":names, \"pop\":d, \"color\":colors})\n",
    "        data = df.sort_values(by = \"pop\").iloc[-10:,]\n",
    "        return data\n",
    "    \n",
    "    listOfFrames = []\n",
    "    for i in daterange(start,end,frame_rate):\n",
    "        d = bar_df.loc[:,str(i)]\n",
    "        pdata = top_10(d)\n",
    "        listOfFrames.append(go.Frame(data = [go.Bar(x = pdata[\"names\"], y = pdata[\"pop\"],\n",
    "                                                    marker_color = pdata[\"color\"], text = pdata[\"names\"],\n",
    "                                                    hoverinfo = \"none\",textposition = \"outside\",\n",
    "                                                    texttemplate = \"%{x}<br>%{y:s}\",cliponaxis = False)],\n",
    "                                     layout = go.Layout(\n",
    "                                         font = {\"size\":20},\n",
    "                                         height = 700,\n",
    "                                         xaxis = {\"showline\":False,\"tickangle\":-90, \"visible\":False},\n",
    "                                         yaxis = {\"showline\":False, \"visible\":False},\n",
    "                                        title = title + \" For: \"+ str(i.date()))))\n",
    "\n",
    "    fData = top_10(yvals)\n",
    "    \n",
    "    fig = go.Figure(\n",
    "    data = [go.Bar(x = fData[\"names\"], y = fData[\"pop\"],\n",
    "                   marker_color = fData[\"color\"],text = fData[\"names\"],\n",
    "                  hoverinfo = \"none\",textposition = \"outside\",\n",
    "                   texttemplate = \"%{x}<br>%{y:s}\",cliponaxis = False)],\n",
    "    layout=go.Layout(\n",
    "        title=title + \" For: \"+str(start.date()),\n",
    "        font = {\"size\":20},\n",
    "        height = 700,\n",
    "        xaxis = {\"showline\":False,\"tickangle\":-90, \"visible\":False},\n",
    "        yaxis = {\"showline\":False, \"visible\":False},\n",
    "        updatemenus=[dict(\n",
    "            type=\"buttons\",\n",
    "            buttons=[dict(label=\"Play\",\n",
    "                          method=\"animate\",\n",
    "                          args=[None, {\"frame\": {\"duration\": 200},\n",
    "                                \"fromcurrent\": True}]),{\n",
    "                \"args\": [[None], {\"frame\": {\"duration\": 0, \"redraw\": False},\n",
    "                                  \"mode\": \"immediate\",\n",
    "                                  \"transition\": {\"duration\": 0}}],\n",
    "                \"label\": \"Pause\",\n",
    "                \"method\": \"animate\"\n",
    "            }])]\n",
    "    ),\n",
    "    frames=list(listOfFrames)\n",
    "    )\n",
    "    fig.show()"
   ]
  },
  {
   "cell_type": "code",
   "execution_count": 11,
   "metadata": {},
   "outputs": [
    {
     "data": {
      "application/vnd.plotly.v1+json": {
       "config": {
        "plotlyServerURL": "https://plotly.com"
       },
       "data": [
        {
         "cliponaxis": false,
         "hoverinfo": "none",
         "marker": {
          "color": [
           "rgb(144,22,19)",
           "rgb(138,20,75)",
           "rgb(178,37,171)",
           "rgb(47,153,27)",
           "rgb(68,7,150)",
           "rgb(89,174,90)",
           "rgb(56,12,132)",
           "rgb(75,177,132)",
           "rgb(11,94,75)",
           "rgb(171,83,28)"
          ]
         },
         "text": [
          "Gabon",
          "Gambia",
          "Georgia",
          "Estonia",
          "Taiwan*",
          "Korea, South",
          "US",
          "Thailand",
          "Japan",
          "China"
         ],
         "textposition": "outside",
         "texttemplate": "%{x}<br>%{y:s}",
         "type": "bar",
         "x": [
          "Gabon",
          "Gambia",
          "Georgia",
          "Estonia",
          "Taiwan*",
          "Korea, South",
          "US",
          "Thailand",
          "Japan",
          "China"
         ],
         "y": [
          0,
          0,
          0,
          0,
          1,
          1,
          1,
          2,
          2,
          548
         ]
        }
       ],
       "frames": [
        {
         "data": [
          {
           "cliponaxis": false,
           "hoverinfo": "none",
           "marker": {
            "color": [
             "rgb(144,22,19)",
             "rgb(138,20,75)",
             "rgb(178,37,171)",
             "rgb(47,153,27)",
             "rgb(68,7,150)",
             "rgb(89,174,90)",
             "rgb(56,12,132)",
             "rgb(75,177,132)",
             "rgb(11,94,75)",
             "rgb(171,83,28)"
            ]
           },
           "text": [
            "Gabon",
            "Gambia",
            "Georgia",
            "Estonia",
            "Taiwan*",
            "Korea, South",
            "US",
            "Thailand",
            "Japan",
            "China"
           ],
           "textposition": "outside",
           "texttemplate": "%{x}<br>%{y:s}",
           "type": "bar",
           "x": [
            "Gabon",
            "Gambia",
            "Georgia",
            "Estonia",
            "Taiwan*",
            "Korea, South",
            "US",
            "Thailand",
            "Japan",
            "China"
           ],
           "y": [
            0,
            0,
            0,
            0,
            1,
            1,
            1,
            2,
            2,
            548
           ]
          }
         ],
         "layout": {
          "font": {
           "size": 20
          },
          "height": 700,
          "title": {
           "text": "VIZUALIZATION OF TOP 10 BY COMPARISON For: 2020-01-22"
          },
          "xaxis": {
           "showline": false,
           "tickangle": -90,
           "visible": false
          },
          "yaxis": {
           "showline": false,
           "visible": false
          }
         }
        },
        {
         "data": [
          {
           "cliponaxis": false,
           "hoverinfo": "none",
           "marker": {
            "color": [
             "rgb(178,37,171)",
             "rgb(26,108,81)",
             "rgb(56,12,132)",
             "rgb(158,137,91)",
             "rgb(68,7,150)",
             "rgb(89,174,90)",
             "rgb(184,166,163)",
             "rgb(11,94,75)",
             "rgb(75,177,132)",
             "rgb(171,83,28)"
            ]
           },
           "text": [
            "Georgia",
            "Eswatini",
            "US",
            "Singapore",
            "Taiwan*",
            "Korea, South",
            "Vietnam",
            "Japan",
            "Thailand",
            "China"
           ],
           "textposition": "outside",
           "texttemplate": "%{x}<br>%{y:s}",
           "type": "bar",
           "x": [
            "Georgia",
            "Eswatini",
            "US",
            "Singapore",
            "Taiwan*",
            "Korea, South",
            "Vietnam",
            "Japan",
            "Thailand",
            "China"
           ],
           "y": [
            0,
            0,
            1,
            1,
            1,
            1,
            2,
            2,
            3,
            643
           ]
          }
         ],
         "layout": {
          "font": {
           "size": 20
          },
          "height": 700,
          "title": {
           "text": "VIZUALIZATION OF TOP 10 BY COMPARISON For: 2020-01-23"
          },
          "xaxis": {
           "showline": false,
           "tickangle": -90,
           "visible": false
          },
          "yaxis": {
           "showline": false,
           "visible": false
          }
         }
        },
        {
         "data": [
          {
           "cliponaxis": false,
           "hoverinfo": "none",
           "marker": {
            "color": [
             "rgb(26,108,81)",
             "rgb(56,12,132)",
             "rgb(7,143,163)",
             "rgb(184,166,163)",
             "rgb(11,94,75)",
             "rgb(89,174,90)",
             "rgb(158,137,91)",
             "rgb(68,7,150)",
             "rgb(75,177,132)",
             "rgb(171,83,28)"
            ]
           },
           "text": [
            "Eswatini",
            "US",
            "France",
            "Vietnam",
            "Japan",
            "Korea, South",
            "Singapore",
            "Taiwan*",
            "Thailand",
            "China"
           ],
           "textposition": "outside",
           "texttemplate": "%{x}<br>%{y:s}",
           "type": "bar",
           "x": [
            "Eswatini",
            "US",
            "France",
            "Vietnam",
            "Japan",
            "Korea, South",
            "Singapore",
            "Taiwan*",
            "Thailand",
            "China"
           ],
           "y": [
            0,
            2,
            2,
            2,
            2,
            2,
            3,
            3,
            5,
            920
           ]
          }
         ],
         "layout": {
          "font": {
           "size": 20
          },
          "height": 700,
          "title": {
           "text": "VIZUALIZATION OF TOP 10 BY COMPARISON For: 2020-01-24"
          },
          "xaxis": {
           "showline": false,
           "tickangle": -90,
           "visible": false
          },
          "yaxis": {
           "showline": false,
           "visible": false
          }
         }
        },
        {
         "data": [
          {
           "cliponaxis": false,
           "hoverinfo": "none",
           "marker": {
            "color": [
             "rgb(56,12,132)",
             "rgb(184,166,163)",
             "rgb(11,94,75)",
             "rgb(89,174,90)",
             "rgb(149,155,76)",
             "rgb(68,7,150)",
             "rgb(158,137,91)",
             "rgb(7,143,163)",
             "rgb(75,177,132)",
             "rgb(171,83,28)"
            ]
           },
           "text": [
            "US",
            "Vietnam",
            "Japan",
            "Korea, South",
            "Malaysia",
            "Taiwan*",
            "Singapore",
            "France",
            "Thailand",
            "China"
           ],
           "textposition": "outside",
           "texttemplate": "%{x}<br>%{y:s}",
           "type": "bar",
           "x": [
            "US",
            "Vietnam",
            "Japan",
            "Korea, South",
            "Malaysia",
            "Taiwan*",
            "Singapore",
            "France",
            "Thailand",
            "China"
           ],
           "y": [
            2,
            2,
            2,
            2,
            3,
            3,
            3,
            3,
            7,
            1406
           ]
          }
         ],
         "layout": {
          "font": {
           "size": 20
          },
          "height": 700,
          "title": {
           "text": "VIZUALIZATION OF TOP 10 BY COMPARISON For: 2020-01-25"
          },
          "xaxis": {
           "showline": false,
           "tickangle": -90,
           "visible": false
          },
          "yaxis": {
           "showline": false,
           "visible": false
          }
         }
        },
        {
         "data": [
          {
           "cliponaxis": false,
           "hoverinfo": "none",
           "marker": {
            "color": [
             "rgb(7,143,163)",
             "rgb(89,174,90)",
             "rgb(68,7,150)",
             "rgb(149,155,76)",
             "rgb(133,42,184)",
             "rgb(158,137,91)",
             "rgb(11,94,75)",
             "rgb(56,12,132)",
             "rgb(75,177,132)",
             "rgb(171,83,28)"
            ]
           },
           "text": [
            "France",
            "Korea, South",
            "Taiwan*",
            "Malaysia",
            "Australia",
            "Singapore",
            "Japan",
            "US",
            "Thailand",
            "China"
           ],
           "textposition": "outside",
           "texttemplate": "%{x}<br>%{y:s}",
           "type": "bar",
           "x": [
            "France",
            "Korea, South",
            "Taiwan*",
            "Malaysia",
            "Australia",
            "Singapore",
            "Japan",
            "US",
            "Thailand",
            "China"
           ],
           "y": [
            3,
            3,
            4,
            4,
            4,
            4,
            4,
            5,
            8,
            2075
           ]
          }
         ],
         "layout": {
          "font": {
           "size": 20
          },
          "height": 700,
          "title": {
           "text": "VIZUALIZATION OF TOP 10 BY COMPARISON For: 2020-01-26"
          },
          "xaxis": {
           "showline": false,
           "tickangle": -90,
           "visible": false
          },
          "yaxis": {
           "showline": false,
           "visible": false
          }
         }
        },
        {
         "data": [
          {
           "cliponaxis": false,
           "hoverinfo": "none",
           "marker": {
            "color": [
             "rgb(7,143,163)",
             "rgb(89,174,90)",
             "rgb(11,94,75)",
             "rgb(149,155,76)",
             "rgb(56,12,132)",
             "rgb(68,7,150)",
             "rgb(158,137,91)",
             "rgb(133,42,184)",
             "rgb(75,177,132)",
             "rgb(171,83,28)"
            ]
           },
           "text": [
            "France",
            "Korea, South",
            "Japan",
            "Malaysia",
            "US",
            "Taiwan*",
            "Singapore",
            "Australia",
            "Thailand",
            "China"
           ],
           "textposition": "outside",
           "texttemplate": "%{x}<br>%{y:s}",
           "type": "bar",
           "x": [
            "France",
            "Korea, South",
            "Japan",
            "Malaysia",
            "US",
            "Taiwan*",
            "Singapore",
            "Australia",
            "Thailand",
            "China"
           ],
           "y": [
            3,
            4,
            4,
            4,
            5,
            5,
            5,
            5,
            8,
            2877
           ]
          }
         ],
         "layout": {
          "font": {
           "size": 20
          },
          "height": 700,
          "title": {
           "text": "VIZUALIZATION OF TOP 10 BY COMPARISON For: 2020-01-27"
          },
          "xaxis": {
           "showline": false,
           "tickangle": -90,
           "visible": false
          },
          "yaxis": {
           "showline": false,
           "visible": false
          }
         }
        },
        {
         "data": [
          {
           "cliponaxis": false,
           "hoverinfo": "none",
           "marker": {
            "color": [
             "rgb(89,174,90)",
             "rgb(7,143,163)",
             "rgb(120,115,121)",
             "rgb(133,42,184)",
             "rgb(56,12,132)",
             "rgb(11,94,75)",
             "rgb(158,137,91)",
             "rgb(68,7,150)",
             "rgb(75,177,132)",
             "rgb(171,83,28)"
            ]
           },
           "text": [
            "Korea, South",
            "France",
            "Germany",
            "Australia",
            "US",
            "Japan",
            "Singapore",
            "Taiwan*",
            "Thailand",
            "China"
           ],
           "textposition": "outside",
           "texttemplate": "%{x}<br>%{y:s}",
           "type": "bar",
           "x": [
            "Korea, South",
            "France",
            "Germany",
            "Australia",
            "US",
            "Japan",
            "Singapore",
            "Taiwan*",
            "Thailand",
            "China"
           ],
           "y": [
            4,
            4,
            4,
            5,
            5,
            7,
            7,
            8,
            14,
            5509
           ]
          }
         ],
         "layout": {
          "font": {
           "size": 20
          },
          "height": 700,
          "title": {
           "text": "VIZUALIZATION OF TOP 10 BY COMPARISON For: 2020-01-28"
          },
          "xaxis": {
           "showline": false,
           "tickangle": -90,
           "visible": false
          },
          "yaxis": {
           "showline": false,
           "visible": false
          }
         }
        },
        {
         "data": [
          {
           "cliponaxis": false,
           "hoverinfo": "none",
           "marker": {
            "color": [
             "rgb(120,115,121)",
             "rgb(7,143,163)",
             "rgb(56,12,132)",
             "rgb(133,42,184)",
             "rgb(11,94,75)",
             "rgb(149,155,76)",
             "rgb(158,137,91)",
             "rgb(68,7,150)",
             "rgb(75,177,132)",
             "rgb(171,83,28)"
            ]
           },
           "text": [
            "Germany",
            "France",
            "US",
            "Australia",
            "Japan",
            "Malaysia",
            "Singapore",
            "Taiwan*",
            "Thailand",
            "China"
           ],
           "textposition": "outside",
           "texttemplate": "%{x}<br>%{y:s}",
           "type": "bar",
           "x": [
            "Germany",
            "France",
            "US",
            "Australia",
            "Japan",
            "Malaysia",
            "Singapore",
            "Taiwan*",
            "Thailand",
            "China"
           ],
           "y": [
            4,
            5,
            5,
            6,
            7,
            7,
            7,
            8,
            14,
            6087
           ]
          }
         ],
         "layout": {
          "font": {
           "size": 20
          },
          "height": 700,
          "title": {
           "text": "VIZUALIZATION OF TOP 10 BY COMPARISON For: 2020-01-29"
          },
          "xaxis": {
           "showline": false,
           "tickangle": -90,
           "visible": false
          },
          "yaxis": {
           "showline": false,
           "visible": false
          }
         }
        },
        {
         "data": [
          {
           "cliponaxis": false,
           "hoverinfo": "none",
           "marker": {
            "color": [
             "rgb(181,56,150)",
             "rgb(7,143,163)",
             "rgb(56,12,132)",
             "rgb(149,155,76)",
             "rgb(133,42,184)",
             "rgb(68,7,150)",
             "rgb(158,137,91)",
             "rgb(11,94,75)",
             "rgb(75,177,132)",
             "rgb(171,83,28)"
            ]
           },
           "text": [
            "United Arab Emirates",
            "France",
            "US",
            "Malaysia",
            "Australia",
            "Taiwan*",
            "Singapore",
            "Japan",
            "Thailand",
            "China"
           ],
           "textposition": "outside",
           "texttemplate": "%{x}<br>%{y:s}",
           "type": "bar",
           "x": [
            "United Arab Emirates",
            "France",
            "US",
            "Malaysia",
            "Australia",
            "Taiwan*",
            "Singapore",
            "Japan",
            "Thailand",
            "China"
           ],
           "y": [
            4,
            5,
            5,
            8,
            9,
            9,
            10,
            11,
            14,
            8141
           ]
          }
         ],
         "layout": {
          "font": {
           "size": 20
          },
          "height": 700,
          "title": {
           "text": "VIZUALIZATION OF TOP 10 BY COMPARISON For: 2020-01-30"
          },
          "xaxis": {
           "showline": false,
           "tickangle": -90,
           "visible": false
          },
          "yaxis": {
           "showline": false,
           "visible": false
          }
         }
        },
        {
         "data": [
          {
           "cliponaxis": false,
           "hoverinfo": "none",
           "marker": {
            "color": [
             "rgb(7,143,163)",
             "rgb(56,12,132)",
             "rgb(149,155,76)",
             "rgb(133,42,184)",
             "rgb(68,7,150)",
             "rgb(89,174,90)",
             "rgb(158,137,91)",
             "rgb(11,94,75)",
             "rgb(75,177,132)",
             "rgb(171,83,28)"
            ]
           },
           "text": [
            "France",
            "US",
            "Malaysia",
            "Australia",
            "Taiwan*",
            "Korea, South",
            "Singapore",
            "Japan",
            "Thailand",
            "China"
           ],
           "textposition": "outside",
           "texttemplate": "%{x}<br>%{y:s}",
           "type": "bar",
           "x": [
            "France",
            "US",
            "Malaysia",
            "Australia",
            "Taiwan*",
            "Korea, South",
            "Singapore",
            "Japan",
            "Thailand",
            "China"
           ],
           "y": [
            5,
            7,
            8,
            9,
            10,
            11,
            13,
            15,
            19,
            9802
           ]
          }
         ],
         "layout": {
          "font": {
           "size": 20
          },
          "height": 700,
          "title": {
           "text": "VIZUALIZATION OF TOP 10 BY COMPARISON For: 2020-01-31"
          },
          "xaxis": {
           "showline": false,
           "tickangle": -90,
           "visible": false
          },
          "yaxis": {
           "showline": false,
           "visible": false
          }
         }
        },
        {
         "data": [
          {
           "cliponaxis": false,
           "hoverinfo": "none",
           "marker": {
            "color": [
             "rgb(120,115,121)",
             "rgb(149,155,76)",
             "rgb(56,12,132)",
             "rgb(68,7,150)",
             "rgb(133,42,184)",
             "rgb(89,174,90)",
             "rgb(158,137,91)",
             "rgb(75,177,132)",
             "rgb(11,94,75)",
             "rgb(171,83,28)"
            ]
           },
           "text": [
            "Germany",
            "Malaysia",
            "US",
            "Taiwan*",
            "Australia",
            "Korea, South",
            "Singapore",
            "Thailand",
            "Japan",
            "China"
           ],
           "textposition": "outside",
           "texttemplate": "%{x}<br>%{y:s}",
           "type": "bar",
           "x": [
            "Germany",
            "Malaysia",
            "US",
            "Taiwan*",
            "Australia",
            "Korea, South",
            "Singapore",
            "Thailand",
            "Japan",
            "China"
           ],
           "y": [
            8,
            8,
            8,
            10,
            12,
            12,
            16,
            19,
            20,
            11891
           ]
          }
         ],
         "layout": {
          "font": {
           "size": 20
          },
          "height": 700,
          "title": {
           "text": "VIZUALIZATION OF TOP 10 BY COMPARISON For: 2020-02-01"
          },
          "xaxis": {
           "showline": false,
           "tickangle": -90,
           "visible": false
          },
          "yaxis": {
           "showline": false,
           "visible": false
          }
         }
        },
        {
         "data": [
          {
           "cliponaxis": false,
           "hoverinfo": "none",
           "marker": {
            "color": [
             "rgb(56,12,132)",
             "rgb(149,155,76)",
             "rgb(120,115,121)",
             "rgb(68,7,150)",
             "rgb(133,42,184)",
             "rgb(89,174,90)",
             "rgb(158,137,91)",
             "rgb(75,177,132)",
             "rgb(11,94,75)",
             "rgb(171,83,28)"
            ]
           },
           "text": [
            "US",
            "Malaysia",
            "Germany",
            "Taiwan*",
            "Australia",
            "Korea, South",
            "Singapore",
            "Thailand",
            "Japan",
            "China"
           ],
           "textposition": "outside",
           "texttemplate": "%{x}<br>%{y:s}",
           "type": "bar",
           "x": [
            "US",
            "Malaysia",
            "Germany",
            "Taiwan*",
            "Australia",
            "Korea, South",
            "Singapore",
            "Thailand",
            "Japan",
            "China"
           ],
           "y": [
            8,
            8,
            10,
            10,
            12,
            15,
            18,
            19,
            20,
            16630
           ]
          }
         ],
         "layout": {
          "font": {
           "size": 20
          },
          "height": 700,
          "title": {
           "text": "VIZUALIZATION OF TOP 10 BY COMPARISON For: 2020-02-02"
          },
          "xaxis": {
           "showline": false,
           "tickangle": -90,
           "visible": false
          },
          "yaxis": {
           "showline": false,
           "visible": false
          }
         }
        },
        {
         "data": [
          {
           "cliponaxis": false,
           "hoverinfo": "none",
           "marker": {
            "color": [
             "rgb(149,155,76)",
             "rgb(68,7,150)",
             "rgb(56,12,132)",
             "rgb(133,42,184)",
             "rgb(120,115,121)",
             "rgb(89,174,90)",
             "rgb(158,137,91)",
             "rgb(75,177,132)",
             "rgb(11,94,75)",
             "rgb(171,83,28)"
            ]
           },
           "text": [
            "Malaysia",
            "Taiwan*",
            "US",
            "Australia",
            "Germany",
            "Korea, South",
            "Singapore",
            "Thailand",
            "Japan",
            "China"
           ],
           "textposition": "outside",
           "texttemplate": "%{x}<br>%{y:s}",
           "type": "bar",
           "x": [
            "Malaysia",
            "Taiwan*",
            "US",
            "Australia",
            "Germany",
            "Korea, South",
            "Singapore",
            "Thailand",
            "Japan",
            "China"
           ],
           "y": [
            8,
            10,
            11,
            12,
            12,
            15,
            18,
            19,
            20,
            19716
           ]
          }
         ],
         "layout": {
          "font": {
           "size": 20
          },
          "height": 700,
          "title": {
           "text": "VIZUALIZATION OF TOP 10 BY COMPARISON For: 2020-02-03"
          },
          "xaxis": {
           "showline": false,
           "tickangle": -90,
           "visible": false
          },
          "yaxis": {
           "showline": false,
           "visible": false
          }
         }
        },
        {
         "data": [
          {
           "cliponaxis": false,
           "hoverinfo": "none",
           "marker": {
            "color": [
             "rgb(149,155,76)",
             "rgb(56,12,132)",
             "rgb(68,7,150)",
             "rgb(120,115,121)",
             "rgb(133,42,184)",
             "rgb(89,174,90)",
             "rgb(11,94,75)",
             "rgb(158,137,91)",
             "rgb(75,177,132)",
             "rgb(171,83,28)"
            ]
           },
           "text": [
            "Malaysia",
            "US",
            "Taiwan*",
            "Germany",
            "Australia",
            "Korea, South",
            "Japan",
            "Singapore",
            "Thailand",
            "China"
           ],
           "textposition": "outside",
           "texttemplate": "%{x}<br>%{y:s}",
           "type": "bar",
           "x": [
            "Malaysia",
            "US",
            "Taiwan*",
            "Germany",
            "Australia",
            "Korea, South",
            "Japan",
            "Singapore",
            "Thailand",
            "China"
           ],
           "y": [
            10,
            11,
            11,
            12,
            13,
            16,
            22,
            24,
            25,
            23707
           ]
          }
         ],
         "layout": {
          "font": {
           "size": 20
          },
          "height": 700,
          "title": {
           "text": "VIZUALIZATION OF TOP 10 BY COMPARISON For: 2020-02-04"
          },
          "xaxis": {
           "showline": false,
           "tickangle": -90,
           "visible": false
          },
          "yaxis": {
           "showline": false,
           "visible": false
          }
         }
        },
        {
         "data": [
          {
           "cliponaxis": false,
           "hoverinfo": "none",
           "marker": {
            "color": [
             "rgb(56,12,132)",
             "rgb(68,7,150)",
             "rgb(120,115,121)",
             "rgb(149,155,76)",
             "rgb(133,42,184)",
             "rgb(89,174,90)",
             "rgb(11,94,75)",
             "rgb(75,177,132)",
             "rgb(158,137,91)",
             "rgb(171,83,28)"
            ]
           },
           "text": [
            "US",
            "Taiwan*",
            "Germany",
            "Malaysia",
            "Australia",
            "Korea, South",
            "Japan",
            "Thailand",
            "Singapore",
            "China"
           ],
           "textposition": "outside",
           "texttemplate": "%{x}<br>%{y:s}",
           "type": "bar",
           "x": [
            "US",
            "Taiwan*",
            "Germany",
            "Malaysia",
            "Australia",
            "Korea, South",
            "Japan",
            "Thailand",
            "Singapore",
            "China"
           ],
           "y": [
            11,
            11,
            12,
            12,
            13,
            19,
            23,
            25,
            28,
            27440
           ]
          }
         ],
         "layout": {
          "font": {
           "size": 20
          },
          "height": 700,
          "title": {
           "text": "VIZUALIZATION OF TOP 10 BY COMPARISON For: 2020-02-05"
          },
          "xaxis": {
           "showline": false,
           "tickangle": -90,
           "visible": false
          },
          "yaxis": {
           "showline": false,
           "visible": false
          }
         }
        },
        {
         "data": [
          {
           "cliponaxis": false,
           "hoverinfo": "none",
           "marker": {
            "color": [
             "rgb(56,12,132)",
             "rgb(120,115,121)",
             "rgb(149,155,76)",
             "rgb(133,42,184)",
             "rgb(68,7,150)",
             "rgb(89,174,90)",
             "rgb(11,94,75)",
             "rgb(75,177,132)",
             "rgb(158,137,91)",
             "rgb(171,83,28)"
            ]
           },
           "text": [
            "US",
            "Germany",
            "Malaysia",
            "Australia",
            "Taiwan*",
            "Korea, South",
            "Japan",
            "Thailand",
            "Singapore",
            "China"
           ],
           "textposition": "outside",
           "texttemplate": "%{x}<br>%{y:s}",
           "type": "bar",
           "x": [
            "US",
            "Germany",
            "Malaysia",
            "Australia",
            "Taiwan*",
            "Korea, South",
            "Japan",
            "Thailand",
            "Singapore",
            "China"
           ],
           "y": [
            11,
            12,
            12,
            14,
            16,
            23,
            23,
            25,
            28,
            30587
           ]
          }
         ],
         "layout": {
          "font": {
           "size": 20
          },
          "height": 700,
          "title": {
           "text": "VIZUALIZATION OF TOP 10 BY COMPARISON For: 2020-02-06"
          },
          "xaxis": {
           "showline": false,
           "tickangle": -90,
           "visible": false
          },
          "yaxis": {
           "showline": false,
           "visible": false
          }
         }
        },
        {
         "data": [
          {
           "cliponaxis": false,
           "hoverinfo": "none",
           "marker": {
            "color": [
             "rgb(149,155,76)",
             "rgb(120,115,121)",
             "rgb(133,42,184)",
             "rgb(68,7,150)",
             "rgb(11,94,75)",
             "rgb(89,174,90)",
             "rgb(75,177,132)",
             "rgb(158,137,91)",
             "rgb(6,158,133)",
             "rgb(171,83,28)"
            ]
           },
           "text": [
            "Malaysia",
            "Germany",
            "Australia",
            "Taiwan*",
            "Japan",
            "Korea, South",
            "Thailand",
            "Singapore",
            "Diamond Princess",
            "China"
           ],
           "textposition": "outside",
           "texttemplate": "%{x}<br>%{y:s}",
           "type": "bar",
           "x": [
            "Malaysia",
            "Germany",
            "Australia",
            "Taiwan*",
            "Japan",
            "Korea, South",
            "Thailand",
            "Singapore",
            "Diamond Princess",
            "China"
           ],
           "y": [
            12,
            13,
            15,
            16,
            23,
            24,
            25,
            30,
            61,
            34110
           ]
          }
         ],
         "layout": {
          "font": {
           "size": 20
          },
          "height": 700,
          "title": {
           "text": "VIZUALIZATION OF TOP 10 BY COMPARISON For: 2020-02-07"
          },
          "xaxis": {
           "showline": false,
           "tickangle": -90,
           "visible": false
          },
          "yaxis": {
           "showline": false,
           "visible": false
          }
         }
        },
        {
         "data": [
          {
           "cliponaxis": false,
           "hoverinfo": "none",
           "marker": {
            "color": [
             "rgb(120,115,121)",
             "rgb(133,42,184)",
             "rgb(149,155,76)",
             "rgb(68,7,150)",
             "rgb(11,94,75)",
             "rgb(89,174,90)",
             "rgb(75,177,132)",
             "rgb(158,137,91)",
             "rgb(6,158,133)",
             "rgb(171,83,28)"
            ]
           },
           "text": [
            "Germany",
            "Australia",
            "Malaysia",
            "Taiwan*",
            "Japan",
            "Korea, South",
            "Thailand",
            "Singapore",
            "Diamond Princess",
            "China"
           ],
           "textposition": "outside",
           "texttemplate": "%{x}<br>%{y:s}",
           "type": "bar",
           "x": [
            "Germany",
            "Australia",
            "Malaysia",
            "Taiwan*",
            "Japan",
            "Korea, South",
            "Thailand",
            "Singapore",
            "Diamond Princess",
            "China"
           ],
           "y": [
            13,
            15,
            16,
            17,
            24,
            24,
            32,
            33,
            61,
            36814
           ]
          }
         ],
         "layout": {
          "font": {
           "size": 20
          },
          "height": 700,
          "title": {
           "text": "VIZUALIZATION OF TOP 10 BY COMPARISON For: 2020-02-08"
          },
          "xaxis": {
           "showline": false,
           "tickangle": -90,
           "visible": false
          },
          "yaxis": {
           "showline": false,
           "visible": false
          }
         }
        },
        {
         "data": [
          {
           "cliponaxis": false,
           "hoverinfo": "none",
           "marker": {
            "color": [
             "rgb(120,115,121)",
             "rgb(133,42,184)",
             "rgb(149,155,76)",
             "rgb(68,7,150)",
             "rgb(11,94,75)",
             "rgb(89,174,90)",
             "rgb(75,177,132)",
             "rgb(158,137,91)",
             "rgb(6,158,133)",
             "rgb(171,83,28)"
            ]
           },
           "text": [
            "Germany",
            "Australia",
            "Malaysia",
            "Taiwan*",
            "Japan",
            "Korea, South",
            "Thailand",
            "Singapore",
            "Diamond Princess",
            "China"
           ],
           "textposition": "outside",
           "texttemplate": "%{x}<br>%{y:s}",
           "type": "bar",
           "x": [
            "Germany",
            "Australia",
            "Malaysia",
            "Taiwan*",
            "Japan",
            "Korea, South",
            "Thailand",
            "Singapore",
            "Diamond Princess",
            "China"
           ],
           "y": [
            14,
            15,
            16,
            18,
            24,
            25,
            32,
            40,
            64,
            39829
           ]
          }
         ],
         "layout": {
          "font": {
           "size": 20
          },
          "height": 700,
          "title": {
           "text": "VIZUALIZATION OF TOP 10 BY COMPARISON For: 2020-02-09"
          },
          "xaxis": {
           "showline": false,
           "tickangle": -90,
           "visible": false
          },
          "yaxis": {
           "showline": false,
           "visible": false
          }
         }
        },
        {
         "data": [
          {
           "cliponaxis": false,
           "hoverinfo": "none",
           "marker": {
            "color": [
             "rgb(120,115,121)",
             "rgb(133,42,184)",
             "rgb(68,7,150)",
             "rgb(149,155,76)",
             "rgb(11,94,75)",
             "rgb(89,174,90)",
             "rgb(75,177,132)",
             "rgb(158,137,91)",
             "rgb(6,158,133)",
             "rgb(171,83,28)"
            ]
           },
           "text": [
            "Germany",
            "Australia",
            "Taiwan*",
            "Malaysia",
            "Japan",
            "Korea, South",
            "Thailand",
            "Singapore",
            "Diamond Princess",
            "China"
           ],
           "textposition": "outside",
           "texttemplate": "%{x}<br>%{y:s}",
           "type": "bar",
           "x": [
            "Germany",
            "Australia",
            "Taiwan*",
            "Malaysia",
            "Japan",
            "Korea, South",
            "Thailand",
            "Singapore",
            "Diamond Princess",
            "China"
           ],
           "y": [
            14,
            15,
            18,
            18,
            26,
            27,
            32,
            45,
            135,
            42354
           ]
          }
         ],
         "layout": {
          "font": {
           "size": 20
          },
          "height": 700,
          "title": {
           "text": "VIZUALIZATION OF TOP 10 BY COMPARISON For: 2020-02-10"
          },
          "xaxis": {
           "showline": false,
           "tickangle": -90,
           "visible": false
          },
          "yaxis": {
           "showline": false,
           "visible": false
          }
         }
        },
        {
         "data": [
          {
           "cliponaxis": false,
           "hoverinfo": "none",
           "marker": {
            "color": [
             "rgb(129,168,167)",
             "rgb(120,115,121)",
             "rgb(68,7,150)",
             "rgb(149,155,76)",
             "rgb(11,94,75)",
             "rgb(89,174,90)",
             "rgb(75,177,132)",
             "rgb(158,137,91)",
             "rgb(6,158,133)",
             "rgb(171,83,28)"
            ]
           },
           "text": [
            "United Kingdom",
            "Germany",
            "Taiwan*",
            "Malaysia",
            "Japan",
            "Korea, South",
            "Thailand",
            "Singapore",
            "Diamond Princess",
            "China"
           ],
           "textposition": "outside",
           "texttemplate": "%{x}<br>%{y:s}",
           "type": "bar",
           "x": [
            "United Kingdom",
            "Germany",
            "Taiwan*",
            "Malaysia",
            "Japan",
            "Korea, South",
            "Thailand",
            "Singapore",
            "Diamond Princess",
            "China"
           ],
           "y": [
            15,
            16,
            18,
            18,
            27,
            28,
            33,
            47,
            135,
            44386
           ]
          }
         ],
         "layout": {
          "font": {
           "size": 20
          },
          "height": 700,
          "title": {
           "text": "VIZUALIZATION OF TOP 10 BY COMPARISON For: 2020-02-11"
          },
          "xaxis": {
           "showline": false,
           "tickangle": -90,
           "visible": false
          },
          "yaxis": {
           "showline": false,
           "visible": false
          }
         }
        },
        {
         "data": [
          {
           "cliponaxis": false,
           "hoverinfo": "none",
           "marker": {
            "color": [
             "rgb(129,168,167)",
             "rgb(120,115,121)",
             "rgb(68,7,150)",
             "rgb(149,155,76)",
             "rgb(11,94,75)",
             "rgb(89,174,90)",
             "rgb(75,177,132)",
             "rgb(158,137,91)",
             "rgb(6,158,133)",
             "rgb(171,83,28)"
            ]
           },
           "text": [
            "United Kingdom",
            "Germany",
            "Taiwan*",
            "Malaysia",
            "Japan",
            "Korea, South",
            "Thailand",
            "Singapore",
            "Diamond Princess",
            "China"
           ],
           "textposition": "outside",
           "texttemplate": "%{x}<br>%{y:s}",
           "type": "bar",
           "x": [
            "United Kingdom",
            "Germany",
            "Taiwan*",
            "Malaysia",
            "Japan",
            "Korea, South",
            "Thailand",
            "Singapore",
            "Diamond Princess",
            "China"
           ],
           "y": [
            16,
            16,
            18,
            18,
            28,
            28,
            33,
            50,
            175,
            44759
           ]
          }
         ],
         "layout": {
          "font": {
           "size": 20
          },
          "height": 700,
          "title": {
           "text": "VIZUALIZATION OF TOP 10 BY COMPARISON For: 2020-02-12"
          },
          "xaxis": {
           "showline": false,
           "tickangle": -90,
           "visible": false
          },
          "yaxis": {
           "showline": false,
           "visible": false
          }
         }
        },
        {
         "data": [
          {
           "cliponaxis": false,
           "hoverinfo": "none",
           "marker": {
            "color": [
             "rgb(120,115,121)",
             "rgb(129,168,167)",
             "rgb(68,7,150)",
             "rgb(149,155,76)",
             "rgb(89,174,90)",
             "rgb(11,94,75)",
             "rgb(75,177,132)",
             "rgb(158,137,91)",
             "rgb(6,158,133)",
             "rgb(171,83,28)"
            ]
           },
           "text": [
            "Germany",
            "United Kingdom",
            "Taiwan*",
            "Malaysia",
            "Korea, South",
            "Japan",
            "Thailand",
            "Singapore",
            "Diamond Princess",
            "China"
           ],
           "textposition": "outside",
           "texttemplate": "%{x}<br>%{y:s}",
           "type": "bar",
           "x": [
            "Germany",
            "United Kingdom",
            "Taiwan*",
            "Malaysia",
            "Korea, South",
            "Japan",
            "Thailand",
            "Singapore",
            "Diamond Princess",
            "China"
           ],
           "y": [
            16,
            17,
            18,
            19,
            28,
            33,
            33,
            58,
            175,
            59895
           ]
          }
         ],
         "layout": {
          "font": {
           "size": 20
          },
          "height": 700,
          "title": {
           "text": "VIZUALIZATION OF TOP 10 BY COMPARISON For: 2020-02-13"
          },
          "xaxis": {
           "showline": false,
           "tickangle": -90,
           "visible": false
          },
          "yaxis": {
           "showline": false,
           "visible": false
          }
         }
        },
        {
         "data": [
          {
           "cliponaxis": false,
           "hoverinfo": "none",
           "marker": {
            "color": [
             "rgb(120,115,121)",
             "rgb(129,168,167)",
             "rgb(68,7,150)",
             "rgb(149,155,76)",
             "rgb(89,174,90)",
             "rgb(75,177,132)",
             "rgb(11,94,75)",
             "rgb(158,137,91)",
             "rgb(6,158,133)",
             "rgb(171,83,28)"
            ]
           },
           "text": [
            "Germany",
            "United Kingdom",
            "Taiwan*",
            "Malaysia",
            "Korea, South",
            "Thailand",
            "Japan",
            "Singapore",
            "Diamond Princess",
            "China"
           ],
           "textposition": "outside",
           "texttemplate": "%{x}<br>%{y:s}",
           "type": "bar",
           "x": [
            "Germany",
            "United Kingdom",
            "Taiwan*",
            "Malaysia",
            "Korea, South",
            "Thailand",
            "Japan",
            "Singapore",
            "Diamond Princess",
            "China"
           ],
           "y": [
            16,
            18,
            18,
            19,
            28,
            33,
            43,
            67,
            218,
            66358
           ]
          }
         ],
         "layout": {
          "font": {
           "size": 20
          },
          "height": 700,
          "title": {
           "text": "VIZUALIZATION OF TOP 10 BY COMPARISON For: 2020-02-14"
          },
          "xaxis": {
           "showline": false,
           "tickangle": -90,
           "visible": false
          },
          "yaxis": {
           "showline": false,
           "visible": false
          }
         }
        },
        {
         "data": [
          {
           "cliponaxis": false,
           "hoverinfo": "none",
           "marker": {
            "color": [
             "rgb(120,115,121)",
             "rgb(129,168,167)",
             "rgb(68,7,150)",
             "rgb(149,155,76)",
             "rgb(89,174,90)",
             "rgb(75,177,132)",
             "rgb(11,94,75)",
             "rgb(158,137,91)",
             "rgb(6,158,133)",
             "rgb(171,83,28)"
            ]
           },
           "text": [
            "Germany",
            "United Kingdom",
            "Taiwan*",
            "Malaysia",
            "Korea, South",
            "Thailand",
            "Japan",
            "Singapore",
            "Diamond Princess",
            "China"
           ],
           "textposition": "outside",
           "texttemplate": "%{x}<br>%{y:s}",
           "type": "bar",
           "x": [
            "Germany",
            "United Kingdom",
            "Taiwan*",
            "Malaysia",
            "Korea, South",
            "Thailand",
            "Japan",
            "Singapore",
            "Diamond Princess",
            "China"
           ],
           "y": [
            16,
            18,
            18,
            22,
            28,
            33,
            54,
            72,
            285,
            68413
           ]
          }
         ],
         "layout": {
          "font": {
           "size": 20
          },
          "height": 700,
          "title": {
           "text": "VIZUALIZATION OF TOP 10 BY COMPARISON For: 2020-02-15"
          },
          "xaxis": {
           "showline": false,
           "tickangle": -90,
           "visible": false
          },
          "yaxis": {
           "showline": false,
           "visible": false
          }
         }
        },
        {
         "data": [
          {
           "cliponaxis": false,
           "hoverinfo": "none",
           "marker": {
            "color": [
             "rgb(120,115,121)",
             "rgb(129,168,167)",
             "rgb(68,7,150)",
             "rgb(149,155,76)",
             "rgb(89,174,90)",
             "rgb(75,177,132)",
             "rgb(11,94,75)",
             "rgb(158,137,91)",
             "rgb(6,158,133)",
             "rgb(171,83,28)"
            ]
           },
           "text": [
            "Germany",
            "United Kingdom",
            "Taiwan*",
            "Malaysia",
            "Korea, South",
            "Thailand",
            "Japan",
            "Singapore",
            "Diamond Princess",
            "China"
           ],
           "textposition": "outside",
           "texttemplate": "%{x}<br>%{y:s}",
           "type": "bar",
           "x": [
            "Germany",
            "United Kingdom",
            "Taiwan*",
            "Malaysia",
            "Korea, South",
            "Thailand",
            "Japan",
            "Singapore",
            "Diamond Princess",
            "China"
           ],
           "y": [
            16,
            18,
            20,
            22,
            29,
            34,
            60,
            75,
            355,
            70513
           ]
          }
         ],
         "layout": {
          "font": {
           "size": 20
          },
          "height": 700,
          "title": {
           "text": "VIZUALIZATION OF TOP 10 BY COMPARISON For: 2020-02-16"
          },
          "xaxis": {
           "showline": false,
           "tickangle": -90,
           "visible": false
          },
          "yaxis": {
           "showline": false,
           "visible": false
          }
         }
        },
        {
         "data": [
          {
           "cliponaxis": false,
           "hoverinfo": "none",
           "marker": {
            "color": [
             "rgb(120,115,121)",
             "rgb(129,168,167)",
             "rgb(149,155,76)",
             "rgb(68,7,150)",
             "rgb(89,174,90)",
             "rgb(75,177,132)",
             "rgb(11,94,75)",
             "rgb(158,137,91)",
             "rgb(6,158,133)",
             "rgb(171,83,28)"
            ]
           },
           "text": [
            "Germany",
            "United Kingdom",
            "Malaysia",
            "Taiwan*",
            "Korea, South",
            "Thailand",
            "Japan",
            "Singapore",
            "Diamond Princess",
            "China"
           ],
           "textposition": "outside",
           "texttemplate": "%{x}<br>%{y:s}",
           "type": "bar",
           "x": [
            "Germany",
            "United Kingdom",
            "Malaysia",
            "Taiwan*",
            "Korea, South",
            "Thailand",
            "Japan",
            "Singapore",
            "Diamond Princess",
            "China"
           ],
           "y": [
            16,
            19,
            22,
            22,
            30,
            35,
            67,
            77,
            454,
            72434
           ]
          }
         ],
         "layout": {
          "font": {
           "size": 20
          },
          "height": 700,
          "title": {
           "text": "VIZUALIZATION OF TOP 10 BY COMPARISON For: 2020-02-17"
          },
          "xaxis": {
           "showline": false,
           "tickangle": -90,
           "visible": false
          },
          "yaxis": {
           "showline": false,
           "visible": false
          }
         }
        },
        {
         "data": [
          {
           "cliponaxis": false,
           "hoverinfo": "none",
           "marker": {
            "color": [
             "rgb(120,115,121)",
             "rgb(129,168,167)",
             "rgb(149,155,76)",
             "rgb(68,7,150)",
             "rgb(89,174,90)",
             "rgb(75,177,132)",
             "rgb(11,94,75)",
             "rgb(158,137,91)",
             "rgb(6,158,133)",
             "rgb(171,83,28)"
            ]
           },
           "text": [
            "Germany",
            "United Kingdom",
            "Malaysia",
            "Taiwan*",
            "Korea, South",
            "Thailand",
            "Japan",
            "Singapore",
            "Diamond Princess",
            "China"
           ],
           "textposition": "outside",
           "texttemplate": "%{x}<br>%{y:s}",
           "type": "bar",
           "x": [
            "Germany",
            "United Kingdom",
            "Malaysia",
            "Taiwan*",
            "Korea, South",
            "Thailand",
            "Japan",
            "Singapore",
            "Diamond Princess",
            "China"
           ],
           "y": [
            16,
            19,
            22,
            22,
            31,
            35,
            79,
            81,
            542,
            74211
           ]
          }
         ],
         "layout": {
          "font": {
           "size": 20
          },
          "height": 700,
          "title": {
           "text": "VIZUALIZATION OF TOP 10 BY COMPARISON For: 2020-02-18"
          },
          "xaxis": {
           "showline": false,
           "tickangle": -90,
           "visible": false
          },
          "yaxis": {
           "showline": false,
           "visible": false
          }
         }
        },
        {
         "data": [
          {
           "cliponaxis": false,
           "hoverinfo": "none",
           "marker": {
            "color": [
             "rgb(184,166,163)",
             "rgb(129,168,167)",
             "rgb(149,155,76)",
             "rgb(68,7,150)",
             "rgb(89,174,90)",
             "rgb(75,177,132)",
             "rgb(158,137,91)",
             "rgb(11,94,75)",
             "rgb(6,158,133)",
             "rgb(171,83,28)"
            ]
           },
           "text": [
            "Vietnam",
            "United Kingdom",
            "Malaysia",
            "Taiwan*",
            "Korea, South",
            "Thailand",
            "Singapore",
            "Japan",
            "Diamond Princess",
            "China"
           ],
           "textposition": "outside",
           "texttemplate": "%{x}<br>%{y:s}",
           "type": "bar",
           "x": [
            "Vietnam",
            "United Kingdom",
            "Malaysia",
            "Taiwan*",
            "Korea, South",
            "Thailand",
            "Singapore",
            "Japan",
            "Diamond Princess",
            "China"
           ],
           "y": [
            16,
            20,
            22,
            23,
            31,
            35,
            84,
            85,
            621,
            74619
           ]
          }
         ],
         "layout": {
          "font": {
           "size": 20
          },
          "height": 700,
          "title": {
           "text": "VIZUALIZATION OF TOP 10 BY COMPARISON For: 2020-02-19"
          },
          "xaxis": {
           "showline": false,
           "tickangle": -90,
           "visible": false
          },
          "yaxis": {
           "showline": false,
           "visible": false
          }
         }
        },
        {
         "data": [
          {
           "cliponaxis": false,
           "hoverinfo": "none",
           "marker": {
            "color": [
             "rgb(184,166,163)",
             "rgb(129,168,167)",
             "rgb(149,155,76)",
             "rgb(68,7,150)",
             "rgb(75,177,132)",
             "rgb(158,137,91)",
             "rgb(11,94,75)",
             "rgb(89,174,90)",
             "rgb(6,158,133)",
             "rgb(171,83,28)"
            ]
           },
           "text": [
            "Vietnam",
            "United Kingdom",
            "Malaysia",
            "Taiwan*",
            "Thailand",
            "Singapore",
            "Japan",
            "Korea, South",
            "Diamond Princess",
            "China"
           ],
           "textposition": "outside",
           "texttemplate": "%{x}<br>%{y:s}",
           "type": "bar",
           "x": [
            "Vietnam",
            "United Kingdom",
            "Malaysia",
            "Taiwan*",
            "Thailand",
            "Singapore",
            "Japan",
            "Korea, South",
            "Diamond Princess",
            "China"
           ],
           "y": [
            16,
            22,
            22,
            24,
            35,
            84,
            95,
            104,
            634,
            75077
           ]
          }
         ],
         "layout": {
          "font": {
           "size": 20
          },
          "height": 700,
          "title": {
           "text": "VIZUALIZATION OF TOP 10 BY COMPARISON For: 2020-02-20"
          },
          "xaxis": {
           "showline": false,
           "tickangle": -90,
           "visible": false
          },
          "yaxis": {
           "showline": false,
           "visible": false
          }
         }
        },
        {
         "data": [
          {
           "cliponaxis": false,
           "hoverinfo": "none",
           "marker": {
            "color": [
             "rgb(156,184,100)",
             "rgb(149,155,76)",
             "rgb(129,168,167)",
             "rgb(68,7,150)",
             "rgb(75,177,132)",
             "rgb(158,137,91)",
             "rgb(11,94,75)",
             "rgb(89,174,90)",
             "rgb(6,158,133)",
             "rgb(171,83,28)"
            ]
           },
           "text": [
            "Italy",
            "Malaysia",
            "United Kingdom",
            "Taiwan*",
            "Thailand",
            "Singapore",
            "Japan",
            "Korea, South",
            "Diamond Princess",
            "China"
           ],
           "textposition": "outside",
           "texttemplate": "%{x}<br>%{y:s}",
           "type": "bar",
           "x": [
            "Italy",
            "Malaysia",
            "United Kingdom",
            "Taiwan*",
            "Thailand",
            "Singapore",
            "Japan",
            "Korea, South",
            "Diamond Princess",
            "China"
           ],
           "y": [
            20,
            22,
            23,
            26,
            35,
            85,
            112,
            204,
            634,
            75550
           ]
          }
         ],
         "layout": {
          "font": {
           "size": 20
          },
          "height": 700,
          "title": {
           "text": "VIZUALIZATION OF TOP 10 BY COMPARISON For: 2020-02-21"
          },
          "xaxis": {
           "showline": false,
           "tickangle": -90,
           "visible": false
          },
          "yaxis": {
           "showline": false,
           "visible": false
          }
         }
        },
        {
         "data": [
          {
           "cliponaxis": false,
           "hoverinfo": "none",
           "marker": {
            "color": [
             "rgb(129,168,167)",
             "rgb(68,7,150)",
             "rgb(128,163,94)",
             "rgb(75,177,132)",
             "rgb(156,184,100)",
             "rgb(158,137,91)",
             "rgb(11,94,75)",
             "rgb(89,174,90)",
             "rgb(6,158,133)",
             "rgb(171,83,28)"
            ]
           },
           "text": [
            "United Kingdom",
            "Taiwan*",
            "Iran",
            "Thailand",
            "Italy",
            "Singapore",
            "Japan",
            "Korea, South",
            "Diamond Princess",
            "China"
           ],
           "textposition": "outside",
           "texttemplate": "%{x}<br>%{y:s}",
           "type": "bar",
           "x": [
            "United Kingdom",
            "Taiwan*",
            "Iran",
            "Thailand",
            "Italy",
            "Singapore",
            "Japan",
            "Korea, South",
            "Diamond Princess",
            "China"
           ],
           "y": [
            23,
            26,
            28,
            35,
            62,
            85,
            137,
            433,
            634,
            77001
           ]
          }
         ],
         "layout": {
          "font": {
           "size": 20
          },
          "height": 700,
          "title": {
           "text": "VIZUALIZATION OF TOP 10 BY COMPARISON For: 2020-02-22"
          },
          "xaxis": {
           "showline": false,
           "tickangle": -90,
           "visible": false
          },
          "yaxis": {
           "showline": false,
           "visible": false
          }
         }
        },
        {
         "data": [
          {
           "cliponaxis": false,
           "hoverinfo": "none",
           "marker": {
            "color": [
             "rgb(129,168,167)",
             "rgb(68,7,150)",
             "rgb(75,177,132)",
             "rgb(128,163,94)",
             "rgb(158,137,91)",
             "rgb(11,94,75)",
             "rgb(156,184,100)",
             "rgb(89,174,90)",
             "rgb(6,158,133)",
             "rgb(171,83,28)"
            ]
           },
           "text": [
            "United Kingdom",
            "Taiwan*",
            "Thailand",
            "Iran",
            "Singapore",
            "Japan",
            "Italy",
            "Korea, South",
            "Diamond Princess",
            "China"
           ],
           "textposition": "outside",
           "texttemplate": "%{x}<br>%{y:s}",
           "type": "bar",
           "x": [
            "United Kingdom",
            "Taiwan*",
            "Thailand",
            "Iran",
            "Singapore",
            "Japan",
            "Italy",
            "Korea, South",
            "Diamond Princess",
            "China"
           ],
           "y": [
            28,
            28,
            35,
            43,
            89,
            149,
            155,
            602,
            691,
            77022
           ]
          }
         ],
         "layout": {
          "font": {
           "size": 20
          },
          "height": 700,
          "title": {
           "text": "VIZUALIZATION OF TOP 10 BY COMPARISON For: 2020-02-23"
          },
          "xaxis": {
           "showline": false,
           "tickangle": -90,
           "visible": false
          },
          "yaxis": {
           "showline": false,
           "visible": false
          }
         }
        },
        {
         "data": [
          {
           "cliponaxis": false,
           "hoverinfo": "none",
           "marker": {
            "color": [
             "rgb(68,7,150)",
             "rgb(129,168,167)",
             "rgb(75,177,132)",
             "rgb(128,163,94)",
             "rgb(158,137,91)",
             "rgb(11,94,75)",
             "rgb(156,184,100)",
             "rgb(6,158,133)",
             "rgb(89,174,90)",
             "rgb(171,83,28)"
            ]
           },
           "text": [
            "Taiwan*",
            "United Kingdom",
            "Thailand",
            "Iran",
            "Singapore",
            "Japan",
            "Italy",
            "Diamond Princess",
            "Korea, South",
            "China"
           ],
           "textposition": "outside",
           "texttemplate": "%{x}<br>%{y:s}",
           "type": "bar",
           "x": [
            "Taiwan*",
            "United Kingdom",
            "Thailand",
            "Iran",
            "Singapore",
            "Japan",
            "Italy",
            "Diamond Princess",
            "Korea, South",
            "China"
           ],
           "y": [
            30,
            30,
            35,
            61,
            89,
            160,
            229,
            691,
            833,
            77241
           ]
          }
         ],
         "layout": {
          "font": {
           "size": 20
          },
          "height": 700,
          "title": {
           "text": "VIZUALIZATION OF TOP 10 BY COMPARISON For: 2020-02-24"
          },
          "xaxis": {
           "showline": false,
           "tickangle": -90,
           "visible": false
          },
          "yaxis": {
           "showline": false,
           "visible": false
          }
         }
        },
        {
         "data": [
          {
           "cliponaxis": false,
           "hoverinfo": "none",
           "marker": {
            "color": [
             "rgb(68,7,150)",
             "rgb(129,168,167)",
             "rgb(75,177,132)",
             "rgb(158,137,91)",
             "rgb(128,163,94)",
             "rgb(11,94,75)",
             "rgb(156,184,100)",
             "rgb(6,158,133)",
             "rgb(89,174,90)",
             "rgb(171,83,28)"
            ]
           },
           "text": [
            "Taiwan*",
            "United Kingdom",
            "Thailand",
            "Singapore",
            "Iran",
            "Japan",
            "Italy",
            "Diamond Princess",
            "Korea, South",
            "China"
           ],
           "textposition": "outside",
           "texttemplate": "%{x}<br>%{y:s}",
           "type": "bar",
           "x": [
            "Taiwan*",
            "United Kingdom",
            "Thailand",
            "Singapore",
            "Iran",
            "Japan",
            "Italy",
            "Diamond Princess",
            "Korea, South",
            "China"
           ],
           "y": [
            31,
            34,
            37,
            91,
            95,
            173,
            322,
            691,
            977,
            77754
           ]
          }
         ],
         "layout": {
          "font": {
           "size": 20
          },
          "height": 700,
          "title": {
           "text": "VIZUALIZATION OF TOP 10 BY COMPARISON For: 2020-02-25"
          },
          "xaxis": {
           "showline": false,
           "tickangle": -90,
           "visible": false
          },
          "yaxis": {
           "showline": false,
           "visible": false
          }
         }
        },
        {
         "data": [
          {
           "cliponaxis": false,
           "hoverinfo": "none",
           "marker": {
            "color": [
             "rgb(96,145,105)",
             "rgb(129,168,167)",
             "rgb(75,177,132)",
             "rgb(158,137,91)",
             "rgb(128,163,94)",
             "rgb(11,94,75)",
             "rgb(156,184,100)",
             "rgb(6,158,133)",
             "rgb(89,174,90)",
             "rgb(171,83,28)"
            ]
           },
           "text": [
            "Bahrain",
            "United Kingdom",
            "Thailand",
            "Singapore",
            "Iran",
            "Japan",
            "Italy",
            "Diamond Princess",
            "Korea, South",
            "China"
           ],
           "textposition": "outside",
           "texttemplate": "%{x}<br>%{y:s}",
           "type": "bar",
           "x": [
            "Bahrain",
            "United Kingdom",
            "Thailand",
            "Singapore",
            "Iran",
            "Japan",
            "Italy",
            "Diamond Princess",
            "Korea, South",
            "China"
           ],
           "y": [
            33,
            37,
            40,
            93,
            139,
            192,
            453,
            705,
            1261,
            78166
           ]
          }
         ],
         "layout": {
          "font": {
           "size": 20
          },
          "height": 700,
          "title": {
           "text": "VIZUALIZATION OF TOP 10 BY COMPARISON For: 2020-02-26"
          },
          "xaxis": {
           "showline": false,
           "tickangle": -90,
           "visible": false
          },
          "yaxis": {
           "showline": false,
           "visible": false
          }
         }
        },
        {
         "data": [
          {
           "cliponaxis": false,
           "hoverinfo": "none",
           "marker": {
            "color": [
             "rgb(176,165,38)",
             "rgb(129,168,167)",
             "rgb(120,115,121)",
             "rgb(158,137,91)",
             "rgb(11,94,75)",
             "rgb(128,163,94)",
             "rgb(156,184,100)",
             "rgb(6,158,133)",
             "rgb(89,174,90)",
             "rgb(171,83,28)"
            ]
           },
           "text": [
            "Kuwait",
            "United Kingdom",
            "Germany",
            "Singapore",
            "Japan",
            "Iran",
            "Italy",
            "Diamond Princess",
            "Korea, South",
            "China"
           ],
           "textposition": "outside",
           "texttemplate": "%{x}<br>%{y:s}",
           "type": "bar",
           "x": [
            "Kuwait",
            "United Kingdom",
            "Germany",
            "Singapore",
            "Japan",
            "Iran",
            "Italy",
            "Diamond Princess",
            "Korea, South",
            "China"
           ],
           "y": [
            43,
            44,
            46,
            93,
            218,
            245,
            655,
            705,
            1766,
            78600
           ]
          }
         ],
         "layout": {
          "font": {
           "size": 20
          },
          "height": 700,
          "title": {
           "text": "VIZUALIZATION OF TOP 10 BY COMPARISON For: 2020-02-27"
          },
          "xaxis": {
           "showline": false,
           "tickangle": -90,
           "visible": false
          },
          "yaxis": {
           "showline": false,
           "visible": false
          }
         }
        },
        {
         "data": [
          {
           "cliponaxis": false,
           "hoverinfo": "none",
           "marker": {
            "color": [
             "rgb(120,115,121)",
             "rgb(129,168,167)",
             "rgb(7,143,163)",
             "rgb(158,137,91)",
             "rgb(11,94,75)",
             "rgb(128,163,94)",
             "rgb(6,158,133)",
             "rgb(156,184,100)",
             "rgb(89,174,90)",
             "rgb(171,83,28)"
            ]
           },
           "text": [
            "Germany",
            "United Kingdom",
            "France",
            "Singapore",
            "Japan",
            "Iran",
            "Diamond Princess",
            "Italy",
            "Korea, South",
            "China"
           ],
           "textposition": "outside",
           "texttemplate": "%{x}<br>%{y:s}",
           "type": "bar",
           "x": [
            "Germany",
            "United Kingdom",
            "France",
            "Singapore",
            "Japan",
            "Iran",
            "Diamond Princess",
            "Italy",
            "Korea, South",
            "China"
           ],
           "y": [
            48,
            56,
            57,
            93,
            236,
            388,
            705,
            888,
            2337,
            78928
           ]
          }
         ],
         "layout": {
          "font": {
           "size": 20
          },
          "height": 700,
          "title": {
           "text": "VIZUALIZATION OF TOP 10 BY COMPARISON For: 2020-02-28"
          },
          "xaxis": {
           "showline": false,
           "tickangle": -90,
           "visible": false
          },
          "yaxis": {
           "showline": false,
           "visible": false
          }
         }
        },
        {
         "data": [
          {
           "cliponaxis": false,
           "hoverinfo": "none",
           "marker": {
            "color": [
             "rgb(129,168,167)",
             "rgb(120,115,121)",
             "rgb(7,143,163)",
             "rgb(158,137,91)",
             "rgb(11,94,75)",
             "rgb(128,163,94)",
             "rgb(6,158,133)",
             "rgb(156,184,100)",
             "rgb(89,174,90)",
             "rgb(171,83,28)"
            ]
           },
           "text": [
            "United Kingdom",
            "Germany",
            "France",
            "Singapore",
            "Japan",
            "Iran",
            "Diamond Princess",
            "Italy",
            "Korea, South",
            "China"
           ],
           "textposition": "outside",
           "texttemplate": "%{x}<br>%{y:s}",
           "type": "bar",
           "x": [
            "United Kingdom",
            "Germany",
            "France",
            "Singapore",
            "Japan",
            "Iran",
            "Diamond Princess",
            "Italy",
            "Korea, South",
            "China"
           ],
           "y": [
            61,
            79,
            100,
            102,
            245,
            593,
            705,
            1128,
            3150,
            79356
           ]
          }
         ],
         "layout": {
          "font": {
           "size": 20
          },
          "height": 700,
          "title": {
           "text": "VIZUALIZATION OF TOP 10 BY COMPARISON For: 2020-02-29"
          },
          "xaxis": {
           "showline": false,
           "tickangle": -90,
           "visible": false
          },
          "yaxis": {
           "showline": false,
           "visible": false
          }
         }
        },
        {
         "data": [
          {
           "cliponaxis": false,
           "hoverinfo": "none",
           "marker": {
            "color": [
             "rgb(129,168,167)",
             "rgb(158,137,91)",
             "rgb(7,143,163)",
             "rgb(120,115,121)",
             "rgb(11,94,75)",
             "rgb(6,158,133)",
             "rgb(128,163,94)",
             "rgb(156,184,100)",
             "rgb(89,174,90)",
             "rgb(171,83,28)"
            ]
           },
           "text": [
            "United Kingdom",
            "Singapore",
            "France",
            "Germany",
            "Japan",
            "Diamond Princess",
            "Iran",
            "Italy",
            "Korea, South",
            "China"
           ],
           "textposition": "outside",
           "texttemplate": "%{x}<br>%{y:s}",
           "type": "bar",
           "x": [
            "United Kingdom",
            "Singapore",
            "France",
            "Germany",
            "Japan",
            "Diamond Princess",
            "Iran",
            "Italy",
            "Korea, South",
            "China"
           ],
           "y": [
            94,
            106,
            130,
            130,
            259,
            705,
            978,
            1694,
            3736,
            79932
           ]
          }
         ],
         "layout": {
          "font": {
           "size": 20
          },
          "height": 700,
          "title": {
           "text": "VIZUALIZATION OF TOP 10 BY COMPARISON For: 2020-03-01"
          },
          "xaxis": {
           "showline": false,
           "tickangle": -90,
           "visible": false
          },
          "yaxis": {
           "showline": false,
           "visible": false
          }
         }
        },
        {
         "data": [
          {
           "cliponaxis": false,
           "hoverinfo": "none",
           "marker": {
            "color": [
             "rgb(100,79,104)",
             "rgb(129,168,167)",
             "rgb(120,115,121)",
             "rgb(7,143,163)",
             "rgb(11,94,75)",
             "rgb(6,158,133)",
             "rgb(128,163,94)",
             "rgb(156,184,100)",
             "rgb(89,174,90)",
             "rgb(171,83,28)"
            ]
           },
           "text": [
            "Spain",
            "United Kingdom",
            "Germany",
            "France",
            "Japan",
            "Diamond Princess",
            "Iran",
            "Italy",
            "Korea, South",
            "China"
           ],
           "textposition": "outside",
           "texttemplate": "%{x}<br>%{y:s}",
           "type": "bar",
           "x": [
            "Spain",
            "United Kingdom",
            "Germany",
            "France",
            "Japan",
            "Diamond Princess",
            "Iran",
            "Italy",
            "Korea, South",
            "China"
           ],
           "y": [
            120,
            134,
            159,
            191,
            278,
            705,
            1501,
            2036,
            4335,
            80136
           ]
          }
         ],
         "layout": {
          "font": {
           "size": 20
          },
          "height": 700,
          "title": {
           "text": "VIZUALIZATION OF TOP 10 BY COMPARISON For: 2020-03-02"
          },
          "xaxis": {
           "showline": false,
           "tickangle": -90,
           "visible": false
          },
          "yaxis": {
           "showline": false,
           "visible": false
          }
         }
        },
        {
         "data": [
          {
           "cliponaxis": false,
           "hoverinfo": "none",
           "marker": {
            "color": [
             "rgb(100,79,104)",
             "rgb(129,168,167)",
             "rgb(120,115,121)",
             "rgb(7,143,163)",
             "rgb(11,94,75)",
             "rgb(6,158,133)",
             "rgb(128,163,94)",
             "rgb(156,184,100)",
             "rgb(89,174,90)",
             "rgb(171,83,28)"
            ]
           },
           "text": [
            "Spain",
            "United Kingdom",
            "Germany",
            "France",
            "Japan",
            "Diamond Princess",
            "Iran",
            "Italy",
            "Korea, South",
            "China"
           ],
           "textposition": "outside",
           "texttemplate": "%{x}<br>%{y:s}",
           "type": "bar",
           "x": [
            "Spain",
            "United Kingdom",
            "Germany",
            "France",
            "Japan",
            "Diamond Princess",
            "Iran",
            "Italy",
            "Korea, South",
            "China"
           ],
           "y": [
            165,
            189,
            196,
            204,
            298,
            706,
            2336,
            2502,
            5186,
            80261
           ]
          }
         ],
         "layout": {
          "font": {
           "size": 20
          },
          "height": 700,
          "title": {
           "text": "VIZUALIZATION OF TOP 10 BY COMPARISON For: 2020-03-03"
          },
          "xaxis": {
           "showline": false,
           "tickangle": -90,
           "visible": false
          },
          "yaxis": {
           "showline": false,
           "visible": false
          }
         }
        },
        {
         "data": [
          {
           "cliponaxis": false,
           "hoverinfo": "none",
           "marker": {
            "color": [
             "rgb(100,79,104)",
             "rgb(129,168,167)",
             "rgb(120,115,121)",
             "rgb(7,143,163)",
             "rgb(11,94,75)",
             "rgb(6,158,133)",
             "rgb(128,163,94)",
             "rgb(156,184,100)",
             "rgb(89,174,90)",
             "rgb(171,83,28)"
            ]
           },
           "text": [
            "Spain",
            "United Kingdom",
            "Germany",
            "France",
            "Japan",
            "Diamond Princess",
            "Iran",
            "Italy",
            "Korea, South",
            "China"
           ],
           "textposition": "outside",
           "texttemplate": "%{x}<br>%{y:s}",
           "type": "bar",
           "x": [
            "Spain",
            "United Kingdom",
            "Germany",
            "France",
            "Japan",
            "Diamond Princess",
            "Iran",
            "Italy",
            "Korea, South",
            "China"
           ],
           "y": [
            222,
            246,
            262,
            288,
            333,
            706,
            2922,
            3089,
            5621,
            80386
           ]
          }
         ],
         "layout": {
          "font": {
           "size": 20
          },
          "height": 700,
          "title": {
           "text": "VIZUALIZATION OF TOP 10 BY COMPARISON For: 2020-03-04"
          },
          "xaxis": {
           "showline": false,
           "tickangle": -90,
           "visible": false
          },
          "yaxis": {
           "showline": false,
           "visible": false
          }
         }
        },
        {
         "data": [
          {
           "cliponaxis": false,
           "hoverinfo": "none",
           "marker": {
            "color": [
             "rgb(100,79,104)",
             "rgb(129,168,167)",
             "rgb(11,94,75)",
             "rgb(7,143,163)",
             "rgb(120,115,121)",
             "rgb(6,158,133)",
             "rgb(128,163,94)",
             "rgb(156,184,100)",
             "rgb(89,174,90)",
             "rgb(171,83,28)"
            ]
           },
           "text": [
            "Spain",
            "United Kingdom",
            "Japan",
            "France",
            "Germany",
            "Diamond Princess",
            "Iran",
            "Italy",
            "Korea, South",
            "China"
           ],
           "textposition": "outside",
           "texttemplate": "%{x}<br>%{y:s}",
           "type": "bar",
           "x": [
            "Spain",
            "United Kingdom",
            "Japan",
            "France",
            "Germany",
            "Diamond Princess",
            "Iran",
            "Italy",
            "Korea, South",
            "China"
           ],
           "y": [
            259,
            295,
            365,
            380,
            482,
            706,
            3513,
            3858,
            6088,
            80537
           ]
          }
         ],
         "layout": {
          "font": {
           "size": 20
          },
          "height": 700,
          "title": {
           "text": "VIZUALIZATION OF TOP 10 BY COMPARISON For: 2020-03-05"
          },
          "xaxis": {
           "showline": false,
           "tickangle": -90,
           "visible": false
          },
          "yaxis": {
           "showline": false,
           "visible": false
          }
         }
        },
        {
         "data": [
          {
           "cliponaxis": false,
           "hoverinfo": "none",
           "marker": {
            "color": [
             "rgb(129,168,167)",
             "rgb(100,79,104)",
             "rgb(11,94,75)",
             "rgb(7,143,163)",
             "rgb(120,115,121)",
             "rgb(6,158,133)",
             "rgb(156,184,100)",
             "rgb(128,163,94)",
             "rgb(89,174,90)",
             "rgb(171,83,28)"
            ]
           },
           "text": [
            "United Kingdom",
            "Spain",
            "Japan",
            "France",
            "Germany",
            "Diamond Princess",
            "Italy",
            "Iran",
            "Korea, South",
            "China"
           ],
           "textposition": "outside",
           "texttemplate": "%{x}<br>%{y:s}",
           "type": "bar",
           "x": [
            "United Kingdom",
            "Spain",
            "Japan",
            "France",
            "Germany",
            "Diamond Princess",
            "Italy",
            "Iran",
            "Korea, South",
            "China"
           ],
           "y": [
            374,
            400,
            420,
            656,
            670,
            706,
            4636,
            4747,
            6593,
            80690
           ]
          }
         ],
         "layout": {
          "font": {
           "size": 20
          },
          "height": 700,
          "title": {
           "text": "VIZUALIZATION OF TOP 10 BY COMPARISON For: 2020-03-06"
          },
          "xaxis": {
           "showline": false,
           "tickangle": -90,
           "visible": false
          },
          "yaxis": {
           "showline": false,
           "visible": false
          }
         }
        },
        {
         "data": [
          {
           "cliponaxis": false,
           "hoverinfo": "none",
           "marker": {
            "color": [
             "rgb(129,168,167)",
             "rgb(11,94,75)",
             "rgb(100,79,104)",
             "rgb(6,158,133)",
             "rgb(120,115,121)",
             "rgb(7,143,163)",
             "rgb(128,163,94)",
             "rgb(156,184,100)",
             "rgb(89,174,90)",
             "rgb(171,83,28)"
            ]
           },
           "text": [
            "United Kingdom",
            "Japan",
            "Spain",
            "Diamond Princess",
            "Germany",
            "France",
            "Iran",
            "Italy",
            "Korea, South",
            "China"
           ],
           "textposition": "outside",
           "texttemplate": "%{x}<br>%{y:s}",
           "type": "bar",
           "x": [
            "United Kingdom",
            "Japan",
            "Spain",
            "Diamond Princess",
            "Germany",
            "France",
            "Iran",
            "Italy",
            "Korea, South",
            "China"
           ],
           "y": [
            429,
            466,
            500,
            706,
            799,
            959,
            5823,
            5883,
            7041,
            80770
           ]
          }
         ],
         "layout": {
          "font": {
           "size": 20
          },
          "height": 700,
          "title": {
           "text": "VIZUALIZATION OF TOP 10 BY COMPARISON For: 2020-03-07"
          },
          "xaxis": {
           "showline": false,
           "tickangle": -90,
           "visible": false
          },
          "yaxis": {
           "showline": false,
           "visible": false
          }
         }
        },
        {
         "data": [
          {
           "cliponaxis": false,
           "hoverinfo": "none",
           "marker": {
            "color": [
             "rgb(129,168,167)",
             "rgb(11,94,75)",
             "rgb(100,79,104)",
             "rgb(6,158,133)",
             "rgb(120,115,121)",
             "rgb(7,143,163)",
             "rgb(128,163,94)",
             "rgb(89,174,90)",
             "rgb(156,184,100)",
             "rgb(171,83,28)"
            ]
           },
           "text": [
            "United Kingdom",
            "Japan",
            "Spain",
            "Diamond Princess",
            "Germany",
            "France",
            "Iran",
            "Korea, South",
            "Italy",
            "China"
           ],
           "textposition": "outside",
           "texttemplate": "%{x}<br>%{y:s}",
           "type": "bar",
           "x": [
            "United Kingdom",
            "Japan",
            "Spain",
            "Diamond Princess",
            "Germany",
            "France",
            "Iran",
            "Korea, South",
            "Italy",
            "China"
           ],
           "y": [
            483,
            499,
            673,
            706,
            1040,
            1136,
            6566,
            7314,
            7375,
            80823
           ]
          }
         ],
         "layout": {
          "font": {
           "size": 20
          },
          "height": 700,
          "title": {
           "text": "VIZUALIZATION OF TOP 10 BY COMPARISON For: 2020-03-08"
          },
          "xaxis": {
           "showline": false,
           "tickangle": -90,
           "visible": false
          },
          "yaxis": {
           "showline": false,
           "visible": false
          }
         }
        },
        {
         "data": [
          {
           "cliponaxis": false,
           "hoverinfo": "none",
           "marker": {
            "color": [
             "rgb(11,94,75)",
             "rgb(129,168,167)",
             "rgb(6,158,133)",
             "rgb(100,79,104)",
             "rgb(120,115,121)",
             "rgb(7,143,163)",
             "rgb(128,163,94)",
             "rgb(89,174,90)",
             "rgb(156,184,100)",
             "rgb(171,83,28)"
            ]
           },
           "text": [
            "Japan",
            "United Kingdom",
            "Diamond Princess",
            "Spain",
            "Germany",
            "France",
            "Iran",
            "Korea, South",
            "Italy",
            "China"
           ],
           "textposition": "outside",
           "texttemplate": "%{x}<br>%{y:s}",
           "type": "bar",
           "x": [
            "Japan",
            "United Kingdom",
            "Diamond Princess",
            "Spain",
            "Germany",
            "France",
            "Iran",
            "Korea, South",
            "Italy",
            "China"
           ],
           "y": [
            527,
            630,
            706,
            1073,
            1176,
            1219,
            7161,
            7478,
            9172,
            80860
           ]
          }
         ],
         "layout": {
          "font": {
           "size": 20
          },
          "height": 700,
          "title": {
           "text": "VIZUALIZATION OF TOP 10 BY COMPARISON For: 2020-03-09"
          },
          "xaxis": {
           "showline": false,
           "tickangle": -90,
           "visible": false
          },
          "yaxis": {
           "showline": false,
           "visible": false
          }
         }
        },
        {
         "data": [
          {
           "cliponaxis": false,
           "hoverinfo": "none",
           "marker": {
            "color": [
             "rgb(6,158,133)",
             "rgb(56,12,132)",
             "rgb(129,168,167)",
             "rgb(120,115,121)",
             "rgb(100,79,104)",
             "rgb(7,143,163)",
             "rgb(89,174,90)",
             "rgb(128,163,94)",
             "rgb(156,184,100)",
             "rgb(171,83,28)"
            ]
           },
           "text": [
            "Diamond Princess",
            "US",
            "United Kingdom",
            "Germany",
            "Spain",
            "France",
            "Korea, South",
            "Iran",
            "Italy",
            "China"
           ],
           "textposition": "outside",
           "texttemplate": "%{x}<br>%{y:s}",
           "type": "bar",
           "x": [
            "Diamond Princess",
            "US",
            "United Kingdom",
            "Germany",
            "Spain",
            "France",
            "Korea, South",
            "Iran",
            "Italy",
            "China"
           ],
           "y": [
            706,
            711,
            889,
            1457,
            1695,
            1794,
            7513,
            8042,
            10149,
            80887
           ]
          }
         ],
         "layout": {
          "font": {
           "size": 20
          },
          "height": 700,
          "title": {
           "text": "VIZUALIZATION OF TOP 10 BY COMPARISON For: 2020-03-10"
          },
          "xaxis": {
           "showline": false,
           "tickangle": -90,
           "visible": false
          },
          "yaxis": {
           "showline": false,
           "visible": false
          }
         }
        },
        {
         "data": [
          {
           "cliponaxis": false,
           "hoverinfo": "none",
           "marker": {
            "color": [
             "rgb(6,158,133)",
             "rgb(56,12,132)",
             "rgb(129,168,167)",
             "rgb(120,115,121)",
             "rgb(100,79,104)",
             "rgb(7,143,163)",
             "rgb(89,174,90)",
             "rgb(128,163,94)",
             "rgb(156,184,100)",
             "rgb(171,83,28)"
            ]
           },
           "text": [
            "Diamond Princess",
            "US",
            "United Kingdom",
            "Germany",
            "Spain",
            "France",
            "Korea, South",
            "Iran",
            "Italy",
            "China"
           ],
           "textposition": "outside",
           "texttemplate": "%{x}<br>%{y:s}",
           "type": "bar",
           "x": [
            "Diamond Princess",
            "US",
            "United Kingdom",
            "Germany",
            "Spain",
            "France",
            "Korea, South",
            "Iran",
            "Italy",
            "China"
           ],
           "y": [
            706,
            1109,
            1301,
            1908,
            2277,
            2293,
            7755,
            9000,
            12462,
            80921
           ]
          }
         ],
         "layout": {
          "font": {
           "size": 20
          },
          "height": 700,
          "title": {
           "text": "VIZUALIZATION OF TOP 10 BY COMPARISON For: 2020-03-11"
          },
          "xaxis": {
           "showline": false,
           "tickangle": -90,
           "visible": false
          },
          "yaxis": {
           "showline": false,
           "visible": false
          }
         }
        },
        {
         "data": [
          {
           "cliponaxis": false,
           "hoverinfo": "none",
           "marker": {
            "color": [
             "rgb(6,158,133)",
             "rgb(56,12,132)",
             "rgb(129,168,167)",
             "rgb(120,115,121)",
             "rgb(100,79,104)",
             "rgb(7,143,163)",
             "rgb(89,174,90)",
             "rgb(128,163,94)",
             "rgb(156,184,100)",
             "rgb(171,83,28)"
            ]
           },
           "text": [
            "Diamond Princess",
            "US",
            "United Kingdom",
            "Germany",
            "Spain",
            "France",
            "Korea, South",
            "Iran",
            "Italy",
            "China"
           ],
           "textposition": "outside",
           "texttemplate": "%{x}<br>%{y:s}",
           "type": "bar",
           "x": [
            "Diamond Princess",
            "US",
            "United Kingdom",
            "Germany",
            "Spain",
            "France",
            "Korea, South",
            "Iran",
            "Italy",
            "China"
           ],
           "y": [
            706,
            1561,
            1790,
            2078,
            2277,
            2293,
            7869,
            10075,
            15113,
            80932
           ]
          }
         ],
         "layout": {
          "font": {
           "size": 20
          },
          "height": 700,
          "title": {
           "text": "VIZUALIZATION OF TOP 10 BY COMPARISON For: 2020-03-12"
          },
          "xaxis": {
           "showline": false,
           "tickangle": -90,
           "visible": false
          },
          "yaxis": {
           "showline": false,
           "visible": false
          }
         }
        },
        {
         "data": [
          {
           "cliponaxis": false,
           "hoverinfo": "none",
           "marker": {
            "color": [
             "rgb(165,177,127)",
             "rgb(56,12,132)",
             "rgb(129,168,167)",
             "rgb(120,115,121)",
             "rgb(7,143,163)",
             "rgb(100,79,104)",
             "rgb(89,174,90)",
             "rgb(128,163,94)",
             "rgb(156,184,100)",
             "rgb(171,83,28)"
            ]
           },
           "text": [
            "Switzerland",
            "US",
            "United Kingdom",
            "Germany",
            "France",
            "Spain",
            "Korea, South",
            "Iran",
            "Italy",
            "China"
           ],
           "textposition": "outside",
           "texttemplate": "%{x}<br>%{y:s}",
           "type": "bar",
           "x": [
            "Switzerland",
            "US",
            "United Kingdom",
            "Germany",
            "France",
            "Spain",
            "Korea, South",
            "Iran",
            "Italy",
            "China"
           ],
           "y": [
            1139,
            2157,
            2270,
            3675,
            3681,
            5232,
            7979,
            11364,
            17660,
            80945
           ]
          }
         ],
         "layout": {
          "font": {
           "size": 20
          },
          "height": 700,
          "title": {
           "text": "VIZUALIZATION OF TOP 10 BY COMPARISON For: 2020-03-13"
          },
          "xaxis": {
           "showline": false,
           "tickangle": -90,
           "visible": false
          },
          "yaxis": {
           "showline": false,
           "visible": false
          }
         }
        },
        {
         "data": [
          {
           "cliponaxis": false,
           "hoverinfo": "none",
           "marker": {
            "color": [
             "rgb(165,177,127)",
             "rgb(129,168,167)",
             "rgb(56,12,132)",
             "rgb(7,143,163)",
             "rgb(120,115,121)",
             "rgb(100,79,104)",
             "rgb(89,174,90)",
             "rgb(128,163,94)",
             "rgb(156,184,100)",
             "rgb(171,83,28)"
            ]
           },
           "text": [
            "Switzerland",
            "United Kingdom",
            "US",
            "France",
            "Germany",
            "Spain",
            "Korea, South",
            "Iran",
            "Italy",
            "China"
           ],
           "textposition": "outside",
           "texttemplate": "%{x}<br>%{y:s}",
           "type": "bar",
           "x": [
            "Switzerland",
            "United Kingdom",
            "US",
            "France",
            "Germany",
            "Spain",
            "Korea, South",
            "Iran",
            "Italy",
            "China"
           ],
           "y": [
            1359,
            2634,
            2870,
            4496,
            4585,
            6391,
            8086,
            12729,
            21157,
            80977
           ]
          }
         ],
         "layout": {
          "font": {
           "size": 20
          },
          "height": 700,
          "title": {
           "text": "VIZUALIZATION OF TOP 10 BY COMPARISON For: 2020-03-14"
          },
          "xaxis": {
           "showline": false,
           "tickangle": -90,
           "visible": false
          },
          "yaxis": {
           "showline": false,
           "visible": false
          }
         }
        },
        {
         "data": [
          {
           "cliponaxis": false,
           "hoverinfo": "none",
           "marker": {
            "color": [
             "rgb(165,177,127)",
             "rgb(56,12,132)",
             "rgb(129,168,167)",
             "rgb(7,143,163)",
             "rgb(120,115,121)",
             "rgb(100,79,104)",
             "rgb(89,174,90)",
             "rgb(128,163,94)",
             "rgb(156,184,100)",
             "rgb(171,83,28)"
            ]
           },
           "text": [
            "Switzerland",
            "US",
            "United Kingdom",
            "France",
            "Germany",
            "Spain",
            "Korea, South",
            "Iran",
            "Italy",
            "China"
           ],
           "textposition": "outside",
           "texttemplate": "%{x}<br>%{y:s}",
           "type": "bar",
           "x": [
            "Switzerland",
            "US",
            "United Kingdom",
            "France",
            "Germany",
            "Spain",
            "Korea, South",
            "Iran",
            "Italy",
            "China"
           ],
           "y": [
            2200,
            2968,
            3077,
            4532,
            5795,
            7798,
            8162,
            13938,
            24747,
            81003
           ]
          }
         ],
         "layout": {
          "font": {
           "size": 20
          },
          "height": 700,
          "title": {
           "text": "VIZUALIZATION OF TOP 10 BY COMPARISON For: 2020-03-15"
          },
          "xaxis": {
           "showline": false,
           "tickangle": -90,
           "visible": false
          },
          "yaxis": {
           "showline": false,
           "visible": false
          }
         }
        },
        {
         "data": [
          {
           "cliponaxis": false,
           "hoverinfo": "none",
           "marker": {
            "color": [
             "rgb(165,177,127)",
             "rgb(129,168,167)",
             "rgb(56,12,132)",
             "rgb(7,143,163)",
             "rgb(120,115,121)",
             "rgb(89,174,90)",
             "rgb(100,79,104)",
             "rgb(128,163,94)",
             "rgb(156,184,100)",
             "rgb(171,83,28)"
            ]
           },
           "text": [
            "Switzerland",
            "United Kingdom",
            "US",
            "France",
            "Germany",
            "Korea, South",
            "Spain",
            "Iran",
            "Italy",
            "China"
           ],
           "textposition": "outside",
           "texttemplate": "%{x}<br>%{y:s}",
           "type": "bar",
           "x": [
            "Switzerland",
            "United Kingdom",
            "US",
            "France",
            "Germany",
            "Korea, South",
            "Spain",
            "Iran",
            "Italy",
            "China"
           ],
           "y": [
            2200,
            3692,
            4360,
            6683,
            7272,
            8236,
            9942,
            14991,
            27980,
            81033
           ]
          }
         ],
         "layout": {
          "font": {
           "size": 20
          },
          "height": 700,
          "title": {
           "text": "VIZUALIZATION OF TOP 10 BY COMPARISON For: 2020-03-16"
          },
          "xaxis": {
           "showline": false,
           "tickangle": -90,
           "visible": false
          },
          "yaxis": {
           "showline": false,
           "visible": false
          }
         }
        },
        {
         "data": [
          {
           "cliponaxis": false,
           "hoverinfo": "none",
           "marker": {
            "color": [
             "rgb(165,177,127)",
             "rgb(129,168,167)",
             "rgb(56,12,132)",
             "rgb(7,143,163)",
             "rgb(89,174,90)",
             "rgb(120,115,121)",
             "rgb(100,79,104)",
             "rgb(128,163,94)",
             "rgb(156,184,100)",
             "rgb(171,83,28)"
            ]
           },
           "text": [
            "Switzerland",
            "United Kingdom",
            "US",
            "France",
            "Korea, South",
            "Germany",
            "Spain",
            "Iran",
            "Italy",
            "China"
           ],
           "textposition": "outside",
           "texttemplate": "%{x}<br>%{y:s}",
           "type": "bar",
           "x": [
            "Switzerland",
            "United Kingdom",
            "US",
            "France",
            "Korea, South",
            "Germany",
            "Spain",
            "Iran",
            "Italy",
            "China"
           ],
           "y": [
            2700,
            4462,
            6141,
            7715,
            8320,
            9257,
            11748,
            16169,
            31506,
            81058
           ]
          }
         ],
         "layout": {
          "font": {
           "size": 20
          },
          "height": 700,
          "title": {
           "text": "VIZUALIZATION OF TOP 10 BY COMPARISON For: 2020-03-17"
          },
          "xaxis": {
           "showline": false,
           "tickangle": -90,
           "visible": false
          },
          "yaxis": {
           "showline": false,
           "visible": false
          }
         }
        },
        {
         "data": [
          {
           "cliponaxis": false,
           "hoverinfo": "none",
           "marker": {
            "color": [
             "rgb(165,177,127)",
             "rgb(129,168,167)",
             "rgb(89,174,90)",
             "rgb(56,12,132)",
             "rgb(7,143,163)",
             "rgb(120,115,121)",
             "rgb(100,79,104)",
             "rgb(128,163,94)",
             "rgb(156,184,100)",
             "rgb(171,83,28)"
            ]
           },
           "text": [
            "Switzerland",
            "United Kingdom",
            "Korea, South",
            "US",
            "France",
            "Germany",
            "Spain",
            "Iran",
            "Italy",
            "China"
           ],
           "textposition": "outside",
           "texttemplate": "%{x}<br>%{y:s}",
           "type": "bar",
           "x": [
            "Switzerland",
            "United Kingdom",
            "Korea, South",
            "US",
            "France",
            "Germany",
            "Spain",
            "Iran",
            "Italy",
            "China"
           ],
           "y": [
            3028,
            5467,
            8413,
            8917,
            9124,
            12327,
            13910,
            17361,
            35713,
            81102
           ]
          }
         ],
         "layout": {
          "font": {
           "size": 20
          },
          "height": 700,
          "title": {
           "text": "VIZUALIZATION OF TOP 10 BY COMPARISON For: 2020-03-18"
          },
          "xaxis": {
           "showline": false,
           "tickangle": -90,
           "visible": false
          },
          "yaxis": {
           "showline": false,
           "visible": false
          }
         }
        },
        {
         "data": [
          {
           "cliponaxis": false,
           "hoverinfo": "none",
           "marker": {
            "color": [
             "rgb(165,177,127)",
             "rgb(129,168,167)",
             "rgb(89,174,90)",
             "rgb(7,143,163)",
             "rgb(56,12,132)",
             "rgb(120,115,121)",
             "rgb(100,79,104)",
             "rgb(128,163,94)",
             "rgb(156,184,100)",
             "rgb(171,83,28)"
            ]
           },
           "text": [
            "Switzerland",
            "United Kingdom",
            "Korea, South",
            "France",
            "US",
            "Germany",
            "Spain",
            "Iran",
            "Italy",
            "China"
           ],
           "textposition": "outside",
           "texttemplate": "%{x}<br>%{y:s}",
           "type": "bar",
           "x": [
            "Switzerland",
            "United Kingdom",
            "Korea, South",
            "France",
            "US",
            "Germany",
            "Spain",
            "Iran",
            "Italy",
            "China"
           ],
           "y": [
            4075,
            6533,
            8565,
            10970,
            14157,
            15320,
            17963,
            18407,
            41035,
            81156
           ]
          }
         ],
         "layout": {
          "font": {
           "size": 20
          },
          "height": 700,
          "title": {
           "text": "VIZUALIZATION OF TOP 10 BY COMPARISON For: 2020-03-19"
          },
          "xaxis": {
           "showline": false,
           "tickangle": -90,
           "visible": false
          },
          "yaxis": {
           "showline": false,
           "visible": false
          }
         }
        },
        {
         "data": [
          {
           "cliponaxis": false,
           "hoverinfo": "none",
           "marker": {
            "color": [
             "rgb(165,177,127)",
             "rgb(129,168,167)",
             "rgb(89,174,90)",
             "rgb(7,143,163)",
             "rgb(56,12,132)",
             "rgb(128,163,94)",
             "rgb(120,115,121)",
             "rgb(100,79,104)",
             "rgb(156,184,100)",
             "rgb(171,83,28)"
            ]
           },
           "text": [
            "Switzerland",
            "United Kingdom",
            "Korea, South",
            "France",
            "US",
            "Iran",
            "Germany",
            "Spain",
            "Italy",
            "China"
           ],
           "textposition": "outside",
           "texttemplate": "%{x}<br>%{y:s}",
           "type": "bar",
           "x": [
            "Switzerland",
            "United Kingdom",
            "Korea, South",
            "France",
            "US",
            "Iran",
            "Germany",
            "Spain",
            "Italy",
            "China"
           ],
           "y": [
            5294,
            7791,
            8652,
            12758,
            19479,
            19644,
            19848,
            20410,
            47021,
            81250
           ]
          }
         ],
         "layout": {
          "font": {
           "size": 20
          },
          "height": 700,
          "title": {
           "text": "VIZUALIZATION OF TOP 10 BY COMPARISON For: 2020-03-20"
          },
          "xaxis": {
           "showline": false,
           "tickangle": -90,
           "visible": false
          },
          "yaxis": {
           "showline": false,
           "visible": false
          }
         }
        },
        {
         "data": [
          {
           "cliponaxis": false,
           "hoverinfo": "none",
           "marker": {
            "color": [
             "rgb(165,177,127)",
             "rgb(89,174,90)",
             "rgb(129,168,167)",
             "rgb(7,143,163)",
             "rgb(128,163,94)",
             "rgb(120,115,121)",
             "rgb(100,79,104)",
             "rgb(56,12,132)",
             "rgb(156,184,100)",
             "rgb(171,83,28)"
            ]
           },
           "text": [
            "Switzerland",
            "Korea, South",
            "United Kingdom",
            "France",
            "Iran",
            "Germany",
            "Spain",
            "US",
            "Italy",
            "China"
           ],
           "textposition": "outside",
           "texttemplate": "%{x}<br>%{y:s}",
           "type": "bar",
           "x": [
            "Switzerland",
            "Korea, South",
            "United Kingdom",
            "France",
            "Iran",
            "Germany",
            "Spain",
            "US",
            "Italy",
            "China"
           ],
           "y": [
            6575,
            8799,
            9006,
            14463,
            20610,
            22213,
            25374,
            25825,
            53578,
            81305
           ]
          }
         ],
         "layout": {
          "font": {
           "size": 20
          },
          "height": 700,
          "title": {
           "text": "VIZUALIZATION OF TOP 10 BY COMPARISON For: 2020-03-21"
          },
          "xaxis": {
           "showline": false,
           "tickangle": -90,
           "visible": false
          },
          "yaxis": {
           "showline": false,
           "visible": false
          }
         }
        },
        {
         "data": [
          {
           "cliponaxis": false,
           "hoverinfo": "none",
           "marker": {
            "color": [
             "rgb(165,177,127)",
             "rgb(89,174,90)",
             "rgb(129,168,167)",
             "rgb(7,143,163)",
             "rgb(128,163,94)",
             "rgb(120,115,121)",
             "rgb(100,79,104)",
             "rgb(56,12,132)",
             "rgb(156,184,100)",
             "rgb(171,83,28)"
            ]
           },
           "text": [
            "Switzerland",
            "Korea, South",
            "United Kingdom",
            "France",
            "Iran",
            "Germany",
            "Spain",
            "US",
            "Italy",
            "China"
           ],
           "textposition": "outside",
           "texttemplate": "%{x}<br>%{y:s}",
           "type": "bar",
           "x": [
            "Switzerland",
            "Korea, South",
            "United Kingdom",
            "France",
            "Iran",
            "Germany",
            "Spain",
            "US",
            "Italy",
            "China"
           ],
           "y": [
            7474,
            8961,
            10395,
            16243,
            21638,
            24873,
            28768,
            33761,
            59138,
            81435
           ]
          }
         ],
         "layout": {
          "font": {
           "size": 20
          },
          "height": 700,
          "title": {
           "text": "VIZUALIZATION OF TOP 10 BY COMPARISON For: 2020-03-22"
          },
          "xaxis": {
           "showline": false,
           "tickangle": -90,
           "visible": false
          },
          "yaxis": {
           "showline": false,
           "visible": false
          }
         }
        },
        {
         "data": [
          {
           "cliponaxis": false,
           "hoverinfo": "none",
           "marker": {
            "color": [
             "rgb(165,177,127)",
             "rgb(89,174,90)",
             "rgb(129,168,167)",
             "rgb(7,143,163)",
             "rgb(128,163,94)",
             "rgb(120,115,121)",
             "rgb(100,79,104)",
             "rgb(56,12,132)",
             "rgb(156,184,100)",
             "rgb(171,83,28)"
            ]
           },
           "text": [
            "Switzerland",
            "Korea, South",
            "United Kingdom",
            "France",
            "Iran",
            "Germany",
            "Spain",
            "US",
            "Italy",
            "China"
           ],
           "textposition": "outside",
           "texttemplate": "%{x}<br>%{y:s}",
           "type": "bar",
           "x": [
            "Switzerland",
            "Korea, South",
            "United Kingdom",
            "France",
            "Iran",
            "Germany",
            "Spain",
            "US",
            "Italy",
            "China"
           ],
           "y": [
            8795,
            8961,
            12744,
            20123,
            23049,
            29056,
            35136,
            43850,
            63927,
            81498
           ]
          }
         ],
         "layout": {
          "font": {
           "size": 20
          },
          "height": 700,
          "title": {
           "text": "VIZUALIZATION OF TOP 10 BY COMPARISON For: 2020-03-23"
          },
          "xaxis": {
           "showline": false,
           "tickangle": -90,
           "visible": false
          },
          "yaxis": {
           "showline": false,
           "visible": false
          }
         }
        },
        {
         "data": [
          {
           "cliponaxis": false,
           "hoverinfo": "none",
           "marker": {
            "color": [
             "rgb(89,174,90)",
             "rgb(165,177,127)",
             "rgb(129,168,167)",
             "rgb(7,143,163)",
             "rgb(128,163,94)",
             "rgb(120,115,121)",
             "rgb(100,79,104)",
             "rgb(56,12,132)",
             "rgb(156,184,100)",
             "rgb(171,83,28)"
            ]
           },
           "text": [
            "Korea, South",
            "Switzerland",
            "United Kingdom",
            "France",
            "Iran",
            "Germany",
            "Spain",
            "US",
            "Italy",
            "China"
           ],
           "textposition": "outside",
           "texttemplate": "%{x}<br>%{y:s}",
           "type": "bar",
           "x": [
            "Korea, South",
            "Switzerland",
            "United Kingdom",
            "France",
            "Iran",
            "Germany",
            "Spain",
            "US",
            "Italy",
            "China"
           ],
           "y": [
            9037,
            9877,
            15126,
            22622,
            24811,
            32986,
            39885,
            54112,
            69176,
            81591
           ]
          }
         ],
         "layout": {
          "font": {
           "size": 20
          },
          "height": 700,
          "title": {
           "text": "VIZUALIZATION OF TOP 10 BY COMPARISON For: 2020-03-24"
          },
          "xaxis": {
           "showline": false,
           "tickangle": -90,
           "visible": false
          },
          "yaxis": {
           "showline": false,
           "visible": false
          }
         }
        },
        {
         "data": [
          {
           "cliponaxis": false,
           "hoverinfo": "none",
           "marker": {
            "color": [
             "rgb(89,174,90)",
             "rgb(165,177,127)",
             "rgb(129,168,167)",
             "rgb(7,143,163)",
             "rgb(128,163,94)",
             "rgb(120,115,121)",
             "rgb(100,79,104)",
             "rgb(56,12,132)",
             "rgb(156,184,100)",
             "rgb(171,83,28)"
            ]
           },
           "text": [
            "Korea, South",
            "Switzerland",
            "United Kingdom",
            "France",
            "Iran",
            "Germany",
            "Spain",
            "US",
            "Italy",
            "China"
           ],
           "textposition": "outside",
           "texttemplate": "%{x}<br>%{y:s}",
           "type": "bar",
           "x": [
            "Korea, South",
            "Switzerland",
            "United Kingdom",
            "France",
            "Iran",
            "Germany",
            "Spain",
            "US",
            "Italy",
            "China"
           ],
           "y": [
            9137,
            10897,
            17843,
            25600,
            27017,
            37323,
            49515,
            66055,
            74386,
            81661
           ]
          }
         ],
         "layout": {
          "font": {
           "size": 20
          },
          "height": 700,
          "title": {
           "text": "VIZUALIZATION OF TOP 10 BY COMPARISON For: 2020-03-25"
          },
          "xaxis": {
           "showline": false,
           "tickangle": -90,
           "visible": false
          },
          "yaxis": {
           "showline": false,
           "visible": false
          }
         }
        },
        {
         "data": [
          {
           "cliponaxis": false,
           "hoverinfo": "none",
           "marker": {
            "color": [
             "rgb(89,174,90)",
             "rgb(165,177,127)",
             "rgb(129,168,167)",
             "rgb(128,163,94)",
             "rgb(7,143,163)",
             "rgb(120,115,121)",
             "rgb(100,79,104)",
             "rgb(156,184,100)",
             "rgb(171,83,28)",
             "rgb(56,12,132)"
            ]
           },
           "text": [
            "Korea, South",
            "Switzerland",
            "United Kingdom",
            "Iran",
            "France",
            "Germany",
            "Spain",
            "Italy",
            "China",
            "US"
           ],
           "textposition": "outside",
           "texttemplate": "%{x}<br>%{y:s}",
           "type": "bar",
           "x": [
            "Korea, South",
            "Switzerland",
            "United Kingdom",
            "Iran",
            "France",
            "Germany",
            "Spain",
            "Italy",
            "China",
            "US"
           ],
           "y": [
            9241,
            11811,
            20970,
            29406,
            29551,
            43938,
            57786,
            80589,
            81782,
            84091
           ]
          }
         ],
         "layout": {
          "font": {
           "size": 20
          },
          "height": 700,
          "title": {
           "text": "VIZUALIZATION OF TOP 10 BY COMPARISON For: 2020-03-26"
          },
          "xaxis": {
           "showline": false,
           "tickangle": -90,
           "visible": false
          },
          "yaxis": {
           "showline": false,
           "visible": false
          }
         }
        },
        {
         "data": [
          {
           "cliponaxis": false,
           "hoverinfo": "none",
           "marker": {
            "color": [
             "rgb(89,174,90)",
             "rgb(165,177,127)",
             "rgb(129,168,167)",
             "rgb(128,163,94)",
             "rgb(7,143,163)",
             "rgb(120,115,121)",
             "rgb(100,79,104)",
             "rgb(171,83,28)",
             "rgb(156,184,100)",
             "rgb(56,12,132)"
            ]
           },
           "text": [
            "Korea, South",
            "Switzerland",
            "United Kingdom",
            "Iran",
            "France",
            "Germany",
            "Spain",
            "China",
            "Italy",
            "US"
           ],
           "textposition": "outside",
           "texttemplate": "%{x}<br>%{y:s}",
           "type": "bar",
           "x": [
            "Korea, South",
            "Switzerland",
            "United Kingdom",
            "Iran",
            "France",
            "Germany",
            "Spain",
            "China",
            "Italy",
            "US"
           ],
           "y": [
            9332,
            12928,
            24219,
            32332,
            33402,
            50871,
            65719,
            81897,
            86498,
            102276
           ]
          }
         ],
         "layout": {
          "font": {
           "size": 20
          },
          "height": 700,
          "title": {
           "text": "VIZUALIZATION OF TOP 10 BY COMPARISON For: 2020-03-27"
          },
          "xaxis": {
           "showline": false,
           "tickangle": -90,
           "visible": false
          },
          "yaxis": {
           "showline": false,
           "visible": false
          }
         }
        },
        {
         "data": [
          {
           "cliponaxis": false,
           "hoverinfo": "none",
           "marker": {
            "color": [
             "rgb(10,140,167)",
             "rgb(165,177,127)",
             "rgb(129,168,167)",
             "rgb(128,163,94)",
             "rgb(7,143,163)",
             "rgb(120,115,121)",
             "rgb(100,79,104)",
             "rgb(171,83,28)",
             "rgb(156,184,100)",
             "rgb(56,12,132)"
            ]
           },
           "text": [
            "Netherlands",
            "Switzerland",
            "United Kingdom",
            "Iran",
            "France",
            "Germany",
            "Spain",
            "China",
            "Italy",
            "US"
           ],
           "textposition": "outside",
           "texttemplate": "%{x}<br>%{y:s}",
           "type": "bar",
           "x": [
            "Netherlands",
            "Switzerland",
            "United Kingdom",
            "Iran",
            "France",
            "Germany",
            "Spain",
            "China",
            "Italy",
            "US"
           ],
           "y": [
            9819,
            14076,
            27062,
            35408,
            38105,
            57695,
            73235,
            81999,
            92472,
            122069
           ]
          }
         ],
         "layout": {
          "font": {
           "size": 20
          },
          "height": 700,
          "title": {
           "text": "VIZUALIZATION OF TOP 10 BY COMPARISON For: 2020-03-28"
          },
          "xaxis": {
           "showline": false,
           "tickangle": -90,
           "visible": false
          },
          "yaxis": {
           "showline": false,
           "visible": false
          }
         }
        },
        {
         "data": [
          {
           "cliponaxis": false,
           "hoverinfo": "none",
           "marker": {
            "color": [
             "rgb(10,140,167)",
             "rgb(165,177,127)",
             "rgb(129,168,167)",
             "rgb(128,163,94)",
             "rgb(7,143,163)",
             "rgb(120,115,121)",
             "rgb(100,79,104)",
             "rgb(171,83,28)",
             "rgb(156,184,100)",
             "rgb(56,12,132)"
            ]
           },
           "text": [
            "Netherlands",
            "Switzerland",
            "United Kingdom",
            "Iran",
            "France",
            "Germany",
            "Spain",
            "China",
            "Italy",
            "US"
           ],
           "textposition": "outside",
           "texttemplate": "%{x}<br>%{y:s}",
           "type": "bar",
           "x": [
            "Netherlands",
            "Switzerland",
            "United Kingdom",
            "Iran",
            "France",
            "Germany",
            "Spain",
            "China",
            "Italy",
            "US"
           ],
           "y": [
            10930,
            14829,
            29954,
            38309,
            40708,
            62095,
            80110,
            82122,
            97689,
            141205
           ]
          }
         ],
         "layout": {
          "font": {
           "size": 20
          },
          "height": 700,
          "title": {
           "text": "VIZUALIZATION OF TOP 10 BY COMPARISON For: 2020-03-29"
          },
          "xaxis": {
           "showline": false,
           "tickangle": -90,
           "visible": false
          },
          "yaxis": {
           "showline": false,
           "visible": false
          }
         }
        },
        {
         "data": [
          {
           "cliponaxis": false,
           "hoverinfo": "none",
           "marker": {
            "color": [
             "rgb(183,21,100)",
             "rgb(165,177,127)",
             "rgb(129,168,167)",
             "rgb(128,163,94)",
             "rgb(7,143,163)",
             "rgb(120,115,121)",
             "rgb(171,83,28)",
             "rgb(100,79,104)",
             "rgb(156,184,100)",
             "rgb(56,12,132)"
            ]
           },
           "text": [
            "Belgium",
            "Switzerland",
            "United Kingdom",
            "Iran",
            "France",
            "Germany",
            "China",
            "Spain",
            "Italy",
            "US"
           ],
           "textposition": "outside",
           "texttemplate": "%{x}<br>%{y:s}",
           "type": "bar",
           "x": [
            "Belgium",
            "Switzerland",
            "United Kingdom",
            "Iran",
            "France",
            "Germany",
            "China",
            "Spain",
            "Italy",
            "US"
           ],
           "y": [
            11899,
            15922,
            34281,
            41495,
            45170,
            66885,
            82198,
            87956,
            101739,
            162707
           ]
          }
         ],
         "layout": {
          "font": {
           "size": 20
          },
          "height": 700,
          "title": {
           "text": "VIZUALIZATION OF TOP 10 BY COMPARISON For: 2020-03-30"
          },
          "xaxis": {
           "showline": false,
           "tickangle": -90,
           "visible": false
          },
          "yaxis": {
           "showline": false,
           "visible": false
          }
         }
        },
        {
         "data": [
          {
           "cliponaxis": false,
           "hoverinfo": "none",
           "marker": {
            "color": [
             "rgb(109,169,39)",
             "rgb(165,177,127)",
             "rgb(129,168,167)",
             "rgb(128,163,94)",
             "rgb(7,143,163)",
             "rgb(120,115,121)",
             "rgb(171,83,28)",
             "rgb(100,79,104)",
             "rgb(156,184,100)",
             "rgb(56,12,132)"
            ]
           },
           "text": [
            "Turkey",
            "Switzerland",
            "United Kingdom",
            "Iran",
            "France",
            "Germany",
            "China",
            "Spain",
            "Italy",
            "US"
           ],
           "textposition": "outside",
           "texttemplate": "%{x}<br>%{y:s}",
           "type": "bar",
           "x": [
            "Turkey",
            "Switzerland",
            "United Kingdom",
            "Iran",
            "France",
            "Germany",
            "China",
            "Spain",
            "Italy",
            "US"
           ],
           "y": [
            13531,
            16605,
            38815,
            44605,
            52827,
            71808,
            82279,
            95923,
            105792,
            188724
           ]
          }
         ],
         "layout": {
          "font": {
           "size": 20
          },
          "height": 700,
          "title": {
           "text": "VIZUALIZATION OF TOP 10 BY COMPARISON For: 2020-03-31"
          },
          "xaxis": {
           "showline": false,
           "tickangle": -90,
           "visible": false
          },
          "yaxis": {
           "showline": false,
           "visible": false
          }
         }
        },
        {
         "data": [
          {
           "cliponaxis": false,
           "hoverinfo": "none",
           "marker": {
            "color": [
             "rgb(109,169,39)",
             "rgb(165,177,127)",
             "rgb(129,168,167)",
             "rgb(128,163,94)",
             "rgb(7,143,163)",
             "rgb(120,115,121)",
             "rgb(171,83,28)",
             "rgb(100,79,104)",
             "rgb(156,184,100)",
             "rgb(56,12,132)"
            ]
           },
           "text": [
            "Turkey",
            "Switzerland",
            "United Kingdom",
            "Iran",
            "France",
            "Germany",
            "China",
            "Spain",
            "Italy",
            "US"
           ],
           "textposition": "outside",
           "texttemplate": "%{x}<br>%{y:s}",
           "type": "bar",
           "x": [
            "Turkey",
            "Switzerland",
            "United Kingdom",
            "Iran",
            "France",
            "Germany",
            "China",
            "Spain",
            "Italy",
            "US"
           ],
           "y": [
            15679,
            17768,
            43789,
            47593,
            57749,
            77872,
            82361,
            104118,
            110574,
            214205
           ]
          }
         ],
         "layout": {
          "font": {
           "size": 20
          },
          "height": 700,
          "title": {
           "text": "VIZUALIZATION OF TOP 10 BY COMPARISON For: 2020-04-01"
          },
          "xaxis": {
           "showline": false,
           "tickangle": -90,
           "visible": false
          },
          "yaxis": {
           "showline": false,
           "visible": false
          }
         }
        },
        {
         "data": [
          {
           "cliponaxis": false,
           "hoverinfo": "none",
           "marker": {
            "color": [
             "rgb(109,169,39)",
             "rgb(165,177,127)",
             "rgb(129,168,167)",
             "rgb(128,163,94)",
             "rgb(7,143,163)",
             "rgb(171,83,28)",
             "rgb(120,115,121)",
             "rgb(100,79,104)",
             "rgb(156,184,100)",
             "rgb(56,12,132)"
            ]
           },
           "text": [
            "Turkey",
            "Switzerland",
            "United Kingdom",
            "Iran",
            "France",
            "China",
            "Germany",
            "Spain",
            "Italy",
            "US"
           ],
           "textposition": "outside",
           "texttemplate": "%{x}<br>%{y:s}",
           "type": "bar",
           "x": [
            "Turkey",
            "Switzerland",
            "United Kingdom",
            "Iran",
            "France",
            "China",
            "Germany",
            "Spain",
            "Italy",
            "US"
           ],
           "y": [
            18135,
            18827,
            48718,
            50468,
            59929,
            82432,
            84794,
            112065,
            115242,
            244610
           ]
          }
         ],
         "layout": {
          "font": {
           "size": 20
          },
          "height": 700,
          "title": {
           "text": "VIZUALIZATION OF TOP 10 BY COMPARISON For: 2020-04-02"
          },
          "xaxis": {
           "showline": false,
           "tickangle": -90,
           "visible": false
          },
          "yaxis": {
           "showline": false,
           "visible": false
          }
         }
        },
        {
         "data": [
          {
           "cliponaxis": false,
           "hoverinfo": "none",
           "marker": {
            "color": [
             "rgb(165,177,127)",
             "rgb(109,169,39)",
             "rgb(128,163,94)",
             "rgb(129,168,167)",
             "rgb(7,143,163)",
             "rgb(171,83,28)",
             "rgb(120,115,121)",
             "rgb(100,79,104)",
             "rgb(156,184,100)",
             "rgb(56,12,132)"
            ]
           },
           "text": [
            "Switzerland",
            "Turkey",
            "Iran",
            "United Kingdom",
            "France",
            "China",
            "Germany",
            "Spain",
            "Italy",
            "US"
           ],
           "textposition": "outside",
           "texttemplate": "%{x}<br>%{y:s}",
           "type": "bar",
           "x": [
            "Switzerland",
            "Turkey",
            "Iran",
            "United Kingdom",
            "France",
            "China",
            "Germany",
            "Spain",
            "Italy",
            "US"
           ],
           "y": [
            19606,
            20921,
            53183,
            53699,
            65202,
            82511,
            91159,
            119199,
            119827,
            276547
           ]
          }
         ],
         "layout": {
          "font": {
           "size": 20
          },
          "height": 700,
          "title": {
           "text": "VIZUALIZATION OF TOP 10 BY COMPARISON For: 2020-04-03"
          },
          "xaxis": {
           "showline": false,
           "tickangle": -90,
           "visible": false
          },
          "yaxis": {
           "showline": false,
           "visible": false
          }
         }
        },
        {
         "data": [
          {
           "cliponaxis": false,
           "hoverinfo": "none",
           "marker": {
            "color": [
             "rgb(165,177,127)",
             "rgb(109,169,39)",
             "rgb(128,163,94)",
             "rgb(129,168,167)",
             "rgb(7,143,163)",
             "rgb(171,83,28)",
             "rgb(120,115,121)",
             "rgb(156,184,100)",
             "rgb(100,79,104)",
             "rgb(56,12,132)"
            ]
           },
           "text": [
            "Switzerland",
            "Turkey",
            "Iran",
            "United Kingdom",
            "France",
            "China",
            "Germany",
            "Italy",
            "Spain",
            "US"
           ],
           "textposition": "outside",
           "texttemplate": "%{x}<br>%{y:s}",
           "type": "bar",
           "x": [
            "Switzerland",
            "Turkey",
            "Iran",
            "United Kingdom",
            "France",
            "China",
            "Germany",
            "Italy",
            "Spain",
            "US"
           ],
           "y": [
            20505,
            23934,
            55743,
            57772,
            69500,
            82543,
            96092,
            124632,
            126168,
            309699
           ]
          }
         ],
         "layout": {
          "font": {
           "size": 20
          },
          "height": 700,
          "title": {
           "text": "VIZUALIZATION OF TOP 10 BY COMPARISON For: 2020-04-04"
          },
          "xaxis": {
           "showline": false,
           "tickangle": -90,
           "visible": false
          },
          "yaxis": {
           "showline": false,
           "visible": false
          }
         }
        },
        {
         "data": [
          {
           "cliponaxis": false,
           "hoverinfo": "none",
           "marker": {
            "color": [
             "rgb(165,177,127)",
             "rgb(109,169,39)",
             "rgb(128,163,94)",
             "rgb(129,168,167)",
             "rgb(7,143,163)",
             "rgb(171,83,28)",
             "rgb(120,115,121)",
             "rgb(156,184,100)",
             "rgb(100,79,104)",
             "rgb(56,12,132)"
            ]
           },
           "text": [
            "Switzerland",
            "Turkey",
            "Iran",
            "United Kingdom",
            "France",
            "China",
            "Germany",
            "Italy",
            "Spain",
            "US"
           ],
           "textposition": "outside",
           "texttemplate": "%{x}<br>%{y:s}",
           "type": "bar",
           "x": [
            "Switzerland",
            "Turkey",
            "Iran",
            "United Kingdom",
            "France",
            "China",
            "Germany",
            "Italy",
            "Spain",
            "US"
           ],
           "y": [
            21100,
            27069,
            58226,
            61422,
            71412,
            82602,
            100123,
            128948,
            131646,
            337573
           ]
          }
         ],
         "layout": {
          "font": {
           "size": 20
          },
          "height": 700,
          "title": {
           "text": "VIZUALIZATION OF TOP 10 BY COMPARISON For: 2020-04-05"
          },
          "xaxis": {
           "showline": false,
           "tickangle": -90,
           "visible": false
          },
          "yaxis": {
           "showline": false,
           "visible": false
          }
         }
        },
        {
         "data": [
          {
           "cliponaxis": false,
           "hoverinfo": "none",
           "marker": {
            "color": [
             "rgb(165,177,127)",
             "rgb(109,169,39)",
             "rgb(128,163,94)",
             "rgb(129,168,167)",
             "rgb(7,143,163)",
             "rgb(171,83,28)",
             "rgb(120,115,121)",
             "rgb(156,184,100)",
             "rgb(100,79,104)",
             "rgb(56,12,132)"
            ]
           },
           "text": [
            "Switzerland",
            "Turkey",
            "Iran",
            "United Kingdom",
            "France",
            "China",
            "Germany",
            "Italy",
            "Spain",
            "US"
           ],
           "textposition": "outside",
           "texttemplate": "%{x}<br>%{y:s}",
           "type": "bar",
           "x": [
            "Switzerland",
            "Turkey",
            "Iran",
            "United Kingdom",
            "France",
            "China",
            "Germany",
            "Italy",
            "Spain",
            "US"
           ],
           "y": [
            21657,
            30217,
            60500,
            66738,
            75343,
            82665,
            103374,
            132547,
            136675,
            367215
           ]
          }
         ],
         "layout": {
          "font": {
           "size": 20
          },
          "height": 700,
          "title": {
           "text": "VIZUALIZATION OF TOP 10 BY COMPARISON For: 2020-04-06"
          },
          "xaxis": {
           "showline": false,
           "tickangle": -90,
           "visible": false
          },
          "yaxis": {
           "showline": false,
           "visible": false
          }
         }
        },
        {
         "data": [
          {
           "cliponaxis": false,
           "hoverinfo": "none",
           "marker": {
            "color": [
             "rgb(165,177,127)",
             "rgb(109,169,39)",
             "rgb(128,163,94)",
             "rgb(129,168,167)",
             "rgb(7,143,163)",
             "rgb(171,83,28)",
             "rgb(120,115,121)",
             "rgb(156,184,100)",
             "rgb(100,79,104)",
             "rgb(56,12,132)"
            ]
           },
           "text": [
            "Switzerland",
            "Turkey",
            "Iran",
            "United Kingdom",
            "France",
            "China",
            "Germany",
            "Italy",
            "Spain",
            "US"
           ],
           "textposition": "outside",
           "texttemplate": "%{x}<br>%{y:s}",
           "type": "bar",
           "x": [
            "Switzerland",
            "Turkey",
            "Iran",
            "United Kingdom",
            "France",
            "China",
            "Germany",
            "Italy",
            "Spain",
            "US"
           ],
           "y": [
            22253,
            34109,
            62589,
            72224,
            79163,
            82718,
            107663,
            135586,
            141942,
            397992
           ]
          }
         ],
         "layout": {
          "font": {
           "size": 20
          },
          "height": 700,
          "title": {
           "text": "VIZUALIZATION OF TOP 10 BY COMPARISON For: 2020-04-07"
          },
          "xaxis": {
           "showline": false,
           "tickangle": -90,
           "visible": false
          },
          "yaxis": {
           "showline": false,
           "visible": false
          }
         }
        },
        {
         "data": [
          {
           "cliponaxis": false,
           "hoverinfo": "none",
           "marker": {
            "color": [
             "rgb(183,21,100)",
             "rgb(109,169,39)",
             "rgb(128,163,94)",
             "rgb(129,168,167)",
             "rgb(171,83,28)",
             "rgb(7,143,163)",
             "rgb(120,115,121)",
             "rgb(156,184,100)",
             "rgb(100,79,104)",
             "rgb(56,12,132)"
            ]
           },
           "text": [
            "Belgium",
            "Turkey",
            "Iran",
            "United Kingdom",
            "China",
            "France",
            "Germany",
            "Italy",
            "Spain",
            "US"
           ],
           "textposition": "outside",
           "texttemplate": "%{x}<br>%{y:s}",
           "type": "bar",
           "x": [
            "Belgium",
            "Turkey",
            "Iran",
            "United Kingdom",
            "China",
            "France",
            "Germany",
            "Italy",
            "Spain",
            "US"
           ],
           "y": [
            23403,
            38226,
            64586,
            77387,
            82809,
            83057,
            113296,
            139422,
            148220,
            429686
           ]
          }
         ],
         "layout": {
          "font": {
           "size": 20
          },
          "height": 700,
          "title": {
           "text": "VIZUALIZATION OF TOP 10 BY COMPARISON For: 2020-04-08"
          },
          "xaxis": {
           "showline": false,
           "tickangle": -90,
           "visible": false
          },
          "yaxis": {
           "showline": false,
           "visible": false
          }
         }
        },
        {
         "data": [
          {
           "cliponaxis": false,
           "hoverinfo": "none",
           "marker": {
            "color": [
             "rgb(183,21,100)",
             "rgb(109,169,39)",
             "rgb(128,163,94)",
             "rgb(129,168,167)",
             "rgb(171,83,28)",
             "rgb(7,143,163)",
             "rgb(120,115,121)",
             "rgb(156,184,100)",
             "rgb(100,79,104)",
             "rgb(56,12,132)"
            ]
           },
           "text": [
            "Belgium",
            "Turkey",
            "Iran",
            "United Kingdom",
            "China",
            "France",
            "Germany",
            "Italy",
            "Spain",
            "US"
           ],
           "textposition": "outside",
           "texttemplate": "%{x}<br>%{y:s}",
           "type": "bar",
           "x": [
            "Belgium",
            "Turkey",
            "Iran",
            "United Kingdom",
            "China",
            "France",
            "Germany",
            "Italy",
            "Spain",
            "US"
           ],
           "y": [
            24983,
            42282,
            66220,
            82293,
            82883,
            87366,
            118181,
            143626,
            153222,
            464442
           ]
          }
         ],
         "layout": {
          "font": {
           "size": 20
          },
          "height": 700,
          "title": {
           "text": "VIZUALIZATION OF TOP 10 BY COMPARISON For: 2020-04-09"
          },
          "xaxis": {
           "showline": false,
           "tickangle": -90,
           "visible": false
          },
          "yaxis": {
           "showline": false,
           "visible": false
          }
         }
        },
        {
         "data": [
          {
           "cliponaxis": false,
           "hoverinfo": "none",
           "marker": {
            "color": [
             "rgb(183,21,100)",
             "rgb(109,169,39)",
             "rgb(128,163,94)",
             "rgb(171,83,28)",
             "rgb(129,168,167)",
             "rgb(7,143,163)",
             "rgb(120,115,121)",
             "rgb(156,184,100)",
             "rgb(100,79,104)",
             "rgb(56,12,132)"
            ]
           },
           "text": [
            "Belgium",
            "Turkey",
            "Iran",
            "China",
            "United Kingdom",
            "France",
            "Germany",
            "Italy",
            "Spain",
            "US"
           ],
           "textposition": "outside",
           "texttemplate": "%{x}<br>%{y:s}",
           "type": "bar",
           "x": [
            "Belgium",
            "Turkey",
            "Iran",
            "China",
            "United Kingdom",
            "France",
            "Germany",
            "Italy",
            "Spain",
            "US"
           ],
           "y": [
            26667,
            47029,
            68192,
            82941,
            86660,
            91738,
            122171,
            147577,
            158273,
            497943
           ]
          }
         ],
         "layout": {
          "font": {
           "size": 20
          },
          "height": 700,
          "title": {
           "text": "VIZUALIZATION OF TOP 10 BY COMPARISON For: 2020-04-10"
          },
          "xaxis": {
           "showline": false,
           "tickangle": -90,
           "visible": false
          },
          "yaxis": {
           "showline": false,
           "visible": false
          }
         }
        },
        {
         "data": [
          {
           "cliponaxis": false,
           "hoverinfo": "none",
           "marker": {
            "color": [
             "rgb(183,21,100)",
             "rgb(109,169,39)",
             "rgb(128,163,94)",
             "rgb(171,83,28)",
             "rgb(129,168,167)",
             "rgb(7,143,163)",
             "rgb(120,115,121)",
             "rgb(156,184,100)",
             "rgb(100,79,104)",
             "rgb(56,12,132)"
            ]
           },
           "text": [
            "Belgium",
            "Turkey",
            "Iran",
            "China",
            "United Kingdom",
            "France",
            "Germany",
            "Italy",
            "Spain",
            "US"
           ],
           "textposition": "outside",
           "texttemplate": "%{x}<br>%{y:s}",
           "type": "bar",
           "x": [
            "Belgium",
            "Turkey",
            "Iran",
            "China",
            "United Kingdom",
            "France",
            "Germany",
            "Italy",
            "Spain",
            "US"
           ],
           "y": [
            28018,
            52167,
            70029,
            83014,
            90273,
            94863,
            124908,
            152271,
            163027,
            527969
           ]
          }
         ],
         "layout": {
          "font": {
           "size": 20
          },
          "height": 700,
          "title": {
           "text": "VIZUALIZATION OF TOP 10 BY COMPARISON For: 2020-04-11"
          },
          "xaxis": {
           "showline": false,
           "tickangle": -90,
           "visible": false
          },
          "yaxis": {
           "showline": false,
           "visible": false
          }
         }
        },
        {
         "data": [
          {
           "cliponaxis": false,
           "hoverinfo": "none",
           "marker": {
            "color": [
             "rgb(183,21,100)",
             "rgb(109,169,39)",
             "rgb(128,163,94)",
             "rgb(171,83,28)",
             "rgb(129,168,167)",
             "rgb(7,143,163)",
             "rgb(120,115,121)",
             "rgb(156,184,100)",
             "rgb(100,79,104)",
             "rgb(56,12,132)"
            ]
           },
           "text": [
            "Belgium",
            "Turkey",
            "Iran",
            "China",
            "United Kingdom",
            "France",
            "Germany",
            "Italy",
            "Spain",
            "US"
           ],
           "textposition": "outside",
           "texttemplate": "%{x}<br>%{y:s}",
           "type": "bar",
           "x": [
            "Belgium",
            "Turkey",
            "Iran",
            "China",
            "United Kingdom",
            "France",
            "Germany",
            "Italy",
            "Spain",
            "US"
           ],
           "y": [
            29647,
            56956,
            71686,
            83134,
            93812,
            121712,
            127854,
            156363,
            166831,
            556522
           ]
          }
         ],
         "layout": {
          "font": {
           "size": 20
          },
          "height": 700,
          "title": {
           "text": "VIZUALIZATION OF TOP 10 BY COMPARISON For: 2020-04-12"
          },
          "xaxis": {
           "showline": false,
           "tickangle": -90,
           "visible": false
          },
          "yaxis": {
           "showline": false,
           "visible": false
          }
         }
        },
        {
         "data": [
          {
           "cliponaxis": false,
           "hoverinfo": "none",
           "marker": {
            "color": [
             "rgb(183,21,100)",
             "rgb(109,169,39)",
             "rgb(128,163,94)",
             "rgb(171,83,28)",
             "rgb(129,168,167)",
             "rgb(7,143,163)",
             "rgb(120,115,121)",
             "rgb(156,184,100)",
             "rgb(100,79,104)",
             "rgb(56,12,132)"
            ]
           },
           "text": [
            "Belgium",
            "Turkey",
            "Iran",
            "China",
            "United Kingdom",
            "France",
            "Germany",
            "Italy",
            "Spain",
            "US"
           ],
           "textposition": "outside",
           "texttemplate": "%{x}<br>%{y:s}",
           "type": "bar",
           "x": [
            "Belgium",
            "Turkey",
            "Iran",
            "China",
            "United Kingdom",
            "France",
            "Germany",
            "Italy",
            "Spain",
            "US"
           ],
           "y": [
            30589,
            61049,
            73303,
            83213,
            98017,
            125394,
            130072,
            159516,
            170099,
            581813
           ]
          }
         ],
         "layout": {
          "font": {
           "size": 20
          },
          "height": 700,
          "title": {
           "text": "VIZUALIZATION OF TOP 10 BY COMPARISON For: 2020-04-13"
          },
          "xaxis": {
           "showline": false,
           "tickangle": -90,
           "visible": false
          },
          "yaxis": {
           "showline": false,
           "visible": false
          }
         }
        },
        {
         "data": [
          {
           "cliponaxis": false,
           "hoverinfo": "none",
           "marker": {
            "color": [
             "rgb(183,21,100)",
             "rgb(109,169,39)",
             "rgb(128,163,94)",
             "rgb(171,83,28)",
             "rgb(129,168,167)",
             "rgb(7,143,163)",
             "rgb(120,115,121)",
             "rgb(156,184,100)",
             "rgb(100,79,104)",
             "rgb(56,12,132)"
            ]
           },
           "text": [
            "Belgium",
            "Turkey",
            "Iran",
            "China",
            "United Kingdom",
            "France",
            "Germany",
            "Italy",
            "Spain",
            "US"
           ],
           "textposition": "outside",
           "texttemplate": "%{x}<br>%{y:s}",
           "type": "bar",
           "x": [
            "Belgium",
            "Turkey",
            "Iran",
            "China",
            "United Kingdom",
            "France",
            "Germany",
            "Italy",
            "Spain",
            "US"
           ],
           "y": [
            31119,
            65111,
            74877,
            83306,
            102365,
            130365,
            131359,
            162488,
            172541,
            608878
           ]
          }
         ],
         "layout": {
          "font": {
           "size": 20
          },
          "height": 700,
          "title": {
           "text": "VIZUALIZATION OF TOP 10 BY COMPARISON For: 2020-04-14"
          },
          "xaxis": {
           "showline": false,
           "tickangle": -90,
           "visible": false
          },
          "yaxis": {
           "showline": false,
           "visible": false
          }
         }
        },
        {
         "data": [
          {
           "cliponaxis": false,
           "hoverinfo": "none",
           "marker": {
            "color": [
             "rgb(183,21,100)",
             "rgb(109,169,39)",
             "rgb(128,163,94)",
             "rgb(171,83,28)",
             "rgb(129,168,167)",
             "rgb(7,143,163)",
             "rgb(120,115,121)",
             "rgb(156,184,100)",
             "rgb(100,79,104)",
             "rgb(56,12,132)"
            ]
           },
           "text": [
            "Belgium",
            "Turkey",
            "Iran",
            "China",
            "United Kingdom",
            "France",
            "Germany",
            "Italy",
            "Spain",
            "US"
           ],
           "textposition": "outside",
           "texttemplate": "%{x}<br>%{y:s}",
           "type": "bar",
           "x": [
            "Belgium",
            "Turkey",
            "Iran",
            "China",
            "United Kingdom",
            "France",
            "Germany",
            "Italy",
            "Spain",
            "US"
           ],
           "y": [
            33573,
            69392,
            76389,
            83356,
            107465,
            133585,
            134753,
            165155,
            177644,
            637974
           ]
          }
         ],
         "layout": {
          "font": {
           "size": 20
          },
          "height": 700,
          "title": {
           "text": "VIZUALIZATION OF TOP 10 BY COMPARISON For: 2020-04-15"
          },
          "xaxis": {
           "showline": false,
           "tickangle": -90,
           "visible": false
          },
          "yaxis": {
           "showline": false,
           "visible": false
          }
         }
        },
        {
         "data": [
          {
           "cliponaxis": false,
           "hoverinfo": "none",
           "marker": {
            "color": [
             "rgb(183,21,100)",
             "rgb(109,169,39)",
             "rgb(128,163,94)",
             "rgb(171,83,28)",
             "rgb(129,168,167)",
             "rgb(120,115,121)",
             "rgb(7,143,163)",
             "rgb(156,184,100)",
             "rgb(100,79,104)",
             "rgb(56,12,132)"
            ]
           },
           "text": [
            "Belgium",
            "Turkey",
            "Iran",
            "China",
            "United Kingdom",
            "Germany",
            "France",
            "Italy",
            "Spain",
            "US"
           ],
           "textposition": "outside",
           "texttemplate": "%{x}<br>%{y:s}",
           "type": "bar",
           "x": [
            "Belgium",
            "Turkey",
            "Iran",
            "China",
            "United Kingdom",
            "Germany",
            "France",
            "Italy",
            "Spain",
            "US"
           ],
           "y": [
            34809,
            74193,
            77995,
            83403,
            112808,
            137698,
            146075,
            168941,
            184948,
            669272
           ]
          }
         ],
         "layout": {
          "font": {
           "size": 20
          },
          "height": 700,
          "title": {
           "text": "VIZUALIZATION OF TOP 10 BY COMPARISON For: 2020-04-16"
          },
          "xaxis": {
           "showline": false,
           "tickangle": -90,
           "visible": false
          },
          "yaxis": {
           "showline": false,
           "visible": false
          }
         }
        },
        {
         "data": [
          {
           "cliponaxis": false,
           "hoverinfo": "none",
           "marker": {
            "color": [
             "rgb(183,21,100)",
             "rgb(109,169,39)",
             "rgb(128,163,94)",
             "rgb(171,83,28)",
             "rgb(129,168,167)",
             "rgb(120,115,121)",
             "rgb(7,143,163)",
             "rgb(156,184,100)",
             "rgb(100,79,104)",
             "rgb(56,12,132)"
            ]
           },
           "text": [
            "Belgium",
            "Turkey",
            "Iran",
            "China",
            "United Kingdom",
            "Germany",
            "France",
            "Italy",
            "Spain",
            "US"
           ],
           "textposition": "outside",
           "texttemplate": "%{x}<br>%{y:s}",
           "type": "bar",
           "x": [
            "Belgium",
            "Turkey",
            "Iran",
            "China",
            "United Kingdom",
            "Germany",
            "France",
            "Italy",
            "Spain",
            "US"
           ],
           "y": [
            36138,
            78546,
            79494,
            83760,
            117798,
            141397,
            148084,
            172434,
            190839,
            701996
           ]
          }
         ],
         "layout": {
          "font": {
           "size": 20
          },
          "height": 700,
          "title": {
           "text": "VIZUALIZATION OF TOP 10 BY COMPARISON For: 2020-04-17"
          },
          "xaxis": {
           "showline": false,
           "tickangle": -90,
           "visible": false
          },
          "yaxis": {
           "showline": false,
           "visible": false
          }
         }
        },
        {
         "data": [
          {
           "cliponaxis": false,
           "hoverinfo": "none",
           "marker": {
            "color": [
             "rgb(183,21,100)",
             "rgb(128,163,94)",
             "rgb(109,169,39)",
             "rgb(171,83,28)",
             "rgb(129,168,167)",
             "rgb(120,115,121)",
             "rgb(7,143,163)",
             "rgb(156,184,100)",
             "rgb(100,79,104)",
             "rgb(56,12,132)"
            ]
           },
           "text": [
            "Belgium",
            "Iran",
            "Turkey",
            "China",
            "United Kingdom",
            "Germany",
            "France",
            "Italy",
            "Spain",
            "US"
           ],
           "textposition": "outside",
           "texttemplate": "%{x}<br>%{y:s}",
           "type": "bar",
           "x": [
            "Belgium",
            "Iran",
            "Turkey",
            "China",
            "United Kingdom",
            "Germany",
            "France",
            "Italy",
            "Spain",
            "US"
           ],
           "y": [
            37183,
            80868,
            82329,
            83787,
            122534,
            143342,
            148086,
            175925,
            191726,
            730337
           ]
          }
         ],
         "layout": {
          "font": {
           "size": 20
          },
          "height": 700,
          "title": {
           "text": "VIZUALIZATION OF TOP 10 BY COMPARISON For: 2020-04-18"
          },
          "xaxis": {
           "showline": false,
           "tickangle": -90,
           "visible": false
          },
          "yaxis": {
           "showline": false,
           "visible": false
          }
         }
        },
        {
         "data": [
          {
           "cliponaxis": false,
           "hoverinfo": "none",
           "marker": {
            "color": [
             "rgb(183,76,149)",
             "rgb(128,163,94)",
             "rgb(171,83,28)",
             "rgb(109,169,39)",
             "rgb(129,168,167)",
             "rgb(120,115,121)",
             "rgb(7,143,163)",
             "rgb(156,184,100)",
             "rgb(100,79,104)",
             "rgb(56,12,132)"
            ]
           },
           "text": [
            "Russia",
            "Iran",
            "China",
            "Turkey",
            "United Kingdom",
            "Germany",
            "France",
            "Italy",
            "Spain",
            "US"
           ],
           "textposition": "outside",
           "texttemplate": "%{x}<br>%{y:s}",
           "type": "bar",
           "x": [
            "Russia",
            "Iran",
            "China",
            "Turkey",
            "United Kingdom",
            "Germany",
            "France",
            "Italy",
            "Spain",
            "US"
           ],
           "y": [
            42853,
            82211,
            83805,
            86306,
            126394,
            145184,
            153011,
            178972,
            198674,
            756375
           ]
          }
         ],
         "layout": {
          "font": {
           "size": 20
          },
          "height": 700,
          "title": {
           "text": "VIZUALIZATION OF TOP 10 BY COMPARISON For: 2020-04-19"
          },
          "xaxis": {
           "showline": false,
           "tickangle": -90,
           "visible": false
          },
          "yaxis": {
           "showline": false,
           "visible": false
          }
         }
        },
        {
         "data": [
          {
           "cliponaxis": false,
           "hoverinfo": "none",
           "marker": {
            "color": [
             "rgb(183,76,149)",
             "rgb(128,163,94)",
             "rgb(171,83,28)",
             "rgb(109,169,39)",
             "rgb(129,168,167)",
             "rgb(120,115,121)",
             "rgb(7,143,163)",
             "rgb(156,184,100)",
             "rgb(100,79,104)",
             "rgb(56,12,132)"
            ]
           },
           "text": [
            "Russia",
            "Iran",
            "China",
            "Turkey",
            "United Kingdom",
            "Germany",
            "France",
            "Italy",
            "Spain",
            "US"
           ],
           "textposition": "outside",
           "texttemplate": "%{x}<br>%{y:s}",
           "type": "bar",
           "x": [
            "Russia",
            "Iran",
            "China",
            "Turkey",
            "United Kingdom",
            "Germany",
            "France",
            "Italy",
            "Spain",
            "US"
           ],
           "y": [
            47121,
            83505,
            83817,
            90980,
            131260,
            147065,
            155393,
            181228,
            200210,
            783716
           ]
          }
         ],
         "layout": {
          "font": {
           "size": 20
          },
          "height": 700,
          "title": {
           "text": "VIZUALIZATION OF TOP 10 BY COMPARISON For: 2020-04-20"
          },
          "xaxis": {
           "showline": false,
           "tickangle": -90,
           "visible": false
          },
          "yaxis": {
           "showline": false,
           "visible": false
          }
         }
        },
        {
         "data": [
          {
           "cliponaxis": false,
           "hoverinfo": "none",
           "marker": {
            "color": [
             "rgb(183,76,149)",
             "rgb(171,83,28)",
             "rgb(128,163,94)",
             "rgb(109,169,39)",
             "rgb(129,168,167)",
             "rgb(120,115,121)",
             "rgb(7,143,163)",
             "rgb(156,184,100)",
             "rgb(100,79,104)",
             "rgb(56,12,132)"
            ]
           },
           "text": [
            "Russia",
            "China",
            "Iran",
            "Turkey",
            "United Kingdom",
            "Germany",
            "France",
            "Italy",
            "Spain",
            "US"
           ],
           "textposition": "outside",
           "texttemplate": "%{x}<br>%{y:s}",
           "type": "bar",
           "x": [
            "Russia",
            "China",
            "Iran",
            "Turkey",
            "United Kingdom",
            "Germany",
            "France",
            "Italy",
            "Spain",
            "US"
           ],
           "y": [
            52763,
            83853,
            84802,
            95591,
            136035,
            148291,
            158168,
            183957,
            204178,
            809318
           ]
          }
         ],
         "layout": {
          "font": {
           "size": 20
          },
          "height": 700,
          "title": {
           "text": "VIZUALIZATION OF TOP 10 BY COMPARISON For: 2020-04-21"
          },
          "xaxis": {
           "showline": false,
           "tickangle": -90,
           "visible": false
          },
          "yaxis": {
           "showline": false,
           "visible": false
          }
         }
        },
        {
         "data": [
          {
           "cliponaxis": false,
           "hoverinfo": "none",
           "marker": {
            "color": [
             "rgb(183,76,149)",
             "rgb(171,83,28)",
             "rgb(128,163,94)",
             "rgb(109,169,39)",
             "rgb(129,168,167)",
             "rgb(120,115,121)",
             "rgb(7,143,163)",
             "rgb(156,184,100)",
             "rgb(100,79,104)",
             "rgb(56,12,132)"
            ]
           },
           "text": [
            "Russia",
            "China",
            "Iran",
            "Turkey",
            "United Kingdom",
            "Germany",
            "France",
            "Italy",
            "Spain",
            "US"
           ],
           "textposition": "outside",
           "texttemplate": "%{x}<br>%{y:s}",
           "type": "bar",
           "x": [
            "Russia",
            "China",
            "Iran",
            "Turkey",
            "United Kingdom",
            "Germany",
            "France",
            "Italy",
            "Spain",
            "US"
           ],
           "y": [
            57999,
            83868,
            85996,
            98674,
            141540,
            150648,
            155980,
            187327,
            208389,
            837422
           ]
          }
         ],
         "layout": {
          "font": {
           "size": 20
          },
          "height": 700,
          "title": {
           "text": "VIZUALIZATION OF TOP 10 BY COMPARISON For: 2020-04-22"
          },
          "xaxis": {
           "showline": false,
           "tickangle": -90,
           "visible": false
          },
          "yaxis": {
           "showline": false,
           "visible": false
          }
         }
        },
        {
         "data": [
          {
           "cliponaxis": false,
           "hoverinfo": "none",
           "marker": {
            "color": [
             "rgb(183,76,149)",
             "rgb(171,83,28)",
             "rgb(128,163,94)",
             "rgb(109,169,39)",
             "rgb(129,168,167)",
             "rgb(120,115,121)",
             "rgb(7,143,163)",
             "rgb(156,184,100)",
             "rgb(100,79,104)",
             "rgb(56,12,132)"
            ]
           },
           "text": [
            "Russia",
            "China",
            "Iran",
            "Turkey",
            "United Kingdom",
            "Germany",
            "France",
            "Italy",
            "Spain",
            "US"
           ],
           "textposition": "outside",
           "texttemplate": "%{x}<br>%{y:s}",
           "type": "bar",
           "x": [
            "Russia",
            "China",
            "Iran",
            "Turkey",
            "United Kingdom",
            "Germany",
            "France",
            "Italy",
            "Spain",
            "US"
           ],
           "y": [
            62773,
            83884,
            87026,
            101790,
            146708,
            153129,
            158303,
            189973,
            213024,
            871617
           ]
          }
         ],
         "layout": {
          "font": {
           "size": 20
          },
          "height": 700,
          "title": {
           "text": "VIZUALIZATION OF TOP 10 BY COMPARISON For: 2020-04-23"
          },
          "xaxis": {
           "showline": false,
           "tickangle": -90,
           "visible": false
          },
          "yaxis": {
           "showline": false,
           "visible": false
          }
         }
        },
        {
         "data": [
          {
           "cliponaxis": false,
           "hoverinfo": "none",
           "marker": {
            "color": [
             "rgb(183,76,149)",
             "rgb(171,83,28)",
             "rgb(128,163,94)",
             "rgb(109,169,39)",
             "rgb(129,168,167)",
             "rgb(120,115,121)",
             "rgb(7,143,163)",
             "rgb(156,184,100)",
             "rgb(100,79,104)",
             "rgb(56,12,132)"
            ]
           },
           "text": [
            "Russia",
            "China",
            "Iran",
            "Turkey",
            "United Kingdom",
            "Germany",
            "France",
            "Italy",
            "Spain",
            "US"
           ],
           "textposition": "outside",
           "texttemplate": "%{x}<br>%{y:s}",
           "type": "bar",
           "x": [
            "Russia",
            "China",
            "Iran",
            "Turkey",
            "United Kingdom",
            "Germany",
            "France",
            "Italy",
            "Spain",
            "US"
           ],
           "y": [
            68622,
            83899,
            88194,
            104912,
            151689,
            154999,
            159952,
            192994,
            202990,
            907908
           ]
          }
         ],
         "layout": {
          "font": {
           "size": 20
          },
          "height": 700,
          "title": {
           "text": "VIZUALIZATION OF TOP 10 BY COMPARISON For: 2020-04-24"
          },
          "xaxis": {
           "showline": false,
           "tickangle": -90,
           "visible": false
          },
          "yaxis": {
           "showline": false,
           "visible": false
          }
         }
        },
        {
         "data": [
          {
           "cliponaxis": false,
           "hoverinfo": "none",
           "marker": {
            "color": [
             "rgb(183,76,149)",
             "rgb(171,83,28)",
             "rgb(128,163,94)",
             "rgb(109,169,39)",
             "rgb(129,168,167)",
             "rgb(120,115,121)",
             "rgb(7,143,163)",
             "rgb(156,184,100)",
             "rgb(100,79,104)",
             "rgb(56,12,132)"
            ]
           },
           "text": [
            "Russia",
            "China",
            "Iran",
            "Turkey",
            "United Kingdom",
            "Germany",
            "France",
            "Italy",
            "Spain",
            "US"
           ],
           "textposition": "outside",
           "texttemplate": "%{x}<br>%{y:s}",
           "type": "bar",
           "x": [
            "Russia",
            "China",
            "Iran",
            "Turkey",
            "United Kingdom",
            "Germany",
            "France",
            "Italy",
            "Spain",
            "US"
           ],
           "y": [
            74588,
            83909,
            89328,
            107773,
            155453,
            156513,
            161644,
            195351,
            205905,
            940829
           ]
          }
         ],
         "layout": {
          "font": {
           "size": 20
          },
          "height": 700,
          "title": {
           "text": "VIZUALIZATION OF TOP 10 BY COMPARISON For: 2020-04-25"
          },
          "xaxis": {
           "showline": false,
           "tickangle": -90,
           "visible": false
          },
          "yaxis": {
           "showline": false,
           "visible": false
          }
         }
        },
        {
         "data": [
          {
           "cliponaxis": false,
           "hoverinfo": "none",
           "marker": {
            "color": [
             "rgb(183,76,149)",
             "rgb(171,83,28)",
             "rgb(128,163,94)",
             "rgb(109,169,39)",
             "rgb(120,115,121)",
             "rgb(129,168,167)",
             "rgb(7,143,163)",
             "rgb(156,184,100)",
             "rgb(100,79,104)",
             "rgb(56,12,132)"
            ]
           },
           "text": [
            "Russia",
            "China",
            "Iran",
            "Turkey",
            "Germany",
            "United Kingdom",
            "France",
            "Italy",
            "Spain",
            "US"
           ],
           "textposition": "outside",
           "texttemplate": "%{x}<br>%{y:s}",
           "type": "bar",
           "x": [
            "Russia",
            "China",
            "Iran",
            "Turkey",
            "Germany",
            "United Kingdom",
            "France",
            "Italy",
            "Spain",
            "US"
           ],
           "y": [
            80949,
            83912,
            90481,
            110130,
            157770,
            158926,
            162220,
            197675,
            207634,
            968518
           ]
          }
         ],
         "layout": {
          "font": {
           "size": 20
          },
          "height": 700,
          "title": {
           "text": "VIZUALIZATION OF TOP 10 BY COMPARISON For: 2020-04-26"
          },
          "xaxis": {
           "showline": false,
           "tickangle": -90,
           "visible": false
          },
          "yaxis": {
           "showline": false,
           "visible": false
          }
         }
        },
        {
         "data": [
          {
           "cliponaxis": false,
           "hoverinfo": "none",
           "marker": {
            "color": [
             "rgb(171,83,28)",
             "rgb(183,76,149)",
             "rgb(128,163,94)",
             "rgb(109,169,39)",
             "rgb(120,115,121)",
             "rgb(129,168,167)",
             "rgb(7,143,163)",
             "rgb(156,184,100)",
             "rgb(100,79,104)",
             "rgb(56,12,132)"
            ]
           },
           "text": [
            "China",
            "Russia",
            "Iran",
            "Turkey",
            "Germany",
            "United Kingdom",
            "France",
            "Italy",
            "Spain",
            "US"
           ],
           "textposition": "outside",
           "texttemplate": "%{x}<br>%{y:s}",
           "type": "bar",
           "x": [
            "China",
            "Russia",
            "Iran",
            "Turkey",
            "Germany",
            "United Kingdom",
            "France",
            "Italy",
            "Spain",
            "US"
           ],
           "y": [
            83918,
            87147,
            91472,
            112261,
            158758,
            163630,
            165963,
            199414,
            209465,
            990983
           ]
          }
         ],
         "layout": {
          "font": {
           "size": 20
          },
          "height": 700,
          "title": {
           "text": "VIZUALIZATION OF TOP 10 BY COMPARISON For: 2020-04-27"
          },
          "xaxis": {
           "showline": false,
           "tickangle": -90,
           "visible": false
          },
          "yaxis": {
           "showline": false,
           "visible": false
          }
         }
        },
        {
         "data": [
          {
           "cliponaxis": false,
           "hoverinfo": "none",
           "marker": {
            "color": [
             "rgb(171,83,28)",
             "rgb(128,163,94)",
             "rgb(183,76,149)",
             "rgb(109,169,39)",
             "rgb(120,115,121)",
             "rgb(129,168,167)",
             "rgb(7,143,163)",
             "rgb(156,184,100)",
             "rgb(100,79,104)",
             "rgb(56,12,132)"
            ]
           },
           "text": [
            "China",
            "Iran",
            "Russia",
            "Turkey",
            "Germany",
            "United Kingdom",
            "France",
            "Italy",
            "Spain",
            "US"
           ],
           "textposition": "outside",
           "texttemplate": "%{x}<br>%{y:s}",
           "type": "bar",
           "x": [
            "China",
            "Iran",
            "Russia",
            "Turkey",
            "Germany",
            "United Kingdom",
            "France",
            "Italy",
            "Spain",
            "US"
           ],
           "y": [
            83940,
            92584,
            93558,
            114653,
            159912,
            168357,
            169053,
            201505,
            210773,
            1015518
           ]
          }
         ],
         "layout": {
          "font": {
           "size": 20
          },
          "height": 700,
          "title": {
           "text": "VIZUALIZATION OF TOP 10 BY COMPARISON For: 2020-04-28"
          },
          "xaxis": {
           "showline": false,
           "tickangle": -90,
           "visible": false
          },
          "yaxis": {
           "showline": false,
           "visible": false
          }
         }
        },
        {
         "data": [
          {
           "cliponaxis": false,
           "hoverinfo": "none",
           "marker": {
            "color": [
             "rgb(171,83,28)",
             "rgb(128,163,94)",
             "rgb(183,76,149)",
             "rgb(109,169,39)",
             "rgb(120,115,121)",
             "rgb(7,143,163)",
             "rgb(129,168,167)",
             "rgb(156,184,100)",
             "rgb(100,79,104)",
             "rgb(56,12,132)"
            ]
           },
           "text": [
            "China",
            "Iran",
            "Russia",
            "Turkey",
            "Germany",
            "France",
            "United Kingdom",
            "Italy",
            "Spain",
            "US"
           ],
           "textposition": "outside",
           "texttemplate": "%{x}<br>%{y:s}",
           "type": "bar",
           "x": [
            "China",
            "Iran",
            "Russia",
            "Turkey",
            "Germany",
            "France",
            "United Kingdom",
            "Italy",
            "Spain",
            "US"
           ],
           "y": [
            83944,
            93657,
            99399,
            117589,
            161539,
            166543,
            173807,
            203591,
            212917,
            1043038
           ]
          }
         ],
         "layout": {
          "font": {
           "size": 20
          },
          "height": 700,
          "title": {
           "text": "VIZUALIZATION OF TOP 10 BY COMPARISON For: 2020-04-29"
          },
          "xaxis": {
           "showline": false,
           "tickangle": -90,
           "visible": false
          },
          "yaxis": {
           "showline": false,
           "visible": false
          }
         }
        },
        {
         "data": [
          {
           "cliponaxis": false,
           "hoverinfo": "none",
           "marker": {
            "color": [
             "rgb(121,107,185)",
             "rgb(128,163,94)",
             "rgb(183,76,149)",
             "rgb(109,169,39)",
             "rgb(120,115,121)",
             "rgb(7,143,163)",
             "rgb(129,168,167)",
             "rgb(156,184,100)",
             "rgb(100,79,104)",
             "rgb(56,12,132)"
            ]
           },
           "text": [
            "Brazil",
            "Iran",
            "Russia",
            "Turkey",
            "Germany",
            "France",
            "United Kingdom",
            "Italy",
            "Spain",
            "US"
           ],
           "textposition": "outside",
           "texttemplate": "%{x}<br>%{y:s}",
           "type": "bar",
           "x": [
            "Brazil",
            "Iran",
            "Russia",
            "Turkey",
            "Germany",
            "France",
            "United Kingdom",
            "Italy",
            "Spain",
            "US"
           ],
           "y": [
            87187,
            94640,
            106498,
            120204,
            163009,
            167299,
            178771,
            205463,
            213435,
            1072667
           ]
          }
         ],
         "layout": {
          "font": {
           "size": 20
          },
          "height": 700,
          "title": {
           "text": "VIZUALIZATION OF TOP 10 BY COMPARISON For: 2020-04-30"
          },
          "xaxis": {
           "showline": false,
           "tickangle": -90,
           "visible": false
          },
          "yaxis": {
           "showline": false,
           "visible": false
          }
         }
        },
        {
         "data": [
          {
           "cliponaxis": false,
           "hoverinfo": "none",
           "marker": {
            "color": [
             "rgb(121,107,185)",
             "rgb(128,163,94)",
             "rgb(183,76,149)",
             "rgb(109,169,39)",
             "rgb(120,115,121)",
             "rgb(7,143,163)",
             "rgb(129,168,167)",
             "rgb(156,184,100)",
             "rgb(100,79,104)",
             "rgb(56,12,132)"
            ]
           },
           "text": [
            "Brazil",
            "Iran",
            "Russia",
            "Turkey",
            "Germany",
            "France",
            "United Kingdom",
            "Italy",
            "Spain",
            "US"
           ],
           "textposition": "outside",
           "texttemplate": "%{x}<br>%{y:s}",
           "type": "bar",
           "x": [
            "Brazil",
            "Iran",
            "Russia",
            "Turkey",
            "Germany",
            "France",
            "United Kingdom",
            "Italy",
            "Spain",
            "US"
           ],
           "y": [
            92202,
            95646,
            114431,
            122392,
            164077,
            167305,
            183501,
            207428,
            215216,
            1106829
           ]
          }
         ],
         "layout": {
          "font": {
           "size": 20
          },
          "height": 700,
          "title": {
           "text": "VIZUALIZATION OF TOP 10 BY COMPARISON For: 2020-05-01"
          },
          "xaxis": {
           "showline": false,
           "tickangle": -90,
           "visible": false
          },
          "yaxis": {
           "showline": false,
           "visible": false
          }
         }
        },
        {
         "data": [
          {
           "cliponaxis": false,
           "hoverinfo": "none",
           "marker": {
            "color": [
             "rgb(128,163,94)",
             "rgb(121,107,185)",
             "rgb(183,76,149)",
             "rgb(109,169,39)",
             "rgb(120,115,121)",
             "rgb(7,143,163)",
             "rgb(129,168,167)",
             "rgb(156,184,100)",
             "rgb(100,79,104)",
             "rgb(56,12,132)"
            ]
           },
           "text": [
            "Iran",
            "Brazil",
            "Russia",
            "Turkey",
            "Germany",
            "France",
            "United Kingdom",
            "Italy",
            "Spain",
            "US"
           ],
           "textposition": "outside",
           "texttemplate": "%{x}<br>%{y:s}",
           "type": "bar",
           "x": [
            "Iran",
            "Brazil",
            "Russia",
            "Turkey",
            "Germany",
            "France",
            "United Kingdom",
            "Italy",
            "Spain",
            "US"
           ],
           "y": [
            96448,
            97100,
            124054,
            124375,
            164967,
            168518,
            186731,
            209328,
            216582,
            1136024
           ]
          }
         ],
         "layout": {
          "font": {
           "size": 20
          },
          "height": 700,
          "title": {
           "text": "VIZUALIZATION OF TOP 10 BY COMPARISON For: 2020-05-02"
          },
          "xaxis": {
           "showline": false,
           "tickangle": -90,
           "visible": false
          },
          "yaxis": {
           "showline": false,
           "visible": false
          }
         }
        },
        {
         "data": [
          {
           "cliponaxis": false,
           "hoverinfo": "none",
           "marker": {
            "color": [
             "rgb(128,163,94)",
             "rgb(121,107,185)",
             "rgb(109,169,39)",
             "rgb(183,76,149)",
             "rgb(120,115,121)",
             "rgb(7,143,163)",
             "rgb(129,168,167)",
             "rgb(156,184,100)",
             "rgb(100,79,104)",
             "rgb(56,12,132)"
            ]
           },
           "text": [
            "Iran",
            "Brazil",
            "Turkey",
            "Russia",
            "Germany",
            "France",
            "United Kingdom",
            "Italy",
            "Spain",
            "US"
           ],
           "textposition": "outside",
           "texttemplate": "%{x}<br>%{y:s}",
           "type": "bar",
           "x": [
            "Iran",
            "Brazil",
            "Turkey",
            "Russia",
            "Germany",
            "France",
            "United Kingdom",
            "Italy",
            "Spain",
            "US"
           ],
           "y": [
            97424,
            101826,
            126045,
            134687,
            165664,
            168925,
            189708,
            210717,
            217466,
            1161611
           ]
          }
         ],
         "layout": {
          "font": {
           "size": 20
          },
          "height": 700,
          "title": {
           "text": "VIZUALIZATION OF TOP 10 BY COMPARISON For: 2020-05-03"
          },
          "xaxis": {
           "showline": false,
           "tickangle": -90,
           "visible": false
          },
          "yaxis": {
           "showline": false,
           "visible": false
          }
         }
        },
        {
         "data": [
          {
           "cliponaxis": false,
           "hoverinfo": "none",
           "marker": {
            "color": [
             "rgb(128,163,94)",
             "rgb(121,107,185)",
             "rgb(109,169,39)",
             "rgb(183,76,149)",
             "rgb(120,115,121)",
             "rgb(7,143,163)",
             "rgb(129,168,167)",
             "rgb(156,184,100)",
             "rgb(100,79,104)",
             "rgb(56,12,132)"
            ]
           },
           "text": [
            "Iran",
            "Brazil",
            "Turkey",
            "Russia",
            "Germany",
            "France",
            "United Kingdom",
            "Italy",
            "Spain",
            "US"
           ],
           "textposition": "outside",
           "texttemplate": "%{x}<br>%{y:s}",
           "type": "bar",
           "x": [
            "Iran",
            "Brazil",
            "Turkey",
            "Russia",
            "Germany",
            "France",
            "United Kingdom",
            "Italy",
            "Spain",
            "US"
           ],
           "y": [
            98647,
            108620,
            127659,
            145268,
            166152,
            169583,
            193091,
            211938,
            218011,
            1184086
           ]
          }
         ],
         "layout": {
          "font": {
           "size": 20
          },
          "height": 700,
          "title": {
           "text": "VIZUALIZATION OF TOP 10 BY COMPARISON For: 2020-05-04"
          },
          "xaxis": {
           "showline": false,
           "tickangle": -90,
           "visible": false
          },
          "yaxis": {
           "showline": false,
           "visible": false
          }
         }
        },
        {
         "data": [
          {
           "cliponaxis": false,
           "hoverinfo": "none",
           "marker": {
            "color": [
             "rgb(128,163,94)",
             "rgb(121,107,185)",
             "rgb(109,169,39)",
             "rgb(183,76,149)",
             "rgb(120,115,121)",
             "rgb(7,143,163)",
             "rgb(129,168,167)",
             "rgb(156,184,100)",
             "rgb(100,79,104)",
             "rgb(56,12,132)"
            ]
           },
           "text": [
            "Iran",
            "Brazil",
            "Turkey",
            "Russia",
            "Germany",
            "France",
            "United Kingdom",
            "Italy",
            "Spain",
            "US"
           ],
           "textposition": "outside",
           "texttemplate": "%{x}<br>%{y:s}",
           "type": "bar",
           "x": [
            "Iran",
            "Brazil",
            "Turkey",
            "Russia",
            "Germany",
            "France",
            "United Kingdom",
            "Italy",
            "Spain",
            "US"
           ],
           "y": [
            99970,
            115455,
            129491,
            155370,
            167007,
            170687,
            196780,
            213013,
            219329,
            1208271
           ]
          }
         ],
         "layout": {
          "font": {
           "size": 20
          },
          "height": 700,
          "title": {
           "text": "VIZUALIZATION OF TOP 10 BY COMPARISON For: 2020-05-05"
          },
          "xaxis": {
           "showline": false,
           "tickangle": -90,
           "visible": false
          },
          "yaxis": {
           "showline": false,
           "visible": false
          }
         }
        },
        {
         "data": [
          {
           "cliponaxis": false,
           "hoverinfo": "none",
           "marker": {
            "color": [
             "rgb(128,163,94)",
             "rgb(121,107,185)",
             "rgb(109,169,39)",
             "rgb(183,76,149)",
             "rgb(120,115,121)",
             "rgb(7,143,163)",
             "rgb(129,168,167)",
             "rgb(156,184,100)",
             "rgb(100,79,104)",
             "rgb(56,12,132)"
            ]
           },
           "text": [
            "Iran",
            "Brazil",
            "Turkey",
            "Russia",
            "Germany",
            "France",
            "United Kingdom",
            "Italy",
            "Spain",
            "US"
           ],
           "textposition": "outside",
           "texttemplate": "%{x}<br>%{y:s}",
           "type": "bar",
           "x": [
            "Iran",
            "Brazil",
            "Turkey",
            "Russia",
            "Germany",
            "France",
            "United Kingdom",
            "Italy",
            "Spain",
            "US"
           ],
           "y": [
            101650,
            126611,
            131744,
            165929,
            168162,
            174224,
            200616,
            214457,
            220325,
            1233527
           ]
          }
         ],
         "layout": {
          "font": {
           "size": 20
          },
          "height": 700,
          "title": {
           "text": "VIZUALIZATION OF TOP 10 BY COMPARISON For: 2020-05-06"
          },
          "xaxis": {
           "showline": false,
           "tickangle": -90,
           "visible": false
          },
          "yaxis": {
           "showline": false,
           "visible": false
          }
         }
        },
        {
         "data": [
          {
           "cliponaxis": false,
           "hoverinfo": "none",
           "marker": {
            "color": [
             "rgb(128,163,94)",
             "rgb(109,169,39)",
             "rgb(121,107,185)",
             "rgb(120,115,121)",
             "rgb(7,143,163)",
             "rgb(183,76,149)",
             "rgb(129,168,167)",
             "rgb(156,184,100)",
             "rgb(100,79,104)",
             "rgb(56,12,132)"
            ]
           },
           "text": [
            "Iran",
            "Turkey",
            "Brazil",
            "Germany",
            "France",
            "Russia",
            "United Kingdom",
            "Italy",
            "Spain",
            "US"
           ],
           "textposition": "outside",
           "texttemplate": "%{x}<br>%{y:s}",
           "type": "bar",
           "x": [
            "Iran",
            "Turkey",
            "Brazil",
            "Germany",
            "France",
            "Russia",
            "United Kingdom",
            "Italy",
            "Spain",
            "US"
           ],
           "y": [
            103135,
            133721,
            135773,
            169430,
            174918,
            177160,
            204387,
            215858,
            221447,
            1261409
           ]
          }
         ],
         "layout": {
          "font": {
           "size": 20
          },
          "height": 700,
          "title": {
           "text": "VIZUALIZATION OF TOP 10 BY COMPARISON For: 2020-05-07"
          },
          "xaxis": {
           "showline": false,
           "tickangle": -90,
           "visible": false
          },
          "yaxis": {
           "showline": false,
           "visible": false
          }
         }
        },
        {
         "data": [
          {
           "cliponaxis": false,
           "hoverinfo": "none",
           "marker": {
            "color": [
             "rgb(128,163,94)",
             "rgb(109,169,39)",
             "rgb(121,107,185)",
             "rgb(120,115,121)",
             "rgb(7,143,163)",
             "rgb(183,76,149)",
             "rgb(129,168,167)",
             "rgb(156,184,100)",
             "rgb(100,79,104)",
             "rgb(56,12,132)"
            ]
           },
           "text": [
            "Iran",
            "Turkey",
            "Brazil",
            "Germany",
            "France",
            "Russia",
            "United Kingdom",
            "Italy",
            "Spain",
            "US"
           ],
           "textposition": "outside",
           "texttemplate": "%{x}<br>%{y:s}",
           "type": "bar",
           "x": [
            "Iran",
            "Turkey",
            "Brazil",
            "Germany",
            "France",
            "Russia",
            "United Kingdom",
            "Italy",
            "Spain",
            "US"
           ],
           "y": [
            104691,
            135569,
            146894,
            170588,
            176202,
            187859,
            207439,
            217185,
            222857,
            1288587
           ]
          }
         ],
         "layout": {
          "font": {
           "size": 20
          },
          "height": 700,
          "title": {
           "text": "VIZUALIZATION OF TOP 10 BY COMPARISON For: 2020-05-08"
          },
          "xaxis": {
           "showline": false,
           "tickangle": -90,
           "visible": false
          },
          "yaxis": {
           "showline": false,
           "visible": false
          }
         }
        },
        {
         "data": [
          {
           "cliponaxis": false,
           "hoverinfo": "none",
           "marker": {
            "color": [
             "rgb(128,163,94)",
             "rgb(109,169,39)",
             "rgb(121,107,185)",
             "rgb(120,115,121)",
             "rgb(7,143,163)",
             "rgb(183,76,149)",
             "rgb(129,168,167)",
             "rgb(156,184,100)",
             "rgb(100,79,104)",
             "rgb(56,12,132)"
            ]
           },
           "text": [
            "Iran",
            "Turkey",
            "Brazil",
            "Germany",
            "France",
            "Russia",
            "United Kingdom",
            "Italy",
            "Spain",
            "US"
           ],
           "textposition": "outside",
           "texttemplate": "%{x}<br>%{y:s}",
           "type": "bar",
           "x": [
            "Iran",
            "Turkey",
            "Brazil",
            "Germany",
            "France",
            "Russia",
            "United Kingdom",
            "Italy",
            "Spain",
            "US"
           ],
           "y": [
            106220,
            137115,
            156061,
            171324,
            176782,
            198676,
            209589,
            218268,
            223578,
            1314320
           ]
          }
         ],
         "layout": {
          "font": {
           "size": 20
          },
          "height": 700,
          "title": {
           "text": "VIZUALIZATION OF TOP 10 BY COMPARISON For: 2020-05-09"
          },
          "xaxis": {
           "showline": false,
           "tickangle": -90,
           "visible": false
          },
          "yaxis": {
           "showline": false,
           "visible": false
          }
         }
        },
        {
         "data": [
          {
           "cliponaxis": false,
           "hoverinfo": "none",
           "marker": {
            "color": [
             "rgb(128,163,94)",
             "rgb(109,169,39)",
             "rgb(121,107,185)",
             "rgb(120,115,121)",
             "rgb(7,143,163)",
             "rgb(183,76,149)",
             "rgb(129,168,167)",
             "rgb(156,184,100)",
             "rgb(100,79,104)",
             "rgb(56,12,132)"
            ]
           },
           "text": [
            "Iran",
            "Turkey",
            "Brazil",
            "Germany",
            "France",
            "Russia",
            "United Kingdom",
            "Italy",
            "Spain",
            "US"
           ],
           "textposition": "outside",
           "texttemplate": "%{x}<br>%{y:s}",
           "type": "bar",
           "x": [
            "Iran",
            "Turkey",
            "Brazil",
            "Germany",
            "France",
            "Russia",
            "United Kingdom",
            "Italy",
            "Spain",
            "US"
           ],
           "y": [
            107603,
            138657,
            162699,
            171879,
            177094,
            209688,
            211911,
            219070,
            224350,
            1334084
           ]
          }
         ],
         "layout": {
          "font": {
           "size": 20
          },
          "height": 700,
          "title": {
           "text": "VIZUALIZATION OF TOP 10 BY COMPARISON For: 2020-05-10"
          },
          "xaxis": {
           "showline": false,
           "tickangle": -90,
           "visible": false
          },
          "yaxis": {
           "showline": false,
           "visible": false
          }
         }
        },
        {
         "data": [
          {
           "cliponaxis": false,
           "hoverinfo": "none",
           "marker": {
            "color": [
             "rgb(128,163,94)",
             "rgb(109,169,39)",
             "rgb(121,107,185)",
             "rgb(120,115,121)",
             "rgb(7,143,163)",
             "rgb(129,168,167)",
             "rgb(156,184,100)",
             "rgb(183,76,149)",
             "rgb(100,79,104)",
             "rgb(56,12,132)"
            ]
           },
           "text": [
            "Iran",
            "Turkey",
            "Brazil",
            "Germany",
            "France",
            "United Kingdom",
            "Italy",
            "Russia",
            "Spain",
            "US"
           ],
           "textposition": "outside",
           "texttemplate": "%{x}<br>%{y:s}",
           "type": "bar",
           "x": [
            "Iran",
            "Turkey",
            "Brazil",
            "Germany",
            "France",
            "United Kingdom",
            "Italy",
            "Russia",
            "Spain",
            "US"
           ],
           "y": [
            109286,
            139771,
            169594,
            172576,
            177547,
            215500,
            219814,
            221344,
            227436,
            1352962
           ]
          }
         ],
         "layout": {
          "font": {
           "size": 20
          },
          "height": 700,
          "title": {
           "text": "VIZUALIZATION OF TOP 10 BY COMPARISON For: 2020-05-11"
          },
          "xaxis": {
           "showline": false,
           "tickangle": -90,
           "visible": false
          },
          "yaxis": {
           "showline": false,
           "visible": false
          }
         }
        },
        {
         "data": [
          {
           "cliponaxis": false,
           "hoverinfo": "none",
           "marker": {
            "color": [
             "rgb(128,163,94)",
             "rgb(109,169,39)",
             "rgb(120,115,121)",
             "rgb(121,107,185)",
             "rgb(7,143,163)",
             "rgb(129,168,167)",
             "rgb(156,184,100)",
             "rgb(100,79,104)",
             "rgb(183,76,149)",
             "rgb(56,12,132)"
            ]
           },
           "text": [
            "Iran",
            "Turkey",
            "Germany",
            "Brazil",
            "France",
            "United Kingdom",
            "Italy",
            "Spain",
            "Russia",
            "US"
           ],
           "textposition": "outside",
           "texttemplate": "%{x}<br>%{y:s}",
           "type": "bar",
           "x": [
            "Iran",
            "Turkey",
            "Germany",
            "Brazil",
            "France",
            "United Kingdom",
            "Italy",
            "Spain",
            "Russia",
            "US"
           ],
           "y": [
            110767,
            141475,
            173171,
            178214,
            178349,
            218895,
            221216,
            228030,
            232243,
            1375152
           ]
          }
         ],
         "layout": {
          "font": {
           "size": 20
          },
          "height": 700,
          "title": {
           "text": "VIZUALIZATION OF TOP 10 BY COMPARISON For: 2020-05-12"
          },
          "xaxis": {
           "showline": false,
           "tickangle": -90,
           "visible": false
          },
          "yaxis": {
           "showline": false,
           "visible": false
          }
         }
        },
        {
         "data": [
          {
           "cliponaxis": false,
           "hoverinfo": "none",
           "marker": {
            "color": [
             "rgb(128,163,94)",
             "rgb(109,169,39)",
             "rgb(120,115,121)",
             "rgb(7,143,163)",
             "rgb(121,107,185)",
             "rgb(156,184,100)",
             "rgb(129,168,167)",
             "rgb(100,79,104)",
             "rgb(183,76,149)",
             "rgb(56,12,132)"
            ]
           },
           "text": [
            "Iran",
            "Turkey",
            "Germany",
            "France",
            "Brazil",
            "Italy",
            "United Kingdom",
            "Spain",
            "Russia",
            "US"
           ],
           "textposition": "outside",
           "texttemplate": "%{x}<br>%{y:s}",
           "type": "bar",
           "x": [
            "Iran",
            "Turkey",
            "Germany",
            "France",
            "Brazil",
            "Italy",
            "United Kingdom",
            "Spain",
            "Russia",
            "US"
           ],
           "y": [
            112725,
            143114,
            174098,
            178184,
            190137,
            222104,
            222195,
            228691,
            242271,
            1396110
           ]
          }
         ],
         "layout": {
          "font": {
           "size": 20
          },
          "height": 700,
          "title": {
           "text": "VIZUALIZATION OF TOP 10 BY COMPARISON For: 2020-05-13"
          },
          "xaxis": {
           "showline": false,
           "tickangle": -90,
           "visible": false
          },
          "yaxis": {
           "showline": false,
           "visible": false
          }
         }
        },
        {
         "data": [
          {
           "cliponaxis": false,
           "hoverinfo": "none",
           "marker": {
            "color": [
             "rgb(128,163,94)",
             "rgb(109,169,39)",
             "rgb(120,115,121)",
             "rgb(7,143,163)",
             "rgb(121,107,185)",
             "rgb(156,184,100)",
             "rgb(129,168,167)",
             "rgb(100,79,104)",
             "rgb(183,76,149)",
             "rgb(56,12,132)"
            ]
           },
           "text": [
            "Iran",
            "Turkey",
            "Germany",
            "France",
            "Brazil",
            "Italy",
            "United Kingdom",
            "Spain",
            "Russia",
            "US"
           ],
           "textposition": "outside",
           "texttemplate": "%{x}<br>%{y:s}",
           "type": "bar",
           "x": [
            "Iran",
            "Turkey",
            "Germany",
            "France",
            "Brazil",
            "Italy",
            "United Kingdom",
            "Spain",
            "Russia",
            "US"
           ],
           "y": [
            114533,
            144749,
            174478,
            178994,
            203165,
            223096,
            224813,
            229540,
            252245,
            1423727
           ]
          }
         ],
         "layout": {
          "font": {
           "size": 20
          },
          "height": 700,
          "title": {
           "text": "VIZUALIZATION OF TOP 10 BY COMPARISON For: 2020-05-14"
          },
          "xaxis": {
           "showline": false,
           "tickangle": -90,
           "visible": false
          },
          "yaxis": {
           "showline": false,
           "visible": false
          }
         }
        },
        {
         "data": [
          {
           "cliponaxis": false,
           "hoverinfo": "none",
           "marker": {
            "color": [
             "rgb(128,163,94)",
             "rgb(109,169,39)",
             "rgb(120,115,121)",
             "rgb(7,143,163)",
             "rgb(121,107,185)",
             "rgb(156,184,100)",
             "rgb(129,168,167)",
             "rgb(100,79,104)",
             "rgb(183,76,149)",
             "rgb(56,12,132)"
            ]
           },
           "text": [
            "Iran",
            "Turkey",
            "Germany",
            "France",
            "Brazil",
            "Italy",
            "United Kingdom",
            "Spain",
            "Russia",
            "US"
           ],
           "textposition": "outside",
           "texttemplate": "%{x}<br>%{y:s}",
           "type": "bar",
           "x": [
            "Iran",
            "Turkey",
            "Germany",
            "France",
            "Brazil",
            "Italy",
            "United Kingdom",
            "Spain",
            "Russia",
            "US"
           ],
           "y": [
            116635,
            146457,
            175233,
            179630,
            220291,
            223885,
            227334,
            230183,
            262843,
            1449027
           ]
          }
         ],
         "layout": {
          "font": {
           "size": 20
          },
          "height": 700,
          "title": {
           "text": "VIZUALIZATION OF TOP 10 BY COMPARISON For: 2020-05-15"
          },
          "xaxis": {
           "showline": false,
           "tickangle": -90,
           "visible": false
          },
          "yaxis": {
           "showline": false,
           "visible": false
          }
         }
        },
        {
         "data": [
          {
           "cliponaxis": false,
           "hoverinfo": "none",
           "marker": {
            "color": [
             "rgb(128,163,94)",
             "rgb(109,169,39)",
             "rgb(120,115,121)",
             "rgb(7,143,163)",
             "rgb(156,184,100)",
             "rgb(129,168,167)",
             "rgb(100,79,104)",
             "rgb(121,107,185)",
             "rgb(183,76,149)",
             "rgb(56,12,132)"
            ]
           },
           "text": [
            "Iran",
            "Turkey",
            "Germany",
            "France",
            "Italy",
            "United Kingdom",
            "Spain",
            "Brazil",
            "Russia",
            "US"
           ],
           "textposition": "outside",
           "texttemplate": "%{x}<br>%{y:s}",
           "type": "bar",
           "x": [
            "Iran",
            "Turkey",
            "Germany",
            "France",
            "Italy",
            "United Kingdom",
            "Spain",
            "Brazil",
            "Russia",
            "US"
           ],
           "y": [
            118392,
            148067,
            175752,
            179630,
            224760,
            229406,
            230698,
            233511,
            272043,
            1474128
           ]
          }
         ],
         "layout": {
          "font": {
           "size": 20
          },
          "height": 700,
          "title": {
           "text": "VIZUALIZATION OF TOP 10 BY COMPARISON For: 2020-05-16"
          },
          "xaxis": {
           "showline": false,
           "tickangle": -90,
           "visible": false
          },
          "yaxis": {
           "showline": false,
           "visible": false
          }
         }
        },
        {
         "data": [
          {
           "cliponaxis": false,
           "hoverinfo": "none",
           "marker": {
            "color": [
             "rgb(128,163,94)",
             "rgb(109,169,39)",
             "rgb(120,115,121)",
             "rgb(7,143,163)",
             "rgb(156,184,100)",
             "rgb(100,79,104)",
             "rgb(129,168,167)",
             "rgb(121,107,185)",
             "rgb(183,76,149)",
             "rgb(56,12,132)"
            ]
           },
           "text": [
            "Iran",
            "Turkey",
            "Germany",
            "France",
            "Italy",
            "Spain",
            "United Kingdom",
            "Brazil",
            "Russia",
            "US"
           ],
           "textposition": "outside",
           "texttemplate": "%{x}<br>%{y:s}",
           "type": "bar",
           "x": [
            "Iran",
            "Turkey",
            "Germany",
            "France",
            "Italy",
            "Spain",
            "United Kingdom",
            "Brazil",
            "Russia",
            "US"
           ],
           "y": [
            120198,
            149435,
            176369,
            179693,
            225435,
            230698,
            231232,
            241080,
            281752,
            1493132
           ]
          }
         ],
         "layout": {
          "font": {
           "size": 20
          },
          "height": 700,
          "title": {
           "text": "VIZUALIZATION OF TOP 10 BY COMPARISON For: 2020-05-17"
          },
          "xaxis": {
           "showline": false,
           "tickangle": -90,
           "visible": false
          },
          "yaxis": {
           "showline": false,
           "visible": false
          }
         }
        },
        {
         "data": [
          {
           "cliponaxis": false,
           "hoverinfo": "none",
           "marker": {
            "color": [
             "rgb(128,163,94)",
             "rgb(109,169,39)",
             "rgb(120,115,121)",
             "rgb(7,143,163)",
             "rgb(156,184,100)",
             "rgb(100,79,104)",
             "rgb(129,168,167)",
             "rgb(121,107,185)",
             "rgb(183,76,149)",
             "rgb(56,12,132)"
            ]
           },
           "text": [
            "Iran",
            "Turkey",
            "Germany",
            "France",
            "Italy",
            "Spain",
            "United Kingdom",
            "Brazil",
            "Russia",
            "US"
           ],
           "textposition": "outside",
           "texttemplate": "%{x}<br>%{y:s}",
           "type": "bar",
           "x": [
            "Iran",
            "Turkey",
            "Germany",
            "France",
            "Italy",
            "Spain",
            "United Kingdom",
            "Brazil",
            "Russia",
            "US"
           ],
           "y": [
            122492,
            150593,
            176551,
            180051,
            225886,
            231606,
            233809,
            255368,
            290678,
            1514901
           ]
          }
         ],
         "layout": {
          "font": {
           "size": 20
          },
          "height": 700,
          "title": {
           "text": "VIZUALIZATION OF TOP 10 BY COMPARISON For: 2020-05-18"
          },
          "xaxis": {
           "showline": false,
           "tickangle": -90,
           "visible": false
          },
          "yaxis": {
           "showline": false,
           "visible": false
          }
         }
        },
        {
         "data": [
          {
           "cliponaxis": false,
           "hoverinfo": "none",
           "marker": {
            "color": [
             "rgb(128,163,94)",
             "rgb(109,169,39)",
             "rgb(120,115,121)",
             "rgb(7,143,163)",
             "rgb(156,184,100)",
             "rgb(100,79,104)",
             "rgb(129,168,167)",
             "rgb(121,107,185)",
             "rgb(183,76,149)",
             "rgb(56,12,132)"
            ]
           },
           "text": [
            "Iran",
            "Turkey",
            "Germany",
            "France",
            "Italy",
            "Spain",
            "United Kingdom",
            "Brazil",
            "Russia",
            "US"
           ],
           "textposition": "outside",
           "texttemplate": "%{x}<br>%{y:s}",
           "type": "bar",
           "x": [
            "Iran",
            "Turkey",
            "Germany",
            "France",
            "Italy",
            "Spain",
            "United Kingdom",
            "Brazil",
            "Russia",
            "US"
           ],
           "y": [
            124603,
            151615,
            177778,
            180933,
            226699,
            232037,
            236867,
            271885,
            299941,
            1535350
           ]
          }
         ],
         "layout": {
          "font": {
           "size": 20
          },
          "height": 700,
          "title": {
           "text": "VIZUALIZATION OF TOP 10 BY COMPARISON For: 2020-05-19"
          },
          "xaxis": {
           "showline": false,
           "tickangle": -90,
           "visible": false
          },
          "yaxis": {
           "showline": false,
           "visible": false
          }
         }
        },
        {
         "data": [
          {
           "cliponaxis": false,
           "hoverinfo": "none",
           "marker": {
            "color": [
             "rgb(128,163,94)",
             "rgb(109,169,39)",
             "rgb(120,115,121)",
             "rgb(7,143,163)",
             "rgb(156,184,100)",
             "rgb(100,79,104)",
             "rgb(129,168,167)",
             "rgb(121,107,185)",
             "rgb(183,76,149)",
             "rgb(56,12,132)"
            ]
           },
           "text": [
            "Iran",
            "Turkey",
            "Germany",
            "France",
            "Italy",
            "Spain",
            "United Kingdom",
            "Brazil",
            "Russia",
            "US"
           ],
           "textposition": "outside",
           "texttemplate": "%{x}<br>%{y:s}",
           "type": "bar",
           "x": [
            "Iran",
            "Turkey",
            "Germany",
            "France",
            "Italy",
            "Spain",
            "United Kingdom",
            "Brazil",
            "Russia",
            "US"
           ],
           "y": [
            126949,
            152587,
            178473,
            181700,
            227364,
            232555,
            251667,
            291579,
            308705,
            1559157
           ]
          }
         ],
         "layout": {
          "font": {
           "size": 20
          },
          "height": 700,
          "title": {
           "text": "VIZUALIZATION OF TOP 10 BY COMPARISON For: 2020-05-20"
          },
          "xaxis": {
           "showline": false,
           "tickangle": -90,
           "visible": false
          },
          "yaxis": {
           "showline": false,
           "visible": false
          }
         }
        },
        {
         "data": [
          {
           "cliponaxis": false,
           "hoverinfo": "none",
           "marker": {
            "color": [
             "rgb(128,163,94)",
             "rgb(109,169,39)",
             "rgb(120,115,121)",
             "rgb(7,143,163)",
             "rgb(156,184,100)",
             "rgb(100,79,104)",
             "rgb(129,168,167)",
             "rgb(121,107,185)",
             "rgb(183,76,149)",
             "rgb(56,12,132)"
            ]
           },
           "text": [
            "Iran",
            "Turkey",
            "Germany",
            "France",
            "Italy",
            "Spain",
            "United Kingdom",
            "Brazil",
            "Russia",
            "US"
           ],
           "textposition": "outside",
           "texttemplate": "%{x}<br>%{y:s}",
           "type": "bar",
           "x": [
            "Iran",
            "Turkey",
            "Germany",
            "France",
            "Italy",
            "Spain",
            "United Kingdom",
            "Brazil",
            "Russia",
            "US"
           ],
           "y": [
            129341,
            153548,
            179021,
            181951,
            228006,
            233037,
            242133,
            310087,
            317554,
            1584512
           ]
          }
         ],
         "layout": {
          "font": {
           "size": 20
          },
          "height": 700,
          "title": {
           "text": "VIZUALIZATION OF TOP 10 BY COMPARISON For: 2020-05-21"
          },
          "xaxis": {
           "showline": false,
           "tickangle": -90,
           "visible": false
          },
          "yaxis": {
           "showline": false,
           "visible": false
          }
         }
        },
        {
         "data": [
          {
           "cliponaxis": false,
           "hoverinfo": "none",
           "marker": {
            "color": [
             "rgb(128,163,94)",
             "rgb(109,169,39)",
             "rgb(120,115,121)",
             "rgb(7,143,163)",
             "rgb(156,184,100)",
             "rgb(100,79,104)",
             "rgb(129,168,167)",
             "rgb(183,76,149)",
             "rgb(121,107,185)",
             "rgb(56,12,132)"
            ]
           },
           "text": [
            "Iran",
            "Turkey",
            "Germany",
            "France",
            "Italy",
            "Spain",
            "United Kingdom",
            "Russia",
            "Brazil",
            "US"
           ],
           "textposition": "outside",
           "texttemplate": "%{x}<br>%{y:s}",
           "type": "bar",
           "x": [
            "Iran",
            "Turkey",
            "Germany",
            "France",
            "Italy",
            "Spain",
            "United Kingdom",
            "Russia",
            "Brazil",
            "US"
           ],
           "y": [
            131652,
            154500,
            179710,
            182354,
            228658,
            234824,
            244174,
            326448,
            330890,
            1608653
           ]
          }
         ],
         "layout": {
          "font": {
           "size": 20
          },
          "height": 700,
          "title": {
           "text": "VIZUALIZATION OF TOP 10 BY COMPARISON For: 2020-05-22"
          },
          "xaxis": {
           "showline": false,
           "tickangle": -90,
           "visible": false
          },
          "yaxis": {
           "showline": false,
           "visible": false
          }
         }
        },
        {
         "data": [
          {
           "cliponaxis": false,
           "hoverinfo": "none",
           "marker": {
            "color": [
             "rgb(128,163,94)",
             "rgb(109,169,39)",
             "rgb(120,115,121)",
             "rgb(7,143,163)",
             "rgb(156,184,100)",
             "rgb(100,79,104)",
             "rgb(129,168,167)",
             "rgb(183,76,149)",
             "rgb(121,107,185)",
             "rgb(56,12,132)"
            ]
           },
           "text": [
            "Iran",
            "Turkey",
            "Germany",
            "France",
            "Italy",
            "Spain",
            "United Kingdom",
            "Russia",
            "Brazil",
            "US"
           ],
           "textposition": "outside",
           "texttemplate": "%{x}<br>%{y:s}",
           "type": "bar",
           "x": [
            "Iran",
            "Turkey",
            "Germany",
            "France",
            "Italy",
            "Spain",
            "United Kingdom",
            "Russia",
            "Brazil",
            "US"
           ],
           "y": [
            133521,
            155686,
            179986,
            182694,
            229327,
            235290,
            245682,
            335882,
            347398,
            1630476
           ]
          }
         ],
         "layout": {
          "font": {
           "size": 20
          },
          "height": 700,
          "title": {
           "text": "VIZUALIZATION OF TOP 10 BY COMPARISON For: 2020-05-23"
          },
          "xaxis": {
           "showline": false,
           "tickangle": -90,
           "visible": false
          },
          "yaxis": {
           "showline": false,
           "visible": false
          }
         }
        },
        {
         "data": [
          {
           "cliponaxis": false,
           "hoverinfo": "none",
           "marker": {
            "color": [
             "rgb(158,72,102)",
             "rgb(109,169,39)",
             "rgb(120,115,121)",
             "rgb(7,143,163)",
             "rgb(156,184,100)",
             "rgb(100,79,104)",
             "rgb(129,168,167)",
             "rgb(183,76,149)",
             "rgb(121,107,185)",
             "rgb(56,12,132)"
            ]
           },
           "text": [
            "India",
            "Turkey",
            "Germany",
            "France",
            "Italy",
            "Spain",
            "United Kingdom",
            "Russia",
            "Brazil",
            "US"
           ],
           "textposition": "outside",
           "texttemplate": "%{x}<br>%{y:s}",
           "type": "bar",
           "x": [
            "India",
            "Turkey",
            "Germany",
            "France",
            "Italy",
            "Spain",
            "United Kingdom",
            "Russia",
            "Brazil",
            "US"
           ],
           "y": [
            138536,
            156827,
            180328,
            182709,
            229858,
            235772,
            247037,
            344481,
            363211,
            1651289
           ]
          }
         ],
         "layout": {
          "font": {
           "size": 20
          },
          "height": 700,
          "title": {
           "text": "VIZUALIZATION OF TOP 10 BY COMPARISON For: 2020-05-24"
          },
          "xaxis": {
           "showline": false,
           "tickangle": -90,
           "visible": false
          },
          "yaxis": {
           "showline": false,
           "visible": false
          }
         }
        },
        {
         "data": [
          {
           "cliponaxis": false,
           "hoverinfo": "none",
           "marker": {
            "color": [
             "rgb(158,72,102)",
             "rgb(109,169,39)",
             "rgb(120,115,121)",
             "rgb(7,143,163)",
             "rgb(156,184,100)",
             "rgb(100,79,104)",
             "rgb(129,168,167)",
             "rgb(183,76,149)",
             "rgb(121,107,185)",
             "rgb(56,12,132)"
            ]
           },
           "text": [
            "India",
            "Turkey",
            "Germany",
            "France",
            "Italy",
            "Spain",
            "United Kingdom",
            "Russia",
            "Brazil",
            "US"
           ],
           "textposition": "outside",
           "texttemplate": "%{x}<br>%{y:s}",
           "type": "bar",
           "x": [
            "India",
            "Turkey",
            "Germany",
            "France",
            "Italy",
            "Spain",
            "United Kingdom",
            "Russia",
            "Brazil",
            "US"
           ],
           "y": [
            144950,
            157814,
            180600,
            183067,
            230158,
            235400,
            248650,
            353427,
            374898,
            1670280
           ]
          }
         ],
         "layout": {
          "font": {
           "size": 20
          },
          "height": 700,
          "title": {
           "text": "VIZUALIZATION OF TOP 10 BY COMPARISON For: 2020-05-25"
          },
          "xaxis": {
           "showline": false,
           "tickangle": -90,
           "visible": false
          },
          "yaxis": {
           "showline": false,
           "visible": false
          }
         }
        },
        {
         "data": [
          {
           "cliponaxis": false,
           "hoverinfo": "none",
           "marker": {
            "color": [
             "rgb(158,72,102)",
             "rgb(109,169,39)",
             "rgb(120,115,121)",
             "rgb(7,143,163)",
             "rgb(156,184,100)",
             "rgb(100,79,104)",
             "rgb(129,168,167)",
             "rgb(183,76,149)",
             "rgb(121,107,185)",
             "rgb(56,12,132)"
            ]
           },
           "text": [
            "India",
            "Turkey",
            "Germany",
            "France",
            "Italy",
            "Spain",
            "United Kingdom",
            "Russia",
            "Brazil",
            "US"
           ],
           "textposition": "outside",
           "texttemplate": "%{x}<br>%{y:s}",
           "type": "bar",
           "x": [
            "India",
            "Turkey",
            "Germany",
            "France",
            "Italy",
            "Spain",
            "United Kingdom",
            "Russia",
            "Brazil",
            "US"
           ],
           "y": [
            150793,
            158762,
            181200,
            182847,
            230555,
            236259,
            250309,
            362342,
            391222,
            1689163
           ]
          }
         ],
         "layout": {
          "font": {
           "size": 20
          },
          "height": 700,
          "title": {
           "text": "VIZUALIZATION OF TOP 10 BY COMPARISON For: 2020-05-26"
          },
          "xaxis": {
           "showline": false,
           "tickangle": -90,
           "visible": false
          },
          "yaxis": {
           "showline": false,
           "visible": false
          }
         }
        },
        {
         "data": [
          {
           "cliponaxis": false,
           "hoverinfo": "none",
           "marker": {
            "color": [
             "rgb(158,72,102)",
             "rgb(109,169,39)",
             "rgb(120,115,121)",
             "rgb(7,143,163)",
             "rgb(156,184,100)",
             "rgb(100,79,104)",
             "rgb(129,168,167)",
             "rgb(183,76,149)",
             "rgb(121,107,185)",
             "rgb(56,12,132)"
            ]
           },
           "text": [
            "India",
            "Turkey",
            "Germany",
            "France",
            "Italy",
            "Spain",
            "United Kingdom",
            "Russia",
            "Brazil",
            "US"
           ],
           "textposition": "outside",
           "texttemplate": "%{x}<br>%{y:s}",
           "type": "bar",
           "x": [
            "India",
            "Turkey",
            "Germany",
            "France",
            "Italy",
            "Spain",
            "United Kingdom",
            "Russia",
            "Brazil",
            "US"
           ],
           "y": [
            158086,
            159797,
            181524,
            183038,
            231139,
            236259,
            252118,
            370680,
            411821,
            1707445
           ]
          }
         ],
         "layout": {
          "font": {
           "size": 20
          },
          "height": 700,
          "title": {
           "text": "VIZUALIZATION OF TOP 10 BY COMPARISON For: 2020-05-27"
          },
          "xaxis": {
           "showline": false,
           "tickangle": -90,
           "visible": false
          },
          "yaxis": {
           "showline": false,
           "visible": false
          }
         }
        },
        {
         "data": [
          {
           "cliponaxis": false,
           "hoverinfo": "none",
           "marker": {
            "color": [
             "rgb(109,169,39)",
             "rgb(158,72,102)",
             "rgb(120,115,121)",
             "rgb(7,143,163)",
             "rgb(156,184,100)",
             "rgb(100,79,104)",
             "rgb(129,168,167)",
             "rgb(183,76,149)",
             "rgb(121,107,185)",
             "rgb(56,12,132)"
            ]
           },
           "text": [
            "Turkey",
            "India",
            "Germany",
            "France",
            "Italy",
            "Spain",
            "United Kingdom",
            "Russia",
            "Brazil",
            "US"
           ],
           "textposition": "outside",
           "texttemplate": "%{x}<br>%{y:s}",
           "type": "bar",
           "x": [
            "Turkey",
            "India",
            "Germany",
            "France",
            "Italy",
            "Spain",
            "United Kingdom",
            "Russia",
            "Brazil",
            "US"
           ],
           "y": [
            160979,
            165386,
            182196,
            186364,
            231732,
            237906,
            253854,
            379051,
            438238,
            1730260
           ]
          }
         ],
         "layout": {
          "font": {
           "size": 20
          },
          "height": 700,
          "title": {
           "text": "VIZUALIZATION OF TOP 10 BY COMPARISON For: 2020-05-28"
          },
          "xaxis": {
           "showline": false,
           "tickangle": -90,
           "visible": false
          },
          "yaxis": {
           "showline": false,
           "visible": false
          }
         }
        },
        {
         "data": [
          {
           "cliponaxis": false,
           "hoverinfo": "none",
           "marker": {
            "color": [
             "rgb(109,169,39)",
             "rgb(158,72,102)",
             "rgb(120,115,121)",
             "rgb(7,143,163)",
             "rgb(156,184,100)",
             "rgb(100,79,104)",
             "rgb(129,168,167)",
             "rgb(183,76,149)",
             "rgb(121,107,185)",
             "rgb(56,12,132)"
            ]
           },
           "text": [
            "Turkey",
            "India",
            "Germany",
            "France",
            "Italy",
            "Spain",
            "United Kingdom",
            "Russia",
            "Brazil",
            "US"
           ],
           "textposition": "outside",
           "texttemplate": "%{x}<br>%{y:s}",
           "type": "bar",
           "x": [
            "Turkey",
            "India",
            "Germany",
            "France",
            "Italy",
            "Spain",
            "United Kingdom",
            "Russia",
            "Brazil",
            "US"
           ],
           "y": [
            162120,
            173491,
            182922,
            186923,
            232248,
            238564,
            255362,
            387623,
            465166,
            1754764
           ]
          }
         ],
         "layout": {
          "font": {
           "size": 20
          },
          "height": 700,
          "title": {
           "text": "VIZUALIZATION OF TOP 10 BY COMPARISON For: 2020-05-29"
          },
          "xaxis": {
           "showline": false,
           "tickangle": -90,
           "visible": false
          },
          "yaxis": {
           "showline": false,
           "visible": false
          }
         }
        },
        {
         "data": [
          {
           "cliponaxis": false,
           "hoverinfo": "none",
           "marker": {
            "color": [
             "rgb(109,169,39)",
             "rgb(158,72,102)",
             "rgb(120,115,121)",
             "rgb(7,143,163)",
             "rgb(156,184,100)",
             "rgb(100,79,104)",
             "rgb(129,168,167)",
             "rgb(183,76,149)",
             "rgb(121,107,185)",
             "rgb(56,12,132)"
            ]
           },
           "text": [
            "Turkey",
            "India",
            "Germany",
            "France",
            "Italy",
            "Spain",
            "United Kingdom",
            "Russia",
            "Brazil",
            "US"
           ],
           "textposition": "outside",
           "texttemplate": "%{x}<br>%{y:s}",
           "type": "bar",
           "x": [
            "Turkey",
            "India",
            "Germany",
            "France",
            "Italy",
            "Spain",
            "United Kingdom",
            "Russia",
            "Brazil",
            "US"
           ],
           "y": [
            163103,
            181827,
            183189,
            188752,
            232664,
            239228,
            256469,
            396575,
            498440,
            1779214
           ]
          }
         ],
         "layout": {
          "font": {
           "size": 20
          },
          "height": 700,
          "title": {
           "text": "VIZUALIZATION OF TOP 10 BY COMPARISON For: 2020-05-30"
          },
          "xaxis": {
           "showline": false,
           "tickangle": -90,
           "visible": false
          },
          "yaxis": {
           "showline": false,
           "visible": false
          }
         }
        },
        {
         "data": [
          {
           "cliponaxis": false,
           "hoverinfo": "none",
           "marker": {
            "color": [
             "rgb(117,1,105)",
             "rgb(120,115,121)",
             "rgb(7,143,163)",
             "rgb(158,72,102)",
             "rgb(156,184,100)",
             "rgb(100,79,104)",
             "rgb(129,168,167)",
             "rgb(183,76,149)",
             "rgb(121,107,185)",
             "rgb(56,12,132)"
            ]
           },
           "text": [
            "Peru",
            "Germany",
            "France",
            "India",
            "Italy",
            "Spain",
            "United Kingdom",
            "Russia",
            "Brazil",
            "US"
           ],
           "textposition": "outside",
           "texttemplate": "%{x}<br>%{y:s}",
           "type": "bar",
           "x": [
            "Peru",
            "Germany",
            "France",
            "India",
            "Italy",
            "Spain",
            "United Kingdom",
            "Russia",
            "Brazil",
            "US"
           ],
           "y": [
            164476,
            183410,
            189009,
            190609,
            232997,
            239479,
            257539,
            405843,
            514849,
            1799124
           ]
          }
         ],
         "layout": {
          "font": {
           "size": 20
          },
          "height": 700,
          "title": {
           "text": "VIZUALIZATION OF TOP 10 BY COMPARISON For: 2020-05-31"
          },
          "xaxis": {
           "showline": false,
           "tickangle": -90,
           "visible": false
          },
          "yaxis": {
           "showline": false,
           "visible": false
          }
         }
        },
        {
         "data": [
          {
           "cliponaxis": false,
           "hoverinfo": "none",
           "marker": {
            "color": [
             "rgb(117,1,105)",
             "rgb(120,115,121)",
             "rgb(7,143,163)",
             "rgb(158,72,102)",
             "rgb(156,184,100)",
             "rgb(100,79,104)",
             "rgb(129,168,167)",
             "rgb(183,76,149)",
             "rgb(121,107,185)",
             "rgb(56,12,132)"
            ]
           },
           "text": [
            "Peru",
            "Germany",
            "France",
            "India",
            "Italy",
            "Spain",
            "United Kingdom",
            "Russia",
            "Brazil",
            "US"
           ],
           "textposition": "outside",
           "texttemplate": "%{x}<br>%{y:s}",
           "type": "bar",
           "x": [
            "Peru",
            "Germany",
            "France",
            "India",
            "Italy",
            "Spain",
            "United Kingdom",
            "Russia",
            "Brazil",
            "US"
           ],
           "y": [
            170039,
            183594,
            189348,
            198370,
            233197,
            239638,
            258983,
            414328,
            526447,
            1816479
           ]
          }
         ],
         "layout": {
          "font": {
           "size": 20
          },
          "height": 700,
          "title": {
           "text": "VIZUALIZATION OF TOP 10 BY COMPARISON For: 2020-06-01"
          },
          "xaxis": {
           "showline": false,
           "tickangle": -90,
           "visible": false
          },
          "yaxis": {
           "showline": false,
           "visible": false
          }
         }
        },
        {
         "data": [
          {
           "cliponaxis": false,
           "hoverinfo": "none",
           "marker": {
            "color": [
             "rgb(117,1,105)",
             "rgb(120,115,121)",
             "rgb(7,143,163)",
             "rgb(158,72,102)",
             "rgb(156,184,100)",
             "rgb(100,79,104)",
             "rgb(129,168,167)",
             "rgb(183,76,149)",
             "rgb(121,107,185)",
             "rgb(56,12,132)"
            ]
           },
           "text": [
            "Peru",
            "Germany",
            "France",
            "India",
            "Italy",
            "Spain",
            "United Kingdom",
            "Russia",
            "Brazil",
            "US"
           ],
           "textposition": "outside",
           "texttemplate": "%{x}<br>%{y:s}",
           "type": "bar",
           "x": [
            "Peru",
            "Germany",
            "France",
            "India",
            "Italy",
            "Spain",
            "United Kingdom",
            "Russia",
            "Brazil",
            "US"
           ],
           "y": [
            178165,
            183879,
            188582,
            207191,
            233515,
            239932,
            260453,
            423186,
            555383,
            1837374
           ]
          }
         ],
         "layout": {
          "font": {
           "size": 20
          },
          "height": 700,
          "title": {
           "text": "VIZUALIZATION OF TOP 10 BY COMPARISON For: 2020-06-02"
          },
          "xaxis": {
           "showline": false,
           "tickangle": -90,
           "visible": false
          },
          "yaxis": {
           "showline": false,
           "visible": false
          }
         }
        },
        {
         "data": [
          {
           "cliponaxis": false,
           "hoverinfo": "none",
           "marker": {
            "color": [
             "rgb(117,1,105)",
             "rgb(120,115,121)",
             "rgb(7,143,163)",
             "rgb(158,72,102)",
             "rgb(156,184,100)",
             "rgb(100,79,104)",
             "rgb(129,168,167)",
             "rgb(183,76,149)",
             "rgb(121,107,185)",
             "rgb(56,12,132)"
            ]
           },
           "text": [
            "Peru",
            "Germany",
            "France",
            "India",
            "Italy",
            "Spain",
            "United Kingdom",
            "Russia",
            "Brazil",
            "US"
           ],
           "textposition": "outside",
           "texttemplate": "%{x}<br>%{y:s}",
           "type": "bar",
           "x": [
            "Peru",
            "Germany",
            "France",
            "India",
            "Italy",
            "Spain",
            "United Kingdom",
            "Russia",
            "Brazil",
            "US"
           ],
           "y": [
            178914,
            184121,
            188934,
            216824,
            233836,
            240326,
            261802,
            431715,
            584016,
            1857332
           ]
          }
         ],
         "layout": {
          "font": {
           "size": 20
          },
          "height": 700,
          "title": {
           "text": "VIZUALIZATION OF TOP 10 BY COMPARISON For: 2020-06-03"
          },
          "xaxis": {
           "showline": false,
           "tickangle": -90,
           "visible": false
          },
          "yaxis": {
           "showline": false,
           "visible": false
          }
         }
        },
        {
         "data": [
          {
           "cliponaxis": false,
           "hoverinfo": "none",
           "marker": {
            "color": [
             "rgb(117,1,105)",
             "rgb(120,115,121)",
             "rgb(7,143,163)",
             "rgb(158,72,102)",
             "rgb(156,184,100)",
             "rgb(100,79,104)",
             "rgb(129,168,167)",
             "rgb(183,76,149)",
             "rgb(121,107,185)",
             "rgb(56,12,132)"
            ]
           },
           "text": [
            "Peru",
            "Germany",
            "France",
            "India",
            "Italy",
            "Spain",
            "United Kingdom",
            "Russia",
            "Brazil",
            "US"
           ],
           "textposition": "outside",
           "texttemplate": "%{x}<br>%{y:s}",
           "type": "bar",
           "x": [
            "Peru",
            "Germany",
            "France",
            "India",
            "Italy",
            "Spain",
            "United Kingdom",
            "Russia",
            "Brazil",
            "US"
           ],
           "y": [
            183198,
            184472,
            189701,
            226713,
            234013,
            240660,
            263040,
            440538,
            614941,
            1878683
           ]
          }
         ],
         "layout": {
          "font": {
           "size": 20
          },
          "height": 700,
          "title": {
           "text": "VIZUALIZATION OF TOP 10 BY COMPARISON For: 2020-06-04"
          },
          "xaxis": {
           "showline": false,
           "tickangle": -90,
           "visible": false
          },
          "yaxis": {
           "showline": false,
           "visible": false
          }
         }
        },
        {
         "data": [
          {
           "cliponaxis": false,
           "hoverinfo": "none",
           "marker": {
            "color": [
             "rgb(120,115,121)",
             "rgb(117,1,105)",
             "rgb(7,143,163)",
             "rgb(156,184,100)",
             "rgb(158,72,102)",
             "rgb(100,79,104)",
             "rgb(129,168,167)",
             "rgb(183,76,149)",
             "rgb(121,107,185)",
             "rgb(56,12,132)"
            ]
           },
           "text": [
            "Germany",
            "Peru",
            "France",
            "Italy",
            "India",
            "Spain",
            "United Kingdom",
            "Russia",
            "Brazil",
            "US"
           ],
           "textposition": "outside",
           "texttemplate": "%{x}<br>%{y:s}",
           "type": "bar",
           "x": [
            "Germany",
            "Peru",
            "France",
            "Italy",
            "India",
            "Spain",
            "United Kingdom",
            "Russia",
            "Brazil",
            "US"
           ],
           "y": [
            184924,
            187400,
            190312,
            234531,
            236184,
            240978,
            264150,
            449256,
            645771,
            1903907
           ]
          }
         ],
         "layout": {
          "font": {
           "size": 20
          },
          "height": 700,
          "title": {
           "text": "VIZUALIZATION OF TOP 10 BY COMPARISON For: 2020-06-05"
          },
          "xaxis": {
           "showline": false,
           "tickangle": -90,
           "visible": false
          },
          "yaxis": {
           "showline": false,
           "visible": false
          }
         }
        },
        {
         "data": [
          {
           "cliponaxis": false,
           "hoverinfo": "none",
           "marker": {
            "color": [
             "rgb(120,115,121)",
             "rgb(7,143,163)",
             "rgb(117,1,105)",
             "rgb(156,184,100)",
             "rgb(100,79,104)",
             "rgb(158,72,102)",
             "rgb(129,168,167)",
             "rgb(183,76,149)",
             "rgb(121,107,185)",
             "rgb(56,12,132)"
            ]
           },
           "text": [
            "Germany",
            "France",
            "Peru",
            "Italy",
            "Spain",
            "India",
            "United Kingdom",
            "Russia",
            "Brazil",
            "US"
           ],
           "textposition": "outside",
           "texttemplate": "%{x}<br>%{y:s}",
           "type": "bar",
           "x": [
            "Germany",
            "France",
            "Peru",
            "Italy",
            "Spain",
            "India",
            "United Kingdom",
            "Russia",
            "Brazil",
            "US"
           ],
           "y": [
            185450,
            190891,
            191758,
            234801,
            241310,
            246622,
            264944,
            458102,
            672846,
            1926639
           ]
          }
         ],
         "layout": {
          "font": {
           "size": 20
          },
          "height": 700,
          "title": {
           "text": "VIZUALIZATION OF TOP 10 BY COMPARISON For: 2020-06-06"
          },
          "xaxis": {
           "showline": false,
           "tickangle": -90,
           "visible": false
          },
          "yaxis": {
           "showline": false,
           "visible": false
          }
         }
        },
        {
         "data": [
          {
           "cliponaxis": false,
           "hoverinfo": "none",
           "marker": {
            "color": [
             "rgb(120,115,121)",
             "rgb(7,143,163)",
             "rgb(117,1,105)",
             "rgb(156,184,100)",
             "rgb(100,79,104)",
             "rgb(158,72,102)",
             "rgb(129,168,167)",
             "rgb(183,76,149)",
             "rgb(121,107,185)",
             "rgb(56,12,132)"
            ]
           },
           "text": [
            "Germany",
            "France",
            "Peru",
            "Italy",
            "Spain",
            "India",
            "United Kingdom",
            "Russia",
            "Brazil",
            "US"
           ],
           "textposition": "outside",
           "texttemplate": "%{x}<br>%{y:s}",
           "type": "bar",
           "x": [
            "Germany",
            "France",
            "Peru",
            "Italy",
            "Spain",
            "India",
            "United Kingdom",
            "Russia",
            "Brazil",
            "US"
           ],
           "y": [
            185750,
            191234,
            196515,
            234998,
            241550,
            257486,
            265662,
            467073,
            691758,
            1944370
           ]
          }
         ],
         "layout": {
          "font": {
           "size": 20
          },
          "height": 700,
          "title": {
           "text": "VIZUALIZATION OF TOP 10 BY COMPARISON For: 2020-06-07"
          },
          "xaxis": {
           "showline": false,
           "tickangle": -90,
           "visible": false
          },
          "yaxis": {
           "showline": false,
           "visible": false
          }
         }
        },
        {
         "data": [
          {
           "cliponaxis": false,
           "hoverinfo": "none",
           "marker": {
            "color": [
             "rgb(120,115,121)",
             "rgb(7,143,163)",
             "rgb(117,1,105)",
             "rgb(156,184,100)",
             "rgb(100,79,104)",
             "rgb(158,72,102)",
             "rgb(129,168,167)",
             "rgb(183,76,149)",
             "rgb(121,107,185)",
             "rgb(56,12,132)"
            ]
           },
           "text": [
            "Germany",
            "France",
            "Peru",
            "Italy",
            "Spain",
            "India",
            "United Kingdom",
            "Russia",
            "Brazil",
            "US"
           ],
           "textposition": "outside",
           "texttemplate": "%{x}<br>%{y:s}",
           "type": "bar",
           "x": [
            "Germany",
            "France",
            "Peru",
            "Italy",
            "Spain",
            "India",
            "United Kingdom",
            "Russia",
            "Brazil",
            "US"
           ],
           "y": [
            186109,
            191445,
            199696,
            235278,
            241717,
            265928,
            266756,
            476043,
            707412,
            1961785
           ]
          }
         ],
         "layout": {
          "font": {
           "size": 20
          },
          "height": 700,
          "title": {
           "text": "VIZUALIZATION OF TOP 10 BY COMPARISON For: 2020-06-08"
          },
          "xaxis": {
           "showline": false,
           "tickangle": -90,
           "visible": false
          },
          "yaxis": {
           "showline": false,
           "visible": false
          }
         }
        },
        {
         "data": [
          {
           "cliponaxis": false,
           "hoverinfo": "none",
           "marker": {
            "color": [
             "rgb(120,115,121)",
             "rgb(7,143,163)",
             "rgb(117,1,105)",
             "rgb(156,184,100)",
             "rgb(100,79,104)",
             "rgb(129,168,167)",
             "rgb(158,72,102)",
             "rgb(183,76,149)",
             "rgb(121,107,185)",
             "rgb(56,12,132)"
            ]
           },
           "text": [
            "Germany",
            "France",
            "Peru",
            "Italy",
            "Spain",
            "United Kingdom",
            "India",
            "Russia",
            "Brazil",
            "US"
           ],
           "textposition": "outside",
           "texttemplate": "%{x}<br>%{y:s}",
           "type": "bar",
           "x": [
            "Germany",
            "France",
            "Peru",
            "Italy",
            "Spain",
            "United Kingdom",
            "India",
            "Russia",
            "Brazil",
            "US"
           ],
           "y": [
            186506,
            191849,
            203736,
            235561,
            241966,
            267915,
            276146,
            484630,
            739503,
            1979912
           ]
          }
         ],
         "layout": {
          "font": {
           "size": 20
          },
          "height": 700,
          "title": {
           "text": "VIZUALIZATION OF TOP 10 BY COMPARISON For: 2020-06-09"
          },
          "xaxis": {
           "showline": false,
           "tickangle": -90,
           "visible": false
          },
          "yaxis": {
           "showline": false,
           "visible": false
          }
         }
        },
        {
         "data": [
          {
           "cliponaxis": false,
           "hoverinfo": "none",
           "marker": {
            "color": [
             "rgb(120,115,121)",
             "rgb(7,143,163)",
             "rgb(117,1,105)",
             "rgb(156,184,100)",
             "rgb(100,79,104)",
             "rgb(129,168,167)",
             "rgb(158,72,102)",
             "rgb(183,76,149)",
             "rgb(121,107,185)",
             "rgb(56,12,132)"
            ]
           },
           "text": [
            "Germany",
            "France",
            "Peru",
            "Italy",
            "Spain",
            "United Kingdom",
            "India",
            "Russia",
            "Brazil",
            "US"
           ],
           "textposition": "outside",
           "texttemplate": "%{x}<br>%{y:s}",
           "type": "bar",
           "x": [
            "Germany",
            "France",
            "Peru",
            "Italy",
            "Spain",
            "United Kingdom",
            "India",
            "Russia",
            "Brazil",
            "US"
           ],
           "y": [
            186522,
            192394,
            208823,
            235763,
            242280,
            269101,
            286605,
            493023,
            772416,
            2000706
           ]
          }
         ],
         "layout": {
          "font": {
           "size": 20
          },
          "height": 700,
          "title": {
           "text": "VIZUALIZATION OF TOP 10 BY COMPARISON For: 2020-06-10"
          },
          "xaxis": {
           "showline": false,
           "tickangle": -90,
           "visible": false
          },
          "yaxis": {
           "showline": false,
           "visible": false
          }
         }
        },
        {
         "data": [
          {
           "cliponaxis": false,
           "hoverinfo": "none",
           "marker": {
            "color": [
             "rgb(26,65,105)",
             "rgb(7,143,163)",
             "rgb(117,1,105)",
             "rgb(156,184,100)",
             "rgb(100,79,104)",
             "rgb(129,168,167)",
             "rgb(158,72,102)",
             "rgb(183,76,149)",
             "rgb(121,107,185)",
             "rgb(56,12,132)"
            ]
           },
           "text": [
            "Chile",
            "France",
            "Peru",
            "Italy",
            "Spain",
            "United Kingdom",
            "India",
            "Russia",
            "Brazil",
            "US"
           ],
           "textposition": "outside",
           "texttemplate": "%{x}<br>%{y:s}",
           "type": "bar",
           "x": [
            "Chile",
            "France",
            "Peru",
            "Italy",
            "Spain",
            "United Kingdom",
            "India",
            "Russia",
            "Brazil",
            "US"
           ],
           "y": [
            186698,
            192819,
            214788,
            236142,
            242707,
            270108,
            297535,
            501800,
            802828,
            2023656
           ]
          }
         ],
         "layout": {
          "font": {
           "size": 20
          },
          "height": 700,
          "title": {
           "text": "VIZUALIZATION OF TOP 10 BY COMPARISON For: 2020-06-11"
          },
          "xaxis": {
           "showline": false,
           "tickangle": -90,
           "visible": false
          },
          "yaxis": {
           "showline": false,
           "visible": false
          }
         }
        },
        {
         "data": [
          {
           "cliponaxis": false,
           "hoverinfo": "none",
           "marker": {
            "color": [
             "rgb(26,65,105)",
             "rgb(7,143,163)",
             "rgb(117,1,105)",
             "rgb(156,184,100)",
             "rgb(100,79,104)",
             "rgb(129,168,167)",
             "rgb(158,72,102)",
             "rgb(183,76,149)",
             "rgb(121,107,185)",
             "rgb(56,12,132)"
            ]
           },
           "text": [
            "Chile",
            "France",
            "Peru",
            "Italy",
            "Spain",
            "United Kingdom",
            "India",
            "Russia",
            "Brazil",
            "US"
           ],
           "textposition": "outside",
           "texttemplate": "%{x}<br>%{y:s}",
           "type": "bar",
           "x": [
            "Chile",
            "France",
            "Peru",
            "Italy",
            "Spain",
            "United Kingdom",
            "India",
            "Russia",
            "Brazil",
            "US"
           ],
           "y": [
            193452,
            193546,
            214788,
            236305,
            243209,
            271162,
            308993,
            510761,
            828810,
            2048986
           ]
          }
         ],
         "layout": {
          "font": {
           "size": 20
          },
          "height": 700,
          "title": {
           "text": "VIZUALIZATION OF TOP 10 BY COMPARISON For: 2020-06-12"
          },
          "xaxis": {
           "showline": false,
           "tickangle": -90,
           "visible": false
          },
          "yaxis": {
           "showline": false,
           "visible": false
          }
         }
        },
        {
         "data": [
          {
           "cliponaxis": false,
           "hoverinfo": "none",
           "marker": {
            "color": [
             "rgb(7,143,163)",
             "rgb(26,65,105)",
             "rgb(117,1,105)",
             "rgb(156,184,100)",
             "rgb(100,79,104)",
             "rgb(129,168,167)",
             "rgb(158,72,102)",
             "rgb(183,76,149)",
             "rgb(121,107,185)",
             "rgb(56,12,132)"
            ]
           },
           "text": [
            "France",
            "Chile",
            "Peru",
            "Italy",
            "Spain",
            "United Kingdom",
            "India",
            "Russia",
            "Brazil",
            "US"
           ],
           "textposition": "outside",
           "texttemplate": "%{x}<br>%{y:s}",
           "type": "bar",
           "x": [
            "France",
            "Chile",
            "Peru",
            "Italy",
            "Spain",
            "United Kingdom",
            "India",
            "Russia",
            "Brazil",
            "US"
           ],
           "y": [
            194072,
            201634,
            220749,
            236651,
            243605,
            272050,
            320922,
            519458,
            850514,
            2074542
           ]
          }
         ],
         "layout": {
          "font": {
           "size": 20
          },
          "height": 700,
          "title": {
           "text": "VIZUALIZATION OF TOP 10 BY COMPARISON For: 2020-06-13"
          },
          "xaxis": {
           "showline": false,
           "tickangle": -90,
           "visible": false
          },
          "yaxis": {
           "showline": false,
           "visible": false
          }
         }
        },
        {
         "data": [
          {
           "cliponaxis": false,
           "hoverinfo": "none",
           "marker": {
            "color": [
             "rgb(7,143,163)",
             "rgb(26,65,105)",
             "rgb(117,1,105)",
             "rgb(156,184,100)",
             "rgb(100,79,104)",
             "rgb(129,168,167)",
             "rgb(158,72,102)",
             "rgb(183,76,149)",
             "rgb(121,107,185)",
             "rgb(56,12,132)"
            ]
           },
           "text": [
            "France",
            "Chile",
            "Peru",
            "Italy",
            "Spain",
            "United Kingdom",
            "India",
            "Russia",
            "Brazil",
            "US"
           ],
           "textposition": "outside",
           "texttemplate": "%{x}<br>%{y:s}",
           "type": "bar",
           "x": [
            "France",
            "Chile",
            "Peru",
            "Italy",
            "Spain",
            "United Kingdom",
            "India",
            "Russia",
            "Brazil",
            "US"
           ],
           "y": [
            194479,
            208572,
            229736,
            236989,
            243928,
            272857,
            332424,
            528267,
            867624,
            2094366
           ]
          }
         ],
         "layout": {
          "font": {
           "size": 20
          },
          "height": 700,
          "title": {
           "text": "VIZUALIZATION OF TOP 10 BY COMPARISON For: 2020-06-14"
          },
          "xaxis": {
           "showline": false,
           "tickangle": -90,
           "visible": false
          },
          "yaxis": {
           "showline": false,
           "visible": false
          }
         }
        },
        {
         "data": [
          {
           "cliponaxis": false,
           "hoverinfo": "none",
           "marker": {
            "color": [
             "rgb(7,143,163)",
             "rgb(26,65,105)",
             "rgb(117,1,105)",
             "rgb(156,184,100)",
             "rgb(100,79,104)",
             "rgb(129,168,167)",
             "rgb(158,72,102)",
             "rgb(183,76,149)",
             "rgb(121,107,185)",
             "rgb(56,12,132)"
            ]
           },
           "text": [
            "France",
            "Chile",
            "Peru",
            "Italy",
            "Spain",
            "United Kingdom",
            "India",
            "Russia",
            "Brazil",
            "US"
           ],
           "textposition": "outside",
           "texttemplate": "%{x}<br>%{y:s}",
           "type": "bar",
           "x": [
            "France",
            "Chile",
            "Peru",
            "Italy",
            "Spain",
            "United Kingdom",
            "India",
            "Russia",
            "Brazil",
            "US"
           ],
           "y": [
            194631,
            213715,
            232992,
            237290,
            244109,
            273888,
            343091,
            536484,
            888271,
            2114026
           ]
          }
         ],
         "layout": {
          "font": {
           "size": 20
          },
          "height": 700,
          "title": {
           "text": "VIZUALIZATION OF TOP 10 BY COMPARISON For: 2020-06-15"
          },
          "xaxis": {
           "showline": false,
           "tickangle": -90,
           "visible": false
          },
          "yaxis": {
           "showline": false,
           "visible": false
          }
         }
        },
        {
         "data": [
          {
           "cliponaxis": false,
           "hoverinfo": "none",
           "marker": {
            "color": [
             "rgb(7,143,163)",
             "rgb(26,65,105)",
             "rgb(117,1,105)",
             "rgb(156,184,100)",
             "rgb(100,79,104)",
             "rgb(129,168,167)",
             "rgb(158,72,102)",
             "rgb(183,76,149)",
             "rgb(121,107,185)",
             "rgb(56,12,132)"
            ]
           },
           "text": [
            "France",
            "Chile",
            "Peru",
            "Italy",
            "Spain",
            "United Kingdom",
            "India",
            "Russia",
            "Brazil",
            "US"
           ],
           "textposition": "outside",
           "texttemplate": "%{x}<br>%{y:s}",
           "type": "bar",
           "x": [
            "France",
            "Chile",
            "Peru",
            "Italy",
            "Spain",
            "United Kingdom",
            "India",
            "Russia",
            "Brazil",
            "US"
           ],
           "y": [
            194975,
            218728,
            237156,
            237500,
            244328,
            274971,
            354065,
            544725,
            923189,
            2137731
           ]
          }
         ],
         "layout": {
          "font": {
           "size": 20
          },
          "height": 700,
          "title": {
           "text": "VIZUALIZATION OF TOP 10 BY COMPARISON For: 2020-06-16"
          },
          "xaxis": {
           "showline": false,
           "tickangle": -90,
           "visible": false
          },
          "yaxis": {
           "showline": false,
           "visible": false
          }
         }
        },
        {
         "data": [
          {
           "cliponaxis": false,
           "hoverinfo": "none",
           "marker": {
            "color": [
             "rgb(7,143,163)",
             "rgb(26,65,105)",
             "rgb(156,184,100)",
             "rgb(117,1,105)",
             "rgb(100,79,104)",
             "rgb(129,168,167)",
             "rgb(158,72,102)",
             "rgb(183,76,149)",
             "rgb(121,107,185)",
             "rgb(56,12,132)"
            ]
           },
           "text": [
            "France",
            "Chile",
            "Italy",
            "Peru",
            "Spain",
            "United Kingdom",
            "India",
            "Russia",
            "Brazil",
            "US"
           ],
           "textposition": "outside",
           "texttemplate": "%{x}<br>%{y:s}",
           "type": "bar",
           "x": [
            "France",
            "Chile",
            "Italy",
            "Peru",
            "Spain",
            "United Kingdom",
            "India",
            "Russia",
            "Brazil",
            "US"
           ],
           "y": [
            195433,
            220628,
            237828,
            240908,
            244683,
            275970,
            366946,
            552549,
            955377,
            2163290
           ]
          }
         ],
         "layout": {
          "font": {
           "size": 20
          },
          "height": 700,
          "title": {
           "text": "VIZUALIZATION OF TOP 10 BY COMPARISON For: 2020-06-17"
          },
          "xaxis": {
           "showline": false,
           "tickangle": -90,
           "visible": false
          },
          "yaxis": {
           "showline": false,
           "visible": false
          }
         }
        },
        {
         "data": [
          {
           "cliponaxis": false,
           "hoverinfo": "none",
           "marker": {
            "color": [
             "rgb(128,163,94)",
             "rgb(26,65,105)",
             "rgb(156,184,100)",
             "rgb(117,1,105)",
             "rgb(100,79,104)",
             "rgb(129,168,167)",
             "rgb(158,72,102)",
             "rgb(183,76,149)",
             "rgb(121,107,185)",
             "rgb(56,12,132)"
            ]
           },
           "text": [
            "Iran",
            "Chile",
            "Italy",
            "Peru",
            "Spain",
            "United Kingdom",
            "India",
            "Russia",
            "Brazil",
            "US"
           ],
           "textposition": "outside",
           "texttemplate": "%{x}<br>%{y:s}",
           "type": "bar",
           "x": [
            "Iran",
            "Chile",
            "Italy",
            "Peru",
            "Spain",
            "United Kingdom",
            "India",
            "Russia",
            "Brazil",
            "US"
           ],
           "y": [
            197647,
            225103,
            238159,
            244388,
            245268,
            276990,
            380532,
            560321,
            978142,
            2191099
           ]
          }
         ],
         "layout": {
          "font": {
           "size": 20
          },
          "height": 700,
          "title": {
           "text": "VIZUALIZATION OF TOP 10 BY COMPARISON For: 2020-06-18"
          },
          "xaxis": {
           "showline": false,
           "tickangle": -90,
           "visible": false
          },
          "yaxis": {
           "showline": false,
           "visible": false
          }
         }
        },
        {
         "data": [
          {
           "cliponaxis": false,
           "hoverinfo": "none",
           "marker": {
            "color": [
             "rgb(128,163,94)",
             "rgb(26,65,105)",
             "rgb(156,184,100)",
             "rgb(100,79,104)",
             "rgb(117,1,105)",
             "rgb(129,168,167)",
             "rgb(158,72,102)",
             "rgb(183,76,149)",
             "rgb(121,107,185)",
             "rgb(56,12,132)"
            ]
           },
           "text": [
            "Iran",
            "Chile",
            "Italy",
            "Spain",
            "Peru",
            "United Kingdom",
            "India",
            "Russia",
            "Brazil",
            "US"
           ],
           "textposition": "outside",
           "texttemplate": "%{x}<br>%{y:s}",
           "type": "bar",
           "x": [
            "Iran",
            "Chile",
            "Italy",
            "Spain",
            "Peru",
            "United Kingdom",
            "India",
            "Russia",
            "Brazil",
            "US"
           ],
           "y": [
            200262,
            231393,
            238011,
            245575,
            247925,
            277974,
            395048,
            568292,
            1032913,
            2222579
           ]
          }
         ],
         "layout": {
          "font": {
           "size": 20
          },
          "height": 700,
          "title": {
           "text": "VIZUALIZATION OF TOP 10 BY COMPARISON For: 2020-06-19"
          },
          "xaxis": {
           "showline": false,
           "tickangle": -90,
           "visible": false
          },
          "yaxis": {
           "showline": false,
           "visible": false
          }
         }
        },
        {
         "data": [
          {
           "cliponaxis": false,
           "hoverinfo": "none",
           "marker": {
            "color": [
             "rgb(128,163,94)",
             "rgb(26,65,105)",
             "rgb(156,184,100)",
             "rgb(100,79,104)",
             "rgb(117,1,105)",
             "rgb(129,168,167)",
             "rgb(158,72,102)",
             "rgb(183,76,149)",
             "rgb(121,107,185)",
             "rgb(56,12,132)"
            ]
           },
           "text": [
            "Iran",
            "Chile",
            "Italy",
            "Spain",
            "Peru",
            "United Kingdom",
            "India",
            "Russia",
            "Brazil",
            "US"
           ],
           "textposition": "outside",
           "texttemplate": "%{x}<br>%{y:s}",
           "type": "bar",
           "x": [
            "Iran",
            "Chile",
            "Italy",
            "Spain",
            "Peru",
            "United Kingdom",
            "India",
            "Russia",
            "Brazil",
            "US"
           ],
           "y": [
            202584,
            236748,
            238275,
            245938,
            251338,
            278640,
            410451,
            576162,
            1067579,
            2255328
           ]
          }
         ],
         "layout": {
          "font": {
           "size": 20
          },
          "height": 700,
          "title": {
           "text": "VIZUALIZATION OF TOP 10 BY COMPARISON For: 2020-06-20"
          },
          "xaxis": {
           "showline": false,
           "tickangle": -90,
           "visible": false
          },
          "yaxis": {
           "showline": false,
           "visible": false
          }
         }
        },
        {
         "data": [
          {
           "cliponaxis": false,
           "hoverinfo": "none",
           "marker": {
            "color": [
             "rgb(128,163,94)",
             "rgb(156,184,100)",
             "rgb(26,65,105)",
             "rgb(100,79,104)",
             "rgb(117,1,105)",
             "rgb(129,168,167)",
             "rgb(158,72,102)",
             "rgb(183,76,149)",
             "rgb(121,107,185)",
             "rgb(56,12,132)"
            ]
           },
           "text": [
            "Iran",
            "Italy",
            "Chile",
            "Spain",
            "Peru",
            "United Kingdom",
            "India",
            "Russia",
            "Brazil",
            "US"
           ],
           "textposition": "outside",
           "texttemplate": "%{x}<br>%{y:s}",
           "type": "bar",
           "x": [
            "Iran",
            "Italy",
            "Chile",
            "Spain",
            "Peru",
            "United Kingdom",
            "India",
            "Russia",
            "Brazil",
            "US"
           ],
           "y": [
            204952,
            238499,
            242355,
            246272,
            254936,
            279264,
            425282,
            583879,
            1083341,
            2281767
           ]
          }
         ],
         "layout": {
          "font": {
           "size": 20
          },
          "height": 700,
          "title": {
           "text": "VIZUALIZATION OF TOP 10 BY COMPARISON For: 2020-06-21"
          },
          "xaxis": {
           "showline": false,
           "tickangle": -90,
           "visible": false
          },
          "yaxis": {
           "showline": false,
           "visible": false
          }
         }
        },
        {
         "data": [
          {
           "cliponaxis": false,
           "hoverinfo": "none",
           "marker": {
            "color": [
             "rgb(128,163,94)",
             "rgb(156,184,100)",
             "rgb(100,79,104)",
             "rgb(26,65,105)",
             "rgb(117,1,105)",
             "rgb(129,168,167)",
             "rgb(158,72,102)",
             "rgb(183,76,149)",
             "rgb(121,107,185)",
             "rgb(56,12,132)"
            ]
           },
           "text": [
            "Iran",
            "Italy",
            "Spain",
            "Chile",
            "Peru",
            "United Kingdom",
            "India",
            "Russia",
            "Brazil",
            "US"
           ],
           "textposition": "outside",
           "texttemplate": "%{x}<br>%{y:s}",
           "type": "bar",
           "x": [
            "Iran",
            "Italy",
            "Spain",
            "Chile",
            "Peru",
            "United Kingdom",
            "India",
            "Russia",
            "Brazil",
            "US"
           ],
           "y": [
            207525,
            238720,
            246504,
            246963,
            257447,
            280156,
            440215,
            591465,
            1106470,
            2312303
           ]
          }
         ],
         "layout": {
          "font": {
           "size": 20
          },
          "height": 700,
          "title": {
           "text": "VIZUALIZATION OF TOP 10 BY COMPARISON For: 2020-06-22"
          },
          "xaxis": {
           "showline": false,
           "tickangle": -90,
           "visible": false
          },
          "yaxis": {
           "showline": false,
           "visible": false
          }
         }
        },
        {
         "data": [
          {
           "cliponaxis": false,
           "hoverinfo": "none",
           "marker": {
            "color": [
             "rgb(128,163,94)",
             "rgb(156,184,100)",
             "rgb(100,79,104)",
             "rgb(26,65,105)",
             "rgb(117,1,105)",
             "rgb(129,168,167)",
             "rgb(158,72,102)",
             "rgb(183,76,149)",
             "rgb(121,107,185)",
             "rgb(56,12,132)"
            ]
           },
           "text": [
            "Iran",
            "Italy",
            "Spain",
            "Chile",
            "Peru",
            "United Kingdom",
            "India",
            "Russia",
            "Brazil",
            "US"
           ],
           "textposition": "outside",
           "texttemplate": "%{x}<br>%{y:s}",
           "type": "bar",
           "x": [
            "Iran",
            "Italy",
            "Spain",
            "Chile",
            "Peru",
            "United Kingdom",
            "India",
            "Russia",
            "Brazil",
            "US"
           ],
           "y": [
            209970,
            238833,
            246752,
            250767,
            260810,
            281038,
            456183,
            598878,
            1145906,
            2347491
           ]
          }
         ],
         "layout": {
          "font": {
           "size": 20
          },
          "height": 700,
          "title": {
           "text": "VIZUALIZATION OF TOP 10 BY COMPARISON For: 2020-06-23"
          },
          "xaxis": {
           "showline": false,
           "tickangle": -90,
           "visible": false
          },
          "yaxis": {
           "showline": false,
           "visible": false
          }
         }
        },
        {
         "data": [
          {
           "cliponaxis": false,
           "hoverinfo": "none",
           "marker": {
            "color": [
             "rgb(128,163,94)",
             "rgb(156,184,100)",
             "rgb(100,79,104)",
             "rgb(26,65,105)",
             "rgb(117,1,105)",
             "rgb(129,168,167)",
             "rgb(158,72,102)",
             "rgb(183,76,149)",
             "rgb(121,107,185)",
             "rgb(56,12,132)"
            ]
           },
           "text": [
            "Iran",
            "Italy",
            "Spain",
            "Chile",
            "Peru",
            "United Kingdom",
            "India",
            "Russia",
            "Brazil",
            "US"
           ],
           "textposition": "outside",
           "texttemplate": "%{x}<br>%{y:s}",
           "type": "bar",
           "x": [
            "Iran",
            "Italy",
            "Spain",
            "Chile",
            "Peru",
            "United Kingdom",
            "India",
            "Russia",
            "Brazil",
            "US"
           ],
           "y": [
            212501,
            239410,
            247086,
            254416,
            264689,
            281815,
            473105,
            606043,
            1188631,
            2382426
           ]
          }
         ],
         "layout": {
          "font": {
           "size": 20
          },
          "height": 700,
          "title": {
           "text": "VIZUALIZATION OF TOP 10 BY COMPARISON For: 2020-06-24"
          },
          "xaxis": {
           "showline": false,
           "tickangle": -90,
           "visible": false
          },
          "yaxis": {
           "showline": false,
           "visible": false
          }
         }
        },
        {
         "data": [
          {
           "cliponaxis": false,
           "hoverinfo": "none",
           "marker": {
            "color": [
             "rgb(128,163,94)",
             "rgb(156,184,100)",
             "rgb(100,79,104)",
             "rgb(26,65,105)",
             "rgb(117,1,105)",
             "rgb(129,168,167)",
             "rgb(158,72,102)",
             "rgb(183,76,149)",
             "rgb(121,107,185)",
             "rgb(56,12,132)"
            ]
           },
           "text": [
            "Iran",
            "Italy",
            "Spain",
            "Chile",
            "Peru",
            "United Kingdom",
            "India",
            "Russia",
            "Brazil",
            "US"
           ],
           "textposition": "outside",
           "texttemplate": "%{x}<br>%{y:s}",
           "type": "bar",
           "x": [
            "Iran",
            "Italy",
            "Spain",
            "Chile",
            "Peru",
            "United Kingdom",
            "India",
            "Russia",
            "Brazil",
            "US"
           ],
           "y": [
            215096,
            239706,
            247486,
            259064,
            268602,
            282512,
            490401,
            613148,
            1228114,
            2422299
           ]
          }
         ],
         "layout": {
          "font": {
           "size": 20
          },
          "height": 700,
          "title": {
           "text": "VIZUALIZATION OF TOP 10 BY COMPARISON For: 2020-06-25"
          },
          "xaxis": {
           "showline": false,
           "tickangle": -90,
           "visible": false
          },
          "yaxis": {
           "showline": false,
           "visible": false
          }
         }
        },
        {
         "data": [
          {
           "cliponaxis": false,
           "hoverinfo": "none",
           "marker": {
            "color": [
             "rgb(128,163,94)",
             "rgb(156,184,100)",
             "rgb(100,79,104)",
             "rgb(26,65,105)",
             "rgb(117,1,105)",
             "rgb(129,168,167)",
             "rgb(158,72,102)",
             "rgb(183,76,149)",
             "rgb(121,107,185)",
             "rgb(56,12,132)"
            ]
           },
           "text": [
            "Iran",
            "Italy",
            "Spain",
            "Chile",
            "Peru",
            "United Kingdom",
            "India",
            "Russia",
            "Brazil",
            "US"
           ],
           "textposition": "outside",
           "texttemplate": "%{x}<br>%{y:s}",
           "type": "bar",
           "x": [
            "Iran",
            "Italy",
            "Spain",
            "Chile",
            "Peru",
            "United Kingdom",
            "India",
            "Russia",
            "Brazil",
            "US"
           ],
           "y": [
            217724,
            239961,
            247905,
            263360,
            272364,
            283151,
            508953,
            619936,
            1274974,
            2467554
           ]
          }
         ],
         "layout": {
          "font": {
           "size": 20
          },
          "height": 700,
          "title": {
           "text": "VIZUALIZATION OF TOP 10 BY COMPARISON For: 2020-06-26"
          },
          "xaxis": {
           "showline": false,
           "tickangle": -90,
           "visible": false
          },
          "yaxis": {
           "showline": false,
           "visible": false
          }
         }
        },
        {
         "data": [
          {
           "cliponaxis": false,
           "hoverinfo": "none",
           "marker": {
            "color": [
             "rgb(128,163,94)",
             "rgb(156,184,100)",
             "rgb(100,79,104)",
             "rgb(26,65,105)",
             "rgb(117,1,105)",
             "rgb(129,168,167)",
             "rgb(158,72,102)",
             "rgb(183,76,149)",
             "rgb(121,107,185)",
             "rgb(56,12,132)"
            ]
           },
           "text": [
            "Iran",
            "Italy",
            "Spain",
            "Chile",
            "Peru",
            "United Kingdom",
            "India",
            "Russia",
            "Brazil",
            "US"
           ],
           "textposition": "outside",
           "texttemplate": "%{x}<br>%{y:s}",
           "type": "bar",
           "x": [
            "Iran",
            "Italy",
            "Spain",
            "Chile",
            "Peru",
            "United Kingdom",
            "India",
            "Russia",
            "Brazil",
            "US"
           ],
           "y": [
            220180,
            240136,
            248469,
            267766,
            275989,
            283785,
            528859,
            626779,
            1313667,
            2510259
           ]
          }
         ],
         "layout": {
          "font": {
           "size": 20
          },
          "height": 700,
          "title": {
           "text": "VIZUALIZATION OF TOP 10 BY COMPARISON For: 2020-06-27"
          },
          "xaxis": {
           "showline": false,
           "tickangle": -90,
           "visible": false
          },
          "yaxis": {
           "showline": false,
           "visible": false
          }
         }
        },
        {
         "data": [
          {
           "cliponaxis": false,
           "hoverinfo": "none",
           "marker": {
            "color": [
             "rgb(128,163,94)",
             "rgb(156,184,100)",
             "rgb(100,79,104)",
             "rgb(26,65,105)",
             "rgb(117,1,105)",
             "rgb(129,168,167)",
             "rgb(158,72,102)",
             "rgb(183,76,149)",
             "rgb(121,107,185)",
             "rgb(56,12,132)"
            ]
           },
           "text": [
            "Iran",
            "Italy",
            "Spain",
            "Chile",
            "Peru",
            "United Kingdom",
            "India",
            "Russia",
            "Brazil",
            "US"
           ],
           "textposition": "outside",
           "texttemplate": "%{x}<br>%{y:s}",
           "type": "bar",
           "x": [
            "Iran",
            "Italy",
            "Spain",
            "Chile",
            "Peru",
            "United Kingdom",
            "India",
            "Russia",
            "Brazil",
            "US"
           ],
           "y": [
            222669,
            240310,
            248770,
            271982,
            279419,
            284192,
            548318,
            633563,
            1344143,
            2549864
           ]
          }
         ],
         "layout": {
          "font": {
           "size": 20
          },
          "height": 700,
          "title": {
           "text": "VIZUALIZATION OF TOP 10 BY COMPARISON For: 2020-06-28"
          },
          "xaxis": {
           "showline": false,
           "tickangle": -90,
           "visible": false
          },
          "yaxis": {
           "showline": false,
           "visible": false
          }
         }
        },
        {
         "data": [
          {
           "cliponaxis": false,
           "hoverinfo": "none",
           "marker": {
            "color": [
             "rgb(128,163,94)",
             "rgb(156,184,100)",
             "rgb(100,79,104)",
             "rgb(26,65,105)",
             "rgb(117,1,105)",
             "rgb(129,168,167)",
             "rgb(158,72,102)",
             "rgb(183,76,149)",
             "rgb(121,107,185)",
             "rgb(56,12,132)"
            ]
           },
           "text": [
            "Iran",
            "Italy",
            "Spain",
            "Chile",
            "Peru",
            "United Kingdom",
            "India",
            "Russia",
            "Brazil",
            "US"
           ],
           "textposition": "outside",
           "texttemplate": "%{x}<br>%{y:s}",
           "type": "bar",
           "x": [
            "Iran",
            "Italy",
            "Spain",
            "Chile",
            "Peru",
            "United Kingdom",
            "India",
            "Russia",
            "Brazil",
            "US"
           ],
           "y": [
            225205,
            240436,
            248970,
            275999,
            282365,
            284812,
            566840,
            640246,
            1368195,
            2590668
           ]
          }
         ],
         "layout": {
          "font": {
           "size": 20
          },
          "height": 700,
          "title": {
           "text": "VIZUALIZATION OF TOP 10 BY COMPARISON For: 2020-06-29"
          },
          "xaxis": {
           "showline": false,
           "tickangle": -90,
           "visible": false
          },
          "yaxis": {
           "showline": false,
           "visible": false
          }
         }
        },
        {
         "data": [
          {
           "cliponaxis": false,
           "hoverinfo": "none",
           "marker": {
            "color": [
             "rgb(128,163,94)",
             "rgb(156,184,100)",
             "rgb(100,79,104)",
             "rgb(26,65,105)",
             "rgb(117,1,105)",
             "rgb(129,168,167)",
             "rgb(158,72,102)",
             "rgb(183,76,149)",
             "rgb(121,107,185)",
             "rgb(56,12,132)"
            ]
           },
           "text": [
            "Iran",
            "Italy",
            "Spain",
            "Chile",
            "Peru",
            "United Kingdom",
            "India",
            "Russia",
            "Brazil",
            "US"
           ],
           "textposition": "outside",
           "texttemplate": "%{x}<br>%{y:s}",
           "type": "bar",
           "x": [
            "Iran",
            "Italy",
            "Spain",
            "Chile",
            "Peru",
            "United Kingdom",
            "India",
            "Russia",
            "Brazil",
            "US"
           ],
           "y": [
            227662,
            240578,
            249271,
            279393,
            285213,
            285216,
            585481,
            646929,
            1402041,
            2636414
           ]
          }
         ],
         "layout": {
          "font": {
           "size": 20
          },
          "height": 700,
          "title": {
           "text": "VIZUALIZATION OF TOP 10 BY COMPARISON For: 2020-06-30"
          },
          "xaxis": {
           "showline": false,
           "tickangle": -90,
           "visible": false
          },
          "yaxis": {
           "showline": false,
           "visible": false
          }
         }
        },
        {
         "data": [
          {
           "cliponaxis": false,
           "hoverinfo": "none",
           "marker": {
            "color": [
             "rgb(132,70,11)",
             "rgb(156,184,100)",
             "rgb(100,79,104)",
             "rgb(26,65,105)",
             "rgb(129,168,167)",
             "rgb(117,1,105)",
             "rgb(158,72,102)",
             "rgb(183,76,149)",
             "rgb(121,107,185)",
             "rgb(56,12,132)"
            ]
           },
           "text": [
            "Mexico",
            "Italy",
            "Spain",
            "Chile",
            "United Kingdom",
            "Peru",
            "India",
            "Russia",
            "Brazil",
            "US"
           ],
           "textposition": "outside",
           "texttemplate": "%{x}<br>%{y:s}",
           "type": "bar",
           "x": [
            "Mexico",
            "Italy",
            "Spain",
            "Chile",
            "United Kingdom",
            "Peru",
            "India",
            "Russia",
            "Brazil",
            "US"
           ],
           "y": [
            231770,
            240760,
            249659,
            282043,
            285279,
            288477,
            604641,
            653479,
            1448753,
            2687588
           ]
          }
         ],
         "layout": {
          "font": {
           "size": 20
          },
          "height": 700,
          "title": {
           "text": "VIZUALIZATION OF TOP 10 BY COMPARISON For: 2020-07-01"
          },
          "xaxis": {
           "showline": false,
           "tickangle": -90,
           "visible": false
          },
          "yaxis": {
           "showline": false,
           "visible": false
          }
         }
        },
        {
         "data": [
          {
           "cliponaxis": false,
           "hoverinfo": "none",
           "marker": {
            "color": [
             "rgb(132,70,11)",
             "rgb(156,184,100)",
             "rgb(100,79,104)",
             "rgb(26,65,105)",
             "rgb(129,168,167)",
             "rgb(117,1,105)",
             "rgb(158,72,102)",
             "rgb(183,76,149)",
             "rgb(121,107,185)",
             "rgb(56,12,132)"
            ]
           },
           "text": [
            "Mexico",
            "Italy",
            "Spain",
            "Chile",
            "United Kingdom",
            "Peru",
            "India",
            "Russia",
            "Brazil",
            "US"
           ],
           "textposition": "outside",
           "texttemplate": "%{x}<br>%{y:s}",
           "type": "bar",
           "x": [
            "Mexico",
            "Italy",
            "Spain",
            "Chile",
            "United Kingdom",
            "Peru",
            "India",
            "Russia",
            "Brazil",
            "US"
           ],
           "y": [
            238511,
            240961,
            250103,
            284541,
            285285,
            292004,
            625544,
            660231,
            1496858,
            2742049
           ]
          }
         ],
         "layout": {
          "font": {
           "size": 20
          },
          "height": 700,
          "title": {
           "text": "VIZUALIZATION OF TOP 10 BY COMPARISON For: 2020-07-02"
          },
          "xaxis": {
           "showline": false,
           "tickangle": -90,
           "visible": false
          },
          "yaxis": {
           "showline": false,
           "visible": false
          }
         }
        },
        {
         "data": [
          {
           "cliponaxis": false,
           "hoverinfo": "none",
           "marker": {
            "color": [
             "rgb(156,184,100)",
             "rgb(132,70,11)",
             "rgb(100,79,104)",
             "rgb(129,168,167)",
             "rgb(26,65,105)",
             "rgb(117,1,105)",
             "rgb(158,72,102)",
             "rgb(183,76,149)",
             "rgb(121,107,185)",
             "rgb(56,12,132)"
            ]
           },
           "text": [
            "Italy",
            "Mexico",
            "Spain",
            "United Kingdom",
            "Chile",
            "Peru",
            "India",
            "Russia",
            "Brazil",
            "US"
           ],
           "textposition": "outside",
           "texttemplate": "%{x}<br>%{y:s}",
           "type": "bar",
           "x": [
            "Italy",
            "Mexico",
            "Spain",
            "United Kingdom",
            "Chile",
            "Peru",
            "India",
            "Russia",
            "Brazil",
            "US"
           ],
           "y": [
            241184,
            245251,
            250545,
            285787,
            288089,
            295599,
            648315,
            666941,
            1539081,
            2795361
           ]
          }
         ],
         "layout": {
          "font": {
           "size": 20
          },
          "height": 700,
          "title": {
           "text": "VIZUALIZATION OF TOP 10 BY COMPARISON For: 2020-07-03"
          },
          "xaxis": {
           "showline": false,
           "tickangle": -90,
           "visible": false
          },
          "yaxis": {
           "showline": false,
           "visible": false
          }
         }
        },
        {
         "data": [
          {
           "cliponaxis": false,
           "hoverinfo": "none",
           "marker": {
            "color": [
             "rgb(156,184,100)",
             "rgb(100,79,104)",
             "rgb(132,70,11)",
             "rgb(129,168,167)",
             "rgb(26,65,105)",
             "rgb(117,1,105)",
             "rgb(158,72,102)",
             "rgb(183,76,149)",
             "rgb(121,107,185)",
             "rgb(56,12,132)"
            ]
           },
           "text": [
            "Italy",
            "Spain",
            "Mexico",
            "United Kingdom",
            "Chile",
            "Peru",
            "India",
            "Russia",
            "Brazil",
            "US"
           ],
           "textposition": "outside",
           "texttemplate": "%{x}<br>%{y:s}",
           "type": "bar",
           "x": [
            "Italy",
            "Spain",
            "Mexico",
            "United Kingdom",
            "Chile",
            "Peru",
            "India",
            "Russia",
            "Brazil",
            "US"
           ],
           "y": [
            241419,
            250545,
            252165,
            286412,
            291847,
            299080,
            673165,
            673564,
            1577004,
            2841241
           ]
          }
         ],
         "layout": {
          "font": {
           "size": 20
          },
          "height": 700,
          "title": {
           "text": "VIZUALIZATION OF TOP 10 BY COMPARISON For: 2020-07-04"
          },
          "xaxis": {
           "showline": false,
           "tickangle": -90,
           "visible": false
          },
          "yaxis": {
           "showline": false,
           "visible": false
          }
         }
        },
        {
         "data": [
          {
           "cliponaxis": false,
           "hoverinfo": "none",
           "marker": {
            "color": [
             "rgb(156,184,100)",
             "rgb(100,79,104)",
             "rgb(132,70,11)",
             "rgb(129,168,167)",
             "rgb(26,65,105)",
             "rgb(117,1,105)",
             "rgb(183,76,149)",
             "rgb(158,72,102)",
             "rgb(121,107,185)",
             "rgb(56,12,132)"
            ]
           },
           "text": [
            "Italy",
            "Spain",
            "Mexico",
            "United Kingdom",
            "Chile",
            "Peru",
            "Russia",
            "India",
            "Brazil",
            "US"
           ],
           "textposition": "outside",
           "texttemplate": "%{x}<br>%{y:s}",
           "type": "bar",
           "x": [
            "Italy",
            "Spain",
            "Mexico",
            "United Kingdom",
            "Chile",
            "Peru",
            "Russia",
            "India",
            "Brazil",
            "US"
           ],
           "y": [
            241611,
            250545,
            256848,
            286931,
            295532,
            302718,
            680283,
            697413,
            1603055,
            2891124
           ]
          }
         ],
         "layout": {
          "font": {
           "size": 20
          },
          "height": 700,
          "title": {
           "text": "VIZUALIZATION OF TOP 10 BY COMPARISON For: 2020-07-05"
          },
          "xaxis": {
           "showline": false,
           "tickangle": -90,
           "visible": false
          },
          "yaxis": {
           "showline": false,
           "visible": false
          }
         }
        },
        {
         "data": [
          {
           "cliponaxis": false,
           "hoverinfo": "none",
           "marker": {
            "color": [
             "rgb(128,163,94)",
             "rgb(100,79,104)",
             "rgb(132,70,11)",
             "rgb(129,168,167)",
             "rgb(26,65,105)",
             "rgb(117,1,105)",
             "rgb(183,76,149)",
             "rgb(158,72,102)",
             "rgb(121,107,185)",
             "rgb(56,12,132)"
            ]
           },
           "text": [
            "Iran",
            "Spain",
            "Mexico",
            "United Kingdom",
            "Chile",
            "Peru",
            "Russia",
            "India",
            "Brazil",
            "US"
           ],
           "textposition": "outside",
           "texttemplate": "%{x}<br>%{y:s}",
           "type": "bar",
           "x": [
            "Iran",
            "Spain",
            "Mexico",
            "United Kingdom",
            "Chile",
            "Peru",
            "Russia",
            "India",
            "Brazil",
            "US"
           ],
           "y": [
            243051,
            251789,
            261750,
            287290,
            298557,
            305703,
            686852,
            719664,
            1623284,
            2936077
           ]
          }
         ],
         "layout": {
          "font": {
           "size": 20
          },
          "height": 700,
          "title": {
           "text": "VIZUALIZATION OF TOP 10 BY COMPARISON For: 2020-07-06"
          },
          "xaxis": {
           "showline": false,
           "tickangle": -90,
           "visible": false
          },
          "yaxis": {
           "showline": false,
           "visible": false
          }
         }
        },
        {
         "data": [
          {
           "cliponaxis": false,
           "hoverinfo": "none",
           "marker": {
            "color": [
             "rgb(128,163,94)",
             "rgb(100,79,104)",
             "rgb(132,70,11)",
             "rgb(129,168,167)",
             "rgb(26,65,105)",
             "rgb(117,1,105)",
             "rgb(183,76,149)",
             "rgb(158,72,102)",
             "rgb(121,107,185)",
             "rgb(56,12,132)"
            ]
           },
           "text": [
            "Iran",
            "Spain",
            "Mexico",
            "United Kingdom",
            "Chile",
            "Peru",
            "Russia",
            "India",
            "Brazil",
            "US"
           ],
           "textposition": "outside",
           "texttemplate": "%{x}<br>%{y:s}",
           "type": "bar",
           "x": [
            "Iran",
            "Spain",
            "Mexico",
            "United Kingdom",
            "Chile",
            "Peru",
            "Russia",
            "India",
            "Brazil",
            "US"
           ],
           "y": [
            245688,
            252130,
            268008,
            287874,
            301019,
            309278,
            693215,
            742417,
            1668589,
            2996098
           ]
          }
         ],
         "layout": {
          "font": {
           "size": 20
          },
          "height": 700,
          "title": {
           "text": "VIZUALIZATION OF TOP 10 BY COMPARISON For: 2020-07-07"
          },
          "xaxis": {
           "showline": false,
           "tickangle": -90,
           "visible": false
          },
          "yaxis": {
           "showline": false,
           "visible": false
          }
         }
        },
        {
         "data": [
          {
           "cliponaxis": false,
           "hoverinfo": "none",
           "marker": {
            "color": [
             "rgb(128,163,94)",
             "rgb(100,79,104)",
             "rgb(132,70,11)",
             "rgb(129,168,167)",
             "rgb(26,65,105)",
             "rgb(117,1,105)",
             "rgb(183,76,149)",
             "rgb(158,72,102)",
             "rgb(121,107,185)",
             "rgb(56,12,132)"
            ]
           },
           "text": [
            "Iran",
            "Spain",
            "Mexico",
            "United Kingdom",
            "Chile",
            "Peru",
            "Russia",
            "India",
            "Brazil",
            "US"
           ],
           "textposition": "outside",
           "texttemplate": "%{x}<br>%{y:s}",
           "type": "bar",
           "x": [
            "Iran",
            "Spain",
            "Mexico",
            "United Kingdom",
            "Chile",
            "Peru",
            "Russia",
            "India",
            "Brazil",
            "US"
           ],
           "y": [
            248379,
            252513,
            275003,
            288511,
            303083,
            312911,
            699749,
            767296,
            1713160,
            3054699
           ]
          }
         ],
         "layout": {
          "font": {
           "size": 20
          },
          "height": 700,
          "title": {
           "text": "VIZUALIZATION OF TOP 10 BY COMPARISON For: 2020-07-08"
          },
          "xaxis": {
           "showline": false,
           "tickangle": -90,
           "visible": false
          },
          "yaxis": {
           "showline": false,
           "visible": false
          }
         }
        },
        {
         "data": [
          {
           "cliponaxis": false,
           "hoverinfo": "none",
           "marker": {
            "color": [
             "rgb(128,163,94)",
             "rgb(100,79,104)",
             "rgb(132,70,11)",
             "rgb(129,168,167)",
             "rgb(26,65,105)",
             "rgb(117,1,105)",
             "rgb(183,76,149)",
             "rgb(158,72,102)",
             "rgb(121,107,185)",
             "rgb(56,12,132)"
            ]
           },
           "text": [
            "Iran",
            "Spain",
            "Mexico",
            "United Kingdom",
            "Chile",
            "Peru",
            "Russia",
            "India",
            "Brazil",
            "US"
           ],
           "textposition": "outside",
           "texttemplate": "%{x}<br>%{y:s}",
           "type": "bar",
           "x": [
            "Iran",
            "Spain",
            "Mexico",
            "United Kingdom",
            "Chile",
            "Peru",
            "Russia",
            "India",
            "Brazil",
            "US"
           ],
           "y": [
            250458,
            253056,
            282283,
            289154,
            306216,
            316448,
            706240,
            793802,
            1755779,
            3117946
           ]
          }
         ],
         "layout": {
          "font": {
           "size": 20
          },
          "height": 700,
          "title": {
           "text": "VIZUALIZATION OF TOP 10 BY COMPARISON For: 2020-07-09"
          },
          "xaxis": {
           "showline": false,
           "tickangle": -90,
           "visible": false
          },
          "yaxis": {
           "showline": false,
           "visible": false
          }
         }
        },
        {
         "data": [
          {
           "cliponaxis": false,
           "hoverinfo": "none",
           "marker": {
            "color": [
             "rgb(128,163,94)",
             "rgb(100,79,104)",
             "rgb(132,70,11)",
             "rgb(129,168,167)",
             "rgb(26,65,105)",
             "rgb(117,1,105)",
             "rgb(183,76,149)",
             "rgb(158,72,102)",
             "rgb(121,107,185)",
             "rgb(56,12,132)"
            ]
           },
           "text": [
            "Iran",
            "Spain",
            "Mexico",
            "United Kingdom",
            "Chile",
            "Peru",
            "Russia",
            "India",
            "Brazil",
            "US"
           ],
           "textposition": "outside",
           "texttemplate": "%{x}<br>%{y:s}",
           "type": "bar",
           "x": [
            "Iran",
            "Spain",
            "Mexico",
            "United Kingdom",
            "Chile",
            "Peru",
            "Russia",
            "India",
            "Brazil",
            "US"
           ],
           "y": [
            252720,
            253908,
            289174,
            289678,
            309274,
            319646,
            712863,
            820916,
            1800827,
            3185737
           ]
          }
         ],
         "layout": {
          "font": {
           "size": 20
          },
          "height": 700,
          "title": {
           "text": "VIZUALIZATION OF TOP 10 BY COMPARISON For: 2020-07-10"
          },
          "xaxis": {
           "showline": false,
           "tickangle": -90,
           "visible": false
          },
          "yaxis": {
           "showline": false,
           "visible": false
          }
         }
        },
        {
         "data": [
          {
           "cliponaxis": false,
           "hoverinfo": "none",
           "marker": {
            "color": [
             "rgb(128,163,94)",
             "rgb(76,163,89)",
             "rgb(129,168,167)",
             "rgb(132,70,11)",
             "rgb(26,65,105)",
             "rgb(117,1,105)",
             "rgb(183,76,149)",
             "rgb(158,72,102)",
             "rgb(121,107,185)",
             "rgb(56,12,132)"
            ]
           },
           "text": [
            "Iran",
            "South Africa",
            "United Kingdom",
            "Mexico",
            "Chile",
            "Peru",
            "Russia",
            "India",
            "Brazil",
            "US"
           ],
           "textposition": "outside",
           "texttemplate": "%{x}<br>%{y:s}",
           "type": "bar",
           "x": [
            "Iran",
            "South Africa",
            "United Kingdom",
            "Mexico",
            "Chile",
            "Peru",
            "Russia",
            "India",
            "Brazil",
            "US"
           ],
           "y": [
            255117,
            264184,
            290504,
            295268,
            312029,
            322710,
            719449,
            849522,
            1839850,
            3245925
           ]
          }
         ],
         "layout": {
          "font": {
           "size": 20
          },
          "height": 700,
          "title": {
           "text": "VIZUALIZATION OF TOP 10 BY COMPARISON For: 2020-07-11"
          },
          "xaxis": {
           "showline": false,
           "tickangle": -90,
           "visible": false
          },
          "yaxis": {
           "showline": false,
           "visible": false
          }
         }
        },
        {
         "data": [
          {
           "cliponaxis": false,
           "hoverinfo": "none",
           "marker": {
            "color": [
             "rgb(128,163,94)",
             "rgb(76,163,89)",
             "rgb(129,168,167)",
             "rgb(132,70,11)",
             "rgb(26,65,105)",
             "rgb(117,1,105)",
             "rgb(183,76,149)",
             "rgb(158,72,102)",
             "rgb(121,107,185)",
             "rgb(56,12,132)"
            ]
           },
           "text": [
            "Iran",
            "South Africa",
            "United Kingdom",
            "Mexico",
            "Chile",
            "Peru",
            "Russia",
            "India",
            "Brazil",
            "US"
           ],
           "textposition": "outside",
           "texttemplate": "%{x}<br>%{y:s}",
           "type": "bar",
           "x": [
            "Iran",
            "South Africa",
            "United Kingdom",
            "Mexico",
            "Chile",
            "Peru",
            "Russia",
            "India",
            "Brazil",
            "US"
           ],
           "y": [
            257303,
            276242,
            291154,
            299750,
            315041,
            326326,
            726036,
            878254,
            1864681,
            3304942
           ]
          }
         ],
         "layout": {
          "font": {
           "size": 20
          },
          "height": 700,
          "title": {
           "text": "VIZUALIZATION OF TOP 10 BY COMPARISON For: 2020-07-12"
          },
          "xaxis": {
           "showline": false,
           "tickangle": -90,
           "visible": false
          },
          "yaxis": {
           "showline": false,
           "visible": false
          }
         }
        },
        {
         "data": [
          {
           "cliponaxis": false,
           "hoverinfo": "none",
           "marker": {
            "color": [
             "rgb(128,163,94)",
             "rgb(76,163,89)",
             "rgb(129,168,167)",
             "rgb(132,70,11)",
             "rgb(26,65,105)",
             "rgb(117,1,105)",
             "rgb(183,76,149)",
             "rgb(158,72,102)",
             "rgb(121,107,185)",
             "rgb(56,12,132)"
            ]
           },
           "text": [
            "Iran",
            "South Africa",
            "United Kingdom",
            "Mexico",
            "Chile",
            "Peru",
            "Russia",
            "India",
            "Brazil",
            "US"
           ],
           "textposition": "outside",
           "texttemplate": "%{x}<br>%{y:s}",
           "type": "bar",
           "x": [
            "Iran",
            "South Africa",
            "United Kingdom",
            "Mexico",
            "Chile",
            "Peru",
            "Russia",
            "India",
            "Brazil",
            "US"
           ],
           "y": [
            259652,
            287796,
            291691,
            304435,
            317657,
            330123,
            732547,
            906752,
            1884967,
            3364157
           ]
          }
         ],
         "layout": {
          "font": {
           "size": 20
          },
          "height": 700,
          "title": {
           "text": "VIZUALIZATION OF TOP 10 BY COMPARISON For: 2020-07-13"
          },
          "xaxis": {
           "showline": false,
           "tickangle": -90,
           "visible": false
          },
          "yaxis": {
           "showline": false,
           "visible": false
          }
         }
        },
        {
         "data": [
          {
           "cliponaxis": false,
           "hoverinfo": "none",
           "marker": {
            "color": [
             "rgb(128,163,94)",
             "rgb(129,168,167)",
             "rgb(76,163,89)",
             "rgb(132,70,11)",
             "rgb(26,65,105)",
             "rgb(117,1,105)",
             "rgb(183,76,149)",
             "rgb(158,72,102)",
             "rgb(121,107,185)",
             "rgb(56,12,132)"
            ]
           },
           "text": [
            "Iran",
            "United Kingdom",
            "South Africa",
            "Mexico",
            "Chile",
            "Peru",
            "Russia",
            "India",
            "Brazil",
            "US"
           ],
           "textposition": "outside",
           "texttemplate": "%{x}<br>%{y:s}",
           "type": "bar",
           "x": [
            "Iran",
            "United Kingdom",
            "South Africa",
            "Mexico",
            "Chile",
            "Peru",
            "Russia",
            "India",
            "Brazil",
            "US"
           ],
           "y": [
            262173,
            292931,
            298292,
            311486,
            319493,
            333867,
            738787,
            936181,
            1926824,
            3431574
           ]
          }
         ],
         "layout": {
          "font": {
           "size": 20
          },
          "height": 700,
          "title": {
           "text": "VIZUALIZATION OF TOP 10 BY COMPARISON For: 2020-07-14"
          },
          "xaxis": {
           "showline": false,
           "tickangle": -90,
           "visible": false
          },
          "yaxis": {
           "showline": false,
           "visible": false
          }
         }
        },
        {
         "data": [
          {
           "cliponaxis": false,
           "hoverinfo": "none",
           "marker": {
            "color": [
             "rgb(128,163,94)",
             "rgb(129,168,167)",
             "rgb(76,163,89)",
             "rgb(132,70,11)",
             "rgb(26,65,105)",
             "rgb(117,1,105)",
             "rgb(183,76,149)",
             "rgb(158,72,102)",
             "rgb(121,107,185)",
             "rgb(56,12,132)"
            ]
           },
           "text": [
            "Iran",
            "United Kingdom",
            "South Africa",
            "Mexico",
            "Chile",
            "Peru",
            "Russia",
            "India",
            "Brazil",
            "US"
           ],
           "textposition": "outside",
           "texttemplate": "%{x}<br>%{y:s}",
           "type": "bar",
           "x": [
            "Iran",
            "United Kingdom",
            "South Africa",
            "Mexico",
            "Chile",
            "Peru",
            "Russia",
            "India",
            "Brazil",
            "US"
           ],
           "y": [
            264561,
            293469,
            311049,
            317635,
            321205,
            337751,
            745197,
            968857,
            1966748,
            3498902
           ]
          }
         ],
         "layout": {
          "font": {
           "size": 20
          },
          "height": 700,
          "title": {
           "text": "VIZUALIZATION OF TOP 10 BY COMPARISON For: 2020-07-15"
          },
          "xaxis": {
           "showline": false,
           "tickangle": -90,
           "visible": false
          },
          "yaxis": {
           "showline": false,
           "visible": false
          }
         }
        },
        {
         "data": [
          {
           "cliponaxis": false,
           "hoverinfo": "none",
           "marker": {
            "color": [
             "rgb(128,163,94)",
             "rgb(129,168,167)",
             "rgb(26,65,105)",
             "rgb(132,70,11)",
             "rgb(76,163,89)",
             "rgb(117,1,105)",
             "rgb(183,76,149)",
             "rgb(158,72,102)",
             "rgb(121,107,185)",
             "rgb(56,12,132)"
            ]
           },
           "text": [
            "Iran",
            "United Kingdom",
            "Chile",
            "Mexico",
            "South Africa",
            "Peru",
            "Russia",
            "India",
            "Brazil",
            "US"
           ],
           "textposition": "outside",
           "texttemplate": "%{x}<br>%{y:s}",
           "type": "bar",
           "x": [
            "Iran",
            "United Kingdom",
            "Chile",
            "Mexico",
            "South Africa",
            "Peru",
            "Russia",
            "India",
            "Brazil",
            "US"
           ],
           "y": [
            267061,
            294116,
            323698,
            324041,
            324221,
            341586,
            751612,
            1003832,
            2012151,
            3576157
           ]
          }
         ],
         "layout": {
          "font": {
           "size": 20
          },
          "height": 700,
          "title": {
           "text": "VIZUALIZATION OF TOP 10 BY COMPARISON For: 2020-07-16"
          },
          "xaxis": {
           "showline": false,
           "tickangle": -90,
           "visible": false
          },
          "yaxis": {
           "showline": false,
           "visible": false
          }
         }
        },
        {
         "data": [
          {
           "cliponaxis": false,
           "hoverinfo": "none",
           "marker": {
            "color": [
             "rgb(128,163,94)",
             "rgb(129,168,167)",
             "rgb(26,65,105)",
             "rgb(132,70,11)",
             "rgb(76,163,89)",
             "rgb(117,1,105)",
             "rgb(183,76,149)",
             "rgb(158,72,102)",
             "rgb(121,107,185)",
             "rgb(56,12,132)"
            ]
           },
           "text": [
            "Iran",
            "United Kingdom",
            "Chile",
            "Mexico",
            "South Africa",
            "Peru",
            "Russia",
            "India",
            "Brazil",
            "US"
           ],
           "textposition": "outside",
           "texttemplate": "%{x}<br>%{y:s}",
           "type": "bar",
           "x": [
            "Iran",
            "United Kingdom",
            "Chile",
            "Mexico",
            "South Africa",
            "Peru",
            "Russia",
            "India",
            "Brazil",
            "US"
           ],
           "y": [
            269440,
            294803,
            326439,
            331298,
            337594,
            345537,
            758001,
            1039084,
            2046328,
            3647715
           ]
          }
         ],
         "layout": {
          "font": {
           "size": 20
          },
          "height": 700,
          "title": {
           "text": "VIZUALIZATION OF TOP 10 BY COMPARISON For: 2020-07-17"
          },
          "xaxis": {
           "showline": false,
           "tickangle": -90,
           "visible": false
          },
          "yaxis": {
           "showline": false,
           "visible": false
          }
         }
        },
        {
         "data": [
          {
           "cliponaxis": false,
           "hoverinfo": "none",
           "marker": {
            "color": [
             "rgb(128,163,94)",
             "rgb(129,168,167)",
             "rgb(26,65,105)",
             "rgb(132,70,11)",
             "rgb(117,1,105)",
             "rgb(76,163,89)",
             "rgb(183,76,149)",
             "rgb(158,72,102)",
             "rgb(121,107,185)",
             "rgb(56,12,132)"
            ]
           },
           "text": [
            "Iran",
            "United Kingdom",
            "Chile",
            "Mexico",
            "Peru",
            "South Africa",
            "Russia",
            "India",
            "Brazil",
            "US"
           ],
           "textposition": "outside",
           "texttemplate": "%{x}<br>%{y:s}",
           "type": "bar",
           "x": [
            "Iran",
            "United Kingdom",
            "Chile",
            "Mexico",
            "Peru",
            "South Africa",
            "Russia",
            "India",
            "Brazil",
            "US"
           ],
           "y": [
            271606,
            295632,
            328846,
            338913,
            349500,
            350879,
            764215,
            1077781,
            2074860,
            3711413
           ]
          }
         ],
         "layout": {
          "font": {
           "size": 20
          },
          "height": 700,
          "title": {
           "text": "VIZUALIZATION OF TOP 10 BY COMPARISON For: 2020-07-18"
          },
          "xaxis": {
           "showline": false,
           "tickangle": -90,
           "visible": false
          },
          "yaxis": {
           "showline": false,
           "visible": false
          }
         }
        },
        {
         "data": [
          {
           "cliponaxis": false,
           "hoverinfo": "none",
           "marker": {
            "color": [
             "rgb(128,163,94)",
             "rgb(129,168,167)",
             "rgb(26,65,105)",
             "rgb(132,70,11)",
             "rgb(117,1,105)",
             "rgb(76,163,89)",
             "rgb(183,76,149)",
             "rgb(158,72,102)",
             "rgb(121,107,185)",
             "rgb(56,12,132)"
            ]
           },
           "text": [
            "Iran",
            "United Kingdom",
            "Chile",
            "Mexico",
            "Peru",
            "South Africa",
            "Russia",
            "India",
            "Brazil",
            "US"
           ],
           "textposition": "outside",
           "texttemplate": "%{x}<br>%{y:s}",
           "type": "bar",
           "x": [
            "Iran",
            "United Kingdom",
            "Chile",
            "Mexico",
            "Peru",
            "South Africa",
            "Russia",
            "India",
            "Brazil",
            "US"
           ],
           "y": [
            273788,
            296358,
            330930,
            344224,
            353590,
            364328,
            770311,
            1118206,
            2098389,
            3773260
           ]
          }
         ],
         "layout": {
          "font": {
           "size": 20
          },
          "height": 700,
          "title": {
           "text": "VIZUALIZATION OF TOP 10 BY COMPARISON For: 2020-07-19"
          },
          "xaxis": {
           "showline": false,
           "tickangle": -90,
           "visible": false
          },
          "yaxis": {
           "showline": false,
           "visible": false
          }
         }
        },
        {
         "data": [
          {
           "cliponaxis": false,
           "hoverinfo": "none",
           "marker": {
            "color": [
             "rgb(128,163,94)",
             "rgb(129,168,167)",
             "rgb(26,65,105)",
             "rgb(132,70,11)",
             "rgb(117,1,105)",
             "rgb(76,163,89)",
             "rgb(183,76,149)",
             "rgb(158,72,102)",
             "rgb(121,107,185)",
             "rgb(56,12,132)"
            ]
           },
           "text": [
            "Iran",
            "United Kingdom",
            "Chile",
            "Mexico",
            "Peru",
            "South Africa",
            "Russia",
            "India",
            "Brazil",
            "US"
           ],
           "textposition": "outside",
           "texttemplate": "%{x}<br>%{y:s}",
           "type": "bar",
           "x": [
            "Iran",
            "United Kingdom",
            "Chile",
            "Mexico",
            "Peru",
            "South Africa",
            "Russia",
            "India",
            "Brazil",
            "US"
           ],
           "y": [
            276202,
            296944,
            333029,
            349396,
            357681,
            373628,
            776212,
            1155338,
            2118646,
            3834677
           ]
          }
         ],
         "layout": {
          "font": {
           "size": 20
          },
          "height": 700,
          "title": {
           "text": "VIZUALIZATION OF TOP 10 BY COMPARISON For: 2020-07-20"
          },
          "xaxis": {
           "showline": false,
           "tickangle": -90,
           "visible": false
          },
          "yaxis": {
           "showline": false,
           "visible": false
          }
         }
        },
        {
         "data": [
          {
           "cliponaxis": false,
           "hoverinfo": "none",
           "marker": {
            "color": [
             "rgb(128,163,94)",
             "rgb(129,168,167)",
             "rgb(26,65,105)",
             "rgb(132,70,11)",
             "rgb(117,1,105)",
             "rgb(76,163,89)",
             "rgb(183,76,149)",
             "rgb(158,72,102)",
             "rgb(121,107,185)",
             "rgb(56,12,132)"
            ]
           },
           "text": [
            "Iran",
            "United Kingdom",
            "Chile",
            "Mexico",
            "Peru",
            "South Africa",
            "Russia",
            "India",
            "Brazil",
            "US"
           ],
           "textposition": "outside",
           "texttemplate": "%{x}<br>%{y:s}",
           "type": "bar",
           "x": [
            "Iran",
            "United Kingdom",
            "Chile",
            "Mexico",
            "Peru",
            "South Africa",
            "Russia",
            "India",
            "Brazil",
            "US"
           ],
           "y": [
            278827,
            297389,
            334683,
            356255,
            362087,
            381798,
            782040,
            1193078,
            2159654,
            3899211
           ]
          }
         ],
         "layout": {
          "font": {
           "size": 20
          },
          "height": 700,
          "title": {
           "text": "VIZUALIZATION OF TOP 10 BY COMPARISON For: 2020-07-21"
          },
          "xaxis": {
           "showline": false,
           "tickangle": -90,
           "visible": false
          },
          "yaxis": {
           "showline": false,
           "visible": false
          }
         }
        },
        {
         "data": [
          {
           "cliponaxis": false,
           "hoverinfo": "none",
           "marker": {
            "color": [
             "rgb(128,163,94)",
             "rgb(129,168,167)",
             "rgb(26,65,105)",
             "rgb(132,70,11)",
             "rgb(117,1,105)",
             "rgb(76,163,89)",
             "rgb(183,76,149)",
             "rgb(158,72,102)",
             "rgb(121,107,185)",
             "rgb(56,12,132)"
            ]
           },
           "text": [
            "Iran",
            "United Kingdom",
            "Chile",
            "Mexico",
            "Peru",
            "South Africa",
            "Russia",
            "India",
            "Brazil",
            "US"
           ],
           "textposition": "outside",
           "texttemplate": "%{x}<br>%{y:s}",
           "type": "bar",
           "x": [
            "Iran",
            "United Kingdom",
            "Chile",
            "Mexico",
            "Peru",
            "South Africa",
            "Russia",
            "India",
            "Brazil",
            "US"
           ],
           "y": [
            281413,
            297952,
            336402,
            362274,
            366550,
            394948,
            787890,
            1238798,
            2227514,
            3970121
           ]
          }
         ],
         "layout": {
          "font": {
           "size": 20
          },
          "height": 700,
          "title": {
           "text": "VIZUALIZATION OF TOP 10 BY COMPARISON For: 2020-07-22"
          },
          "xaxis": {
           "showline": false,
           "tickangle": -90,
           "visible": false
          },
          "yaxis": {
           "showline": false,
           "visible": false
          }
         }
        },
        {
         "data": [
          {
           "cliponaxis": false,
           "hoverinfo": "none",
           "marker": {
            "color": [
             "rgb(128,163,94)",
             "rgb(129,168,167)",
             "rgb(26,65,105)",
             "rgb(132,70,11)",
             "rgb(117,1,105)",
             "rgb(76,163,89)",
             "rgb(183,76,149)",
             "rgb(158,72,102)",
             "rgb(121,107,185)",
             "rgb(56,12,132)"
            ]
           },
           "text": [
            "Iran",
            "United Kingdom",
            "Chile",
            "Mexico",
            "Peru",
            "South Africa",
            "Russia",
            "India",
            "Brazil",
            "US"
           ],
           "textposition": "outside",
           "texttemplate": "%{x}<br>%{y:s}",
           "type": "bar",
           "x": [
            "Iran",
            "United Kingdom",
            "Chile",
            "Mexico",
            "Peru",
            "South Africa",
            "Russia",
            "India",
            "Brazil",
            "US"
           ],
           "y": [
            284034,
            298731,
            338759,
            370712,
            371096,
            408052,
            793720,
            1288108,
            2287475,
            4038816
           ]
          }
         ],
         "layout": {
          "font": {
           "size": 20
          },
          "height": 700,
          "title": {
           "text": "VIZUALIZATION OF TOP 10 BY COMPARISON For: 2020-07-23"
          },
          "xaxis": {
           "showline": false,
           "tickangle": -90,
           "visible": false
          },
          "yaxis": {
           "showline": false,
           "visible": false
          }
         }
        },
        {
         "data": [
          {
           "cliponaxis": false,
           "hoverinfo": "none",
           "marker": {
            "color": [
             "rgb(128,163,94)",
             "rgb(129,168,167)",
             "rgb(26,65,105)",
             "rgb(117,1,105)",
             "rgb(132,70,11)",
             "rgb(76,163,89)",
             "rgb(183,76,149)",
             "rgb(158,72,102)",
             "rgb(121,107,185)",
             "rgb(56,12,132)"
            ]
           },
           "text": [
            "Iran",
            "United Kingdom",
            "Chile",
            "Peru",
            "Mexico",
            "South Africa",
            "Russia",
            "India",
            "Brazil",
            "US"
           ],
           "textposition": "outside",
           "texttemplate": "%{x}<br>%{y:s}",
           "type": "bar",
           "x": [
            "Iran",
            "United Kingdom",
            "Chile",
            "Peru",
            "Mexico",
            "South Africa",
            "Russia",
            "India",
            "Brazil",
            "US"
           ],
           "y": [
            286523,
            299500,
            341304,
            375961,
            378285,
            421996,
            799499,
            1337024,
            2343366,
            4112531
           ]
          }
         ],
         "layout": {
          "font": {
           "size": 20
          },
          "height": 700,
          "title": {
           "text": "VIZUALIZATION OF TOP 10 BY COMPARISON For: 2020-07-24"
          },
          "xaxis": {
           "showline": false,
           "tickangle": -90,
           "visible": false
          },
          "yaxis": {
           "showline": false,
           "visible": false
          }
         }
        },
        {
         "data": [
          {
           "cliponaxis": false,
           "hoverinfo": "none",
           "marker": {
            "color": [
             "rgb(128,163,94)",
             "rgb(129,168,167)",
             "rgb(26,65,105)",
             "rgb(117,1,105)",
             "rgb(132,70,11)",
             "rgb(76,163,89)",
             "rgb(183,76,149)",
             "rgb(158,72,102)",
             "rgb(121,107,185)",
             "rgb(56,12,132)"
            ]
           },
           "text": [
            "Iran",
            "United Kingdom",
            "Chile",
            "Peru",
            "Mexico",
            "South Africa",
            "Russia",
            "India",
            "Brazil",
            "US"
           ],
           "textposition": "outside",
           "texttemplate": "%{x}<br>%{y:s}",
           "type": "bar",
           "x": [
            "Iran",
            "United Kingdom",
            "Chile",
            "Peru",
            "Mexico",
            "South Africa",
            "Russia",
            "India",
            "Brazil",
            "US"
           ],
           "y": [
            288839,
            300270,
            343592,
            375961,
            385036,
            434200,
            805332,
            1385635,
            2394513,
            4178970
           ]
          }
         ],
         "layout": {
          "font": {
           "size": 20
          },
          "height": 700,
          "title": {
           "text": "VIZUALIZATION OF TOP 10 BY COMPARISON For: 2020-07-25"
          },
          "xaxis": {
           "showline": false,
           "tickangle": -90,
           "visible": false
          },
          "yaxis": {
           "showline": false,
           "visible": false
          }
         }
        },
        {
         "data": [
          {
           "cliponaxis": false,
           "hoverinfo": "none",
           "marker": {
            "color": [
             "rgb(128,163,94)",
             "rgb(129,168,167)",
             "rgb(26,65,105)",
             "rgb(117,1,105)",
             "rgb(132,70,11)",
             "rgb(76,163,89)",
             "rgb(183,76,149)",
             "rgb(158,72,102)",
             "rgb(121,107,185)",
             "rgb(56,12,132)"
            ]
           },
           "text": [
            "Iran",
            "United Kingdom",
            "Chile",
            "Peru",
            "Mexico",
            "South Africa",
            "Russia",
            "India",
            "Brazil",
            "US"
           ],
           "textposition": "outside",
           "texttemplate": "%{x}<br>%{y:s}",
           "type": "bar",
           "x": [
            "Iran",
            "United Kingdom",
            "Chile",
            "Peru",
            "Mexico",
            "South Africa",
            "Russia",
            "India",
            "Brazil",
            "US"
           ],
           "y": [
            291172,
            301020,
            345790,
            375961,
            390516,
            445433,
            811073,
            1435616,
            2419091,
            4233923
           ]
          }
         ],
         "layout": {
          "font": {
           "size": 20
          },
          "height": 700,
          "title": {
           "text": "VIZUALIZATION OF TOP 10 BY COMPARISON For: 2020-07-26"
          },
          "xaxis": {
           "showline": false,
           "tickangle": -90,
           "visible": false
          },
          "yaxis": {
           "showline": false,
           "visible": false
          }
         }
        },
        {
         "data": [
          {
           "cliponaxis": false,
           "hoverinfo": "none",
           "marker": {
            "color": [
             "rgb(128,163,94)",
             "rgb(129,168,167)",
             "rgb(26,65,105)",
             "rgb(117,1,105)",
             "rgb(132,70,11)",
             "rgb(76,163,89)",
             "rgb(183,76,149)",
             "rgb(158,72,102)",
             "rgb(121,107,185)",
             "rgb(56,12,132)"
            ]
           },
           "text": [
            "Iran",
            "United Kingdom",
            "Chile",
            "Peru",
            "Mexico",
            "South Africa",
            "Russia",
            "India",
            "Brazil",
            "US"
           ],
           "textposition": "outside",
           "texttemplate": "%{x}<br>%{y:s}",
           "type": "bar",
           "x": [
            "Iran",
            "United Kingdom",
            "Chile",
            "Peru",
            "Mexico",
            "South Africa",
            "Russia",
            "India",
            "Brazil",
            "US"
           ],
           "y": [
            293606,
            301708,
            347923,
            389717,
            395489,
            452529,
            816680,
            1480073,
            2442375,
            4290259
           ]
          }
         ],
         "layout": {
          "font": {
           "size": 20
          },
          "height": 700,
          "title": {
           "text": "VIZUALIZATION OF TOP 10 BY COMPARISON For: 2020-07-27"
          },
          "xaxis": {
           "showline": false,
           "tickangle": -90,
           "visible": false
          },
          "yaxis": {
           "showline": false,
           "visible": false
          }
         }
        }
       ],
       "layout": {
        "font": {
         "size": 20
        },
        "height": 700,
        "template": {
         "data": {
          "bar": [
           {
            "error_x": {
             "color": "#2a3f5f"
            },
            "error_y": {
             "color": "#2a3f5f"
            },
            "marker": {
             "line": {
              "color": "#E5ECF6",
              "width": 0.5
             }
            },
            "type": "bar"
           }
          ],
          "barpolar": [
           {
            "marker": {
             "line": {
              "color": "#E5ECF6",
              "width": 0.5
             }
            },
            "type": "barpolar"
           }
          ],
          "carpet": [
           {
            "aaxis": {
             "endlinecolor": "#2a3f5f",
             "gridcolor": "white",
             "linecolor": "white",
             "minorgridcolor": "white",
             "startlinecolor": "#2a3f5f"
            },
            "baxis": {
             "endlinecolor": "#2a3f5f",
             "gridcolor": "white",
             "linecolor": "white",
             "minorgridcolor": "white",
             "startlinecolor": "#2a3f5f"
            },
            "type": "carpet"
           }
          ],
          "choropleth": [
           {
            "colorbar": {
             "outlinewidth": 0,
             "ticks": ""
            },
            "type": "choropleth"
           }
          ],
          "contour": [
           {
            "colorbar": {
             "outlinewidth": 0,
             "ticks": ""
            },
            "colorscale": [
             [
              0,
              "#0d0887"
             ],
             [
              0.1111111111111111,
              "#46039f"
             ],
             [
              0.2222222222222222,
              "#7201a8"
             ],
             [
              0.3333333333333333,
              "#9c179e"
             ],
             [
              0.4444444444444444,
              "#bd3786"
             ],
             [
              0.5555555555555556,
              "#d8576b"
             ],
             [
              0.6666666666666666,
              "#ed7953"
             ],
             [
              0.7777777777777778,
              "#fb9f3a"
             ],
             [
              0.8888888888888888,
              "#fdca26"
             ],
             [
              1,
              "#f0f921"
             ]
            ],
            "type": "contour"
           }
          ],
          "contourcarpet": [
           {
            "colorbar": {
             "outlinewidth": 0,
             "ticks": ""
            },
            "type": "contourcarpet"
           }
          ],
          "heatmap": [
           {
            "colorbar": {
             "outlinewidth": 0,
             "ticks": ""
            },
            "colorscale": [
             [
              0,
              "#0d0887"
             ],
             [
              0.1111111111111111,
              "#46039f"
             ],
             [
              0.2222222222222222,
              "#7201a8"
             ],
             [
              0.3333333333333333,
              "#9c179e"
             ],
             [
              0.4444444444444444,
              "#bd3786"
             ],
             [
              0.5555555555555556,
              "#d8576b"
             ],
             [
              0.6666666666666666,
              "#ed7953"
             ],
             [
              0.7777777777777778,
              "#fb9f3a"
             ],
             [
              0.8888888888888888,
              "#fdca26"
             ],
             [
              1,
              "#f0f921"
             ]
            ],
            "type": "heatmap"
           }
          ],
          "heatmapgl": [
           {
            "colorbar": {
             "outlinewidth": 0,
             "ticks": ""
            },
            "colorscale": [
             [
              0,
              "#0d0887"
             ],
             [
              0.1111111111111111,
              "#46039f"
             ],
             [
              0.2222222222222222,
              "#7201a8"
             ],
             [
              0.3333333333333333,
              "#9c179e"
             ],
             [
              0.4444444444444444,
              "#bd3786"
             ],
             [
              0.5555555555555556,
              "#d8576b"
             ],
             [
              0.6666666666666666,
              "#ed7953"
             ],
             [
              0.7777777777777778,
              "#fb9f3a"
             ],
             [
              0.8888888888888888,
              "#fdca26"
             ],
             [
              1,
              "#f0f921"
             ]
            ],
            "type": "heatmapgl"
           }
          ],
          "histogram": [
           {
            "marker": {
             "colorbar": {
              "outlinewidth": 0,
              "ticks": ""
             }
            },
            "type": "histogram"
           }
          ],
          "histogram2d": [
           {
            "colorbar": {
             "outlinewidth": 0,
             "ticks": ""
            },
            "colorscale": [
             [
              0,
              "#0d0887"
             ],
             [
              0.1111111111111111,
              "#46039f"
             ],
             [
              0.2222222222222222,
              "#7201a8"
             ],
             [
              0.3333333333333333,
              "#9c179e"
             ],
             [
              0.4444444444444444,
              "#bd3786"
             ],
             [
              0.5555555555555556,
              "#d8576b"
             ],
             [
              0.6666666666666666,
              "#ed7953"
             ],
             [
              0.7777777777777778,
              "#fb9f3a"
             ],
             [
              0.8888888888888888,
              "#fdca26"
             ],
             [
              1,
              "#f0f921"
             ]
            ],
            "type": "histogram2d"
           }
          ],
          "histogram2dcontour": [
           {
            "colorbar": {
             "outlinewidth": 0,
             "ticks": ""
            },
            "colorscale": [
             [
              0,
              "#0d0887"
             ],
             [
              0.1111111111111111,
              "#46039f"
             ],
             [
              0.2222222222222222,
              "#7201a8"
             ],
             [
              0.3333333333333333,
              "#9c179e"
             ],
             [
              0.4444444444444444,
              "#bd3786"
             ],
             [
              0.5555555555555556,
              "#d8576b"
             ],
             [
              0.6666666666666666,
              "#ed7953"
             ],
             [
              0.7777777777777778,
              "#fb9f3a"
             ],
             [
              0.8888888888888888,
              "#fdca26"
             ],
             [
              1,
              "#f0f921"
             ]
            ],
            "type": "histogram2dcontour"
           }
          ],
          "mesh3d": [
           {
            "colorbar": {
             "outlinewidth": 0,
             "ticks": ""
            },
            "type": "mesh3d"
           }
          ],
          "parcoords": [
           {
            "line": {
             "colorbar": {
              "outlinewidth": 0,
              "ticks": ""
             }
            },
            "type": "parcoords"
           }
          ],
          "pie": [
           {
            "automargin": true,
            "type": "pie"
           }
          ],
          "scatter": [
           {
            "marker": {
             "colorbar": {
              "outlinewidth": 0,
              "ticks": ""
             }
            },
            "type": "scatter"
           }
          ],
          "scatter3d": [
           {
            "line": {
             "colorbar": {
              "outlinewidth": 0,
              "ticks": ""
             }
            },
            "marker": {
             "colorbar": {
              "outlinewidth": 0,
              "ticks": ""
             }
            },
            "type": "scatter3d"
           }
          ],
          "scattercarpet": [
           {
            "marker": {
             "colorbar": {
              "outlinewidth": 0,
              "ticks": ""
             }
            },
            "type": "scattercarpet"
           }
          ],
          "scattergeo": [
           {
            "marker": {
             "colorbar": {
              "outlinewidth": 0,
              "ticks": ""
             }
            },
            "type": "scattergeo"
           }
          ],
          "scattergl": [
           {
            "marker": {
             "colorbar": {
              "outlinewidth": 0,
              "ticks": ""
             }
            },
            "type": "scattergl"
           }
          ],
          "scattermapbox": [
           {
            "marker": {
             "colorbar": {
              "outlinewidth": 0,
              "ticks": ""
             }
            },
            "type": "scattermapbox"
           }
          ],
          "scatterpolar": [
           {
            "marker": {
             "colorbar": {
              "outlinewidth": 0,
              "ticks": ""
             }
            },
            "type": "scatterpolar"
           }
          ],
          "scatterpolargl": [
           {
            "marker": {
             "colorbar": {
              "outlinewidth": 0,
              "ticks": ""
             }
            },
            "type": "scatterpolargl"
           }
          ],
          "scatterternary": [
           {
            "marker": {
             "colorbar": {
              "outlinewidth": 0,
              "ticks": ""
             }
            },
            "type": "scatterternary"
           }
          ],
          "surface": [
           {
            "colorbar": {
             "outlinewidth": 0,
             "ticks": ""
            },
            "colorscale": [
             [
              0,
              "#0d0887"
             ],
             [
              0.1111111111111111,
              "#46039f"
             ],
             [
              0.2222222222222222,
              "#7201a8"
             ],
             [
              0.3333333333333333,
              "#9c179e"
             ],
             [
              0.4444444444444444,
              "#bd3786"
             ],
             [
              0.5555555555555556,
              "#d8576b"
             ],
             [
              0.6666666666666666,
              "#ed7953"
             ],
             [
              0.7777777777777778,
              "#fb9f3a"
             ],
             [
              0.8888888888888888,
              "#fdca26"
             ],
             [
              1,
              "#f0f921"
             ]
            ],
            "type": "surface"
           }
          ],
          "table": [
           {
            "cells": {
             "fill": {
              "color": "#EBF0F8"
             },
             "line": {
              "color": "white"
             }
            },
            "header": {
             "fill": {
              "color": "#C8D4E3"
             },
             "line": {
              "color": "white"
             }
            },
            "type": "table"
           }
          ]
         },
         "layout": {
          "annotationdefaults": {
           "arrowcolor": "#2a3f5f",
           "arrowhead": 0,
           "arrowwidth": 1
          },
          "coloraxis": {
           "colorbar": {
            "outlinewidth": 0,
            "ticks": ""
           }
          },
          "colorscale": {
           "diverging": [
            [
             0,
             "#8e0152"
            ],
            [
             0.1,
             "#c51b7d"
            ],
            [
             0.2,
             "#de77ae"
            ],
            [
             0.3,
             "#f1b6da"
            ],
            [
             0.4,
             "#fde0ef"
            ],
            [
             0.5,
             "#f7f7f7"
            ],
            [
             0.6,
             "#e6f5d0"
            ],
            [
             0.7,
             "#b8e186"
            ],
            [
             0.8,
             "#7fbc41"
            ],
            [
             0.9,
             "#4d9221"
            ],
            [
             1,
             "#276419"
            ]
           ],
           "sequential": [
            [
             0,
             "#0d0887"
            ],
            [
             0.1111111111111111,
             "#46039f"
            ],
            [
             0.2222222222222222,
             "#7201a8"
            ],
            [
             0.3333333333333333,
             "#9c179e"
            ],
            [
             0.4444444444444444,
             "#bd3786"
            ],
            [
             0.5555555555555556,
             "#d8576b"
            ],
            [
             0.6666666666666666,
             "#ed7953"
            ],
            [
             0.7777777777777778,
             "#fb9f3a"
            ],
            [
             0.8888888888888888,
             "#fdca26"
            ],
            [
             1,
             "#f0f921"
            ]
           ],
           "sequentialminus": [
            [
             0,
             "#0d0887"
            ],
            [
             0.1111111111111111,
             "#46039f"
            ],
            [
             0.2222222222222222,
             "#7201a8"
            ],
            [
             0.3333333333333333,
             "#9c179e"
            ],
            [
             0.4444444444444444,
             "#bd3786"
            ],
            [
             0.5555555555555556,
             "#d8576b"
            ],
            [
             0.6666666666666666,
             "#ed7953"
            ],
            [
             0.7777777777777778,
             "#fb9f3a"
            ],
            [
             0.8888888888888888,
             "#fdca26"
            ],
            [
             1,
             "#f0f921"
            ]
           ]
          },
          "colorway": [
           "#636efa",
           "#EF553B",
           "#00cc96",
           "#ab63fa",
           "#FFA15A",
           "#19d3f3",
           "#FF6692",
           "#B6E880",
           "#FF97FF",
           "#FECB52"
          ],
          "font": {
           "color": "#2a3f5f"
          },
          "geo": {
           "bgcolor": "white",
           "lakecolor": "white",
           "landcolor": "#E5ECF6",
           "showlakes": true,
           "showland": true,
           "subunitcolor": "white"
          },
          "hoverlabel": {
           "align": "left"
          },
          "hovermode": "closest",
          "mapbox": {
           "style": "light"
          },
          "paper_bgcolor": "white",
          "plot_bgcolor": "#E5ECF6",
          "polar": {
           "angularaxis": {
            "gridcolor": "white",
            "linecolor": "white",
            "ticks": ""
           },
           "bgcolor": "#E5ECF6",
           "radialaxis": {
            "gridcolor": "white",
            "linecolor": "white",
            "ticks": ""
           }
          },
          "scene": {
           "xaxis": {
            "backgroundcolor": "#E5ECF6",
            "gridcolor": "white",
            "gridwidth": 2,
            "linecolor": "white",
            "showbackground": true,
            "ticks": "",
            "zerolinecolor": "white"
           },
           "yaxis": {
            "backgroundcolor": "#E5ECF6",
            "gridcolor": "white",
            "gridwidth": 2,
            "linecolor": "white",
            "showbackground": true,
            "ticks": "",
            "zerolinecolor": "white"
           },
           "zaxis": {
            "backgroundcolor": "#E5ECF6",
            "gridcolor": "white",
            "gridwidth": 2,
            "linecolor": "white",
            "showbackground": true,
            "ticks": "",
            "zerolinecolor": "white"
           }
          },
          "shapedefaults": {
           "line": {
            "color": "#2a3f5f"
           }
          },
          "ternary": {
           "aaxis": {
            "gridcolor": "white",
            "linecolor": "white",
            "ticks": ""
           },
           "baxis": {
            "gridcolor": "white",
            "linecolor": "white",
            "ticks": ""
           },
           "bgcolor": "#E5ECF6",
           "caxis": {
            "gridcolor": "white",
            "linecolor": "white",
            "ticks": ""
           }
          },
          "title": {
           "x": 0.05
          },
          "xaxis": {
           "automargin": true,
           "gridcolor": "white",
           "linecolor": "white",
           "ticks": "",
           "title": {
            "standoff": 15
           },
           "zerolinecolor": "white",
           "zerolinewidth": 2
          },
          "yaxis": {
           "automargin": true,
           "gridcolor": "white",
           "linecolor": "white",
           "ticks": "",
           "title": {
            "standoff": 15
           },
           "zerolinecolor": "white",
           "zerolinewidth": 2
          }
         }
        },
        "title": {
         "text": "VIZUALIZATION OF TOP 10 BY COMPARISON For: 2020-01-22"
        },
        "updatemenus": [
         {
          "buttons": [
           {
            "args": [
             null,
             {
              "frame": {
               "duration": 200
              },
              "fromcurrent": true
             }
            ],
            "label": "Play",
            "method": "animate"
           },
           {
            "args": [
             [
              null
             ],
             {
              "frame": {
               "duration": 0,
               "redraw": false
              },
              "mode": "immediate",
              "transition": {
               "duration": 0
              }
             }
            ],
            "label": "Pause",
            "method": "animate"
           }
          ],
          "type": "buttons"
         }
        ],
        "xaxis": {
         "showline": false,
         "tickangle": -90,
         "visible": false
        },
        "yaxis": {
         "showline": false,
         "visible": false
        }
       }
      }
     },
     "metadata": {},
     "output_type": "display_data"
    }
   ],
   "source": [
    "animated_barchart(bar_df, '1970-01-01',bar_df.columns[1],bar_df.columns[-1],title = \"VIZUALIZATION OF TOP 10 BY COMPARISON\", frame_rate = 24)"
   ]
  },
  {
   "cell_type": "code",
   "execution_count": null,
   "metadata": {},
   "outputs": [],
   "source": []
  }
 ],
 "metadata": {
  "kernelspec": {
   "display_name": "Python 3",
   "language": "python",
   "name": "python3"
  },
  "language_info": {
   "codemirror_mode": {
    "name": "ipython",
    "version": 3
   },
   "file_extension": ".py",
   "mimetype": "text/x-python",
   "name": "python",
   "nbconvert_exporter": "python",
   "pygments_lexer": "ipython3",
   "version": "3.7.6"
  }
 },
 "nbformat": 4,
 "nbformat_minor": 4
}
