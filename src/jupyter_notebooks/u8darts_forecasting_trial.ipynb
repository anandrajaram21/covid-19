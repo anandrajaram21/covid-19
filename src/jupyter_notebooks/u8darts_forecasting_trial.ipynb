{
 "cells": [
  {
   "cell_type": "code",
   "execution_count": 1,
   "metadata": {},
   "outputs": [],
   "source": [
    "# Imports\n",
    "import sys\n",
    "import os\n",
    "from datetime import datetime\n",
    "from datetime import date\n",
    "import pandas as pd\n",
    "import numpy as np\n",
    "import plotly\n",
    "import plotly.express as px\n",
    "import plotly.graph_objects as go\n",
    "import plotly.offline as pyo\n",
    "from darts import TimeSeries\n",
    "from darts.models import ExponentialSmoothing\n",
    "from darts.metrics import mape\n",
    "import matplotlib.pyplot as plt\n",
    "\n",
    "# To import the main.py file\n",
    "sys.path.append('../')\n",
    "from python_files import main\n",
    "\n",
    "# Getting all the data\n",
    "confirmed_global, deaths_global, recovered_global, country_cases = main.collect_data()"
   ]
  },
  {
   "cell_type": "markdown",
   "metadata": {},
   "source": [
    "# Time Series forecasting with an Exponential Smoothing Model"
   ]
  },
  {
   "cell_type": "code",
   "execution_count": 2,
   "metadata": {},
   "outputs": [
    {
     "data": {
      "text/html": [
       "        <script type=\"text/javascript\">\n",
       "        window.PlotlyConfig = {MathJaxConfig: 'local'};\n",
       "        if (window.MathJax) {MathJax.Hub.Config({SVG: {font: \"STIX-Web\"}});}\n",
       "        if (typeof require !== 'undefined') {\n",
       "        require.undef(\"plotly\");\n",
       "        requirejs.config({\n",
       "            paths: {\n",
       "                'plotly': ['https://cdn.plot.ly/plotly-latest.min']\n",
       "            }\n",
       "        });\n",
       "        require(['plotly'], function(Plotly) {\n",
       "            window._Plotly = Plotly;\n",
       "        });\n",
       "        }\n",
       "        </script>\n",
       "        "
      ]
     },
     "metadata": {},
     "output_type": "display_data"
    }
   ],
   "source": [
    "# Setting up plotly to work offline and in jupyter notebooks\n",
    "pyo.init_notebook_mode(connected = True)\n",
    "%matplotlib inline"
   ]
  },
  {
   "cell_type": "code",
   "execution_count": 3,
   "metadata": {},
   "outputs": [],
   "source": [
    "pd.options.display.float_format = '{:.5f}'.format"
   ]
  },
  {
   "cell_type": "code",
   "execution_count": 4,
   "metadata": {},
   "outputs": [],
   "source": [
    "def predict(country_name):\n",
    "    cases = main.get_new_cases(country_name)\n",
    "    is_0 = cases['cases'] != 0\n",
    "    cases = cases[is_0]\n",
    "    split_ratio = 0.8\n",
    "    train_size = int(split_ratio * len(cases))\n",
    "    train_df, test_df = cases.iloc[:train_size, :], cases.iloc[train_size:, :]\n",
    "    train, test = TimeSeries.from_dataframe(train_df, 'date', 'cases'), TimeSeries.from_dataframe(test_df, 'date', 'cases')\n",
    "    time_series = TimeSeries.from_dataframe(cases, 'date', 'cases')\n",
    "    model = ExponentialSmoothing(trend = 'mul', seasonal = 'add', seasonal_periods = 2)\n",
    "    model.fit(train)\n",
    "    prediction = model.predict(len(test) + 30)\n",
    "    pred_df = TimeSeries.pd_dataframe(prediction)\n",
    "    pred_df['date'] = pred_df.index\n",
    "    pred_df.index = [x for x in range(len(pred_df))]\n",
    "    pred_df.rename(columns = {0: 'cases'}, inplace = True)\n",
    "    pred_df['date'] = pd.to_datetime(pred_df['date'],unit='ms')\n",
    "    print(pred_df)\n",
    "    time_series.plot(label='actual', lw=3)\n",
    "    prediction.plot(label='forecast', lw=3)\n",
    "    plt.legend()\n",
    "    plt.xlabel('Date')\n",
    "    plt.ylabel('Cases')\n",
    "    err = mape(test, prediction)\n",
    "    print(err)\n",
    "    return pred_df"
   ]
  },
  {
   "cell_type": "code",
   "execution_count": 5,
   "metadata": {},
   "outputs": [
    {
     "name": "stdout",
     "output_type": "stream",
     "text": [
      "           cases       date\n",
      "0   585982.96696 2020-06-30\n",
      "1   605688.35821 2020-07-01\n",
      "2   625964.10800 2020-07-02\n",
      "3   646835.48365 2020-07-03\n",
      "4   668311.22186 2020-07-04\n",
      "..           ...        ...\n",
      "64 4163380.23468 2020-09-02\n",
      "65 4287414.54975 2020-09-03\n",
      "66 4415061.80530 2020-09-04\n",
      "67 4546436.00057 2020-09-05\n",
      "68 4681637.19189 2020-09-06\n",
      "\n",
      "[69 rows x 2 columns]\n",
      "4.032843243082715\n"
     ]
    },
    {
     "data": {
      "text/plain": [
       "1924575.3392475909"
      ]
     },
     "execution_count": 5,
     "metadata": {},
     "output_type": "execute_result"
    },
    {
     "data": {
      "image/png": "[encoded data removed]",
      "text/plain": [
       "<Figure size 432x288 with 1 Axes>"
      ]
     },
     "metadata": {
      "needs_background": "light"
     },
     "output_type": "display_data"
    }
   ],
   "source": [
    "predict('India').at[38, 'cases']"
   ]
  },
  {
   "cell_type": "code",
   "execution_count": 6,
   "metadata": {},
   "outputs": [
    {
     "name": "stdout",
     "output_type": "stream",
     "text": [
      "           cases       date\n",
      "0  2590013.12168 2020-06-29\n",
      "1  2630575.61327 2020-06-30\n",
      "2  2671692.63153 2020-07-01\n",
      "3  2713234.99453 2020-07-02\n",
      "4  2755343.63926 2020-07-03\n",
      "..           ...        ...\n",
      "65 6552249.43016 2020-09-02\n",
      "66 6640412.96032 2020-09-03\n",
      "67 6729566.23053 2020-09-04\n",
      "68 6819856.94856 2020-09-05\n",
      "69 6911162.92553 2020-09-06\n",
      "\n",
      "[70 rows x 2 columns]\n",
      "5.629631953180299\n"
     ]
    },
    {
     "data": {
      "text/plain": [
       "4529954.089728173"
      ]
     },
     "execution_count": 6,
     "metadata": {},
     "output_type": "execute_result"
    },
    {
     "data": {
      "image/png": "[encoded data removed]",
      "text/plain": [
       "<Figure size 432x288 with 1 Axes>"
      ]
     },
     "metadata": {
      "needs_background": "light"
     },
     "output_type": "display_data"
    }
   ],
   "source": [
    "predict('US').at[38, 'cases']"
   ]
  },
  {
   "cell_type": "code",
   "execution_count": 7,
   "metadata": {},
   "outputs": [
    {
     "name": "stderr",
     "output_type": "stream",
     "text": [
      "/home/anirudh/.local/lib/python3.8/site-packages/statsmodels/tsa/holtwinters.py:743: ConvergenceWarning:\n",
      "\n",
      "Optimization failed to converge. Check mle_retvals.\n",
      "\n"
     ]
    },
    {
     "name": "stdout",
     "output_type": "stream",
     "text": [
      "         cases       date\n",
      "0   7914.12748 2020-06-30\n",
      "1   7991.01615 2020-07-01\n",
      "2   8072.78452 2020-07-02\n",
      "3   8150.70990 2020-07-03\n",
      "4   8233.52176 2020-07-04\n",
      "..         ...        ...\n",
      "64 14172.07316 2020-09-02\n",
      "65 14289.85312 2020-09-03\n",
      "66 14412.77997 2020-09-04\n",
      "67 14532.13278 2020-09-05\n",
      "68 14656.64276 2020-09-06\n",
      "\n",
      "[69 rows x 2 columns]\n",
      "21.780543391676055\n"
     ]
    },
    {
     "data": {
      "text/html": [
       "<div>\n",
       "<style scoped>\n",
       "    .dataframe tbody tr th:only-of-type {\n",
       "        vertical-align: middle;\n",
       "    }\n",
       "\n",
       "    .dataframe tbody tr th {\n",
       "        vertical-align: top;\n",
       "    }\n",
       "\n",
       "    .dataframe thead th {\n",
       "        text-align: right;\n",
       "    }\n",
       "</style>\n",
       "<table border=\"1\" class=\"dataframe\">\n",
       "  <thead>\n",
       "    <tr style=\"text-align: right;\">\n",
       "      <th></th>\n",
       "      <th>cases</th>\n",
       "      <th>date</th>\n",
       "    </tr>\n",
       "  </thead>\n",
       "  <tbody>\n",
       "    <tr>\n",
       "      <th>0</th>\n",
       "      <td>7914.12748</td>\n",
       "      <td>2020-06-30</td>\n",
       "    </tr>\n",
       "    <tr>\n",
       "      <th>1</th>\n",
       "      <td>7991.01615</td>\n",
       "      <td>2020-07-01</td>\n",
       "    </tr>\n",
       "    <tr>\n",
       "      <th>2</th>\n",
       "      <td>8072.78452</td>\n",
       "      <td>2020-07-02</td>\n",
       "    </tr>\n",
       "    <tr>\n",
       "      <th>3</th>\n",
       "      <td>8150.70990</td>\n",
       "      <td>2020-07-03</td>\n",
       "    </tr>\n",
       "    <tr>\n",
       "      <th>4</th>\n",
       "      <td>8233.52176</td>\n",
       "      <td>2020-07-04</td>\n",
       "    </tr>\n",
       "    <tr>\n",
       "      <th>...</th>\n",
       "      <td>...</td>\n",
       "      <td>...</td>\n",
       "    </tr>\n",
       "    <tr>\n",
       "      <th>64</th>\n",
       "      <td>14172.07316</td>\n",
       "      <td>2020-09-02</td>\n",
       "    </tr>\n",
       "    <tr>\n",
       "      <th>65</th>\n",
       "      <td>14289.85312</td>\n",
       "      <td>2020-09-03</td>\n",
       "    </tr>\n",
       "    <tr>\n",
       "      <th>66</th>\n",
       "      <td>14412.77997</td>\n",
       "      <td>2020-09-04</td>\n",
       "    </tr>\n",
       "    <tr>\n",
       "      <th>67</th>\n",
       "      <td>14532.13278</td>\n",
       "      <td>2020-09-05</td>\n",
       "    </tr>\n",
       "    <tr>\n",
       "      <th>68</th>\n",
       "      <td>14656.64276</td>\n",
       "      <td>2020-09-06</td>\n",
       "    </tr>\n",
       "  </tbody>\n",
       "</table>\n",
       "<p>69 rows × 2 columns</p>\n",
       "</div>"
      ],
      "text/plain": [
       "         cases       date\n",
       "0   7914.12748 2020-06-30\n",
       "1   7991.01615 2020-07-01\n",
       "2   8072.78452 2020-07-02\n",
       "3   8150.70990 2020-07-03\n",
       "4   8233.52176 2020-07-04\n",
       "..         ...        ...\n",
       "64 14172.07316 2020-09-02\n",
       "65 14289.85312 2020-09-03\n",
       "66 14412.77997 2020-09-04\n",
       "67 14532.13278 2020-09-05\n",
       "68 14656.64276 2020-09-06\n",
       "\n",
       "[69 rows x 2 columns]"
      ]
     },
     "execution_count": 7,
     "metadata": {},
     "output_type": "execute_result"
    },
    {
     "data": {
      "image/png": "[encoded data removed]",
      "text/plain": [
       "<Figure size 432x288 with 1 Axes>"
      ]
     },
     "metadata": {
      "needs_background": "light"
     },
     "output_type": "display_data"
    }
   ],
   "source": [
    "predict('Australia')"
   ]
  }
 ],
 "metadata": {
  "kernelspec": {
   "display_name": "Python 3",
   "language": "python",
   "name": "python3"
  },
  "language_info": {
   "codemirror_mode": {
    "name": "ipython",
    "version": 3
   },
   "file_extension": ".py",
   "mimetype": "text/x-python",
   "name": "python",
   "nbconvert_exporter": "python",
   "pygments_lexer": "ipython3",
   "version": "3.8.2"
  }
 },
 "nbformat": 4,
 "nbformat_minor": 4
}
