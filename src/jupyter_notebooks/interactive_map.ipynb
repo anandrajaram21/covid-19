{
 "cells": [
  {
   "cell_type": "markdown",
   "metadata": {},
   "source": [
    "# INTERACTIVE MAP USING PLOTLY CHART STUDIO"
   ]
  },
  {
   "cell_type": "code",
   "execution_count": 13,
   "metadata": {},
   "outputs": [],
   "source": [
    "#importing necessary libraries\n",
    "\n",
    "import chart_studio.plotly as py\n",
    "import chart_studio\n",
    "import pandas as pd\n",
    "import plotly\n",
    "import numpy as np \n",
    "import plotly.offline as pyo\n",
    "from math import log,e\n",
    "from itertools import chain\n",
    "import warnings\n",
    "warnings.filterwarnings(\"ignore\")\n",
    "\n",
    "#importing main.py \n",
    "sys.path.append('../')\n",
    "from python_files import main"
   ]
  },
  {
   "cell_type": "code",
   "execution_count": 14,
   "metadata": {},
   "outputs": [],
   "source": [
    "def chainer(s):\n",
    "    return list(chain.from_iterable(s.str.split(',')))\n",
    "def convert_df(df,cols):\n",
    "    \"\"\"\n",
    "    function takes in dataframe and converts it into the necessary format for plotting the map\n",
    "    cols : a list of columns with the order [location, list of studies, latitude, longitude]\n",
    "    \"\"\"\n",
    "    df.set_index(df[cols[0]].values)\n",
    "    L=[]\n",
    "    for i in range(len(df)):\n",
    "        string = ''\n",
    "        for j in range (len(cols[1])):\n",
    "            if j != len(cols[1]) -1 :\n",
    "                string = string + str(df[cols[1][j]].values[i])+','\n",
    "            else :\n",
    "                string = string + str(df[cols[1][j]].values[i])\n",
    "\n",
    "        L.append(string)\n",
    "    df['New']=L\n",
    "\n",
    "    lens = df['New'].str.split(',').map(len)\n",
    "    df = pd.DataFrame({'Country': np.repeat(df[cols[0]], lens),\n",
    "                        'Lat': np.repeat(df[cols[-2]], lens),\n",
    "                        'Long_': np.repeat(df[cols[-1]], lens),\n",
    "                        'Count': chainer(df['New'])})\n",
    "    df['Study']=[cols[1][0],cols[1][1],cols[1][2]]*(len(df.index)//3)\n",
    "    return df"
   ]
  },
  {
   "cell_type": "code",
   "execution_count": 15,
   "metadata": {},
   "outputs": [],
   "source": [
    "def create_data(df,study,color):\n",
    "    \"\"\"\n",
    "    creates and returns the data parameter for the plotly plot functio\n",
    "    given the df, object of study and color of scatter plot\n",
    "    \"\"\" \n",
    "    countries = list(df['Country'].value_counts().index)\n",
    "    data = []\n",
    "    df.dropna(inplace = True)\n",
    "    #df = df[df[study] != NaN]\n",
    "    for country in countries:\n",
    "\n",
    "        try:\n",
    "            event_data = dict(\n",
    "                lat = df.loc[(df['Study'] == study) & (df[\"Country\"] == country),'Lat'],\n",
    "                lon = df.loc[(df['Study'] == study) & (df[\"Country\"] == country),'Long_'],\n",
    "                name = study + \" : \" + country,\n",
    "                marker = dict(size = log(float(df.loc[(df['Study'] == study) & (df[\"Country\"] == country),                                                              'Count']), 1.5), opacity = 0.5,color = color),\n",
    "                type = 'scattermapbox',\n",
    "                hoverinfo=\"skip\"\n",
    "            )\n",
    "            data.append(event_data)\n",
    "        except:\n",
    "            continue\n",
    "    return data"
   ]
  },
  {
   "cell_type": "code",
   "execution_count": 16,
   "metadata": {},
   "outputs": [],
   "source": [
    "def update_layout(study):\n",
    "    \"\"\"\n",
    "    updates attributes of layout that are not common to all plots given the object of study\n",
    "    \"\"\"\n",
    "    annotations = [dict(text= study.capitalize() + \"Cases\", \n",
    "         font=dict(color='#FFFFFF',size=14), borderpad=10, \n",
    "         x=0.05, y=0.05, xref='paper', yref='paper', align='left', showarrow=False, bgcolor='black')]\n",
    "\n",
    "    layout['title'] = study.capitalize() + \"Cases\"\n",
    "    layout['annotations'] = annotations \n",
    "    return layout\n"
   ]
  },
  {
   "cell_type": "code",
   "execution_count": 17,
   "metadata": {},
   "outputs": [],
   "source": [
    "def interactive_map(data, layout):\n",
    "    \"\"\"\n",
    "    creates map object given data to plot and layout and plots it\n",
    "    \"\"\"\n",
    "    figure = dict(data=data, layout=layout)\n",
    "    \n",
    "    return figure"
   ]
  },
  {
   "cell_type": "code",
   "execution_count": 18,
   "metadata": {},
   "outputs": [],
   "source": [
    "def plot_study(df1,cols,study_dict,layout):\n",
    "    \"\"\"\n",
    "    given the dataframe to take data from, the columns containing objects of study and the study to be plotted,and the basic map          layout\n",
    "    this function plots required data on an interactive map\n",
    "    \"\"\"\n",
    "    \n",
    "    color = study_dict[\"color\"]\n",
    "    study = study_dict[\"study\"]\n",
    "    df = convert_df(df1,cols)\n",
    "    data = create_data(df,study,color)\n",
    "    updated_layout = update_layout(study)\n",
    "    figure = interactive_map(data, updated_layout)\n",
    "    return figure\n",
    "    \n",
    "\n"
   ]
  },
  {
   "cell_type": "code",
   "execution_count": 19,
   "metadata": {},
   "outputs": [],
   "source": [
    "# getting necessary dataframes\n",
    "confirmed_global, deaths_global, recovered_global, country_cases = main.collect_data()\n",
    "country_cases_sorted = country_cases.sort_values('confirmed', ascending = False)\n",
    "country_cases_sorted.index = [x for x in range(len(country_cases_sorted))]"
   ]
  },
  {
   "cell_type": "code",
   "execution_count": 20,
   "metadata": {},
   "outputs": [],
   "source": [
    "# setting up credentials for the map \n",
    "chart_studio.tools.set_credentials_file(username='', api_key='')\n",
    "mapbox_access_token = ''"
   ]
  },
  {
   "cell_type": "code",
   "execution_count": 21,
   "metadata": {},
   "outputs": [],
   "source": [
    "#common layout for all maps\n",
    "layout = dict(\n",
    "    height = 800,\n",
    "    margin = dict(t=0, b=0, l=0, r=0),\n",
    "    font = dict(color='#FFFFFF', size=15),\n",
    "    paper_bgcolor = '#000000',\n",
    "    showlegend = False,\n",
    "    \n",
    "    mapbox = dict(\n",
    "        accesstoken=mapbox_access_token,\n",
    "        bearing=0,\n",
    "        center=dict(\n",
    "            lat = 20.59,\n",
    "            lon = 78.96\n",
    "        ),\n",
    "        pitch = 0,\n",
    "        zoom = 1.5,\n",
    "        style = 'satellite-streets'\n",
    "    ),\n",
    ")"
   ]
  },
  {
   "cell_type": "code",
   "execution_count": 22,
   "metadata": {},
   "outputs": [],
   "source": [
    " confirmed = dict(study = \"confirmed\",color = \"blue\")\n",
    " recovered = dict(study = \"recovered\",color = \"green\")\n",
    " deaths = dict(study = \"deaths\",color = \"red\")\n"
   ]
  },
  {
   "cell_type": "code",
   "execution_count": 23,
   "metadata": {},
   "outputs": [],
   "source": [
    "columns = [\"country\",[\"deaths\",\"confirmed\",\"recovered\"],\"Lat\",\"Long_\"]"
   ]
  },
  {
   "cell_type": "code",
   "execution_count": 24,
   "metadata": {
    "tags": []
   },
   "outputs": [
    {
     "output_type": "execute_result",
     "data": {
      "text/plain": "<IPython.lib.display.IFrame at 0x19ebaed1970>",
      "text/html": "\n        <iframe\n            width=\"100%\"\n            height=\"800px\"\n            src=\"https://plotly.com/~MajimeArun/253.embed\"\n            frameborder=\"0\"\n            allowfullscreen\n        ></iframe>\n        "
     },
     "metadata": {},
     "execution_count": 24
    }
   ],
   "source": [
    "# Example for confirmed cases (for recovered)\n",
    "figure = plot_study(country_cases_sorted,columns,deaths,layout)\n",
    "py.iplot(figure)"
   ]
  },
  {
   "cell_type": "code",
   "execution_count": null,
   "metadata": {},
   "outputs": [],
   "source": []
  }
 ],
 "metadata": {
  "kernelspec": {
   "display_name": "Python 3.8.1 64-bit",
   "language": "python",
   "name": "python_defaultSpec_1597288217935"
  },
  "language_info": {
   "codemirror_mode": {
    "name": "ipython",
    "version": 3
   },
   "file_extension": ".py",
   "mimetype": "text/x-python",
   "name": "python",
   "nbconvert_exporter": "python",
   "pygments_lexer": "ipython3",
   "version": "3.8.1-final"
  }
 },
 "nbformat": 4,
 "nbformat_minor": 4
}