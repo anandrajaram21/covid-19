{
 "cells": [
  {
   "cell_type": "markdown",
   "metadata": {},
   "source": [
    "# INTERACTIVE MAP USING PLOTLY CHART STUDIO"
   ]
  },
  {
   "cell_type": "code",
   "execution_count": 2,
   "metadata": {},
   "outputs": [],
   "source": [
    "#importing necessary libraries\n",
    "\n",
    "import chart_studio.plotly as py\n",
    "import chart_studio\n",
    "import pandas as pd\n",
    "import plotly\n",
    "import numpy as np \n",
    "from math import log,e\n",
    "from itertools import chain\n",
    "#importing main.py \n",
    "sys.path.append('../')\n",
    "from python_files import main"
   ]
  },
  {
   "cell_type": "code",
   "execution_count": 3,
   "metadata": {},
   "outputs": [],
   "source": [
    "def chainer(s):\n",
    "    return list(chain.from_iterable(s.str.split(',')))\n",
    "def convert_df(df,cols):\n",
    "    \"\"\"\n",
    "    function takes in dataframe and converts it into the necessary format for plotting the map\n",
    "    cols : a list of columns with the order :\n",
    "    [location, list of studies (things to be plotted), latitude, longitude]\n",
    "    \"\"\"\n",
    "    df.dropna(inplace = True)\n",
    "    df.set_index(df[cols[0]].values)\n",
    "    df.dropna(inplace = True)\n",
    "    L=[]\n",
    "    for i in range(len(df)):\n",
    "        string = ''\n",
    "        for j in range (len(cols[1])):\n",
    "            if j != len(cols[1]) -1 :\n",
    "                string = string + str(df[cols[1][j]].values[i])+','\n",
    "            else :\n",
    "                string = string + str(df[cols[1][j]].values[i])\n",
    "\n",
    "        L.append(string)\n",
    "    df['New']=L\n",
    "\n",
    "    lens = df['New'].str.split(',').map(len)\n",
    "    df = pd.DataFrame({'Country': np.repeat(df[cols[0]], lens),\n",
    "                        'Lat': np.repeat(df[cols[-2]], lens),\n",
    "                        'Long_': np.repeat(df[cols[-1]], lens),\n",
    "                        'Count': chainer(df['New'])})\n",
    "    df['Study']=[cols[1][i] for i in range (len(cols[1]))]*(len(df.index)//len(cols[1]))\n",
    "    return df"
   ]
  },
  {
   "cell_type": "code",
   "execution_count": 4,
   "metadata": {},
   "outputs": [],
   "source": [
    "def create_data(df,study,color):\n",
    "    \"\"\"\n",
    "    creates and returns the data parameter for the plotly plot functio\n",
    "    given the df, object of study and color of scatter plot\n",
    "    \"\"\" \n",
    "    countries = list(df['Country'].value_counts().index)\n",
    "    data = []\n",
    "    df.dropna(inplace = True)\n",
    "    \n",
    "    for country in countries:\n",
    "\n",
    "        try:\n",
    "            event_data = dict(\n",
    "                lat = df.loc[(df['Study'] == study) & (df[\"Country\"] == country),'Lat'],\n",
    "                lon = df.loc[(df['Study'] == study) & (df[\"Country\"] == country),'Long_'],\n",
    "                name = study + \" : \" + country,\n",
    "                marker = dict(size = log(float(df.loc[(df['Study'] == study) & (df[\"Country\"] == country),                                                              'Count']), 1.5), opacity = 0.5,color = color),\n",
    "                type = 'scattermapbox',\n",
    "                hoverinfo=\"skip\"\n",
    "            )\n",
    "            data.append(event_data)\n",
    "        except:\n",
    "            continue\n",
    "    return data"
   ]
  },
  {
   "cell_type": "code",
   "execution_count": 5,
   "metadata": {},
   "outputs": [],
   "source": [
    "def update_layout(study):\n",
    "    \"\"\"\n",
    "    updates attributes of layout that are not common to all plots given the object of study\n",
    "    \"\"\"\n",
    "    annotations = [dict(text= study.capitalize() + \" Cases\", \n",
    "         font=dict(color='#FFFFFF',size=14), borderpad=10, \n",
    "         x=0.05, y=0.05, xref='paper', yref='paper', align='left', showarrow=False, bgcolor='black')]\n",
    "\n",
    "    layout['title'] = study.capitalize() + \"Cases\"\n",
    "    layout['annotations'] = annotations \n",
    "    return layout\n"
   ]
  },
  {
   "cell_type": "code",
   "execution_count": 6,
   "metadata": {},
   "outputs": [],
   "source": [
    "def interactive_map(data, layout):\n",
    "    \"\"\"\n",
    "    creates map object given data to plot and layout and plots it\n",
    "    \"\"\"\n",
    "    figure = dict(data=data, layout=layout)\n",
    "    \n",
    "    return figure"
   ]
  },
  {
   "cell_type": "code",
   "execution_count": 7,
   "metadata": {},
   "outputs": [],
   "source": [
    "def plot_study(starting_df,cols,study_dict,layout):\n",
    "    \"\"\"\n",
    "    given the dataframe to take data from, the columns containing objects of study and the study to be plotted,       and the basic map layout\n",
    "    this function plots required data on an interactive map\n",
    "    \"\"\"\n",
    "    color = study_dict[\"color\"]\n",
    "    study = study_dict[\"study\"]\n",
    "    df = convert_df(starting_df,cols)\n",
    "    data = create_data(df,study,color)\n",
    "    updated_layout = update_layout(study)\n",
    "    figure = interactive_map(data, updated_layout)\n",
    "    return figure\n",
    "    \n",
    "\n"
   ]
  },
  {
   "cell_type": "code",
   "execution_count": 8,
   "metadata": {},
   "outputs": [],
   "source": [
    "# Getting country_cases_sorted \n",
    "confirmed_global, deaths_global, recovered_global, country_cases = main.collect_data()\n",
    "country_cases_sorted = country_cases.sort_values('confirmed', ascending = False)\n",
    "country_cases_sorted.index = [x for x in range(len(country_cases_sorted))]"
   ]
  },
  {
   "cell_type": "code",
   "execution_count": 15,
   "metadata": {},
   "outputs": [],
   "source": [
    "df = convert_df(country_cases_sorted,columns)"
   ]
  },
  {
   "cell_type": "code",
   "execution_count": 18,
   "metadata": {},
   "outputs": [
    {
     "output_type": "execute_result",
     "data": {
      "text/plain": "  Country     Lat     Long_      Count      Study\n0      US  40.000 -100.0000   166148.0     deaths\n0      US  40.000 -100.0000  5204792.0  confirmed\n0      US  40.000 -100.0000  1755225.0  recovered\n1  Brazil -14.235  -51.9253   104201.0     deaths\n1  Brazil -14.235  -51.9253  3164785.0  confirmed\n1  Brazil -14.235  -51.9253  2506448.0  recovered",
      "text/html": "<div>\n<style scoped>\n    .dataframe tbody tr th:only-of-type {\n        vertical-align: middle;\n    }\n\n    .dataframe tbody tr th {\n        vertical-align: top;\n    }\n\n    .dataframe thead th {\n        text-align: right;\n    }\n</style>\n<table border=\"1\" class=\"dataframe\">\n  <thead>\n    <tr style=\"text-align: right;\">\n      <th></th>\n      <th>Country</th>\n      <th>Lat</th>\n      <th>Long_</th>\n      <th>Count</th>\n      <th>Study</th>\n    </tr>\n  </thead>\n  <tbody>\n    <tr>\n      <th>0</th>\n      <td>US</td>\n      <td>40.000</td>\n      <td>-100.0000</td>\n      <td>166148.0</td>\n      <td>deaths</td>\n    </tr>\n    <tr>\n      <th>0</th>\n      <td>US</td>\n      <td>40.000</td>\n      <td>-100.0000</td>\n      <td>5204792.0</td>\n      <td>confirmed</td>\n    </tr>\n    <tr>\n      <th>0</th>\n      <td>US</td>\n      <td>40.000</td>\n      <td>-100.0000</td>\n      <td>1755225.0</td>\n      <td>recovered</td>\n    </tr>\n    <tr>\n      <th>1</th>\n      <td>Brazil</td>\n      <td>-14.235</td>\n      <td>-51.9253</td>\n      <td>104201.0</td>\n      <td>deaths</td>\n    </tr>\n    <tr>\n      <th>1</th>\n      <td>Brazil</td>\n      <td>-14.235</td>\n      <td>-51.9253</td>\n      <td>3164785.0</td>\n      <td>confirmed</td>\n    </tr>\n    <tr>\n      <th>1</th>\n      <td>Brazil</td>\n      <td>-14.235</td>\n      <td>-51.9253</td>\n      <td>2506448.0</td>\n      <td>recovered</td>\n    </tr>\n  </tbody>\n</table>\n</div>"
     },
     "metadata": {},
     "execution_count": 18
    }
   ],
   "source": [
    "df.head(6)"
   ]
  },
  {
   "cell_type": "code",
   "execution_count": 10,
   "metadata": {},
   "outputs": [],
   "source": [
    "# setting up credentials for the map \n",
    "chart_studio.tools.set_credentials_file(username='MajimeArun', api_key='U5ZptYUW46gtgMrikogt')\n",
    "mapbox_access_token = 'pk.eyJ1IjoibWFpam1lYXJ1biIsImEiOiJja2Q0N3MwZ2QwMXdwMnVwaHhrODM0eG1nIn0.8Jf0o3XxMPIPqrUYXIOWNQ'"
   ]
  },
  {
   "cell_type": "code",
   "execution_count": 11,
   "metadata": {},
   "outputs": [],
   "source": [
    "#common layout for all maps\n",
    "layout = dict(\n",
    "    height = 800,\n",
    "    margin = dict(t=0, b=0, l=0, r=0),\n",
    "    font = dict(color='#FFFFFF', size=15),\n",
    "    paper_bgcolor = '#000000',\n",
    "    showlegend = False,\n",
    "    \n",
    "    mapbox = dict(\n",
    "        accesstoken=mapbox_access_token,\n",
    "        bearing=0,\n",
    "        center=dict(\n",
    "            lat = 20.59,\n",
    "            lon = 78.96\n",
    "        ),\n",
    "        pitch = 0,\n",
    "        zoom = 2,\n",
    "        style = 'satellite-streets'\n",
    "    ),\n",
    ")"
   ]
  },
  {
   "cell_type": "code",
   "execution_count": 12,
   "metadata": {},
   "outputs": [],
   "source": [
    " confirmed = dict(study = \"confirmed\",color = \"blue\")\n",
    " recovered = dict(study = \"recovered\",color = \"pink\")\n",
    " deaths = dict(study = \"deaths\",color = \"red\")\n"
   ]
  },
  {
   "cell_type": "code",
   "execution_count": 13,
   "metadata": {},
   "outputs": [],
   "source": [
    "columns = [\"country\",[\"deaths\",\"confirmed\",\"recovered\"],\"Lat\",\"Long_\"]"
   ]
  },
  {
   "cell_type": "code",
   "execution_count": 14,
   "metadata": {
    "tags": []
   },
   "outputs": [],
   "source": [
    "# Example for confirmed cases \n",
    "figure = plot_study(country_cases_sorted,columns,confirmed,layout)\n"
   ]
  }
 ],
 "metadata": {
  "kernelspec": {
   "display_name": "Python 3.8.1 64-bit",
   "language": "python",
   "name": "python_defaultSpec_1597335862252"
  },
  "language_info": {
   "codemirror_mode": {
    "name": "ipython",
    "version": 3
   },
   "file_extension": ".py",
   "mimetype": "text/x-python",
   "name": "python",
   "nbconvert_exporter": "python",
   "pygments_lexer": "ipython3",
   "version": "3.8.1-final"
  }
 },
 "nbformat": 4,
 "nbformat_minor": 4
}