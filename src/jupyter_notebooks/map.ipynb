{
 "cells": [
  {
   "cell_type": "markdown",
   "metadata": {},
   "source": [
    "# INTERACTIVE MAP USING PLOTLY CHART STUDIO"
   ]
  },
  {
   "cell_type": "code",
   "execution_count": 3,
   "metadata": {},
   "outputs": [],
   "source": [
    "# Importing necessary libraries\n",
    "\n",
    "import sys\n",
    "import chart_studio.plotly as py\n",
    "import chart_studio\n",
    "import pandas as pd\n",
    "import plotly\n",
    "import numpy as np \n",
    "from math import log,e\n",
    "from itertools import chain\n",
    "\n",
    "# Importing main.py \n",
    "sys.path.append('../')\n",
    "from python_files import main"
   ]
  },
  {
   "cell_type": "code",
   "execution_count": 4,
   "metadata": {},
   "outputs": [],
   "source": [
    "def chainer(s):\n",
    "    return list(chain.from_iterable(s.str.split(',')))\n",
    "\n",
    "def convert_df(df,cols):\n",
    "    \"\"\"\n",
    "    function takes in dataframe and converts it into the necessary format for plotting the map\n",
    "    cols : a list of columns with the order :\n",
    "    [location, list of studies (things to be plotted), latitude, longitude]\n",
    "    \"\"\"\n",
    "    df.dropna(inplace = True)\n",
    "    df.set_index(df[cols[0]].values)\n",
    "    df.dropna(inplace = True)\n",
    "    L=[]\n",
    "    for i in range(len(df)):\n",
    "        string = ''\n",
    "        for j in range (len(cols[1])):\n",
    "            if j != len(cols[1]) -1 :\n",
    "                string = string + str(df[cols[1][j]].values[i])+','\n",
    "            else :\n",
    "                string = string + str(df[cols[1][j]].values[i])\n",
    "\n",
    "        L.append(string)\n",
    "    df['New']=L\n",
    "\n",
    "    lens = df['New'].str.split(',').map(len)\n",
    "    df = pd.DataFrame({'Country': np.repeat(df[cols[0]], lens),\n",
    "                        'Lat': np.repeat(df[cols[-2]], lens),\n",
    "                        'Long_': np.repeat(df[cols[-1]], lens),\n",
    "                        'Count': chainer(df['New'])})\n",
    "    df['Study']=[cols[1][i] for i in range (len(cols[1]))]*(len(df.index)//len(cols[1]))\n",
    "    return df"
   ]
  },
  {
   "cell_type": "code",
   "execution_count": 5,
   "metadata": {},
   "outputs": [],
   "source": [
    "def create_data(df,study,color):\n",
    "    \"\"\"\n",
    "    creates and returns the data parameter for the plotly plot functio\n",
    "    given the df, object of study and color of scatter plot\n",
    "    \"\"\" \n",
    "    countries = list(df['Country'].value_counts().index)\n",
    "    data = []\n",
    "    df.dropna(inplace = True)\n",
    "    \n",
    "    for country in countries:\n",
    "\n",
    "        try:\n",
    "            event_data = dict(\n",
    "                lat = df.loc[(df['Study'] == study) & (df[\"Country\"] == country),'Lat'],\n",
    "                lon = df.loc[(df['Study'] == study) & (df[\"Country\"] == country),'Long_'],\n",
    "                name = study + \" : \" + country,\n",
    "                marker = dict(size = log(float(df.loc[(df['Study'] == study) & (df[\"Country\"] == country),                                                              'Count']), 1.5), opacity = 0.5,color = color),\n",
    "                type = 'scattermapbox',\n",
    "                hoverinfo=\"skip\"\n",
    "            )\n",
    "            data.append(event_data)\n",
    "        except:\n",
    "            continue\n",
    "    return data"
   ]
  },
  {
   "cell_type": "code",
   "execution_count": 6,
   "metadata": {},
   "outputs": [],
   "source": [
    "\n",
    "def create_basic_layout(latitude,longitude):\n",
    "    \"\"\"\n",
    "    Creates a layout centred about the given latitude and longitude\n",
    "    \"\"\"\n",
    "    layout = dict(\n",
    "        height = 800,\n",
    "        margin = dict(t=0, b=0, l=0, r=0),\n",
    "        font = dict(color='#FFFFFF', size=15),\n",
    "        paper_bgcolor = '#000000',\n",
    "        showlegend = False,\n",
    "        \n",
    "        mapbox = dict(\n",
    "            accesstoken=mapbox_access_token,\n",
    "            bearing=0,\n",
    "            center=dict(\n",
    "                lat = latitude,\n",
    "                lon = longitude\n",
    "            ),\n",
    "            pitch = 0,\n",
    "            zoom = 2,\n",
    "            style = 'satellite-streets'\n",
    "        ),\n",
    "    )\n",
    "    return layout"
   ]
  },
  {
   "cell_type": "code",
   "execution_count": 7,
   "metadata": {},
   "outputs": [],
   "source": [
    "def update_layout(study,layout):\n",
    "    \"\"\"\n",
    "    updates attributes of layout that are not common to all plots given the object of study\n",
    "    \"\"\"\n",
    "    annotations = [dict(text= study.capitalize() + \" Cases\", \n",
    "         font=dict(color='#FFFFFF',size=14), borderpad=10, \n",
    "         x=0.05, y=0.05, xref='paper', yref='paper', align='left', showarrow=False, bgcolor='black')]\n",
    "\n",
    "    layout['title'] = study.capitalize() + \"Cases\"\n",
    "    layout['annotations'] = annotations \n",
    "    return layout\n"
   ]
  },
  {
   "cell_type": "code",
   "execution_count": 8,
   "metadata": {},
   "outputs": [],
   "source": [
    "def interactive_map(data, layout):\n",
    "    \"\"\"\n",
    "    creates map object given data to plot and layout and plots it\n",
    "    \"\"\"\n",
    "    figure = dict(data=data, layout=layout)\n",
    "    \n",
    "    return figure"
   ]
  },
  {
   "cell_type": "code",
   "execution_count": 9,
   "metadata": {},
   "outputs": [],
   "source": [
    "def plot_study(starting_df,cols,study_dict,location = \"global\"):\n",
    "    \"\"\"\n",
    "    given the dataframe to take data from, the columns containing objects of study and the study to be plotted,and the basic       map layout\n",
    "    this function plots required data on an interactive map\n",
    "    \"\"\"\n",
    "    color = study_dict[\"color\"]\n",
    "    study = study_dict[\"study\"]\n",
    "    latitude = 20.59\n",
    "    longitude = 78.96\n",
    "    if location != \"global\" :\n",
    "        latitude = int(country_cases_sorted.loc[(country_cases_sorted[\"country\"] == location),'Lat'])\n",
    "        longitude = int(country_cases_sorted.loc[(country_cases_sorted[\"country\"] == location),'Long_'])\n",
    "\n",
    "    df = convert_df(starting_df,cols)\n",
    "    data = create_data(df,study,color)\n",
    "    layout = create_basic_layout(latitude,longitude)\n",
    "    updated_layout = update_layout(study,layout)\n",
    "    figure = interactive_map(data, updated_layout)\n",
    "    return figure\n",
    "    \n",
    "\n"
   ]
  },
  {
   "cell_type": "markdown",
   "metadata": {},
   "source": [
    "# Example"
   ]
  },
  {
   "cell_type": "code",
   "execution_count": 10,
   "metadata": {},
   "outputs": [],
   "source": [
    "# Getting country_cases_sorted \n",
    "confirmed_global, deaths_global, recovered_global, country_cases = main.collect_data()\n",
    "country_cases_sorted = country_cases.sort_values('confirmed', ascending = False)\n",
    "country_cases_sorted.index = [x for x in range(len(country_cases_sorted))]"
   ]
  },
  {
   "cell_type": "markdown",
   "metadata": {},
   "source": [
    "## FILL IN THE DETAILS BEFORE RUNNING"
   ]
  },
  {
   "cell_type": "code",
   "execution_count": 11,
   "metadata": {},
   "outputs": [],
   "source": [
    "# setting up credentials for the map \n",
    "chart_studio.tools.set_credentials_file(username='chartstudiouser', api_key='m9KxT5JPEEukONNW8E50')\n",
    "mapbox_access_token = 'pk.eyJ1IjoiY2hhcnRzdHVkaW91c2VyIiwiYSI6ImNrZXd3bTBoNTA4bnYyemw4N3l5aDN5azIifQ.7e-KoC1KMXr_EKbkahgAQQ'"
   ]
  },
  {
   "cell_type": "code",
   "execution_count": 12,
   "metadata": {},
   "outputs": [],
   "source": [
    " confirmed = dict(study = \"confirmed\",color = \"blue\")\n",
    " recovered = dict(study = \"recovered\",color = \"pink\")\n",
    " deaths = dict(study = \"deaths\",color = \"red\")\n"
   ]
  },
  {
   "cell_type": "code",
   "execution_count": 13,
   "metadata": {},
   "outputs": [],
   "source": [
    "columns = [\"country\",[\"deaths\",\"confirmed\",\"recovered\"],\"Lat\",\"Long_\"]"
   ]
  },
  {
   "cell_type": "code",
   "execution_count": 14,
   "metadata": {
    "tags": []
   },
   "outputs": [
    {
     "data": {
      "text/html": [
       "\n",
       "        <iframe\n",
       "            width=\"100%\"\n",
       "            height=\"800px\"\n",
       "            src=\"https://plotly.com/~chartstudiouser/1.embed\"\n",
       "            frameborder=\"0\"\n",
       "            allowfullscreen\n",
       "        ></iframe>\n",
       "        "
      ],
      "text/plain": [
       "<IPython.lib.display.IFrame at 0x7fc05f9dad90>"
      ]
     },
     "execution_count": 14,
     "metadata": {},
     "output_type": "execute_result"
    }
   ],
   "source": [
    "# Example for confirmed cases \n",
    "figure = plot_study(country_cases_sorted,columns,confirmed,\"Japan\")\n",
    "py.iplot(figure)"
   ]
  }
 ],
 "metadata": {
  "kernelspec": {
   "display_name": "Python 3",
   "language": "python",
   "name": "python3"
  },
  "language_info": {
   "codemirror_mode": {
    "name": "ipython",
    "version": 3
   },
   "file_extension": ".py",
   "mimetype": "text/x-python",
   "name": "python",
   "nbconvert_exporter": "python",
   "pygments_lexer": "ipython3",
   "version": "3.8.2"
  }
 },
 "nbformat": 4,
 "nbformat_minor": 4
}
