{
 "cells": [
  {
   "cell_type": "markdown",
   "metadata": {},
   "source": [
    "# Time Series forecasting with an Exponential Smoothing Model"
   ]
  },
  {
   "cell_type": "code",
   "execution_count": 2,
   "metadata": {},
   "outputs": [],
   "source": [
    "# Imports\n",
    "import sys\n",
    "import os\n",
    "from datetime import datetime\n",
    "from datetime import date\n",
    "import pandas as pd\n",
    "import numpy as np\n",
    "import plotly\n",
    "import plotly.express as px\n",
    "import plotly.graph_objects as go\n",
    "import plotly.offline as pyo\n",
    "from darts import TimeSeries\n",
    "from darts.models import ExponentialSmoothing\n",
    "from darts.metrics import mape\n",
    "import matplotlib.pyplot as plt\n",
    "\n",
    "# To import the main.py file\n",
    "sys.path.append('../')\n",
    "from python_files import main\n",
    "\n",
    "# Getting all the data\n",
    "confirmed_global, deaths_global, recovered_global, country_cases = main.collect_data()"
   ]
  },
  {
   "cell_type": "code",
   "execution_count": 3,
   "metadata": {},
   "outputs": [
    {
     "data": {
      "text/html": [
       "        <script type=\"text/javascript\">\n",
       "        window.PlotlyConfig = {MathJaxConfig: 'local'};\n",
       "        if (window.MathJax) {MathJax.Hub.Config({SVG: {font: \"STIX-Web\"}});}\n",
       "        if (typeof require !== 'undefined') {\n",
       "        require.undef(\"plotly\");\n",
       "        requirejs.config({\n",
       "            paths: {\n",
       "                'plotly': ['https://cdn.plot.ly/plotly-latest.min']\n",
       "            }\n",
       "        });\n",
       "        require(['plotly'], function(Plotly) {\n",
       "            window._Plotly = Plotly;\n",
       "        });\n",
       "        }\n",
       "        </script>\n",
       "        "
      ]
     },
     "metadata": {},
     "output_type": "display_data"
    }
   ],
   "source": [
    "# Setting up plotly to work offline and in jupyter notebooks\n",
    "pyo.init_notebook_mode(connected = True)\n",
    "%matplotlib inline"
   ]
  },
  {
   "cell_type": "code",
   "execution_count": 4,
   "metadata": {},
   "outputs": [],
   "source": [
    "pd.options.display.float_format = '{:.5f}'.format"
   ]
  },
  {
   "cell_type": "code",
   "execution_count": 15,
   "metadata": {},
   "outputs": [],
   "source": [
    "def predict(country_name):\n",
    "    cases = main.get_new_cases(country_name)\n",
    "    is_0 = cases['cases'] != 0\n",
    "    cases = cases[is_0]\n",
    "    split_ratio = 0.8\n",
    "    train_size = int(split_ratio * len(cases))\n",
    "    train_df, test_df = cases.iloc[:train_size, :], cases.iloc[train_size:, :]\n",
    "    train, test = TimeSeries.from_dataframe(train_df, 'date', 'cases'), TimeSeries.from_dataframe(test_df, 'date', 'cases')\n",
    "    time_series = TimeSeries.from_dataframe(cases, 'date', 'cases')\n",
    "    model = ExponentialSmoothing(trend = 'mul', seasonal = 'add', seasonal_periods = 2)\n",
    "    model.fit(train)\n",
    "    prediction = model.predict(len(test) + 30)\n",
    "    pred_df = TimeSeries.pd_dataframe(prediction)\n",
    "    pred_df['date'] = pred_df.index\n",
    "    pred_df.index = [x for x in range(len(pred_df))]\n",
    "    pred_df.rename(columns = {0: 'cases'}, inplace = True)\n",
    "    pred_df['date'] = pd.to_datetime(pred_df['date'],unit='ms')\n",
    "    print(pred_df)\n",
    "    time_series.plot(label='actual', lw=3)\n",
    "    prediction.plot(label='forecast', lw=3)\n",
    "    plt.legend()\n",
    "    plt.xlabel('Date')\n",
    "    plt.ylabel('Cases')\n",
    "    err = mape(test, prediction)\n",
    "    print(err)\n",
    "    return pred_df"
   ]
  },
  {
   "cell_type": "code",
   "execution_count": 19,
   "metadata": {},
   "outputs": [
    {
     "name": "stdout",
     "output_type": "stream",
     "text": [
      "           cases       date\n",
      "0   508243.94998 2020-06-26\n",
      "1   526650.90537 2020-06-27\n",
      "2   545632.35838 2020-06-28\n",
      "3   565213.58863 2020-06-29\n",
      "4   585406.19750 2020-06-30\n",
      "..           ...        ...\n",
      "62 3908657.26919 2020-08-27\n",
      "63 4033862.56275 2020-08-28\n",
      "64 4162996.61824 2020-08-29\n",
      "65 4296190.06420 2020-08-30\n",
      "66 4433563.15965 2020-08-31\n",
      "\n",
      "[67 rows x 2 columns]\n",
      "0.8419483778844213\n"
     ]
    },
    {
     "data": {
      "text/plain": [
       "1820061.095513972"
      ]
     },
     "execution_count": 19,
     "metadata": {},
     "output_type": "execute_result"
    },
    {
     "data": {
      "image/png": "[encoded data removed]",
      "text/plain": [
       "<Figure size 432x288 with 1 Axes>"
      ]
     },
     "metadata": {
      "needs_background": "light"
     },
     "output_type": "display_data"
    }
   ],
   "source": [
    "predict('India').at[38, 'cases']"
   ]
  },
  {
   "cell_type": "code",
   "execution_count": 20,
   "metadata": {},
   "outputs": [
    {
     "name": "stdout",
     "output_type": "stream",
     "text": [
      "           cases       date\n",
      "0  2383022.07719 2020-06-24\n",
      "1  2419026.74339 2020-06-25\n",
      "2  2455385.21646 2020-06-26\n",
      "3  2492226.41039 2020-06-27\n",
      "4  2529431.08157 2020-06-28\n",
      "..           ...        ...\n",
      "64 5764828.35077 2020-08-27\n",
      "65 5839927.15764 2020-08-28\n",
      "66 5915831.70496 2020-08-29\n",
      "67 5992676.13114 2020-08-30\n",
      "68 6070346.47738 2020-08-31\n",
      "\n",
      "[69 rows x 2 columns]\n",
      "6.370347457092246\n"
     ]
    },
    {
     "data": {
      "text/plain": [
       "4087371.6222390956"
      ]
     },
     "execution_count": 20,
     "metadata": {},
     "output_type": "execute_result"
    },
    {
     "data": {
      "image/png": "[encoded data removed]",
      "text/plain": [
       "<Figure size 432x288 with 1 Axes>"
      ]
     },
     "metadata": {
      "needs_background": "light"
     },
     "output_type": "display_data"
    }
   ],
   "source": [
    "predict('US').at[38, 'cases']"
   ]
  },
  {
   "cell_type": "code",
   "execution_count": 21,
   "metadata": {},
   "outputs": [
    {
     "name": "stdout",
     "output_type": "stream",
     "text": [
      "        cases       date\n",
      "0  7584.96485 2020-06-25\n",
      "1  7619.58895 2020-06-26\n",
      "2  7649.36585 2020-06-27\n",
      "3  7684.16719 2020-06-28\n",
      "4  7714.12182 2020-06-29\n",
      "..        ...        ...\n",
      "63 9796.19612 2020-08-27\n",
      "64 9831.96327 2020-08-28\n",
      "65 9872.77133 2020-08-29\n",
      "66 9908.74923 2020-08-30\n",
      "67 9949.76861 2020-08-31\n",
      "\n",
      "[68 rows x 2 columns]\n",
      "22.311395492296647\n"
     ]
    },
    {
     "data": {
      "text/html": [
       "<div>\n",
       "<style scoped>\n",
       "    .dataframe tbody tr th:only-of-type {\n",
       "        vertical-align: middle;\n",
       "    }\n",
       "\n",
       "    .dataframe tbody tr th {\n",
       "        vertical-align: top;\n",
       "    }\n",
       "\n",
       "    .dataframe thead th {\n",
       "        text-align: right;\n",
       "    }\n",
       "</style>\n",
       "<table border=\"1\" class=\"dataframe\">\n",
       "  <thead>\n",
       "    <tr style=\"text-align: right;\">\n",
       "      <th></th>\n",
       "      <th>cases</th>\n",
       "      <th>date</th>\n",
       "    </tr>\n",
       "  </thead>\n",
       "  <tbody>\n",
       "    <tr>\n",
       "      <th>0</th>\n",
       "      <td>7584.96485</td>\n",
       "      <td>2020-06-25</td>\n",
       "    </tr>\n",
       "    <tr>\n",
       "      <th>1</th>\n",
       "      <td>7619.58895</td>\n",
       "      <td>2020-06-26</td>\n",
       "    </tr>\n",
       "    <tr>\n",
       "      <th>2</th>\n",
       "      <td>7649.36585</td>\n",
       "      <td>2020-06-27</td>\n",
       "    </tr>\n",
       "    <tr>\n",
       "      <th>3</th>\n",
       "      <td>7684.16719</td>\n",
       "      <td>2020-06-28</td>\n",
       "    </tr>\n",
       "    <tr>\n",
       "      <th>4</th>\n",
       "      <td>7714.12182</td>\n",
       "      <td>2020-06-29</td>\n",
       "    </tr>\n",
       "    <tr>\n",
       "      <th>...</th>\n",
       "      <td>...</td>\n",
       "      <td>...</td>\n",
       "    </tr>\n",
       "    <tr>\n",
       "      <th>63</th>\n",
       "      <td>9796.19612</td>\n",
       "      <td>2020-08-27</td>\n",
       "    </tr>\n",
       "    <tr>\n",
       "      <th>64</th>\n",
       "      <td>9831.96327</td>\n",
       "      <td>2020-08-28</td>\n",
       "    </tr>\n",
       "    <tr>\n",
       "      <th>65</th>\n",
       "      <td>9872.77133</td>\n",
       "      <td>2020-08-29</td>\n",
       "    </tr>\n",
       "    <tr>\n",
       "      <th>66</th>\n",
       "      <td>9908.74923</td>\n",
       "      <td>2020-08-30</td>\n",
       "    </tr>\n",
       "    <tr>\n",
       "      <th>67</th>\n",
       "      <td>9949.76861</td>\n",
       "      <td>2020-08-31</td>\n",
       "    </tr>\n",
       "  </tbody>\n",
       "</table>\n",
       "<p>68 rows × 2 columns</p>\n",
       "</div>"
      ],
      "text/plain": [
       "        cases       date\n",
       "0  7584.96485 2020-06-25\n",
       "1  7619.58895 2020-06-26\n",
       "2  7649.36585 2020-06-27\n",
       "3  7684.16719 2020-06-28\n",
       "4  7714.12182 2020-06-29\n",
       "..        ...        ...\n",
       "63 9796.19612 2020-08-27\n",
       "64 9831.96327 2020-08-28\n",
       "65 9872.77133 2020-08-29\n",
       "66 9908.74923 2020-08-30\n",
       "67 9949.76861 2020-08-31\n",
       "\n",
       "[68 rows x 2 columns]"
      ]
     },
     "execution_count": 21,
     "metadata": {},
     "output_type": "execute_result"
    },
    {
     "data": {
      "image/png": "[encoded data removed]",
      "text/plain": [
       "<Figure size 432x288 with 1 Axes>"
      ]
     },
     "metadata": {
      "needs_background": "light"
     },
     "output_type": "display_data"
    }
   ],
   "source": [
    "predict('Australia')"
   ]
  },
  {
   "cell_type": "code",
   "execution_count": null,
   "metadata": {},
   "outputs": [],
   "source": []
  }
 ],
 "metadata": {
  "kernelspec": {
   "display_name": "Python 3",
   "language": "python",
   "name": "python3"
  },
  "language_info": {
   "codemirror_mode": {
    "name": "ipython",
    "version": 3
   },
   "file_extension": ".py",
   "mimetype": "text/x-python",
   "name": "python",
   "nbconvert_exporter": "python",
   "pygments_lexer": "ipython3",
   "version": "3.8.2"
  }
 },
 "nbformat": 4,
 "nbformat_minor": 4
}
