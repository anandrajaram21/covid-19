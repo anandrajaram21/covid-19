{
 "cells": [
  {
   "cell_type": "markdown",
   "metadata": {},
   "source": [
    "# Map\n",
    "This file contains the functions required beautiful, interactive maps using Plotly Chart Studio and Mapbox"
   ]
  },
  {
   "cell_type": "markdown",
   "metadata": {},
   "source": [
    "### Imports"
   ]
  },
  {
   "cell_type": "code",
   "execution_count": 1,
   "metadata": {},
   "outputs": [],
   "source": [
    "import copy\n",
    "import sys\n",
    "import os\n",
    "from datetime import datetime\n",
    "from datetime import date\n",
    "import pandas as pd\n",
    "import numpy as np\n",
    "import plotly\n",
    "import plotly.io as pio\n",
    "import plotly.express as px\n",
    "import plotly.graph_objects as go\n",
    "import plotly.offline as pyo\n",
    "import chart_studio.plotly as py\n",
    "import chart_studio\n",
    "from math import log\n",
    "from math import e\n",
    "from itertools import chain\n",
    "\n",
    "# Importing main.py \n",
    "sys.path.append('../')\n",
    "from python_files import main"
   ]
  },
  {
   "cell_type": "markdown",
   "metadata": {},
   "source": [
    "### Setting up credentials for the map "
   ]
  },
  {
   "cell_type": "code",
   "execution_count": 2,
   "metadata": {},
   "outputs": [],
   "source": [
    "chart_studio.tools.set_credentials_file(username='chartstudiouser', api_key='m9KxT5JPEEukONNW8E50')\n",
    "mapbox_access_token = 'pk.eyJ1IjoiY2hhcnRzdHVkaW91c2VyIiwiYSI6ImNrZXd3bTBoNTA4bnYyemw4N3l5aDN5azIifQ.7e-KoC1KMXr_EKbkahgAQQ'"
   ]
  },
  {
   "cell_type": "markdown",
   "metadata": {},
   "source": [
    "### Getting sorted country cases"
   ]
  },
  {
   "cell_type": "code",
   "execution_count": 3,
   "metadata": {},
   "outputs": [],
   "source": [
    "confirmed_global, deaths_global, recovered_global, country_cases = main.collect_data()\n",
    "country_cases_sorted = country_cases.sort_values('confirmed', ascending = False)\n",
    "country_cases_sorted.index = [x for x in range(len(country_cases_sorted))]"
   ]
  },
  {
   "cell_type": "code",
   "execution_count": 4,
   "metadata": {},
   "outputs": [],
   "source": [
    "def chainer(s):\n",
    "    return list(chain.from_iterable(s.str.split(',')))"
   ]
  },
  {
   "cell_type": "markdown",
   "metadata": {},
   "source": [
    "### Data Preprocessing"
   ]
  },
  {
   "cell_type": "code",
   "execution_count": 5,
   "metadata": {},
   "outputs": [],
   "source": [
    "def convert_df(df, cols):\n",
    "    df.dropna(inplace=True)\n",
    "    df.set_index(df[cols[0]].values)\n",
    "    df.dropna(inplace=True)\n",
    "\n",
    "    L=[]\n",
    "    for i in range(len(df)):\n",
    "        string = ''\n",
    "        for j in range(len(cols[1])):\n",
    "            if j != (len(cols[1]) - 1):\n",
    "                string = string + str(df[cols[1][j]].values[i]) + ','\n",
    "            else:\n",
    "                string = string + str(df[cols[1][j]].values[i])\n",
    "\n",
    "        L.append(string)\n",
    "\n",
    "    df['New'] = L\n",
    "    lens = df['New'].str.split(',').map(len)\n",
    "\n",
    "    df = pd.DataFrame({\n",
    "        'Country': np.repeat(df[cols[0]], lens),\n",
    "        'Lat': np.repeat(df[cols[-2]], lens),\n",
    "        'Long_': np.repeat(df[cols[-1]], lens),\n",
    "        'Count': chainer(df['New'])\n",
    "    })\n",
    "    df['Study'] = [cols[1][i] for i in range (len(cols[1]))] * (len(df.index) // len(cols[1]))\n",
    "\n",
    "    return df"
   ]
  },
  {
   "cell_type": "code",
   "execution_count": 6,
   "metadata": {},
   "outputs": [],
   "source": [
    "def create_data(df, study, color):\n",
    "    countries = list(df['Country'].value_counts().index)\n",
    "    data = []\n",
    "    df.dropna(inplace = True)\n",
    "    \n",
    "    for country in countries:\n",
    "        try:\n",
    "            event_data = dict(\n",
    "                lat=df.loc[(df['Study'] == study) & (df['Country'] == country), 'Lat'],\n",
    "                lon=df.loc[(df['Study'] == study) & (df['Country'] == country), 'Long_'],\n",
    "                name=f'{study}: {country}',\n",
    "                marker={\n",
    "                    'size': log(float(df.loc[(df['Study'] == study) & (df['Country'] == country), 'Count']), 1.5),\n",
    "                    'opacity': 0.5,\n",
    "                    'color': color\n",
    "                },\n",
    "                type='scattermapbox',\n",
    "                hoverinfo='skip'\n",
    "            )\n",
    "            data.append(event_data)\n",
    "        except:\n",
    "            continue\n",
    "\n",
    "    return data"
   ]
  },
  {
   "cell_type": "markdown",
   "metadata": {},
   "source": [
    "### Graphing"
   ]
  },
  {
   "cell_type": "code",
   "execution_count": 7,
   "metadata": {},
   "outputs": [],
   "source": [
    "def create_basic_layout(latitude, longitude):\n",
    "    layout = {\n",
    "        'height': 400,\n",
    "        'margin': {'t': 0, 'b': 0, 'l': 0, 'r': 0},\n",
    "        'font': {'color': '#FFFFFF', 'size': 15},\n",
    "        'paper_bgcolor': '#000000',\n",
    "        'showlegend': False,\n",
    "        'mapbox': {\n",
    "            'accesstoken': mapbox_access_token,\n",
    "            'bearing': 0,\n",
    "            'center': {'lat': latitude, 'lon': longitude},\n",
    "            'pitch': 0,\n",
    "            'zoom': 2\n",
    "        }\n",
    "    }\n",
    "    return layout"
   ]
  },
  {
   "cell_type": "code",
   "execution_count": 8,
   "metadata": {},
   "outputs": [],
   "source": [
    "def update_layout(study, layout):\n",
    "    annotations = [{\n",
    "        'text': f'{study.capitalize()} Cases',\n",
    "        'font': {'color': '#FFFFFF', 'size': 14},\n",
    "        'borderpad': 10,\n",
    "        'x': 0.05,\n",
    "        'y': 0.05,\n",
    "        'xref': 'paper',\n",
    "        'yref': 'paper',\n",
    "        'align': 'left',\n",
    "        'showarrow': False,\n",
    "        'bgcolor': 'black'\n",
    "    }]\n",
    "\n",
    "    layout['title'] = f'{study.capitalize()} Cases'\n",
    "    layout['annotations'] = annotations \n",
    "\n",
    "    return layout"
   ]
  },
  {
   "cell_type": "code",
   "execution_count": 9,
   "metadata": {},
   "outputs": [],
   "source": [
    "def interactive_map(data, layout):\n",
    "    figure = {\n",
    "        'data': data,\n",
    "        'layout': layout\n",
    "    }\n",
    "\n",
    "    return figure"
   ]
  },
  {
   "cell_type": "code",
   "execution_count": 10,
   "metadata": {},
   "outputs": [],
   "source": [
    "def plot_study(starting_df, cols, study_dict, location='global'):\n",
    "    color = study_dict['color']\n",
    "    study = study_dict['study']\n",
    "    latitude = 20.59\n",
    "    longitude = 78.96\n",
    "    if location != 'global' :\n",
    "        latitude = int(country_cases_sorted.loc[(country_cases_sorted['country'] == location), 'Lat'])\n",
    "        longitude = int(country_cases_sorted.loc[(country_cases_sorted['country'] == location), 'Long_'])\n",
    "\n",
    "    df = convert_df(starting_df, cols)\n",
    "    data = create_data(df, study, color)\n",
    "    layout = create_basic_layout(latitude, longitude)\n",
    "    updated_layout = update_layout(study, layout)\n",
    "    figure = interactive_map(data, updated_layout)\n",
    "    return figure"
   ]
  },
  {
   "cell_type": "markdown",
   "metadata": {},
   "source": [
    "### Example"
   ]
  },
  {
   "cell_type": "code",
   "execution_count": 11,
   "metadata": {},
   "outputs": [],
   "source": [
    "confirmed = dict(study=\"confirmed\",color=\"blue\")\n",
    "recovered = dict(study=\"recovered\",color=\"pink\")\n",
    "deaths = dict(study=\"deaths\",color=\"red\")"
   ]
  },
  {
   "cell_type": "code",
   "execution_count": 12,
   "metadata": {},
   "outputs": [],
   "source": [
    "columns = [\"country\", [\"deaths\", \"confirmed\", \"recovered\"], \"Lat\", \"Long_\"]"
   ]
  },
  {
   "cell_type": "code",
   "execution_count": 13,
   "metadata": {
    "tags": []
   },
   "outputs": [
    {
     "data": {
      "text/html": [
       "\n",
       "        <iframe\n",
       "            width=\"100%\"\n",
       "            height=\"400px\"\n",
       "            src=\"https://plotly.com/~chartstudiouser/5.embed\"\n",
       "            frameborder=\"0\"\n",
       "            allowfullscreen\n",
       "        ></iframe>\n",
       "        "
      ],
      "text/plain": [
       "<IPython.lib.display.IFrame at 0x7fd788c78b80>"
      ]
     },
     "execution_count": 13,
     "metadata": {},
     "output_type": "execute_result"
    }
   ],
   "source": [
    "# Example for confirmed cases \n",
    "figure = plot_study(country_cases_sorted, columns, confirmed, \"Japan\")\n",
    "py.iplot(figure)"
   ]
  }
 ],
 "metadata": {
  "kernelspec": {
   "display_name": "Python 3",
   "language": "python",
   "name": "python3"
  },
  "language_info": {
   "codemirror_mode": {
    "name": "ipython",
    "version": 3
   },
   "file_extension": ".py",
   "mimetype": "text/x-python",
   "name": "python",
   "nbconvert_exporter": "python",
   "pygments_lexer": "ipython3",
   "version": "3.8.5"
  }
 },
 "nbformat": 4,
 "nbformat_minor": 4
}
