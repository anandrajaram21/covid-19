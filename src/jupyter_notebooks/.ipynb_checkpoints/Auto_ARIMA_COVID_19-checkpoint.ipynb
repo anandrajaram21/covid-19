{
 "cells": [
  {
   "cell_type": "markdown",
   "metadata": {},
   "source": [
    "# Predictive Analysis With Auto ARIMA "
   ]
  },
  {
   "cell_type": "markdown",
   "metadata": {},
   "source": [
    "## Data Collection and Preprocessing"
   ]
  },
  {
   "cell_type": "code",
   "execution_count": 1,
   "metadata": {},
   "outputs": [],
   "source": [
    "# Imports\n",
    "import sys\n",
    "import os\n",
    "from datetime import datetime\n",
    "from datetime import date\n",
    "import pandas as pd\n",
    "import numpy as np\n",
    "import plotly\n",
    "import plotly.express as px\n",
    "import plotly.graph_objects as go\n",
    "import plotly.offline as pyo\n",
    "from statsmodels.tsa.seasonal import seasonal_decompose\n",
    "from pmdarima import auto_arima\n",
    "\n",
    "# To import the main.py file\n",
    "sys.path.append('../')\n",
    "from python_files import main\n",
    "\n",
    "# Getting all the data\n",
    "confirmed_global, deaths_global, recovered_global, country_cases = main.collect_data()\n",
    "rec = recovered_global.groupby(\"country\").sum().T\n",
    "death=deaths_global.groupby(\"country\").sum().T\n",
    "conf=confirmed_global.groupby(\"country\").sum().T\n",
    "death.index = pd.to_datetime(death.index, infer_datetime_format = True)\n",
    "rec.index=pd.to_datetime(rec.index, infer_datetime_format=True)\n",
    "conf.index=pd.to_datetime(conf.index, infer_datetime_format=True)"
   ]
  },
  {
   "cell_type": "code",
   "execution_count": 2,
   "metadata": {},
   "outputs": [
    {
     "data": {
      "text/html": [
       "        <script type=\"text/javascript\">\n",
       "        window.PlotlyConfig = {MathJaxConfig: 'local'};\n",
       "        if (window.MathJax) {MathJax.Hub.Config({SVG: {font: \"STIX-Web\"}});}\n",
       "        if (typeof require !== 'undefined') {\n",
       "        require.undef(\"plotly\");\n",
       "        requirejs.config({\n",
       "            paths: {\n",
       "                'plotly': ['https://cdn.plot.ly/plotly-latest.min']\n",
       "            }\n",
       "        });\n",
       "        require(['plotly'], function(Plotly) {\n",
       "            window._Plotly = Plotly;\n",
       "        });\n",
       "        }\n",
       "        </script>\n",
       "        "
      ]
     },
     "metadata": {},
     "output_type": "display_data"
    }
   ],
   "source": [
    "# Setting up plotly to work offline and in jupyter notebooks\n",
    "pyo.init_notebook_mode(connected = True)\n",
    "%matplotlib inline"
   ]
  },
  {
   "cell_type": "code",
   "execution_count": 3,
   "metadata": {},
   "outputs": [],
   "source": [
    "def create_data_frame(Type):\n",
    "    if Type=='Death':\n",
    "        # Creating a dataframe with Total number of cases everyday in a column\n",
    "        data = pd.DataFrame(index = death.index, data = death[\"India\"].values, columns = [\"Total\"])\n",
    "    elif Type=='Recovery':\n",
    "        # Creating a dataframe with Total number of cases everyday in a column\n",
    "        data = pd.DataFrame(index = rec.index, data = rec[\"India\"].values, columns = [\"Total\"])\n",
    "    elif Type=='Confirmed':\n",
    "         # Creating a dataframe with Total number of cases everyday in a column\n",
    "        data = pd.DataFrame(index = conf.index, data = conf[\"India\"].values, columns = [\"Total\"])\n",
    "    data['Date'] = data.index\n",
    "    # Setting Date column as index\n",
    "    data=data.set_index('Date', drop=True)\n",
    "    # Making sure no zeroes exist in dataframe\n",
    "    data = data[(data != 0).all(1)]\n",
    "    return data\n"
   ]
  },
  {
   "cell_type": "code",
   "execution_count": 4,
   "metadata": {},
   "outputs": [],
   "source": [
    "# Plotting the Data\n",
    "def plot_data_frame():\n",
    "    return px.line(data, template = 'plotly_dark')"
   ]
  },
  {
   "cell_type": "code",
   "execution_count": 5,
   "metadata": {},
   "outputs": [],
   "source": [
    "def find_params():\n",
    "    stepwise_model = auto_arima(data, start_p = 1, start_q = 1,\n",
    "                               max_p = 3, max_q = 3, m = 12,\n",
    "                               start_P = 0, seasonal = True,\n",
    "                               d = 1, D = 1, trace = True,\n",
    "                               error_action = 'ignore',  \n",
    "                               suppress_warnings = True, \n",
    "                               stepwise = True)\n",
    "    return stepwise_model\n",
    "    # Finding the pest p,d,q parametes for the model"
   ]
  },
  {
   "cell_type": "code",
   "execution_count": 6,
   "metadata": {},
   "outputs": [],
   "source": [
    "def split_dataframe(split_date):\n",
    "    # Setting a Split date for test and train datasets\n",
    "    train = data.loc[:split_date]\n",
    "    test = data.loc[split_date:]\n",
    "    print('Test shape:',test.shape)\n",
    "    print('Train shape:',train.shape)\n",
    "    print(f'Min date from train set: {train.index.min().date()}')\n",
    "    print(f'Max date from train set:{train.index.max().date()}')\n",
    "    print(f'Min date from test set: {test.index.min().date()}')\n",
    "    print(f'Max date from test set: {test.index.max().date()}')\n",
    "    return train,test"
   ]
  },
  {
   "cell_type": "code",
   "execution_count": 7,
   "metadata": {},
   "outputs": [],
   "source": [
    "def forecast():\n",
    "    # Fitting the model with train dataset\n",
    "    stepwise_model.fit(train)\n",
    "    # Forecasting\n",
    "    future_forecast = stepwise_model.predict(n_periods=len(test))\n",
    "    # This returns an array of predictions:\n",
    "    print(future_forecast)\n",
    "    future_forecast = pd.DataFrame(future_forecast,index = test.index,columns=['Prediction'])\n",
    "    # Plotting the predicted values and actual values\n",
    "    return px.line(pd.concat([data,future_forecast],axis=1), template = 'plotly_dark'),future_forecast"
   ]
  },
  {
   "cell_type": "code",
   "execution_count": 8,
   "metadata": {
    "scrolled": true
   },
   "outputs": [],
   "source": [
    "def mean_absolute_percentage_error(y_true, y_pred): \n",
    "    y_true, y_pred = np.array(y_true), np.array(y_pred)\n",
    "    return np.mean(np.abs((y_true - y_pred) / y_true)) * 100"
   ]
  },
  {
   "cell_type": "markdown",
   "metadata": {},
   "source": [
    "## Recovery"
   ]
  },
  {
   "cell_type": "code",
   "execution_count": 9,
   "metadata": {},
   "outputs": [
    {
     "data": {
      "application/vnd.plotly.v1+json": {
       "config": {
        "plotlyServerURL": "https://plot.ly"
       },
       "data": [
        {
         "hovertemplate": "variable=Total<br>Date=%{x}<br>value=%{y}<extra></extra>",
         "legendgroup": "Total",
         "line": {
          "color": "#636efa",
          "dash": "solid"
         },
         "mode": "lines",
         "name": "Total",
         "orientation": "v",
         "showlegend": true,
         "type": "scatter",
         "x": [
          "2020-02-16T00:00:00",
          "2020-02-17T00:00:00",
          "2020-02-18T00:00:00",
          "2020-02-19T00:00:00",
          "2020-02-20T00:00:00",
          "2020-02-21T00:00:00",
          "2020-02-22T00:00:00",
          "2020-02-23T00:00:00",
          "2020-02-24T00:00:00",
          "2020-02-25T00:00:00",
          "2020-02-26T00:00:00",
          "2020-02-27T00:00:00",
          "2020-02-28T00:00:00",
          "2020-02-29T00:00:00",
          "2020-03-01T00:00:00",
          "2020-03-02T00:00:00",
          "2020-03-03T00:00:00",
          "2020-03-04T00:00:00",
          "2020-03-05T00:00:00",
          "2020-03-06T00:00:00",
          "2020-03-07T00:00:00",
          "2020-03-08T00:00:00",
          "2020-03-09T00:00:00",
          "2020-03-10T00:00:00",
          "2020-03-11T00:00:00",
          "2020-03-12T00:00:00",
          "2020-03-13T00:00:00",
          "2020-03-14T00:00:00",
          "2020-03-15T00:00:00",
          "2020-03-16T00:00:00",
          "2020-03-17T00:00:00",
          "2020-03-18T00:00:00",
          "2020-03-19T00:00:00",
          "2020-03-20T00:00:00",
          "2020-03-21T00:00:00",
          "2020-03-22T00:00:00",
          "2020-03-23T00:00:00",
          "2020-03-24T00:00:00",
          "2020-03-25T00:00:00",
          "2020-03-26T00:00:00",
          "2020-03-27T00:00:00",
          "2020-03-28T00:00:00",
          "2020-03-29T00:00:00",
          "2020-03-30T00:00:00",
          "2020-03-31T00:00:00",
          "2020-04-01T00:00:00",
          "2020-04-02T00:00:00",
          "2020-04-03T00:00:00",
          "2020-04-04T00:00:00",
          "2020-04-05T00:00:00",
          "2020-04-06T00:00:00",
          "2020-04-07T00:00:00",
          "2020-04-08T00:00:00",
          "2020-04-09T00:00:00",
          "2020-04-10T00:00:00",
          "2020-04-11T00:00:00",
          "2020-04-12T00:00:00",
          "2020-04-13T00:00:00",
          "2020-04-14T00:00:00",
          "2020-04-15T00:00:00",
          "2020-04-16T00:00:00",
          "2020-04-17T00:00:00",
          "2020-04-18T00:00:00",
          "2020-04-19T00:00:00",
          "2020-04-20T00:00:00",
          "2020-04-21T00:00:00",
          "2020-04-22T00:00:00",
          "2020-04-23T00:00:00",
          "2020-04-24T00:00:00",
          "2020-04-25T00:00:00",
          "2020-04-26T00:00:00",
          "2020-04-27T00:00:00",
          "2020-04-28T00:00:00",
          "2020-04-29T00:00:00",
          "2020-04-30T00:00:00",
          "2020-05-01T00:00:00",
          "2020-05-02T00:00:00",
          "2020-05-03T00:00:00",
          "2020-05-04T00:00:00",
          "2020-05-05T00:00:00",
          "2020-05-06T00:00:00",
          "2020-05-07T00:00:00",
          "2020-05-08T00:00:00",
          "2020-05-09T00:00:00",
          "2020-05-10T00:00:00",
          "2020-05-11T00:00:00",
          "2020-05-12T00:00:00",
          "2020-05-13T00:00:00",
          "2020-05-14T00:00:00",
          "2020-05-15T00:00:00",
          "2020-05-16T00:00:00",
          "2020-05-17T00:00:00",
          "2020-05-18T00:00:00",
          "2020-05-19T00:00:00",
          "2020-05-20T00:00:00",
          "2020-05-21T00:00:00",
          "2020-05-22T00:00:00",
          "2020-05-23T00:00:00",
          "2020-05-24T00:00:00",
          "2020-05-25T00:00:00",
          "2020-05-26T00:00:00",
          "2020-05-27T00:00:00",
          "2020-05-28T00:00:00",
          "2020-05-29T00:00:00",
          "2020-05-30T00:00:00",
          "2020-05-31T00:00:00",
          "2020-06-01T00:00:00",
          "2020-06-02T00:00:00",
          "2020-06-03T00:00:00",
          "2020-06-04T00:00:00",
          "2020-06-05T00:00:00",
          "2020-06-06T00:00:00",
          "2020-06-07T00:00:00",
          "2020-06-08T00:00:00",
          "2020-06-09T00:00:00",
          "2020-06-10T00:00:00",
          "2020-06-11T00:00:00",
          "2020-06-12T00:00:00",
          "2020-06-13T00:00:00",
          "2020-06-14T00:00:00",
          "2020-06-15T00:00:00",
          "2020-06-16T00:00:00",
          "2020-06-17T00:00:00",
          "2020-06-18T00:00:00",
          "2020-06-19T00:00:00",
          "2020-06-20T00:00:00",
          "2020-06-21T00:00:00",
          "2020-06-22T00:00:00",
          "2020-06-23T00:00:00",
          "2020-06-24T00:00:00",
          "2020-06-25T00:00:00",
          "2020-06-26T00:00:00",
          "2020-06-27T00:00:00",
          "2020-06-28T00:00:00",
          "2020-06-29T00:00:00",
          "2020-06-30T00:00:00",
          "2020-07-01T00:00:00",
          "2020-07-02T00:00:00",
          "2020-07-03T00:00:00",
          "2020-07-04T00:00:00",
          "2020-07-05T00:00:00",
          "2020-07-06T00:00:00",
          "2020-07-07T00:00:00",
          "2020-07-08T00:00:00",
          "2020-07-09T00:00:00",
          "2020-07-10T00:00:00",
          "2020-07-11T00:00:00",
          "2020-07-12T00:00:00",
          "2020-07-13T00:00:00",
          "2020-07-14T00:00:00",
          "2020-07-15T00:00:00",
          "2020-07-16T00:00:00",
          "2020-07-17T00:00:00",
          "2020-07-18T00:00:00",
          "2020-07-19T00:00:00",
          "2020-07-20T00:00:00",
          "2020-07-21T00:00:00",
          "2020-07-22T00:00:00",
          "2020-07-23T00:00:00"
         ],
         "xaxis": "x",
         "y": [
          3,
          3,
          3,
          3,
          3,
          3,
          3,
          3,
          3,
          3,
          3,
          3,
          3,
          3,
          3,
          3,
          3,
          3,
          3,
          3,
          3,
          3,
          3,
          4,
          4,
          4,
          4,
          4,
          13,
          13,
          14,
          14,
          15,
          20,
          23,
          27,
          27,
          40,
          43,
          45,
          73,
          84,
          95,
          102,
          123,
          148,
          191,
          192,
          229,
          229,
          375,
          421,
          506,
          620,
          774,
          969,
          1080,
          1181,
          1359,
          1432,
          1768,
          2041,
          2463,
          2854,
          3273,
          3975,
          4370,
          5012,
          5498,
          5939,
          6523,
          7137,
          7747,
          8437,
          9068,
          10007,
          10819,
          11775,
          12847,
          14142,
          15331,
          16776,
          17887,
          19301,
          20969,
          22549,
          24420,
          26400,
          27969,
          30258,
          34224,
          36795,
          39233,
          42309,
          45422,
          48553,
          51824,
          54385,
          57692,
          60706,
          64277,
          67749,
          70920,
          82627,
          86936,
          91852,
          95754,
          100285,
          104071,
          108450,
          113233,
          118695,
          123848,
          129095,
          134670,
          135206,
          147195,
          154330,
          162379,
          169798,
          180013,
          186935,
          194325,
          204711,
          213831,
          227728,
          237196,
          248190,
          258685,
          271697,
          285637,
          295881,
          309713,
          321723,
          334822,
          347912,
          359860,
          379892,
          394227,
          409083,
          424433,
          439934,
          456831,
          476378,
          495513,
          515386,
          534618,
          553471,
          571460,
          592032,
          612768,
          635757,
          653751,
          677423,
          700087,
          724578,
          753050,
          782607,
          817209
         ],
         "yaxis": "y"
        }
       ],
       "layout": {
        "legend": {
         "title": {
          "text": "variable"
         },
         "tracegroupgap": 0
        },
        "margin": {
         "t": 60
        },
        "template": {
         "data": {
          "bar": [
           {
            "error_x": {
             "color": "#f2f5fa"
            },
            "error_y": {
             "color": "#f2f5fa"
            },
            "marker": {
             "line": {
              "color": "rgb(17,17,17)",
              "width": 0.5
             }
            },
            "type": "bar"
           }
          ],
          "barpolar": [
           {
            "marker": {
             "line": {
              "color": "rgb(17,17,17)",
              "width": 0.5
             }
            },
            "type": "barpolar"
           }
          ],
          "carpet": [
           {
            "aaxis": {
             "endlinecolor": "#A2B1C6",
             "gridcolor": "#506784",
             "linecolor": "#506784",
             "minorgridcolor": "#506784",
             "startlinecolor": "#A2B1C6"
            },
            "baxis": {
             "endlinecolor": "#A2B1C6",
             "gridcolor": "#506784",
             "linecolor": "#506784",
             "minorgridcolor": "#506784",
             "startlinecolor": "#A2B1C6"
            },
            "type": "carpet"
           }
          ],
          "choropleth": [
           {
            "colorbar": {
             "outlinewidth": 0,
             "ticks": ""
            },
            "type": "choropleth"
           }
          ],
          "contour": [
           {
            "colorbar": {
             "outlinewidth": 0,
             "ticks": ""
            },
            "colorscale": [
             [
              0,
              "#0d0887"
             ],
             [
              0.1111111111111111,
              "#46039f"
             ],
             [
              0.2222222222222222,
              "#7201a8"
             ],
             [
              0.3333333333333333,
              "#9c179e"
             ],
             [
              0.4444444444444444,
              "#bd3786"
             ],
             [
              0.5555555555555556,
              "#d8576b"
             ],
             [
              0.6666666666666666,
              "#ed7953"
             ],
             [
              0.7777777777777778,
              "#fb9f3a"
             ],
             [
              0.8888888888888888,
              "#fdca26"
             ],
             [
              1,
              "#f0f921"
             ]
            ],
            "type": "contour"
           }
          ],
          "contourcarpet": [
           {
            "colorbar": {
             "outlinewidth": 0,
             "ticks": ""
            },
            "type": "contourcarpet"
           }
          ],
          "heatmap": [
           {
            "colorbar": {
             "outlinewidth": 0,
             "ticks": ""
            },
            "colorscale": [
             [
              0,
              "#0d0887"
             ],
             [
              0.1111111111111111,
              "#46039f"
             ],
             [
              0.2222222222222222,
              "#7201a8"
             ],
             [
              0.3333333333333333,
              "#9c179e"
             ],
             [
              0.4444444444444444,
              "#bd3786"
             ],
             [
              0.5555555555555556,
              "#d8576b"
             ],
             [
              0.6666666666666666,
              "#ed7953"
             ],
             [
              0.7777777777777778,
              "#fb9f3a"
             ],
             [
              0.8888888888888888,
              "#fdca26"
             ],
             [
              1,
              "#f0f921"
             ]
            ],
            "type": "heatmap"
           }
          ],
          "heatmapgl": [
           {
            "colorbar": {
             "outlinewidth": 0,
             "ticks": ""
            },
            "colorscale": [
             [
              0,
              "#0d0887"
             ],
             [
              0.1111111111111111,
              "#46039f"
             ],
             [
              0.2222222222222222,
              "#7201a8"
             ],
             [
              0.3333333333333333,
              "#9c179e"
             ],
             [
              0.4444444444444444,
              "#bd3786"
             ],
             [
              0.5555555555555556,
              "#d8576b"
             ],
             [
              0.6666666666666666,
              "#ed7953"
             ],
             [
              0.7777777777777778,
              "#fb9f3a"
             ],
             [
              0.8888888888888888,
              "#fdca26"
             ],
             [
              1,
              "#f0f921"
             ]
            ],
            "type": "heatmapgl"
           }
          ],
          "histogram": [
           {
            "marker": {
             "colorbar": {
              "outlinewidth": 0,
              "ticks": ""
             }
            },
            "type": "histogram"
           }
          ],
          "histogram2d": [
           {
            "colorbar": {
             "outlinewidth": 0,
             "ticks": ""
            },
            "colorscale": [
             [
              0,
              "#0d0887"
             ],
             [
              0.1111111111111111,
              "#46039f"
             ],
             [
              0.2222222222222222,
              "#7201a8"
             ],
             [
              0.3333333333333333,
              "#9c179e"
             ],
             [
              0.4444444444444444,
              "#bd3786"
             ],
             [
              0.5555555555555556,
              "#d8576b"
             ],
             [
              0.6666666666666666,
              "#ed7953"
             ],
             [
              0.7777777777777778,
              "#fb9f3a"
             ],
             [
              0.8888888888888888,
              "#fdca26"
             ],
             [
              1,
              "#f0f921"
             ]
            ],
            "type": "histogram2d"
           }
          ],
          "histogram2dcontour": [
           {
            "colorbar": {
             "outlinewidth": 0,
             "ticks": ""
            },
            "colorscale": [
             [
              0,
              "#0d0887"
             ],
             [
              0.1111111111111111,
              "#46039f"
             ],
             [
              0.2222222222222222,
              "#7201a8"
             ],
             [
              0.3333333333333333,
              "#9c179e"
             ],
             [
              0.4444444444444444,
              "#bd3786"
             ],
             [
              0.5555555555555556,
              "#d8576b"
             ],
             [
              0.6666666666666666,
              "#ed7953"
             ],
             [
              0.7777777777777778,
              "#fb9f3a"
             ],
             [
              0.8888888888888888,
              "#fdca26"
             ],
             [
              1,
              "#f0f921"
             ]
            ],
            "type": "histogram2dcontour"
           }
          ],
          "mesh3d": [
           {
            "colorbar": {
             "outlinewidth": 0,
             "ticks": ""
            },
            "type": "mesh3d"
           }
          ],
          "parcoords": [
           {
            "line": {
             "colorbar": {
              "outlinewidth": 0,
              "ticks": ""
             }
            },
            "type": "parcoords"
           }
          ],
          "pie": [
           {
            "automargin": true,
            "type": "pie"
           }
          ],
          "scatter": [
           {
            "marker": {
             "line": {
              "color": "#283442"
             }
            },
            "type": "scatter"
           }
          ],
          "scatter3d": [
           {
            "line": {
             "colorbar": {
              "outlinewidth": 0,
              "ticks": ""
             }
            },
            "marker": {
             "colorbar": {
              "outlinewidth": 0,
              "ticks": ""
             }
            },
            "type": "scatter3d"
           }
          ],
          "scattercarpet": [
           {
            "marker": {
             "colorbar": {
              "outlinewidth": 0,
              "ticks": ""
             }
            },
            "type": "scattercarpet"
           }
          ],
          "scattergeo": [
           {
            "marker": {
             "colorbar": {
              "outlinewidth": 0,
              "ticks": ""
             }
            },
            "type": "scattergeo"
           }
          ],
          "scattergl": [
           {
            "marker": {
             "line": {
              "color": "#283442"
             }
            },
            "type": "scattergl"
           }
          ],
          "scattermapbox": [
           {
            "marker": {
             "colorbar": {
              "outlinewidth": 0,
              "ticks": ""
             }
            },
            "type": "scattermapbox"
           }
          ],
          "scatterpolar": [
           {
            "marker": {
             "colorbar": {
              "outlinewidth": 0,
              "ticks": ""
             }
            },
            "type": "scatterpolar"
           }
          ],
          "scatterpolargl": [
           {
            "marker": {
             "colorbar": {
              "outlinewidth": 0,
              "ticks": ""
             }
            },
            "type": "scatterpolargl"
           }
          ],
          "scatterternary": [
           {
            "marker": {
             "colorbar": {
              "outlinewidth": 0,
              "ticks": ""
             }
            },
            "type": "scatterternary"
           }
          ],
          "surface": [
           {
            "colorbar": {
             "outlinewidth": 0,
             "ticks": ""
            },
            "colorscale": [
             [
              0,
              "#0d0887"
             ],
             [
              0.1111111111111111,
              "#46039f"
             ],
             [
              0.2222222222222222,
              "#7201a8"
             ],
             [
              0.3333333333333333,
              "#9c179e"
             ],
             [
              0.4444444444444444,
              "#bd3786"
             ],
             [
              0.5555555555555556,
              "#d8576b"
             ],
             [
              0.6666666666666666,
              "#ed7953"
             ],
             [
              0.7777777777777778,
              "#fb9f3a"
             ],
             [
              0.8888888888888888,
              "#fdca26"
             ],
             [
              1,
              "#f0f921"
             ]
            ],
            "type": "surface"
           }
          ],
          "table": [
           {
            "cells": {
             "fill": {
              "color": "#506784"
             },
             "line": {
              "color": "rgb(17,17,17)"
             }
            },
            "header": {
             "fill": {
              "color": "#2a3f5f"
             },
             "line": {
              "color": "rgb(17,17,17)"
             }
            },
            "type": "table"
           }
          ]
         },
         "layout": {
          "annotationdefaults": {
           "arrowcolor": "#f2f5fa",
           "arrowhead": 0,
           "arrowwidth": 1
          },
          "coloraxis": {
           "colorbar": {
            "outlinewidth": 0,
            "ticks": ""
           }
          },
          "colorscale": {
           "diverging": [
            [
             0,
             "#8e0152"
            ],
            [
             0.1,
             "#c51b7d"
            ],
            [
             0.2,
             "#de77ae"
            ],
            [
             0.3,
             "#f1b6da"
            ],
            [
             0.4,
             "#fde0ef"
            ],
            [
             0.5,
             "#f7f7f7"
            ],
            [
             0.6,
             "#e6f5d0"
            ],
            [
             0.7,
             "#b8e186"
            ],
            [
             0.8,
             "#7fbc41"
            ],
            [
             0.9,
             "#4d9221"
            ],
            [
             1,
             "#276419"
            ]
           ],
           "sequential": [
            [
             0,
             "#0d0887"
            ],
            [
             0.1111111111111111,
             "#46039f"
            ],
            [
             0.2222222222222222,
             "#7201a8"
            ],
            [
             0.3333333333333333,
             "#9c179e"
            ],
            [
             0.4444444444444444,
             "#bd3786"
            ],
            [
             0.5555555555555556,
             "#d8576b"
            ],
            [
             0.6666666666666666,
             "#ed7953"
            ],
            [
             0.7777777777777778,
             "#fb9f3a"
            ],
            [
             0.8888888888888888,
             "#fdca26"
            ],
            [
             1,
             "#f0f921"
            ]
           ],
           "sequentialminus": [
            [
             0,
             "#0d0887"
            ],
            [
             0.1111111111111111,
             "#46039f"
            ],
            [
             0.2222222222222222,
             "#7201a8"
            ],
            [
             0.3333333333333333,
             "#9c179e"
            ],
            [
             0.4444444444444444,
             "#bd3786"
            ],
            [
             0.5555555555555556,
             "#d8576b"
            ],
            [
             0.6666666666666666,
             "#ed7953"
            ],
            [
             0.7777777777777778,
             "#fb9f3a"
            ],
            [
             0.8888888888888888,
             "#fdca26"
            ],
            [
             1,
             "#f0f921"
            ]
           ]
          },
          "colorway": [
           "#636efa",
           "#EF553B",
           "#00cc96",
           "#ab63fa",
           "#FFA15A",
           "#19d3f3",
           "#FF6692",
           "#B6E880",
           "#FF97FF",
           "#FECB52"
          ],
          "font": {
           "color": "#f2f5fa"
          },
          "geo": {
           "bgcolor": "rgb(17,17,17)",
           "lakecolor": "rgb(17,17,17)",
           "landcolor": "rgb(17,17,17)",
           "showlakes": true,
           "showland": true,
           "subunitcolor": "#506784"
          },
          "hoverlabel": {
           "align": "left"
          },
          "hovermode": "closest",
          "mapbox": {
           "style": "dark"
          },
          "paper_bgcolor": "rgb(17,17,17)",
          "plot_bgcolor": "rgb(17,17,17)",
          "polar": {
           "angularaxis": {
            "gridcolor": "#506784",
            "linecolor": "#506784",
            "ticks": ""
           },
           "bgcolor": "rgb(17,17,17)",
           "radialaxis": {
            "gridcolor": "#506784",
            "linecolor": "#506784",
            "ticks": ""
           }
          },
          "scene": {
           "xaxis": {
            "backgroundcolor": "rgb(17,17,17)",
            "gridcolor": "#506784",
            "gridwidth": 2,
            "linecolor": "#506784",
            "showbackground": true,
            "ticks": "",
            "zerolinecolor": "#C8D4E3"
           },
           "yaxis": {
            "backgroundcolor": "rgb(17,17,17)",
            "gridcolor": "#506784",
            "gridwidth": 2,
            "linecolor": "#506784",
            "showbackground": true,
            "ticks": "",
            "zerolinecolor": "#C8D4E3"
           },
           "zaxis": {
            "backgroundcolor": "rgb(17,17,17)",
            "gridcolor": "#506784",
            "gridwidth": 2,
            "linecolor": "#506784",
            "showbackground": true,
            "ticks": "",
            "zerolinecolor": "#C8D4E3"
           }
          },
          "shapedefaults": {
           "line": {
            "color": "#f2f5fa"
           }
          },
          "sliderdefaults": {
           "bgcolor": "#C8D4E3",
           "bordercolor": "rgb(17,17,17)",
           "borderwidth": 1,
           "tickwidth": 0
          },
          "ternary": {
           "aaxis": {
            "gridcolor": "#506784",
            "linecolor": "#506784",
            "ticks": ""
           },
           "baxis": {
            "gridcolor": "#506784",
            "linecolor": "#506784",
            "ticks": ""
           },
           "bgcolor": "rgb(17,17,17)",
           "caxis": {
            "gridcolor": "#506784",
            "linecolor": "#506784",
            "ticks": ""
           }
          },
          "title": {
           "x": 0.05
          },
          "updatemenudefaults": {
           "bgcolor": "#506784",
           "borderwidth": 0
          },
          "xaxis": {
           "automargin": true,
           "gridcolor": "#283442",
           "linecolor": "#506784",
           "ticks": "",
           "title": {
            "standoff": 15
           },
           "zerolinecolor": "#283442",
           "zerolinewidth": 2
          },
          "yaxis": {
           "automargin": true,
           "gridcolor": "#283442",
           "linecolor": "#506784",
           "ticks": "",
           "title": {
            "standoff": 15
           },
           "zerolinecolor": "#283442",
           "zerolinewidth": 2
          }
         }
        },
        "xaxis": {
         "anchor": "y",
         "domain": [
          0,
          1
         ],
         "title": {
          "text": "Date"
         }
        },
        "yaxis": {
         "anchor": "x",
         "domain": [
          0,
          1
         ],
         "title": {
          "text": "value"
         }
        }
       }
      },
<<<<<<< HEAD
=======
      "image/png": "iVBORw0KGgoAAAANSUhEUgAABTIAAAHCCAYAAADcjTZeAAAgAElEQVR4Xuzdd5wUVbrG8WciMGRQUAYFQclJJEqWKCC6Rtz1ursimUVFAcXAIqKrIiJZDIAiCCaCSJSgzogoCAZEUBQJpkWQOMOk++madRSEmQ7V3aeqfvMP3s9UnfO+3/fodR+ru2JKly6dI34QQAABBBBAAAEEEEAAAQQQQAABBBBAAAGDBWIIMg2eDqUhgAACCCCAAAIIIIAAAggggAACCCCAgCVAkMlBQAABBBBAAAEEEEAAAQQQQAABBBBAAAHjBQgyjR8RBSKAAAIIIIAAAggggAACCCCAAAIIIIAAQSZnAAEEEEAAAQQQQAABBBBAAAEEEEAAAQSMFyDINH5EFIgAAggggAACCCCAAAIIIIAAAggggAACBJmcAQQQQAABBBBAAAEEEEAAAQQQQAABBBAwXoAg0/gRUSACCCCAAAIIIIAAAggggAACCCCAAAIIEGRyBhBAAAEEEEAAAQQQQAABBBBAAAEEEEDAeAGCTONHRIEIIIAAAggggAACCCCAAAIIIIAAAgggQJDJGUAAAQQQQAABBBBAAAEEEEAAAQQQQAAB4wUIMo0fEQUigAACCCCAAAIIIIAAAggggAACCCCAAEEmZwABBBBAAAEEEEAAAQQQQAABBBBAAAEEjBcgyDR+RBSIAAIIIIAAAggggAACCCCAAAIIIIAAAgSZnAEEEEAAAQQQQAABBBBAAAEEEEAAAQQQMF6AINP4EVEgAggggAACCCCAAAIIIIAAAggggAACCBBkcgYQQAABBBBAAAEEEEAAAQQQQAABBBBAwHgBgkzjR0SBCCCAAAIIIIAAAggggAACCCCAAAIIIECQyRlAAAEEEEAAAQQQQAABBBBAAAEEEEAAAeMFCDKNHxEFIoAAAggggAACCCCAAAIIIIAAAggggABBJmcAAQQQQAABBBBAAAEEEEAAAQQQQAABBIwXIMg0fkQUiAACCCCAAAIIIIAAAggggAACCCCAAAIEmZwBBBBAAAEEEEAAAQQQQAABBBBAAAEEEDBegCDT+BFRIAIIIIAAAggggAACCCCAAAIIIIAAAggQZHIGEEAAAQQQQAABBBBAAAEEEEAAAQQQQMB4AYJM40dEgQgggAACCCCAAAIIIIAAAggggAACCCBAkMkZQAABBBBAAAEEEEAAAQQQQAABBBBAAAHjBQgyjR8RBSKAAAIIIIAAAggggAACCCCAAAIIIIAAQSZnAAEEEEAAAQQQQAABBBBAAAEEEEAAAQSMFyDINH5EFIgAAggggAACCCCAAAIIIIAAAggggAACBJmcAQQQQAABBBBAAAEEEEAAAQQQQAABBBAwXoAg0/gRUSACCCCAAAIIIIAAAggggAACCCCAAAIIEGRyBhBAAAEEEEAAAQQQQAABBBBAAAEEEEDAeAGCTONHRIEIIIAAAggggAACCCCAAAIIIIAAAgggQJDJGUAAAQQQQAABBBBAAAEEEEAAAQQQQAAB4wUIMo0fEQUigAACCCCAAAIIIIAAAggggAACCCCAAEEmZwABBBBAAAEEEEAAAQQQQAABBBBAAAEEjBcgyDR+RBSIAAIIIIAAAggggAACCCCAAAIIIIAAAgSZnAEEEEAAAQQQQAABBBBAAAEEEEAAAQQQMF6AINP4EVEgAggggAACCCCAAAIIIIAAAggggAACCBBkcgYQQAABBBBAAAEEEEAAAQQQQAABBBBAwHgBgkzjR0SBCCCAAAIIIIAAAggggAACCCCAAAIIIECQyRlAAAEEEEAAAQQQQAABBBBAAAEEEEAAAeMFCDKNHxEFIoAAAggggAACCCCAAAIIIIAAAggggABBJmcAAQQQQAABBBBAAAEEEEAAAQQQQAABBIwXIMg0fkQUiAACCCCAAAIIIIAAAggggAACCCCAAAIEmZwBBBBAAAEEEEAAAQQQQAABBBBAAAEEEDBegCDT+BFRIAIIIIAAAggggAACCCCAAAIIIIAAAggQZHIGEEAAAQQQQAABBBBAAAEEEEAAAQQQQMB4AYJM40dEgQgggAACCCCAAAIIIIAAAggggAACCCBAkMkZQAABBBBAAAEEEEAAAQQQQAABBBBAAAHjBQgyjR8RBSKAAAIIIIAAAggggAACCCCAAAIIIIAAQSZnAAEEEEAAAQQQQAABBBBAAAEEEEAAAQSMFyDINH5EFIgAAggggAACCCCAAAIIIIAAAggggAACBJmcAQQQQAABBBBAAAEEEEAAAQQQQAABBBAwXoAg0/gRUSACCCCAAAIIIIAAAggggAACCCCAAAIIEGRyBhBAAAEEEEAAAQQQQAABBBBAAAEEEEDAeAGCTONHRIEIIIAAAggggAACCCCAAAIIIIAAAgggQJDJGUAAAQQQQAABBBBAAAEEEEAAAQQQQAAB4wUIMo0fEQUigAACCCCAAAIIIIAAAggggAACCCCAAEEmZyAogVLnVNHxw/uVfvTXoO7nJgRMFCh+VkVlZaTr2K8/m1geNSEQMYGzKtXWgb07lJV5ImJ7shEC0RIoWvocxcTE6Mgv30erBPZFwAiBMhWr6/DPu5WRfsyIeigCgXAKFCleVglFiurQT9+FcxvWRgCBMAgQZIYB1QtLEmR6Ycre65Eg03szp+PTCxBkcjK8JECQ6aVp02t+AgSZnA8vCRBkemna9Oo2AYJMt000Qv0QZEYImm0iKkCQGVFuNjNYgCDT4OFQmu0CBJm2k7KgQwUIMh06OMoOSoAgMyg2bkLACAGCTCPG4LwiCDKdNzMqLliAILNgI67whgBBpjfmTJe5AgSZnAQEcgUIMjkJXhIgyPTStOnVbQIEmW6baIT6IciMEDTbRFSAIDOi3GxmsABBpsHDoTTbBQgybSdlQYcKEGQ6dHCUHZQAQWZQbNyEgBECrg0yu19xpe4YMlQJiQn6ft8+3T3sTn3zzU4LfeCg29Srd18lJMRr4YI3NPL+EcrKylKlSpU1bvxE1a5TV3t279awoXdo08aPVKt2HU2b/pxat2hqxNBMKIIg04QpUIPdAgSZdouynlMFCDKdOjnqDkaAIDMYNe5xowBBphunSk9nEiDI5Gwg4FwBVwaZ5cufo1Vr3lG3Lh313Xe79M9beqtL16664dq/qEXLVnp87Hhdf91VOnjwoGbMnK3FixbohVkz9Orri7Ru3RpNnTxJ7Tt01KjRY9SyeRNVq16dIPOUM06Q6dy/6an8zAIEmZwOBHIFCDI5CV4SIMj00rTpNT8BgkzOh5cECDK9NG16dZuAK4PMpk2b66FHHlXHy1pb86pevYbmzntNDRvU1kMPP6p9e/dqyuQJ1u86dOyk3n36a0D/3no3ZYPq1a6mzMxM63dLlq7U6FEjdejwobwgMz4+QS+9PF9rVr+taVMmue08+N0PQabfVFzoIAGCTAcNi1LDKkCQGVZeFjdMgCDTsIFQTtQECDKjRs/GURAgyIwCOlvaIjBj1mwtWrhAb7z+6hnX63VrH1WvXtP6lPGpP888N0tvLVmc7/22FBrGRVwZZBYrXlxr30nVzTfdqK2ff6Z/Db5dF1WrrsGD+uulua/oxRdmatnSJRZrlaoX6uX5r2lAv94a88hj6tyhbR73xMlPKzXlXW3ZsjkvyPRdEx8fr+FDh1jXJRRKCuN4zF26WNlkpR/7VRnHj5hbJJUhEKBAUqlyys7MUNqRAwHeyeUIuEug1LlVdOin3crOynBXY3SDwGkECpcoqxjF6Pih/+KDgKcFSpSrpGMHf1TmiTRPO9C8NwQKJZVUfOEiOvrLD95omC4LFMhIP1bgNdG+IDY2VsWKFVd6eprS09PPWA5BZrQnFeT+V19znR5/4kkdPnxEaWnH1fO6q/Xtt9/o9QVvauKE8VqzepW1cnLFilqxcq369e2locNHqEe3znk7jh33lLZ9sVWpqSlWkDl92hR17XaFbr6pZ95Tm77/cunFn/iEQsrOylR2dpYX26dnlwrExScqJyfbOtv8IOBlgfjEIsrKSFNOTo6XGejdIwJxcQlSjJSVSXDvkZHT5hkE4hMLKyvjhPXvQvwg4HaB2Lh4xcTEKivzhNtbpT8/BX7Z86WfVwZ3WYkSJfXRx5+qeZOLtX//fmuRfz/4kNLS0vToI2N0/8gH1alTF/nCyvffT7EenvN9Wvi5GS/qyy+/0LXX3aBhdw3R3//xz7wnMuvXb2A9kFeyVCmlp6Xr/vvu1vupKfIFmRc3bKTiJYqrVq3a+m7XLg0a0Ffff79Pf3wis0qVqnrksbEqd3Y5HT16VCMfuFcbP/owuAYjeJcrn8isWau2nn1ulm64/i/WS3u6de+hocPvUfu2LTXrxbmaP2+ONXjfT82atTRr9lz173urxj4xXu3atMjjn/7sDOsj5L4nMl97Y7Gys7K0cuVy3T54YARHZOZWfLTczLlQVWgCfLQ8ND/udo8AHy13zyzppGABPlpesBFXeEOAj5Z7Y850mSvAR8s5CdEQ8GVPSxYv0vx5c63tU9dvVJ/e/9Q555yju++5X90u72A9SLBoyXJNmfSUlVs9/czzKlv2LN301+ut0POPHy33fR3i8889o9dena8rr/qLbr/jLivT8gWZdw69Wz26d9ZXO3bI95Ce7wXXvnD0j0HmW8tWWZ9Ynjtntnyh6DPPz1KLZo2UkWH2f9x1ZZB5a+++qlf/Yg0e1C/vbH71zR61btFE/foP0oEDB/TkuMet3/W48ir1vPEmDRrQR6kfbFKDujWsw+H7WbMuRcOGDrGS6Tkvv6quXdpbfz4yZrSWL3srGufemD0JMo0ZBYXYKECQaSMmSzlagCDT0eOj+AAFCDIDBONy1woQZLp2tDR2GgGCTI5FNARuuPGvat++k/rc+g/VqVtPU6Y9o9YtmiomJkZJSUlW9uT7eeTRsdq7Z7cmTXzK+nTwJ1u25L3n5Y9BZuHCha3Q0RdSlitXXu9v2KiqlStaQWbrtu3095tutNZr3aat9cSn7z0yvwWZH3zwvt5e855q16iq7OzcJ/EXL1muMaNHaf361Gjw+L2nK4NM35D+8+gT6t61o3755Re1bNVak6ZMV6OL6+jihpdowsSpuvaaHjpy+IhenDNPL82epXlz51jfn7lhw3pNnjhB3bpfoWHDR6hNq2aqVr1G3ndkNmrcxPpr33dp/vY4sN/aLrqQINNFw6SVPAGCTA4DArkCBJmcBC8JEGR6adr0mp8AQSbnw0sCBJlemrY5vZYuXVrvpm7QJQ3qaNC/bldsXJwef/RhlS1bViPuG6kLL6pmPZF5XsXzNHPmc5r41JNW/rRu7RrrqUnfzx+DTN+DeTf//RbFJyQoPi5OtWrXUZVKFawgs3aduhpy+7+se3572rLJJfXzgsyvv/pKCxa/pR++/z4PqEhSku69Z5j1MiCTf1wZZPrABwwcLF/a7Uu2D/36q/X2cV/i7PvxPbHp+31CYoJemT9Po0c9YB2WCsnJGj9hsurVa6Bdu77VXUNu06efbLEOg+/w+JJy348vyU5OTla/Pr1Mnm1YayPIDCsvi0dJgCAzSvBsa5wAQaZxI6GgMAoQZIYRl6UdJUCQ6ahxUWyIAgSZIQJye9ACvgfonnt2uu4ecZ9u+9cAfbH1c+sJzMTERA276w7r6crHHn9Su/d8lxdkrl2zWi/PfemkINP3XZjvpHxgfXLY9/Hxc8+toJT1H+UFmZe2aKVe//w/655WrdvovgdGWQ/k/fZE5vr3U7Vy9TrVqXlR0L1E60bXBpnRAvXKvgSZXpm0t/okyPTWvOn2zAIEmZwOLwkQZHpp2vSanwBBJufDSwIEmV6atlm9/u2mm9Wm7WW6qFo1tWt9qVWc78G5jRs/0jNPT5XvnS/PPDtTb765UP95+CHrd6cLMrd+/plefuUNNW1UP/f7L+++V336DVCNiyrLt8ftQ+5Sl06Xae+ePXr08XE6ke57GdA9J31Hpu87Nqc/PUULF7xhPRU6ctQY3TP8zryPuJsl93s1BJmmTsbwuggyDR8Q5QUlQJAZFBs3uVCAINOFQ6WlMwoQZHI4EMgVIMjkJHhJgCDTS9POv9cSpWqoYbMntHZZt4ig+ALDDRs/0dTJEzX28f9Ye17SqLGefGqSMk5kaPPmTVqxfKn1gp47bhtkva38dEHmG6+/qnHjJ6pZs0t18OABPTT637pjyFDFxcVp6dIlql27jkqWLKlq1Wpoz97dGtS/r37++ac/v7X80bE6t0IF63syn50+TbNfnBURh1A2IcgMRc/D9xJkenj4Lm6dINPFw6W1gAQIMgPi4mKHCxBkOnyAlG+bAEGmbZQs5AABgkwHDClCJbbpvFhlyzXR6y+Wj9CObBOqAEFmqIIevZ8g06ODd3nbBJkuHzDt+S1AkOk3FRe6QIAg0wVDpAVbBAgybWFkEYcIEGQ6ZFBhLvO8C65W45ZTdSL9gN6cXyPMu7G8XQIEmXZJemwdgkyPDdwj7RJkemTQtFmgAEFmgURc4CIBgkwXDZNWQhIgyAyJj5sdJkCQ6bCBhaHc+IRi6nRlqgoXKa9N6+/Utzty3wrOj/kCBJnmz8jICgkyjRwLRYUoQJAZIiC3u0aAINM1o6QRPwQIMv1A4hJPCBBkemLMNPk/AYJMjkLdS0bpolr9dGD/Zq15q4ukHFAcIkCQ6ZBBmVYmQaZpE6EeOwQIMu1QZA03CBBkumGK9OCvAEGmv1Jc53YBgky3T5j+/ihAkOnt81C85EXqcMU6xcTEatXidjp08Atvgzise4JMhw3MlHIJMk2ZBHXYKUCQaacmazlZgCDTydOj9kAFCDIDFeN6twoQZLp1svR1OgGCTG+fi99e8LPzyxnavOFub2M4sHuCTAcOzYSSCTJNmAI12C1AkGm3KOs5VYAg06mTo+5gBAgyg1HjHjcKEGS6car0dCYBgkzvno2Kla9Sk1ZP60T6L1q+oJkyTvzqXQyHdk6Q6dDBRbtsgsxoT4D9wyFAkBkOVdZ0ogBBphOnRs3BChBkBivHfW4TIMh020TpJz8Bgkxvno+4+CLqfNUH1gt+Nqbepl1fv+xNCId3TZDp8AFGq3yCzGjJs284BQgyw6nL2k4SIMh00rSoNVQBgsxQBbnfLQIEmW6ZJH34I0CQ6Y+S+66p0/ABVas98H8v+OnsvgY90hFBpkcGbXebBJl2i7KeCQIEmSZMgRpMECDINGEK1BApAYLMSEmzj+kCBJmmT4j67BQgyLRT0xlrFS9xoTpemWIVu2pxW17w44yxnbZKgkwHDy+apRNkRlOfvcMlQJAZLlnWdZoAQabTJka9oQgQZIaix71uEiDIdNM06aUgAYLMgoTc9/tWHV/X2ee00FfbntEnH97nvgZD6GjHzt2Ki4uzVvD9mZWVZf311s8/U/eunU67cuXKF+jscuX04YYP8t35medm6a0li/XG66+GUOHJtxJk2kbprYUIMr01b690S5DplUnTZ0ECBJkFCfF7NwkQZLppmvQSigBBZih63Os0AYJMp00stHrPu+AaNW45RWnHf9KKBc2UmXk0tAVdercvnFy5+h1dVOW8Aju8tXdfJSYW0pTJEwgyC9TiAiMECDKNGANF2CxAkGkzKMs5VoAg07Gjo/AgBAgyg0DjFlcKEGS6cqw0dQYBgkzvHI34hGLq8pcPlViojDa800d7di30TvMBdnpqkBkbG6shdw1Xt+5XWCt9smWz7h0xXPXq1dfUp59TZkaG5s+fq8f+87DuH/mgOnXqIt8977+fouFDhygzM1M8kRngELg8fAIEmeGzZeXoCRBkRs+enc0SIMg0ax5UE14Bgszw+rK6cwQIMp0zKyoNXYAgM3RDp6zQoMl/VKX6P/Xzj6l6d8VfjCi7WPEL1LrzgojXkpl53Hoi9Uw/pwaZPa68Sv36D9K1V/fQ8ePH9dTEKfp+3z498vBojX7oEX3//ffWE5kdOnbS3ffcr26Xd1BOTo4WLVmuKZOe0qKFCwgyIz5lNjyjAEEmh8ONAgSZbpwqPQUjQJAZjBr3OFWAINOpk6NuuwUIMu0WZT2TBQgyTZ6OfbWVLttA7bouU3ZWhlYuaqGjR76zb/EQVvIFmZ2uWh/CCsHdeuTwNwEFmeMnTNbWrZ9r+rQp1oZt2rTT3SPu0+Wd258UZMbExCgpKUlHj+Z+ZP+RR8dq757dmjTxKYLM4EbFXeEQIMgMhyprRluAIDPaE2B/UwQIMk2ZBHVEQoAgMxLK7OEEAYJMJ0yJGu0SIMi0S9LkdWLU4Yo1KlGqprZueVTbPhlnTLGFi5wTtVrSjv9wxr1PfSLzxZfmafGiBZo/b651T/36DTT9uZlq2qjBSUFm2bJlNeK+kbrwomrWE5nnVTxPM2c+p4lPPUmQGbVJs/GfBAgyORRuFCDIdONU6SkYAYLMYNS4x6kCBJlOnRx12y1AkGm3KOuZLECQafJ07KmtavVeqt/kYespzBULmisnJ9OehV28yqlBpu+JzG3bvtC0KZOsrtu2a6+hw+5Wt8s7nhRk+p7ATExM1LC77rDeeP7Y409q957vCDJdfFYc2RpBpiPHRtEFCBBkckQQyBUgyOQkeEmAINNL06bX/AQIMjkfXhIgyHT3tH0v9vG94Mf3oh/f92L6vh+Tn4IFTg0yu19xpQYOGqyrr+qu9PR0TZ46XV/t2KEnxj6qB/49WidOpOs/Dz+kadOf08aNH+mZp6eqZq3aeubZmXrzzYXW73jZT8HuXBEhAYLMCEGzTUQFCDIjys1mBgsQZBo8HEqzXYAg03ZSFnSoAEGmQwdH2UEJEGQGxeaYmxq3nKrzLrhau795TR++N8AxdUe70PzeWu77HswN69fr3yPv1bFjx9SqdRs9Pf15rVq1QrNmPq8nn5qkjBMZ2rx5k1YsX6qx457SHbcN0g09/6a3lizWG6+/alt7MaVLl86xbTUW8owAQaZnRu2pRgkyPTVums1HgCCT4+ElAYJML02bXvMTIMjkfHhJgCDTvdM+r/Jf1LjVNGVkHNKKBZcqPe1n9zbr0c4IMj06+FDbJsgMVZD7TRQgyDRxKtQUDQGCzGios2e0BAgyoyXPvqYJEGSaNhHqCacAQWY4daO3dtFildT+irWKj0/Sxx8M0zfbZ0WvGHYOmwBBZtho3b0wQaa75+vV7ggyvTp5+j5VgCCTM+ElAYJML02bXvMTIMjkfHhJgCDTfdOOiYlXu67LVKpMXf30/Tt6b9V17muSjiwBgkwOQlACBJlBsXGT4QIEmYYPiPIiJkCQGTFqNjJAgCDTgCFQghECBJlGjIEiIiRAkBkh6AhuU/vie1W9zmCdSP9FKxa2sP7kx50CBJnunGvYuyLIDDsxG0RBgCAzCuhsaaQAQaaRY6GoMAkQZIYJlmUdJ0CQ6biRUXAIAgSZIeAZeOtZ5Zurdac3fM/qWU9i+p7I5Me9Aq4MMq+7vqce/s/jJ00tMTFRDerW0IEDBzRw0G3q1buvEhLitXDBGxp5/whlZWWpUqXKGjd+omrXqas9u3dr2NA7tGnjR6pVu471OvnWLZq69yQE2BlBZoBgXO4IAYJMR4yJIiMgQJAZAWS2MEaAINOYUVBIlAUIMqM8ALaPqABBZkS5w7pZQmIpdezxrgoXKaevtj2jTz68L6z7sXj0BVwZZJ7KemmLlhp82xD1vP5qtWjZSo+PHa/rr7tKBw8e1IyZs7V40QK9MGuGXn19kdatW6OpkyepfYeOGjV6jFo2b6Jq1asTZJ6CSpAZ/b95qcB+AYJM+01Z0ZkCBJnOnBtVBydAkBmcG3e5T4Ag030zpaMzCxBkuud0XHrZbJ2T3FGHDm7T6iUdlJ2d4Z7m6OS0Aq4PMmNjY/XmWyt05x2D9cUXW/XQw49q3969mjJ5ggXSoWMn9e7TXwP699a7KRtUr3Y1ZWZmWr9bsnSlRo8aqUOHD+UFmfHxCXrp5flas/ptTZsyybPHiiDTs6N3deMEma4eL80FIECQGQAWlzpegCDT8SOkAZsECDJtgmQZRwgQZDpiTAUWecFF/6eLm41VVla63n6znY4c+rrAe7jA+QKuDzKvve4GtW7TVoMH9bem9dLcV/TiCzO1bOkS6/+uUvVCvTz/NQ3o11tjHnlMnTu0zZvqxMlPKzXlXW3ZsjkvyPRdEx8fr+FDhzh/+iF0QJAZAh63GitAkGnsaCgswgIEmREGZ7uoChBkRpWfzQ0SIMg0aBiUEnYBgsywE4d9g2Ilqqp99zWKiyukj9ffpW92vBj2PdnADAHXB5nLVqzWXXfers8+/cQSf33Bm5o4YbzWrF5l/d/JFStqxcq16te3l4YOH6Ee3TrnTWbsuKe07YutSk1NsYLM6dOmqGu3K3TzTT3zntosXjbZjElGuIpCRUsq80SasjLSI7wz2yEQPoHEIsWVnZ2pzPTj4duElRFwgECREmWVduSgcrKzHFAtJSIQmkBC4aLWAhlpR0NbiLsRcLhA4eJldOLYIWVn5X46jR8E3CwQn1hEsfHxOnHssJvbdHVvjZo9q9JlGuqnH9Zoy6Y7Q+718P69Ia/BApERcHWQefHFDfXUpKknvaRn9pz5mj9vjhYtXGAJ16xZS7Nmz1X/vrdq7BPj1a5Nizz56c/OsD5C7nsi87U3Fis7K0srVy7X7YMH5l2TVKpcZCZl2C6+/4KVkX7UCjP5QcAtAr6APicrSyfSjrilJfpAICgB3xNqx3/9WdkEmUH5cZOzBHz/ESsmJkbpxw45q3CqRcBmgaSSZyv96K/Kyjxh88osh4B5AgmFkhSXUEhpRw6YVxwVFShQq+69Or9yT6Ud/0Ep665RRkbo/z/82MGfCtyXC8wQcHWQefuQu1SsaDE9NPrfedoPjn7YenP5k+Ny32re48qr1PPGmzRoQB+lfrDJerN5WlpuOLdmXYqGDR2io0ePas7Lr6prl/bWn4+MGa3ly94yY4JRqoKPlkcJnm3DKsBHy2uCDlMAACAASURBVMPKy+IOEuCj5Q4aFqWGLMBHy0MmZAGXCPDRcpcMkjb8EuCj5X4xGXlRxUpXqknr6crJydSapV11cP8WI+ukqPAJuDrInPXiHL3+2itauOCNPMHGTZpqwsSpuvaaHjpy+IhenDNPL82epXlz51jfn7lhw3pNnjhB3bpfoWHDR6hNq2aqVr1G3ndkNmrcxPpr33dp7t+/P3yTMXxlgkzDB0R5QQkQZAbFxk0uFCDIdOFQaemMAgSZHA4EcgUIMjkJXhIgyHTmtIsVvyD3ezHji2jLh/fp623POLMRqg5JwNVBpu/7MR8c9YBSU947CenW3n01YOBgJSQm6JX58zR61APKyclRheRkjZ8wWfXqNdCuXd/qriG36dNPtqhW7Tp5QaZvoftHPqjk5GT169MrJHwn30yQ6eTpUfuZBAgyORsI5AoQZHISvCRAkOmladNrfgIEmZwPLwkQZDpv2r6X+rTrtkolSlbT93tW6P01/+e8JqjYFgFXB5m2CLHIaQUIMjkYbhQgyHTjVOkpGAGCzGDUuMepAgSZTp0cddstQJBptyjrmSxAkGnydE5fW6MWE3V+let15PA3Wv1me2Vm8pI+503RnooJMu1x9NwqBJmeG7knGibI9MSYadIPAYJMP5C4xDUCBJmuGSWNhChAkBkiILc7SoAg01HjUuUL/6aGzccpO+uE3l5ymQ7/usNZDVCtrQIEmbZyemcxgkzvzNpLnRJkemna9JqfAEEm58NLAgSZXpo2veYnQJDJ+fCSAEGmc6ZdsnRttb18qXwfLf8oZaC+2/mqc4qn0rAIEGSGhdX9ixJkun/GXuyQINOLU6fn0wkQZHIuvCRAkOmladMrQSZnAIFcAYJMZ5yE4iUuVJsui5VYqIy+2fGiPl5/lzMKp8qwChBkhpXXvYsTZLp3tl7ujCDTy9On9z8KEGRyHrwkQJDppWnTK0EmZwABgkynnIGExJJq13W5fG8q//XA51q79HJlZaU7pXzqDKMAQWYYcd28NEGmm6fr3d4IMr07ezo/WYAgkxPhJQGCTC9Nm14JMjkDCBBkOuEMxMTEqWWHV3T2OS2UnrZfq9/qoONH9zmhdGqMgABBZgSQ3bgFQaYbp0pPBJmcAQRyBQgyOQleEiDI9NK06ZUgkzOAAEGmE85A/SYPq2r1XsrOztC6Zd11YP9mJ5RNjRESIMiMELTbtiHIdNtE6ccnQJDJOUCAIJMz4D0BgkzvzZyOTy/Ay344GV4S4DsyzZ32b28o91XIy33MnVM0KyPIjKa+g/cmyHTw8Cj9jAIEmRwOBAgyOQPeEyDI9N7M6ZggkzOAAEGmmWegbLkmat1pgXwfLd/++UR9tukhMwulqqgKEGRGld+5mxNkOnd2VH5mAYJMTgcCBJmcAe8JEGR6b+Z0TJDJGUCAINO8M1C02Pm6rNtKJSSW0o/71ijl7Rsl5ZhXKBVFXYAgM+ojcGYBBJnOnBtV5y9AkMkJQYAgkzPgPQGCTO/NnI4JMjkDCBBkmnUG4uOLWiFmsRJVdejX7Vr7VhdlZh41q0iqMUaAINOYUTirEIJMZ82Lav0TIMj0z4mr3C/Ay37cP2M6/F2AIJPTgECuAN+RyUnwkgBBpknTjlGL9nNVvkI73lBu0lgMroUg0+DhmFwaQabJ06G2YAUIMoOV4z63CRBkum2i9JOfAEEm5wMBgkzOgPcECDLNmXmdhverWu1BvKHcnJEYXwlBpvEjMrNAgkwz50JVoQkQZIbmx93uESDIdM8s6aRgAYLMgo24whsCPJHpjTnTZa4AQaYZJyG5Ug81bf2MVQxvKDdjJk6ogiDTCVMysEaCTAOHQkkhCxBkhkzIAi4RIMh0ySBpwy8Bgky/mLjIAwIEmR4YMi3mCRBkRv8wlC7bQG06L1ZsXKK2fz5Jn20aHf2iqMARAgSZjhiTeUUSZJo3EyoKXYAgM3RDVnCHAEGmO+ZIF/4JEGT658RV7hcgyHT/jOnwdwGCzOiehsJFyqt99zUqVLgsbyiP7igcuTtBpiPHFv2iCTKjPwMqsF+AINN+U1Z0pgBBpjPnRtXBCRBkBufGXe4TIMh030zp6MwCBJnROx1xcYXVtssSlSxThzeUR28Mjt6ZINPR44te8QSZ0bNn5/AJEGSGz5aVnSVAkOmseVFtaAIEmaH5cbd7BAgy3TNLOilYgCCzYKNwXdG83Qs6t2Jn3lAeLmAPrEuQ6YEhh6NFgsxwqLJmtAUIMqM9AfY3RYAg05RJUEckBAgyI6HMHk4QIMh0wpSo0S4Bgky7JANbp2a9O1Wz/jDeUB4YG1efIkCQyZEISoAgMyg2bjJcgCDT8AFRXsQECDIjRs1GBggQZBowBEowQoAg04gxUESEBAgyIwT9h218T2H6nsb0/fCG8sj7u2lHgkw3TTOCvRBkRhCbrSImQJAZMWo2MlyAINPwAVGerQIEmbZyspiDBQgyHTw8Sg9YgCAzYLKQbihRspradVsp3/djbv98sj7b9GBI63GztwUIMr09/6C7J8gMmo4bDRYgyDR4OJQWUQGCzIhys1mUBQgyozwAtjdGgCDTmFFQSAQECDIjgPy/LXxvJr+s60oVKZrMG8ojx+7qnQgyXT3e8DVHkBk+W1aOngBBZvTs2dksAYJMs+ZBNeEVIMgMry+rO0eAINM5s6LS0AUIMkM39GeF2NgEtenypkqXbcAbyv0B4xq/BAgy/WLiolMFCDI5E24UIMh041TpKRgBgsxg1LjHqQIEmU6dHHXbLUCQabco65ksQJAZmek0ajFZ51e5VhknDmrVm+10/Oi+yGzMLq4WIMh09XjD1xxBZvhsWTl6AgSZ0bNnZ7MECDLNmgfVhFeAIDO8vqzuHAGCTOfMikpDFyDIDN2woBUuqjVAdS8Zab2h/N2VV2v/TxsKuoXfI+CXAEGmX0xcdKoAQSZnwo0CBJlunCo9BSNAkBmMGvc4VYAg06mTo267BQgy7RZlPZMFCDLDO53yFdrp0svmKCYmljeUh5fak6sTZHpy7KE3TZAZuiErmCdAkGneTKgoOgIEmdFxZ9foCBBkRsedXc0TIMg0byZUFD4Bgszw2RYrUVWXdVup+Pii2rF1ij7dOCp8m7GyJwVcG2RWSE7Wk09NUr16DbRr17caeuft+vSTLdaQBw66Tb1691VCQrwWLnhDI+8foaysLFWqVFnjxk9U7Tp1tWf3bg0beoc2bfxItWrX0bTpz6l1i6aePCSna5ogk6PgRgGCTDdOlZ6CESDIDEaNe5wqQJDp1MlRt90CBJl2i7KeyQIEmeGZTkJiKSvELFrsfOsN5amr/6qcnOzwbMaqnhVwbZA5/7UFWrVyhZ5/9hnd+Ne/6ZJGjXX74IFq0bKVHh87Xtdfd5UOHjyoGTNna/GiBXph1gy9+voirVu3RlMnT1L7Dh01avQYtWzeRNWqVyfIPOVvEYJMz/4zw9WNE2S6erw0F4AAQWYAWFzqeAGCTMePkAZsEiDItAmSZRwhQJBp/5hiYuLUutMClS3XhDeU28/Lin8QcGWQef75lfTK6wvVvElDZWefnP4/9PCj2rd3r6ZMnmAxdOjYSb379NeA/r31bsoG1atdTZmZmdbvlixdqdGjRurQ4UN5QWZ8fIJeenm+1qx+W9OmTPLsYSLI9OzoXd04Qaarx0tzAQgQZAaAxaWOFyDIdPwIacAmAYJMmyBZxhECBJn2j6lBk/+oSvV/8oZy+2lZ8RQBVwaZnbtcrn/e0tv6SHnr1m313Xe7dO+IYfpqxw69NPcVvfjCTC1busSiqFL1Qr08/zUN6NdbYx55TJ07tM0jmjj5aaWmvKstWzbnBZm+a+Lj4zV86BBPHyaCTE+P37XNE2S6drQ0FqAAQWaAYFzuaAGCTEePj+JtFCDItBGTpYwXIMi0d0SVL/ybGjYfxxvK7WVltTMIuDLIvO76nlYo+ff/u1Hr30/VP2+5Vdf3/Ku6dGyn1xe8qYkTxmvN6lUWSXLFilqxcq369e2locNHqEe3znlUY8c9pW1fbFVqaooVZE6fNkVdu12hm2/qmffU5tmV6njycMXExSknJ0c65YlXT2LQtGsEYmLjJOUoh3PtmpnSSHACsfHxys7Kknz/nOcHAZcLxMTGSopRTnaWyzulPQTyF4iJi8/9+4B/9nNUPCBg/bM/JkY5vn/f4SckgRIl6qhe/SetN5R/ue0R/fRTbtbitJ+fd33mtJI9W68rg0zfE5m33X6nunbpYA02NjZW27/+Tk0uqacJk6Zp/rw5WrRwgfW7mjVradbsuerf91aNfWK82rVpkXcYpj87w/oIue+JzNfeWGz9j7qVK5db37X5209sfIInD0/Jsysp7cgvSj9+2JP907Q7BYqVOVdZGSd0/PB+dzZIVwj4KVAmubp+/WGnsrIy/LyDyxBwrkBSyXK+/y2rowd/cm4TVI6ADQKlzq2qo/v3KePEcRtWYwkEzBYoXLS0Egon6fD+vWYXanh1ScXOU7vOy5SQWFJfbZumzz5+yPCKz1xedib/3uuU4bkyyPSFk8/PnK3mTRtac4iLi9P2r3epQd1aGjrsbh04cEBPjnvc+l2PK69Szxtv0qABfZT6wSY1qFtDaWlp1u/WrEvRsKFDdPToUc15+VV17dLe+vORMaO1fNlbTplxWOrko+VhYWXRKAvw0fIoD4DtjRHgo+XGjIJCIiDAR8sjgMwWjhDgo+WOGBNF2iTAR8tDh4yPL2q9obxYiaq8oTx0TlYIQMCVQaav/2Ur1+j5557RK/Pm6pZevfWXq69V966d1LhJU02YOFXXXtNDRw4f0Ytz5uml2bM0b+4c6/szN2xYr8kTJ6hb9ys0bPgItWnVTNWq18j7jsxGjZtYf+37Ls39+7371BZBZgB/l3GpYwQIMh0zKgoNswBBZpiBWd4oAYJMo8ZBMVEUIMiMIj5bR1yAIDM0ct/HyC+9bI7KV2jHG8pDo+TuIARcG2TWqFFTTzw5QedXqqQd27dr2NA7rJf9+H5u7d1XAwYOVkJigl6ZP0+jRz1gfd9jheRkjZ8wWfXqNbBeFHTXkNv06SdbVKt2nbwg03f//SMfVHJysvr16RUEuTtuIch0xxzp4mQBgkxOBAK5AgSZnAQvCRBkemna9JqfAEEm58NLAgSZoU277iUjdVGtAbyhPDRG7g5SwLVBZpAe3OanAEGmn1Bc5igBgkxHjYtiwyhAkBlGXJY2ToAg07iRUFCUBAgyowTPtlERIMgMnv38KteqUYvJvKE8eELuDFGAIDNEQK/eTpDp1cm7u2+CTHfPl+78FyDI9N+KK50vQJDp/BnSgT0CBJn2OLKKMwQIMoObU+myDdSmy5uKjU3QRykD9d3OV4NbiLsQCEGAIDMEPC/fSpDp5em7t3eCTPfOls4CEyDIDMyLq50tQJDp7PlRvX0CBJn2WbKS+QIEmYHPqHCR8mrffY0KFS6rHVun6tON/w58Ee5AwAYBgkwbEL24BEGmF6fu/p4JMt0/Yzr0T4Ag0z8nrnKHAEGmO+ZIF6ELEGSGbsgKzhEgyAxsVnFxhdW2yxKVLFOHN5QHRsfVYRAgyAwDqheWJMj0wpS91yNBpvdmTsenFyDI5GR4SYAg00vTptf8BAgyOR9eEiDIDGzazdu9oHMrduYN5YGxcXWYBAgywwTr9mUJMt0+YW/2R5DpzbnT9Z8FCDI5FV4SIMj00rTplSCTM4BArgBBpv8noUX7uSpf4TKdSD+g1W911LEju/2/mSsRCIMAQWYYUL2wJEGmF6bsvR4JMr03czo+vQBBJifDSwIEmV6aNr0SZHIGECDIDOQMNGs7UxXOu9y6Zd3yHtr/0weB3M61CIRFgCAzLKzuX5Qg0/0z9mKHBJlenDo9n06AIJNz4SUBgkwvTZteCTI5AwgQZPpzBmJiYtW45TRVrHylsrMzlPJ2T/38w3v+3Mo1CIRdgCAz7MTu3IAg051z9XpXBJlePwH0/5sAQSZnwUsCBJlemja9EmRyBhAgyCz4DMSoUYuJOr/KdcrJyVTq6v/Tj/tWF3wbVyAQIQGCzAhBu20bgky3TZR+fAIEmZwDBHIFCDI5CV4SIMj00rTplSCTM4AAQWZBZ6BhsydU+aKblJOTpfVr/6nv9ywv6BZ+j0BEBQgyI8rtns0IMt0zSzr5XYAgk9OAAEEmZ8B7AgSZ3ps5HZ9egLeWczK8JMDLfk4/7fpNHlbV6r2Uk5OtDe/20d5di710LOjVIQIEmQ4ZlGllEmSaNhHqsUOAINMORdZwgwBPZLphivTgrwBBpr9SXOd2AYJMt0+Y/v4oQJD55/NQ++IRql7nNusXH6UM0nc7X+HQIGCkAEGmkWMxvyiCTPNnRIWBCxBkBm7GHe4UIMh051zp6vQCBJmcDARyBQgyOQleEiDIPHnavqcwfU9j+n42vT9E3371kpeOA706TIAg02EDM6VcgkxTJkEddgoQZNqpyVpOFiDIdPL0qD1QAYLMQMW43q0CBJlunSx9nU6AIPN3leRKPdS09XTrOzHfW3UDbyfnbxnjBQgyjR+RmQUSZJo5F6oKTYAgMzQ/7naPAEGme2ZJJwULEGQWbMQV3hAgyPTGnOkyV4AgM9fh7HNaqmWHeYqJidMH7/i+E3MRRwQB4wUIMo0fkZkFEmSaOReqCk2AIDM0P+52jwBBpntmSScFCxBkFmzEFd4QIMj0xpzpkiDztzNQqkxdte68SPHxSdq84R7t/PJ5jgcCjhAgyHTEmMwrkiDTvJlQUegCBJmhG7KCOwQIMt0xR7rwT4Ag0z8nrnK/AEGm+2dMh78LeP2JzKLFK6vd5cuUWKi0tn8+UZ9teojjgYBjBAgyHTMqswolyDRrHlRjjwBBpj2OrOJ8AYJM58+QDvwXIMj034or3S1AkOnu+dLdyQJeDjILFT5b7bouV1LRZH2381V9lDKQ44GAowQIMh01LnOKJcg0ZxZUYp8AQaZ9lqzkbAGCTGfPj+oDEyDIDMyLq90rQJDp3tnS2Z8FvBpkJiSWVJvOi1SiVA39uG+1UlffZL3khx8EnCRAkOmkaRlUK0GmQcOgFNsECDJto2QhhwsQZDp8gJQfkABBZkBcXOxiAYJMFw+X1v4k4MUgMy6ukFp3WqjSZ12sA//9WO+suFJZWemcDgQcJ0CQ6biRmVEwQaYZc6AKewUIMu31ZDXnChBkOnd2VB64AEFm4Gbc4U4Bgkx3zpWuTi/gtSDT91bySy+brfIVLtPhQ19p7dKuyjjxK8cDAUcKEGQ6cmzRL5ogM/ozoAL7BQgy7TdlRWcKEGQ6c25UHZwAQWZwbtzlPgGCTPfNlI7OLOC1ILNRi8k6v8q1Sjv+g1Yv6Wz9yQ8CThUgyHTq5KJcN0FmlAfA9mERIMgMCyuLOlCAINOBQ6PkoAUIMoOm40aXCRBkumygtJOvgJeCzNoXj1D1OrdZT2D6nsT0PZHJDwJOFiDIdPL0olg7QWYU8dk6bAIEmWGjZWGHCRBkOmxglBuSAEFmSHzc7CIBgkwXDZNWChTwSpBZpfotatDkEeu7MH3fien7bkx+EHC6AEGm0ycYpfoJMqMEz7ZhFSDIDCsviztIgCDTQcOi1JAFCDJDJmQBlwgQZLpkkLThl4AXgszkSj3UtPV05eRkW28n972lnB8E3CBAkOmGKUahB4LMKKCzZdgFCDLDTswGDhEgyHTIoCjTFgGCTFsYWcQFAgSZLhgiLfgt4PYg8+xzWqplh3nyveTno5RB+m7nq37bcCECpgu4MshMTEzUjp27deLEiTz/lSuWaUC/3tb/PXDQberVu68SEuK1cMEbGnn/CGVlZalSpcoaN36iatepqz27d2vY0Du0aeNHqlW7jqZNf06tWzQ1fZ4Rq48gM2LUbBRBAYLMCGKzldECBJlGj4fibBYgyLQZlOUcK0CQ6djRUXgQAm4OMkuVqavWnRcpPj5Jmzfco51fPh+EELcgYK6AK4PMs88upxVvr9PF9Wr+Sb5Fy1Z6fOx4XX/dVTp48KBmzJytxYsW6IVZM/Tq64u0bt0aTZ08Se07dNSo0WPUsnkTVatenSDzFEmCTHP/pqay4AUIMoO34053CRBkumuedJO/AEEmJwSBXAGCTE6ClwTcGmQWLV5Z7S5fpsRCpbX988n6bNODXhorvXpEwJVBZpWqF2rmCy+d9gnKhx5+VPv27tWUyROsEXfo2Em9+/TXgP699W7KBtWrXU2ZmZnW75YsXanRo0bq0OFDeUFmfHyCXnp5vtasflvTpkzyyDH5c5sEmZ4dvasbJ8h09XhpLgABgswAsLjU8QIEmY4fIQ3YJECQaRMkyzhCwI1BZqHCZ6td1+VKKppsfZT8o5SBjpgFRSIQqIArg8yLL26o6c/N1M6vv1a16jW07YutuveeYdq582u9NPcVvfjCTC1busSy8oWeL89/zfrY+ZhHHlPnDm3zDCdOflqpKe9qy5bNeUGm75r4+HgNHzokUGtXXU+Q6apx0sz/BAgyOQoI5AoQZHISvCRAkOmladNrfgIEmZwPLwm4LciMTyimtl2WqESpGtZLfXwv98nJyfLSSOnVQwKuDDIvqlZNvW7tq1kzntPXX3+lwbffqY6dOlsh5esL3tTECeO1ZvUqa8zJFStqxcq16te3l4YOH6Ee3TrnjX/suKesEDQ1NcUKMqdPm6Ku3a7QzTf1zHtqM7FIMQ8dl99bLVamgtKPHVJG2hFP9k/T7hQoUvJsZWdmKP3oQXc2SFcI+ClQsvwFOvzfPcrOyvDzDi5DwLkChYuVUUxMjI4f3u/cJqgcARsEip99vo4d/ElZGWk2rMYSCJgtkFikpOILFdaxgz+aXagf1cXGFVKzVi+ozFmNdPCXLUpdd6Oys9L9uJNL/ihw4jjZhlNOhCuDzFPxfU9QbtvxrVo2byxfODl/3hwtWrjAuqxmzVqaNXuu+ve9VWOfGK92bVrk3T792RnWR8h9T2S+9sZiZWdlaeXK5bp98O+PaJeucJFTZm1rnfGJha3/gesz4QcBtwjEJRSScrKVlUl445aZ0kdwAgmFiyoz/ZhycnKCW4C7EHCQQFx8ohQjZWX8/pJIB5VPqQjYJpBQKEmZGWnKyc62bU0WQsBUgdi4eMXGxSnzhLMDv5iYWNWr/7jKlG2qY8e+08YP+ygzk0AumHN3YN+OYG7jnigIuDLILFeuvEqVKqXt27+0SBMSEqwgs3HDurr9jrt04MABPTnucet3Pa68Sj1vvEmDBvRR6geb1KBuDaWl5f5XyDXrUjRs6BAdPXpUc15+VV27tLf+fGTMaC1f9lYUxmXOlny03JxZUIl9Any03D5LVnK2AB8td/b8qD4wAT5aHpgXV7tXgI+Wu3e2dPZnAbd8tLxh8ydV+cK/Ku34j1rzVhcdP7aPcSPgegFXBpmtWrfR40+M17VX99D3+/bpttvvVOu27XTVFZercZOmmjBxqq69poeOHD6iF+fM00uzZ2ne3DnW92du2LBekydOULfuV2jY8BFq06qZ9T2bvo+Wt27RVI0aN7H+2vcx9f37vfsRJIJM1/+zwZMNEmR6cuw0fRoBgkyOhZcECDK9NG16zU+AIJPz4SUBNwSZdS8ZpYtq9VNGxiGtW9pNh37d7qUR0quHBVwZZPrm2affAN3Sq7eKFEnS5s2brJf97Nm92xr1rb37asDAwUpITNAr8+dp9KgHrI/PVUhO1vgJk1WvXgPt2vWt7hpymz79ZItq1a6TF2T67r9/5INKTk5Wvz69PHt0CDI9O3pXN06Q6erx0lwAAgSZAWBxqeMFCDIdP0IasEmAINMmSJZxhIDTg8zqdW5T7YtHKCvzuN5ZcZUO7N/sCHeKRMAOAdcGmXbgsMaZBQgyOR1uFCDIdONU6SkYAYLMYNS4x6kCBJlOnRx12y1AkGm3KOuZLODkILNS1Z665NKnlJ2doZRV1+vnH1NNpqY2BGwXIMi0ndQbCxJkemPOXuuSINNrE6ffMwkQZHI2vCRAkOmladNrfgIEmZwPLwk4NchMPr+7mrR+RlKO3l/7d/2wZ6WXxkavCFgCBJkchKAECDKDYuMmwwUIMg0fEOVFTIAgM2LUbGSAAEGmAUOgBCMECDKNGANFREjAiUFm+QptdellLykmJk4fvttfu799I0JabIOAWQIEmWbNwzHVEGQ6ZlQUGoAAQWYAWFzqagGCTFePl+ZOESDI5EggkCtAkMlJ8JKA04LMsmc3VsuOrykurpA+/mCYvtk+y0vjolcEThIgyORABCVAkBkUGzcZLkCQafiAKC9iAgSZEaNmIwMECDINGAIlGCFAkGnEGCgiQgJOCjJLlq6t5u1eVFLRZH2x5TF98ckTEVJiGwTMFCDINHMuxldFkGn8iCgwCAGCzCDQuMWVAgSZrhwrTZ1BgCCTo4FArgBBJifBSwJOCTJLlKym1p0XKbFQaX297Rlt+fA+L42JXhE4rQBBJgcjKAGCzKDYuMlwAYJMwwdEeRETIMiMGDUbGSBAkGnAECjBCAGCTCPGQBEREnBCkFmseBW16fKmChUuq+92vqKPUgZFSIdtEDBbgCDT7PkYWx1BprGjobAQBAgyQ8DjVlcJEGS6apw0U4AAQSZHBIFcAYJMToKXBEwPMosWO98KMQsXKa99u5fqg3W3KCcn20sjolcEzihAkMnhCEqAIDMoNm4yXIAg0/ABUV7EBAgyI0bNRgYIEGQaMARKMEKAINOIMVBEhARMDjKLFK2gtp3fVJGiyfph7yq9v+bvysnJjJAM2yBgvgBBpvkzMrJCgkwjx0JRIQoQZIYIyO2uESDIdM0oacQPAYJMP5C4xBMCBJmeGDNN/k/A1CDT9wSm70lM3xOZ//3xfb236jplZ2cwNwQQ+IMAQSbHISgBgsyg2LjJcAGCTMMHRHkREyDIjBg1GxkgQJBpwBAowQgBPjq4bwAAIABJREFUgkwjxkARERIwMchMLFRKbS9fKt93Y/7y3416d+U1yso8HiERtkHAOQIEmc6ZlVGVEmQaNQ6KsUmAINMmSJZxvABBpuNHSAMBCBBkBoDFpa4WIMh09Xhp7hQB04LMhIQSat15oUqWrqVfD2zVumXdlZl5lLkhgMBpBAgyORZBCRBkBsXGTYYLEGQaPiDKi5gAQWbEqNnIAAGCTAOGQAlGCBBkGjEGioiQgElBZnx8UbXu9IZKla2vI4d3au3Sy3Ui/WCEJNgGAecJEGQ6b2ZGVEyQacQYKMJmAYJMm0FZzrECBJmOHR2FByFAkBkEGre4UoAg05VjpakzCJgSZMbFF1Grjq+pzFmX6OiR76wnMdOO/8jcEEAgHwGCTI5HUAIEmUGxcZPhAgSZhg+I8iImQJAZMWo2MkCAINOAIVCCEQIEmUaMgSIiJGBCkBkXV0gt2s/TWeWbW+HlmqVddPzovggJsA0CzhUgyHTu7KJaOUFmVPnZPEwCBJlhgmVZxwkQZDpuZBQcggBBZgh43OoqAYJMV42TZgoQiHaQGRuboEsvm6Ny57ZWetp+60lM38fK+UEAgYIFCDILNuKK0wgQZHIs3ChAkOnGqdJTMAIEmcGocY9TBQgynTo56rZbgCDTblHWM1kgmkFmTEy8mrebpXOSOygj45DWLu2qw7/uMJmL2hAwSoAg06hxOKcYgkznzIpK/RcgyPTfiivdLUCQ6e750t3JAgSZnAgEcgUIMjkJXhKIVpDp+zh5g6aPqlLVG623kr+74mod2L/ZS/T0ikDIAmEJMuPj43XOuedqz+7dIRfIAmYKEGSaOReqCk2AIDM0P+52jwBBpntmSScFCxBkFmzEFd4QIMj0xpzpMlcgGkFmYqFS1sfJfS/2ycw8ppS3e2r/Tx8wEgQQCFDA1iCzePESGjV6jK686mr5wsxKFcurbNmymjBpmgb/q7/2//e/AZbH5aYKEGSaOhnqCkWAIDMUPe51kwBBppumSS8FCRBkFiTE770iQJDplUnTZzSCzKSiFa23kxctXlnHj32vlFXX69Cv2xkGAggEIWBrkPn42CdV7pxzNH7cWC1Y9JYVZCYlJWnMI4+pSJEi6tenVxAlcouJAgSZJk6FmkIVIMgMVZD73SJAkOmWSdKHPwIEmf4ocY0XBAgyvTBlevxNIJJPZJYu28B6ErNQ4bL69cBWvbfqeqWn/cwwEEAgSAFbg8wPN32izh3a6pdfftGuPT9aQabvp0SJknrv/Q2qV7t6kGVym2kCBJmmTYR67BAgyLRDkTXcIECQ6YYp0oO/AgSZ/kpxndsFCDLdPmH6+6NApILM8snt1azNDPm+G/PHfWu0ft0/lZV5nGEggEAIArYGmdt2fKuL69XU8ePHTwoyS5curdQPNqlmtQtCKJVbTRIgyDRpGtRilwBBpl2SrON0AYJMp0+Q+gMRIMgMRItr3SxAkOnm6dLbqQKRCDKr1uit+o0fsrb+dsdsbVp/J4NAAAEbBGwNMmfNnqsd27fr0Uce0lff7LGeyKyQnKxRDz6s+Pg4/fPvN9lQMkuYIECQacIUqMFuAYJMu0VZz6kCBJlOnRx1ByNAkBmMGve4UYAg041TpaczCYQzyIyJiVPD5k9YbyaXcvTZpoe0/fNJDAMBBGwSsDXIPO/88zVl6jOqWau2EhISdPjwIfleAPTxx5s0sH9v7d2zx6ayWSbaAgSZ0Z4A+4dDgCAzHKqs6UQBgkwnTo2agxUgyAxWjvvcJkCQ6baJ0k9+AuEKMhMSS6l52xk6q/yl1kfIN7zXT9/vXsYwEEDARgFbg8zf6qpfv4EqX3CBsrOz9e233+rTT7bYWDJLmSBAkGnCFKjBbgGCTLtFWc+pAgSZTp0cdQcjQJAZjBr3uFGAINONU6WnMwmEI8gsVvwCtezwipKKnae04z/ovVU36NDBbQwBAQRsFrA1yPS91OdMP76PlvteAsSPOwQIMt0xR7o4WYAgkxOBQK4AQSYnwUsCBJlemja95idAkMn58JKA3UGm7wnM5u1eUEJCcR385VOlvN1T6Wn/9RIpvSIQMQFbg0zfm8rz+/ntLeYR605Ss+aXat4rb+iyti319Vc7rK0HDrpNvXr3VUJCvBYueEMj7x+hrKwsVapUWePGT1TtOnW1Z/duDRt6hzZt/Ei1atfRtOnPqXWLppEs3ei9CDKNHg/FBSlAkBkkHLe5ToAg03UjpaF8BAgyOR4I5AoQZHISvCRgZ5BZtXov1Ws8Wr7vxvR9jHzDu32UlZXuJU56RSCiArYGmdWr1zip+NjYWOtlP/938z80+8VZWrVyRUSbS0xM1MLFS1WuXHldf91frCCzRctWenzseF1/3VU6ePCgZsycrcWLFuiFWTP06uuLtG7dGk2dPEntO3TUqNFj1LJ5E1WrXp0g85TJEWRG9CizWYQECDIjBM02xgsQZBo/Igq0UYAg00ZMlnK0AEGmo8dH8QEK2BFknvpSny+2jNUXn4wNsBIuRwCBQAVsDTLPtHlSUpLmzn9dV3bvEmh9IV1/x5ChiomJ0eXduqtfn15WkPnQw49q3969mjJ5grV2h46d1LtPfw3o31vvpmxQvdrVlJmZaf1uydKVGj1qpA4dPpQXZMbHJ+ill+drzeq3NW2Kd988RpAZ0tHkZkMFCDINHQxlRVyAIDPi5GwYRQGCzCjis7VRAgSZRo2DYsIsEGqQedJLfbLSracwealPmIfG8gj8TyAiQaZvr/c/2KTmTRtGDL5KlaqaOv05XdG1k5YsW5UXZL409xW9+MJMLVu6xKqlStUL9fL81zSgX2+NeeQxde7QNq/GiZOfVmrKu9qyZXNekOm7Jj4+XsOHDolYLyZuRJBp4lSoKVQBgsxQBbnfLQIEmW6ZJH34I0CQ6Y8S13hBgCDTC1Omx98EQgky//hSH9/3YPq+D9P3vZj8IIBAZARsDTJ73vi3P1Xt+3i373sqzzvvfF3RrXNkupI0d95rmvDUOL2fmqKVq9/JCzJfX/CmJk4YrzWrV1m1JFesqBUr16pf314aOnyEevyhxrHjntK2L7YqNTXFCjKnT5uirt2u0M039cx7arPE2edFrCeTNkpMKqGsE2nKyjxhUlnUgkBIAgmFiyknO0uZJ46HtA43I+B0gcLFyij92K/W3w/8IOB2gfhCSYqRlJF+zO2t0h8C+QoUKlpKGWlHlJ2V++k0fhBws0BcQmHFxscr4/iRgNosXaah6jd8UvHxRXX40JfavPF2paf/HNAaXGymwKGfd5tZGFX9ScDWIHPNupQ/bZCWlqavv/5aT457PO9lO+Gew7XX3aCmzZpr6J23W1v9McicPWe+5s+bo0ULF1i/q1mzlmbNnqv+fW/V2CfGq12bFnnlTX92hvURct8Tma+9sVjZWVlauXK5bh88MO+aIiXOCnc7Rq6fVOIsnUg/qsx0Ah8jB0RRQQkULlbK+pf3EwH+C01Qm3ETAgYLFCt7ro4d+EnZBJkGT4nS7BIolFRCiolR+tFf7VqSdRBwpEDR0uWVdvgADyo4cnoUHahAYuGiiksopOOHf/H71koX/FU1695tvdTnxx9Wa/OHdyk7m5f6+A1o+IXHD/GWecNHlFeerUGmKU1Pf3amGjdpagWPvp9SpUvr0KFDumvIYLVp004HDhywglXfT48rr1LPG2/SoAF9lPrBJjWoW0O+8NX34wtmhw0doqNHj2rOy6+qa5f21p+PjBmt5cveMqXdqNTBR8ujws6mYRbgo+VhBmZ5xwjw0XLHjIpCbRDgo+U2ILKEKwT4aLkrxkgTfgoE8tHyk1/qI2379Elt3fwfP3fiMgQQsFsg5CDz1DeV51fgl19us7t+v9b74xOZvoBzwsSpuvaaHjpy+IhenDNPL82epXlz58j3/ZkbNqzX5IkT1K37FRo2fITatGqmatVr5H1HZqPGTay/9n2X5v79+/3a340XEWS6car0RJDJGUAgV4Agk5PgJQGCTC9Nm17zEyDI5Hx4ScDfIPOPL/XJzs7Qh+8N0N5di7xERa8IGCcQcpC5a8+PfjdVqWJ5v6+188I/Bpm+dW/t3VcDBg5WQmKCXpk/T6NHPaCcnBxVSE7W+AmTVa9eA+3a9a3uGnKbPv1ki2rVrpMXZPruv3/kg0pOTra+d9OrPwSZXp28u/smyHT3fOnOfwGCTP+tuNL5AgSZzp8hHdgjQJBpjyOrOEPAnyDz1Jf6pK7+mw7s3+yMBqkSARcLhBxklihR0i+ehIR4Tz/B6BeSgy4iyHTQsCjVbwGCTL+puNDlAgSZLh8w7Z0kQJDJgUAgV4Agk5PgJYGCgsyzyl+q5u1eUEJCcR06uE3vrbpBacd/8BIRvSJgrEDIQaY/nRUrXtz6vsnGDev5cznXOECAINMBQ6LEgAUIMgMm4waXChBkunSwtHVaAYJMDgYCBJmcAe8J5BdkVq1xq+o1etB6qc8Pe1fpg3duVVYmL7n13imhY1MFbA0yzz+/kh586GHVrVtfhQoXyuu5SJEk7dixXV06tjPVgboCFCDIDBCMyx0hQJDpiDFRZAQECDIjgMwWxggQZBozCgqJsgBPZEZ5AGwfUYEzBZm16g9XjXpDrFq+/Owpff7xwxGti80QQKBgAVuDzNlz5uvo0SNa8MbrGvPwoxo+bIj1fZOt2rTVLX//m3755ZeCK+IKRwgQZDpiTBQZoABBZoBgXO5aAYJM146Wxk4jQJDJsUAgV4Agk5PgJYHTBZmVL/yrGjZ/0mLYmDpYu76e5yUSekXAMQK2Bplbv9yppo0a6PDhQ0pdv1GXNrvEguja7Qq179BRd94x2DEwFJq/AEEmJ8SNAgSZbpwqPQUjQJAZjBr3OFWAINOpk6NuuwUIMu0WZT2TBU4NMsud21ot2r9sfZx865ZHte2TcSaXT20IeFrA1iDz063b1aZlM+vJy/dSP9RlbVvoxIkTiomJ0Seff6m6tap5GttNzRNkumma9PKbAEEmZwGBXAGCTE6ClwQIMr00bXrNT4Agk/PhJYE/BpklStVU28vfUnx8kvUUpu9pTH4QQMBcAVuDzKefeV6+t5j3vvUfmjBxqvbt26tZM59T48ZNdcedQ3nZj7nnIODKCDIDJuMGBwgQZDpgSJQYEQGCzIgws4khAgSZhgyCMqIuQJAZ9RFQQAQFfgsyM45k6LJuK1Wo8Nn66ft3lPJ2T+XkZEWwErZCAIFABWwNMsuWLasH/j1a944YrvMqnqfnZ85WheRkpaWl6d57hunVV/iOiUAHZOr1BJmmToa6QhEgyAxFj3vdJECQ6aZp0ktBAgSZBQnxe68IEGR6ZdL06RPwBZlFipfTJY2eUfGSF+nQwS+0dmlXZWYeAwgBBAwXsDXILF68hPX9mL/9+D5Sfu6551ofNfeFmfy4R4Ag0z2zpJPfBQgyOQ0I5AoQZHISvCRAkOmladNrfgIEmZwPLwkklSyvpq1mqXTpi3X82PdavaSj0tN+9hIBvSLgWAFbg8wdO3drzepVWrRwgd5etULHjx93LAyF5y9AkMkJcaMAQaYbp0pPwQgQZAajxj1OFSDIdOrkqNtuAYJMu0VZz2SBS1qMU6Uqf1PGiYNau7SbDh/6yuRyqQ0BBP4gYGuQ2ap1G13etbs6de6ipKSiWrVyuRYueF3r1q5VZmYG8C4SIMh00TBpJU+AIJPDgECuAEEmJ8FLAgSZXpo2veYnQJDJ+fCCQLHiF6hRi0kqc3Yjq911y6/Q/p82eKF1ekTANQK2Bpm/qcTGxuqSRo3V5fJuVqhZsmRJLX1riYYPHeIaOK83QpDp9RPgzv4JMt05V7oKXIAgM3Az7nCuAEGmc2dH5fYKEGTa68lqpgnE6MKavVX74nsVF1dYR498o88/Hak9Xy03rVDqQQCBAgTCEmT+tmdSUpJatW6rW3r1VrPml6pSxfIMxCUCBJkuGSRtnCRAkMmBQCBXgCCTk+AlAYJML02bXvMTIMjkfLhVIKnYeWrcYorKlmuinJxMbf98sr7d+bziCiXq0E/fubVt+kLAtQK2B5llzzpLHTp2UufOXdWyVWt9//0+LXlzkd5cvEhbP//MtZBea4wg02sT90a/BJnemDNdFixAkFmwEVe4R4Ag0z2zpJPQBAgyQ/PjbjMFqlS/RXUv+bfi4grp0MEv9WHKAP36y2fWW8sTihQlyDRzbFSFQL4CtgaZr76+yPpI+e7d3+mtJYut8PKzTz9hBC4UIMh04VBpSQSZHAIEcgUIMjkJXhIgyPTStOk1PwGCTM6HmwQSC5W2vgvznOQOVlvbPn1SWzf/J69Fgkw3TZtevCZga5B5z4j7teTNxfrkk81ec/RcvwSZnhu5JxomyPTEmGnSDwGCTD+QuMQ1AgSZrhkljYQoQJAZIiC3GyNQPrm9Gl06QYUKn6W04z/o/bX/0IH/fnxSfQSZxoyLQhAIWMDWIDPg3bnBsQIEmY4dHYXnI0CQyfFAIFeAIJOT4CUBgkwvTZte8xMgyOR8OF0gNjbB+hh51Rq3Wq38uPdt66PkJ9IP/qk1gkynT5v6vSxAkOnl6YfQO0FmCHjcaqwAQaaxo6GwCAsQZEYYnO2iKkCQGVV+NjdIgCDToGFQSsACxUtepGZtZsj3p++FPp9//Ii2fz7pjOsQZAZMzA0IGCNAkGnMKJxVCEGms+ZFtf4JEGT658RV7hcgyHT/jOnwdwGCTE4DArkCBJmcBKcK+J7ArN94jFW+76PkH6y7Vft//jDfdggynTpt6kZAIsjkFAQlQJAZFBs3GS5AkGn4gCgvYgIEmRGjZiMDBAgyDRgCJRghQJBpxBgoIgCB+PiiatRysiqcd7l110/fv6MN7/Y+7UfJT12WIDMAaC5FwDABgkzDBuKUcggynTIp6gxEgCAzEC2udbMAQaabp0tvpwoQZHImEMgVIMjkJDhJoGTp2mredpaSip2n7OwMbd386P8+Sp7jVxsEmX4xcRECRgoQZBo5FvOLIsg0f0ZUGLgAQWbgZtzhTgGCTHfOla5OL0CQyclAgCCTM+AsgQtr9lWdhvfL93KfY0d2a/07vXRw/5aAmiDIDIiLixEwSoAg06hxOKcYgkznzIpK/RcgyPTfiivdLUCQ6e750t3JAgSZnAgECDI5A84QSEgspSatnlb5Cm2tgvfsWqhNqXcoM/NowA0QZAZMxg0IGCNAkGnMKJxVCEGms+ZFtf4JEGT658RV7hcgyHT/jOnwdwGCTE4DAgSZnAHzBcqcdYmatZ2hwkXKKzPzmLZsuEe7vn456MIJMoOm40YEoi5AkBn1ETizAIJMZ86NqvMXIMjkhCCQK0CQyUnwkgBBppemTa/5CfAdmZwPMwViVL3Ov1SrwXDFxMTr1wOfa/26W3T08LchlUuQGRIfNyMQVQGCzKjyO3dzgkznzo7KzyxAkMnpQIAgkzPgPQGCTO/NnI5PL0CQyckwTSCxUBk1bf2szj6nhVXaV19M12ebHrRe7hPqD0FmqILcj0D0BAgyo2fv6J0JMh09Poo/gwBBJkcDAYJMzoD3BAgyvTdzOibI5AyYL1C2XFM1a/OcChU+WyfSf9GH7/XXj/vW2lY4QaZtlCyEQMQFXBtkXn3NdbrjzqEqU7qMPt/6me4eeqd27vzaAh446Db16t1XCQnxWrjgDY28f4SysrJUqVJljRs/UbXr1NWe3bs1bOgd2rTxI9WqXUfTpj+n1i2aRnxApm5IkGnqZKgrFAGCzFD0uNdNAny03E3TpJeCBAgyCxLi914R4IlMr0za7D5jYmJVo+4Q1ah3p3x//fMPKdrwbl+lp/1sa+EEmbZyshgCERVwZZBZ9cKL9Nobi9Xzur9ox47tGn73vapbr75uvOEatWjZSo+PHa/rr7tKBw8e1IyZs7V40QK9MGuGXn19kdatW6OpkyepfYeOGjV6jFo2b6Jq1asTZJ5yLAkyI/r3KZtFSIAgM0LQbGO8AEGm8SOiQBsFCDJtxGQpRwsQZDp6fK4o3vf0pe8pTN/TmDk5mdq6+TF9+dkESTm290eQaTspCyIQMQFXBpkVzztPF1a9SGvXrrYgL764oaZMe1bNmzbUQw8/qn1792rKZN8/EKUOHTupd5/+GtC/t95N2aB6taspMzPT+t2SpSs1etRIHTp8KC/IjI9P0Esvz9ea1W9r2pRJERuUaRsRZJo2EeqxQ4Ag0w5F1nCDAEGmG6ZID/4KEGT6K8V1bhcgyHT7hM3uz/c9mL7vw/R9L+axI7u1/p1eOrh/S9iKJsgMGy0LIxB2AVcGmX9UK168hEaOGq3jx4/r/nvv1ktzX9GLL8zUsqVLrMuqVL1QL89/TQP69daYRx5T5w5t826fOPlppaa8qy1bNucFmb5r4uPjNXzokLAPx+QNCDJNng61BStAkBmsHPe5TYAg020TpZ/8BAgyOR8I5AoQZHISoiEQExNnvZG8ep3BkmK0Z9dCbUq9Q5mZR8NaDkFmWHlZHIGwCrg6yLz3vpHq02+APvpwg2695WYdOHBAry94UxMnjNea1ass2OSKFbVi5Vr169tLQ4ePUI9unfPAx457Stu+2KrU1BQryJw+bYq6drtCN9/UM++pzXIX1A/rgExdPCYmRjm+R/ztf8rf1JapywsCMTG5XeZwsL0wbno8s0BMbKxysrMhQsAbAvyz3xtzpssCBWJiY5Tj+3cg/jWoQCsusEcgMbGMatYcqeLFayorK007d07Wjz8ut2fxglaJ8cWm/zvzBV3L7z0h8NM34XsC2BOAEWzS1UGmz7FIkSK66eZ/6Jprr9flnS7Tiy/N0/x5c7Ro4QKLuWbNWpo1e676971VY58Yr3ZtWuTxT392hvURct8Tmb7v3MzOytLKlct1++CBedf4/seeF39Klr9AaYd/UfqxX73YPj27VKB42WRlZaTr2KH/urRD2kLAP4Gy59XUwe+/VlbmCf9u4CoEHCxQtFR5+f4D7ZEDPzi4C0pHIHSB0hWq6ch/9yjjxLHQF2MFBAoQqFj5L6rdYISSilbUwQOf6cN3++rI4Z0RcytSrKziiyTp8M+7I7YnG5ktwH/EN3s+f6zOlUFmzVq1Vbp0aaWmvGf1Ghsbq6++2aOmjRroX4Nvt57MfHLc49bvelx5lXreeJMGDeij1A82qUHdGkpLS7N+t2ZdioYNHaKjR49qzsuvqmuX9tafj4wZreXL3nLOlMNQKR8tDwMqS0ZdgI+WR30EFGCIAB8tN2QQlBERAT5aHhFmNnGAAB8td8CQXFDi2eUvVb1Go1WyTB2rm6+2PaNPPrwv4p3x0fKIk7MhArYJuDLIbNOmnR574kldd/WV+u67Xbr2uht0z4j71fiSerqkUWNNmDhV117TQ0cOH9GLc+bppdmzNG/uHOv7MzdsWK/JEyeoW/crNGz4CLVp1UzVqtfI+47MRo2bWH/t+y7N/fv32zYIpy1EkOm0iVGvPwIEmf4ocY0XBAgyvTBlevxNgCCTs4BArgBBJichnALFSlRVvUajdE5yR2sb34t8Nr5/h3498Hk4tz3j2gSZUWFnUwRsEXBlkOmT6dt/oP7xj14qVryYvv3mG/175H3a+NGHFtqtvftqwMDBSkhM0Cvz52n0qAes74OpkJys8RMmq169Btq161vdNeQ2ffrJFtWqXScvyPTdf//IB5WcnKx+fXrZMgQnLkKQ6cSpUXNBAgSZBQnxe68IEGR6ZdL06RMgyOQcIECQyRkIn0BiodKq0/ABVb7wr9YmJ9J/0acbH9Sur+eGb1M/VibI9AOJSxAwVMC1Qaah3q4piyDTNaOkkT8IEGRyHBDIFSDI5CR4SYAg00vTptf8BHgik/Nht0Dpsg3UrO0MFUmqYC39zfZZ+uzjMco4Ef33LBBk2j1t1kMgcgIEmZGzdtVOBJmuGifN/E+AIJOjgABBJmfAewIEmd6bOR2fXoAgk5Nhp0DVGreqfuMx1pJHDn+j9Wv/oUMHt9m5RUhrEWSGxPf/7d0HdBRV/8bxJ6TTQu8qFkDqiwiIoiB2RcWG5dW/nSLygqKgooiIHUQEsRdEpNl7QUVEUBERLCAoTYr0HtKT/7mzZE0gZbPZMuW753DAZOaWz+8mbp7cmeFkBKIqQJAZVX7ndk6Q6dzaMfLiBQgyWR0IEGSyBrwnQJDpvZozY4JM1kD4BGJjk9S+81NqeNh5Vifr13ygn+YNUHb2vvB1GkTLBJlBoHEKAjYRIMi0SSGcNgyCTKdVjPEGIkCQGYgSx3hBgEvLvVBl5pgvQJDJWkDAJ8COTFZCeQUqVT5UJ5wyRVVSmig3J1O/LBimlcsnlrfZsJxPkBkWVhpFICICBJkRYXZfJwSZ7qspM5IIMlkFCPgECDJZCV4SIMj0UrWZa0kCBJmsj/II1G90pjqc+LTi4isrde/f+m7W1dq9c2l5mgzruQSZYeWlcQTCKkCQGVZe9zZOkOne2np5ZgSZXq4+cy8oQJDJevCSAEGml6rNXAkyWQOhFoiJiVWrdsPUpMVNVtP/rPtMP37bT9lZe0PdVUjbI8gMKSeNIRBRAYLMiHK7pzOCTPfUkpn8K0CQyWpAwCdAkMlK8JIAQaaXqs1cCTJZA6EUSEquo+O6vqyatTsoNzdLvy4YrhXLXgplF2FriyAzbLQ0jEDYBQgyw07szg4IMt1ZV6/PiiDT6yuA+ecLEGSyFrwkQJDppWozV4JM1kCoBEx42enkV5WYVFP7Utfr+6+v0c7tv4aq+bC3Q5AZdmI6QCBsAgSZYaN1d8MEme6ur1dnR5Dp1coz7wMFCDJZE14SIMj0UrWZK0EmayAUAk1a9FOrdncrJibOupR8wbf9lZW1OxRNR6wNgsyIUdMRAiEXIMgMOak3GiTI9EadvTZLgkyvVZz5FidAkMna8JIAQaaXqs1cCTJZA+URiE+optbHDlfjo/5rNfPrT8P155IwarXJAAAgAElEQVRny9Nk1M4lyIwaPR0jUG4BgsxyE3qzAYJMb9bd7bMmyHR7hZlfoAIEmYFKcZwbBAgy3VBF5hAKAZ5aHgpF97ZxeNOr1bLtUCUkVleauZR89vXasW2RYydMkOnY0jFwBESQySIISoAgMyg2TrK5AEGmzQvE8CImQJAZMWo6soEAQaYNisAQbCFAkGmLMthuENVqtFG74x+X+VvK08rlr+q3hSNt/1Ty0iAJMksT4vMI2FeAINO+tbH1yAgybV0eBhekAEFmkHCc5joBgkzXlZQJlSBAkMnyQMAnQJDJSigoYHZetjzmbjU+6krFxFTQnl1/6qd5A7V960+ugCLIdEUZmYRHBQgyPVr48k6bILO8gpxvRwGCTDtWhTFFQ4AgMxrq9BktAYLMaMnTr90ECDLtVpHojefIZjeo+X+GKCGxmjWI339+UMt+Gxe9AYWhZ4LMMKDSJAIREiDIjBC027ohyHRbRZmPESDIZB0g4BMgyGQleEmAINNL1WauJQkQZLI+atU9Qccc95iqpDSxMLZsnKuF392q1L1rXIdDkOm6kjIhDwkQZHqo2KGcKkFmKDVpyy4CBJl2qQTjiLYAQWa0K0D/kRQgyIykNn3ZWYAg087VCe/YKlU+TG3a36/6h5xldbQvdb1+WzhC61a/F96Oo9g6QWYU8ekagXIKEGSWE9CrpxNkerXy7p43Qaa768vsAhcgyAzciiOdL0CQ6fwaMoPQCBBkhsbRSa3ExVfW0a0H6ajmvVWhQrxystO0/PfxWv77U8rJyXDSVMo8VoLMMpNxAgK2ESDItE0pnDUQgkxn1YvRBiZAkBmYE0e5X4Ag0/01Zob/ChBkshoQ8AkQZHppJcSo8VH/VctjhioxqZY18bWr39GvC4YrPW2TJyAIMj1RZibpUgGCTJcWNtzTIsgMtzDtR0OAIDMa6vRpRwGCTDtWhTGFS4AgM1yytOs0AYJMp1UsuPHWrNNRbTs+opTqLa0Gdu34XT9/f7u2b10YXIMOPYsg06GFY9gISCLIZBkEJUCQGRQbJ9lcgCDT5gVieBETIMiMGDUd2UCAINMGRWAIthAgyLRFGcI2iIqVGqn1sfep4WHnWX2kp23W7z8/pDUrpknKC1u/dm2YINOulWFcCJQuQJBZuhFHFCFAkMmycKMAQaYbq8qcghEgyAxGjXOcKkCQ6dTKMe5QCxBkhlrUPu01/88QNW9zm39Ay34bp2W/PqHs7H32GWSER0KQGWFwukMghAIEmSHE9FJTBJleqrZ35kqQ6Z1aM9OSBQgyWSFeEiDI9FK1mWtJAgSZ7lsf8QnVdFyX51Wnfldrcv+s/VS/LLhXqXvXuG+yZZwRQWYZwTgcARsJEGTaqBhOGgpBppOqxVgDFSDIDFSK49wuQJDp9gozv4ICBJmsBwR8AgSZ7loJ1Wq01vEnv6rkSg2t4PLHb/tp+5YF7ppkOWZDkFkOPE5FIMoCBJlRLoBTuyfIdGrlGHdJAgSZrA8EfAIEmawELwkQZHqp2sy1JAGCTPesj0OP6Kl2ncaoQmyCNq6bqfnf3qTsrD3umWAIZkKQGQJEmkAgSgIEmVGCd3q3BJlOryDjL0qAIJN1gQBBJmvAewIEmd6rOTMuWoAg0/krIyYmTv/p+KCOaHqt8vJytWTRI1r225POn1gYZkCQGQZUmkQgQgIEmRGCdls3BJluqyjzMQIEmawDBAgyWQPeEyDI9F7NmTFBphvXQHLFBmp3/BjVbdBNWZk79cM3vbT5n2/cONWQzIkgMySMNIJAVARcG2SeceZZumvoMNWpU1dLly7RHUNu04q//rSQb+4/UDf06qP4+Di99+47Gj5sqHJycnTYYY01Zux4tWzVWuvWrtWQwbdq4U8L1KJlKz37/Evq0vm4qBTJjp0SZNqxKoypvAIEmeUV5Hy3CHBpuVsqyTwCESDIDESJY7wgwI5MZ1Y5MamW9UTyI5pdb01g5/Zf9N3X1ygtdYMzJxShURNkRgiabhAIg4Arg8x69erri1nf6OqrrtCinxdq0O13qH37Drr80ovU+cSTNGr0WF3a8wLt3LlTr0ycrA/ef1eTXn1Fb779vmbPnqVnJjylU087XSNGPqgTj++ops2aEWQesPgIMsPw1UiTURcgyIx6CRiATQQIMm1SCIYREQGCzIgw04kDBAgyHVCkAkNMSKyhZq0G6Ihm1yk2NkmZGTv0xy+Pa+XyicrNzXLWZKIwWoLMKKDTJQIhEnBtkNn2mHb69JOPLCazw/KlVyapU4dj9MBDj2rD+vV6esI463OnnX6GevW+Sf1u6qU5c+erTcumys7Otj730SczNXLEcO3es9sfZMbFxev1aTM066sv9ezTT4WoDM5rhiDTeTVjxKULEGSWbsQR3hAgyPRGnZmlT4Agk5WAgE+AINMZKyE+vqqatR6gI4/uZQWY5vXnkmf0xy9jlJW12xmTsMEoCTJtUASGgECQAq4MMg+06Nuvv1q0aKkB/W/S61Pf0GuTJvpDziOOPErTZrylfn176cGHH9OZp53sP338hOc0b+4cLV68yB9kmmPi4uJ0x+BBQZK74zSCTHfUkVkUFiDIZEUg4BMgyGQleEmAINNL1WauJQkQZNp/fZjwsnmb25WQWM0a7JoV0/T7zw8rPW2j/QdvsxESZNqsIAwHgTIIuD7I7Nq1mx54+FFdcuH52rRpo95+90ONHzdWs776wmJq2KiRPp/5tfr2uUGD7xiq87uf6ecbPeZJ/bF0iebNm2sFmc8/+7TO6X6err7qcv+uzcRKKWXgds+hlarVU2babmVl7HPPpJiJ5wWSq9ZUbnaWMvbx22zPLwaPA1Stfaj2btug3FzfFQq8EHCzQFKl6lKMlL53h5unydwQKFWgcs2GStu1VTnZGaUeywGRFajf8Gw1azlIlSofZnW8fdtP+n3Rfdq9a1lkB+Ki3hKSqyguIUn7dm1x0ayYSnkEMlJ3led0zo2ggKuDzB4XXKRbbr1N111zlVavXmWxTp4yQzOmT9H7771r/Xfz5i306uSpuqnPjRr9+Fh169rZz//8i69Yl5CbHZlvvfOBcnNyNHPmZ7plwM3+Y8zORC++4pMqKic7ywp9eCHgFoG4hGTl5eUqJ4s38G6pKfMITiChYhVlpacqLzc3uAY4CwEHCcQmJCpGMcrOTHfQqBkqAqEXiE+urJzMNOtnHl72EKhStbmaHX2bqqa0tAa0b9/fWvHn09qyebY9BujgUcTGJSgmNlbZGWkOngVDD6XAzo0rQ9kcbYVRwLVBpnlq+W2D79RVV1yqLVs2+wnvH/mQduzYoSfGjLI+dn6PC3T5FVepf7/emvfDQrVtfbTS031vZGfNnqshgwcpNTVVU6a9qXPOOtX6++EHR+qzTz8OY1ns3zSXltu/Royw7AJcWl52M85wpwCXlruzrsyqaAEuLWdlIOAT4NJy+6yEqtWa6Yim1/qfRJ6ZsV1LF4/WimUv2WeQDh8Jl5Y7vIAM39MCrgwyU1Kq6bMvZqnnxT209u+/CxW4Q8fjNG78M7rk4vO1d89evTZlul6f/KqmT51i3T9z/vzvNWH8OHU/9zwNuWOoup7USU2bHe2/R2b7Dh2tf5t7aW7bts2zi4cg07Old/XECTJdXV4mVwYBgswyYHGo4wUIMh1fQiYQIgGCzBBBlqOZOvW7qEnzvqrb8FR/K8t+e1LLfhuv7Kw95WiZUw8UIMhkTSDgXAFXBpmXXnaFHhv9hLKyCl/23PHYNtZuzBt79VG/mwcoPiFeb8yYrpEj7lVeXp4aNGyoseMmqE2btlqzZrVuHzRQv/6yWC1atvIHmabUw4bfr4YNG6pv7xucW/lyjpwgs5yAnG5LAYJMW5aFQUVBgCAzCuh0GTUBgsyo0dOxzQQIMqNTkJiYODVq3ENNW/RTSo1W1iCyMndp5fJX9dfSZ5WR7t3NM+GsCEFmOHVpG4HwCrgyyAwvGa0bAYJM1oEbBQgy3VhV5hSMAEFmMGqc41QBgkynVo5xh1qAIDPUoiW3FxdXSYc3vVpHHd1LyZUaWgen7dugv5Y+r1XLJyk7OzWyA/JYbwSZHis403WVAEGmq8oZuckQZEbOmp4iJ0CQGTlrerK3AEGmvevD6EIrQJAZWk9ac64AQWZkapeUXE9HNe+tw5v+n+Ljq1qd7t65TH8umaC/V76lvLzsyAzE470QZHp8ATB9RwsQZDq6fNEbPEFm9OzpOXwCBJnhs6VlZwkQZDqrXoy2fAIEmeXz42z3CBBkhreWVVOaqmmrAWrU+AJVqBBvdbZ103da/vsEbVw/M7yd0/pBAgSZLAoEnCtAkOnc2kV15ASZUeWn8zAJEGSGCZZmHSdAkOm4kjHgcggQZJYDj1NdJUCQGZ5y1m1wspq06Kc69btaHeTl5eqftZ9o2W/jtGPbovB0SqulChBklkrEAQjYVoAg07alsffACDLtXR9GF5wAQWZwbpzlPgGCTPfVlBkVL0CQyepAwCdAkBm6lWAe4HPI4RdaAWZK9RZWwzk5Gfp75Qwt/228UveuCV1ntBSUAEFmUGychIAtBAgybVEG5w2CINN5NWPEpQsQZJZuxBHeECDI9EadmaVPgCCTlYAAQWao1kBcfBUd0fRqHWke4FOxvtVsVubO/U8gf44nkIcKOgTtEGSGAJEmEIiSAEFmlOCd3i1BptMryPiLEiDIZF0g4BMgyGQleEmAINNL1WauJQmwIzP49WEe4NOkxU06vMlViouvbDWUlrpefy59Tqv+nKSc7LTgG+fMsAgQZIaFlUYRiIgAQWZEmN3XCUGm+2rKjCSCTFYBAgSZrAHvCRBkeq/mzLhoAYLMsq+MqtWaq1mr/6lR4x4yl5Ob1+6dS60H+Kxd9Q5PIC87acTOIMiMGDUdIRByAYLMkJN6o0GCTG/U2WuzJMj0WsWZb3EC7MhkbXhJgCDTS9VmriUJEGQGvj7qNjhFTVr2U516J/lP2rJpnpb//pQ2rf8y8IY4MmoCBJlRo6djBMotQJBZbkJvNkCQ6c26u33WBJlurzDzC1SAIDNQKY5zgwBBphuqyBxCIUCQWbJihQrxOuTwi61LyKtWO9o62DyBfMPfH1pPIN+5/ddQlIE2IiRAkBkhaLpBIAwCBJlhQPVCkwSZXqiy9+ZIkOm9mjPjogUIMlkZXhIgyPRStZlrSQIEmUXr+B7gc62Oan6jzL0wzcs8gXzNiqnWE8j3pa5jYTlQgCDTgUVjyAjsFyDIZCkEJUCQGRQbJ9lcgCDT5gVieBETIMiMGDUd2UCAINMGRWAIthAgyCxchuRKDXTo4T3VrPUtiouraH0yM2OnVi57WX/98bwyM3bYom4MIjgBgszg3DgLATsIEGTaoQoOHANBpgOLxpBLFSDILJWIAzwiQJDpkUIzTUuAIJOFgIBPgCDT51Cr7gk68ugb1PDQc/1LI23fP9YDfFb/NZknkLvkC4Yg0yWFZBqeFCDI9GTZyz9pgszyG9KC/QQIMu1XE0YUHQGCzOi402t0BAgyo+NOr/YT8HqQ2bjJVWrSvK+qpDTxF2f7lgVauXyi/l75hv0KxojKJUCQWS4+TkYgqgIEmVHld27nBJnOrR0jL16AIJPVgYBPgCCTleAlAYJML1WbuZYk4NUgs/FRV6pVu3uUkFjD4snK2q01K6Zr1fJXtWfXnywalwoQZLq0sEzLEwIEmZ4oc+gnSZAZelNajL4AQWb0a8AI7CFAkGmPOjCKyAgQZEbGmV7sL+C1IDO5Yn21O/4J1W3QzSrO1s3fW+Hl2lVv279YjLDcAgSZ5SakAQSiJkCQGTV6Z3dMkOns+jH6ogUIMlkZCPgECDJZCV4SIMj0UrWZa0kCXgoyzS7M1u1HKD6+inbvXKofvunF7kuPfXkQZHqs4EzXVQIEma4qZ+QmQ5AZOWt6ipwAQWbkrOnJ3gIEmfauD6MLrQBBZmg9ac25Al4IMpOS66l95/GqU7+L8vJytPz3p7R08Sjl5mY5t3CMPCgBgsyg2DgJAVsIEGTaogzOGwRBpvNqxohLFyDILN2II7whQJDpjTozS58AQSYrAQGfgBuCzKTkOqp/yNkyfx/4io1N1OFNr7V2Yabu/Vs/zumj7VsXUn6PChBkerTwTNsVAgSZrihj5CdBkBl5c3oMvwBBZviN6cEZAgSZzqgTowyNAEFmaBxpxfkCTg0yK1c5Qg0O7a6Gh3ZX9VrHlFqIlcte0a8LRygnO63UYznAvQIEme6tLTNzvwBBpvtrHJYZEmSGhZVGoyxAkBnlAtC9bQQIMm1TCgYSAQGCzAgg04UjBJwUZFav2VYNDj3H2n1ZNaVpId9NG77Wts3fKycnTdnZaVZgaf6dk52utH0btGvH746oB4MMrwBBZnh9aR2BcAoQZIZT18VtE2S6uLgenhpBpoeLz9QLCRBksiC8JECQ6aVqM9eSBOwcZMbExKpW3ePV4JCzrT/JlRr6p5KRvkX/rJupjetnavOGr5WdvY9CI1CqAEFmqUQcgIBtBQgybVsaew+MINPe9WF0wQkQZAbnxlnuEyDIdF9NmVHxAgSZrA4EfAJ2CzLj46uqToOTVa/haWpwyFmKT0jxl2rX9t/0z7rPrfCS+1yygoMRIMgMRo1zELCHAEGmPerguFEQZDquZAw4AAGCzACQOMQTAgSZnigzk9wvQJDJUkDAHkFmTEwFmUvG6zboproNTrHud2l2YppXTk66tvwzR/+s/1z/rP1M6WmbKBsC5RIgyCwXHycjEFUBgsyo8ju3c4JM59aOkRcvQJDJ6kDAJ0CQyUrwkgBBppeqzVxLEojGjswqKU1Uu96JqlipoQ5veo3MLsz8V1bmTm1Y+6k2/P2xNv8z2wozeSEQKgGCzFBJ0g4CkRcgyIy8uSt6JMh0RRmZxAECBJksCQQIMlkD3hMgyPRezZlx0QKRCDLNE8Zr1TtBdep1Ue16JygxqXahwZidluvXfKANaz/Rlo3fUioEwiZAkBk2WhpGIOwCBJlhJ3ZnBwSZ7qyr12dFkOn1FcD88wXYkcla8JIAQaaXqs1cSxIIR5BZqfJhql2vs7XrslbdE5RcsX6hIZgnim/bMl9bNs61dl3u2LaIIiEQEQGCzIgw0wkCYRFwbZAZFxenIXcMVe++/dTuPy20fft2P+DN/Qfqhl59FB8fp/fefUfDhw1VTk6ODjusscaMHa+WrVpr3dq1GjL4Vi38aYFatGylZ59/SV06HxeWIjixUYJMJ1aNMZcmQJBZmhCf94oAQaZXKs08jQBBJusAAZ9AKILM5IoNrNAyP7ysWKlR4eAyJ13btyywdltu2TRXO7b+rNzcLEqAQMQFCDIjTk6HCIRMwLVB5gsvvaolv/+m/w28Ve2PaeUPMjufeJJGjR6rS3teoJ07d+qViZP1wfvvatKrr+jNt9/X7Nmz9MyEp3TqaadrxMgHdeLxHdW0WTOCzAOWHEFmyL4GachGAgSZNioGQ4mqAEFmVPnpPMICBJkRBqc72woEE2QmJdfzh5YmvDQ7MAu+cnMytX3rAm3ZNM/adWn+bT7GC4FoCxBkRrsC9I9A8AKuDTLNLkoTZK5cs6FQkPnAQ49qw/r1enrCOEvttNPPUK/eN6nfTb00Z+58tWnZVNnZ2dbnPvpkpkaOGK7de3b7g8y4uHi9Pm2GZn31pZ59+qng5R1+JkGmwwvI8IsUIMhkYSDgEyDIZCV4SYAg00vVZq4lCQQSZCYm1dq/49K369Lc87JQcJmbZe2yNLstza7L7Vt+VE5OBvAI2E6AINN2JWFACAQs4NogM1/gwCDz9alv6LVJE/XpJx9Zhxxx5FGaNuMt9evbSw8+/JjOPO1kP974Cc9p3tw5Wrx4kT/INMeYy9bvGDwoYGQ3HkiQ6caqMieCTNYAAgSZrAHvCRBkeq/mzLhogaKCzMSkmqpV19zjsrNq1+0s85Txgq+8vGzt2PaLFVpu3TRXWzf/IHPfS14I2F2AINPuFWJ8CBQv4Lkg8+13P9T4cWM166svLJWGjRrp85lfq2+fGzT4jqE6v/uZfq3RY57UH0uXaN68uVaQ+fyzT+uc7ufp6qsu9+/aTKnb2JPrKyGpsrKzM5SbzT1tPLkAXDrpuMSKysvNUU4WOwdcWmKmFaBAYqUUZe7bo7y83ADP4DAEnCsQl5AkKUbZmYQvzq0iIw+FQELFKorJiVNKtbaqXv1YVa9xrCpVLrzj0vx/Ye+e5dqx/Sdt375AO3f8rJwcvnZC4U8bkRWIjUtQhdg4ZWXsi2zH9GZbgV2bVtt2bAyssIDngszJU2ZoxvQpev+9dy2J5s1b6NXJU3VTnxs1+vGx6ta1s1/o+RdfsS4hNzsy33rnA+Xm5GjmzM90y4Cb/cckVa7uyTVVsVodZaXt5Ru/J6vv3kknV6mh3JxsZezb7d5JMjMEAhAwu5NTd2y0vh54IeB2gcRK1RQTI6Xv3en2qTI/BA4SiI+vqhq1Oqhm7eOsS8YrVTrcCvb/feVp964/rCeLb9/6g7Zt/VHZWXuQRMDxAgnJVRSbkKi0XVsdPxcmEBqB9L07QtMQrYRdwHNB5v0jH9KOHTv0xJhRFu75PS7Q5Vdcpf79emveDwvVtvXRSk9Ptz43a/ZcDRk8SKmpqZoy7U2dc9ap1t8PPzhSn336cdiLY+cOuLTcztVhbMEKcGl5sHKc5zYB7pHptooyn5IEuLSc9eElgbj4yqpV93jVruu7x2VK9ZaKialQOLjcucz/VPGtm+YpM4OQ30trxCtz5dJyr1SaebpRwHNBZoeOx2nc+Gd0ycXna++evXptynS9PvlVTZ86Reb+mfPnf68J48ep+7nnacgdQ9X1pE5q2uxo/z0y23foaP3b3Etz27ZtblwTAc2JIDMgJg5ymABBpsMKxnDDJkCQGTZaGrahAEGmDYvCkEImEBdXSTXrdrLub2mCy2o1WismJrZQ+3t2/Wk9nCcta5XW/fWhUnevC1n/NISAXQUIMu1aGcaFQOkCrgwyq1evrvk//WLNPiEhQZmZmda/jz+unbZu2aIbe/VRv5sHKD4hXm/MmK6RI+5VXl6eGjRsqLHjJqhNm7Zas2a1bh80UL/+sljmCegmvOzS+TirnWHD71fDhg3Vt/cNpQu79AiCTJcW1uPTIsj0+AJg+n4BgkwWg5cECDK9VG33zzU2Llm16hy3/wE9J6p6zTaKiYkrNPG9e1Zp60bfU8VNgJmettn6fCBPLXe/IDP0igBBplcqzTzdKODKINONhbLbnAgy7VYRxhMKAYLMUCjShhsECDLdUEXmEKgAQWagUhxnR4HY2CTVrN1Bter5LhWvXrOtKlSILzTU1L1/W08U37Jxrjb/M0fpaRuLnApBph0rzJjCJUCQGS5Z2kUg/AIEmeE3dmUPBJmuLKvnJ0WQ6fklAMB+AYJMloKXBAgyvVRtd821waHddezxTyg+IaXQxNJS11s7LU1wuWXjHO1LXR/QxAkyA2LiIJcIEGS6pJBMw5MCBJmeLHv5J02QWX5DWrCfAEGm/WrCiKIjQJAZHXd6jY4AQWZ03Ok1eAHzwJ7/dHhIhx15mdVIRvoWbd74re9y8U3ztHf3iqAaJ8gMio2THCpAkOnQwjFsBCQRZLIMghIgyAyKjZNsLkCQafMCMbyICRBkRoyajmwgQJBpgyIwhIAFzGXkHU56VhUrNVJ2dqp++XGYVv/1esDnl3QgQWZIGGnEIQIEmQ4pFMNEoAgBgkyWRVACBJlBsXGSzQUIMm1eIIYXMQGCzIhR05ENBAgybVAEhlCqgLnvZfP/DFbTlv9TTEwF7di2SPO/6a3UvWtKPTfQAwgyA5XiODcIEGS6oYrMwasCBJlerXw5502QWU5ATrelAEGmLcvCoKIgQJAZBXS6jJoAQWbU6Om4BIG4uIpKqdFKKdVaKDG5tuo3OkPVarSxzliy6GH98evYkPsRZIaclAZtLECQaePiMDQEShEgyGSJBCVAkBkUGyfZXIAg0+YFYngREyDIjBg1HdlAgCDTBkXw+BCqpDSxAsuq1Y5WtRqtrb8rVj7kIJW9e1Zp/pw+2rltcVjECDLDwkqjNhUgyLRpYRgWAgEIEGQGgMQhBwsQZLIq3ChAkOnGqjKnYAQIMoNR4xynChBkOrVyzht3fEI1VTdBZfXmSqlugsvmql6zbbET2bd3rXbtXKJdO5Zo5/ZftWn9F8rJyQjbxAkyw0ZLwzYUIMi0YVEYEgIBChBkBgjFYYUFCDJZEW4UIMh0Y1WZUzACBJnBqHGOUwUIMp1aOfuO29zPskpKU6VUb66q1VpYoaX5k5Rct8hBZ2XttsLK3TuW+oPL3TuWKDt7X0QnSZAZUW46i7IAQWaUC0D3CJRDgCCzHHhePpUg08vVd+/cCTLdW1tmVjYBgsyyeXG0swUIMp1dv2iPPrlifVU1QWWBwLJy1SNlwswDX3l52dqze6VMSGmCS7Pb0vx7X+r6aE/D6p8g0xZlYBAREiDIjBA03SAQBgGCzDCgeqFJgkwvVNl7cyTI9F7NmXHRAgSZrAwvCRBkeqnawc81NjbJd0l4gcDS7LZMSKxWZKPpaZt9uyytS8N9Oy337Fym3Nys4AcR5jMJMsMMTPO2EiDItFU5GAwCZRIgyCwTFwfnCxBkshbcKECQ6caqMqdgBAgyg1HjHKcKEGQ6tXLhGneMKlU5zHc5+P7Q0gSYlSo3VkxMhYM6zclJ1+6df2j3zqW+XZbW/Sx/U1bmznANMGztEmSGjZaGbShAkGnDojAkBAIUIMgMEIrDCgsQZLIi3ChAkOnGqjKnYAQIMoNR4xynChBkOrVy5R93XHwVVavRyvfEcP8DeI5WXFylIhrPU+rev333sfRfFr5Ue/esVF5ebvkHY4MWCDJtUASGEDEBgsyIUdMRAiEXIMgMOak3GiTI9EadvTZLgkyvVWQUcjcAACAASURBVJz5FidAkMna8JIAQab7qx0TE6sqKUcVCixNeJlcqWGRk8/K3KVdO5f67mW5f6dlNB6+E+nKEGRGWpz+oilAkBlNffpGoHwCBJnl8/Ps2QSZni29qydOkOnq8jK5MggQZJYBi0MdL0CQ6fgSFppAUnIdVa3W3P+kcBNYmieIV4hNOGii1sN3dq3Y/9Cd/J2WvystdYO7UAKcDUFmgFAc5goBgkxXlJFJeFSAINOjhS/vtAkyyyvI+XYUIMi0Y1UYUzQECDKjoU6f0RIgyIyWfPn6NcFk1ZSj/YFl/pPDE5NqFtlwetom66E7vofv+HZa2v3hO+UTKvvZBJllN+MM5woQZDq3dowcAYJM1kBQAgSZQbFxks0FCDJtXiCGFzEBgsyIUdORDQQIMm1QhFKGUCWliZKSaispua4aHHqOTGhZpepRxZ61Y+vP2r3rD99Tw3cs1Y7tvzry4TuRrgxBZqTF6S+aAgSZ0dSnbwTKJ0CQWT4/z55NkOnZ0rt64gSZri4vkyuDAEFmGbA41PECBJn2KWHVar4dlubvqinNVDnlqBIDS9/Dd/Y/KXzHr9qzc7n27P7LPhNy2EgIMh1WMIZbLgGCzHLxcTICURUgyIwqv3M7J8h0bu0YefECBJmsDgR8AgSZrAQvCRBkRr7aScn1VLVaM+uJ4VWrtfBfHl7USDLStyp17xql7ftHqXvWKHXvat+l4Tt+V052WuQH7+IeCTJdXFymdpAAQSaLAgHnChBkOrd2UR05QWZU+ek8TAIEmWGCpVnHCRBkOq5kDLgcAgSZ5cAL4NS4+MpqdNj51uXgKdWaq1qN1opPSDnozLR9G7Rj22Lt3P6L9XfqntXau3tFAD1wSKgECDJDJUk7ThAgyHRClRgjAkULEGSyMoISIMgMio2TbC5AkGnzAjG8iAkQZEaMmo5sIECQGVwRKlY+xLpvZWxsktWA+e9adY9XcqVGqlipkSpXObzYhvelrrcCy53bFlmh5Y5ti5SZsSO4gXBWyAQIMkNGSUMOECDIdECRGCICxQgQZLI0ghIgyAyKjZNsLkCQafMCMbyICRBkRoyajmwgQJD5bxHMJd9JyXWUmFRDyRUbKNF6wE5tJSbX8T9sJzG5tuLjqwZUuaysPUpLXa+9u1daYaX5s3P7YmVm7AzofA6KrABBZmS96S26AgSZ0fWndwTKI0CQWR49D59LkOnh4rt46gSZLi4uUyuTAEFmmbg42OECbg8yE5NqKjGpjhVI+kLKOkpIrK6KlRruDyrN58zHapSpkulpm5SetlkZaZuVnr5Fafs2Kj1to/alrrPCS3NpeHb2vjK1ycHRFSDIjK4/vUdWgCAzst70hkAoBQgyQ6npobYIMj1UbA9NlSDTQ8VmqiUKEGSyQLwk4MQgMy6+ihU+Wn+S6sjskvSFlL6///13bcXExAVYzjxlpG9XRvpmpadt8YWU1r/N377/zv/juww8L8B2OcwpAgSZTqkU4wyFAEFmKBRpA4HoCBBkRsfd8b0SZDq+hEygCAGCTJYFAj4BgkxWgpcEoh1kmtDRPPwmIaGa4hOqKSExxfo7PqGqEhPNbspa1g7KChXirbJUqJCgGrXbB1wic3m3tWvS7KBM36IMf0hpdlFuUEbGDuvz5qngvLwtQJDp7fp7bfYEmV6rOPN1kwBBppuqGcG5EGRGEJuuIiZAkBkxajqyuQBBps0LxPBCKlDeILNCbML+EPLgMDIhIT+UTFFCogkn84/x/R0blxzUXHKy05Sev1vSBJPp+y/x3n+Zty+49IWXublZQfXBSd4TIMj0Xs29PGOCTC9Xn7k7XYAg0+kVjNL4CTKjBE+3YRUgyAwrL407SIAg00HFYqjlFjBBZlxcsjJT0wsHjfuDx6J2S/p2T5qQMkWxsYnlGkNmxnZlZu5UVsYu39+Zvr/NA3Gsz2VsV4b5O32bMjK2KTN9u7KzU8vVJycjUJQAQSbrwksCBJleqjZzdZsAQWYAFT3ssMYaM3a8WrZqrXVr12rI4Fu18KcFAZzp3kMIMt1bWy/PjCDTy9Vn7gUFCDJZD9EQMIFghQqJqhCbqNjYBFWITbJCQnMpdWxskvVxs/vR/Dv/475jEvafl1DisM3l2TVqtrN2QVp/YpMVF1dRcfGVyz3djPSt/hDSF0TuUpYJIvcHkwXDSfPvLBNUZu5SdtbecvdNAwiESoAgM1SStOMEAYJMJ1SJMSJQtABBZgAr482339fs2bP0zISndOppp2vEyAd14vEdlZ3t3Ut1CDIDWDgc4jgBgkzHlYwBh0mAIDNMsDZu1gR6vgAxaX9w6AsUfR/zBYzW3/n/bf72h477jy3hmAoV4hQbV9HfRsH24uOr2ELGPNDG7ILMDx0PDh/375i0AkoTRvoCSZ7MbYvyMYgQCBBkhgCRJhwjQJDpmFIxUAQOEiDILGVR1KxVS3Pmzleblk2VnZ1tHf3RJzM1csRwff/9PM8uKYJMz5be1RMnyHR1eZlcGQQIMsuAFaFDa9U93rqMOS52/27CuErW5dD54aMvZMwPIffvWMzf1VjB7G7cH1JaOxpNMGl2OCZYOxLt9DI7FHNzM5WTk66cnAzl5mQq1/w71/ydYX3cfCwn13xu/7/9H8/wn2sdY87PNeeYYzOUk73PasfcX9L6k5NmhZAJlZIVExOjvdt52I2d1gJjibwAQWbkzekxegIEmdGzp2cEyitAkFmKYPsOHfXgw4/pzNNO9h85fsJzmjd3jqZOmaz/HDdCUozvczH7/y7QZkz+5w76/L/HFj4m/+SCbRV3bHHH7G+j0HiKObaIMfvn45uUfzbmTX7+KzY+SXk52crNzfEfU7ipovsrrr1/yYrur7gx5ZsXli+m7wID/Ne8wLGF/ll6G/ljKrbvIvsrYFqkvWm14EACWAf+JRPAsf4+D16rviVact2KXquF10nxNc5vu2CNC34BltJ3MV6F1kZpNS60ng/uO6ZCBWs95+XmFvqaLjTvQqcV87Xp76foWpa+ZgL5mi/4VVOEXTG1LNR3EccEsv4KyxX1/a+47zf/nml2Y/FCAAH7CJiwL8+EfFZAmGkFgiYE9IWK5nNZvs9ZgeK/n/MFhmnKy8sp8tz80NE63woWC7RdoB/zuWi9EpLNpeUxykzbE60h0C8CthBIrlpLmft2KcfDV53ZohAMIiIC8YkVVSEuXhmpuyLSH53YXyB1x0b7D5IRWgIEmaUshJO6dNXgO4bq/O5n+o8cPeZJ/bF0iV584Tld9H+bWEoIIIAAAh4VMKHMv6+8IhXy8gp+vKhjiv584fMKNp1//L/nFepCxfXn+3ihEZQ6tn/PKH0ehVsv/fgC4y84qsID3D/x4oyKcjlolvvnXaCNAOadlz+mAI4tqFp03YoZf5HzLvrY3Lwc3w5EK0zM2B8amr/TrZDRCgjzfH+bQPLff5uPZSk3zwSI+48zx+w/1oSQvBBAAAEEEEAAAa8LbFrxs9cJHDN/gsxSSnVs+w4a/fhYdeva2X/k8y++ollffVlgR6bvU/4fegr+qFj4p0t/G4WOLeaHpH9/iCr9B7Wi2yv4Q2LBn7VL+SG3mDEX/EEtLjFZudlZys3JUtE/rAb5A3YAPzCW1p8KtFE4Mihm3vuPL7J+B/w8XHqNizEv9MNqfphQ8ngOXJql17joEKWgR34NA1l/hVad37QsP4wfGCbsn3exNS5tzQQZ9hRaDyWv/YSkytYu46yM/B/sDw6MCq+vks2LXVNFrIeDo5f9bZf2/cE68eBxFL+ei6thfl4USI2Lcyzie2EZ6m3CGV72EKhYrY7Sd2/bv+veHmNiFAiES4AdmeGSpV2nCbAj02kVY7zlEWBHZnn03HkuOzKdU1eCzFJqVaNGDc37YaHatj5a6enp1tGzZs/VkMGD9OP8H5xT6RCPlHtkhhiU5mwhwD0ybVEGBmEDAe6RaYMiMISICVSqXo97ZEZMm47sLMA9Mu1cHcYWagHukRlqUdpDIHICBJkBWL8+9Q3Nn/+9Jowfp+7nnqchdwxV15M6+R/+E0ATrjuEINN1JWVCkggyWQYI+AQIMlkJXhIgyPRStZlrSQIEmawPLwkQZHqp2szVbQIEmQFUtEHDhho7boLatGmrNWtW6/ZBA/XrL4sDONO9hxBkure2Xp4ZQaaXq8/cCwoQZLIevCRAkOmlajNXgkzWAAI+AYJMVgICzhUgyHRu7aI6coLMqPLTeZgECDLDBEuzjhMgyHRcyRhwOQQIMsuBx6muEmBHpqvKyWRKESDIZIkg4FwBgkzn1i6qIyfIjCo/nYdJgCAzTLA06zgBgkzHlYwBl0OAILMceJzqKgGCTFeVk8kQZLIGEHCtAEGma0sb3okRZIbXl9ajI0CQGR13erWfAEGm/WrCiMInQJAZPltadpYAQaaz6sVoyyfAjszy+XE2AtEUIMiMpr6D+ybIdHDxGHqxAgSZLA4EfAIEmawELwkQZHqp2sy1JAGCTNaHlwQIMr1UbebqNgGCTLdVNELzIciMEDTdRFSAIDOi3HRmYwGCTBsXh6GFXIAgM+SkNOhQAYJMhxaOYQclQJAZFBsnIWALAYJMW5TBeYMgyHRezRhx6QIEmaUbcYQ3BAgyvVFnZukTIMhkJSDgEyDIZCV4SYAg00vVZq5uEyDIdFtFIzQfgswIQdNNRAUIMiPKTWc2FiDItHFxGFrIBQgyQ05Kgw4VIMh0aOEYdlACBJlBsXESArYQIMi0RRmcNwiCTOfVjBGXLkCQWboRR3hDgCDTG3Vmlj4BgkxWAgI+AYJMVoKXBAgyvVRt5uo2AYJMt1U0QvMhyIwQNN1EVIAgM6LcdGZjAYJMGxeHoYVcgCAz5KQ06FABgkyHFo5hByVAkBkUGychYAsBgkxblMF5gyDIdF7NGHHpAgSZpRtxhDcECDK9UWdm6RMgyGQlIOATIMhkJXhJgCDTS9Vmrm4TIMh0W0UjNB+CzAhB001EBQgyI8pNZzYWIMi0cXEYWsgFCDJDTkqDDhUgyHRo4Rh2UAIEmUGxcRICthAgyLRFGRgEAggggAACCCCAAAIIIIAAAggggAACCJQkQJDJ+kAAAQQQQAABBBBAAAEEEEAAAQQQQAAB2wsQZNq+RAwQAQQQQAABBBBAAAEEEEAAAQQQQAABBAgyWQMIIIAAAggggAACCCCAAAIIIIAAAgggYHsBgkzblyi4Ad4+5C71/99A5ebmFmpgQP+b9OEH7xXb6AsvvaqPP/pA77z9ZokdV65SRQ89PEpdT+6mrKxMTXr1FY0bO8Y657DDGmvM2PFq2aq11q1dqyGDb9XCnxZYnxtwyyD939XXKiEhUd/M/lp3Dhmk1NRUJSUl6dFRY3TaaWdoX9o+jRn9mKZOmRzc5DnLtQJmXf9vwC068YQOWvv33/551q1bT9//+LMmPDVOox97OOj5B7uuzzjzLN01dJjq1KmrpUuX6I4ht2nFX3+yroOuBCeWReCeYffp0suv0Fmnd9OGDRvKcmqRxzZp2tT6/t6iRUtt3rJZDz0wQjM//8w69uRup2rEyAettW6+rw8c0E9bt2xRsF875R4sDbhe4MSTuuj1qW/o9kED9caMaYXmO2v2XG3fvl0XX3heSByKe49S0vua4r7/mwHd3H+gbujVR/HxcXrv3Xc0fNhQ5eTkhGSsNOJtgZEPPqIrr7pasbGx6tThGP3zT/m/9wf7Pp2vAW+vxUjOvlbt2pq/YLEqVKigGdOmWj9jFvdq0bKVnn3+JXXpfNxBhwSzZnmfE8lK0xcCpQsQZJZu5MgjTOBTp3adEr/BFzWxQIPM+0c+pBo1a+n2QQNUs1YtvffBJ7q5b2/98MN3evPt9zV79iw9M+EpnXra6dYPvSce31Gnn3GmBg+5U1dcdon27t2j51+cqPnzv9eTTzyu2wffqZatWql/vz6qW6++3njzXf338ku0bNkfjvRn0OERMOv64kt6asrkSRo/bqy/kxt79VHvvv00Y/q0gINM8ybowKA/mHVdq1YtfTHrG1191RVa9PNCDbr9DrVv30GXX3oR6zo8y4BWCwiYH2K/mDVHb0yfppiYGE146sky+ZjzDwxWPv9ytqZNmayJr7ykLl1O1tPPvahj27ZUfHyC5sybr/79euu7efN05113q0HDhurXt5eC+drJzs4q01g52JsCJsgc9fhYrVyxQlde0dOPYH5Z+sqrk61faoUiyDz7nHOLfY9S3Puakr7/dz7xJI0aPVaX9rxAO3fu1CsTJ+uD99+1fvHLC4FQCaxZtylkQWZJXwPFvU/ftWtXse+B+BoIVZVp50CBWwcNVv36DYIKMuvVqx/UmuV9DusQAXsJEGTaqx4hG01pQabZ1XbRxT2Vl5enud/O0f0j7lVWVpZMkLlixZ/q2rWbatepY+2avGPwIOtzBV8mlDQ7z8yOS/N68eVJmjnzU30x83PNmTtfbVo2VXZ2tvW5jz6ZqZEjhmvfvn2KT4jXTwt+tD5uwqdWrdvolgE368tZ3+r22wbq54U/WZ+7594RVtg5dszokJnQkPMF8td1u2Pb67RTTvJP6L0PP9XqVSu1du1aK8isXr26nnjyKR15VBNViKmgF194Tq+8/IJ1/JI/Vlg7N/v2u1nHtW9rrcv8VzDrevXqVWp7TDt9+slHVjPmh+uXXplk/WDBunb+mrP7DE459XSde975euyRh/TalOk6/ZQu/iEvWbZS4598wto5X7duXb0+eZL1tWC+745+fKz1iyLzhv6ynhf6z4mLi1PPSy+3dr7lfw//bemf6n7W6Wrd5j/Wzs+rr7zcOr5Klapa8POvat2iidVHWf+f8P338+zOy/hsIGCCzD59b9YRRxypC84/R1u2bLZGNfTue1W3Xj01anSIFWSaIH/Y8Pt1xhlnWbt1vvturvX+5c677lFiYqKG3XOXdV5KSjXN/2mxju94jLWbM//Vpk3bIt+jjLx/eLHva0r6/v/AQ49qw/r1enrCOKuL004/Q71631To680GvAzB4QL5QWa9+vU15olx6ta1szWjY9od6//v62/opebNWygxKUmHHtZYcbGx6tP7eq1ft67Q7Iv7Gijpffq0Ka8X+x6IrwGHLy4bD79gkDnp9Wl6c8Y0vf/eu9aI8//7r7/+KnJHpnnfU9z79pLWbDA/I/A+x8aLiKE5XoAg0/ElLHoCJQWZZjv9kDvu1oU9umvfvlQ989xL+m7eXCvoMUFmw4YNdWnPC5WTna33P/pME8Y/qXffeatYKbPV/quvv7V2UFarVl0PPvyYzjztZP/x4yc8p3lz5xx0qfjESa/rs08/sT6+YvU6Hdu2lbVrwbzM5TLHdTpe5lJ4XgjkC5h1nZGRrnPOOVe3DRqoJb//pkMPPUzPvzRRn33ysWLj4qwg0wThKVWravDtt6rRIYfoq6/n6qQTOmrTpo1a/NsyzZg2RQ89eL8V5Bf3CnZd9+3X37ok16xd1jVrN9wCzzz3ohVQfjvnG02d/pYeeWikFi9eZHVrAsiJL7+k0aMesS4Fn/3t9zq124mqWqWq3nn/Yw25/RZ98H7xtxoxbbRte4yefeFlnXDcsbq5/wCZy7qGD7vbPy0TZPa8qIdWrVrp/1iwXzvhtqJ9ZwqYILPfzQP0xx9LtX7dWr304vNWaPnN3B/06MMP6rrrb7SCTBMU3nnXMHU/+zTre7t5//L0U09q5cqVmvTaVHVs/x8rnL/4kkvV48KL/IF8cSr571H+/HN5wO9rCn7/N5fDvzZpov+XXEcceZSmzXhLHY/9jzMLwahtKRBIkHnNdTfIBD/mF13mFwEPPTJKO3bs0KhHHypxTsG8T+drwJbLxHWDKk+QeSBGMGuW9zmuW1JMyIECBJkOLFogQzaBT6/efbV3z55Ch1915WUyv5k1l2g98/R463NmR0+fvv2sXQImyDT3Pcv/3JA7h6pK5Sr+nQwH9m3ubfncCy/r558XWrsnT+rSVYPvGKrzu5/pP3T0mCf1x9Il1k6g/Nctg25Xx46ddNV/L1WFCrFW4HN0k8ZKS0uzDrmk52U66+zuuvH6qwOZLsd4RCA/yMzMzFTNGjWtMNLsLs7NzVNCQoI/yDS7ysyf9PR0S2bWN/Os+6uZ3cCLfv1D111zpX/3b1F0wa5rs5P5gYcf1SUXnq9t27axrj2yLqM1TbOzzOx473LicdZtEi697Aq1atVa9w4bag3JBJmX9bxIv//2q/Xf5vLYl196wbp/qwl5mjc9/KDbKxScyyGHHqpJk6dp2N13WkGp+d4eHxdnfd3lv+Z+t0C9e13n7yPYr51oGdKv/QXyg8xHH35AIx961Hp/0b5DRw285TbrVgqDzS1H9u/IrFixonXfbfN6+NHRVvD51PgnrV+2jhg+zLrtjXmfM/PzTzVj+tRiJ1/wPYq5PDaQ9zUFv/+bX5q9/e6H1i1QZn31hdVPw0aN9PnMr9Wy+VH2R2eEjhEINMg86aSu/vfU113fS63btNGgW/4X0NdAoO/T+RpwzLJx/EBDFWQGs2Z5n+P45cMEXCJAkOmSQh44DRP4HHroodYl3QVfO3Zs1wsvTdQx7dpr3/43+xViK1gPazj3nDMOeoPf56ab1bJlqyJ3RlatmqKXJ75m7eZ8fPSjVjfHtu9gXbKYf2mL+djzL76iWV99ae28NLso7rv/ATU+/Ajd1PsG/2W9Jsjs1KGd/5Ix8ybrmHbt2JHp0vUZ7LTyg8w3Z0y3fkg8odOx+nTmLN1w3f+pZ8/L/UGmuQT2ttuHWPdxNQGPuaTKhOY/zv/BCjIvPP+cQjvICo4nmHVtzu9xwUW65dbbdN01V8lcbmherOtgK815gQhcfc111qW0ZpeyecUoRplZWerQro3M/SdNkHnWGaf4bwGSv7vG/LLKXIZe0s4w8zXz3IuvaMTwe/TlFzOt9s0D5Bo0bKShdw72D++X35epx7lnW19PwX7tBDJXjvGuQH6Qaa76+HrOd7ru6iutXZi//LJY69at9QeZNWvW1NB7huuoJk2tHZmHNDpEEye+ZN1eYeCtt1kPIrz7riH6ceEv6typg3bt8l0BUvBV1HuU0t7XFPf9f/KUGZoxfYr/ckfzNfXq5KnsyPTuUg7LzAMNMtu1O1YD/9fPGoPZoVnwv0v7Ggjk/UxR74H4GghLyWlUsnYY598js6yXlucDBrNmeZ/D8kPAPgIEmfapRUhHUtKl5Y+NekLLli21Ls868GV2Ksz/4Tu98Pyz1qfMLoTKlSsVupTQfNzcb2rKtDf14Qfv++89aD5eo0YNzfthodq2Pvrf3XCz52rI4EFWiGQu+TX3JjH32yn4oAfzcIl777lL33/nu2eauezFPIHR/ADCC4F8gfwg06yLGW+9KxNoXvHfq6zbJJg3NfmXlpsdmM8+85SmT51inWouQbzt1gH+IPOC8872h40FdYNd1+Z2DbcNvlNXXXGpP4w37bKuWbvhFDD3hr3v3rsL7S429yt+Y8ZU67YdJsg0D1f79ZfF1jDeee8jPffs01q1coV1Dylzj9iiXuZ2DZOnzrB26yz4cb7/EPMgiGuvv0GXXeK7p6a5XN18bZl7ZJp7Egbz/4Rw+tC2OwQKBpmDbhuizMwMXfHf/9OZZ3SzdiDn78g0OzDNzvwht99qPcDKvNdZu+5v631E48aHW7uXh941WD0uuFjXX3tVkThFvUcp7X1Ncd//zYMhzOW7T4wZZfV1fo8LdPkVV1m34eGFQLACZ551jtasXmXdasG8Z1m+4m+1adlMjRs31tjxT6tblxOsps0VUmYNmo0FBwaXJQWZwbxP52sg2GpyXqAC5v2GeYCs2RRjXncOvUdmZ+R9994j80vad95+U++9+471ObPRYeIrL6q4e2SaY4JZs8H+jBDoHDkOAQTKJkCQWTYvxxxdUpBpblZsLsm67NKLlLp3r/575f9ZD/MxD3cwQaZ5Cqd54rJ5ffDx59Yl4x9/9EGhuZvLrmrXrmPtbjjwZe4LZZ5GPmH8OHU/9zwNuWOoup7USe3bd9SIBx5S97NO8z9EIv9cc3mwuVTspj43Wvc8nDrjbetSsZUr/nKMOQMNv0DBINPcR3XALYP0zISnrDcsBYNMs+vy/668zApwLrzoEj3w4CO6+abe+vrrr6wdmcUFmcGs60qVKuuzL2ap58U9rKfnFnyxrsO/Jrzaw1FNmlj3xDS7Kgve69VcXm7uFdj7xuusIPONGdOtXZXm+6oJ1rt0Ps56GFZJQeb0N97R5NcmHnT/zEqVK2vOtz9o4IB+1i+d7r1vpKpUqWL9YiqYr538hwl5tYbMOzCBgkGmuc/k1OlvatHPC9Wn1/XqdPwJ/iDz2edf0k8/LdALzz2j5i1a6oUXJ+rDD9/TIw894Hs/89FnqlWrth579CHrh94DX506nVDse5Ti3teU9P2/Q8fjNG78M7rk4vO1d89eaxf065Nf9f+CLbDZcxQChQXuvme4mjZrpn59e1lXgvTqc5MVXtatW8+6jY550ODu3busWyt06nR8mYLMkr4Gins/s23r1mLfA/E1wOoNlYB53/Ld/J+t2yOY2+XMeOs9PTXuCSu8fOSxx7V161brHvnml1bmSi1zD/DigkxzW57i3reXtGZ5nxOqatIOAqERIMgMjaPtWintqeXmEsGLe16m+Lh4rVy1QoMH3WI9COXliZOt/0F0Obmb6ux/arkJKw/8gfO7HxaqTt061r0J81/mpvb33zdMDRo21NhxE2SefrhmzWrr3oQmUBozdrwuuPBia6dE/mv5sj/U/ezTFR8fb73pOvvs7krdl2rdwP+tN2fYzpUBRVegYJBZrZp58uwv1uXl5tYIBYNMc8ltv/4DtGfPHk2f+rqqVa+hnpdeZu3c/PjTL4sNMoNZ1yY4emz0E9YvAwq+Oh7bRnv37mVdR3fJuLZ3sxvBXOJU8DJvM1mze8y8/2UCPQAADHBJREFU2e/Uoa3mzJtv3aPPPNzEBI7PTBivSa++ombNji42yDT3xfx23o8y96Et+Orfr48++/RjndD5RGvHvPmh+Yfv5+nWgf2tXWfBfO24tjhMLKQCBYNM07DZWTnhqXHWL1gLBpnmEvAnnnxKWZlZWrRooT7/7BOZe3SbNfrFzM91Y68+GnLn3WrXtuVB9w837Zb0HqW49zUlff83XxemT/OgoviEeOuXCiNH3FviQ+ZCCkdjrhSoUqWq9R7bfC9eu/ZvDbntFi1a9LM113uG3adTTz/Dup3IV19+Ye2g73pip4B3ZAbzPp2vAVcuM1tO6rzze1i3D6lcubLeffstDb/3buv2UU2bNtP4p5+zbpn25/LlSqmWok8+/kjLly8r8qnlwa5Z3ufYclkwKA8LEGR6uPhMHQEEEEDAvQJmR+Zp3bpo48Z/3DtJZoZAgAI9LrhQ5rJcs5ONFwIIIIAAAggggIBzBQgynVs7Ro4AAggggECxAibIPP2Urtb9hnkh4GWBylWq6K13PtCwu+/U/B++9zIFc0cAAQQQQAABBBwvQJDp+BIyAQQQQAABBA4WIMhkVSAgnXnW2Xp01BOaPGmiRo96BBIEEEAAAQQQQAABhwsQZDq8gAwfAQQQQAABBBBAAAEEEEAAAQQQQAABLwgQZHqhyswRAQQQQAABBBBAAAEEEEAAAQQQQAABhwsQZDq8gAwfAQQQQAABBBBAAAEEEEAAAQQQQAABLwgQZHqhyswRAQQQQAABBBBAAAEEEEAAAQQQQAABhwsQZDq8gAwfAQQQQAABBBBAAAEEEEAAAQQQQAABLwgQZHqhyswRAQQQQAABBBBAAAEEEEAAAQQQQAABhwsQZDq8gAwfAQQQQAABBBBAAAEEEEAAAQQQQAABLwgQZHqhyswRAQQQQAABBBBAAAEEEEAAAQQQQAABhwsQZDq8gAwfAQQQQAABBBBAAAEEEEAAAQQQQAABLwgQZHqhyswRAQQQQAABBBBAAAEEEEAAAQQQQAABhwsQZDq8gAwfAQQQQAABBBBAAAEEEEAAAQQQQAABLwgQZHqhyswRAQQQQAABBBBAAAEEEEAAAQQQQAABhwsQZDq8gAwfAQQQQAABBBBAAAEEEEAAAQQQQAABLwgQZHqhyswRAQQQQAABBBBAAAEEEEAAAQQQQAABhwsQZDq8gAwfAQQQQAABBBBAAAEEEEAAAQQQQAABLwgQZHqhyswRAQQQQAABBDwvULt2HS34+Ve/Q2ZmptatW6uvvvxCT08Yp21btwZklJycrAsvukRTXn8toOM5CAEEEEAAAQQQQACBUAkQZIZKknYQQAABBBBAAAEbC+QHmddefaX+WLpEVatWVdNmzdR/wK2qXr26LuzRXevXrSt1Biee1EV33nWPzj3njFKP5QAEEEAAAQQQQAABBEIpQJAZSk3aQgABBBBAAAEEbCqQH2Sed86Z+uWXRf5RxsXF65PPv9TqVavU64ZrrI9fdHFP9f/fQDU65FBt3bJFLzz/rF55+QWZEHPipCmKjY1Venq6zut+hv76809dc90N6tOnn6rXqKFVK1do1GOPaNZXX9hUgmEhgAACCCCAAAIIOFWAINOplWPcCCCAAAIIIIBAGQSKCzJNEz0uuEhjxo5Tq+ZNVL9+A301e6769LpOs776Uu3atdfr02booh7navHiRbrhxt7WpeX5OzK7nXKaRj3+hK675iotXfK7Tu52ip5+9kWdcWpXrV69qgwj5FAEEEAAAQQQQAABBEoWIMhkhSCAAAIIIIAAAh4QKCnIbNGylT757Et169pZa1avUs2atbR58ya/yudfztakiS9r8muvHhRkTpz0uhYvWqQnxozyH//q5KlatHBhoY95gJgpIoAAAggggAACCIRZgCAzzMA0jwACCCCAAAII2EGgpCCzeYuW+vTzr9T5+PbWfTL73tRfPS64UCkp1ZSXl6c6devq4Qfv10svPn9QkDnrm3k64ogjD5rim29M1223DrDD1BkDAggggAACCCCAgEsECDJdUkimgQACCCCAAAIIlCRQUpB52RX/1fD7HlCbls100SU9rYf5XHf1f61Lyc3r40+/0FtvzigyyPzq62/1+uRJ1ud4IYAAAggggAACCCAQTgGCzHDq0jYCCCCAAAIIIGATgeKCzKSkJH30yRdauHCBBt92i0aNfkIJiYka+L9+1sgrV6mi+QsW6/FRjxQZZL48cbK2bd2iwbff6p9pg4YNtfGff5Sbm2uT2TMMBBBAAAEEEEAAATcIEGS6oYrMAQEEEEAAAQQQKEUgP8i89uor9cfSJYqPj1ezo4/WwFtuU/XqNXT+uWdq27ZtunXQYJ17Xg/1OP9sxcfF6dFRY9SkSVPN/PwzPfTg/bryqqs14JZBOvuMU5SamqoTOp+kZ557UX17Xa85c2br2PYd9PLE16yH//w4/wfqggACCCCAAAIIIIBAyAQIMkNGSUMIIIAAAggggIB9BfKDzPwR5uTkaNPGjfr880/05BOPa/v27danqlevrgnPvKC2x7TTPxs2aOT9w1W/fn3de99IjRn9qD766ANNf+Md67jrr/0/zf/he113fS/16t1XtevU0bp1azVh/JMy98jkhQACCCCAAAIIIIBAKAUIMkOpSVsIIIAAAggggAACCCCAAAIIIIAAAgggEBYBgsywsNIoAggggAACCCCAAAIIIIAAAggggAACCIRSgCAzlJq0hQACCCCAAAIIIIAAAggggAACCCCAAAJhESDIDAsrjSKAAAIIIIAAAggggAACCCCAAAIIIIBAKAUIMkOpSVsIIIAAAggggAACCCCAAAIIIIAAAgggEBYBgsywsNIoAggggAACCCCAAAIIIIAAAggggAACCIRSgCAzlJq0hQACCCCAAAIIIIAAAggggAACCCCAAAJhESDIDAsrjSKAAAIIIIAAAggggAACCCCAAAIIIIBAKAUIMkOpSVsIIIAAAggggAACCCCAAAIIIIAAAgggEBYBgsywsNIoAggggAACCCCAAAIIIIAAAggggAACCIRSgCAzlJq0hQACCCCAAAIIIIAAAggggAACCCCAAAJhESDIDAsrjSKAAAIIIIAAAggggAACCCCAAAIIIIBAKAUIMkOpSVsIIIAAAggggAACCCCAAAIIIIAAAgggEBYBgsywsNIoAggggAACCCCAAAIIIIAAAggggAACCIRSgCAzlJq0hQACCCCAAAIIIIAAAggggAACCCCAAAJhESDIDAsrjSKAAAIIIIAAAggggAACCCCAAAIIIIBAKAUIMkOpSVsIIIAAAggggAACCCCAAAIIIIAAAgggEBYBgsywsNIoAggggAACCCCAAAIIIIAAAggggAACCIRSgCAzlJq0hQACCCCAAAIIIIAAAggggAACCCCAAAJhESDIDAsrjSKAAAIIIIAAAggggAACCCCAAAIIIIBAKAUIMkOpSVsIIIAAAggggAACCCCAAAIIIIAAAgggEBYBgsywsNIoAggggAACCCCAAAIIIIAAAggggAACCIRSgCAzlJq0hQACCCCAAAIIIIAAAggggAACCCCAAAJhESDIDAsrjSKAAAIIIIAAAggggAACCCCAAAIIIIBAKAUIMkOpSVsIIIAAAggggAACCCCAAAIIIIAAAgggEBYBgsywsNIoAggggAACCCCAAAIIIIAAAggggAACCIRSgCAzlJq0hQACCCCAAAIIIIAAAggggAACCCCAAAJhESDIDAsrjSKAAAIIIIAAAggggAACCCCAAAIIIIBAKAUIMkOpSVsIIIAAAggggAACCCCAAAIIIIAAAgggEBYBgsywsNIoAggggAACCCCAAAIIIIAAAggggAACCIRSgCAzlJq0hQACCCCAAAIIIIAAAggggAACCCCAAAJhESDIDAsrjSKAAAIIIIAAAggggAACCCCAAAIIIIBAKAUIMkOpSVsIIIAAAggggAACCCCAAAIIIIAAAgggEBYBgsywsNIoAggggAACCCCAAAIIIIAAAggggAACCIRSgCAzlJq0hQACCCCAAAIIIIAAAggggAACCCCAAAJhESDIDAsrjSKAAAIIIIAAAggggAACCCCAAAIIIIBAKAUIMkOpSVsIIIAAAggggAACCCCAAAIIIIAAAgggEBYBgsywsNIoAggggAACCCCAAAIIIIAAAggggAACCIRSgCAzlJq0hQACCCCAAAIIIIAAAggggAACCCCAAAJhEfh/nAr8Kv1U0+UAAAAASUVORK5CYII=",
>>>>>>> 36cf975a9ce5a6f6aa44f533a397d2773c0cbe49
      "text/html": [
       "<div>\n",
       "        \n",
       "        \n",
<<<<<<< HEAD
       "            <div id=\"7e19d3b3-1ca3-4c41-b525-4888c92665c1\" class=\"plotly-graph-div\" style=\"height:525px; width:100%;\"></div>\n",
=======
       "            <div id=\"79316ed4-141e-441e-a7e9-989c68dfd46b\" class=\"plotly-graph-div\" style=\"height:525px; width:100%;\"></div>\n",
>>>>>>> 36cf975a9ce5a6f6aa44f533a397d2773c0cbe49
       "            <script type=\"text/javascript\">\n",
       "                require([\"plotly\"], function(Plotly) {\n",
       "                    window.PLOTLYENV=window.PLOTLYENV || {};\n",
       "                    \n",
<<<<<<< HEAD
       "                if (document.getElementById(\"7e19d3b3-1ca3-4c41-b525-4888c92665c1\")) {\n",
       "                    Plotly.newPlot(\n",
       "                        '7e19d3b3-1ca3-4c41-b525-4888c92665c1',\n",
       "                        [{\"hovertemplate\": \"variable=Total<br>Date=%{x}<br>value=%{y}<extra></extra>\", \"legendgroup\": \"Total\", \"line\": {\"color\": \"#636efa\", \"dash\": \"solid\"}, \"mode\": \"lines\", \"name\": \"Total\", \"orientation\": \"v\", \"showlegend\": true, \"type\": \"scatter\", \"x\": [\"2020-02-16T00:00:00\", \"2020-02-17T00:00:00\", \"2020-02-18T00:00:00\", \"2020-02-19T00:00:00\", \"2020-02-20T00:00:00\", \"2020-02-21T00:00:00\", \"2020-02-22T00:00:00\", \"2020-02-23T00:00:00\", \"2020-02-24T00:00:00\", \"2020-02-25T00:00:00\", \"2020-02-26T00:00:00\", \"2020-02-27T00:00:00\", \"2020-02-28T00:00:00\", \"2020-02-29T00:00:00\", \"2020-03-01T00:00:00\", \"2020-03-02T00:00:00\", \"2020-03-03T00:00:00\", \"2020-03-04T00:00:00\", \"2020-03-05T00:00:00\", \"2020-03-06T00:00:00\", \"2020-03-07T00:00:00\", \"2020-03-08T00:00:00\", \"2020-03-09T00:00:00\", \"2020-03-10T00:00:00\", \"2020-03-11T00:00:00\", \"2020-03-12T00:00:00\", \"2020-03-13T00:00:00\", \"2020-03-14T00:00:00\", \"2020-03-15T00:00:00\", \"2020-03-16T00:00:00\", \"2020-03-17T00:00:00\", \"2020-03-18T00:00:00\", \"2020-03-19T00:00:00\", \"2020-03-20T00:00:00\", \"2020-03-21T00:00:00\", \"2020-03-22T00:00:00\", \"2020-03-23T00:00:00\", \"2020-03-24T00:00:00\", \"2020-03-25T00:00:00\", \"2020-03-26T00:00:00\", \"2020-03-27T00:00:00\", \"2020-03-28T00:00:00\", \"2020-03-29T00:00:00\", \"2020-03-30T00:00:00\", \"2020-03-31T00:00:00\", \"2020-04-01T00:00:00\", \"2020-04-02T00:00:00\", \"2020-04-03T00:00:00\", \"2020-04-04T00:00:00\", \"2020-04-05T00:00:00\", \"2020-04-06T00:00:00\", \"2020-04-07T00:00:00\", \"2020-04-08T00:00:00\", \"2020-04-09T00:00:00\", \"2020-04-10T00:00:00\", \"2020-04-11T00:00:00\", \"2020-04-12T00:00:00\", \"2020-04-13T00:00:00\", \"2020-04-14T00:00:00\", \"2020-04-15T00:00:00\", \"2020-04-16T00:00:00\", \"2020-04-17T00:00:00\", \"2020-04-18T00:00:00\", \"2020-04-19T00:00:00\", \"2020-04-20T00:00:00\", \"2020-04-21T00:00:00\", \"2020-04-22T00:00:00\", \"2020-04-23T00:00:00\", \"2020-04-24T00:00:00\", \"2020-04-25T00:00:00\", \"2020-04-26T00:00:00\", \"2020-04-27T00:00:00\", \"2020-04-28T00:00:00\", \"2020-04-29T00:00:00\", \"2020-04-30T00:00:00\", \"2020-05-01T00:00:00\", \"2020-05-02T00:00:00\", \"2020-05-03T00:00:00\", \"2020-05-04T00:00:00\", \"2020-05-05T00:00:00\", \"2020-05-06T00:00:00\", \"2020-05-07T00:00:00\", \"2020-05-08T00:00:00\", \"2020-05-09T00:00:00\", \"2020-05-10T00:00:00\", \"2020-05-11T00:00:00\", \"2020-05-12T00:00:00\", \"2020-05-13T00:00:00\", \"2020-05-14T00:00:00\", \"2020-05-15T00:00:00\", \"2020-05-16T00:00:00\", \"2020-05-17T00:00:00\", \"2020-05-18T00:00:00\", \"2020-05-19T00:00:00\", \"2020-05-20T00:00:00\", \"2020-05-21T00:00:00\", \"2020-05-22T00:00:00\", \"2020-05-23T00:00:00\", \"2020-05-24T00:00:00\", \"2020-05-25T00:00:00\", \"2020-05-26T00:00:00\", \"2020-05-27T00:00:00\", \"2020-05-28T00:00:00\", \"2020-05-29T00:00:00\", \"2020-05-30T00:00:00\", \"2020-05-31T00:00:00\", \"2020-06-01T00:00:00\", \"2020-06-02T00:00:00\", \"2020-06-03T00:00:00\", \"2020-06-04T00:00:00\", \"2020-06-05T00:00:00\", \"2020-06-06T00:00:00\", \"2020-06-07T00:00:00\", \"2020-06-08T00:00:00\", \"2020-06-09T00:00:00\", \"2020-06-10T00:00:00\", \"2020-06-11T00:00:00\", \"2020-06-12T00:00:00\", \"2020-06-13T00:00:00\", \"2020-06-14T00:00:00\", \"2020-06-15T00:00:00\", \"2020-06-16T00:00:00\", \"2020-06-17T00:00:00\", \"2020-06-18T00:00:00\", \"2020-06-19T00:00:00\", \"2020-06-20T00:00:00\", \"2020-06-21T00:00:00\", \"2020-06-22T00:00:00\", \"2020-06-23T00:00:00\", \"2020-06-24T00:00:00\", \"2020-06-25T00:00:00\", \"2020-06-26T00:00:00\", \"2020-06-27T00:00:00\", \"2020-06-28T00:00:00\", \"2020-06-29T00:00:00\", \"2020-06-30T00:00:00\", \"2020-07-01T00:00:00\", \"2020-07-02T00:00:00\", \"2020-07-03T00:00:00\", \"2020-07-04T00:00:00\", \"2020-07-05T00:00:00\", \"2020-07-06T00:00:00\", \"2020-07-07T00:00:00\", \"2020-07-08T00:00:00\", \"2020-07-09T00:00:00\", \"2020-07-10T00:00:00\", \"2020-07-11T00:00:00\", \"2020-07-12T00:00:00\", \"2020-07-13T00:00:00\", \"2020-07-14T00:00:00\", \"2020-07-15T00:00:00\", \"2020-07-16T00:00:00\", \"2020-07-17T00:00:00\", \"2020-07-18T00:00:00\", \"2020-07-19T00:00:00\", \"2020-07-20T00:00:00\", \"2020-07-21T00:00:00\", \"2020-07-22T00:00:00\", \"2020-07-23T00:00:00\"], \"xaxis\": \"x\", \"y\": [3, 3, 3, 3, 3, 3, 3, 3, 3, 3, 3, 3, 3, 3, 3, 3, 3, 3, 3, 3, 3, 3, 3, 4, 4, 4, 4, 4, 13, 13, 14, 14, 15, 20, 23, 27, 27, 40, 43, 45, 73, 84, 95, 102, 123, 148, 191, 192, 229, 229, 375, 421, 506, 620, 774, 969, 1080, 1181, 1359, 1432, 1768, 2041, 2463, 2854, 3273, 3975, 4370, 5012, 5498, 5939, 6523, 7137, 7747, 8437, 9068, 10007, 10819, 11775, 12847, 14142, 15331, 16776, 17887, 19301, 20969, 22549, 24420, 26400, 27969, 30258, 34224, 36795, 39233, 42309, 45422, 48553, 51824, 54385, 57692, 60706, 64277, 67749, 70920, 82627, 86936, 91852, 95754, 100285, 104071, 108450, 113233, 118695, 123848, 129095, 134670, 135206, 147195, 154330, 162379, 169798, 180013, 186935, 194325, 204711, 213831, 227728, 237196, 248190, 258685, 271697, 285637, 295881, 309713, 321723, 334822, 347912, 359860, 379892, 394227, 409083, 424433, 439934, 456831, 476378, 495513, 515386, 534618, 553471, 571460, 592032, 612768, 635757, 653751, 677423, 700087, 724578, 753050, 782607, 817209], \"yaxis\": \"y\"}],\n",
=======
       "                if (document.getElementById(\"79316ed4-141e-441e-a7e9-989c68dfd46b\")) {\n",
       "                    Plotly.newPlot(\n",
       "                        '79316ed4-141e-441e-a7e9-989c68dfd46b',\n",
       "                        [{\"hovertemplate\": \"variable=Total<br>Date=%{x}<br>value=%{y}<extra></extra>\", \"legendgroup\": \"Total\", \"line\": {\"color\": \"#636efa\", \"dash\": \"solid\"}, \"mode\": \"lines\", \"name\": \"Total\", \"orientation\": \"v\", \"showlegend\": true, \"type\": \"scatter\", \"x\": [\"2020-01-22T00:00:00\", \"2020-01-23T00:00:00\", \"2020-01-24T00:00:00\", \"2020-01-25T00:00:00\", \"2020-01-26T00:00:00\", \"2020-01-27T00:00:00\", \"2020-01-28T00:00:00\", \"2020-01-29T00:00:00\", \"2020-01-30T00:00:00\", \"2020-01-31T00:00:00\", \"2020-02-01T00:00:00\", \"2020-02-02T00:00:00\", \"2020-02-03T00:00:00\", \"2020-02-04T00:00:00\", \"2020-02-05T00:00:00\", \"2020-02-06T00:00:00\", \"2020-02-07T00:00:00\", \"2020-02-08T00:00:00\", \"2020-02-09T00:00:00\", \"2020-02-10T00:00:00\", \"2020-02-11T00:00:00\", \"2020-02-12T00:00:00\", \"2020-02-13T00:00:00\", \"2020-02-14T00:00:00\", \"2020-02-15T00:00:00\", \"2020-02-16T00:00:00\", \"2020-02-17T00:00:00\", \"2020-02-18T00:00:00\", \"2020-02-19T00:00:00\", \"2020-02-20T00:00:00\", \"2020-02-21T00:00:00\", \"2020-02-22T00:00:00\", \"2020-02-23T00:00:00\", \"2020-02-24T00:00:00\", \"2020-02-25T00:00:00\", \"2020-02-26T00:00:00\", \"2020-02-27T00:00:00\", \"2020-02-28T00:00:00\", \"2020-02-29T00:00:00\", \"2020-03-01T00:00:00\", \"2020-03-02T00:00:00\", \"2020-03-03T00:00:00\", \"2020-03-04T00:00:00\", \"2020-03-05T00:00:00\", \"2020-03-06T00:00:00\", \"2020-03-07T00:00:00\", \"2020-03-08T00:00:00\", \"2020-03-09T00:00:00\", \"2020-03-10T00:00:00\", \"2020-03-11T00:00:00\", \"2020-03-12T00:00:00\", \"2020-03-13T00:00:00\", \"2020-03-14T00:00:00\", \"2020-03-15T00:00:00\", \"2020-03-16T00:00:00\", \"2020-03-17T00:00:00\", \"2020-03-18T00:00:00\", \"2020-03-19T00:00:00\", \"2020-03-20T00:00:00\", \"2020-03-21T00:00:00\", \"2020-03-22T00:00:00\", \"2020-03-23T00:00:00\", \"2020-03-24T00:00:00\", \"2020-03-25T00:00:00\", \"2020-03-26T00:00:00\", \"2020-03-27T00:00:00\", \"2020-03-28T00:00:00\", \"2020-03-29T00:00:00\", \"2020-03-30T00:00:00\", \"2020-03-31T00:00:00\", \"2020-04-01T00:00:00\", \"2020-04-02T00:00:00\", \"2020-04-03T00:00:00\", \"2020-04-04T00:00:00\", \"2020-04-05T00:00:00\", \"2020-04-06T00:00:00\", \"2020-04-07T00:00:00\", \"2020-04-08T00:00:00\", \"2020-04-09T00:00:00\", \"2020-04-10T00:00:00\", \"2020-04-11T00:00:00\", \"2020-04-12T00:00:00\", \"2020-04-13T00:00:00\", \"2020-04-14T00:00:00\", \"2020-04-15T00:00:00\", \"2020-04-16T00:00:00\", \"2020-04-17T00:00:00\", \"2020-04-18T00:00:00\", \"2020-04-19T00:00:00\", \"2020-04-20T00:00:00\", \"2020-04-21T00:00:00\", \"2020-04-22T00:00:00\", \"2020-04-23T00:00:00\", \"2020-04-24T00:00:00\", \"2020-04-25T00:00:00\", \"2020-04-26T00:00:00\", \"2020-04-27T00:00:00\", \"2020-04-28T00:00:00\", \"2020-04-29T00:00:00\", \"2020-04-30T00:00:00\", \"2020-05-01T00:00:00\", \"2020-05-02T00:00:00\", \"2020-05-03T00:00:00\", \"2020-05-04T00:00:00\", \"2020-05-05T00:00:00\", \"2020-05-06T00:00:00\", \"2020-05-07T00:00:00\", \"2020-05-08T00:00:00\", \"2020-05-09T00:00:00\", \"2020-05-10T00:00:00\", \"2020-05-11T00:00:00\", \"2020-05-12T00:00:00\", \"2020-05-13T00:00:00\", \"2020-05-14T00:00:00\", \"2020-05-15T00:00:00\", \"2020-05-16T00:00:00\", \"2020-05-17T00:00:00\", \"2020-05-18T00:00:00\", \"2020-05-19T00:00:00\", \"2020-05-20T00:00:00\", \"2020-05-21T00:00:00\", \"2020-05-22T00:00:00\", \"2020-05-23T00:00:00\", \"2020-05-24T00:00:00\", \"2020-05-25T00:00:00\", \"2020-05-26T00:00:00\", \"2020-05-27T00:00:00\", \"2020-05-28T00:00:00\", \"2020-05-29T00:00:00\", \"2020-05-30T00:00:00\", \"2020-05-31T00:00:00\", \"2020-06-01T00:00:00\", \"2020-06-02T00:00:00\", \"2020-06-03T00:00:00\", \"2020-06-04T00:00:00\", \"2020-06-05T00:00:00\", \"2020-06-06T00:00:00\", \"2020-06-07T00:00:00\", \"2020-06-08T00:00:00\", \"2020-06-09T00:00:00\", \"2020-06-10T00:00:00\", \"2020-06-11T00:00:00\", \"2020-06-12T00:00:00\", \"2020-06-13T00:00:00\", \"2020-06-14T00:00:00\", \"2020-06-15T00:00:00\", \"2020-06-16T00:00:00\", \"2020-06-17T00:00:00\", \"2020-06-18T00:00:00\", \"2020-06-19T00:00:00\", \"2020-06-20T00:00:00\", \"2020-06-21T00:00:00\", \"2020-06-22T00:00:00\", \"2020-06-23T00:00:00\", \"2020-06-24T00:00:00\", \"2020-06-25T00:00:00\", \"2020-06-26T00:00:00\", \"2020-06-27T00:00:00\", \"2020-06-28T00:00:00\", \"2020-06-29T00:00:00\", \"2020-06-30T00:00:00\", \"2020-07-01T00:00:00\", \"2020-07-02T00:00:00\", \"2020-07-03T00:00:00\", \"2020-07-04T00:00:00\", \"2020-07-05T00:00:00\", \"2020-07-06T00:00:00\", \"2020-07-07T00:00:00\", \"2020-07-08T00:00:00\", \"2020-07-09T00:00:00\", \"2020-07-10T00:00:00\", \"2020-07-11T00:00:00\", \"2020-07-12T00:00:00\", \"2020-07-13T00:00:00\", \"2020-07-14T00:00:00\", \"2020-07-15T00:00:00\", \"2020-07-16T00:00:00\", \"2020-07-17T00:00:00\", \"2020-07-18T00:00:00\", \"2020-07-19T00:00:00\", \"2020-07-20T00:00:00\", \"2020-07-21T00:00:00\", \"2020-07-22T00:00:00\"], \"xaxis\": \"x\", \"y\": [0, 0, 0, 0, 0, 0, 0, 0, 0, 0, 0, 0, 0, 0, 0, 0, 0, 0, 0, 0, 0, 0, 0, 0, 0, 3, 3, 3, 3, 3, 3, 3, 3, 3, 3, 3, 3, 3, 3, 3, 3, 3, 3, 3, 3, 3, 3, 3, 4, 4, 4, 4, 4, 13, 13, 14, 14, 15, 20, 23, 27, 27, 40, 43, 45, 73, 84, 95, 102, 123, 148, 191, 192, 229, 229, 375, 421, 506, 620, 774, 969, 1080, 1181, 1359, 1432, 1768, 2041, 2463, 2854, 3273, 3975, 4370, 5012, 5498, 5939, 6523, 7137, 7747, 8437, 9068, 10007, 10819, 11775, 12847, 14142, 15331, 16776, 17887, 19301, 20969, 22549, 24420, 26400, 27969, 30258, 34224, 36795, 39233, 42309, 45422, 48553, 51824, 54385, 57692, 60706, 64277, 67749, 70920, 82627, 86936, 91852, 95754, 100285, 104071, 108450, 113233, 118695, 123848, 129095, 134670, 135206, 147195, 154330, 162379, 169798, 180013, 186935, 194325, 204711, 213831, 227728, 237196, 248190, 258685, 271697, 285637, 295881, 309713, 321723, 334822, 347912, 359860, 379892, 394227, 409083, 424433, 439934, 456831, 476378, 495513, 515386, 534618, 553471, 571460, 592032, 612768, 635757, 653751, 677423, 700087, 724578, 753050, 782607], \"yaxis\": \"y\"}],\n",
>>>>>>> 36cf975a9ce5a6f6aa44f533a397d2773c0cbe49
       "                        {\"legend\": {\"title\": {\"text\": \"variable\"}, \"tracegroupgap\": 0}, \"margin\": {\"t\": 60}, \"template\": {\"data\": {\"bar\": [{\"error_x\": {\"color\": \"#f2f5fa\"}, \"error_y\": {\"color\": \"#f2f5fa\"}, \"marker\": {\"line\": {\"color\": \"rgb(17,17,17)\", \"width\": 0.5}}, \"type\": \"bar\"}], \"barpolar\": [{\"marker\": {\"line\": {\"color\": \"rgb(17,17,17)\", \"width\": 0.5}}, \"type\": \"barpolar\"}], \"carpet\": [{\"aaxis\": {\"endlinecolor\": \"#A2B1C6\", \"gridcolor\": \"#506784\", \"linecolor\": \"#506784\", \"minorgridcolor\": \"#506784\", \"startlinecolor\": \"#A2B1C6\"}, \"baxis\": {\"endlinecolor\": \"#A2B1C6\", \"gridcolor\": \"#506784\", \"linecolor\": \"#506784\", \"minorgridcolor\": \"#506784\", \"startlinecolor\": \"#A2B1C6\"}, \"type\": \"carpet\"}], \"choropleth\": [{\"colorbar\": {\"outlinewidth\": 0, \"ticks\": \"\"}, \"type\": \"choropleth\"}], \"contour\": [{\"colorbar\": {\"outlinewidth\": 0, \"ticks\": \"\"}, \"colorscale\": [[0.0, \"#0d0887\"], [0.1111111111111111, \"#46039f\"], [0.2222222222222222, \"#7201a8\"], [0.3333333333333333, \"#9c179e\"], [0.4444444444444444, \"#bd3786\"], [0.5555555555555556, \"#d8576b\"], [0.6666666666666666, \"#ed7953\"], [0.7777777777777778, \"#fb9f3a\"], [0.8888888888888888, \"#fdca26\"], [1.0, \"#f0f921\"]], \"type\": \"contour\"}], \"contourcarpet\": [{\"colorbar\": {\"outlinewidth\": 0, \"ticks\": \"\"}, \"type\": \"contourcarpet\"}], \"heatmap\": [{\"colorbar\": {\"outlinewidth\": 0, \"ticks\": \"\"}, \"colorscale\": [[0.0, \"#0d0887\"], [0.1111111111111111, \"#46039f\"], [0.2222222222222222, \"#7201a8\"], [0.3333333333333333, \"#9c179e\"], [0.4444444444444444, \"#bd3786\"], [0.5555555555555556, \"#d8576b\"], [0.6666666666666666, \"#ed7953\"], [0.7777777777777778, \"#fb9f3a\"], [0.8888888888888888, \"#fdca26\"], [1.0, \"#f0f921\"]], \"type\": \"heatmap\"}], \"heatmapgl\": [{\"colorbar\": {\"outlinewidth\": 0, \"ticks\": \"\"}, \"colorscale\": [[0.0, \"#0d0887\"], [0.1111111111111111, \"#46039f\"], [0.2222222222222222, \"#7201a8\"], [0.3333333333333333, \"#9c179e\"], [0.4444444444444444, \"#bd3786\"], [0.5555555555555556, \"#d8576b\"], [0.6666666666666666, \"#ed7953\"], [0.7777777777777778, \"#fb9f3a\"], [0.8888888888888888, \"#fdca26\"], [1.0, \"#f0f921\"]], \"type\": \"heatmapgl\"}], \"histogram\": [{\"marker\": {\"colorbar\": {\"outlinewidth\": 0, \"ticks\": \"\"}}, \"type\": \"histogram\"}], \"histogram2d\": [{\"colorbar\": {\"outlinewidth\": 0, \"ticks\": \"\"}, \"colorscale\": [[0.0, \"#0d0887\"], [0.1111111111111111, \"#46039f\"], [0.2222222222222222, \"#7201a8\"], [0.3333333333333333, \"#9c179e\"], [0.4444444444444444, \"#bd3786\"], [0.5555555555555556, \"#d8576b\"], [0.6666666666666666, \"#ed7953\"], [0.7777777777777778, \"#fb9f3a\"], [0.8888888888888888, \"#fdca26\"], [1.0, \"#f0f921\"]], \"type\": \"histogram2d\"}], \"histogram2dcontour\": [{\"colorbar\": {\"outlinewidth\": 0, \"ticks\": \"\"}, \"colorscale\": [[0.0, \"#0d0887\"], [0.1111111111111111, \"#46039f\"], [0.2222222222222222, \"#7201a8\"], [0.3333333333333333, \"#9c179e\"], [0.4444444444444444, \"#bd3786\"], [0.5555555555555556, \"#d8576b\"], [0.6666666666666666, \"#ed7953\"], [0.7777777777777778, \"#fb9f3a\"], [0.8888888888888888, \"#fdca26\"], [1.0, \"#f0f921\"]], \"type\": \"histogram2dcontour\"}], \"mesh3d\": [{\"colorbar\": {\"outlinewidth\": 0, \"ticks\": \"\"}, \"type\": \"mesh3d\"}], \"parcoords\": [{\"line\": {\"colorbar\": {\"outlinewidth\": 0, \"ticks\": \"\"}}, \"type\": \"parcoords\"}], \"pie\": [{\"automargin\": true, \"type\": \"pie\"}], \"scatter\": [{\"marker\": {\"line\": {\"color\": \"#283442\"}}, \"type\": \"scatter\"}], \"scatter3d\": [{\"line\": {\"colorbar\": {\"outlinewidth\": 0, \"ticks\": \"\"}}, \"marker\": {\"colorbar\": {\"outlinewidth\": 0, \"ticks\": \"\"}}, \"type\": \"scatter3d\"}], \"scattercarpet\": [{\"marker\": {\"colorbar\": {\"outlinewidth\": 0, \"ticks\": \"\"}}, \"type\": \"scattercarpet\"}], \"scattergeo\": [{\"marker\": {\"colorbar\": {\"outlinewidth\": 0, \"ticks\": \"\"}}, \"type\": \"scattergeo\"}], \"scattergl\": [{\"marker\": {\"line\": {\"color\": \"#283442\"}}, \"type\": \"scattergl\"}], \"scattermapbox\": [{\"marker\": {\"colorbar\": {\"outlinewidth\": 0, \"ticks\": \"\"}}, \"type\": \"scattermapbox\"}], \"scatterpolar\": [{\"marker\": {\"colorbar\": {\"outlinewidth\": 0, \"ticks\": \"\"}}, \"type\": \"scatterpolar\"}], \"scatterpolargl\": [{\"marker\": {\"colorbar\": {\"outlinewidth\": 0, \"ticks\": \"\"}}, \"type\": \"scatterpolargl\"}], \"scatterternary\": [{\"marker\": {\"colorbar\": {\"outlinewidth\": 0, \"ticks\": \"\"}}, \"type\": \"scatterternary\"}], \"surface\": [{\"colorbar\": {\"outlinewidth\": 0, \"ticks\": \"\"}, \"colorscale\": [[0.0, \"#0d0887\"], [0.1111111111111111, \"#46039f\"], [0.2222222222222222, \"#7201a8\"], [0.3333333333333333, \"#9c179e\"], [0.4444444444444444, \"#bd3786\"], [0.5555555555555556, \"#d8576b\"], [0.6666666666666666, \"#ed7953\"], [0.7777777777777778, \"#fb9f3a\"], [0.8888888888888888, \"#fdca26\"], [1.0, \"#f0f921\"]], \"type\": \"surface\"}], \"table\": [{\"cells\": {\"fill\": {\"color\": \"#506784\"}, \"line\": {\"color\": \"rgb(17,17,17)\"}}, \"header\": {\"fill\": {\"color\": \"#2a3f5f\"}, \"line\": {\"color\": \"rgb(17,17,17)\"}}, \"type\": \"table\"}]}, \"layout\": {\"annotationdefaults\": {\"arrowcolor\": \"#f2f5fa\", \"arrowhead\": 0, \"arrowwidth\": 1}, \"coloraxis\": {\"colorbar\": {\"outlinewidth\": 0, \"ticks\": \"\"}}, \"colorscale\": {\"diverging\": [[0, \"#8e0152\"], [0.1, \"#c51b7d\"], [0.2, \"#de77ae\"], [0.3, \"#f1b6da\"], [0.4, \"#fde0ef\"], [0.5, \"#f7f7f7\"], [0.6, \"#e6f5d0\"], [0.7, \"#b8e186\"], [0.8, \"#7fbc41\"], [0.9, \"#4d9221\"], [1, \"#276419\"]], \"sequential\": [[0.0, \"#0d0887\"], [0.1111111111111111, \"#46039f\"], [0.2222222222222222, \"#7201a8\"], [0.3333333333333333, \"#9c179e\"], [0.4444444444444444, \"#bd3786\"], [0.5555555555555556, \"#d8576b\"], [0.6666666666666666, \"#ed7953\"], [0.7777777777777778, \"#fb9f3a\"], [0.8888888888888888, \"#fdca26\"], [1.0, \"#f0f921\"]], \"sequentialminus\": [[0.0, \"#0d0887\"], [0.1111111111111111, \"#46039f\"], [0.2222222222222222, \"#7201a8\"], [0.3333333333333333, \"#9c179e\"], [0.4444444444444444, \"#bd3786\"], [0.5555555555555556, \"#d8576b\"], [0.6666666666666666, \"#ed7953\"], [0.7777777777777778, \"#fb9f3a\"], [0.8888888888888888, \"#fdca26\"], [1.0, \"#f0f921\"]]}, \"colorway\": [\"#636efa\", \"#EF553B\", \"#00cc96\", \"#ab63fa\", \"#FFA15A\", \"#19d3f3\", \"#FF6692\", \"#B6E880\", \"#FF97FF\", \"#FECB52\"], \"font\": {\"color\": \"#f2f5fa\"}, \"geo\": {\"bgcolor\": \"rgb(17,17,17)\", \"lakecolor\": \"rgb(17,17,17)\", \"landcolor\": \"rgb(17,17,17)\", \"showlakes\": true, \"showland\": true, \"subunitcolor\": \"#506784\"}, \"hoverlabel\": {\"align\": \"left\"}, \"hovermode\": \"closest\", \"mapbox\": {\"style\": \"dark\"}, \"paper_bgcolor\": \"rgb(17,17,17)\", \"plot_bgcolor\": \"rgb(17,17,17)\", \"polar\": {\"angularaxis\": {\"gridcolor\": \"#506784\", \"linecolor\": \"#506784\", \"ticks\": \"\"}, \"bgcolor\": \"rgb(17,17,17)\", \"radialaxis\": {\"gridcolor\": \"#506784\", \"linecolor\": \"#506784\", \"ticks\": \"\"}}, \"scene\": {\"xaxis\": {\"backgroundcolor\": \"rgb(17,17,17)\", \"gridcolor\": \"#506784\", \"gridwidth\": 2, \"linecolor\": \"#506784\", \"showbackground\": true, \"ticks\": \"\", \"zerolinecolor\": \"#C8D4E3\"}, \"yaxis\": {\"backgroundcolor\": \"rgb(17,17,17)\", \"gridcolor\": \"#506784\", \"gridwidth\": 2, \"linecolor\": \"#506784\", \"showbackground\": true, \"ticks\": \"\", \"zerolinecolor\": \"#C8D4E3\"}, \"zaxis\": {\"backgroundcolor\": \"rgb(17,17,17)\", \"gridcolor\": \"#506784\", \"gridwidth\": 2, \"linecolor\": \"#506784\", \"showbackground\": true, \"ticks\": \"\", \"zerolinecolor\": \"#C8D4E3\"}}, \"shapedefaults\": {\"line\": {\"color\": \"#f2f5fa\"}}, \"sliderdefaults\": {\"bgcolor\": \"#C8D4E3\", \"bordercolor\": \"rgb(17,17,17)\", \"borderwidth\": 1, \"tickwidth\": 0}, \"ternary\": {\"aaxis\": {\"gridcolor\": \"#506784\", \"linecolor\": \"#506784\", \"ticks\": \"\"}, \"baxis\": {\"gridcolor\": \"#506784\", \"linecolor\": \"#506784\", \"ticks\": \"\"}, \"bgcolor\": \"rgb(17,17,17)\", \"caxis\": {\"gridcolor\": \"#506784\", \"linecolor\": \"#506784\", \"ticks\": \"\"}}, \"title\": {\"x\": 0.05}, \"updatemenudefaults\": {\"bgcolor\": \"#506784\", \"borderwidth\": 0}, \"xaxis\": {\"automargin\": true, \"gridcolor\": \"#283442\", \"linecolor\": \"#506784\", \"ticks\": \"\", \"title\": {\"standoff\": 15}, \"zerolinecolor\": \"#283442\", \"zerolinewidth\": 2}, \"yaxis\": {\"automargin\": true, \"gridcolor\": \"#283442\", \"linecolor\": \"#506784\", \"ticks\": \"\", \"title\": {\"standoff\": 15}, \"zerolinecolor\": \"#283442\", \"zerolinewidth\": 2}}}, \"xaxis\": {\"anchor\": \"y\", \"domain\": [0.0, 1.0], \"title\": {\"text\": \"Date\"}}, \"yaxis\": {\"anchor\": \"x\", \"domain\": [0.0, 1.0], \"title\": {\"text\": \"value\"}}},\n",
       "                        {\"responsive\": true}\n",
       "                    ).then(function(){\n",
       "                            \n",
<<<<<<< HEAD
       "var gd = document.getElementById('7e19d3b3-1ca3-4c41-b525-4888c92665c1');\n",
=======
       "var gd = document.getElementById('79316ed4-141e-441e-a7e9-989c68dfd46b');\n",
>>>>>>> 36cf975a9ce5a6f6aa44f533a397d2773c0cbe49
       "var x = new MutationObserver(function (mutations, observer) {{\n",
       "        var display = window.getComputedStyle(gd).display;\n",
       "        if (!display || display === 'none') {{\n",
       "            console.log([gd, 'removed!']);\n",
       "            Plotly.purge(gd);\n",
       "            observer.disconnect();\n",
       "        }}\n",
       "}});\n",
       "\n",
       "// Listen for the removal of the full notebook cells\n",
       "var notebookContainer = gd.closest('#notebook-container');\n",
       "if (notebookContainer) {{\n",
       "    x.observe(notebookContainer, {childList: true});\n",
       "}}\n",
       "\n",
       "// Listen for the clearing of the current output cell\n",
       "var outputEl = gd.closest('.output');\n",
       "if (outputEl) {{\n",
       "    x.observe(outputEl, {childList: true});\n",
       "}}\n",
       "\n",
       "                        })\n",
       "                };\n",
       "                });\n",
       "            </script>\n",
       "        </div>"
      ]
     },
     "metadata": {},
     "output_type": "display_data"
    }
   ],
   "source": [
    "data=create_data_frame('Recovery')\n",
    "plot_data_frame()"
   ]
  },
  {
   "cell_type": "code",
   "execution_count": 10,
   "metadata": {},
   "outputs": [
    {
     "name": "stdout",
     "output_type": "stream",
     "text": [
      "Performing stepwise search to minimize aic\n",
<<<<<<< HEAD
      "Fit ARIMA(1,1,1)x(0,1,1,12) [intercept=True]; AIC=2632.421, BIC=2647.339, Time=5.222 seconds\n",
      "Fit ARIMA(0,1,0)x(0,1,0,12) [intercept=True]; AIC=2759.600, BIC=2765.568, Time=0.041 seconds\n",
      "Fit ARIMA(1,1,0)x(1,1,0,12) [intercept=True]; AIC=2689.742, BIC=2701.677, Time=2.783 seconds\n",
      "Fit ARIMA(0,1,1)x(0,1,1,12) [intercept=True]; AIC=2746.598, BIC=2758.532, Time=2.509 seconds\n",
      "Fit ARIMA(0,1,0)x(0,1,0,12) [intercept=False]; AIC=2807.421, BIC=2810.405, Time=0.069 seconds\n",
      "Fit ARIMA(1,1,1)x(0,1,0,12) [intercept=True]; AIC=2662.896, BIC=2674.830, Time=0.621 seconds\n",
      "Fit ARIMA(1,1,1)x(1,1,1,12) [intercept=True]; AIC=2627.291, BIC=2645.192, Time=5.746 seconds\n",
      "Fit ARIMA(1,1,1)x(1,1,0,12) [intercept=True]; AIC=2631.161, BIC=2646.079, Time=4.674 seconds\n",
      "Fit ARIMA(1,1,1)x(2,1,1,12) [intercept=True]; AIC=2635.853, BIC=2656.738, Time=62.744 seconds\n",
      "Near non-invertible roots for order (1, 1, 1)(2, 1, 1, 12); setting score to inf (at least one inverse root too close to the border of the unit circle: 1.000)\n",
      "Fit ARIMA(1,1,1)x(1,1,2,12) [intercept=True]; AIC=2630.527, BIC=2651.412, Time=17.178 seconds\n",
      "Near non-invertible roots for order (1, 1, 1)(1, 1, 2, 12); setting score to inf (at least one inverse root too close to the border of the unit circle: 1.000)\n",
      "Fit ARIMA(1,1,1)x(0,1,2,12) [intercept=True]; AIC=2630.809, BIC=2648.711, Time=12.286 seconds\n",
      "Fit ARIMA(1,1,1)x(2,1,0,12) [intercept=True]; AIC=2629.891, BIC=2647.793, Time=10.844 seconds\n",
      "Fit ARIMA(1,1,1)x(2,1,2,12) [intercept=True]; AIC=2639.795, BIC=2663.663, Time=19.777 seconds\n",
      "Near non-invertible roots for order (1, 1, 1)(2, 1, 2, 12); setting score to inf (at least one inverse root too close to the border of the unit circle: 1.000)\n",
      "Fit ARIMA(0,1,1)x(1,1,1,12) [intercept=True]; AIC=2748.584, BIC=2763.502, Time=3.537 seconds\n",
      "Fit ARIMA(1,1,0)x(1,1,1,12) [intercept=True]; AIC=2687.804, BIC=2702.722, Time=4.515 seconds\n",
      "Fit ARIMA(2,1,1)x(1,1,1,12) [intercept=True]; AIC=2623.667, BIC=2644.552, Time=7.384 seconds\n",
      "Fit ARIMA(2,1,1)x(0,1,1,12) [intercept=True]; AIC=2625.148, BIC=2643.050, Time=6.294 seconds\n",
      "Fit ARIMA(2,1,1)x(1,1,0,12) [intercept=True]; AIC=2628.654, BIC=2646.556, Time=5.850 seconds\n",
      "Fit ARIMA(2,1,1)x(2,1,1,12) [intercept=True]; AIC=2638.511, BIC=2662.380, Time=24.445 seconds\n",
      "Near non-invertible roots for order (2, 1, 1)(2, 1, 1, 12); setting score to inf (at least one inverse root too close to the border of the unit circle: 1.000)\n",
      "Fit ARIMA(2,1,1)x(1,1,2,12) [intercept=True]; AIC=2636.917, BIC=2660.786, Time=14.209 seconds\n",
      "Near non-invertible roots for order (2, 1, 1)(1, 1, 2, 12); setting score to inf (at least one inverse root too close to the border of the unit circle: 0.997)\n",
      "Fit ARIMA(2,1,1)x(0,1,0,12) [intercept=True]; AIC=2657.983, BIC=2672.901, Time=0.777 seconds\n",
      "Fit ARIMA(2,1,1)x(0,1,2,12) [intercept=True]; AIC=2626.551, BIC=2647.436, Time=12.764 seconds\n",
      "Fit ARIMA(2,1,1)x(2,1,0,12) [intercept=True]; AIC=2628.031, BIC=2648.916, Time=13.514 seconds\n",
      "Fit ARIMA(2,1,1)x(2,1,2,12) [intercept=True]; AIC=nan, BIC=nan, Time=nan seconds\n",
      "Fit ARIMA(2,1,0)x(1,1,1,12) [intercept=True]; AIC=2624.270, BIC=2642.172, Time=7.288 seconds\n",
      "Fit ARIMA(3,1,1)x(1,1,1,12) [intercept=True]; AIC=2637.777, BIC=2661.645, Time=8.051 seconds\n",
      "Fit ARIMA(2,1,2)x(1,1,1,12) [intercept=True]; AIC=2626.110, BIC=2649.978, Time=7.123 seconds\n",
      "Fit ARIMA(1,1,2)x(1,1,1,12) [intercept=True]; AIC=2627.042, BIC=2647.927, Time=6.866 seconds\n",
      "Fit ARIMA(3,1,0)x(1,1,1,12) [intercept=True]; AIC=2622.538, BIC=2643.423, Time=6.748 seconds\n",
      "Fit ARIMA(3,1,0)x(0,1,1,12) [intercept=True]; AIC=2620.032, BIC=2637.933, Time=5.515 seconds\n",
      "Fit ARIMA(3,1,0)x(0,1,0,12) [intercept=True]; AIC=2672.315, BIC=2687.233, Time=0.220 seconds\n",
      "Fit ARIMA(3,1,0)x(0,1,2,12) [intercept=True]; AIC=2622.006, BIC=2642.891, Time=12.446 seconds\n",
      "Fit ARIMA(3,1,0)x(1,1,0,12) [intercept=True]; AIC=2639.930, BIC=2657.832, Time=4.603 seconds\n",
      "Near non-invertible roots for order (3, 1, 0)(1, 1, 0, 12); setting score to inf (at least one inverse root too close to the border of the unit circle: 1.000)\n",
      "Fit ARIMA(3,1,0)x(1,1,2,12) [intercept=True]; AIC=2625.077, BIC=2648.946, Time=13.999 seconds\n",
      "Near non-invertible roots for order (3, 1, 0)(1, 1, 2, 12); setting score to inf (at least one inverse root too close to the border of the unit circle: 1.000)\n",
      "Fit ARIMA(2,1,0)x(0,1,1,12) [intercept=True]; AIC=2623.164, BIC=2638.082, Time=4.929 seconds\n",
      "Fit ARIMA(3,1,1)x(0,1,1,12) [intercept=True]; AIC=2619.899, BIC=2640.785, Time=7.139 seconds\n",
      "Near non-invertible roots for order (3, 1, 1)(0, 1, 1, 12); setting score to inf (at least one inverse root too close to the border of the unit circle: 0.993)\n",
      "Total fit time: 340.406 seconds\n",
      "2619.8993824928725\n"
=======
      "Fit ARIMA(1,1,1)x(0,1,1,12) [intercept=True]; AIC=2597.460, BIC=2612.344, Time=4.983 seconds\n",
      "Fit ARIMA(0,1,0)x(0,1,0,12) [intercept=True]; AIC=2720.676, BIC=2726.630, Time=0.041 seconds\n",
      "Fit ARIMA(1,1,0)x(1,1,0,12) [intercept=True]; AIC=2663.806, BIC=2675.713, Time=1.999 seconds\n",
      "Fit ARIMA(0,1,1)x(0,1,1,12) [intercept=True]; AIC=2711.377, BIC=2723.284, Time=0.692 seconds\n",
      "Fit ARIMA(0,1,0)x(0,1,0,12) [intercept=False]; AIC=2769.864, BIC=2772.841, Time=0.064 seconds\n",
      "Fit ARIMA(1,1,1)x(0,1,0,12) [intercept=True]; AIC=2628.344, BIC=2640.251, Time=0.793 seconds\n",
      "Fit ARIMA(1,1,1)x(1,1,1,12) [intercept=True]; AIC=2590.583, BIC=2608.444, Time=6.465 seconds\n",
      "Fit ARIMA(1,1,1)x(1,1,0,12) [intercept=True]; AIC=2589.916, BIC=2604.800, Time=3.867 seconds\n",
      "Fit ARIMA(1,1,1)x(2,1,0,12) [intercept=True]; AIC=2592.729, BIC=2610.590, Time=8.886 seconds\n",
      "Fit ARIMA(1,1,1)x(2,1,1,12) [intercept=True]; AIC=2598.204, BIC=2619.041, Time=17.455 seconds\n",
      "Near non-invertible roots for order (1, 1, 1)(2, 1, 1, 12); setting score to inf (at least one inverse root too close to the border of the unit circle: 1.000)\n",
      "Fit ARIMA(0,1,1)x(1,1,0,12) [intercept=True]; AIC=2711.321, BIC=2723.228, Time=0.448 seconds\n",
      "Fit ARIMA(2,1,1)x(1,1,0,12) [intercept=True]; AIC=2588.749, BIC=2606.609, Time=5.724 seconds\n",
      "Fit ARIMA(2,1,1)x(0,1,0,12) [intercept=True]; AIC=2620.327, BIC=2635.210, Time=1.534 seconds\n",
      "Fit ARIMA(2,1,1)x(2,1,0,12) [intercept=True]; AIC=2588.414, BIC=2609.251, Time=12.684 seconds\n",
      "Fit ARIMA(2,1,1)x(2,1,1,12) [intercept=True]; AIC=2606.760, BIC=2630.574, Time=14.080 seconds\n",
      "Near non-invertible roots for order (2, 1, 1)(2, 1, 1, 12); setting score to inf (at least one inverse root too close to the border of the unit circle: 1.000)\n",
      "Fit ARIMA(2,1,1)x(1,1,1,12) [intercept=True]; AIC=2586.250, BIC=2607.087, Time=6.649 seconds\n",
      "Fit ARIMA(2,1,1)x(0,1,1,12) [intercept=True]; AIC=2588.720, BIC=2606.581, Time=5.202 seconds\n",
      "Fit ARIMA(2,1,1)x(1,1,2,12) [intercept=True]; AIC=2587.005, BIC=2610.819, Time=14.505 seconds\n",
      "Near non-invertible roots for order (2, 1, 1)(1, 1, 2, 12); setting score to inf (at least one inverse root too close to the border of the unit circle: 0.999)\n",
      "Fit ARIMA(2,1,1)x(0,1,2,12) [intercept=True]; AIC=2589.213, BIC=2610.050, Time=9.189 seconds\n",
      "Fit ARIMA(2,1,1)x(2,1,2,12) [intercept=True]; AIC=2591.990, BIC=2618.780, Time=14.380 seconds\n",
      "Near non-invertible roots for order (2, 1, 1)(2, 1, 2, 12); setting score to inf (at least one inverse root too close to the border of the unit circle: 1.000)\n",
      "Fit ARIMA(2,1,0)x(1,1,1,12) [intercept=True]; AIC=2600.964, BIC=2618.824, Time=4.962 seconds\n",
      "Near non-invertible roots for order (2, 1, 0)(1, 1, 1, 12); setting score to inf (at least one inverse root too close to the border of the unit circle: 0.994)\n",
      "Fit ARIMA(3,1,1)x(1,1,1,12) [intercept=True]; AIC=2603.417, BIC=2627.231, Time=5.854 seconds\n",
      "Near non-invertible roots for order (3, 1, 1)(1, 1, 1, 12); setting score to inf (at least one inverse root too close to the border of the unit circle: 0.993)\n",
      "Fit ARIMA(2,1,2)x(1,1,1,12) [intercept=True]; AIC=2590.426, BIC=2614.240, Time=6.986 seconds\n",
      "Fit ARIMA(1,1,0)x(1,1,1,12) [intercept=True]; AIC=2671.313, BIC=2686.197, Time=1.725 seconds\n",
      "Fit ARIMA(1,1,2)x(1,1,1,12) [intercept=True]; AIC=2589.477, BIC=2610.314, Time=6.234 seconds\n",
      "Fit ARIMA(3,1,0)x(1,1,1,12) [intercept=True]; AIC=2590.833, BIC=2611.670, Time=5.927 seconds\n",
      "Fit ARIMA(3,1,2)x(1,1,1,12) [intercept=True]; AIC=2591.389, BIC=2618.179, Time=6.651 seconds\n",
      "Near non-invertible roots for order (3, 1, 2)(1, 1, 1, 12); setting score to inf (at least one inverse root too close to the border of the unit circle: 0.996)\n",
      "Total fit time: 168.037 seconds\n",
      "2586.250302082746\n"
     ]
    }
   ],
   "source": [
    "stepwise_model = auto_arima(data, start_p = 1, start_q = 1,\n",
    "                           max_p = 3, max_q = 3, m = 12,\n",
    "                           start_P = 0, seasonal = True,\n",
    "                           d = 1, D = 1, trace = True,\n",
    "                           error_action = 'ignore',  \n",
    "                           suppress_warnings = True, \n",
    "                           stepwise = True)\n",
    "# Finding the pest p,d,q parametes for the model\n",
    "print(stepwise_model.aic())"
   ]
  },
  {
   "cell_type": "code",
   "execution_count": 7,
   "metadata": {},
   "outputs": [
    {
     "name": "stdout",
     "output_type": "stream",
     "text": [
      "Test shape: (67, 1)\n",
      "Train shape: (92, 1)\n",
      "Min date from train set: 2020-02-16\n",
      "Max date from train set:2020-05-17\n",
      "Min date from test set: 2020-05-17\n",
      "Max date from test set: 2020-07-22\n"
>>>>>>> 36cf975a9ce5a6f6aa44f533a397d2773c0cbe49
     ]
    }
   ],
   "source": [
    "stepwise_model=find_params()\n",
    "print(stepwise_model.aic())\n"
   ]
  },
  {
   "cell_type": "code",
   "execution_count": 54,
   "metadata": {},
   "outputs": [
    {
     "name": "stdout",
     "output_type": "stream",
     "text": [
      "Test shape: (61, 1)\n",
      "Train shape: (116, 1)\n",
      "Min date from train set: 2020-01-30\n",
      "Max date from train set:2020-05-24\n",
      "Min date from test set: 2020-05-24\n",
      "Max date from test set: 2020-07-23\n",
      "[ 145839.18507865  153123.99529507  160634.59992534  168879.7072002\n",
      "  177138.42643793  185305.27912658  194256.37809976  202912.79931749\n",
      "  211838.92735564  221356.77536063  230720.94862054  240345.54278536\n",
      "  250322.40370556  260379.97532078  270646.78739957  281876.26022332\n",
      "  292906.69102581  304009.55977777  315809.21395271  327356.67016458\n",
      "  339149.6117874   351704.00977927  364015.85621155  376573.91889953\n",
      "  389446.04051063  402437.22629124  415568.47113282  429674.91803152\n",
      "  443777.92194974  457804.0806261   472819.9247824   487506.98445488\n",
      "  502594.83322289  518323.01233214  533951.238226    549931.46366308\n",
      "  566231.7587146   582635.08716406  599252.9140265   616805.90327217\n",
      "  634347.31481617  651875.86614927  670298.11310347  688452.71022958\n",
      "  706966.28960451  726167.73852865  745252.98299976  764671.63496796\n",
      "  784451.42090475  804364.61571711  824506.28753034  845633.69377418\n",
      "  866729.88395218  887856.06321154  909874.29928576  931648.04362709\n",
      "  953790.65055526  976664.44565828  999422.13246596 1022525.29163701\n",
      " 1045999.25265403]\n"
     ]
<<<<<<< HEAD
    },
=======
    }
   ],
   "source": [
    "# Fitting the model with train dataset\n",
    "stepwise_model.fit(train)\n",
    "\n",
    "# Forecasting\n",
    "future_forecast = stepwise_model.predict(n_periods=len(test))\n",
    "\n",
    "# This returns an array of predictions:\n",
    "print(future_forecast)\n",
    "future_forecast = pd.DataFrame(future_forecast,index = test.index,columns=['Prediction'])"
   ]
  },
  {
   "cell_type": "code",
   "execution_count": 9,
   "metadata": {},
   "outputs": [
>>>>>>> 36cf975a9ce5a6f6aa44f533a397d2773c0cbe49
    {
     "data": {
      "application/vnd.plotly.v1+json": {
       "config": {
        "plotlyServerURL": "https://plot.ly"
       },
       "data": [
        {
         "hovertemplate": "variable=Total<br>Date=%{x}<br>value=%{y}<extra></extra>",
         "legendgroup": "Total",
         "line": {
          "color": "#636efa",
          "dash": "solid"
         },
         "mode": "lines",
         "name": "Total",
         "orientation": "v",
         "showlegend": true,
         "type": "scatter",
         "x": [
          "2020-01-30T00:00:00",
          "2020-01-31T00:00:00",
          "2020-02-01T00:00:00",
          "2020-02-02T00:00:00",
          "2020-02-03T00:00:00",
          "2020-02-04T00:00:00",
          "2020-02-05T00:00:00",
          "2020-02-06T00:00:00",
          "2020-02-07T00:00:00",
          "2020-02-08T00:00:00",
          "2020-02-09T00:00:00",
          "2020-02-10T00:00:00",
          "2020-02-11T00:00:00",
          "2020-02-12T00:00:00",
          "2020-02-13T00:00:00",
          "2020-02-14T00:00:00",
          "2020-02-15T00:00:00",
          "2020-02-16T00:00:00",
          "2020-02-17T00:00:00",
          "2020-02-18T00:00:00",
          "2020-02-19T00:00:00",
          "2020-02-20T00:00:00",
          "2020-02-21T00:00:00",
          "2020-02-22T00:00:00",
          "2020-02-23T00:00:00",
          "2020-02-24T00:00:00",
          "2020-02-25T00:00:00",
          "2020-02-26T00:00:00",
          "2020-02-27T00:00:00",
          "2020-02-28T00:00:00",
          "2020-02-29T00:00:00",
          "2020-03-01T00:00:00",
          "2020-03-02T00:00:00",
          "2020-03-03T00:00:00",
          "2020-03-04T00:00:00",
          "2020-03-05T00:00:00",
          "2020-03-06T00:00:00",
          "2020-03-07T00:00:00",
          "2020-03-08T00:00:00",
          "2020-03-09T00:00:00",
          "2020-03-10T00:00:00",
          "2020-03-11T00:00:00",
          "2020-03-12T00:00:00",
          "2020-03-13T00:00:00",
          "2020-03-14T00:00:00",
          "2020-03-15T00:00:00",
          "2020-03-16T00:00:00",
          "2020-03-17T00:00:00",
          "2020-03-18T00:00:00",
          "2020-03-19T00:00:00",
          "2020-03-20T00:00:00",
          "2020-03-21T00:00:00",
          "2020-03-22T00:00:00",
          "2020-03-23T00:00:00",
          "2020-03-24T00:00:00",
          "2020-03-25T00:00:00",
          "2020-03-26T00:00:00",
          "2020-03-27T00:00:00",
          "2020-03-28T00:00:00",
          "2020-03-29T00:00:00",
          "2020-03-30T00:00:00",
          "2020-03-31T00:00:00",
          "2020-04-01T00:00:00",
          "2020-04-02T00:00:00",
          "2020-04-03T00:00:00",
          "2020-04-04T00:00:00",
          "2020-04-05T00:00:00",
          "2020-04-06T00:00:00",
          "2020-04-07T00:00:00",
          "2020-04-08T00:00:00",
          "2020-04-09T00:00:00",
          "2020-04-10T00:00:00",
          "2020-04-11T00:00:00",
          "2020-04-12T00:00:00",
          "2020-04-13T00:00:00",
          "2020-04-14T00:00:00",
          "2020-04-15T00:00:00",
          "2020-04-16T00:00:00",
          "2020-04-17T00:00:00",
          "2020-04-18T00:00:00",
          "2020-04-19T00:00:00",
          "2020-04-20T00:00:00",
          "2020-04-21T00:00:00",
          "2020-04-22T00:00:00",
          "2020-04-23T00:00:00",
          "2020-04-24T00:00:00",
          "2020-04-25T00:00:00",
          "2020-04-26T00:00:00",
          "2020-04-27T00:00:00",
          "2020-04-28T00:00:00",
          "2020-04-29T00:00:00",
          "2020-04-30T00:00:00",
          "2020-05-01T00:00:00",
          "2020-05-02T00:00:00",
          "2020-05-03T00:00:00",
          "2020-05-04T00:00:00",
          "2020-05-05T00:00:00",
          "2020-05-06T00:00:00",
          "2020-05-07T00:00:00",
          "2020-05-08T00:00:00",
          "2020-05-09T00:00:00",
          "2020-05-10T00:00:00",
          "2020-05-11T00:00:00",
          "2020-05-12T00:00:00",
          "2020-05-13T00:00:00",
          "2020-05-14T00:00:00",
          "2020-05-15T00:00:00",
          "2020-05-16T00:00:00",
          "2020-05-17T00:00:00",
          "2020-05-18T00:00:00",
          "2020-05-19T00:00:00",
          "2020-05-20T00:00:00",
          "2020-05-21T00:00:00",
          "2020-05-22T00:00:00",
          "2020-05-23T00:00:00",
          "2020-05-24T00:00:00",
          "2020-05-25T00:00:00",
          "2020-05-26T00:00:00",
          "2020-05-27T00:00:00",
          "2020-05-28T00:00:00",
          "2020-05-29T00:00:00",
          "2020-05-30T00:00:00",
          "2020-05-31T00:00:00",
          "2020-06-01T00:00:00",
          "2020-06-02T00:00:00",
          "2020-06-03T00:00:00",
          "2020-06-04T00:00:00",
          "2020-06-05T00:00:00",
          "2020-06-06T00:00:00",
          "2020-06-07T00:00:00",
          "2020-06-08T00:00:00",
          "2020-06-09T00:00:00",
          "2020-06-10T00:00:00",
          "2020-06-11T00:00:00",
          "2020-06-12T00:00:00",
          "2020-06-13T00:00:00",
          "2020-06-14T00:00:00",
          "2020-06-15T00:00:00",
          "2020-06-16T00:00:00",
          "2020-06-17T00:00:00",
          "2020-06-18T00:00:00",
          "2020-06-19T00:00:00",
          "2020-06-20T00:00:00",
          "2020-06-21T00:00:00",
          "2020-06-22T00:00:00",
          "2020-06-23T00:00:00",
          "2020-06-24T00:00:00",
          "2020-06-25T00:00:00",
          "2020-06-26T00:00:00",
          "2020-06-27T00:00:00",
          "2020-06-28T00:00:00",
          "2020-06-29T00:00:00",
          "2020-06-30T00:00:00",
          "2020-07-01T00:00:00",
          "2020-07-02T00:00:00",
          "2020-07-03T00:00:00",
          "2020-07-04T00:00:00",
          "2020-07-05T00:00:00",
          "2020-07-06T00:00:00",
          "2020-07-07T00:00:00",
          "2020-07-08T00:00:00",
          "2020-07-09T00:00:00",
          "2020-07-10T00:00:00",
          "2020-07-11T00:00:00",
          "2020-07-12T00:00:00",
          "2020-07-13T00:00:00",
          "2020-07-14T00:00:00",
          "2020-07-15T00:00:00",
          "2020-07-16T00:00:00",
          "2020-07-17T00:00:00",
          "2020-07-18T00:00:00",
          "2020-07-19T00:00:00",
          "2020-07-20T00:00:00",
          "2020-07-21T00:00:00",
          "2020-07-22T00:00:00",
          "2020-07-23T00:00:00"
         ],
         "xaxis": "x",
         "y": [
          1,
          1,
          1,
          2,
          3,
          3,
          3,
          3,
          3,
          3,
          3,
          3,
          3,
          3,
          3,
          3,
          3,
          3,
          3,
          3,
          3,
          3,
          3,
          3,
          3,
          3,
          3,
          3,
          3,
          3,
          3,
          3,
          5,
          5,
          28,
          30,
          31,
          34,
          39,
          43,
          56,
          62,
          73,
          82,
          102,
          113,
          119,
          142,
          156,
          194,
          244,
          330,
          396,
          499,
          536,
          657,
          727,
          887,
          987,
          1024,
          1251,
          1397,
          1998,
          2543,
          2567,
          3082,
          3588,
          4778,
          5311,
          5916,
          6725,
          7598,
          8446,
          9205,
          10453,
          11487,
          12322,
          13430,
          14352,
          15722,
          17615,
          18539,
          20080,
          21370,
          23077,
          24530,
          26283,
          27890,
          29451,
          31324,
          33062,
          34863,
          37257,
          39699,
          42505,
          46437,
          49400,
          52987,
          56351,
          59695,
          62808,
          67161,
          70768,
          74292,
          78055,
          81997,
          85784,
          90648,
          95698,
          100328,
          106475,
          112028,
          118226,
          124794,
          131423,
          138536,
          144950,
          150793,
          158086,
          165386,
          173491,
          181827,
          190609,
          198370,
          207191,
          216824,
          226713,
          236184,
          246622,
          257486,
          265928,
          276146,
          286605,
          297535,
          308993,
          320922,
          332424,
          343091,
          354065,
          366946,
          380532,
          395048,
          410451,
          425282,
          440215,
          456183,
          473105,
          490401,
          508953,
          528859,
          548318,
          566840,
          585481,
          604641,
          625544,
          648315,
          673165,
          697413,
          719664,
          742417,
          767296,
          793802,
          820916,
          849522,
          878254,
          906752,
          936181,
          968857,
          1003832,
          1039084,
          1077781,
          1118206,
          1155338,
          1193078,
          1238798,
          1288108
         ],
         "yaxis": "y"
        },
        {
         "hovertemplate": "variable=Prediction<br>Date=%{x}<br>value=%{y}<extra></extra>",
         "legendgroup": "Prediction",
         "line": {
          "color": "#EF553B",
          "dash": "solid"
         },
         "mode": "lines",
         "name": "Prediction",
         "orientation": "v",
         "showlegend": true,
         "type": "scatter",
         "x": [
          "2020-01-30T00:00:00",
          "2020-01-31T00:00:00",
          "2020-02-01T00:00:00",
          "2020-02-02T00:00:00",
          "2020-02-03T00:00:00",
          "2020-02-04T00:00:00",
          "2020-02-05T00:00:00",
          "2020-02-06T00:00:00",
          "2020-02-07T00:00:00",
          "2020-02-08T00:00:00",
          "2020-02-09T00:00:00",
          "2020-02-10T00:00:00",
          "2020-02-11T00:00:00",
          "2020-02-12T00:00:00",
          "2020-02-13T00:00:00",
          "2020-02-14T00:00:00",
          "2020-02-15T00:00:00",
          "2020-02-16T00:00:00",
          "2020-02-17T00:00:00",
          "2020-02-18T00:00:00",
          "2020-02-19T00:00:00",
          "2020-02-20T00:00:00",
          "2020-02-21T00:00:00",
          "2020-02-22T00:00:00",
          "2020-02-23T00:00:00",
          "2020-02-24T00:00:00",
          "2020-02-25T00:00:00",
          "2020-02-26T00:00:00",
          "2020-02-27T00:00:00",
          "2020-02-28T00:00:00",
          "2020-02-29T00:00:00",
          "2020-03-01T00:00:00",
          "2020-03-02T00:00:00",
          "2020-03-03T00:00:00",
          "2020-03-04T00:00:00",
          "2020-03-05T00:00:00",
          "2020-03-06T00:00:00",
          "2020-03-07T00:00:00",
          "2020-03-08T00:00:00",
          "2020-03-09T00:00:00",
          "2020-03-10T00:00:00",
          "2020-03-11T00:00:00",
          "2020-03-12T00:00:00",
          "2020-03-13T00:00:00",
          "2020-03-14T00:00:00",
          "2020-03-15T00:00:00",
          "2020-03-16T00:00:00",
          "2020-03-17T00:00:00",
          "2020-03-18T00:00:00",
          "2020-03-19T00:00:00",
          "2020-03-20T00:00:00",
          "2020-03-21T00:00:00",
          "2020-03-22T00:00:00",
          "2020-03-23T00:00:00",
          "2020-03-24T00:00:00",
          "2020-03-25T00:00:00",
          "2020-03-26T00:00:00",
          "2020-03-27T00:00:00",
          "2020-03-28T00:00:00",
          "2020-03-29T00:00:00",
          "2020-03-30T00:00:00",
          "2020-03-31T00:00:00",
          "2020-04-01T00:00:00",
          "2020-04-02T00:00:00",
          "2020-04-03T00:00:00",
          "2020-04-04T00:00:00",
          "2020-04-05T00:00:00",
          "2020-04-06T00:00:00",
          "2020-04-07T00:00:00",
          "2020-04-08T00:00:00",
          "2020-04-09T00:00:00",
          "2020-04-10T00:00:00",
          "2020-04-11T00:00:00",
          "2020-04-12T00:00:00",
          "2020-04-13T00:00:00",
          "2020-04-14T00:00:00",
          "2020-04-15T00:00:00",
          "2020-04-16T00:00:00",
          "2020-04-17T00:00:00",
          "2020-04-18T00:00:00",
          "2020-04-19T00:00:00",
          "2020-04-20T00:00:00",
          "2020-04-21T00:00:00",
          "2020-04-22T00:00:00",
          "2020-04-23T00:00:00",
          "2020-04-24T00:00:00",
          "2020-04-25T00:00:00",
          "2020-04-26T00:00:00",
          "2020-04-27T00:00:00",
          "2020-04-28T00:00:00",
          "2020-04-29T00:00:00",
          "2020-04-30T00:00:00",
          "2020-05-01T00:00:00",
          "2020-05-02T00:00:00",
          "2020-05-03T00:00:00",
          "2020-05-04T00:00:00",
          "2020-05-05T00:00:00",
          "2020-05-06T00:00:00",
          "2020-05-07T00:00:00",
          "2020-05-08T00:00:00",
          "2020-05-09T00:00:00",
          "2020-05-10T00:00:00",
          "2020-05-11T00:00:00",
          "2020-05-12T00:00:00",
          "2020-05-13T00:00:00",
          "2020-05-14T00:00:00",
          "2020-05-15T00:00:00",
          "2020-05-16T00:00:00",
          "2020-05-17T00:00:00",
          "2020-05-18T00:00:00",
          "2020-05-19T00:00:00",
          "2020-05-20T00:00:00",
          "2020-05-21T00:00:00",
          "2020-05-22T00:00:00",
          "2020-05-23T00:00:00",
          "2020-05-24T00:00:00",
          "2020-05-25T00:00:00",
          "2020-05-26T00:00:00",
          "2020-05-27T00:00:00",
          "2020-05-28T00:00:00",
          "2020-05-29T00:00:00",
          "2020-05-30T00:00:00",
          "2020-05-31T00:00:00",
          "2020-06-01T00:00:00",
          "2020-06-02T00:00:00",
          "2020-06-03T00:00:00",
          "2020-06-04T00:00:00",
          "2020-06-05T00:00:00",
          "2020-06-06T00:00:00",
          "2020-06-07T00:00:00",
          "2020-06-08T00:00:00",
          "2020-06-09T00:00:00",
          "2020-06-10T00:00:00",
          "2020-06-11T00:00:00",
          "2020-06-12T00:00:00",
          "2020-06-13T00:00:00",
          "2020-06-14T00:00:00",
          "2020-06-15T00:00:00",
          "2020-06-16T00:00:00",
          "2020-06-17T00:00:00",
          "2020-06-18T00:00:00",
          "2020-06-19T00:00:00",
          "2020-06-20T00:00:00",
          "2020-06-21T00:00:00",
          "2020-06-22T00:00:00",
          "2020-06-23T00:00:00",
          "2020-06-24T00:00:00",
          "2020-06-25T00:00:00",
          "2020-06-26T00:00:00",
          "2020-06-27T00:00:00",
          "2020-06-28T00:00:00",
          "2020-06-29T00:00:00",
          "2020-06-30T00:00:00",
          "2020-07-01T00:00:00",
          "2020-07-02T00:00:00",
          "2020-07-03T00:00:00",
          "2020-07-04T00:00:00",
          "2020-07-05T00:00:00",
          "2020-07-06T00:00:00",
          "2020-07-07T00:00:00",
          "2020-07-08T00:00:00",
          "2020-07-09T00:00:00",
          "2020-07-10T00:00:00",
          "2020-07-11T00:00:00",
          "2020-07-12T00:00:00",
          "2020-07-13T00:00:00",
          "2020-07-14T00:00:00",
          "2020-07-15T00:00:00",
          "2020-07-16T00:00:00",
          "2020-07-17T00:00:00",
          "2020-07-18T00:00:00",
          "2020-07-19T00:00:00",
          "2020-07-20T00:00:00",
          "2020-07-21T00:00:00",
          "2020-07-22T00:00:00",
          "2020-07-23T00:00:00"
         ],
         "xaxis": "x",
         "y": [
          null,
          null,
          null,
          null,
          null,
          null,
          null,
          null,
          null,
          null,
          null,
          null,
          null,
          null,
          null,
          null,
          null,
          null,
          null,
          null,
          null,
          null,
          null,
          null,
          null,
          null,
          null,
          null,
          null,
          null,
          null,
          null,
          null,
          null,
          null,
          null,
          null,
          null,
          null,
          null,
          null,
          null,
          null,
          null,
          null,
          null,
          null,
          null,
          null,
          null,
          null,
          null,
          null,
          null,
          null,
          null,
          null,
          null,
          null,
          null,
          null,
          null,
          null,
          null,
          null,
          null,
          null,
          null,
          null,
          null,
          null,
          null,
          null,
          null,
          null,
          null,
          null,
          null,
          null,
          null,
          null,
          null,
          null,
          null,
          null,
          null,
          null,
          null,
          null,
          null,
          null,
          null,
          null,
          null,
          null,
          null,
          null,
          null,
          null,
          null,
          null,
          null,
          null,
          null,
          null,
          null,
          null,
          null,
          null,
          null,
          null,
          null,
          null,
          null,
          null,
          145839.18507864923,
          153123.9952950738,
          160634.59992534405,
          168879.7072001983,
          177138.4264379329,
          185305.27912657536,
          194256.37809975928,
          202912.7993174869,
          211838.92735564488,
          221356.7753606291,
          230720.94862053794,
          240345.5427853641,
          250322.40370555664,
          260379.97532077914,
          270646.7873995741,
          281876.2602233216,
          292906.6910258104,
          304009.5597777692,
          315809.2139527071,
          327356.67016457784,
          339149.6117873988,
          351704.00977926597,
          364015.85621154855,
          376573.91889952833,
          389446.04051063256,
          402437.2262912434,
          415568.4711328151,
          429674.918031516,
          443777.9219497385,
          457804.0806261004,
          472819.9247823993,
          487506.98445488204,
          502594.8332228942,
          518323.01233214035,
          533951.2382259974,
          549931.4636630787,
          566231.7587145971,
          582635.0871640628,
          599252.9140265029,
          616805.9032721661,
          634347.3148161735,
          651875.8661492687,
          670298.1131034651,
          688452.7102295829,
          706966.2896045079,
          726167.7385286517,
          745252.9829997645,
          764671.634967964,
          784451.4209047493,
          804364.6157171134,
          824506.2875303372,
          845633.693774181,
          866729.8839521755,
          887856.0632115375,
          909874.2992857584,
          931648.0436270927,
          953790.6505552584,
          976664.4456582766,
          999422.1324659613,
          1022525.2916370067,
          1045999.2526540322
         ],
         "yaxis": "y"
        }
       ],
       "layout": {
        "legend": {
         "title": {
          "text": "variable"
         },
         "tracegroupgap": 0
        },
        "margin": {
         "t": 60
        },
        "template": {
         "data": {
          "bar": [
           {
            "error_x": {
             "color": "#f2f5fa"
            },
            "error_y": {
             "color": "#f2f5fa"
            },
            "marker": {
             "line": {
              "color": "rgb(17,17,17)",
              "width": 0.5
             }
            },
            "type": "bar"
           }
          ],
          "barpolar": [
           {
            "marker": {
             "line": {
              "color": "rgb(17,17,17)",
              "width": 0.5
             }
            },
            "type": "barpolar"
           }
          ],
          "carpet": [
           {
            "aaxis": {
             "endlinecolor": "#A2B1C6",
             "gridcolor": "#506784",
             "linecolor": "#506784",
             "minorgridcolor": "#506784",
             "startlinecolor": "#A2B1C6"
            },
            "baxis": {
             "endlinecolor": "#A2B1C6",
             "gridcolor": "#506784",
             "linecolor": "#506784",
             "minorgridcolor": "#506784",
             "startlinecolor": "#A2B1C6"
            },
            "type": "carpet"
           }
          ],
          "choropleth": [
           {
            "colorbar": {
             "outlinewidth": 0,
             "ticks": ""
            },
            "type": "choropleth"
           }
          ],
          "contour": [
           {
            "colorbar": {
             "outlinewidth": 0,
             "ticks": ""
            },
            "colorscale": [
             [
              0,
              "#0d0887"
             ],
             [
              0.1111111111111111,
              "#46039f"
             ],
             [
              0.2222222222222222,
              "#7201a8"
             ],
             [
              0.3333333333333333,
              "#9c179e"
             ],
             [
              0.4444444444444444,
              "#bd3786"
             ],
             [
              0.5555555555555556,
              "#d8576b"
             ],
             [
              0.6666666666666666,
              "#ed7953"
             ],
             [
              0.7777777777777778,
              "#fb9f3a"
             ],
             [
              0.8888888888888888,
              "#fdca26"
             ],
             [
              1,
              "#f0f921"
             ]
            ],
            "type": "contour"
           }
          ],
          "contourcarpet": [
           {
            "colorbar": {
             "outlinewidth": 0,
             "ticks": ""
            },
            "type": "contourcarpet"
           }
          ],
          "heatmap": [
           {
            "colorbar": {
             "outlinewidth": 0,
             "ticks": ""
            },
            "colorscale": [
             [
              0,
              "#0d0887"
             ],
             [
              0.1111111111111111,
              "#46039f"
             ],
             [
              0.2222222222222222,
              "#7201a8"
             ],
             [
              0.3333333333333333,
              "#9c179e"
             ],
             [
              0.4444444444444444,
              "#bd3786"
             ],
             [
              0.5555555555555556,
              "#d8576b"
             ],
             [
              0.6666666666666666,
              "#ed7953"
             ],
             [
              0.7777777777777778,
              "#fb9f3a"
             ],
             [
              0.8888888888888888,
              "#fdca26"
             ],
             [
              1,
              "#f0f921"
             ]
            ],
            "type": "heatmap"
           }
          ],
          "heatmapgl": [
           {
            "colorbar": {
             "outlinewidth": 0,
             "ticks": ""
            },
            "colorscale": [
             [
              0,
              "#0d0887"
             ],
             [
              0.1111111111111111,
              "#46039f"
             ],
             [
              0.2222222222222222,
              "#7201a8"
             ],
             [
              0.3333333333333333,
              "#9c179e"
             ],
             [
              0.4444444444444444,
              "#bd3786"
             ],
             [
              0.5555555555555556,
              "#d8576b"
             ],
             [
              0.6666666666666666,
              "#ed7953"
             ],
             [
              0.7777777777777778,
              "#fb9f3a"
             ],
             [
              0.8888888888888888,
              "#fdca26"
             ],
             [
              1,
              "#f0f921"
             ]
            ],
            "type": "heatmapgl"
           }
          ],
          "histogram": [
           {
            "marker": {
             "colorbar": {
              "outlinewidth": 0,
              "ticks": ""
             }
            },
            "type": "histogram"
           }
          ],
          "histogram2d": [
           {
            "colorbar": {
             "outlinewidth": 0,
             "ticks": ""
            },
            "colorscale": [
             [
              0,
              "#0d0887"
             ],
             [
              0.1111111111111111,
              "#46039f"
             ],
             [
              0.2222222222222222,
              "#7201a8"
             ],
             [
              0.3333333333333333,
              "#9c179e"
             ],
             [
              0.4444444444444444,
              "#bd3786"
             ],
             [
              0.5555555555555556,
              "#d8576b"
             ],
             [
              0.6666666666666666,
              "#ed7953"
             ],
             [
              0.7777777777777778,
              "#fb9f3a"
             ],
             [
              0.8888888888888888,
              "#fdca26"
             ],
             [
              1,
              "#f0f921"
             ]
            ],
            "type": "histogram2d"
           }
          ],
          "histogram2dcontour": [
           {
            "colorbar": {
             "outlinewidth": 0,
             "ticks": ""
            },
            "colorscale": [
             [
              0,
              "#0d0887"
             ],
             [
              0.1111111111111111,
              "#46039f"
             ],
             [
              0.2222222222222222,
              "#7201a8"
             ],
             [
              0.3333333333333333,
              "#9c179e"
             ],
             [
              0.4444444444444444,
              "#bd3786"
             ],
             [
              0.5555555555555556,
              "#d8576b"
             ],
             [
              0.6666666666666666,
              "#ed7953"
             ],
             [
              0.7777777777777778,
              "#fb9f3a"
             ],
             [
              0.8888888888888888,
              "#fdca26"
             ],
             [
              1,
              "#f0f921"
             ]
            ],
            "type": "histogram2dcontour"
           }
          ],
          "mesh3d": [
           {
            "colorbar": {
             "outlinewidth": 0,
             "ticks": ""
            },
            "type": "mesh3d"
           }
          ],
          "parcoords": [
           {
            "line": {
             "colorbar": {
              "outlinewidth": 0,
              "ticks": ""
             }
            },
            "type": "parcoords"
           }
          ],
          "pie": [
           {
            "automargin": true,
            "type": "pie"
           }
          ],
          "scatter": [
           {
            "marker": {
             "line": {
              "color": "#283442"
             }
            },
            "type": "scatter"
           }
          ],
          "scatter3d": [
           {
            "line": {
             "colorbar": {
              "outlinewidth": 0,
              "ticks": ""
             }
            },
            "marker": {
             "colorbar": {
              "outlinewidth": 0,
              "ticks": ""
             }
            },
            "type": "scatter3d"
           }
          ],
          "scattercarpet": [
           {
            "marker": {
             "colorbar": {
              "outlinewidth": 0,
              "ticks": ""
             }
            },
            "type": "scattercarpet"
           }
          ],
          "scattergeo": [
           {
            "marker": {
             "colorbar": {
              "outlinewidth": 0,
              "ticks": ""
             }
            },
            "type": "scattergeo"
           }
          ],
          "scattergl": [
           {
            "marker": {
             "line": {
              "color": "#283442"
             }
            },
            "type": "scattergl"
           }
          ],
          "scattermapbox": [
           {
            "marker": {
             "colorbar": {
              "outlinewidth": 0,
              "ticks": ""
             }
            },
            "type": "scattermapbox"
           }
          ],
          "scatterpolar": [
           {
            "marker": {
             "colorbar": {
              "outlinewidth": 0,
              "ticks": ""
             }
            },
            "type": "scatterpolar"
           }
          ],
          "scatterpolargl": [
           {
            "marker": {
             "colorbar": {
              "outlinewidth": 0,
              "ticks": ""
             }
            },
            "type": "scatterpolargl"
           }
          ],
          "scatterternary": [
           {
            "marker": {
             "colorbar": {
              "outlinewidth": 0,
              "ticks": ""
             }
            },
            "type": "scatterternary"
           }
          ],
          "surface": [
           {
            "colorbar": {
             "outlinewidth": 0,
             "ticks": ""
            },
            "colorscale": [
             [
              0,
              "#0d0887"
             ],
             [
              0.1111111111111111,
              "#46039f"
             ],
             [
              0.2222222222222222,
              "#7201a8"
             ],
             [
              0.3333333333333333,
              "#9c179e"
             ],
             [
              0.4444444444444444,
              "#bd3786"
             ],
             [
              0.5555555555555556,
              "#d8576b"
             ],
             [
              0.6666666666666666,
              "#ed7953"
             ],
             [
              0.7777777777777778,
              "#fb9f3a"
             ],
             [
              0.8888888888888888,
              "#fdca26"
             ],
             [
              1,
              "#f0f921"
             ]
            ],
            "type": "surface"
           }
          ],
          "table": [
           {
            "cells": {
             "fill": {
              "color": "#506784"
             },
             "line": {
              "color": "rgb(17,17,17)"
             }
            },
            "header": {
             "fill": {
              "color": "#2a3f5f"
             },
             "line": {
              "color": "rgb(17,17,17)"
             }
            },
            "type": "table"
           }
          ]
         },
         "layout": {
          "annotationdefaults": {
           "arrowcolor": "#f2f5fa",
           "arrowhead": 0,
           "arrowwidth": 1
          },
          "coloraxis": {
           "colorbar": {
            "outlinewidth": 0,
            "ticks": ""
           }
          },
          "colorscale": {
           "diverging": [
            [
             0,
             "#8e0152"
            ],
            [
             0.1,
             "#c51b7d"
            ],
            [
             0.2,
             "#de77ae"
            ],
            [
             0.3,
             "#f1b6da"
            ],
            [
             0.4,
             "#fde0ef"
            ],
            [
             0.5,
             "#f7f7f7"
            ],
            [
             0.6,
             "#e6f5d0"
            ],
            [
             0.7,
             "#b8e186"
            ],
            [
             0.8,
             "#7fbc41"
            ],
            [
             0.9,
             "#4d9221"
            ],
            [
             1,
             "#276419"
            ]
           ],
           "sequential": [
            [
             0,
             "#0d0887"
            ],
            [
             0.1111111111111111,
             "#46039f"
            ],
            [
             0.2222222222222222,
             "#7201a8"
            ],
            [
             0.3333333333333333,
             "#9c179e"
            ],
            [
             0.4444444444444444,
             "#bd3786"
            ],
            [
             0.5555555555555556,
             "#d8576b"
            ],
            [
             0.6666666666666666,
             "#ed7953"
            ],
            [
             0.7777777777777778,
             "#fb9f3a"
            ],
            [
             0.8888888888888888,
             "#fdca26"
            ],
            [
             1,
             "#f0f921"
            ]
           ],
           "sequentialminus": [
            [
             0,
             "#0d0887"
            ],
            [
             0.1111111111111111,
             "#46039f"
            ],
            [
             0.2222222222222222,
             "#7201a8"
            ],
            [
             0.3333333333333333,
             "#9c179e"
            ],
            [
             0.4444444444444444,
             "#bd3786"
            ],
            [
             0.5555555555555556,
             "#d8576b"
            ],
            [
             0.6666666666666666,
             "#ed7953"
            ],
            [
             0.7777777777777778,
             "#fb9f3a"
            ],
            [
             0.8888888888888888,
             "#fdca26"
            ],
            [
             1,
             "#f0f921"
            ]
           ]
          },
          "colorway": [
           "#636efa",
           "#EF553B",
           "#00cc96",
           "#ab63fa",
           "#FFA15A",
           "#19d3f3",
           "#FF6692",
           "#B6E880",
           "#FF97FF",
           "#FECB52"
          ],
          "font": {
           "color": "#f2f5fa"
          },
          "geo": {
           "bgcolor": "rgb(17,17,17)",
           "lakecolor": "rgb(17,17,17)",
           "landcolor": "rgb(17,17,17)",
           "showlakes": true,
           "showland": true,
           "subunitcolor": "#506784"
          },
          "hoverlabel": {
           "align": "left"
          },
          "hovermode": "closest",
          "mapbox": {
           "style": "dark"
          },
          "paper_bgcolor": "rgb(17,17,17)",
          "plot_bgcolor": "rgb(17,17,17)",
          "polar": {
           "angularaxis": {
            "gridcolor": "#506784",
            "linecolor": "#506784",
            "ticks": ""
           },
           "bgcolor": "rgb(17,17,17)",
           "radialaxis": {
            "gridcolor": "#506784",
            "linecolor": "#506784",
            "ticks": ""
           }
          },
          "scene": {
           "xaxis": {
            "backgroundcolor": "rgb(17,17,17)",
            "gridcolor": "#506784",
            "gridwidth": 2,
            "linecolor": "#506784",
            "showbackground": true,
            "ticks": "",
            "zerolinecolor": "#C8D4E3"
           },
           "yaxis": {
            "backgroundcolor": "rgb(17,17,17)",
            "gridcolor": "#506784",
            "gridwidth": 2,
            "linecolor": "#506784",
            "showbackground": true,
            "ticks": "",
            "zerolinecolor": "#C8D4E3"
           },
           "zaxis": {
            "backgroundcolor": "rgb(17,17,17)",
            "gridcolor": "#506784",
            "gridwidth": 2,
            "linecolor": "#506784",
            "showbackground": true,
            "ticks": "",
            "zerolinecolor": "#C8D4E3"
           }
          },
          "shapedefaults": {
           "line": {
            "color": "#f2f5fa"
           }
          },
          "sliderdefaults": {
           "bgcolor": "#C8D4E3",
           "bordercolor": "rgb(17,17,17)",
           "borderwidth": 1,
           "tickwidth": 0
          },
          "ternary": {
           "aaxis": {
            "gridcolor": "#506784",
            "linecolor": "#506784",
            "ticks": ""
           },
           "baxis": {
            "gridcolor": "#506784",
            "linecolor": "#506784",
            "ticks": ""
           },
           "bgcolor": "rgb(17,17,17)",
           "caxis": {
            "gridcolor": "#506784",
            "linecolor": "#506784",
            "ticks": ""
           }
          },
          "title": {
           "x": 0.05
          },
          "updatemenudefaults": {
           "bgcolor": "#506784",
           "borderwidth": 0
          },
          "xaxis": {
           "automargin": true,
           "gridcolor": "#283442",
           "linecolor": "#506784",
           "ticks": "",
           "title": {
            "standoff": 15
           },
           "zerolinecolor": "#283442",
           "zerolinewidth": 2
          },
          "yaxis": {
           "automargin": true,
           "gridcolor": "#283442",
           "linecolor": "#506784",
           "ticks": "",
           "title": {
            "standoff": 15
           },
           "zerolinecolor": "#283442",
           "zerolinewidth": 2
          }
         }
        },
        "xaxis": {
         "anchor": "y",
         "domain": [
          0,
          1
         ],
         "title": {
          "text": "Date"
         }
        },
        "yaxis": {
         "anchor": "x",
         "domain": [
          0,
          1
         ],
         "title": {
          "text": "value"
         }
        }
       }
      },
<<<<<<< HEAD
=======
      "image/png": "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",
>>>>>>> 36cf975a9ce5a6f6aa44f533a397d2773c0cbe49
      "text/html": [
       "<div>\n",
       "        \n",
       "        \n",
<<<<<<< HEAD
       "            <div id=\"57d988d9-b274-44da-8a63-a31063b7c50d\" class=\"plotly-graph-div\" style=\"height:525px; width:100%;\"></div>\n",
=======
       "            <div id=\"0e5f7dfb-5f87-46b4-8b11-6bda0aeb0b06\" class=\"plotly-graph-div\" style=\"height:525px; width:100%;\"></div>\n",
>>>>>>> 36cf975a9ce5a6f6aa44f533a397d2773c0cbe49
       "            <script type=\"text/javascript\">\n",
       "                require([\"plotly\"], function(Plotly) {\n",
       "                    window.PLOTLYENV=window.PLOTLYENV || {};\n",
       "                    \n",
<<<<<<< HEAD
       "                if (document.getElementById(\"57d988d9-b274-44da-8a63-a31063b7c50d\")) {\n",
       "                    Plotly.newPlot(\n",
       "                        '57d988d9-b274-44da-8a63-a31063b7c50d',\n",
       "                        [{\"hovertemplate\": \"variable=Total<br>Date=%{x}<br>value=%{y}<extra></extra>\", \"legendgroup\": \"Total\", \"line\": {\"color\": \"#636efa\", \"dash\": \"solid\"}, \"mode\": \"lines\", \"name\": \"Total\", \"orientation\": \"v\", \"showlegend\": true, \"type\": \"scatter\", \"x\": [\"2020-01-30T00:00:00\", \"2020-01-31T00:00:00\", \"2020-02-01T00:00:00\", \"2020-02-02T00:00:00\", \"2020-02-03T00:00:00\", \"2020-02-04T00:00:00\", \"2020-02-05T00:00:00\", \"2020-02-06T00:00:00\", \"2020-02-07T00:00:00\", \"2020-02-08T00:00:00\", \"2020-02-09T00:00:00\", \"2020-02-10T00:00:00\", \"2020-02-11T00:00:00\", \"2020-02-12T00:00:00\", \"2020-02-13T00:00:00\", \"2020-02-14T00:00:00\", \"2020-02-15T00:00:00\", \"2020-02-16T00:00:00\", \"2020-02-17T00:00:00\", \"2020-02-18T00:00:00\", \"2020-02-19T00:00:00\", \"2020-02-20T00:00:00\", \"2020-02-21T00:00:00\", \"2020-02-22T00:00:00\", \"2020-02-23T00:00:00\", \"2020-02-24T00:00:00\", \"2020-02-25T00:00:00\", \"2020-02-26T00:00:00\", \"2020-02-27T00:00:00\", \"2020-02-28T00:00:00\", \"2020-02-29T00:00:00\", \"2020-03-01T00:00:00\", \"2020-03-02T00:00:00\", \"2020-03-03T00:00:00\", \"2020-03-04T00:00:00\", \"2020-03-05T00:00:00\", \"2020-03-06T00:00:00\", \"2020-03-07T00:00:00\", \"2020-03-08T00:00:00\", \"2020-03-09T00:00:00\", \"2020-03-10T00:00:00\", \"2020-03-11T00:00:00\", \"2020-03-12T00:00:00\", \"2020-03-13T00:00:00\", \"2020-03-14T00:00:00\", \"2020-03-15T00:00:00\", \"2020-03-16T00:00:00\", \"2020-03-17T00:00:00\", \"2020-03-18T00:00:00\", \"2020-03-19T00:00:00\", \"2020-03-20T00:00:00\", \"2020-03-21T00:00:00\", \"2020-03-22T00:00:00\", \"2020-03-23T00:00:00\", \"2020-03-24T00:00:00\", \"2020-03-25T00:00:00\", \"2020-03-26T00:00:00\", \"2020-03-27T00:00:00\", \"2020-03-28T00:00:00\", \"2020-03-29T00:00:00\", \"2020-03-30T00:00:00\", \"2020-03-31T00:00:00\", \"2020-04-01T00:00:00\", \"2020-04-02T00:00:00\", \"2020-04-03T00:00:00\", \"2020-04-04T00:00:00\", \"2020-04-05T00:00:00\", \"2020-04-06T00:00:00\", \"2020-04-07T00:00:00\", \"2020-04-08T00:00:00\", \"2020-04-09T00:00:00\", \"2020-04-10T00:00:00\", \"2020-04-11T00:00:00\", \"2020-04-12T00:00:00\", \"2020-04-13T00:00:00\", \"2020-04-14T00:00:00\", \"2020-04-15T00:00:00\", \"2020-04-16T00:00:00\", \"2020-04-17T00:00:00\", \"2020-04-18T00:00:00\", \"2020-04-19T00:00:00\", \"2020-04-20T00:00:00\", \"2020-04-21T00:00:00\", \"2020-04-22T00:00:00\", \"2020-04-23T00:00:00\", \"2020-04-24T00:00:00\", \"2020-04-25T00:00:00\", \"2020-04-26T00:00:00\", \"2020-04-27T00:00:00\", \"2020-04-28T00:00:00\", \"2020-04-29T00:00:00\", \"2020-04-30T00:00:00\", \"2020-05-01T00:00:00\", \"2020-05-02T00:00:00\", \"2020-05-03T00:00:00\", \"2020-05-04T00:00:00\", \"2020-05-05T00:00:00\", \"2020-05-06T00:00:00\", \"2020-05-07T00:00:00\", \"2020-05-08T00:00:00\", \"2020-05-09T00:00:00\", \"2020-05-10T00:00:00\", \"2020-05-11T00:00:00\", \"2020-05-12T00:00:00\", \"2020-05-13T00:00:00\", \"2020-05-14T00:00:00\", \"2020-05-15T00:00:00\", \"2020-05-16T00:00:00\", \"2020-05-17T00:00:00\", \"2020-05-18T00:00:00\", \"2020-05-19T00:00:00\", \"2020-05-20T00:00:00\", \"2020-05-21T00:00:00\", \"2020-05-22T00:00:00\", \"2020-05-23T00:00:00\", \"2020-05-24T00:00:00\", \"2020-05-25T00:00:00\", \"2020-05-26T00:00:00\", \"2020-05-27T00:00:00\", \"2020-05-28T00:00:00\", \"2020-05-29T00:00:00\", \"2020-05-30T00:00:00\", \"2020-05-31T00:00:00\", \"2020-06-01T00:00:00\", \"2020-06-02T00:00:00\", \"2020-06-03T00:00:00\", \"2020-06-04T00:00:00\", \"2020-06-05T00:00:00\", \"2020-06-06T00:00:00\", \"2020-06-07T00:00:00\", \"2020-06-08T00:00:00\", \"2020-06-09T00:00:00\", \"2020-06-10T00:00:00\", \"2020-06-11T00:00:00\", \"2020-06-12T00:00:00\", \"2020-06-13T00:00:00\", \"2020-06-14T00:00:00\", \"2020-06-15T00:00:00\", \"2020-06-16T00:00:00\", \"2020-06-17T00:00:00\", \"2020-06-18T00:00:00\", \"2020-06-19T00:00:00\", \"2020-06-20T00:00:00\", \"2020-06-21T00:00:00\", \"2020-06-22T00:00:00\", \"2020-06-23T00:00:00\", \"2020-06-24T00:00:00\", \"2020-06-25T00:00:00\", \"2020-06-26T00:00:00\", \"2020-06-27T00:00:00\", \"2020-06-28T00:00:00\", \"2020-06-29T00:00:00\", \"2020-06-30T00:00:00\", \"2020-07-01T00:00:00\", \"2020-07-02T00:00:00\", \"2020-07-03T00:00:00\", \"2020-07-04T00:00:00\", \"2020-07-05T00:00:00\", \"2020-07-06T00:00:00\", \"2020-07-07T00:00:00\", \"2020-07-08T00:00:00\", \"2020-07-09T00:00:00\", \"2020-07-10T00:00:00\", \"2020-07-11T00:00:00\", \"2020-07-12T00:00:00\", \"2020-07-13T00:00:00\", \"2020-07-14T00:00:00\", \"2020-07-15T00:00:00\", \"2020-07-16T00:00:00\", \"2020-07-17T00:00:00\", \"2020-07-18T00:00:00\", \"2020-07-19T00:00:00\", \"2020-07-20T00:00:00\", \"2020-07-21T00:00:00\", \"2020-07-22T00:00:00\", \"2020-07-23T00:00:00\"], \"xaxis\": \"x\", \"y\": [1.0, 1.0, 1.0, 2.0, 3.0, 3.0, 3.0, 3.0, 3.0, 3.0, 3.0, 3.0, 3.0, 3.0, 3.0, 3.0, 3.0, 3.0, 3.0, 3.0, 3.0, 3.0, 3.0, 3.0, 3.0, 3.0, 3.0, 3.0, 3.0, 3.0, 3.0, 3.0, 5.0, 5.0, 28.0, 30.0, 31.0, 34.0, 39.0, 43.0, 56.0, 62.0, 73.0, 82.0, 102.0, 113.0, 119.0, 142.0, 156.0, 194.0, 244.0, 330.0, 396.0, 499.0, 536.0, 657.0, 727.0, 887.0, 987.0, 1024.0, 1251.0, 1397.0, 1998.0, 2543.0, 2567.0, 3082.0, 3588.0, 4778.0, 5311.0, 5916.0, 6725.0, 7598.0, 8446.0, 9205.0, 10453.0, 11487.0, 12322.0, 13430.0, 14352.0, 15722.0, 17615.0, 18539.0, 20080.0, 21370.0, 23077.0, 24530.0, 26283.0, 27890.0, 29451.0, 31324.0, 33062.0, 34863.0, 37257.0, 39699.0, 42505.0, 46437.0, 49400.0, 52987.0, 56351.0, 59695.0, 62808.0, 67161.0, 70768.0, 74292.0, 78055.0, 81997.0, 85784.0, 90648.0, 95698.0, 100328.0, 106475.0, 112028.0, 118226.0, 124794.0, 131423.0, 138536.0, 144950.0, 150793.0, 158086.0, 165386.0, 173491.0, 181827.0, 190609.0, 198370.0, 207191.0, 216824.0, 226713.0, 236184.0, 246622.0, 257486.0, 265928.0, 276146.0, 286605.0, 297535.0, 308993.0, 320922.0, 332424.0, 343091.0, 354065.0, 366946.0, 380532.0, 395048.0, 410451.0, 425282.0, 440215.0, 456183.0, 473105.0, 490401.0, 508953.0, 528859.0, 548318.0, 566840.0, 585481.0, 604641.0, 625544.0, 648315.0, 673165.0, 697413.0, 719664.0, 742417.0, 767296.0, 793802.0, 820916.0, 849522.0, 878254.0, 906752.0, 936181.0, 968857.0, 1003832.0, 1039084.0, 1077781.0, 1118206.0, 1155338.0, 1193078.0, 1238798.0, 1288108.0], \"yaxis\": \"y\"}, {\"hovertemplate\": \"variable=Prediction<br>Date=%{x}<br>value=%{y}<extra></extra>\", \"legendgroup\": \"Prediction\", \"line\": {\"color\": \"#EF553B\", \"dash\": \"solid\"}, \"mode\": \"lines\", \"name\": \"Prediction\", \"orientation\": \"v\", \"showlegend\": true, \"type\": \"scatter\", \"x\": [\"2020-01-30T00:00:00\", \"2020-01-31T00:00:00\", \"2020-02-01T00:00:00\", \"2020-02-02T00:00:00\", \"2020-02-03T00:00:00\", \"2020-02-04T00:00:00\", \"2020-02-05T00:00:00\", \"2020-02-06T00:00:00\", \"2020-02-07T00:00:00\", \"2020-02-08T00:00:00\", \"2020-02-09T00:00:00\", \"2020-02-10T00:00:00\", \"2020-02-11T00:00:00\", \"2020-02-12T00:00:00\", \"2020-02-13T00:00:00\", \"2020-02-14T00:00:00\", \"2020-02-15T00:00:00\", \"2020-02-16T00:00:00\", \"2020-02-17T00:00:00\", \"2020-02-18T00:00:00\", \"2020-02-19T00:00:00\", \"2020-02-20T00:00:00\", \"2020-02-21T00:00:00\", \"2020-02-22T00:00:00\", \"2020-02-23T00:00:00\", \"2020-02-24T00:00:00\", \"2020-02-25T00:00:00\", \"2020-02-26T00:00:00\", \"2020-02-27T00:00:00\", \"2020-02-28T00:00:00\", \"2020-02-29T00:00:00\", \"2020-03-01T00:00:00\", \"2020-03-02T00:00:00\", \"2020-03-03T00:00:00\", \"2020-03-04T00:00:00\", \"2020-03-05T00:00:00\", \"2020-03-06T00:00:00\", \"2020-03-07T00:00:00\", \"2020-03-08T00:00:00\", \"2020-03-09T00:00:00\", \"2020-03-10T00:00:00\", \"2020-03-11T00:00:00\", \"2020-03-12T00:00:00\", \"2020-03-13T00:00:00\", \"2020-03-14T00:00:00\", \"2020-03-15T00:00:00\", \"2020-03-16T00:00:00\", \"2020-03-17T00:00:00\", \"2020-03-18T00:00:00\", \"2020-03-19T00:00:00\", \"2020-03-20T00:00:00\", \"2020-03-21T00:00:00\", \"2020-03-22T00:00:00\", \"2020-03-23T00:00:00\", \"2020-03-24T00:00:00\", \"2020-03-25T00:00:00\", \"2020-03-26T00:00:00\", \"2020-03-27T00:00:00\", \"2020-03-28T00:00:00\", \"2020-03-29T00:00:00\", \"2020-03-30T00:00:00\", \"2020-03-31T00:00:00\", \"2020-04-01T00:00:00\", \"2020-04-02T00:00:00\", \"2020-04-03T00:00:00\", \"2020-04-04T00:00:00\", \"2020-04-05T00:00:00\", \"2020-04-06T00:00:00\", \"2020-04-07T00:00:00\", \"2020-04-08T00:00:00\", \"2020-04-09T00:00:00\", \"2020-04-10T00:00:00\", \"2020-04-11T00:00:00\", \"2020-04-12T00:00:00\", \"2020-04-13T00:00:00\", \"2020-04-14T00:00:00\", \"2020-04-15T00:00:00\", \"2020-04-16T00:00:00\", \"2020-04-17T00:00:00\", \"2020-04-18T00:00:00\", \"2020-04-19T00:00:00\", \"2020-04-20T00:00:00\", \"2020-04-21T00:00:00\", \"2020-04-22T00:00:00\", \"2020-04-23T00:00:00\", \"2020-04-24T00:00:00\", \"2020-04-25T00:00:00\", \"2020-04-26T00:00:00\", \"2020-04-27T00:00:00\", \"2020-04-28T00:00:00\", \"2020-04-29T00:00:00\", \"2020-04-30T00:00:00\", \"2020-05-01T00:00:00\", \"2020-05-02T00:00:00\", \"2020-05-03T00:00:00\", \"2020-05-04T00:00:00\", \"2020-05-05T00:00:00\", \"2020-05-06T00:00:00\", \"2020-05-07T00:00:00\", \"2020-05-08T00:00:00\", \"2020-05-09T00:00:00\", \"2020-05-10T00:00:00\", \"2020-05-11T00:00:00\", \"2020-05-12T00:00:00\", \"2020-05-13T00:00:00\", \"2020-05-14T00:00:00\", \"2020-05-15T00:00:00\", \"2020-05-16T00:00:00\", \"2020-05-17T00:00:00\", \"2020-05-18T00:00:00\", \"2020-05-19T00:00:00\", \"2020-05-20T00:00:00\", \"2020-05-21T00:00:00\", \"2020-05-22T00:00:00\", \"2020-05-23T00:00:00\", \"2020-05-24T00:00:00\", \"2020-05-25T00:00:00\", \"2020-05-26T00:00:00\", \"2020-05-27T00:00:00\", \"2020-05-28T00:00:00\", \"2020-05-29T00:00:00\", \"2020-05-30T00:00:00\", \"2020-05-31T00:00:00\", \"2020-06-01T00:00:00\", \"2020-06-02T00:00:00\", \"2020-06-03T00:00:00\", \"2020-06-04T00:00:00\", \"2020-06-05T00:00:00\", \"2020-06-06T00:00:00\", \"2020-06-07T00:00:00\", \"2020-06-08T00:00:00\", \"2020-06-09T00:00:00\", \"2020-06-10T00:00:00\", \"2020-06-11T00:00:00\", \"2020-06-12T00:00:00\", \"2020-06-13T00:00:00\", \"2020-06-14T00:00:00\", \"2020-06-15T00:00:00\", \"2020-06-16T00:00:00\", \"2020-06-17T00:00:00\", \"2020-06-18T00:00:00\", \"2020-06-19T00:00:00\", \"2020-06-20T00:00:00\", \"2020-06-21T00:00:00\", \"2020-06-22T00:00:00\", \"2020-06-23T00:00:00\", \"2020-06-24T00:00:00\", \"2020-06-25T00:00:00\", \"2020-06-26T00:00:00\", \"2020-06-27T00:00:00\", \"2020-06-28T00:00:00\", \"2020-06-29T00:00:00\", \"2020-06-30T00:00:00\", \"2020-07-01T00:00:00\", \"2020-07-02T00:00:00\", \"2020-07-03T00:00:00\", \"2020-07-04T00:00:00\", \"2020-07-05T00:00:00\", \"2020-07-06T00:00:00\", \"2020-07-07T00:00:00\", \"2020-07-08T00:00:00\", \"2020-07-09T00:00:00\", \"2020-07-10T00:00:00\", \"2020-07-11T00:00:00\", \"2020-07-12T00:00:00\", \"2020-07-13T00:00:00\", \"2020-07-14T00:00:00\", \"2020-07-15T00:00:00\", \"2020-07-16T00:00:00\", \"2020-07-17T00:00:00\", \"2020-07-18T00:00:00\", \"2020-07-19T00:00:00\", \"2020-07-20T00:00:00\", \"2020-07-21T00:00:00\", \"2020-07-22T00:00:00\", \"2020-07-23T00:00:00\"], \"xaxis\": \"x\", \"y\": [null, null, null, null, null, null, null, null, null, null, null, null, null, null, null, null, null, null, null, null, null, null, null, null, null, null, null, null, null, null, null, null, null, null, null, null, null, null, null, null, null, null, null, null, null, null, null, null, null, null, null, null, null, null, null, null, null, null, null, null, null, null, null, null, null, null, null, null, null, null, null, null, null, null, null, null, null, null, null, null, null, null, null, null, null, null, null, null, null, null, null, null, null, null, null, null, null, null, null, null, null, null, null, null, null, null, null, null, null, null, null, null, null, null, null, 145839.18507864923, 153123.9952950738, 160634.59992534405, 168879.7072001983, 177138.4264379329, 185305.27912657536, 194256.37809975928, 202912.7993174869, 211838.92735564488, 221356.7753606291, 230720.94862053794, 240345.5427853641, 250322.40370555664, 260379.97532077914, 270646.7873995741, 281876.2602233216, 292906.6910258104, 304009.5597777692, 315809.2139527071, 327356.67016457784, 339149.6117873988, 351704.00977926597, 364015.85621154855, 376573.91889952833, 389446.04051063256, 402437.2262912434, 415568.4711328151, 429674.918031516, 443777.9219497385, 457804.0806261004, 472819.9247823993, 487506.98445488204, 502594.8332228942, 518323.01233214035, 533951.2382259974, 549931.4636630787, 566231.7587145971, 582635.0871640628, 599252.9140265029, 616805.9032721661, 634347.3148161735, 651875.8661492687, 670298.1131034651, 688452.7102295829, 706966.2896045079, 726167.7385286517, 745252.9829997645, 764671.634967964, 784451.4209047493, 804364.6157171134, 824506.2875303372, 845633.693774181, 866729.8839521755, 887856.0632115375, 909874.2992857584, 931648.0436270927, 953790.6505552584, 976664.4456582766, 999422.1324659613, 1022525.2916370067, 1045999.2526540322], \"yaxis\": \"y\"}],\n",
=======
       "                if (document.getElementById(\"0e5f7dfb-5f87-46b4-8b11-6bda0aeb0b06\")) {\n",
       "                    Plotly.newPlot(\n",
       "                        '0e5f7dfb-5f87-46b4-8b11-6bda0aeb0b06',\n",
       "                        [{\"hovertemplate\": \"variable=Total<br>Date=%{x}<br>value=%{y}<extra></extra>\", \"legendgroup\": \"Total\", \"line\": {\"color\": \"#636efa\", \"dash\": \"solid\"}, \"mode\": \"lines\", \"name\": \"Total\", \"orientation\": \"v\", \"showlegend\": true, \"type\": \"scatter\", \"x\": [\"2020-02-16T00:00:00\", \"2020-02-17T00:00:00\", \"2020-02-18T00:00:00\", \"2020-02-19T00:00:00\", \"2020-02-20T00:00:00\", \"2020-02-21T00:00:00\", \"2020-02-22T00:00:00\", \"2020-02-23T00:00:00\", \"2020-02-24T00:00:00\", \"2020-02-25T00:00:00\", \"2020-02-26T00:00:00\", \"2020-02-27T00:00:00\", \"2020-02-28T00:00:00\", \"2020-02-29T00:00:00\", \"2020-03-01T00:00:00\", \"2020-03-02T00:00:00\", \"2020-03-03T00:00:00\", \"2020-03-04T00:00:00\", \"2020-03-05T00:00:00\", \"2020-03-06T00:00:00\", \"2020-03-07T00:00:00\", \"2020-03-08T00:00:00\", \"2020-03-09T00:00:00\", \"2020-03-10T00:00:00\", \"2020-03-11T00:00:00\", \"2020-03-12T00:00:00\", \"2020-03-13T00:00:00\", \"2020-03-14T00:00:00\", \"2020-03-15T00:00:00\", \"2020-03-16T00:00:00\", \"2020-03-17T00:00:00\", \"2020-03-18T00:00:00\", \"2020-03-19T00:00:00\", \"2020-03-20T00:00:00\", \"2020-03-21T00:00:00\", \"2020-03-22T00:00:00\", \"2020-03-23T00:00:00\", \"2020-03-24T00:00:00\", \"2020-03-25T00:00:00\", \"2020-03-26T00:00:00\", \"2020-03-27T00:00:00\", \"2020-03-28T00:00:00\", \"2020-03-29T00:00:00\", \"2020-03-30T00:00:00\", \"2020-03-31T00:00:00\", \"2020-04-01T00:00:00\", \"2020-04-02T00:00:00\", \"2020-04-03T00:00:00\", \"2020-04-04T00:00:00\", \"2020-04-05T00:00:00\", \"2020-04-06T00:00:00\", \"2020-04-07T00:00:00\", \"2020-04-08T00:00:00\", \"2020-04-09T00:00:00\", \"2020-04-10T00:00:00\", \"2020-04-11T00:00:00\", \"2020-04-12T00:00:00\", \"2020-04-13T00:00:00\", \"2020-04-14T00:00:00\", \"2020-04-15T00:00:00\", \"2020-04-16T00:00:00\", \"2020-04-17T00:00:00\", \"2020-04-18T00:00:00\", \"2020-04-19T00:00:00\", \"2020-04-20T00:00:00\", \"2020-04-21T00:00:00\", \"2020-04-22T00:00:00\", \"2020-04-23T00:00:00\", \"2020-04-24T00:00:00\", \"2020-04-25T00:00:00\", \"2020-04-26T00:00:00\", \"2020-04-27T00:00:00\", \"2020-04-28T00:00:00\", \"2020-04-29T00:00:00\", \"2020-04-30T00:00:00\", \"2020-05-01T00:00:00\", \"2020-05-02T00:00:00\", \"2020-05-03T00:00:00\", \"2020-05-04T00:00:00\", \"2020-05-05T00:00:00\", \"2020-05-06T00:00:00\", \"2020-05-07T00:00:00\", \"2020-05-08T00:00:00\", \"2020-05-09T00:00:00\", \"2020-05-10T00:00:00\", \"2020-05-11T00:00:00\", \"2020-05-12T00:00:00\", \"2020-05-13T00:00:00\", \"2020-05-14T00:00:00\", \"2020-05-15T00:00:00\", \"2020-05-16T00:00:00\", \"2020-05-17T00:00:00\", \"2020-05-18T00:00:00\", \"2020-05-19T00:00:00\", \"2020-05-20T00:00:00\", \"2020-05-21T00:00:00\", \"2020-05-22T00:00:00\", \"2020-05-23T00:00:00\", \"2020-05-24T00:00:00\", \"2020-05-25T00:00:00\", \"2020-05-26T00:00:00\", \"2020-05-27T00:00:00\", \"2020-05-28T00:00:00\", \"2020-05-29T00:00:00\", \"2020-05-30T00:00:00\", \"2020-05-31T00:00:00\", \"2020-06-01T00:00:00\", \"2020-06-02T00:00:00\", \"2020-06-03T00:00:00\", \"2020-06-04T00:00:00\", \"2020-06-05T00:00:00\", \"2020-06-06T00:00:00\", \"2020-06-07T00:00:00\", \"2020-06-08T00:00:00\", \"2020-06-09T00:00:00\", \"2020-06-10T00:00:00\", \"2020-06-11T00:00:00\", \"2020-06-12T00:00:00\", \"2020-06-13T00:00:00\", \"2020-06-14T00:00:00\", \"2020-06-15T00:00:00\", \"2020-06-16T00:00:00\", \"2020-06-17T00:00:00\", \"2020-06-18T00:00:00\", \"2020-06-19T00:00:00\", \"2020-06-20T00:00:00\", \"2020-06-21T00:00:00\", \"2020-06-22T00:00:00\", \"2020-06-23T00:00:00\", \"2020-06-24T00:00:00\", \"2020-06-25T00:00:00\", \"2020-06-26T00:00:00\", \"2020-06-27T00:00:00\", \"2020-06-28T00:00:00\", \"2020-06-29T00:00:00\", \"2020-06-30T00:00:00\", \"2020-07-01T00:00:00\", \"2020-07-02T00:00:00\", \"2020-07-03T00:00:00\", \"2020-07-04T00:00:00\", \"2020-07-05T00:00:00\", \"2020-07-06T00:00:00\", \"2020-07-07T00:00:00\", \"2020-07-08T00:00:00\", \"2020-07-09T00:00:00\", \"2020-07-10T00:00:00\", \"2020-07-11T00:00:00\", \"2020-07-12T00:00:00\", \"2020-07-13T00:00:00\", \"2020-07-14T00:00:00\", \"2020-07-15T00:00:00\", \"2020-07-16T00:00:00\", \"2020-07-17T00:00:00\", \"2020-07-18T00:00:00\", \"2020-07-19T00:00:00\", \"2020-07-20T00:00:00\", \"2020-07-21T00:00:00\", \"2020-07-22T00:00:00\"], \"xaxis\": \"x\", \"y\": [3.0, 3.0, 3.0, 3.0, 3.0, 3.0, 3.0, 3.0, 3.0, 3.0, 3.0, 3.0, 3.0, 3.0, 3.0, 3.0, 3.0, 3.0, 3.0, 3.0, 3.0, 3.0, 3.0, 4.0, 4.0, 4.0, 4.0, 4.0, 13.0, 13.0, 14.0, 14.0, 15.0, 20.0, 23.0, 27.0, 27.0, 40.0, 43.0, 45.0, 73.0, 84.0, 95.0, 102.0, 123.0, 148.0, 191.0, 192.0, 229.0, 229.0, 375.0, 421.0, 506.0, 620.0, 774.0, 969.0, 1080.0, 1181.0, 1359.0, 1432.0, 1768.0, 2041.0, 2463.0, 2854.0, 3273.0, 3975.0, 4370.0, 5012.0, 5498.0, 5939.0, 6523.0, 7137.0, 7747.0, 8437.0, 9068.0, 10007.0, 10819.0, 11775.0, 12847.0, 14142.0, 15331.0, 16776.0, 17887.0, 19301.0, 20969.0, 22549.0, 24420.0, 26400.0, 27969.0, 30258.0, 34224.0, 36795.0, 39233.0, 42309.0, 45422.0, 48553.0, 51824.0, 54385.0, 57692.0, 60706.0, 64277.0, 67749.0, 70920.0, 82627.0, 86936.0, 91852.0, 95754.0, 100285.0, 104071.0, 108450.0, 113233.0, 118695.0, 123848.0, 129095.0, 134670.0, 135206.0, 147195.0, 154330.0, 162379.0, 169798.0, 180013.0, 186935.0, 194325.0, 204711.0, 213831.0, 227728.0, 237196.0, 248190.0, 258685.0, 271697.0, 285637.0, 295881.0, 309713.0, 321723.0, 334822.0, 347912.0, 359860.0, 379892.0, 394227.0, 409083.0, 424433.0, 439934.0, 456831.0, 476378.0, 495513.0, 515386.0, 534618.0, 553471.0, 571460.0, 592032.0, 612768.0, 635757.0, 653751.0, 677423.0, 700087.0, 724578.0, 753050.0, 782607.0], \"yaxis\": \"y\"}, {\"hovertemplate\": \"variable=Prediction<br>Date=%{x}<br>value=%{y}<extra></extra>\", \"legendgroup\": \"Prediction\", \"line\": {\"color\": \"#EF553B\", \"dash\": \"solid\"}, \"mode\": \"lines\", \"name\": \"Prediction\", \"orientation\": \"v\", \"showlegend\": true, \"type\": \"scatter\", \"x\": [\"2020-02-16T00:00:00\", \"2020-02-17T00:00:00\", \"2020-02-18T00:00:00\", \"2020-02-19T00:00:00\", \"2020-02-20T00:00:00\", \"2020-02-21T00:00:00\", \"2020-02-22T00:00:00\", \"2020-02-23T00:00:00\", \"2020-02-24T00:00:00\", \"2020-02-25T00:00:00\", \"2020-02-26T00:00:00\", \"2020-02-27T00:00:00\", \"2020-02-28T00:00:00\", \"2020-02-29T00:00:00\", \"2020-03-01T00:00:00\", \"2020-03-02T00:00:00\", \"2020-03-03T00:00:00\", \"2020-03-04T00:00:00\", \"2020-03-05T00:00:00\", \"2020-03-06T00:00:00\", \"2020-03-07T00:00:00\", \"2020-03-08T00:00:00\", \"2020-03-09T00:00:00\", \"2020-03-10T00:00:00\", \"2020-03-11T00:00:00\", \"2020-03-12T00:00:00\", \"2020-03-13T00:00:00\", \"2020-03-14T00:00:00\", \"2020-03-15T00:00:00\", \"2020-03-16T00:00:00\", \"2020-03-17T00:00:00\", \"2020-03-18T00:00:00\", \"2020-03-19T00:00:00\", \"2020-03-20T00:00:00\", \"2020-03-21T00:00:00\", \"2020-03-22T00:00:00\", \"2020-03-23T00:00:00\", \"2020-03-24T00:00:00\", \"2020-03-25T00:00:00\", \"2020-03-26T00:00:00\", \"2020-03-27T00:00:00\", \"2020-03-28T00:00:00\", \"2020-03-29T00:00:00\", \"2020-03-30T00:00:00\", \"2020-03-31T00:00:00\", \"2020-04-01T00:00:00\", \"2020-04-02T00:00:00\", \"2020-04-03T00:00:00\", \"2020-04-04T00:00:00\", \"2020-04-05T00:00:00\", \"2020-04-06T00:00:00\", \"2020-04-07T00:00:00\", \"2020-04-08T00:00:00\", \"2020-04-09T00:00:00\", \"2020-04-10T00:00:00\", \"2020-04-11T00:00:00\", \"2020-04-12T00:00:00\", \"2020-04-13T00:00:00\", \"2020-04-14T00:00:00\", \"2020-04-15T00:00:00\", \"2020-04-16T00:00:00\", \"2020-04-17T00:00:00\", \"2020-04-18T00:00:00\", \"2020-04-19T00:00:00\", \"2020-04-20T00:00:00\", \"2020-04-21T00:00:00\", \"2020-04-22T00:00:00\", \"2020-04-23T00:00:00\", \"2020-04-24T00:00:00\", \"2020-04-25T00:00:00\", \"2020-04-26T00:00:00\", \"2020-04-27T00:00:00\", \"2020-04-28T00:00:00\", \"2020-04-29T00:00:00\", \"2020-04-30T00:00:00\", \"2020-05-01T00:00:00\", \"2020-05-02T00:00:00\", \"2020-05-03T00:00:00\", \"2020-05-04T00:00:00\", \"2020-05-05T00:00:00\", \"2020-05-06T00:00:00\", \"2020-05-07T00:00:00\", \"2020-05-08T00:00:00\", \"2020-05-09T00:00:00\", \"2020-05-10T00:00:00\", \"2020-05-11T00:00:00\", \"2020-05-12T00:00:00\", \"2020-05-13T00:00:00\", \"2020-05-14T00:00:00\", \"2020-05-15T00:00:00\", \"2020-05-16T00:00:00\", \"2020-05-17T00:00:00\", \"2020-05-18T00:00:00\", \"2020-05-19T00:00:00\", \"2020-05-20T00:00:00\", \"2020-05-21T00:00:00\", \"2020-05-22T00:00:00\", \"2020-05-23T00:00:00\", \"2020-05-24T00:00:00\", \"2020-05-25T00:00:00\", \"2020-05-26T00:00:00\", \"2020-05-27T00:00:00\", \"2020-05-28T00:00:00\", \"2020-05-29T00:00:00\", \"2020-05-30T00:00:00\", \"2020-05-31T00:00:00\", \"2020-06-01T00:00:00\", \"2020-06-02T00:00:00\", \"2020-06-03T00:00:00\", \"2020-06-04T00:00:00\", \"2020-06-05T00:00:00\", \"2020-06-06T00:00:00\", \"2020-06-07T00:00:00\", \"2020-06-08T00:00:00\", \"2020-06-09T00:00:00\", \"2020-06-10T00:00:00\", \"2020-06-11T00:00:00\", \"2020-06-12T00:00:00\", \"2020-06-13T00:00:00\", \"2020-06-14T00:00:00\", \"2020-06-15T00:00:00\", \"2020-06-16T00:00:00\", \"2020-06-17T00:00:00\", \"2020-06-18T00:00:00\", \"2020-06-19T00:00:00\", \"2020-06-20T00:00:00\", \"2020-06-21T00:00:00\", \"2020-06-22T00:00:00\", \"2020-06-23T00:00:00\", \"2020-06-24T00:00:00\", \"2020-06-25T00:00:00\", \"2020-06-26T00:00:00\", \"2020-06-27T00:00:00\", \"2020-06-28T00:00:00\", \"2020-06-29T00:00:00\", \"2020-06-30T00:00:00\", \"2020-07-01T00:00:00\", \"2020-07-02T00:00:00\", \"2020-07-03T00:00:00\", \"2020-07-04T00:00:00\", \"2020-07-05T00:00:00\", \"2020-07-06T00:00:00\", \"2020-07-07T00:00:00\", \"2020-07-08T00:00:00\", \"2020-07-09T00:00:00\", \"2020-07-10T00:00:00\", \"2020-07-11T00:00:00\", \"2020-07-12T00:00:00\", \"2020-07-13T00:00:00\", \"2020-07-14T00:00:00\", \"2020-07-15T00:00:00\", \"2020-07-16T00:00:00\", \"2020-07-17T00:00:00\", \"2020-07-18T00:00:00\", \"2020-07-19T00:00:00\", \"2020-07-20T00:00:00\", \"2020-07-21T00:00:00\", \"2020-07-22T00:00:00\"], \"xaxis\": \"x\", \"y\": [null, null, null, null, null, null, null, null, null, null, null, null, null, null, null, null, null, null, null, null, null, null, null, null, null, null, null, null, null, null, null, null, null, null, null, null, null, null, null, null, null, null, null, null, null, null, null, null, null, null, null, null, null, null, null, null, null, null, null, null, null, null, null, null, null, null, null, null, null, null, null, null, null, null, null, null, null, null, null, null, null, null, null, null, null, null, null, null, null, null, null, 39768.19125582887, 43031.771863500064, 45861.92155028414, 49056.42632545929, 52655.67758553961, 56120.657729785686, 60008.902606750074, 63932.52374402716, 67416.02079163368, 71833.07205429139, 78234.5130827288, 82869.84271141246, 88047.6851443259, 93490.97697394725, 98577.86501137099, 104035.66343447412, 109870.30466406052, 115620.66413884144, 121773.59021162611, 128022.72889952284, 133874.95658947775, 140607.8436961026, 149235.06378282377, 156274.82039146125, 163833.1956120704, 171698.57364316113, 179208.7189898065, 187118.8541039221, 195448.55759339736, 203705.8565784003, 212405.59309484938, 221209.1227263799, 229630.30063918018, 238984.75811028888, 250300.8853576245, 259990.4709062139, 270239.8086051458, 280811.3630703274, 291058.89079664403, 301726.56126722513, 312828.5483021022, 323885.0952885319, 335399.9574693178, 347047.2778126014, 358338.14717467263, 370573.12315801496, 384774.76725803816, 397397.0107695755, 410594.3809462447, 424139.60675534967, 437380.11090123915, 451064.43962817756, 465208.9066814647, 479328.91694848053, 493932.6158285589, 508689.08161168755, 523110.49937715183, 538503.3957993177, 555892.6401887626, 571715.4736176569, 588139.0032699321, 604931.8926256874, 621444.0722253823, 638422.3544746866, 655882.2051291879, 673340.9447359415, 691304.9795507656], \"yaxis\": \"y\"}],\n",
>>>>>>> 36cf975a9ce5a6f6aa44f533a397d2773c0cbe49
       "                        {\"legend\": {\"title\": {\"text\": \"variable\"}, \"tracegroupgap\": 0}, \"margin\": {\"t\": 60}, \"template\": {\"data\": {\"bar\": [{\"error_x\": {\"color\": \"#f2f5fa\"}, \"error_y\": {\"color\": \"#f2f5fa\"}, \"marker\": {\"line\": {\"color\": \"rgb(17,17,17)\", \"width\": 0.5}}, \"type\": \"bar\"}], \"barpolar\": [{\"marker\": {\"line\": {\"color\": \"rgb(17,17,17)\", \"width\": 0.5}}, \"type\": \"barpolar\"}], \"carpet\": [{\"aaxis\": {\"endlinecolor\": \"#A2B1C6\", \"gridcolor\": \"#506784\", \"linecolor\": \"#506784\", \"minorgridcolor\": \"#506784\", \"startlinecolor\": \"#A2B1C6\"}, \"baxis\": {\"endlinecolor\": \"#A2B1C6\", \"gridcolor\": \"#506784\", \"linecolor\": \"#506784\", \"minorgridcolor\": \"#506784\", \"startlinecolor\": \"#A2B1C6\"}, \"type\": \"carpet\"}], \"choropleth\": [{\"colorbar\": {\"outlinewidth\": 0, \"ticks\": \"\"}, \"type\": \"choropleth\"}], \"contour\": [{\"colorbar\": {\"outlinewidth\": 0, \"ticks\": \"\"}, \"colorscale\": [[0.0, \"#0d0887\"], [0.1111111111111111, \"#46039f\"], [0.2222222222222222, \"#7201a8\"], [0.3333333333333333, \"#9c179e\"], [0.4444444444444444, \"#bd3786\"], [0.5555555555555556, \"#d8576b\"], [0.6666666666666666, \"#ed7953\"], [0.7777777777777778, \"#fb9f3a\"], [0.8888888888888888, \"#fdca26\"], [1.0, \"#f0f921\"]], \"type\": \"contour\"}], \"contourcarpet\": [{\"colorbar\": {\"outlinewidth\": 0, \"ticks\": \"\"}, \"type\": \"contourcarpet\"}], \"heatmap\": [{\"colorbar\": {\"outlinewidth\": 0, \"ticks\": \"\"}, \"colorscale\": [[0.0, \"#0d0887\"], [0.1111111111111111, \"#46039f\"], [0.2222222222222222, \"#7201a8\"], [0.3333333333333333, \"#9c179e\"], [0.4444444444444444, \"#bd3786\"], [0.5555555555555556, \"#d8576b\"], [0.6666666666666666, \"#ed7953\"], [0.7777777777777778, \"#fb9f3a\"], [0.8888888888888888, \"#fdca26\"], [1.0, \"#f0f921\"]], \"type\": \"heatmap\"}], \"heatmapgl\": [{\"colorbar\": {\"outlinewidth\": 0, \"ticks\": \"\"}, \"colorscale\": [[0.0, \"#0d0887\"], [0.1111111111111111, \"#46039f\"], [0.2222222222222222, \"#7201a8\"], [0.3333333333333333, \"#9c179e\"], [0.4444444444444444, \"#bd3786\"], [0.5555555555555556, \"#d8576b\"], [0.6666666666666666, \"#ed7953\"], [0.7777777777777778, \"#fb9f3a\"], [0.8888888888888888, \"#fdca26\"], [1.0, \"#f0f921\"]], \"type\": \"heatmapgl\"}], \"histogram\": [{\"marker\": {\"colorbar\": {\"outlinewidth\": 0, \"ticks\": \"\"}}, \"type\": \"histogram\"}], \"histogram2d\": [{\"colorbar\": {\"outlinewidth\": 0, \"ticks\": \"\"}, \"colorscale\": [[0.0, \"#0d0887\"], [0.1111111111111111, \"#46039f\"], [0.2222222222222222, \"#7201a8\"], [0.3333333333333333, \"#9c179e\"], [0.4444444444444444, \"#bd3786\"], [0.5555555555555556, \"#d8576b\"], [0.6666666666666666, \"#ed7953\"], [0.7777777777777778, \"#fb9f3a\"], [0.8888888888888888, \"#fdca26\"], [1.0, \"#f0f921\"]], \"type\": \"histogram2d\"}], \"histogram2dcontour\": [{\"colorbar\": {\"outlinewidth\": 0, \"ticks\": \"\"}, \"colorscale\": [[0.0, \"#0d0887\"], [0.1111111111111111, \"#46039f\"], [0.2222222222222222, \"#7201a8\"], [0.3333333333333333, \"#9c179e\"], [0.4444444444444444, \"#bd3786\"], [0.5555555555555556, \"#d8576b\"], [0.6666666666666666, \"#ed7953\"], [0.7777777777777778, \"#fb9f3a\"], [0.8888888888888888, \"#fdca26\"], [1.0, \"#f0f921\"]], \"type\": \"histogram2dcontour\"}], \"mesh3d\": [{\"colorbar\": {\"outlinewidth\": 0, \"ticks\": \"\"}, \"type\": \"mesh3d\"}], \"parcoords\": [{\"line\": {\"colorbar\": {\"outlinewidth\": 0, \"ticks\": \"\"}}, \"type\": \"parcoords\"}], \"pie\": [{\"automargin\": true, \"type\": \"pie\"}], \"scatter\": [{\"marker\": {\"line\": {\"color\": \"#283442\"}}, \"type\": \"scatter\"}], \"scatter3d\": [{\"line\": {\"colorbar\": {\"outlinewidth\": 0, \"ticks\": \"\"}}, \"marker\": {\"colorbar\": {\"outlinewidth\": 0, \"ticks\": \"\"}}, \"type\": \"scatter3d\"}], \"scattercarpet\": [{\"marker\": {\"colorbar\": {\"outlinewidth\": 0, \"ticks\": \"\"}}, \"type\": \"scattercarpet\"}], \"scattergeo\": [{\"marker\": {\"colorbar\": {\"outlinewidth\": 0, \"ticks\": \"\"}}, \"type\": \"scattergeo\"}], \"scattergl\": [{\"marker\": {\"line\": {\"color\": \"#283442\"}}, \"type\": \"scattergl\"}], \"scattermapbox\": [{\"marker\": {\"colorbar\": {\"outlinewidth\": 0, \"ticks\": \"\"}}, \"type\": \"scattermapbox\"}], \"scatterpolar\": [{\"marker\": {\"colorbar\": {\"outlinewidth\": 0, \"ticks\": \"\"}}, \"type\": \"scatterpolar\"}], \"scatterpolargl\": [{\"marker\": {\"colorbar\": {\"outlinewidth\": 0, \"ticks\": \"\"}}, \"type\": \"scatterpolargl\"}], \"scatterternary\": [{\"marker\": {\"colorbar\": {\"outlinewidth\": 0, \"ticks\": \"\"}}, \"type\": \"scatterternary\"}], \"surface\": [{\"colorbar\": {\"outlinewidth\": 0, \"ticks\": \"\"}, \"colorscale\": [[0.0, \"#0d0887\"], [0.1111111111111111, \"#46039f\"], [0.2222222222222222, \"#7201a8\"], [0.3333333333333333, \"#9c179e\"], [0.4444444444444444, \"#bd3786\"], [0.5555555555555556, \"#d8576b\"], [0.6666666666666666, \"#ed7953\"], [0.7777777777777778, \"#fb9f3a\"], [0.8888888888888888, \"#fdca26\"], [1.0, \"#f0f921\"]], \"type\": \"surface\"}], \"table\": [{\"cells\": {\"fill\": {\"color\": \"#506784\"}, \"line\": {\"color\": \"rgb(17,17,17)\"}}, \"header\": {\"fill\": {\"color\": \"#2a3f5f\"}, \"line\": {\"color\": \"rgb(17,17,17)\"}}, \"type\": \"table\"}]}, \"layout\": {\"annotationdefaults\": {\"arrowcolor\": \"#f2f5fa\", \"arrowhead\": 0, \"arrowwidth\": 1}, \"coloraxis\": {\"colorbar\": {\"outlinewidth\": 0, \"ticks\": \"\"}}, \"colorscale\": {\"diverging\": [[0, \"#8e0152\"], [0.1, \"#c51b7d\"], [0.2, \"#de77ae\"], [0.3, \"#f1b6da\"], [0.4, \"#fde0ef\"], [0.5, \"#f7f7f7\"], [0.6, \"#e6f5d0\"], [0.7, \"#b8e186\"], [0.8, \"#7fbc41\"], [0.9, \"#4d9221\"], [1, \"#276419\"]], \"sequential\": [[0.0, \"#0d0887\"], [0.1111111111111111, \"#46039f\"], [0.2222222222222222, \"#7201a8\"], [0.3333333333333333, \"#9c179e\"], [0.4444444444444444, \"#bd3786\"], [0.5555555555555556, \"#d8576b\"], [0.6666666666666666, \"#ed7953\"], [0.7777777777777778, \"#fb9f3a\"], [0.8888888888888888, \"#fdca26\"], [1.0, \"#f0f921\"]], \"sequentialminus\": [[0.0, \"#0d0887\"], [0.1111111111111111, \"#46039f\"], [0.2222222222222222, \"#7201a8\"], [0.3333333333333333, \"#9c179e\"], [0.4444444444444444, \"#bd3786\"], [0.5555555555555556, \"#d8576b\"], [0.6666666666666666, \"#ed7953\"], [0.7777777777777778, \"#fb9f3a\"], [0.8888888888888888, \"#fdca26\"], [1.0, \"#f0f921\"]]}, \"colorway\": [\"#636efa\", \"#EF553B\", \"#00cc96\", \"#ab63fa\", \"#FFA15A\", \"#19d3f3\", \"#FF6692\", \"#B6E880\", \"#FF97FF\", \"#FECB52\"], \"font\": {\"color\": \"#f2f5fa\"}, \"geo\": {\"bgcolor\": \"rgb(17,17,17)\", \"lakecolor\": \"rgb(17,17,17)\", \"landcolor\": \"rgb(17,17,17)\", \"showlakes\": true, \"showland\": true, \"subunitcolor\": \"#506784\"}, \"hoverlabel\": {\"align\": \"left\"}, \"hovermode\": \"closest\", \"mapbox\": {\"style\": \"dark\"}, \"paper_bgcolor\": \"rgb(17,17,17)\", \"plot_bgcolor\": \"rgb(17,17,17)\", \"polar\": {\"angularaxis\": {\"gridcolor\": \"#506784\", \"linecolor\": \"#506784\", \"ticks\": \"\"}, \"bgcolor\": \"rgb(17,17,17)\", \"radialaxis\": {\"gridcolor\": \"#506784\", \"linecolor\": \"#506784\", \"ticks\": \"\"}}, \"scene\": {\"xaxis\": {\"backgroundcolor\": \"rgb(17,17,17)\", \"gridcolor\": \"#506784\", \"gridwidth\": 2, \"linecolor\": \"#506784\", \"showbackground\": true, \"ticks\": \"\", \"zerolinecolor\": \"#C8D4E3\"}, \"yaxis\": {\"backgroundcolor\": \"rgb(17,17,17)\", \"gridcolor\": \"#506784\", \"gridwidth\": 2, \"linecolor\": \"#506784\", \"showbackground\": true, \"ticks\": \"\", \"zerolinecolor\": \"#C8D4E3\"}, \"zaxis\": {\"backgroundcolor\": \"rgb(17,17,17)\", \"gridcolor\": \"#506784\", \"gridwidth\": 2, \"linecolor\": \"#506784\", \"showbackground\": true, \"ticks\": \"\", \"zerolinecolor\": \"#C8D4E3\"}}, \"shapedefaults\": {\"line\": {\"color\": \"#f2f5fa\"}}, \"sliderdefaults\": {\"bgcolor\": \"#C8D4E3\", \"bordercolor\": \"rgb(17,17,17)\", \"borderwidth\": 1, \"tickwidth\": 0}, \"ternary\": {\"aaxis\": {\"gridcolor\": \"#506784\", \"linecolor\": \"#506784\", \"ticks\": \"\"}, \"baxis\": {\"gridcolor\": \"#506784\", \"linecolor\": \"#506784\", \"ticks\": \"\"}, \"bgcolor\": \"rgb(17,17,17)\", \"caxis\": {\"gridcolor\": \"#506784\", \"linecolor\": \"#506784\", \"ticks\": \"\"}}, \"title\": {\"x\": 0.05}, \"updatemenudefaults\": {\"bgcolor\": \"#506784\", \"borderwidth\": 0}, \"xaxis\": {\"automargin\": true, \"gridcolor\": \"#283442\", \"linecolor\": \"#506784\", \"ticks\": \"\", \"title\": {\"standoff\": 15}, \"zerolinecolor\": \"#283442\", \"zerolinewidth\": 2}, \"yaxis\": {\"automargin\": true, \"gridcolor\": \"#283442\", \"linecolor\": \"#506784\", \"ticks\": \"\", \"title\": {\"standoff\": 15}, \"zerolinecolor\": \"#283442\", \"zerolinewidth\": 2}}}, \"xaxis\": {\"anchor\": \"y\", \"domain\": [0.0, 1.0], \"title\": {\"text\": \"Date\"}}, \"yaxis\": {\"anchor\": \"x\", \"domain\": [0.0, 1.0], \"title\": {\"text\": \"value\"}}},\n",
       "                        {\"responsive\": true}\n",
       "                    ).then(function(){\n",
       "                            \n",
<<<<<<< HEAD
       "var gd = document.getElementById('57d988d9-b274-44da-8a63-a31063b7c50d');\n",
=======
       "var gd = document.getElementById('0e5f7dfb-5f87-46b4-8b11-6bda0aeb0b06');\n",
>>>>>>> 36cf975a9ce5a6f6aa44f533a397d2773c0cbe49
       "var x = new MutationObserver(function (mutations, observer) {{\n",
       "        var display = window.getComputedStyle(gd).display;\n",
       "        if (!display || display === 'none') {{\n",
       "            console.log([gd, 'removed!']);\n",
       "            Plotly.purge(gd);\n",
       "            observer.disconnect();\n",
       "        }}\n",
       "}});\n",
       "\n",
       "// Listen for the removal of the full notebook cells\n",
       "var notebookContainer = gd.closest('#notebook-container');\n",
       "if (notebookContainer) {{\n",
       "    x.observe(notebookContainer, {childList: true});\n",
       "}}\n",
       "\n",
       "// Listen for the clearing of the current output cell\n",
       "var outputEl = gd.closest('.output');\n",
       "if (outputEl) {{\n",
       "    x.observe(outputEl, {childList: true});\n",
       "}}\n",
       "\n",
       "                        })\n",
       "                };\n",
       "                });\n",
       "            </script>\n",
       "        </div>"
      ]
     },
     "metadata": {},
     "output_type": "display_data"
    }
   ],
   "source": [
    "split_date = pd.Timestamp('2020-05-24')\n",
    "train,test=split_dataframe(split_date)\n",
    "fig,future_forecast=forecast()\n",
    "fig"
   ]
  },
  {
   "cell_type": "code",
   "execution_count": 55,
   "metadata": {},
   "outputs": [
    {
     "data": {
      "text/plain": [
       "6.488968368587282"
      ]
     },
     "execution_count": 55,
     "metadata": {},
     "output_type": "execute_result"
    }
   ],
   "source": [
    "mean_absolute_percentage_error(test,future_forecast)"
   ]
  },
  {
   "cell_type": "code",
   "execution_count": 56,
   "metadata": {},
   "outputs": [
    {
     "data": {
      "text/html": [
       "<div>\n",
       "<style scoped>\n",
       "    .dataframe tbody tr th:only-of-type {\n",
       "        vertical-align: middle;\n",
       "    }\n",
       "\n",
       "    .dataframe tbody tr th {\n",
       "        vertical-align: top;\n",
       "    }\n",
       "\n",
       "    .dataframe thead th {\n",
       "        text-align: right;\n",
       "    }\n",
       "</style>\n",
       "<table border=\"1\" class=\"dataframe\">\n",
       "  <thead>\n",
       "    <tr style=\"text-align: right;\">\n",
       "      <th></th>\n",
       "      <th>Prediction</th>\n",
       "      <th>Actual</th>\n",
       "    </tr>\n",
       "    <tr>\n",
       "      <th>Date</th>\n",
       "      <th></th>\n",
       "      <th></th>\n",
       "    </tr>\n",
       "  </thead>\n",
       "  <tbody>\n",
       "    <tr>\n",
       "      <th>2020-05-24</th>\n",
       "      <td>1.458392e+05</td>\n",
       "      <td>138536</td>\n",
       "    </tr>\n",
       "    <tr>\n",
       "      <th>2020-05-25</th>\n",
       "      <td>1.531240e+05</td>\n",
       "      <td>144950</td>\n",
       "    </tr>\n",
       "    <tr>\n",
       "      <th>2020-05-26</th>\n",
       "      <td>1.606346e+05</td>\n",
       "      <td>150793</td>\n",
       "    </tr>\n",
       "    <tr>\n",
       "      <th>2020-05-27</th>\n",
       "      <td>1.688797e+05</td>\n",
       "      <td>158086</td>\n",
       "    </tr>\n",
       "    <tr>\n",
       "      <th>2020-05-28</th>\n",
       "      <td>1.771384e+05</td>\n",
       "      <td>165386</td>\n",
       "    </tr>\n",
       "    <tr>\n",
       "      <th>...</th>\n",
       "      <td>...</td>\n",
       "      <td>...</td>\n",
       "    </tr>\n",
       "    <tr>\n",
       "      <th>2020-07-19</th>\n",
       "      <td>9.537907e+05</td>\n",
       "      <td>1118206</td>\n",
       "    </tr>\n",
       "    <tr>\n",
       "      <th>2020-07-20</th>\n",
       "      <td>9.766644e+05</td>\n",
       "      <td>1155338</td>\n",
       "    </tr>\n",
       "    <tr>\n",
       "      <th>2020-07-21</th>\n",
       "      <td>9.994221e+05</td>\n",
       "      <td>1193078</td>\n",
       "    </tr>\n",
       "    <tr>\n",
       "      <th>2020-07-22</th>\n",
       "      <td>1.022525e+06</td>\n",
       "      <td>1238798</td>\n",
       "    </tr>\n",
       "    <tr>\n",
       "      <th>2020-07-23</th>\n",
       "      <td>1.045999e+06</td>\n",
       "      <td>1288108</td>\n",
       "    </tr>\n",
       "  </tbody>\n",
       "</table>\n",
       "<p>61 rows × 2 columns</p>\n",
       "</div>"
      ],
      "text/plain": [
       "              Prediction   Actual\n",
       "Date                             \n",
       "2020-05-24  1.458392e+05   138536\n",
       "2020-05-25  1.531240e+05   144950\n",
       "2020-05-26  1.606346e+05   150793\n",
       "2020-05-27  1.688797e+05   158086\n",
       "2020-05-28  1.771384e+05   165386\n",
       "...                  ...      ...\n",
       "2020-07-19  9.537907e+05  1118206\n",
       "2020-07-20  9.766644e+05  1155338\n",
       "2020-07-21  9.994221e+05  1193078\n",
       "2020-07-22  1.022525e+06  1238798\n",
       "2020-07-23  1.045999e+06  1288108\n",
       "\n",
       "[61 rows x 2 columns]"
      ]
     },
     "execution_count": 56,
     "metadata": {},
     "output_type": "execute_result"
    }
   ],
   "source": [
    "future_forecast['Actual']=test.Total\n",
    "future_forecast"
   ]
  },
  {
   "cell_type": "markdown",
   "metadata": {},
   "source": [
    "## Deaths"
   ]
  },
  {
   "cell_type": "code",
   "execution_count": 14,
   "metadata": {},
   "outputs": [
    {
     "data": {
      "application/vnd.plotly.v1+json": {
       "config": {
        "plotlyServerURL": "https://plot.ly"
       },
       "data": [
        {
         "hovertemplate": "variable=Total<br>Date=%{x}<br>value=%{y}<extra></extra>",
         "legendgroup": "Total",
         "line": {
          "color": "#636efa",
          "dash": "solid"
         },
         "mode": "lines",
         "name": "Total",
         "orientation": "v",
         "showlegend": true,
         "type": "scatter",
         "x": [
          "2020-03-11T00:00:00",
          "2020-03-12T00:00:00",
          "2020-03-13T00:00:00",
          "2020-03-14T00:00:00",
          "2020-03-15T00:00:00",
          "2020-03-16T00:00:00",
          "2020-03-17T00:00:00",
          "2020-03-18T00:00:00",
          "2020-03-19T00:00:00",
          "2020-03-20T00:00:00",
          "2020-03-21T00:00:00",
          "2020-03-22T00:00:00",
          "2020-03-23T00:00:00",
          "2020-03-24T00:00:00",
          "2020-03-25T00:00:00",
          "2020-03-26T00:00:00",
          "2020-03-27T00:00:00",
          "2020-03-28T00:00:00",
          "2020-03-29T00:00:00",
          "2020-03-30T00:00:00",
          "2020-03-31T00:00:00",
          "2020-04-01T00:00:00",
          "2020-04-02T00:00:00",
          "2020-04-03T00:00:00",
          "2020-04-04T00:00:00",
          "2020-04-05T00:00:00",
          "2020-04-06T00:00:00",
          "2020-04-07T00:00:00",
          "2020-04-08T00:00:00",
          "2020-04-09T00:00:00",
          "2020-04-10T00:00:00",
          "2020-04-11T00:00:00",
          "2020-04-12T00:00:00",
          "2020-04-13T00:00:00",
          "2020-04-14T00:00:00",
          "2020-04-15T00:00:00",
          "2020-04-16T00:00:00",
          "2020-04-17T00:00:00",
          "2020-04-18T00:00:00",
          "2020-04-19T00:00:00",
          "2020-04-20T00:00:00",
          "2020-04-21T00:00:00",
          "2020-04-22T00:00:00",
          "2020-04-23T00:00:00",
          "2020-04-24T00:00:00",
          "2020-04-25T00:00:00",
          "2020-04-26T00:00:00",
          "2020-04-27T00:00:00",
          "2020-04-28T00:00:00",
          "2020-04-29T00:00:00",
          "2020-04-30T00:00:00",
          "2020-05-01T00:00:00",
          "2020-05-02T00:00:00",
          "2020-05-03T00:00:00",
          "2020-05-04T00:00:00",
          "2020-05-05T00:00:00",
          "2020-05-06T00:00:00",
          "2020-05-07T00:00:00",
          "2020-05-08T00:00:00",
          "2020-05-09T00:00:00",
          "2020-05-10T00:00:00",
          "2020-05-11T00:00:00",
          "2020-05-12T00:00:00",
          "2020-05-13T00:00:00",
          "2020-05-14T00:00:00",
          "2020-05-15T00:00:00",
          "2020-05-16T00:00:00",
          "2020-05-17T00:00:00",
          "2020-05-18T00:00:00",
          "2020-05-19T00:00:00",
          "2020-05-20T00:00:00",
          "2020-05-21T00:00:00",
          "2020-05-22T00:00:00",
          "2020-05-23T00:00:00",
          "2020-05-24T00:00:00",
          "2020-05-25T00:00:00",
          "2020-05-26T00:00:00",
          "2020-05-27T00:00:00",
          "2020-05-28T00:00:00",
          "2020-05-29T00:00:00",
          "2020-05-30T00:00:00",
          "2020-05-31T00:00:00",
          "2020-06-01T00:00:00",
          "2020-06-02T00:00:00",
          "2020-06-03T00:00:00",
          "2020-06-04T00:00:00",
          "2020-06-05T00:00:00",
          "2020-06-06T00:00:00",
          "2020-06-07T00:00:00",
          "2020-06-08T00:00:00",
          "2020-06-09T00:00:00",
          "2020-06-10T00:00:00",
          "2020-06-11T00:00:00",
          "2020-06-12T00:00:00",
          "2020-06-13T00:00:00",
          "2020-06-14T00:00:00",
          "2020-06-15T00:00:00",
          "2020-06-16T00:00:00",
          "2020-06-17T00:00:00",
          "2020-06-18T00:00:00",
          "2020-06-19T00:00:00",
          "2020-06-20T00:00:00",
          "2020-06-21T00:00:00",
          "2020-06-22T00:00:00",
          "2020-06-23T00:00:00",
          "2020-06-24T00:00:00",
          "2020-06-25T00:00:00",
          "2020-06-26T00:00:00",
          "2020-06-27T00:00:00",
          "2020-06-28T00:00:00",
          "2020-06-29T00:00:00",
          "2020-06-30T00:00:00",
          "2020-07-01T00:00:00",
          "2020-07-02T00:00:00",
          "2020-07-03T00:00:00",
          "2020-07-04T00:00:00",
          "2020-07-05T00:00:00",
          "2020-07-06T00:00:00",
          "2020-07-07T00:00:00",
          "2020-07-08T00:00:00",
          "2020-07-09T00:00:00",
          "2020-07-10T00:00:00",
          "2020-07-11T00:00:00",
          "2020-07-12T00:00:00",
          "2020-07-13T00:00:00",
          "2020-07-14T00:00:00",
          "2020-07-15T00:00:00",
          "2020-07-16T00:00:00",
          "2020-07-17T00:00:00",
          "2020-07-18T00:00:00",
          "2020-07-19T00:00:00",
          "2020-07-20T00:00:00",
          "2020-07-21T00:00:00",
          "2020-07-22T00:00:00",
          "2020-07-23T00:00:00"
         ],
         "xaxis": "x",
         "y": [
          1,
          1,
          2,
          2,
          2,
          2,
          3,
          3,
          4,
          5,
          4,
          7,
          10,
          10,
          12,
          20,
          20,
          24,
          27,
          32,
          35,
          58,
          72,
          72,
          86,
          99,
          136,
          150,
          178,
          226,
          246,
          288,
          331,
          358,
          393,
          405,
          448,
          486,
          521,
          559,
          592,
          645,
          681,
          721,
          780,
          825,
          881,
          939,
          1008,
          1079,
          1154,
          1223,
          1323,
          1391,
          1566,
          1693,
          1785,
          1889,
          1985,
          2101,
          2212,
          2294,
          2415,
          2551,
          2649,
          2753,
          2871,
          3025,
          3156,
          3302,
          3434,
          3584,
          3726,
          3868,
          4024,
          4172,
          4344,
          4534,
          4711,
          4980,
          5185,
          5408,
          5608,
          5829,
          6088,
          6363,
          6649,
          6946,
          7207,
          7473,
          7750,
          8102,
          8498,
          8884,
          9195,
          9520,
          9900,
          11903,
          12237,
          12573,
          12948,
          13254,
          13699,
          14011,
          14476,
          14894,
          15301,
          15685,
          16095,
          16475,
          16893,
          17400,
          17834,
          18213,
          18655,
          19268,
          19693,
          20159,
          20642,
          21129,
          21604,
          22123,
          22673,
          23174,
          23727,
          24309,
          24914,
          25602,
          26273,
          26816,
          27497,
          28082,
          28732,
          29861,
          30601
         ],
         "yaxis": "y"
        }
       ],
       "layout": {
        "legend": {
         "title": {
          "text": "variable"
         },
         "tracegroupgap": 0
        },
        "margin": {
         "t": 60
        },
        "template": {
         "data": {
          "bar": [
           {
            "error_x": {
             "color": "#f2f5fa"
            },
            "error_y": {
             "color": "#f2f5fa"
            },
            "marker": {
             "line": {
              "color": "rgb(17,17,17)",
              "width": 0.5
             }
            },
            "type": "bar"
           }
          ],
          "barpolar": [
           {
            "marker": {
             "line": {
              "color": "rgb(17,17,17)",
              "width": 0.5
             }
            },
            "type": "barpolar"
           }
          ],
          "carpet": [
           {
            "aaxis": {
             "endlinecolor": "#A2B1C6",
             "gridcolor": "#506784",
             "linecolor": "#506784",
             "minorgridcolor": "#506784",
             "startlinecolor": "#A2B1C6"
            },
            "baxis": {
             "endlinecolor": "#A2B1C6",
             "gridcolor": "#506784",
             "linecolor": "#506784",
             "minorgridcolor": "#506784",
             "startlinecolor": "#A2B1C6"
            },
            "type": "carpet"
           }
          ],
          "choropleth": [
           {
            "colorbar": {
             "outlinewidth": 0,
             "ticks": ""
            },
            "type": "choropleth"
           }
          ],
          "contour": [
           {
            "colorbar": {
             "outlinewidth": 0,
             "ticks": ""
            },
            "colorscale": [
             [
              0,
              "#0d0887"
             ],
             [
              0.1111111111111111,
              "#46039f"
             ],
             [
              0.2222222222222222,
              "#7201a8"
             ],
             [
              0.3333333333333333,
              "#9c179e"
             ],
             [
              0.4444444444444444,
              "#bd3786"
             ],
             [
              0.5555555555555556,
              "#d8576b"
             ],
             [
              0.6666666666666666,
              "#ed7953"
             ],
             [
              0.7777777777777778,
              "#fb9f3a"
             ],
             [
              0.8888888888888888,
              "#fdca26"
             ],
             [
              1,
              "#f0f921"
             ]
            ],
            "type": "contour"
           }
          ],
          "contourcarpet": [
           {
            "colorbar": {
             "outlinewidth": 0,
             "ticks": ""
            },
            "type": "contourcarpet"
           }
          ],
          "heatmap": [
           {
            "colorbar": {
             "outlinewidth": 0,
             "ticks": ""
            },
            "colorscale": [
             [
              0,
              "#0d0887"
             ],
             [
              0.1111111111111111,
              "#46039f"
             ],
             [
              0.2222222222222222,
              "#7201a8"
             ],
             [
              0.3333333333333333,
              "#9c179e"
             ],
             [
              0.4444444444444444,
              "#bd3786"
             ],
             [
              0.5555555555555556,
              "#d8576b"
             ],
             [
              0.6666666666666666,
              "#ed7953"
             ],
             [
              0.7777777777777778,
              "#fb9f3a"
             ],
             [
              0.8888888888888888,
              "#fdca26"
             ],
             [
              1,
              "#f0f921"
             ]
            ],
            "type": "heatmap"
           }
          ],
          "heatmapgl": [
           {
            "colorbar": {
             "outlinewidth": 0,
             "ticks": ""
            },
            "colorscale": [
             [
              0,
              "#0d0887"
             ],
             [
              0.1111111111111111,
              "#46039f"
             ],
             [
              0.2222222222222222,
              "#7201a8"
             ],
             [
              0.3333333333333333,
              "#9c179e"
             ],
             [
              0.4444444444444444,
              "#bd3786"
             ],
             [
              0.5555555555555556,
              "#d8576b"
             ],
             [
              0.6666666666666666,
              "#ed7953"
             ],
             [
              0.7777777777777778,
              "#fb9f3a"
             ],
             [
              0.8888888888888888,
              "#fdca26"
             ],
             [
              1,
              "#f0f921"
             ]
            ],
            "type": "heatmapgl"
           }
          ],
          "histogram": [
           {
            "marker": {
             "colorbar": {
              "outlinewidth": 0,
              "ticks": ""
             }
            },
            "type": "histogram"
           }
          ],
          "histogram2d": [
           {
            "colorbar": {
             "outlinewidth": 0,
             "ticks": ""
            },
            "colorscale": [
             [
              0,
              "#0d0887"
             ],
             [
              0.1111111111111111,
              "#46039f"
             ],
             [
              0.2222222222222222,
              "#7201a8"
             ],
             [
              0.3333333333333333,
              "#9c179e"
             ],
             [
              0.4444444444444444,
              "#bd3786"
             ],
             [
              0.5555555555555556,
              "#d8576b"
             ],
             [
              0.6666666666666666,
              "#ed7953"
             ],
             [
              0.7777777777777778,
              "#fb9f3a"
             ],
             [
              0.8888888888888888,
              "#fdca26"
             ],
             [
              1,
              "#f0f921"
             ]
            ],
            "type": "histogram2d"
           }
          ],
          "histogram2dcontour": [
           {
            "colorbar": {
             "outlinewidth": 0,
             "ticks": ""
            },
            "colorscale": [
             [
              0,
              "#0d0887"
             ],
             [
              0.1111111111111111,
              "#46039f"
             ],
             [
              0.2222222222222222,
              "#7201a8"
             ],
             [
              0.3333333333333333,
              "#9c179e"
             ],
             [
              0.4444444444444444,
              "#bd3786"
             ],
             [
              0.5555555555555556,
              "#d8576b"
             ],
             [
              0.6666666666666666,
              "#ed7953"
             ],
             [
              0.7777777777777778,
              "#fb9f3a"
             ],
             [
              0.8888888888888888,
              "#fdca26"
             ],
             [
              1,
              "#f0f921"
             ]
            ],
            "type": "histogram2dcontour"
           }
          ],
          "mesh3d": [
           {
            "colorbar": {
             "outlinewidth": 0,
             "ticks": ""
            },
            "type": "mesh3d"
           }
          ],
          "parcoords": [
           {
            "line": {
             "colorbar": {
              "outlinewidth": 0,
              "ticks": ""
             }
            },
            "type": "parcoords"
           }
          ],
          "pie": [
           {
            "automargin": true,
            "type": "pie"
           }
          ],
          "scatter": [
           {
            "marker": {
             "line": {
              "color": "#283442"
             }
            },
            "type": "scatter"
           }
          ],
          "scatter3d": [
           {
            "line": {
             "colorbar": {
              "outlinewidth": 0,
              "ticks": ""
             }
            },
            "marker": {
             "colorbar": {
              "outlinewidth": 0,
              "ticks": ""
             }
            },
            "type": "scatter3d"
           }
          ],
          "scattercarpet": [
           {
            "marker": {
             "colorbar": {
              "outlinewidth": 0,
              "ticks": ""
             }
            },
            "type": "scattercarpet"
           }
          ],
          "scattergeo": [
           {
            "marker": {
             "colorbar": {
              "outlinewidth": 0,
              "ticks": ""
             }
            },
            "type": "scattergeo"
           }
          ],
          "scattergl": [
           {
            "marker": {
             "line": {
              "color": "#283442"
             }
            },
            "type": "scattergl"
           }
          ],
          "scattermapbox": [
           {
            "marker": {
             "colorbar": {
              "outlinewidth": 0,
              "ticks": ""
             }
            },
            "type": "scattermapbox"
           }
          ],
          "scatterpolar": [
           {
            "marker": {
             "colorbar": {
              "outlinewidth": 0,
              "ticks": ""
             }
            },
            "type": "scatterpolar"
           }
          ],
          "scatterpolargl": [
           {
            "marker": {
             "colorbar": {
              "outlinewidth": 0,
              "ticks": ""
             }
            },
            "type": "scatterpolargl"
           }
          ],
          "scatterternary": [
           {
            "marker": {
             "colorbar": {
              "outlinewidth": 0,
              "ticks": ""
             }
            },
            "type": "scatterternary"
           }
          ],
          "surface": [
           {
            "colorbar": {
             "outlinewidth": 0,
             "ticks": ""
            },
            "colorscale": [
             [
              0,
              "#0d0887"
             ],
             [
              0.1111111111111111,
              "#46039f"
             ],
             [
              0.2222222222222222,
              "#7201a8"
             ],
             [
              0.3333333333333333,
              "#9c179e"
             ],
             [
              0.4444444444444444,
              "#bd3786"
             ],
             [
              0.5555555555555556,
              "#d8576b"
             ],
             [
              0.6666666666666666,
              "#ed7953"
             ],
             [
              0.7777777777777778,
              "#fb9f3a"
             ],
             [
              0.8888888888888888,
              "#fdca26"
             ],
             [
              1,
              "#f0f921"
             ]
            ],
            "type": "surface"
           }
          ],
          "table": [
           {
            "cells": {
             "fill": {
              "color": "#506784"
             },
             "line": {
              "color": "rgb(17,17,17)"
             }
            },
            "header": {
             "fill": {
              "color": "#2a3f5f"
             },
             "line": {
              "color": "rgb(17,17,17)"
             }
            },
            "type": "table"
           }
          ]
         },
         "layout": {
          "annotationdefaults": {
           "arrowcolor": "#f2f5fa",
           "arrowhead": 0,
           "arrowwidth": 1
          },
          "coloraxis": {
           "colorbar": {
            "outlinewidth": 0,
            "ticks": ""
           }
          },
          "colorscale": {
           "diverging": [
            [
             0,
             "#8e0152"
            ],
            [
             0.1,
             "#c51b7d"
            ],
            [
             0.2,
             "#de77ae"
            ],
            [
             0.3,
             "#f1b6da"
            ],
            [
             0.4,
             "#fde0ef"
            ],
            [
             0.5,
             "#f7f7f7"
            ],
            [
             0.6,
             "#e6f5d0"
            ],
            [
             0.7,
             "#b8e186"
            ],
            [
             0.8,
             "#7fbc41"
            ],
            [
             0.9,
             "#4d9221"
            ],
            [
             1,
             "#276419"
            ]
           ],
           "sequential": [
            [
             0,
             "#0d0887"
            ],
            [
             0.1111111111111111,
             "#46039f"
            ],
            [
             0.2222222222222222,
             "#7201a8"
            ],
            [
             0.3333333333333333,
             "#9c179e"
            ],
            [
             0.4444444444444444,
             "#bd3786"
            ],
            [
             0.5555555555555556,
             "#d8576b"
            ],
            [
             0.6666666666666666,
             "#ed7953"
            ],
            [
             0.7777777777777778,
             "#fb9f3a"
            ],
            [
             0.8888888888888888,
             "#fdca26"
            ],
            [
             1,
             "#f0f921"
            ]
           ],
           "sequentialminus": [
            [
             0,
             "#0d0887"
            ],
            [
             0.1111111111111111,
             "#46039f"
            ],
            [
             0.2222222222222222,
             "#7201a8"
            ],
            [
             0.3333333333333333,
             "#9c179e"
            ],
            [
             0.4444444444444444,
             "#bd3786"
            ],
            [
             0.5555555555555556,
             "#d8576b"
            ],
            [
             0.6666666666666666,
             "#ed7953"
            ],
            [
             0.7777777777777778,
             "#fb9f3a"
            ],
            [
             0.8888888888888888,
             "#fdca26"
            ],
            [
             1,
             "#f0f921"
            ]
           ]
          },
          "colorway": [
           "#636efa",
           "#EF553B",
           "#00cc96",
           "#ab63fa",
           "#FFA15A",
           "#19d3f3",
           "#FF6692",
           "#B6E880",
           "#FF97FF",
           "#FECB52"
          ],
          "font": {
           "color": "#f2f5fa"
          },
          "geo": {
           "bgcolor": "rgb(17,17,17)",
           "lakecolor": "rgb(17,17,17)",
           "landcolor": "rgb(17,17,17)",
           "showlakes": true,
           "showland": true,
           "subunitcolor": "#506784"
          },
          "hoverlabel": {
           "align": "left"
          },
          "hovermode": "closest",
          "mapbox": {
           "style": "dark"
          },
          "paper_bgcolor": "rgb(17,17,17)",
          "plot_bgcolor": "rgb(17,17,17)",
          "polar": {
           "angularaxis": {
            "gridcolor": "#506784",
            "linecolor": "#506784",
            "ticks": ""
           },
           "bgcolor": "rgb(17,17,17)",
           "radialaxis": {
            "gridcolor": "#506784",
            "linecolor": "#506784",
            "ticks": ""
           }
          },
          "scene": {
           "xaxis": {
            "backgroundcolor": "rgb(17,17,17)",
            "gridcolor": "#506784",
            "gridwidth": 2,
            "linecolor": "#506784",
            "showbackground": true,
            "ticks": "",
            "zerolinecolor": "#C8D4E3"
           },
           "yaxis": {
            "backgroundcolor": "rgb(17,17,17)",
            "gridcolor": "#506784",
            "gridwidth": 2,
            "linecolor": "#506784",
            "showbackground": true,
            "ticks": "",
            "zerolinecolor": "#C8D4E3"
           },
           "zaxis": {
            "backgroundcolor": "rgb(17,17,17)",
            "gridcolor": "#506784",
            "gridwidth": 2,
            "linecolor": "#506784",
            "showbackground": true,
            "ticks": "",
            "zerolinecolor": "#C8D4E3"
           }
          },
          "shapedefaults": {
           "line": {
            "color": "#f2f5fa"
           }
          },
          "sliderdefaults": {
           "bgcolor": "#C8D4E3",
           "bordercolor": "rgb(17,17,17)",
           "borderwidth": 1,
           "tickwidth": 0
          },
          "ternary": {
           "aaxis": {
            "gridcolor": "#506784",
            "linecolor": "#506784",
            "ticks": ""
           },
           "baxis": {
            "gridcolor": "#506784",
            "linecolor": "#506784",
            "ticks": ""
           },
           "bgcolor": "rgb(17,17,17)",
           "caxis": {
            "gridcolor": "#506784",
            "linecolor": "#506784",
            "ticks": ""
           }
          },
          "title": {
           "x": 0.05
          },
          "updatemenudefaults": {
           "bgcolor": "#506784",
           "borderwidth": 0
          },
          "xaxis": {
           "automargin": true,
           "gridcolor": "#283442",
           "linecolor": "#506784",
           "ticks": "",
           "title": {
            "standoff": 15
           },
           "zerolinecolor": "#283442",
           "zerolinewidth": 2
          },
          "yaxis": {
           "automargin": true,
           "gridcolor": "#283442",
           "linecolor": "#506784",
           "ticks": "",
           "title": {
            "standoff": 15
           },
           "zerolinecolor": "#283442",
           "zerolinewidth": 2
          }
         }
        },
        "xaxis": {
         "anchor": "y",
         "domain": [
          0,
          1
         ],
         "title": {
          "text": "Date"
         }
        },
        "yaxis": {
         "anchor": "x",
         "domain": [
          0,
          1
         ],
         "title": {
          "text": "value"
         }
        }
       }
      },
      "text/html": [
       "<div>\n",
       "        \n",
       "        \n",
       "            <div id=\"ee9307ef-92af-45d5-a889-b7b0655d41fc\" class=\"plotly-graph-div\" style=\"height:525px; width:100%;\"></div>\n",
       "            <script type=\"text/javascript\">\n",
       "                require([\"plotly\"], function(Plotly) {\n",
       "                    window.PLOTLYENV=window.PLOTLYENV || {};\n",
       "                    \n",
       "                if (document.getElementById(\"ee9307ef-92af-45d5-a889-b7b0655d41fc\")) {\n",
       "                    Plotly.newPlot(\n",
       "                        'ee9307ef-92af-45d5-a889-b7b0655d41fc',\n",
       "                        [{\"hovertemplate\": \"variable=Total<br>Date=%{x}<br>value=%{y}<extra></extra>\", \"legendgroup\": \"Total\", \"line\": {\"color\": \"#636efa\", \"dash\": \"solid\"}, \"mode\": \"lines\", \"name\": \"Total\", \"orientation\": \"v\", \"showlegend\": true, \"type\": \"scatter\", \"x\": [\"2020-03-11T00:00:00\", \"2020-03-12T00:00:00\", \"2020-03-13T00:00:00\", \"2020-03-14T00:00:00\", \"2020-03-15T00:00:00\", \"2020-03-16T00:00:00\", \"2020-03-17T00:00:00\", \"2020-03-18T00:00:00\", \"2020-03-19T00:00:00\", \"2020-03-20T00:00:00\", \"2020-03-21T00:00:00\", \"2020-03-22T00:00:00\", \"2020-03-23T00:00:00\", \"2020-03-24T00:00:00\", \"2020-03-25T00:00:00\", \"2020-03-26T00:00:00\", \"2020-03-27T00:00:00\", \"2020-03-28T00:00:00\", \"2020-03-29T00:00:00\", \"2020-03-30T00:00:00\", \"2020-03-31T00:00:00\", \"2020-04-01T00:00:00\", \"2020-04-02T00:00:00\", \"2020-04-03T00:00:00\", \"2020-04-04T00:00:00\", \"2020-04-05T00:00:00\", \"2020-04-06T00:00:00\", \"2020-04-07T00:00:00\", \"2020-04-08T00:00:00\", \"2020-04-09T00:00:00\", \"2020-04-10T00:00:00\", \"2020-04-11T00:00:00\", \"2020-04-12T00:00:00\", \"2020-04-13T00:00:00\", \"2020-04-14T00:00:00\", \"2020-04-15T00:00:00\", \"2020-04-16T00:00:00\", \"2020-04-17T00:00:00\", \"2020-04-18T00:00:00\", \"2020-04-19T00:00:00\", \"2020-04-20T00:00:00\", \"2020-04-21T00:00:00\", \"2020-04-22T00:00:00\", \"2020-04-23T00:00:00\", \"2020-04-24T00:00:00\", \"2020-04-25T00:00:00\", \"2020-04-26T00:00:00\", \"2020-04-27T00:00:00\", \"2020-04-28T00:00:00\", \"2020-04-29T00:00:00\", \"2020-04-30T00:00:00\", \"2020-05-01T00:00:00\", \"2020-05-02T00:00:00\", \"2020-05-03T00:00:00\", \"2020-05-04T00:00:00\", \"2020-05-05T00:00:00\", \"2020-05-06T00:00:00\", \"2020-05-07T00:00:00\", \"2020-05-08T00:00:00\", \"2020-05-09T00:00:00\", \"2020-05-10T00:00:00\", \"2020-05-11T00:00:00\", \"2020-05-12T00:00:00\", \"2020-05-13T00:00:00\", \"2020-05-14T00:00:00\", \"2020-05-15T00:00:00\", \"2020-05-16T00:00:00\", \"2020-05-17T00:00:00\", \"2020-05-18T00:00:00\", \"2020-05-19T00:00:00\", \"2020-05-20T00:00:00\", \"2020-05-21T00:00:00\", \"2020-05-22T00:00:00\", \"2020-05-23T00:00:00\", \"2020-05-24T00:00:00\", \"2020-05-25T00:00:00\", \"2020-05-26T00:00:00\", \"2020-05-27T00:00:00\", \"2020-05-28T00:00:00\", \"2020-05-29T00:00:00\", \"2020-05-30T00:00:00\", \"2020-05-31T00:00:00\", \"2020-06-01T00:00:00\", \"2020-06-02T00:00:00\", \"2020-06-03T00:00:00\", \"2020-06-04T00:00:00\", \"2020-06-05T00:00:00\", \"2020-06-06T00:00:00\", \"2020-06-07T00:00:00\", \"2020-06-08T00:00:00\", \"2020-06-09T00:00:00\", \"2020-06-10T00:00:00\", \"2020-06-11T00:00:00\", \"2020-06-12T00:00:00\", \"2020-06-13T00:00:00\", \"2020-06-14T00:00:00\", \"2020-06-15T00:00:00\", \"2020-06-16T00:00:00\", \"2020-06-17T00:00:00\", \"2020-06-18T00:00:00\", \"2020-06-19T00:00:00\", \"2020-06-20T00:00:00\", \"2020-06-21T00:00:00\", \"2020-06-22T00:00:00\", \"2020-06-23T00:00:00\", \"2020-06-24T00:00:00\", \"2020-06-25T00:00:00\", \"2020-06-26T00:00:00\", \"2020-06-27T00:00:00\", \"2020-06-28T00:00:00\", \"2020-06-29T00:00:00\", \"2020-06-30T00:00:00\", \"2020-07-01T00:00:00\", \"2020-07-02T00:00:00\", \"2020-07-03T00:00:00\", \"2020-07-04T00:00:00\", \"2020-07-05T00:00:00\", \"2020-07-06T00:00:00\", \"2020-07-07T00:00:00\", \"2020-07-08T00:00:00\", \"2020-07-09T00:00:00\", \"2020-07-10T00:00:00\", \"2020-07-11T00:00:00\", \"2020-07-12T00:00:00\", \"2020-07-13T00:00:00\", \"2020-07-14T00:00:00\", \"2020-07-15T00:00:00\", \"2020-07-16T00:00:00\", \"2020-07-17T00:00:00\", \"2020-07-18T00:00:00\", \"2020-07-19T00:00:00\", \"2020-07-20T00:00:00\", \"2020-07-21T00:00:00\", \"2020-07-22T00:00:00\", \"2020-07-23T00:00:00\"], \"xaxis\": \"x\", \"y\": [1, 1, 2, 2, 2, 2, 3, 3, 4, 5, 4, 7, 10, 10, 12, 20, 20, 24, 27, 32, 35, 58, 72, 72, 86, 99, 136, 150, 178, 226, 246, 288, 331, 358, 393, 405, 448, 486, 521, 559, 592, 645, 681, 721, 780, 825, 881, 939, 1008, 1079, 1154, 1223, 1323, 1391, 1566, 1693, 1785, 1889, 1985, 2101, 2212, 2294, 2415, 2551, 2649, 2753, 2871, 3025, 3156, 3302, 3434, 3584, 3726, 3868, 4024, 4172, 4344, 4534, 4711, 4980, 5185, 5408, 5608, 5829, 6088, 6363, 6649, 6946, 7207, 7473, 7750, 8102, 8498, 8884, 9195, 9520, 9900, 11903, 12237, 12573, 12948, 13254, 13699, 14011, 14476, 14894, 15301, 15685, 16095, 16475, 16893, 17400, 17834, 18213, 18655, 19268, 19693, 20159, 20642, 21129, 21604, 22123, 22673, 23174, 23727, 24309, 24914, 25602, 26273, 26816, 27497, 28082, 28732, 29861, 30601], \"yaxis\": \"y\"}],\n",
       "                        {\"legend\": {\"title\": {\"text\": \"variable\"}, \"tracegroupgap\": 0}, \"margin\": {\"t\": 60}, \"template\": {\"data\": {\"bar\": [{\"error_x\": {\"color\": \"#f2f5fa\"}, \"error_y\": {\"color\": \"#f2f5fa\"}, \"marker\": {\"line\": {\"color\": \"rgb(17,17,17)\", \"width\": 0.5}}, \"type\": \"bar\"}], \"barpolar\": [{\"marker\": {\"line\": {\"color\": \"rgb(17,17,17)\", \"width\": 0.5}}, \"type\": \"barpolar\"}], \"carpet\": [{\"aaxis\": {\"endlinecolor\": \"#A2B1C6\", \"gridcolor\": \"#506784\", \"linecolor\": \"#506784\", \"minorgridcolor\": \"#506784\", \"startlinecolor\": \"#A2B1C6\"}, \"baxis\": {\"endlinecolor\": \"#A2B1C6\", \"gridcolor\": \"#506784\", \"linecolor\": \"#506784\", \"minorgridcolor\": \"#506784\", \"startlinecolor\": \"#A2B1C6\"}, \"type\": \"carpet\"}], \"choropleth\": [{\"colorbar\": {\"outlinewidth\": 0, \"ticks\": \"\"}, \"type\": \"choropleth\"}], \"contour\": [{\"colorbar\": {\"outlinewidth\": 0, \"ticks\": \"\"}, \"colorscale\": [[0.0, \"#0d0887\"], [0.1111111111111111, \"#46039f\"], [0.2222222222222222, \"#7201a8\"], [0.3333333333333333, \"#9c179e\"], [0.4444444444444444, \"#bd3786\"], [0.5555555555555556, \"#d8576b\"], [0.6666666666666666, \"#ed7953\"], [0.7777777777777778, \"#fb9f3a\"], [0.8888888888888888, \"#fdca26\"], [1.0, \"#f0f921\"]], \"type\": \"contour\"}], \"contourcarpet\": [{\"colorbar\": {\"outlinewidth\": 0, \"ticks\": \"\"}, \"type\": \"contourcarpet\"}], \"heatmap\": [{\"colorbar\": {\"outlinewidth\": 0, \"ticks\": \"\"}, \"colorscale\": [[0.0, \"#0d0887\"], [0.1111111111111111, \"#46039f\"], [0.2222222222222222, \"#7201a8\"], [0.3333333333333333, \"#9c179e\"], [0.4444444444444444, \"#bd3786\"], [0.5555555555555556, \"#d8576b\"], [0.6666666666666666, \"#ed7953\"], [0.7777777777777778, \"#fb9f3a\"], [0.8888888888888888, \"#fdca26\"], [1.0, \"#f0f921\"]], \"type\": \"heatmap\"}], \"heatmapgl\": [{\"colorbar\": {\"outlinewidth\": 0, \"ticks\": \"\"}, \"colorscale\": [[0.0, \"#0d0887\"], [0.1111111111111111, \"#46039f\"], [0.2222222222222222, \"#7201a8\"], [0.3333333333333333, \"#9c179e\"], [0.4444444444444444, \"#bd3786\"], [0.5555555555555556, \"#d8576b\"], [0.6666666666666666, \"#ed7953\"], [0.7777777777777778, \"#fb9f3a\"], [0.8888888888888888, \"#fdca26\"], [1.0, \"#f0f921\"]], \"type\": \"heatmapgl\"}], \"histogram\": [{\"marker\": {\"colorbar\": {\"outlinewidth\": 0, \"ticks\": \"\"}}, \"type\": \"histogram\"}], \"histogram2d\": [{\"colorbar\": {\"outlinewidth\": 0, \"ticks\": \"\"}, \"colorscale\": [[0.0, \"#0d0887\"], [0.1111111111111111, \"#46039f\"], [0.2222222222222222, \"#7201a8\"], [0.3333333333333333, \"#9c179e\"], [0.4444444444444444, \"#bd3786\"], [0.5555555555555556, \"#d8576b\"], [0.6666666666666666, \"#ed7953\"], [0.7777777777777778, \"#fb9f3a\"], [0.8888888888888888, \"#fdca26\"], [1.0, \"#f0f921\"]], \"type\": \"histogram2d\"}], \"histogram2dcontour\": [{\"colorbar\": {\"outlinewidth\": 0, \"ticks\": \"\"}, \"colorscale\": [[0.0, \"#0d0887\"], [0.1111111111111111, \"#46039f\"], [0.2222222222222222, \"#7201a8\"], [0.3333333333333333, \"#9c179e\"], [0.4444444444444444, \"#bd3786\"], [0.5555555555555556, \"#d8576b\"], [0.6666666666666666, \"#ed7953\"], [0.7777777777777778, \"#fb9f3a\"], [0.8888888888888888, \"#fdca26\"], [1.0, \"#f0f921\"]], \"type\": \"histogram2dcontour\"}], \"mesh3d\": [{\"colorbar\": {\"outlinewidth\": 0, \"ticks\": \"\"}, \"type\": \"mesh3d\"}], \"parcoords\": [{\"line\": {\"colorbar\": {\"outlinewidth\": 0, \"ticks\": \"\"}}, \"type\": \"parcoords\"}], \"pie\": [{\"automargin\": true, \"type\": \"pie\"}], \"scatter\": [{\"marker\": {\"line\": {\"color\": \"#283442\"}}, \"type\": \"scatter\"}], \"scatter3d\": [{\"line\": {\"colorbar\": {\"outlinewidth\": 0, \"ticks\": \"\"}}, \"marker\": {\"colorbar\": {\"outlinewidth\": 0, \"ticks\": \"\"}}, \"type\": \"scatter3d\"}], \"scattercarpet\": [{\"marker\": {\"colorbar\": {\"outlinewidth\": 0, \"ticks\": \"\"}}, \"type\": \"scattercarpet\"}], \"scattergeo\": [{\"marker\": {\"colorbar\": {\"outlinewidth\": 0, \"ticks\": \"\"}}, \"type\": \"scattergeo\"}], \"scattergl\": [{\"marker\": {\"line\": {\"color\": \"#283442\"}}, \"type\": \"scattergl\"}], \"scattermapbox\": [{\"marker\": {\"colorbar\": {\"outlinewidth\": 0, \"ticks\": \"\"}}, \"type\": \"scattermapbox\"}], \"scatterpolar\": [{\"marker\": {\"colorbar\": {\"outlinewidth\": 0, \"ticks\": \"\"}}, \"type\": \"scatterpolar\"}], \"scatterpolargl\": [{\"marker\": {\"colorbar\": {\"outlinewidth\": 0, \"ticks\": \"\"}}, \"type\": \"scatterpolargl\"}], \"scatterternary\": [{\"marker\": {\"colorbar\": {\"outlinewidth\": 0, \"ticks\": \"\"}}, \"type\": \"scatterternary\"}], \"surface\": [{\"colorbar\": {\"outlinewidth\": 0, \"ticks\": \"\"}, \"colorscale\": [[0.0, \"#0d0887\"], [0.1111111111111111, \"#46039f\"], [0.2222222222222222, \"#7201a8\"], [0.3333333333333333, \"#9c179e\"], [0.4444444444444444, \"#bd3786\"], [0.5555555555555556, \"#d8576b\"], [0.6666666666666666, \"#ed7953\"], [0.7777777777777778, \"#fb9f3a\"], [0.8888888888888888, \"#fdca26\"], [1.0, \"#f0f921\"]], \"type\": \"surface\"}], \"table\": [{\"cells\": {\"fill\": {\"color\": \"#506784\"}, \"line\": {\"color\": \"rgb(17,17,17)\"}}, \"header\": {\"fill\": {\"color\": \"#2a3f5f\"}, \"line\": {\"color\": \"rgb(17,17,17)\"}}, \"type\": \"table\"}]}, \"layout\": {\"annotationdefaults\": {\"arrowcolor\": \"#f2f5fa\", \"arrowhead\": 0, \"arrowwidth\": 1}, \"coloraxis\": {\"colorbar\": {\"outlinewidth\": 0, \"ticks\": \"\"}}, \"colorscale\": {\"diverging\": [[0, \"#8e0152\"], [0.1, \"#c51b7d\"], [0.2, \"#de77ae\"], [0.3, \"#f1b6da\"], [0.4, \"#fde0ef\"], [0.5, \"#f7f7f7\"], [0.6, \"#e6f5d0\"], [0.7, \"#b8e186\"], [0.8, \"#7fbc41\"], [0.9, \"#4d9221\"], [1, \"#276419\"]], \"sequential\": [[0.0, \"#0d0887\"], [0.1111111111111111, \"#46039f\"], [0.2222222222222222, \"#7201a8\"], [0.3333333333333333, \"#9c179e\"], [0.4444444444444444, \"#bd3786\"], [0.5555555555555556, \"#d8576b\"], [0.6666666666666666, \"#ed7953\"], [0.7777777777777778, \"#fb9f3a\"], [0.8888888888888888, \"#fdca26\"], [1.0, \"#f0f921\"]], \"sequentialminus\": [[0.0, \"#0d0887\"], [0.1111111111111111, \"#46039f\"], [0.2222222222222222, \"#7201a8\"], [0.3333333333333333, \"#9c179e\"], [0.4444444444444444, \"#bd3786\"], [0.5555555555555556, \"#d8576b\"], [0.6666666666666666, \"#ed7953\"], [0.7777777777777778, \"#fb9f3a\"], [0.8888888888888888, \"#fdca26\"], [1.0, \"#f0f921\"]]}, \"colorway\": [\"#636efa\", \"#EF553B\", \"#00cc96\", \"#ab63fa\", \"#FFA15A\", \"#19d3f3\", \"#FF6692\", \"#B6E880\", \"#FF97FF\", \"#FECB52\"], \"font\": {\"color\": \"#f2f5fa\"}, \"geo\": {\"bgcolor\": \"rgb(17,17,17)\", \"lakecolor\": \"rgb(17,17,17)\", \"landcolor\": \"rgb(17,17,17)\", \"showlakes\": true, \"showland\": true, \"subunitcolor\": \"#506784\"}, \"hoverlabel\": {\"align\": \"left\"}, \"hovermode\": \"closest\", \"mapbox\": {\"style\": \"dark\"}, \"paper_bgcolor\": \"rgb(17,17,17)\", \"plot_bgcolor\": \"rgb(17,17,17)\", \"polar\": {\"angularaxis\": {\"gridcolor\": \"#506784\", \"linecolor\": \"#506784\", \"ticks\": \"\"}, \"bgcolor\": \"rgb(17,17,17)\", \"radialaxis\": {\"gridcolor\": \"#506784\", \"linecolor\": \"#506784\", \"ticks\": \"\"}}, \"scene\": {\"xaxis\": {\"backgroundcolor\": \"rgb(17,17,17)\", \"gridcolor\": \"#506784\", \"gridwidth\": 2, \"linecolor\": \"#506784\", \"showbackground\": true, \"ticks\": \"\", \"zerolinecolor\": \"#C8D4E3\"}, \"yaxis\": {\"backgroundcolor\": \"rgb(17,17,17)\", \"gridcolor\": \"#506784\", \"gridwidth\": 2, \"linecolor\": \"#506784\", \"showbackground\": true, \"ticks\": \"\", \"zerolinecolor\": \"#C8D4E3\"}, \"zaxis\": {\"backgroundcolor\": \"rgb(17,17,17)\", \"gridcolor\": \"#506784\", \"gridwidth\": 2, \"linecolor\": \"#506784\", \"showbackground\": true, \"ticks\": \"\", \"zerolinecolor\": \"#C8D4E3\"}}, \"shapedefaults\": {\"line\": {\"color\": \"#f2f5fa\"}}, \"sliderdefaults\": {\"bgcolor\": \"#C8D4E3\", \"bordercolor\": \"rgb(17,17,17)\", \"borderwidth\": 1, \"tickwidth\": 0}, \"ternary\": {\"aaxis\": {\"gridcolor\": \"#506784\", \"linecolor\": \"#506784\", \"ticks\": \"\"}, \"baxis\": {\"gridcolor\": \"#506784\", \"linecolor\": \"#506784\", \"ticks\": \"\"}, \"bgcolor\": \"rgb(17,17,17)\", \"caxis\": {\"gridcolor\": \"#506784\", \"linecolor\": \"#506784\", \"ticks\": \"\"}}, \"title\": {\"x\": 0.05}, \"updatemenudefaults\": {\"bgcolor\": \"#506784\", \"borderwidth\": 0}, \"xaxis\": {\"automargin\": true, \"gridcolor\": \"#283442\", \"linecolor\": \"#506784\", \"ticks\": \"\", \"title\": {\"standoff\": 15}, \"zerolinecolor\": \"#283442\", \"zerolinewidth\": 2}, \"yaxis\": {\"automargin\": true, \"gridcolor\": \"#283442\", \"linecolor\": \"#506784\", \"ticks\": \"\", \"title\": {\"standoff\": 15}, \"zerolinecolor\": \"#283442\", \"zerolinewidth\": 2}}}, \"xaxis\": {\"anchor\": \"y\", \"domain\": [0.0, 1.0], \"title\": {\"text\": \"Date\"}}, \"yaxis\": {\"anchor\": \"x\", \"domain\": [0.0, 1.0], \"title\": {\"text\": \"value\"}}},\n",
       "                        {\"responsive\": true}\n",
       "                    ).then(function(){\n",
       "                            \n",
       "var gd = document.getElementById('ee9307ef-92af-45d5-a889-b7b0655d41fc');\n",
       "var x = new MutationObserver(function (mutations, observer) {{\n",
       "        var display = window.getComputedStyle(gd).display;\n",
       "        if (!display || display === 'none') {{\n",
       "            console.log([gd, 'removed!']);\n",
       "            Plotly.purge(gd);\n",
       "            observer.disconnect();\n",
       "        }}\n",
       "}});\n",
       "\n",
       "// Listen for the removal of the full notebook cells\n",
       "var notebookContainer = gd.closest('#notebook-container');\n",
       "if (notebookContainer) {{\n",
       "    x.observe(notebookContainer, {childList: true});\n",
       "}}\n",
       "\n",
       "// Listen for the clearing of the current output cell\n",
       "var outputEl = gd.closest('.output');\n",
       "if (outputEl) {{\n",
       "    x.observe(outputEl, {childList: true});\n",
       "}}\n",
       "\n",
       "                        })\n",
       "                };\n",
       "                });\n",
       "            </script>\n",
       "        </div>"
      ]
     },
     "metadata": {},
     "output_type": "display_data"
    }
   ],
   "source": [
    "data=create_data_frame('Death')\n",
    "plot_data_frame()"
   ]
  },
  {
   "cell_type": "code",
   "execution_count": 15,
   "metadata": {},
   "outputs": [
    {
     "name": "stdout",
     "output_type": "stream",
     "text": [
      "Performing stepwise search to minimize aic\n",
      "Fit ARIMA(1,1,1)x(0,1,1,12) [intercept=True]; AIC=1618.552, BIC=1632.572, Time=5.173 seconds\n",
      "Fit ARIMA(0,1,0)x(0,1,0,12) [intercept=True]; AIC=1675.139, BIC=1680.747, Time=0.042 seconds\n",
      "Fit ARIMA(1,1,0)x(1,1,0,12) [intercept=True]; AIC=1652.263, BIC=1663.479, Time=2.556 seconds\n",
      "Fit ARIMA(0,1,1)x(0,1,1,12) [intercept=True]; AIC=1621.623, BIC=1632.839, Time=2.403 seconds\n",
      "Fit ARIMA(0,1,0)x(0,1,0,12) [intercept=False]; AIC=1682.635, BIC=1685.439, Time=0.045 seconds\n",
      "Fit ARIMA(1,1,1)x(0,1,0,12) [intercept=True]; AIC=1678.776, BIC=1689.992, Time=0.281 seconds\n",
      "Fit ARIMA(1,1,1)x(1,1,1,12) [intercept=True]; AIC=1625.239, BIC=1642.063, Time=6.370 seconds\n",
      "Fit ARIMA(1,1,1)x(0,1,2,12) [intercept=True]; AIC=1621.839, BIC=1638.663, Time=11.446 seconds\n",
      "Near non-invertible roots for order (1, 1, 1)(0, 1, 2, 12); setting score to inf (at least one inverse root too close to the border of the unit circle: 0.992)\n",
      "Fit ARIMA(1,1,1)x(1,1,0,12) [intercept=True]; AIC=1652.052, BIC=1666.072, Time=3.656 seconds\n",
      "Fit ARIMA(1,1,1)x(1,1,2,12) [intercept=True]; AIC=1620.527, BIC=1640.155, Time=14.376 seconds\n",
      "Near non-invertible roots for order (1, 1, 1)(1, 1, 2, 12); setting score to inf (at least one inverse root too close to the border of the unit circle: 1.000)\n",
      "Fit ARIMA(1,1,0)x(0,1,1,12) [intercept=True]; AIC=1621.164, BIC=1632.380, Time=2.496 seconds\n",
      "Near non-invertible roots for order (1, 1, 0)(0, 1, 1, 12); setting score to inf (at least one inverse root too close to the border of the unit circle: 0.990)\n",
      "Fit ARIMA(2,1,1)x(0,1,1,12) [intercept=True]; AIC=1621.691, BIC=1638.515, Time=5.164 seconds\n",
      "Fit ARIMA(1,1,2)x(0,1,1,12) [intercept=True]; AIC=1622.023, BIC=1638.847, Time=4.783 seconds\n",
      "Near non-invertible roots for order (1, 1, 2)(0, 1, 1, 12); setting score to inf (at least one inverse root too close to the border of the unit circle: 0.994)\n",
      "Fit ARIMA(0,1,0)x(0,1,1,12) [intercept=True]; AIC=1622.092, BIC=1630.504, Time=1.623 seconds\n",
      "Fit ARIMA(0,1,2)x(0,1,1,12) [intercept=True]; AIC=1622.728, BIC=1636.748, Time=3.013 seconds\n",
      "Near non-invertible roots for order (0, 1, 2)(0, 1, 1, 12); setting score to inf (at least one inverse root too close to the border of the unit circle: 0.990)\n",
      "Fit ARIMA(2,1,0)x(0,1,1,12) [intercept=True]; AIC=1621.981, BIC=1636.001, Time=3.481 seconds\n",
      "Near non-invertible roots for order (2, 1, 0)(0, 1, 1, 12); setting score to inf (at least one inverse root too close to the border of the unit circle: 0.990)\n",
      "Fit ARIMA(2,1,2)x(0,1,1,12) [intercept=True]; AIC=1621.943, BIC=1641.572, Time=5.896 seconds\n",
      "Near non-invertible roots for order (2, 1, 2)(0, 1, 1, 12); setting score to inf (at least one inverse root too close to the border of the unit circle: 1.000)\n",
      "Total fit time: 72.836 seconds\n",
      "1618.5523820457408\n"
     ]
    }
   ],
   "source": [
    "stepwise_model=find_params()\n",
    "print(stepwise_model.aic())"
   ]
  },
  {
   "cell_type": "code",
   "execution_count": 16,
   "metadata": {},
   "outputs": [
    {
     "name": "stdout",
     "output_type": "stream",
     "text": [
      "Test shape: (39, 1)\n",
      "Train shape: (97, 1)\n",
      "Min date from train set: 2020-03-11\n",
      "Max date from train set:2020-06-15\n",
      "Min date from test set: 2020-06-15\n",
      "Max date from test set: 2020-07-23\n",
      "[10267.36095767 10648.47520402 11033.08069979 11403.73970425\n",
      " 11780.15789683 12166.11719831 12610.1230841  13052.52527286\n",
      " 13496.41063699 13897.91811963 14313.59472035 14762.81983251\n",
      " 15207.39927518 15665.46790943 16126.76627829 16573.85919801\n",
      " 17026.45488003 17488.33775241 18008.01577328 18525.84111977\n",
      " 19044.90309869 19521.34306381 20011.71040177 20535.3868696\n",
      " 21054.18062701 21586.22885276 22121.27438494 22641.88431241\n",
      " 23167.769097   23702.71539516 24295.23337162 24885.67738851\n",
      " 25477.13891634 26025.76145136 26588.09650176 27183.52792539\n",
      " 27773.86596222 28377.24985095 28983.42446945]\n"
     ]
    },
    {
     "data": {
      "application/vnd.plotly.v1+json": {
       "config": {
        "plotlyServerURL": "https://plot.ly"
       },
       "data": [
        {
         "hovertemplate": "variable=Total<br>Date=%{x}<br>value=%{y}<extra></extra>",
         "legendgroup": "Total",
         "line": {
          "color": "#636efa",
          "dash": "solid"
         },
         "mode": "lines",
         "name": "Total",
         "orientation": "v",
         "showlegend": true,
         "type": "scatter",
         "x": [
          "2020-03-11T00:00:00",
          "2020-03-12T00:00:00",
          "2020-03-13T00:00:00",
          "2020-03-14T00:00:00",
          "2020-03-15T00:00:00",
          "2020-03-16T00:00:00",
          "2020-03-17T00:00:00",
          "2020-03-18T00:00:00",
          "2020-03-19T00:00:00",
          "2020-03-20T00:00:00",
          "2020-03-21T00:00:00",
          "2020-03-22T00:00:00",
          "2020-03-23T00:00:00",
          "2020-03-24T00:00:00",
          "2020-03-25T00:00:00",
          "2020-03-26T00:00:00",
          "2020-03-27T00:00:00",
          "2020-03-28T00:00:00",
          "2020-03-29T00:00:00",
          "2020-03-30T00:00:00",
          "2020-03-31T00:00:00",
          "2020-04-01T00:00:00",
          "2020-04-02T00:00:00",
          "2020-04-03T00:00:00",
          "2020-04-04T00:00:00",
          "2020-04-05T00:00:00",
          "2020-04-06T00:00:00",
          "2020-04-07T00:00:00",
          "2020-04-08T00:00:00",
          "2020-04-09T00:00:00",
          "2020-04-10T00:00:00",
          "2020-04-11T00:00:00",
          "2020-04-12T00:00:00",
          "2020-04-13T00:00:00",
          "2020-04-14T00:00:00",
          "2020-04-15T00:00:00",
          "2020-04-16T00:00:00",
          "2020-04-17T00:00:00",
          "2020-04-18T00:00:00",
          "2020-04-19T00:00:00",
          "2020-04-20T00:00:00",
          "2020-04-21T00:00:00",
          "2020-04-22T00:00:00",
          "2020-04-23T00:00:00",
          "2020-04-24T00:00:00",
          "2020-04-25T00:00:00",
          "2020-04-26T00:00:00",
          "2020-04-27T00:00:00",
          "2020-04-28T00:00:00",
          "2020-04-29T00:00:00",
          "2020-04-30T00:00:00",
          "2020-05-01T00:00:00",
          "2020-05-02T00:00:00",
          "2020-05-03T00:00:00",
          "2020-05-04T00:00:00",
          "2020-05-05T00:00:00",
          "2020-05-06T00:00:00",
          "2020-05-07T00:00:00",
          "2020-05-08T00:00:00",
          "2020-05-09T00:00:00",
          "2020-05-10T00:00:00",
          "2020-05-11T00:00:00",
          "2020-05-12T00:00:00",
          "2020-05-13T00:00:00",
          "2020-05-14T00:00:00",
          "2020-05-15T00:00:00",
          "2020-05-16T00:00:00",
          "2020-05-17T00:00:00",
          "2020-05-18T00:00:00",
          "2020-05-19T00:00:00",
          "2020-05-20T00:00:00",
          "2020-05-21T00:00:00",
          "2020-05-22T00:00:00",
          "2020-05-23T00:00:00",
          "2020-05-24T00:00:00",
          "2020-05-25T00:00:00",
          "2020-05-26T00:00:00",
          "2020-05-27T00:00:00",
          "2020-05-28T00:00:00",
          "2020-05-29T00:00:00",
          "2020-05-30T00:00:00",
          "2020-05-31T00:00:00",
          "2020-06-01T00:00:00",
          "2020-06-02T00:00:00",
          "2020-06-03T00:00:00",
          "2020-06-04T00:00:00",
          "2020-06-05T00:00:00",
          "2020-06-06T00:00:00",
          "2020-06-07T00:00:00",
          "2020-06-08T00:00:00",
          "2020-06-09T00:00:00",
          "2020-06-10T00:00:00",
          "2020-06-11T00:00:00",
          "2020-06-12T00:00:00",
          "2020-06-13T00:00:00",
          "2020-06-14T00:00:00",
          "2020-06-15T00:00:00",
          "2020-06-16T00:00:00",
          "2020-06-17T00:00:00",
          "2020-06-18T00:00:00",
          "2020-06-19T00:00:00",
          "2020-06-20T00:00:00",
          "2020-06-21T00:00:00",
          "2020-06-22T00:00:00",
          "2020-06-23T00:00:00",
          "2020-06-24T00:00:00",
          "2020-06-25T00:00:00",
          "2020-06-26T00:00:00",
          "2020-06-27T00:00:00",
          "2020-06-28T00:00:00",
          "2020-06-29T00:00:00",
          "2020-06-30T00:00:00",
          "2020-07-01T00:00:00",
          "2020-07-02T00:00:00",
          "2020-07-03T00:00:00",
          "2020-07-04T00:00:00",
          "2020-07-05T00:00:00",
          "2020-07-06T00:00:00",
          "2020-07-07T00:00:00",
          "2020-07-08T00:00:00",
          "2020-07-09T00:00:00",
          "2020-07-10T00:00:00",
          "2020-07-11T00:00:00",
          "2020-07-12T00:00:00",
          "2020-07-13T00:00:00",
          "2020-07-14T00:00:00",
          "2020-07-15T00:00:00",
          "2020-07-16T00:00:00",
          "2020-07-17T00:00:00",
          "2020-07-18T00:00:00",
          "2020-07-19T00:00:00",
          "2020-07-20T00:00:00",
          "2020-07-21T00:00:00",
          "2020-07-22T00:00:00",
          "2020-07-23T00:00:00"
         ],
         "xaxis": "x",
         "y": [
          1,
          1,
          2,
          2,
          2,
          2,
          3,
          3,
          4,
          5,
          4,
          7,
          10,
          10,
          12,
          20,
          20,
          24,
          27,
          32,
          35,
          58,
          72,
          72,
          86,
          99,
          136,
          150,
          178,
          226,
          246,
          288,
          331,
          358,
          393,
          405,
          448,
          486,
          521,
          559,
          592,
          645,
          681,
          721,
          780,
          825,
          881,
          939,
          1008,
          1079,
          1154,
          1223,
          1323,
          1391,
          1566,
          1693,
          1785,
          1889,
          1985,
          2101,
          2212,
          2294,
          2415,
          2551,
          2649,
          2753,
          2871,
          3025,
          3156,
          3302,
          3434,
          3584,
          3726,
          3868,
          4024,
          4172,
          4344,
          4534,
          4711,
          4980,
          5185,
          5408,
          5608,
          5829,
          6088,
          6363,
          6649,
          6946,
          7207,
          7473,
          7750,
          8102,
          8498,
          8884,
          9195,
          9520,
          9900,
          11903,
          12237,
          12573,
          12948,
          13254,
          13699,
          14011,
          14476,
          14894,
          15301,
          15685,
          16095,
          16475,
          16893,
          17400,
          17834,
          18213,
          18655,
          19268,
          19693,
          20159,
          20642,
          21129,
          21604,
          22123,
          22673,
          23174,
          23727,
          24309,
          24914,
          25602,
          26273,
          26816,
          27497,
          28082,
          28732,
          29861,
          30601
         ],
         "yaxis": "y"
        },
        {
         "hovertemplate": "variable=Prediction<br>Date=%{x}<br>value=%{y}<extra></extra>",
         "legendgroup": "Prediction",
         "line": {
          "color": "#EF553B",
          "dash": "solid"
         },
         "mode": "lines",
         "name": "Prediction",
         "orientation": "v",
         "showlegend": true,
         "type": "scatter",
         "x": [
          "2020-03-11T00:00:00",
          "2020-03-12T00:00:00",
          "2020-03-13T00:00:00",
          "2020-03-14T00:00:00",
          "2020-03-15T00:00:00",
          "2020-03-16T00:00:00",
          "2020-03-17T00:00:00",
          "2020-03-18T00:00:00",
          "2020-03-19T00:00:00",
          "2020-03-20T00:00:00",
          "2020-03-21T00:00:00",
          "2020-03-22T00:00:00",
          "2020-03-23T00:00:00",
          "2020-03-24T00:00:00",
          "2020-03-25T00:00:00",
          "2020-03-26T00:00:00",
          "2020-03-27T00:00:00",
          "2020-03-28T00:00:00",
          "2020-03-29T00:00:00",
          "2020-03-30T00:00:00",
          "2020-03-31T00:00:00",
          "2020-04-01T00:00:00",
          "2020-04-02T00:00:00",
          "2020-04-03T00:00:00",
          "2020-04-04T00:00:00",
          "2020-04-05T00:00:00",
          "2020-04-06T00:00:00",
          "2020-04-07T00:00:00",
          "2020-04-08T00:00:00",
          "2020-04-09T00:00:00",
          "2020-04-10T00:00:00",
          "2020-04-11T00:00:00",
          "2020-04-12T00:00:00",
          "2020-04-13T00:00:00",
          "2020-04-14T00:00:00",
          "2020-04-15T00:00:00",
          "2020-04-16T00:00:00",
          "2020-04-17T00:00:00",
          "2020-04-18T00:00:00",
          "2020-04-19T00:00:00",
          "2020-04-20T00:00:00",
          "2020-04-21T00:00:00",
          "2020-04-22T00:00:00",
          "2020-04-23T00:00:00",
          "2020-04-24T00:00:00",
          "2020-04-25T00:00:00",
          "2020-04-26T00:00:00",
          "2020-04-27T00:00:00",
          "2020-04-28T00:00:00",
          "2020-04-29T00:00:00",
          "2020-04-30T00:00:00",
          "2020-05-01T00:00:00",
          "2020-05-02T00:00:00",
          "2020-05-03T00:00:00",
          "2020-05-04T00:00:00",
          "2020-05-05T00:00:00",
          "2020-05-06T00:00:00",
          "2020-05-07T00:00:00",
          "2020-05-08T00:00:00",
          "2020-05-09T00:00:00",
          "2020-05-10T00:00:00",
          "2020-05-11T00:00:00",
          "2020-05-12T00:00:00",
          "2020-05-13T00:00:00",
          "2020-05-14T00:00:00",
          "2020-05-15T00:00:00",
          "2020-05-16T00:00:00",
          "2020-05-17T00:00:00",
          "2020-05-18T00:00:00",
          "2020-05-19T00:00:00",
          "2020-05-20T00:00:00",
          "2020-05-21T00:00:00",
          "2020-05-22T00:00:00",
          "2020-05-23T00:00:00",
          "2020-05-24T00:00:00",
          "2020-05-25T00:00:00",
          "2020-05-26T00:00:00",
          "2020-05-27T00:00:00",
          "2020-05-28T00:00:00",
          "2020-05-29T00:00:00",
          "2020-05-30T00:00:00",
          "2020-05-31T00:00:00",
          "2020-06-01T00:00:00",
          "2020-06-02T00:00:00",
          "2020-06-03T00:00:00",
          "2020-06-04T00:00:00",
          "2020-06-05T00:00:00",
          "2020-06-06T00:00:00",
          "2020-06-07T00:00:00",
          "2020-06-08T00:00:00",
          "2020-06-09T00:00:00",
          "2020-06-10T00:00:00",
          "2020-06-11T00:00:00",
          "2020-06-12T00:00:00",
          "2020-06-13T00:00:00",
          "2020-06-14T00:00:00",
          "2020-06-15T00:00:00",
          "2020-06-16T00:00:00",
          "2020-06-17T00:00:00",
          "2020-06-18T00:00:00",
          "2020-06-19T00:00:00",
          "2020-06-20T00:00:00",
          "2020-06-21T00:00:00",
          "2020-06-22T00:00:00",
          "2020-06-23T00:00:00",
          "2020-06-24T00:00:00",
          "2020-06-25T00:00:00",
          "2020-06-26T00:00:00",
          "2020-06-27T00:00:00",
          "2020-06-28T00:00:00",
          "2020-06-29T00:00:00",
          "2020-06-30T00:00:00",
          "2020-07-01T00:00:00",
          "2020-07-02T00:00:00",
          "2020-07-03T00:00:00",
          "2020-07-04T00:00:00",
          "2020-07-05T00:00:00",
          "2020-07-06T00:00:00",
          "2020-07-07T00:00:00",
          "2020-07-08T00:00:00",
          "2020-07-09T00:00:00",
          "2020-07-10T00:00:00",
          "2020-07-11T00:00:00",
          "2020-07-12T00:00:00",
          "2020-07-13T00:00:00",
          "2020-07-14T00:00:00",
          "2020-07-15T00:00:00",
          "2020-07-16T00:00:00",
          "2020-07-17T00:00:00",
          "2020-07-18T00:00:00",
          "2020-07-19T00:00:00",
          "2020-07-20T00:00:00",
          "2020-07-21T00:00:00",
          "2020-07-22T00:00:00",
          "2020-07-23T00:00:00"
         ],
         "xaxis": "x",
         "y": [
          null,
          null,
          null,
          null,
          null,
          null,
          null,
          null,
          null,
          null,
          null,
          null,
          null,
          null,
          null,
          null,
          null,
          null,
          null,
          null,
          null,
          null,
          null,
          null,
          null,
          null,
          null,
          null,
          null,
          null,
          null,
          null,
          null,
          null,
          null,
          null,
          null,
          null,
          null,
          null,
          null,
          null,
          null,
          null,
          null,
          null,
          null,
          null,
          null,
          null,
          null,
          null,
          null,
          null,
          null,
          null,
          null,
          null,
          null,
          null,
          null,
          null,
          null,
          null,
          null,
          null,
          null,
          null,
          null,
          null,
          null,
          null,
          null,
          null,
          null,
          null,
          null,
          null,
          null,
          null,
          null,
          null,
          null,
          null,
          null,
          null,
          null,
          null,
          null,
          null,
          null,
          null,
          null,
          null,
          null,
          null,
          10267.360957673312,
          10648.475204015598,
          11033.080699794516,
          11403.739704252175,
          11780.157896826251,
          12166.117198311173,
          12610.123084100745,
          13052.525272858093,
          13496.41063699018,
          13897.918119625729,
          14313.594720352505,
          14762.819832505267,
          15207.39927517875,
          15665.46790943019,
          16126.76627828779,
          16573.859198005648,
          17026.45488003176,
          17488.337752413634,
          18008.015773283016,
          18525.84111976551,
          19044.903098692477,
          19521.343063813958,
          20011.710401768745,
          20535.386869602757,
          21054.180627010242,
          21586.22885276228,
          22121.274384939046,
          22641.884312406262,
          23167.769097002656,
          23702.71539516285,
          24295.233371617207,
          24885.6773885145,
          25477.138916344767,
          26025.761451361155,
          26588.096501756794,
          27183.527925388047,
          27773.86596221852,
          28377.249850948432,
          28983.424469445694
         ],
         "yaxis": "y"
        }
       ],
       "layout": {
        "legend": {
         "title": {
          "text": "variable"
         },
         "tracegroupgap": 0
        },
        "margin": {
         "t": 60
        },
        "template": {
         "data": {
          "bar": [
           {
            "error_x": {
             "color": "#f2f5fa"
            },
            "error_y": {
             "color": "#f2f5fa"
            },
            "marker": {
             "line": {
              "color": "rgb(17,17,17)",
              "width": 0.5
             }
            },
            "type": "bar"
           }
          ],
          "barpolar": [
           {
            "marker": {
             "line": {
              "color": "rgb(17,17,17)",
              "width": 0.5
             }
            },
            "type": "barpolar"
           }
          ],
          "carpet": [
           {
            "aaxis": {
             "endlinecolor": "#A2B1C6",
             "gridcolor": "#506784",
             "linecolor": "#506784",
             "minorgridcolor": "#506784",
             "startlinecolor": "#A2B1C6"
            },
            "baxis": {
             "endlinecolor": "#A2B1C6",
             "gridcolor": "#506784",
             "linecolor": "#506784",
             "minorgridcolor": "#506784",
             "startlinecolor": "#A2B1C6"
            },
            "type": "carpet"
           }
          ],
          "choropleth": [
           {
            "colorbar": {
             "outlinewidth": 0,
             "ticks": ""
            },
            "type": "choropleth"
           }
          ],
          "contour": [
           {
            "colorbar": {
             "outlinewidth": 0,
             "ticks": ""
            },
            "colorscale": [
             [
              0,
              "#0d0887"
             ],
             [
              0.1111111111111111,
              "#46039f"
             ],
             [
              0.2222222222222222,
              "#7201a8"
             ],
             [
              0.3333333333333333,
              "#9c179e"
             ],
             [
              0.4444444444444444,
              "#bd3786"
             ],
             [
              0.5555555555555556,
              "#d8576b"
             ],
             [
              0.6666666666666666,
              "#ed7953"
             ],
             [
              0.7777777777777778,
              "#fb9f3a"
             ],
             [
              0.8888888888888888,
              "#fdca26"
             ],
             [
              1,
              "#f0f921"
             ]
            ],
            "type": "contour"
           }
          ],
          "contourcarpet": [
           {
            "colorbar": {
             "outlinewidth": 0,
             "ticks": ""
            },
            "type": "contourcarpet"
           }
          ],
          "heatmap": [
           {
            "colorbar": {
             "outlinewidth": 0,
             "ticks": ""
            },
            "colorscale": [
             [
              0,
              "#0d0887"
             ],
             [
              0.1111111111111111,
              "#46039f"
             ],
             [
              0.2222222222222222,
              "#7201a8"
             ],
             [
              0.3333333333333333,
              "#9c179e"
             ],
             [
              0.4444444444444444,
              "#bd3786"
             ],
             [
              0.5555555555555556,
              "#d8576b"
             ],
             [
              0.6666666666666666,
              "#ed7953"
             ],
             [
              0.7777777777777778,
              "#fb9f3a"
             ],
             [
              0.8888888888888888,
              "#fdca26"
             ],
             [
              1,
              "#f0f921"
             ]
            ],
            "type": "heatmap"
           }
          ],
          "heatmapgl": [
           {
            "colorbar": {
             "outlinewidth": 0,
             "ticks": ""
            },
            "colorscale": [
             [
              0,
              "#0d0887"
             ],
             [
              0.1111111111111111,
              "#46039f"
             ],
             [
              0.2222222222222222,
              "#7201a8"
             ],
             [
              0.3333333333333333,
              "#9c179e"
             ],
             [
              0.4444444444444444,
              "#bd3786"
             ],
             [
              0.5555555555555556,
              "#d8576b"
             ],
             [
              0.6666666666666666,
              "#ed7953"
             ],
             [
              0.7777777777777778,
              "#fb9f3a"
             ],
             [
              0.8888888888888888,
              "#fdca26"
             ],
             [
              1,
              "#f0f921"
             ]
            ],
            "type": "heatmapgl"
           }
          ],
          "histogram": [
           {
            "marker": {
             "colorbar": {
              "outlinewidth": 0,
              "ticks": ""
             }
            },
            "type": "histogram"
           }
          ],
          "histogram2d": [
           {
            "colorbar": {
             "outlinewidth": 0,
             "ticks": ""
            },
            "colorscale": [
             [
              0,
              "#0d0887"
             ],
             [
              0.1111111111111111,
              "#46039f"
             ],
             [
              0.2222222222222222,
              "#7201a8"
             ],
             [
              0.3333333333333333,
              "#9c179e"
             ],
             [
              0.4444444444444444,
              "#bd3786"
             ],
             [
              0.5555555555555556,
              "#d8576b"
             ],
             [
              0.6666666666666666,
              "#ed7953"
             ],
             [
              0.7777777777777778,
              "#fb9f3a"
             ],
             [
              0.8888888888888888,
              "#fdca26"
             ],
             [
              1,
              "#f0f921"
             ]
            ],
            "type": "histogram2d"
           }
          ],
          "histogram2dcontour": [
           {
            "colorbar": {
             "outlinewidth": 0,
             "ticks": ""
            },
            "colorscale": [
             [
              0,
              "#0d0887"
             ],
             [
              0.1111111111111111,
              "#46039f"
             ],
             [
              0.2222222222222222,
              "#7201a8"
             ],
             [
              0.3333333333333333,
              "#9c179e"
             ],
             [
              0.4444444444444444,
              "#bd3786"
             ],
             [
              0.5555555555555556,
              "#d8576b"
             ],
             [
              0.6666666666666666,
              "#ed7953"
             ],
             [
              0.7777777777777778,
              "#fb9f3a"
             ],
             [
              0.8888888888888888,
              "#fdca26"
             ],
             [
              1,
              "#f0f921"
             ]
            ],
            "type": "histogram2dcontour"
           }
          ],
          "mesh3d": [
           {
            "colorbar": {
             "outlinewidth": 0,
             "ticks": ""
            },
            "type": "mesh3d"
           }
          ],
          "parcoords": [
           {
            "line": {
             "colorbar": {
              "outlinewidth": 0,
              "ticks": ""
             }
            },
            "type": "parcoords"
           }
          ],
          "pie": [
           {
            "automargin": true,
            "type": "pie"
           }
          ],
          "scatter": [
           {
            "marker": {
             "line": {
              "color": "#283442"
             }
            },
            "type": "scatter"
           }
          ],
          "scatter3d": [
           {
            "line": {
             "colorbar": {
              "outlinewidth": 0,
              "ticks": ""
             }
            },
            "marker": {
             "colorbar": {
              "outlinewidth": 0,
              "ticks": ""
             }
            },
            "type": "scatter3d"
           }
          ],
          "scattercarpet": [
           {
            "marker": {
             "colorbar": {
              "outlinewidth": 0,
              "ticks": ""
             }
            },
            "type": "scattercarpet"
           }
          ],
          "scattergeo": [
           {
            "marker": {
             "colorbar": {
              "outlinewidth": 0,
              "ticks": ""
             }
            },
            "type": "scattergeo"
           }
          ],
          "scattergl": [
           {
            "marker": {
             "line": {
              "color": "#283442"
             }
            },
            "type": "scattergl"
           }
          ],
          "scattermapbox": [
           {
            "marker": {
             "colorbar": {
              "outlinewidth": 0,
              "ticks": ""
             }
            },
            "type": "scattermapbox"
           }
          ],
          "scatterpolar": [
           {
            "marker": {
             "colorbar": {
              "outlinewidth": 0,
              "ticks": ""
             }
            },
            "type": "scatterpolar"
           }
          ],
          "scatterpolargl": [
           {
            "marker": {
             "colorbar": {
              "outlinewidth": 0,
              "ticks": ""
             }
            },
            "type": "scatterpolargl"
           }
          ],
          "scatterternary": [
           {
            "marker": {
             "colorbar": {
              "outlinewidth": 0,
              "ticks": ""
             }
            },
            "type": "scatterternary"
           }
          ],
          "surface": [
           {
            "colorbar": {
             "outlinewidth": 0,
             "ticks": ""
            },
            "colorscale": [
             [
              0,
              "#0d0887"
             ],
             [
              0.1111111111111111,
              "#46039f"
             ],
             [
              0.2222222222222222,
              "#7201a8"
             ],
             [
              0.3333333333333333,
              "#9c179e"
             ],
             [
              0.4444444444444444,
              "#bd3786"
             ],
             [
              0.5555555555555556,
              "#d8576b"
             ],
             [
              0.6666666666666666,
              "#ed7953"
             ],
             [
              0.7777777777777778,
              "#fb9f3a"
             ],
             [
              0.8888888888888888,
              "#fdca26"
             ],
             [
              1,
              "#f0f921"
             ]
            ],
            "type": "surface"
           }
          ],
          "table": [
           {
            "cells": {
             "fill": {
              "color": "#506784"
             },
             "line": {
              "color": "rgb(17,17,17)"
             }
            },
            "header": {
             "fill": {
              "color": "#2a3f5f"
             },
             "line": {
              "color": "rgb(17,17,17)"
             }
            },
            "type": "table"
           }
          ]
         },
         "layout": {
          "annotationdefaults": {
           "arrowcolor": "#f2f5fa",
           "arrowhead": 0,
           "arrowwidth": 1
          },
          "coloraxis": {
           "colorbar": {
            "outlinewidth": 0,
            "ticks": ""
           }
          },
          "colorscale": {
           "diverging": [
            [
             0,
             "#8e0152"
            ],
            [
             0.1,
             "#c51b7d"
            ],
            [
             0.2,
             "#de77ae"
            ],
            [
             0.3,
             "#f1b6da"
            ],
            [
             0.4,
             "#fde0ef"
            ],
            [
             0.5,
             "#f7f7f7"
            ],
            [
             0.6,
             "#e6f5d0"
            ],
            [
             0.7,
             "#b8e186"
            ],
            [
             0.8,
             "#7fbc41"
            ],
            [
             0.9,
             "#4d9221"
            ],
            [
             1,
             "#276419"
            ]
           ],
           "sequential": [
            [
             0,
             "#0d0887"
            ],
            [
             0.1111111111111111,
             "#46039f"
            ],
            [
             0.2222222222222222,
             "#7201a8"
            ],
            [
             0.3333333333333333,
             "#9c179e"
            ],
            [
             0.4444444444444444,
             "#bd3786"
            ],
            [
             0.5555555555555556,
             "#d8576b"
            ],
            [
             0.6666666666666666,
             "#ed7953"
            ],
            [
             0.7777777777777778,
             "#fb9f3a"
            ],
            [
             0.8888888888888888,
             "#fdca26"
            ],
            [
             1,
             "#f0f921"
            ]
           ],
           "sequentialminus": [
            [
             0,
             "#0d0887"
            ],
            [
             0.1111111111111111,
             "#46039f"
            ],
            [
             0.2222222222222222,
             "#7201a8"
            ],
            [
             0.3333333333333333,
             "#9c179e"
            ],
            [
             0.4444444444444444,
             "#bd3786"
            ],
            [
             0.5555555555555556,
             "#d8576b"
            ],
            [
             0.6666666666666666,
             "#ed7953"
            ],
            [
             0.7777777777777778,
             "#fb9f3a"
            ],
            [
             0.8888888888888888,
             "#fdca26"
            ],
            [
             1,
             "#f0f921"
            ]
           ]
          },
          "colorway": [
           "#636efa",
           "#EF553B",
           "#00cc96",
           "#ab63fa",
           "#FFA15A",
           "#19d3f3",
           "#FF6692",
           "#B6E880",
           "#FF97FF",
           "#FECB52"
          ],
          "font": {
           "color": "#f2f5fa"
          },
          "geo": {
           "bgcolor": "rgb(17,17,17)",
           "lakecolor": "rgb(17,17,17)",
           "landcolor": "rgb(17,17,17)",
           "showlakes": true,
           "showland": true,
           "subunitcolor": "#506784"
          },
          "hoverlabel": {
           "align": "left"
          },
          "hovermode": "closest",
          "mapbox": {
           "style": "dark"
          },
          "paper_bgcolor": "rgb(17,17,17)",
          "plot_bgcolor": "rgb(17,17,17)",
          "polar": {
           "angularaxis": {
            "gridcolor": "#506784",
            "linecolor": "#506784",
            "ticks": ""
           },
           "bgcolor": "rgb(17,17,17)",
           "radialaxis": {
            "gridcolor": "#506784",
            "linecolor": "#506784",
            "ticks": ""
           }
          },
          "scene": {
           "xaxis": {
            "backgroundcolor": "rgb(17,17,17)",
            "gridcolor": "#506784",
            "gridwidth": 2,
            "linecolor": "#506784",
            "showbackground": true,
            "ticks": "",
            "zerolinecolor": "#C8D4E3"
           },
           "yaxis": {
            "backgroundcolor": "rgb(17,17,17)",
            "gridcolor": "#506784",
            "gridwidth": 2,
            "linecolor": "#506784",
            "showbackground": true,
            "ticks": "",
            "zerolinecolor": "#C8D4E3"
           },
           "zaxis": {
            "backgroundcolor": "rgb(17,17,17)",
            "gridcolor": "#506784",
            "gridwidth": 2,
            "linecolor": "#506784",
            "showbackground": true,
            "ticks": "",
            "zerolinecolor": "#C8D4E3"
           }
          },
          "shapedefaults": {
           "line": {
            "color": "#f2f5fa"
           }
          },
          "sliderdefaults": {
           "bgcolor": "#C8D4E3",
           "bordercolor": "rgb(17,17,17)",
           "borderwidth": 1,
           "tickwidth": 0
          },
          "ternary": {
           "aaxis": {
            "gridcolor": "#506784",
            "linecolor": "#506784",
            "ticks": ""
           },
           "baxis": {
            "gridcolor": "#506784",
            "linecolor": "#506784",
            "ticks": ""
           },
           "bgcolor": "rgb(17,17,17)",
           "caxis": {
            "gridcolor": "#506784",
            "linecolor": "#506784",
            "ticks": ""
           }
          },
          "title": {
           "x": 0.05
          },
          "updatemenudefaults": {
           "bgcolor": "#506784",
           "borderwidth": 0
          },
          "xaxis": {
           "automargin": true,
           "gridcolor": "#283442",
           "linecolor": "#506784",
           "ticks": "",
           "title": {
            "standoff": 15
           },
           "zerolinecolor": "#283442",
           "zerolinewidth": 2
          },
          "yaxis": {
           "automargin": true,
           "gridcolor": "#283442",
           "linecolor": "#506784",
           "ticks": "",
           "title": {
            "standoff": 15
           },
           "zerolinecolor": "#283442",
           "zerolinewidth": 2
          }
         }
        },
        "xaxis": {
         "anchor": "y",
         "domain": [
          0,
          1
         ],
         "title": {
          "text": "Date"
         }
        },
        "yaxis": {
         "anchor": "x",
         "domain": [
          0,
          1
         ],
         "title": {
          "text": "value"
         }
        }
       }
      },
      "text/html": [
       "<div>\n",
       "        \n",
       "        \n",
       "            <div id=\"0ebaaa72-7b50-4b59-ace3-b47b761fc108\" class=\"plotly-graph-div\" style=\"height:525px; width:100%;\"></div>\n",
       "            <script type=\"text/javascript\">\n",
       "                require([\"plotly\"], function(Plotly) {\n",
       "                    window.PLOTLYENV=window.PLOTLYENV || {};\n",
       "                    \n",
       "                if (document.getElementById(\"0ebaaa72-7b50-4b59-ace3-b47b761fc108\")) {\n",
       "                    Plotly.newPlot(\n",
       "                        '0ebaaa72-7b50-4b59-ace3-b47b761fc108',\n",
       "                        [{\"hovertemplate\": \"variable=Total<br>Date=%{x}<br>value=%{y}<extra></extra>\", \"legendgroup\": \"Total\", \"line\": {\"color\": \"#636efa\", \"dash\": \"solid\"}, \"mode\": \"lines\", \"name\": \"Total\", \"orientation\": \"v\", \"showlegend\": true, \"type\": \"scatter\", \"x\": [\"2020-03-11T00:00:00\", \"2020-03-12T00:00:00\", \"2020-03-13T00:00:00\", \"2020-03-14T00:00:00\", \"2020-03-15T00:00:00\", \"2020-03-16T00:00:00\", \"2020-03-17T00:00:00\", \"2020-03-18T00:00:00\", \"2020-03-19T00:00:00\", \"2020-03-20T00:00:00\", \"2020-03-21T00:00:00\", \"2020-03-22T00:00:00\", \"2020-03-23T00:00:00\", \"2020-03-24T00:00:00\", \"2020-03-25T00:00:00\", \"2020-03-26T00:00:00\", \"2020-03-27T00:00:00\", \"2020-03-28T00:00:00\", \"2020-03-29T00:00:00\", \"2020-03-30T00:00:00\", \"2020-03-31T00:00:00\", \"2020-04-01T00:00:00\", \"2020-04-02T00:00:00\", \"2020-04-03T00:00:00\", \"2020-04-04T00:00:00\", \"2020-04-05T00:00:00\", \"2020-04-06T00:00:00\", \"2020-04-07T00:00:00\", \"2020-04-08T00:00:00\", \"2020-04-09T00:00:00\", \"2020-04-10T00:00:00\", \"2020-04-11T00:00:00\", \"2020-04-12T00:00:00\", \"2020-04-13T00:00:00\", \"2020-04-14T00:00:00\", \"2020-04-15T00:00:00\", \"2020-04-16T00:00:00\", \"2020-04-17T00:00:00\", \"2020-04-18T00:00:00\", \"2020-04-19T00:00:00\", \"2020-04-20T00:00:00\", \"2020-04-21T00:00:00\", \"2020-04-22T00:00:00\", \"2020-04-23T00:00:00\", \"2020-04-24T00:00:00\", \"2020-04-25T00:00:00\", \"2020-04-26T00:00:00\", \"2020-04-27T00:00:00\", \"2020-04-28T00:00:00\", \"2020-04-29T00:00:00\", \"2020-04-30T00:00:00\", \"2020-05-01T00:00:00\", \"2020-05-02T00:00:00\", \"2020-05-03T00:00:00\", \"2020-05-04T00:00:00\", \"2020-05-05T00:00:00\", \"2020-05-06T00:00:00\", \"2020-05-07T00:00:00\", \"2020-05-08T00:00:00\", \"2020-05-09T00:00:00\", \"2020-05-10T00:00:00\", \"2020-05-11T00:00:00\", \"2020-05-12T00:00:00\", \"2020-05-13T00:00:00\", \"2020-05-14T00:00:00\", \"2020-05-15T00:00:00\", \"2020-05-16T00:00:00\", \"2020-05-17T00:00:00\", \"2020-05-18T00:00:00\", \"2020-05-19T00:00:00\", \"2020-05-20T00:00:00\", \"2020-05-21T00:00:00\", \"2020-05-22T00:00:00\", \"2020-05-23T00:00:00\", \"2020-05-24T00:00:00\", \"2020-05-25T00:00:00\", \"2020-05-26T00:00:00\", \"2020-05-27T00:00:00\", \"2020-05-28T00:00:00\", \"2020-05-29T00:00:00\", \"2020-05-30T00:00:00\", \"2020-05-31T00:00:00\", \"2020-06-01T00:00:00\", \"2020-06-02T00:00:00\", \"2020-06-03T00:00:00\", \"2020-06-04T00:00:00\", \"2020-06-05T00:00:00\", \"2020-06-06T00:00:00\", \"2020-06-07T00:00:00\", \"2020-06-08T00:00:00\", \"2020-06-09T00:00:00\", \"2020-06-10T00:00:00\", \"2020-06-11T00:00:00\", \"2020-06-12T00:00:00\", \"2020-06-13T00:00:00\", \"2020-06-14T00:00:00\", \"2020-06-15T00:00:00\", \"2020-06-16T00:00:00\", \"2020-06-17T00:00:00\", \"2020-06-18T00:00:00\", \"2020-06-19T00:00:00\", \"2020-06-20T00:00:00\", \"2020-06-21T00:00:00\", \"2020-06-22T00:00:00\", \"2020-06-23T00:00:00\", \"2020-06-24T00:00:00\", \"2020-06-25T00:00:00\", \"2020-06-26T00:00:00\", \"2020-06-27T00:00:00\", \"2020-06-28T00:00:00\", \"2020-06-29T00:00:00\", \"2020-06-30T00:00:00\", \"2020-07-01T00:00:00\", \"2020-07-02T00:00:00\", \"2020-07-03T00:00:00\", \"2020-07-04T00:00:00\", \"2020-07-05T00:00:00\", \"2020-07-06T00:00:00\", \"2020-07-07T00:00:00\", \"2020-07-08T00:00:00\", \"2020-07-09T00:00:00\", \"2020-07-10T00:00:00\", \"2020-07-11T00:00:00\", \"2020-07-12T00:00:00\", \"2020-07-13T00:00:00\", \"2020-07-14T00:00:00\", \"2020-07-15T00:00:00\", \"2020-07-16T00:00:00\", \"2020-07-17T00:00:00\", \"2020-07-18T00:00:00\", \"2020-07-19T00:00:00\", \"2020-07-20T00:00:00\", \"2020-07-21T00:00:00\", \"2020-07-22T00:00:00\", \"2020-07-23T00:00:00\"], \"xaxis\": \"x\", \"y\": [1.0, 1.0, 2.0, 2.0, 2.0, 2.0, 3.0, 3.0, 4.0, 5.0, 4.0, 7.0, 10.0, 10.0, 12.0, 20.0, 20.0, 24.0, 27.0, 32.0, 35.0, 58.0, 72.0, 72.0, 86.0, 99.0, 136.0, 150.0, 178.0, 226.0, 246.0, 288.0, 331.0, 358.0, 393.0, 405.0, 448.0, 486.0, 521.0, 559.0, 592.0, 645.0, 681.0, 721.0, 780.0, 825.0, 881.0, 939.0, 1008.0, 1079.0, 1154.0, 1223.0, 1323.0, 1391.0, 1566.0, 1693.0, 1785.0, 1889.0, 1985.0, 2101.0, 2212.0, 2294.0, 2415.0, 2551.0, 2649.0, 2753.0, 2871.0, 3025.0, 3156.0, 3302.0, 3434.0, 3584.0, 3726.0, 3868.0, 4024.0, 4172.0, 4344.0, 4534.0, 4711.0, 4980.0, 5185.0, 5408.0, 5608.0, 5829.0, 6088.0, 6363.0, 6649.0, 6946.0, 7207.0, 7473.0, 7750.0, 8102.0, 8498.0, 8884.0, 9195.0, 9520.0, 9900.0, 11903.0, 12237.0, 12573.0, 12948.0, 13254.0, 13699.0, 14011.0, 14476.0, 14894.0, 15301.0, 15685.0, 16095.0, 16475.0, 16893.0, 17400.0, 17834.0, 18213.0, 18655.0, 19268.0, 19693.0, 20159.0, 20642.0, 21129.0, 21604.0, 22123.0, 22673.0, 23174.0, 23727.0, 24309.0, 24914.0, 25602.0, 26273.0, 26816.0, 27497.0, 28082.0, 28732.0, 29861.0, 30601.0], \"yaxis\": \"y\"}, {\"hovertemplate\": \"variable=Prediction<br>Date=%{x}<br>value=%{y}<extra></extra>\", \"legendgroup\": \"Prediction\", \"line\": {\"color\": \"#EF553B\", \"dash\": \"solid\"}, \"mode\": \"lines\", \"name\": \"Prediction\", \"orientation\": \"v\", \"showlegend\": true, \"type\": \"scatter\", \"x\": [\"2020-03-11T00:00:00\", \"2020-03-12T00:00:00\", \"2020-03-13T00:00:00\", \"2020-03-14T00:00:00\", \"2020-03-15T00:00:00\", \"2020-03-16T00:00:00\", \"2020-03-17T00:00:00\", \"2020-03-18T00:00:00\", \"2020-03-19T00:00:00\", \"2020-03-20T00:00:00\", \"2020-03-21T00:00:00\", \"2020-03-22T00:00:00\", \"2020-03-23T00:00:00\", \"2020-03-24T00:00:00\", \"2020-03-25T00:00:00\", \"2020-03-26T00:00:00\", \"2020-03-27T00:00:00\", \"2020-03-28T00:00:00\", \"2020-03-29T00:00:00\", \"2020-03-30T00:00:00\", \"2020-03-31T00:00:00\", \"2020-04-01T00:00:00\", \"2020-04-02T00:00:00\", \"2020-04-03T00:00:00\", \"2020-04-04T00:00:00\", \"2020-04-05T00:00:00\", \"2020-04-06T00:00:00\", \"2020-04-07T00:00:00\", \"2020-04-08T00:00:00\", \"2020-04-09T00:00:00\", \"2020-04-10T00:00:00\", \"2020-04-11T00:00:00\", \"2020-04-12T00:00:00\", \"2020-04-13T00:00:00\", \"2020-04-14T00:00:00\", \"2020-04-15T00:00:00\", \"2020-04-16T00:00:00\", \"2020-04-17T00:00:00\", \"2020-04-18T00:00:00\", \"2020-04-19T00:00:00\", \"2020-04-20T00:00:00\", \"2020-04-21T00:00:00\", \"2020-04-22T00:00:00\", \"2020-04-23T00:00:00\", \"2020-04-24T00:00:00\", \"2020-04-25T00:00:00\", \"2020-04-26T00:00:00\", \"2020-04-27T00:00:00\", \"2020-04-28T00:00:00\", \"2020-04-29T00:00:00\", \"2020-04-30T00:00:00\", \"2020-05-01T00:00:00\", \"2020-05-02T00:00:00\", \"2020-05-03T00:00:00\", \"2020-05-04T00:00:00\", \"2020-05-05T00:00:00\", \"2020-05-06T00:00:00\", \"2020-05-07T00:00:00\", \"2020-05-08T00:00:00\", \"2020-05-09T00:00:00\", \"2020-05-10T00:00:00\", \"2020-05-11T00:00:00\", \"2020-05-12T00:00:00\", \"2020-05-13T00:00:00\", \"2020-05-14T00:00:00\", \"2020-05-15T00:00:00\", \"2020-05-16T00:00:00\", \"2020-05-17T00:00:00\", \"2020-05-18T00:00:00\", \"2020-05-19T00:00:00\", \"2020-05-20T00:00:00\", \"2020-05-21T00:00:00\", \"2020-05-22T00:00:00\", \"2020-05-23T00:00:00\", \"2020-05-24T00:00:00\", \"2020-05-25T00:00:00\", \"2020-05-26T00:00:00\", \"2020-05-27T00:00:00\", \"2020-05-28T00:00:00\", \"2020-05-29T00:00:00\", \"2020-05-30T00:00:00\", \"2020-05-31T00:00:00\", \"2020-06-01T00:00:00\", \"2020-06-02T00:00:00\", \"2020-06-03T00:00:00\", \"2020-06-04T00:00:00\", \"2020-06-05T00:00:00\", \"2020-06-06T00:00:00\", \"2020-06-07T00:00:00\", \"2020-06-08T00:00:00\", \"2020-06-09T00:00:00\", \"2020-06-10T00:00:00\", \"2020-06-11T00:00:00\", \"2020-06-12T00:00:00\", \"2020-06-13T00:00:00\", \"2020-06-14T00:00:00\", \"2020-06-15T00:00:00\", \"2020-06-16T00:00:00\", \"2020-06-17T00:00:00\", \"2020-06-18T00:00:00\", \"2020-06-19T00:00:00\", \"2020-06-20T00:00:00\", \"2020-06-21T00:00:00\", \"2020-06-22T00:00:00\", \"2020-06-23T00:00:00\", \"2020-06-24T00:00:00\", \"2020-06-25T00:00:00\", \"2020-06-26T00:00:00\", \"2020-06-27T00:00:00\", \"2020-06-28T00:00:00\", \"2020-06-29T00:00:00\", \"2020-06-30T00:00:00\", \"2020-07-01T00:00:00\", \"2020-07-02T00:00:00\", \"2020-07-03T00:00:00\", \"2020-07-04T00:00:00\", \"2020-07-05T00:00:00\", \"2020-07-06T00:00:00\", \"2020-07-07T00:00:00\", \"2020-07-08T00:00:00\", \"2020-07-09T00:00:00\", \"2020-07-10T00:00:00\", \"2020-07-11T00:00:00\", \"2020-07-12T00:00:00\", \"2020-07-13T00:00:00\", \"2020-07-14T00:00:00\", \"2020-07-15T00:00:00\", \"2020-07-16T00:00:00\", \"2020-07-17T00:00:00\", \"2020-07-18T00:00:00\", \"2020-07-19T00:00:00\", \"2020-07-20T00:00:00\", \"2020-07-21T00:00:00\", \"2020-07-22T00:00:00\", \"2020-07-23T00:00:00\"], \"xaxis\": \"x\", \"y\": [null, null, null, null, null, null, null, null, null, null, null, null, null, null, null, null, null, null, null, null, null, null, null, null, null, null, null, null, null, null, null, null, null, null, null, null, null, null, null, null, null, null, null, null, null, null, null, null, null, null, null, null, null, null, null, null, null, null, null, null, null, null, null, null, null, null, null, null, null, null, null, null, null, null, null, null, null, null, null, null, null, null, null, null, null, null, null, null, null, null, null, null, null, null, null, null, 10267.360957673312, 10648.475204015598, 11033.080699794516, 11403.739704252175, 11780.157896826251, 12166.117198311173, 12610.123084100745, 13052.525272858093, 13496.41063699018, 13897.918119625729, 14313.594720352505, 14762.819832505267, 15207.39927517875, 15665.46790943019, 16126.76627828779, 16573.859198005648, 17026.45488003176, 17488.337752413634, 18008.015773283016, 18525.84111976551, 19044.903098692477, 19521.343063813958, 20011.710401768745, 20535.386869602757, 21054.180627010242, 21586.22885276228, 22121.274384939046, 22641.884312406262, 23167.769097002656, 23702.71539516285, 24295.233371617207, 24885.6773885145, 25477.138916344767, 26025.761451361155, 26588.096501756794, 27183.527925388047, 27773.86596221852, 28377.249850948432, 28983.424469445694], \"yaxis\": \"y\"}],\n",
       "                        {\"legend\": {\"title\": {\"text\": \"variable\"}, \"tracegroupgap\": 0}, \"margin\": {\"t\": 60}, \"template\": {\"data\": {\"bar\": [{\"error_x\": {\"color\": \"#f2f5fa\"}, \"error_y\": {\"color\": \"#f2f5fa\"}, \"marker\": {\"line\": {\"color\": \"rgb(17,17,17)\", \"width\": 0.5}}, \"type\": \"bar\"}], \"barpolar\": [{\"marker\": {\"line\": {\"color\": \"rgb(17,17,17)\", \"width\": 0.5}}, \"type\": \"barpolar\"}], \"carpet\": [{\"aaxis\": {\"endlinecolor\": \"#A2B1C6\", \"gridcolor\": \"#506784\", \"linecolor\": \"#506784\", \"minorgridcolor\": \"#506784\", \"startlinecolor\": \"#A2B1C6\"}, \"baxis\": {\"endlinecolor\": \"#A2B1C6\", \"gridcolor\": \"#506784\", \"linecolor\": \"#506784\", \"minorgridcolor\": \"#506784\", \"startlinecolor\": \"#A2B1C6\"}, \"type\": \"carpet\"}], \"choropleth\": [{\"colorbar\": {\"outlinewidth\": 0, \"ticks\": \"\"}, \"type\": \"choropleth\"}], \"contour\": [{\"colorbar\": {\"outlinewidth\": 0, \"ticks\": \"\"}, \"colorscale\": [[0.0, \"#0d0887\"], [0.1111111111111111, \"#46039f\"], [0.2222222222222222, \"#7201a8\"], [0.3333333333333333, \"#9c179e\"], [0.4444444444444444, \"#bd3786\"], [0.5555555555555556, \"#d8576b\"], [0.6666666666666666, \"#ed7953\"], [0.7777777777777778, \"#fb9f3a\"], [0.8888888888888888, \"#fdca26\"], [1.0, \"#f0f921\"]], \"type\": \"contour\"}], \"contourcarpet\": [{\"colorbar\": {\"outlinewidth\": 0, \"ticks\": \"\"}, \"type\": \"contourcarpet\"}], \"heatmap\": [{\"colorbar\": {\"outlinewidth\": 0, \"ticks\": \"\"}, \"colorscale\": [[0.0, \"#0d0887\"], [0.1111111111111111, \"#46039f\"], [0.2222222222222222, \"#7201a8\"], [0.3333333333333333, \"#9c179e\"], [0.4444444444444444, \"#bd3786\"], [0.5555555555555556, \"#d8576b\"], [0.6666666666666666, \"#ed7953\"], [0.7777777777777778, \"#fb9f3a\"], [0.8888888888888888, \"#fdca26\"], [1.0, \"#f0f921\"]], \"type\": \"heatmap\"}], \"heatmapgl\": [{\"colorbar\": {\"outlinewidth\": 0, \"ticks\": \"\"}, \"colorscale\": [[0.0, \"#0d0887\"], [0.1111111111111111, \"#46039f\"], [0.2222222222222222, \"#7201a8\"], [0.3333333333333333, \"#9c179e\"], [0.4444444444444444, \"#bd3786\"], [0.5555555555555556, \"#d8576b\"], [0.6666666666666666, \"#ed7953\"], [0.7777777777777778, \"#fb9f3a\"], [0.8888888888888888, \"#fdca26\"], [1.0, \"#f0f921\"]], \"type\": \"heatmapgl\"}], \"histogram\": [{\"marker\": {\"colorbar\": {\"outlinewidth\": 0, \"ticks\": \"\"}}, \"type\": \"histogram\"}], \"histogram2d\": [{\"colorbar\": {\"outlinewidth\": 0, \"ticks\": \"\"}, \"colorscale\": [[0.0, \"#0d0887\"], [0.1111111111111111, \"#46039f\"], [0.2222222222222222, \"#7201a8\"], [0.3333333333333333, \"#9c179e\"], [0.4444444444444444, \"#bd3786\"], [0.5555555555555556, \"#d8576b\"], [0.6666666666666666, \"#ed7953\"], [0.7777777777777778, \"#fb9f3a\"], [0.8888888888888888, \"#fdca26\"], [1.0, \"#f0f921\"]], \"type\": \"histogram2d\"}], \"histogram2dcontour\": [{\"colorbar\": {\"outlinewidth\": 0, \"ticks\": \"\"}, \"colorscale\": [[0.0, \"#0d0887\"], [0.1111111111111111, \"#46039f\"], [0.2222222222222222, \"#7201a8\"], [0.3333333333333333, \"#9c179e\"], [0.4444444444444444, \"#bd3786\"], [0.5555555555555556, \"#d8576b\"], [0.6666666666666666, \"#ed7953\"], [0.7777777777777778, \"#fb9f3a\"], [0.8888888888888888, \"#fdca26\"], [1.0, \"#f0f921\"]], \"type\": \"histogram2dcontour\"}], \"mesh3d\": [{\"colorbar\": {\"outlinewidth\": 0, \"ticks\": \"\"}, \"type\": \"mesh3d\"}], \"parcoords\": [{\"line\": {\"colorbar\": {\"outlinewidth\": 0, \"ticks\": \"\"}}, \"type\": \"parcoords\"}], \"pie\": [{\"automargin\": true, \"type\": \"pie\"}], \"scatter\": [{\"marker\": {\"line\": {\"color\": \"#283442\"}}, \"type\": \"scatter\"}], \"scatter3d\": [{\"line\": {\"colorbar\": {\"outlinewidth\": 0, \"ticks\": \"\"}}, \"marker\": {\"colorbar\": {\"outlinewidth\": 0, \"ticks\": \"\"}}, \"type\": \"scatter3d\"}], \"scattercarpet\": [{\"marker\": {\"colorbar\": {\"outlinewidth\": 0, \"ticks\": \"\"}}, \"type\": \"scattercarpet\"}], \"scattergeo\": [{\"marker\": {\"colorbar\": {\"outlinewidth\": 0, \"ticks\": \"\"}}, \"type\": \"scattergeo\"}], \"scattergl\": [{\"marker\": {\"line\": {\"color\": \"#283442\"}}, \"type\": \"scattergl\"}], \"scattermapbox\": [{\"marker\": {\"colorbar\": {\"outlinewidth\": 0, \"ticks\": \"\"}}, \"type\": \"scattermapbox\"}], \"scatterpolar\": [{\"marker\": {\"colorbar\": {\"outlinewidth\": 0, \"ticks\": \"\"}}, \"type\": \"scatterpolar\"}], \"scatterpolargl\": [{\"marker\": {\"colorbar\": {\"outlinewidth\": 0, \"ticks\": \"\"}}, \"type\": \"scatterpolargl\"}], \"scatterternary\": [{\"marker\": {\"colorbar\": {\"outlinewidth\": 0, \"ticks\": \"\"}}, \"type\": \"scatterternary\"}], \"surface\": [{\"colorbar\": {\"outlinewidth\": 0, \"ticks\": \"\"}, \"colorscale\": [[0.0, \"#0d0887\"], [0.1111111111111111, \"#46039f\"], [0.2222222222222222, \"#7201a8\"], [0.3333333333333333, \"#9c179e\"], [0.4444444444444444, \"#bd3786\"], [0.5555555555555556, \"#d8576b\"], [0.6666666666666666, \"#ed7953\"], [0.7777777777777778, \"#fb9f3a\"], [0.8888888888888888, \"#fdca26\"], [1.0, \"#f0f921\"]], \"type\": \"surface\"}], \"table\": [{\"cells\": {\"fill\": {\"color\": \"#506784\"}, \"line\": {\"color\": \"rgb(17,17,17)\"}}, \"header\": {\"fill\": {\"color\": \"#2a3f5f\"}, \"line\": {\"color\": \"rgb(17,17,17)\"}}, \"type\": \"table\"}]}, \"layout\": {\"annotationdefaults\": {\"arrowcolor\": \"#f2f5fa\", \"arrowhead\": 0, \"arrowwidth\": 1}, \"coloraxis\": {\"colorbar\": {\"outlinewidth\": 0, \"ticks\": \"\"}}, \"colorscale\": {\"diverging\": [[0, \"#8e0152\"], [0.1, \"#c51b7d\"], [0.2, \"#de77ae\"], [0.3, \"#f1b6da\"], [0.4, \"#fde0ef\"], [0.5, \"#f7f7f7\"], [0.6, \"#e6f5d0\"], [0.7, \"#b8e186\"], [0.8, \"#7fbc41\"], [0.9, \"#4d9221\"], [1, \"#276419\"]], \"sequential\": [[0.0, \"#0d0887\"], [0.1111111111111111, \"#46039f\"], [0.2222222222222222, \"#7201a8\"], [0.3333333333333333, \"#9c179e\"], [0.4444444444444444, \"#bd3786\"], [0.5555555555555556, \"#d8576b\"], [0.6666666666666666, \"#ed7953\"], [0.7777777777777778, \"#fb9f3a\"], [0.8888888888888888, \"#fdca26\"], [1.0, \"#f0f921\"]], \"sequentialminus\": [[0.0, \"#0d0887\"], [0.1111111111111111, \"#46039f\"], [0.2222222222222222, \"#7201a8\"], [0.3333333333333333, \"#9c179e\"], [0.4444444444444444, \"#bd3786\"], [0.5555555555555556, \"#d8576b\"], [0.6666666666666666, \"#ed7953\"], [0.7777777777777778, \"#fb9f3a\"], [0.8888888888888888, \"#fdca26\"], [1.0, \"#f0f921\"]]}, \"colorway\": [\"#636efa\", \"#EF553B\", \"#00cc96\", \"#ab63fa\", \"#FFA15A\", \"#19d3f3\", \"#FF6692\", \"#B6E880\", \"#FF97FF\", \"#FECB52\"], \"font\": {\"color\": \"#f2f5fa\"}, \"geo\": {\"bgcolor\": \"rgb(17,17,17)\", \"lakecolor\": \"rgb(17,17,17)\", \"landcolor\": \"rgb(17,17,17)\", \"showlakes\": true, \"showland\": true, \"subunitcolor\": \"#506784\"}, \"hoverlabel\": {\"align\": \"left\"}, \"hovermode\": \"closest\", \"mapbox\": {\"style\": \"dark\"}, \"paper_bgcolor\": \"rgb(17,17,17)\", \"plot_bgcolor\": \"rgb(17,17,17)\", \"polar\": {\"angularaxis\": {\"gridcolor\": \"#506784\", \"linecolor\": \"#506784\", \"ticks\": \"\"}, \"bgcolor\": \"rgb(17,17,17)\", \"radialaxis\": {\"gridcolor\": \"#506784\", \"linecolor\": \"#506784\", \"ticks\": \"\"}}, \"scene\": {\"xaxis\": {\"backgroundcolor\": \"rgb(17,17,17)\", \"gridcolor\": \"#506784\", \"gridwidth\": 2, \"linecolor\": \"#506784\", \"showbackground\": true, \"ticks\": \"\", \"zerolinecolor\": \"#C8D4E3\"}, \"yaxis\": {\"backgroundcolor\": \"rgb(17,17,17)\", \"gridcolor\": \"#506784\", \"gridwidth\": 2, \"linecolor\": \"#506784\", \"showbackground\": true, \"ticks\": \"\", \"zerolinecolor\": \"#C8D4E3\"}, \"zaxis\": {\"backgroundcolor\": \"rgb(17,17,17)\", \"gridcolor\": \"#506784\", \"gridwidth\": 2, \"linecolor\": \"#506784\", \"showbackground\": true, \"ticks\": \"\", \"zerolinecolor\": \"#C8D4E3\"}}, \"shapedefaults\": {\"line\": {\"color\": \"#f2f5fa\"}}, \"sliderdefaults\": {\"bgcolor\": \"#C8D4E3\", \"bordercolor\": \"rgb(17,17,17)\", \"borderwidth\": 1, \"tickwidth\": 0}, \"ternary\": {\"aaxis\": {\"gridcolor\": \"#506784\", \"linecolor\": \"#506784\", \"ticks\": \"\"}, \"baxis\": {\"gridcolor\": \"#506784\", \"linecolor\": \"#506784\", \"ticks\": \"\"}, \"bgcolor\": \"rgb(17,17,17)\", \"caxis\": {\"gridcolor\": \"#506784\", \"linecolor\": \"#506784\", \"ticks\": \"\"}}, \"title\": {\"x\": 0.05}, \"updatemenudefaults\": {\"bgcolor\": \"#506784\", \"borderwidth\": 0}, \"xaxis\": {\"automargin\": true, \"gridcolor\": \"#283442\", \"linecolor\": \"#506784\", \"ticks\": \"\", \"title\": {\"standoff\": 15}, \"zerolinecolor\": \"#283442\", \"zerolinewidth\": 2}, \"yaxis\": {\"automargin\": true, \"gridcolor\": \"#283442\", \"linecolor\": \"#506784\", \"ticks\": \"\", \"title\": {\"standoff\": 15}, \"zerolinecolor\": \"#283442\", \"zerolinewidth\": 2}}}, \"xaxis\": {\"anchor\": \"y\", \"domain\": [0.0, 1.0], \"title\": {\"text\": \"Date\"}}, \"yaxis\": {\"anchor\": \"x\", \"domain\": [0.0, 1.0], \"title\": {\"text\": \"value\"}}},\n",
       "                        {\"responsive\": true}\n",
       "                    ).then(function(){\n",
       "                            \n",
       "var gd = document.getElementById('0ebaaa72-7b50-4b59-ace3-b47b761fc108');\n",
       "var x = new MutationObserver(function (mutations, observer) {{\n",
       "        var display = window.getComputedStyle(gd).display;\n",
       "        if (!display || display === 'none') {{\n",
       "            console.log([gd, 'removed!']);\n",
       "            Plotly.purge(gd);\n",
       "            observer.disconnect();\n",
       "        }}\n",
       "}});\n",
       "\n",
       "// Listen for the removal of the full notebook cells\n",
       "var notebookContainer = gd.closest('#notebook-container');\n",
       "if (notebookContainer) {{\n",
       "    x.observe(notebookContainer, {childList: true});\n",
       "}}\n",
       "\n",
       "// Listen for the clearing of the current output cell\n",
       "var outputEl = gd.closest('.output');\n",
       "if (outputEl) {{\n",
       "    x.observe(outputEl, {childList: true});\n",
       "}}\n",
       "\n",
       "                        })\n",
       "                };\n",
       "                });\n",
       "            </script>\n",
       "        </div>"
      ]
     },
     "metadata": {},
     "output_type": "display_data"
    }
   ],
   "source": [
    "split_date = pd.Timestamp('2020-06-15')\n",
    "train,test=split_dataframe(split_date)\n",
    "fig,future_forecast=forecast()\n",
    "fig"
   ]
  },
  {
   "cell_type": "code",
   "execution_count": 17,
   "metadata": {},
   "outputs": [
    {
     "data": {
      "text/plain": [
       "4.742380146928486"
      ]
     },
     "execution_count": 17,
     "metadata": {},
     "output_type": "execute_result"
    }
   ],
   "source": [
    "mean_absolute_percentage_error(test,future_forecast)"
   ]
  },
  {
   "cell_type": "code",
   "execution_count": 18,
   "metadata": {},
   "outputs": [
    {
     "data": {
      "text/html": [
       "<div>\n",
       "<style scoped>\n",
       "    .dataframe tbody tr th:only-of-type {\n",
       "        vertical-align: middle;\n",
       "    }\n",
       "\n",
       "    .dataframe tbody tr th {\n",
       "        vertical-align: top;\n",
       "    }\n",
       "\n",
       "    .dataframe thead th {\n",
       "        text-align: right;\n",
       "    }\n",
       "</style>\n",
       "<table border=\"1\" class=\"dataframe\">\n",
       "  <thead>\n",
       "    <tr style=\"text-align: right;\">\n",
       "      <th></th>\n",
       "      <th>Prediction</th>\n",
       "      <th>Actual</th>\n",
       "    </tr>\n",
       "    <tr>\n",
       "      <th>Date</th>\n",
       "      <th></th>\n",
       "      <th></th>\n",
       "    </tr>\n",
       "  </thead>\n",
       "  <tbody>\n",
       "    <tr>\n",
       "      <th>2020-06-15</th>\n",
       "      <td>10267.360958</td>\n",
       "      <td>9900</td>\n",
       "    </tr>\n",
       "    <tr>\n",
       "      <th>2020-06-16</th>\n",
       "      <td>10648.475204</td>\n",
       "      <td>11903</td>\n",
       "    </tr>\n",
       "    <tr>\n",
       "      <th>2020-06-17</th>\n",
       "      <td>11033.080700</td>\n",
       "      <td>12237</td>\n",
       "    </tr>\n",
       "    <tr>\n",
       "      <th>2020-06-18</th>\n",
       "      <td>11403.739704</td>\n",
       "      <td>12573</td>\n",
       "    </tr>\n",
       "    <tr>\n",
       "      <th>2020-06-19</th>\n",
       "      <td>11780.157897</td>\n",
       "      <td>12948</td>\n",
       "    </tr>\n",
       "    <tr>\n",
       "      <th>2020-06-20</th>\n",
       "      <td>12166.117198</td>\n",
       "      <td>13254</td>\n",
       "    </tr>\n",
       "    <tr>\n",
       "      <th>2020-06-21</th>\n",
       "      <td>12610.123084</td>\n",
       "      <td>13699</td>\n",
       "    </tr>\n",
       "    <tr>\n",
       "      <th>2020-06-22</th>\n",
       "      <td>13052.525273</td>\n",
       "      <td>14011</td>\n",
       "    </tr>\n",
       "    <tr>\n",
       "      <th>2020-06-23</th>\n",
       "      <td>13496.410637</td>\n",
       "      <td>14476</td>\n",
       "    </tr>\n",
       "    <tr>\n",
       "      <th>2020-06-24</th>\n",
       "      <td>13897.918120</td>\n",
       "      <td>14894</td>\n",
       "    </tr>\n",
       "    <tr>\n",
       "      <th>2020-06-25</th>\n",
       "      <td>14313.594720</td>\n",
       "      <td>15301</td>\n",
       "    </tr>\n",
       "    <tr>\n",
       "      <th>2020-06-26</th>\n",
       "      <td>14762.819833</td>\n",
       "      <td>15685</td>\n",
       "    </tr>\n",
       "    <tr>\n",
       "      <th>2020-06-27</th>\n",
       "      <td>15207.399275</td>\n",
       "      <td>16095</td>\n",
       "    </tr>\n",
       "    <tr>\n",
       "      <th>2020-06-28</th>\n",
       "      <td>15665.467909</td>\n",
       "      <td>16475</td>\n",
       "    </tr>\n",
       "    <tr>\n",
       "      <th>2020-06-29</th>\n",
       "      <td>16126.766278</td>\n",
       "      <td>16893</td>\n",
       "    </tr>\n",
       "    <tr>\n",
       "      <th>2020-06-30</th>\n",
       "      <td>16573.859198</td>\n",
       "      <td>17400</td>\n",
       "    </tr>\n",
       "    <tr>\n",
       "      <th>2020-07-01</th>\n",
       "      <td>17026.454880</td>\n",
       "      <td>17834</td>\n",
       "    </tr>\n",
       "    <tr>\n",
       "      <th>2020-07-02</th>\n",
       "      <td>17488.337752</td>\n",
       "      <td>18213</td>\n",
       "    </tr>\n",
       "    <tr>\n",
       "      <th>2020-07-03</th>\n",
       "      <td>18008.015773</td>\n",
       "      <td>18655</td>\n",
       "    </tr>\n",
       "    <tr>\n",
       "      <th>2020-07-04</th>\n",
       "      <td>18525.841120</td>\n",
       "      <td>19268</td>\n",
       "    </tr>\n",
       "    <tr>\n",
       "      <th>2020-07-05</th>\n",
       "      <td>19044.903099</td>\n",
       "      <td>19693</td>\n",
       "    </tr>\n",
       "    <tr>\n",
       "      <th>2020-07-06</th>\n",
       "      <td>19521.343064</td>\n",
       "      <td>20159</td>\n",
       "    </tr>\n",
       "    <tr>\n",
       "      <th>2020-07-07</th>\n",
       "      <td>20011.710402</td>\n",
       "      <td>20642</td>\n",
       "    </tr>\n",
       "    <tr>\n",
       "      <th>2020-07-08</th>\n",
       "      <td>20535.386870</td>\n",
       "      <td>21129</td>\n",
       "    </tr>\n",
       "    <tr>\n",
       "      <th>2020-07-09</th>\n",
       "      <td>21054.180627</td>\n",
       "      <td>21604</td>\n",
       "    </tr>\n",
       "    <tr>\n",
       "      <th>2020-07-10</th>\n",
       "      <td>21586.228853</td>\n",
       "      <td>22123</td>\n",
       "    </tr>\n",
       "    <tr>\n",
       "      <th>2020-07-11</th>\n",
       "      <td>22121.274385</td>\n",
       "      <td>22673</td>\n",
       "    </tr>\n",
       "    <tr>\n",
       "      <th>2020-07-12</th>\n",
       "      <td>22641.884312</td>\n",
       "      <td>23174</td>\n",
       "    </tr>\n",
       "    <tr>\n",
       "      <th>2020-07-13</th>\n",
       "      <td>23167.769097</td>\n",
       "      <td>23727</td>\n",
       "    </tr>\n",
       "    <tr>\n",
       "      <th>2020-07-14</th>\n",
       "      <td>23702.715395</td>\n",
       "      <td>24309</td>\n",
       "    </tr>\n",
       "    <tr>\n",
       "      <th>2020-07-15</th>\n",
       "      <td>24295.233372</td>\n",
       "      <td>24914</td>\n",
       "    </tr>\n",
       "    <tr>\n",
       "      <th>2020-07-16</th>\n",
       "      <td>24885.677389</td>\n",
       "      <td>25602</td>\n",
       "    </tr>\n",
       "    <tr>\n",
       "      <th>2020-07-17</th>\n",
       "      <td>25477.138916</td>\n",
       "      <td>26273</td>\n",
       "    </tr>\n",
       "    <tr>\n",
       "      <th>2020-07-18</th>\n",
       "      <td>26025.761451</td>\n",
       "      <td>26816</td>\n",
       "    </tr>\n",
       "    <tr>\n",
       "      <th>2020-07-19</th>\n",
       "      <td>26588.096502</td>\n",
       "      <td>27497</td>\n",
       "    </tr>\n",
       "    <tr>\n",
       "      <th>2020-07-20</th>\n",
       "      <td>27183.527925</td>\n",
       "      <td>28082</td>\n",
       "    </tr>\n",
       "    <tr>\n",
       "      <th>2020-07-21</th>\n",
       "      <td>27773.865962</td>\n",
       "      <td>28732</td>\n",
       "    </tr>\n",
       "    <tr>\n",
       "      <th>2020-07-22</th>\n",
       "      <td>28377.249851</td>\n",
       "      <td>29861</td>\n",
       "    </tr>\n",
       "    <tr>\n",
       "      <th>2020-07-23</th>\n",
       "      <td>28983.424469</td>\n",
       "      <td>30601</td>\n",
       "    </tr>\n",
       "  </tbody>\n",
       "</table>\n",
       "</div>"
      ],
      "text/plain": [
       "              Prediction  Actual\n",
       "Date                            \n",
       "2020-06-15  10267.360958    9900\n",
       "2020-06-16  10648.475204   11903\n",
       "2020-06-17  11033.080700   12237\n",
       "2020-06-18  11403.739704   12573\n",
       "2020-06-19  11780.157897   12948\n",
       "2020-06-20  12166.117198   13254\n",
       "2020-06-21  12610.123084   13699\n",
       "2020-06-22  13052.525273   14011\n",
       "2020-06-23  13496.410637   14476\n",
       "2020-06-24  13897.918120   14894\n",
       "2020-06-25  14313.594720   15301\n",
       "2020-06-26  14762.819833   15685\n",
       "2020-06-27  15207.399275   16095\n",
       "2020-06-28  15665.467909   16475\n",
       "2020-06-29  16126.766278   16893\n",
       "2020-06-30  16573.859198   17400\n",
       "2020-07-01  17026.454880   17834\n",
       "2020-07-02  17488.337752   18213\n",
       "2020-07-03  18008.015773   18655\n",
       "2020-07-04  18525.841120   19268\n",
       "2020-07-05  19044.903099   19693\n",
       "2020-07-06  19521.343064   20159\n",
       "2020-07-07  20011.710402   20642\n",
       "2020-07-08  20535.386870   21129\n",
       "2020-07-09  21054.180627   21604\n",
       "2020-07-10  21586.228853   22123\n",
       "2020-07-11  22121.274385   22673\n",
       "2020-07-12  22641.884312   23174\n",
       "2020-07-13  23167.769097   23727\n",
       "2020-07-14  23702.715395   24309\n",
       "2020-07-15  24295.233372   24914\n",
       "2020-07-16  24885.677389   25602\n",
       "2020-07-17  25477.138916   26273\n",
       "2020-07-18  26025.761451   26816\n",
       "2020-07-19  26588.096502   27497\n",
       "2020-07-20  27183.527925   28082\n",
       "2020-07-21  27773.865962   28732\n",
       "2020-07-22  28377.249851   29861\n",
       "2020-07-23  28983.424469   30601"
      ]
     },
     "execution_count": 18,
     "metadata": {},
     "output_type": "execute_result"
    }
   ],
   "source": [
    "future_forecast['Actual']=test.Total\n",
    "future_forecast"
   ]
  },
  {
   "cell_type": "markdown",
   "metadata": {},
   "source": [
    "## Confirmed"
   ]
  },
  {
   "cell_type": "code",
   "execution_count": 19,
   "metadata": {},
   "outputs": [
    {
     "data": {
      "application/vnd.plotly.v1+json": {
       "config": {
        "plotlyServerURL": "https://plot.ly"
       },
       "data": [
        {
         "hovertemplate": "variable=Total<br>Date=%{x}<br>value=%{y}<extra></extra>",
         "legendgroup": "Total",
         "line": {
          "color": "#636efa",
          "dash": "solid"
         },
         "mode": "lines",
         "name": "Total",
         "orientation": "v",
         "showlegend": true,
         "type": "scatter",
         "x": [
          "2020-01-30T00:00:00",
          "2020-01-31T00:00:00",
          "2020-02-01T00:00:00",
          "2020-02-02T00:00:00",
          "2020-02-03T00:00:00",
          "2020-02-04T00:00:00",
          "2020-02-05T00:00:00",
          "2020-02-06T00:00:00",
          "2020-02-07T00:00:00",
          "2020-02-08T00:00:00",
          "2020-02-09T00:00:00",
          "2020-02-10T00:00:00",
          "2020-02-11T00:00:00",
          "2020-02-12T00:00:00",
          "2020-02-13T00:00:00",
          "2020-02-14T00:00:00",
          "2020-02-15T00:00:00",
          "2020-02-16T00:00:00",
          "2020-02-17T00:00:00",
          "2020-02-18T00:00:00",
          "2020-02-19T00:00:00",
          "2020-02-20T00:00:00",
          "2020-02-21T00:00:00",
          "2020-02-22T00:00:00",
          "2020-02-23T00:00:00",
          "2020-02-24T00:00:00",
          "2020-02-25T00:00:00",
          "2020-02-26T00:00:00",
          "2020-02-27T00:00:00",
          "2020-02-28T00:00:00",
          "2020-02-29T00:00:00",
          "2020-03-01T00:00:00",
          "2020-03-02T00:00:00",
          "2020-03-03T00:00:00",
          "2020-03-04T00:00:00",
          "2020-03-05T00:00:00",
          "2020-03-06T00:00:00",
          "2020-03-07T00:00:00",
          "2020-03-08T00:00:00",
          "2020-03-09T00:00:00",
          "2020-03-10T00:00:00",
          "2020-03-11T00:00:00",
          "2020-03-12T00:00:00",
          "2020-03-13T00:00:00",
          "2020-03-14T00:00:00",
          "2020-03-15T00:00:00",
          "2020-03-16T00:00:00",
          "2020-03-17T00:00:00",
          "2020-03-18T00:00:00",
          "2020-03-19T00:00:00",
          "2020-03-20T00:00:00",
          "2020-03-21T00:00:00",
          "2020-03-22T00:00:00",
          "2020-03-23T00:00:00",
          "2020-03-24T00:00:00",
          "2020-03-25T00:00:00",
          "2020-03-26T00:00:00",
          "2020-03-27T00:00:00",
          "2020-03-28T00:00:00",
          "2020-03-29T00:00:00",
          "2020-03-30T00:00:00",
          "2020-03-31T00:00:00",
          "2020-04-01T00:00:00",
          "2020-04-02T00:00:00",
          "2020-04-03T00:00:00",
          "2020-04-04T00:00:00",
          "2020-04-05T00:00:00",
          "2020-04-06T00:00:00",
          "2020-04-07T00:00:00",
          "2020-04-08T00:00:00",
          "2020-04-09T00:00:00",
          "2020-04-10T00:00:00",
          "2020-04-11T00:00:00",
          "2020-04-12T00:00:00",
          "2020-04-13T00:00:00",
          "2020-04-14T00:00:00",
          "2020-04-15T00:00:00",
          "2020-04-16T00:00:00",
          "2020-04-17T00:00:00",
          "2020-04-18T00:00:00",
          "2020-04-19T00:00:00",
          "2020-04-20T00:00:00",
          "2020-04-21T00:00:00",
          "2020-04-22T00:00:00",
          "2020-04-23T00:00:00",
          "2020-04-24T00:00:00",
          "2020-04-25T00:00:00",
          "2020-04-26T00:00:00",
          "2020-04-27T00:00:00",
          "2020-04-28T00:00:00",
          "2020-04-29T00:00:00",
          "2020-04-30T00:00:00",
          "2020-05-01T00:00:00",
          "2020-05-02T00:00:00",
          "2020-05-03T00:00:00",
          "2020-05-04T00:00:00",
          "2020-05-05T00:00:00",
          "2020-05-06T00:00:00",
          "2020-05-07T00:00:00",
          "2020-05-08T00:00:00",
          "2020-05-09T00:00:00",
          "2020-05-10T00:00:00",
          "2020-05-11T00:00:00",
          "2020-05-12T00:00:00",
          "2020-05-13T00:00:00",
          "2020-05-14T00:00:00",
          "2020-05-15T00:00:00",
          "2020-05-16T00:00:00",
          "2020-05-17T00:00:00",
          "2020-05-18T00:00:00",
          "2020-05-19T00:00:00",
          "2020-05-20T00:00:00",
          "2020-05-21T00:00:00",
          "2020-05-22T00:00:00",
          "2020-05-23T00:00:00",
          "2020-05-24T00:00:00",
          "2020-05-25T00:00:00",
          "2020-05-26T00:00:00",
          "2020-05-27T00:00:00",
          "2020-05-28T00:00:00",
          "2020-05-29T00:00:00",
          "2020-05-30T00:00:00",
          "2020-05-31T00:00:00",
          "2020-06-01T00:00:00",
          "2020-06-02T00:00:00",
          "2020-06-03T00:00:00",
          "2020-06-04T00:00:00",
          "2020-06-05T00:00:00",
          "2020-06-06T00:00:00",
          "2020-06-07T00:00:00",
          "2020-06-08T00:00:00",
          "2020-06-09T00:00:00",
          "2020-06-10T00:00:00",
          "2020-06-11T00:00:00",
          "2020-06-12T00:00:00",
          "2020-06-13T00:00:00",
          "2020-06-14T00:00:00",
          "2020-06-15T00:00:00",
          "2020-06-16T00:00:00",
          "2020-06-17T00:00:00",
          "2020-06-18T00:00:00",
          "2020-06-19T00:00:00",
          "2020-06-20T00:00:00",
          "2020-06-21T00:00:00",
          "2020-06-22T00:00:00",
          "2020-06-23T00:00:00",
          "2020-06-24T00:00:00",
          "2020-06-25T00:00:00",
          "2020-06-26T00:00:00",
          "2020-06-27T00:00:00",
          "2020-06-28T00:00:00",
          "2020-06-29T00:00:00",
          "2020-06-30T00:00:00",
          "2020-07-01T00:00:00",
          "2020-07-02T00:00:00",
          "2020-07-03T00:00:00",
          "2020-07-04T00:00:00",
          "2020-07-05T00:00:00",
          "2020-07-06T00:00:00",
          "2020-07-07T00:00:00",
          "2020-07-08T00:00:00",
          "2020-07-09T00:00:00",
          "2020-07-10T00:00:00",
          "2020-07-11T00:00:00",
          "2020-07-12T00:00:00",
          "2020-07-13T00:00:00",
          "2020-07-14T00:00:00",
          "2020-07-15T00:00:00",
          "2020-07-16T00:00:00",
          "2020-07-17T00:00:00",
          "2020-07-18T00:00:00",
          "2020-07-19T00:00:00",
          "2020-07-20T00:00:00",
          "2020-07-21T00:00:00",
          "2020-07-22T00:00:00",
          "2020-07-23T00:00:00"
         ],
         "xaxis": "x",
         "y": [
          1,
          1,
          1,
          2,
          3,
          3,
          3,
          3,
          3,
          3,
          3,
          3,
          3,
          3,
          3,
          3,
          3,
          3,
          3,
          3,
          3,
          3,
          3,
          3,
          3,
          3,
          3,
          3,
          3,
          3,
          3,
          3,
          5,
          5,
          28,
          30,
          31,
          34,
          39,
          43,
          56,
          62,
          73,
          82,
          102,
          113,
          119,
          142,
          156,
          194,
          244,
          330,
          396,
          499,
          536,
          657,
          727,
          887,
          987,
          1024,
          1251,
          1397,
          1998,
          2543,
          2567,
          3082,
          3588,
          4778,
          5311,
          5916,
          6725,
          7598,
          8446,
          9205,
          10453,
          11487,
          12322,
          13430,
          14352,
          15722,
          17615,
          18539,
          20080,
          21370,
          23077,
          24530,
          26283,
          27890,
          29451,
          31324,
          33062,
          34863,
          37257,
          39699,
          42505,
          46437,
          49400,
          52987,
          56351,
          59695,
          62808,
          67161,
          70768,
          74292,
          78055,
          81997,
          85784,
          90648,
          95698,
          100328,
          106475,
          112028,
          118226,
          124794,
          131423,
          138536,
          144950,
          150793,
          158086,
          165386,
          173491,
          181827,
          190609,
          198370,
          207191,
          216824,
          226713,
          236184,
          246622,
          257486,
          265928,
          276146,
          286605,
          297535,
          308993,
          320922,
          332424,
          343091,
          354065,
          366946,
          380532,
          395048,
          410451,
          425282,
          440215,
          456183,
          473105,
          490401,
          508953,
          528859,
          548318,
          566840,
          585481,
          604641,
          625544,
          648315,
          673165,
          697413,
          719664,
          742417,
          767296,
          793802,
          820916,
          849522,
          878254,
          906752,
          936181,
          968857,
          1003832,
          1039084,
          1077781,
          1118206,
          1155338,
          1193078,
          1238798,
          1288108
         ],
         "yaxis": "y"
        }
       ],
       "layout": {
        "legend": {
         "title": {
          "text": "variable"
         },
         "tracegroupgap": 0
        },
        "margin": {
         "t": 60
        },
        "template": {
         "data": {
          "bar": [
           {
            "error_x": {
             "color": "#f2f5fa"
            },
            "error_y": {
             "color": "#f2f5fa"
            },
            "marker": {
             "line": {
              "color": "rgb(17,17,17)",
              "width": 0.5
             }
            },
            "type": "bar"
           }
          ],
          "barpolar": [
           {
            "marker": {
             "line": {
              "color": "rgb(17,17,17)",
              "width": 0.5
             }
            },
            "type": "barpolar"
           }
          ],
          "carpet": [
           {
            "aaxis": {
             "endlinecolor": "#A2B1C6",
             "gridcolor": "#506784",
             "linecolor": "#506784",
             "minorgridcolor": "#506784",
             "startlinecolor": "#A2B1C6"
            },
            "baxis": {
             "endlinecolor": "#A2B1C6",
             "gridcolor": "#506784",
             "linecolor": "#506784",
             "minorgridcolor": "#506784",
             "startlinecolor": "#A2B1C6"
            },
            "type": "carpet"
           }
          ],
          "choropleth": [
           {
            "colorbar": {
             "outlinewidth": 0,
             "ticks": ""
            },
            "type": "choropleth"
           }
          ],
          "contour": [
           {
            "colorbar": {
             "outlinewidth": 0,
             "ticks": ""
            },
            "colorscale": [
             [
              0,
              "#0d0887"
             ],
             [
              0.1111111111111111,
              "#46039f"
             ],
             [
              0.2222222222222222,
              "#7201a8"
             ],
             [
              0.3333333333333333,
              "#9c179e"
             ],
             [
              0.4444444444444444,
              "#bd3786"
             ],
             [
              0.5555555555555556,
              "#d8576b"
             ],
             [
              0.6666666666666666,
              "#ed7953"
             ],
             [
              0.7777777777777778,
              "#fb9f3a"
             ],
             [
              0.8888888888888888,
              "#fdca26"
             ],
             [
              1,
              "#f0f921"
             ]
            ],
            "type": "contour"
           }
          ],
          "contourcarpet": [
           {
            "colorbar": {
             "outlinewidth": 0,
             "ticks": ""
            },
            "type": "contourcarpet"
           }
          ],
          "heatmap": [
           {
            "colorbar": {
             "outlinewidth": 0,
             "ticks": ""
            },
            "colorscale": [
             [
              0,
              "#0d0887"
             ],
             [
              0.1111111111111111,
              "#46039f"
             ],
             [
              0.2222222222222222,
              "#7201a8"
             ],
             [
              0.3333333333333333,
              "#9c179e"
             ],
             [
              0.4444444444444444,
              "#bd3786"
             ],
             [
              0.5555555555555556,
              "#d8576b"
             ],
             [
              0.6666666666666666,
              "#ed7953"
             ],
             [
              0.7777777777777778,
              "#fb9f3a"
             ],
             [
              0.8888888888888888,
              "#fdca26"
             ],
             [
              1,
              "#f0f921"
             ]
            ],
            "type": "heatmap"
           }
          ],
          "heatmapgl": [
           {
            "colorbar": {
             "outlinewidth": 0,
             "ticks": ""
            },
            "colorscale": [
             [
              0,
              "#0d0887"
             ],
             [
              0.1111111111111111,
              "#46039f"
             ],
             [
              0.2222222222222222,
              "#7201a8"
             ],
             [
              0.3333333333333333,
              "#9c179e"
             ],
             [
              0.4444444444444444,
              "#bd3786"
             ],
             [
              0.5555555555555556,
              "#d8576b"
             ],
             [
              0.6666666666666666,
              "#ed7953"
             ],
             [
              0.7777777777777778,
              "#fb9f3a"
             ],
             [
              0.8888888888888888,
              "#fdca26"
             ],
             [
              1,
              "#f0f921"
             ]
            ],
            "type": "heatmapgl"
           }
          ],
          "histogram": [
           {
            "marker": {
             "colorbar": {
              "outlinewidth": 0,
              "ticks": ""
             }
            },
            "type": "histogram"
           }
          ],
          "histogram2d": [
           {
            "colorbar": {
             "outlinewidth": 0,
             "ticks": ""
            },
            "colorscale": [
             [
              0,
              "#0d0887"
             ],
             [
              0.1111111111111111,
              "#46039f"
             ],
             [
              0.2222222222222222,
              "#7201a8"
             ],
             [
              0.3333333333333333,
              "#9c179e"
             ],
             [
              0.4444444444444444,
              "#bd3786"
             ],
             [
              0.5555555555555556,
              "#d8576b"
             ],
             [
              0.6666666666666666,
              "#ed7953"
             ],
             [
              0.7777777777777778,
              "#fb9f3a"
             ],
             [
              0.8888888888888888,
              "#fdca26"
             ],
             [
              1,
              "#f0f921"
             ]
            ],
            "type": "histogram2d"
           }
          ],
          "histogram2dcontour": [
           {
            "colorbar": {
             "outlinewidth": 0,
             "ticks": ""
            },
            "colorscale": [
             [
              0,
              "#0d0887"
             ],
             [
              0.1111111111111111,
              "#46039f"
             ],
             [
              0.2222222222222222,
              "#7201a8"
             ],
             [
              0.3333333333333333,
              "#9c179e"
             ],
             [
              0.4444444444444444,
              "#bd3786"
             ],
             [
              0.5555555555555556,
              "#d8576b"
             ],
             [
              0.6666666666666666,
              "#ed7953"
             ],
             [
              0.7777777777777778,
              "#fb9f3a"
             ],
             [
              0.8888888888888888,
              "#fdca26"
             ],
             [
              1,
              "#f0f921"
             ]
            ],
            "type": "histogram2dcontour"
           }
          ],
          "mesh3d": [
           {
            "colorbar": {
             "outlinewidth": 0,
             "ticks": ""
            },
            "type": "mesh3d"
           }
          ],
          "parcoords": [
           {
            "line": {
             "colorbar": {
              "outlinewidth": 0,
              "ticks": ""
             }
            },
            "type": "parcoords"
           }
          ],
          "pie": [
           {
            "automargin": true,
            "type": "pie"
           }
          ],
          "scatter": [
           {
            "marker": {
             "line": {
              "color": "#283442"
             }
            },
            "type": "scatter"
           }
          ],
          "scatter3d": [
           {
            "line": {
             "colorbar": {
              "outlinewidth": 0,
              "ticks": ""
             }
            },
            "marker": {
             "colorbar": {
              "outlinewidth": 0,
              "ticks": ""
             }
            },
            "type": "scatter3d"
           }
          ],
          "scattercarpet": [
           {
            "marker": {
             "colorbar": {
              "outlinewidth": 0,
              "ticks": ""
             }
            },
            "type": "scattercarpet"
           }
          ],
          "scattergeo": [
           {
            "marker": {
             "colorbar": {
              "outlinewidth": 0,
              "ticks": ""
             }
            },
            "type": "scattergeo"
           }
          ],
          "scattergl": [
           {
            "marker": {
             "line": {
              "color": "#283442"
             }
            },
            "type": "scattergl"
           }
          ],
          "scattermapbox": [
           {
            "marker": {
             "colorbar": {
              "outlinewidth": 0,
              "ticks": ""
             }
            },
            "type": "scattermapbox"
           }
          ],
          "scatterpolar": [
           {
            "marker": {
             "colorbar": {
              "outlinewidth": 0,
              "ticks": ""
             }
            },
            "type": "scatterpolar"
           }
          ],
          "scatterpolargl": [
           {
            "marker": {
             "colorbar": {
              "outlinewidth": 0,
              "ticks": ""
             }
            },
            "type": "scatterpolargl"
           }
          ],
          "scatterternary": [
           {
            "marker": {
             "colorbar": {
              "outlinewidth": 0,
              "ticks": ""
             }
            },
            "type": "scatterternary"
           }
          ],
          "surface": [
           {
            "colorbar": {
             "outlinewidth": 0,
             "ticks": ""
            },
            "colorscale": [
             [
              0,
              "#0d0887"
             ],
             [
              0.1111111111111111,
              "#46039f"
             ],
             [
              0.2222222222222222,
              "#7201a8"
             ],
             [
              0.3333333333333333,
              "#9c179e"
             ],
             [
              0.4444444444444444,
              "#bd3786"
             ],
             [
              0.5555555555555556,
              "#d8576b"
             ],
             [
              0.6666666666666666,
              "#ed7953"
             ],
             [
              0.7777777777777778,
              "#fb9f3a"
             ],
             [
              0.8888888888888888,
              "#fdca26"
             ],
             [
              1,
              "#f0f921"
             ]
            ],
            "type": "surface"
           }
          ],
          "table": [
           {
            "cells": {
             "fill": {
              "color": "#506784"
             },
             "line": {
              "color": "rgb(17,17,17)"
             }
            },
            "header": {
             "fill": {
              "color": "#2a3f5f"
             },
             "line": {
              "color": "rgb(17,17,17)"
             }
            },
            "type": "table"
           }
          ]
         },
         "layout": {
          "annotationdefaults": {
           "arrowcolor": "#f2f5fa",
           "arrowhead": 0,
           "arrowwidth": 1
          },
          "coloraxis": {
           "colorbar": {
            "outlinewidth": 0,
            "ticks": ""
           }
          },
          "colorscale": {
           "diverging": [
            [
             0,
             "#8e0152"
            ],
            [
             0.1,
             "#c51b7d"
            ],
            [
             0.2,
             "#de77ae"
            ],
            [
             0.3,
             "#f1b6da"
            ],
            [
             0.4,
             "#fde0ef"
            ],
            [
             0.5,
             "#f7f7f7"
            ],
            [
             0.6,
             "#e6f5d0"
            ],
            [
             0.7,
             "#b8e186"
            ],
            [
             0.8,
             "#7fbc41"
            ],
            [
             0.9,
             "#4d9221"
            ],
            [
             1,
             "#276419"
            ]
           ],
           "sequential": [
            [
             0,
             "#0d0887"
            ],
            [
             0.1111111111111111,
             "#46039f"
            ],
            [
             0.2222222222222222,
             "#7201a8"
            ],
            [
             0.3333333333333333,
             "#9c179e"
            ],
            [
             0.4444444444444444,
             "#bd3786"
            ],
            [
             0.5555555555555556,
             "#d8576b"
            ],
            [
             0.6666666666666666,
             "#ed7953"
            ],
            [
             0.7777777777777778,
             "#fb9f3a"
            ],
            [
             0.8888888888888888,
             "#fdca26"
            ],
            [
             1,
             "#f0f921"
            ]
           ],
           "sequentialminus": [
            [
             0,
             "#0d0887"
            ],
            [
             0.1111111111111111,
             "#46039f"
            ],
            [
             0.2222222222222222,
             "#7201a8"
            ],
            [
             0.3333333333333333,
             "#9c179e"
            ],
            [
             0.4444444444444444,
             "#bd3786"
            ],
            [
             0.5555555555555556,
             "#d8576b"
            ],
            [
             0.6666666666666666,
             "#ed7953"
            ],
            [
             0.7777777777777778,
             "#fb9f3a"
            ],
            [
             0.8888888888888888,
             "#fdca26"
            ],
            [
             1,
             "#f0f921"
            ]
           ]
          },
          "colorway": [
           "#636efa",
           "#EF553B",
           "#00cc96",
           "#ab63fa",
           "#FFA15A",
           "#19d3f3",
           "#FF6692",
           "#B6E880",
           "#FF97FF",
           "#FECB52"
          ],
          "font": {
           "color": "#f2f5fa"
          },
          "geo": {
           "bgcolor": "rgb(17,17,17)",
           "lakecolor": "rgb(17,17,17)",
           "landcolor": "rgb(17,17,17)",
           "showlakes": true,
           "showland": true,
           "subunitcolor": "#506784"
          },
          "hoverlabel": {
           "align": "left"
          },
          "hovermode": "closest",
          "mapbox": {
           "style": "dark"
          },
          "paper_bgcolor": "rgb(17,17,17)",
          "plot_bgcolor": "rgb(17,17,17)",
          "polar": {
           "angularaxis": {
            "gridcolor": "#506784",
            "linecolor": "#506784",
            "ticks": ""
           },
           "bgcolor": "rgb(17,17,17)",
           "radialaxis": {
            "gridcolor": "#506784",
            "linecolor": "#506784",
            "ticks": ""
           }
          },
          "scene": {
           "xaxis": {
            "backgroundcolor": "rgb(17,17,17)",
            "gridcolor": "#506784",
            "gridwidth": 2,
            "linecolor": "#506784",
            "showbackground": true,
            "ticks": "",
            "zerolinecolor": "#C8D4E3"
           },
           "yaxis": {
            "backgroundcolor": "rgb(17,17,17)",
            "gridcolor": "#506784",
            "gridwidth": 2,
            "linecolor": "#506784",
            "showbackground": true,
            "ticks": "",
            "zerolinecolor": "#C8D4E3"
           },
           "zaxis": {
            "backgroundcolor": "rgb(17,17,17)",
            "gridcolor": "#506784",
            "gridwidth": 2,
            "linecolor": "#506784",
            "showbackground": true,
            "ticks": "",
            "zerolinecolor": "#C8D4E3"
           }
          },
          "shapedefaults": {
           "line": {
            "color": "#f2f5fa"
           }
          },
          "sliderdefaults": {
           "bgcolor": "#C8D4E3",
           "bordercolor": "rgb(17,17,17)",
           "borderwidth": 1,
           "tickwidth": 0
          },
          "ternary": {
           "aaxis": {
            "gridcolor": "#506784",
            "linecolor": "#506784",
            "ticks": ""
           },
           "baxis": {
            "gridcolor": "#506784",
            "linecolor": "#506784",
            "ticks": ""
           },
           "bgcolor": "rgb(17,17,17)",
           "caxis": {
            "gridcolor": "#506784",
            "linecolor": "#506784",
            "ticks": ""
           }
          },
          "title": {
           "x": 0.05
          },
          "updatemenudefaults": {
           "bgcolor": "#506784",
           "borderwidth": 0
          },
          "xaxis": {
           "automargin": true,
           "gridcolor": "#283442",
           "linecolor": "#506784",
           "ticks": "",
           "title": {
            "standoff": 15
           },
           "zerolinecolor": "#283442",
           "zerolinewidth": 2
          },
          "yaxis": {
           "automargin": true,
           "gridcolor": "#283442",
           "linecolor": "#506784",
           "ticks": "",
           "title": {
            "standoff": 15
           },
           "zerolinecolor": "#283442",
           "zerolinewidth": 2
          }
         }
        },
        "xaxis": {
         "anchor": "y",
         "domain": [
          0,
          1
         ],
         "title": {
          "text": "Date"
         }
        },
        "yaxis": {
         "anchor": "x",
         "domain": [
          0,
          1
         ],
         "title": {
          "text": "value"
         }
        }
       }
      },
      "text/html": [
       "<div>\n",
       "        \n",
       "        \n",
       "            <div id=\"e95adaa4-8e8a-4492-9c71-bf3d6ec60afe\" class=\"plotly-graph-div\" style=\"height:525px; width:100%;\"></div>\n",
       "            <script type=\"text/javascript\">\n",
       "                require([\"plotly\"], function(Plotly) {\n",
       "                    window.PLOTLYENV=window.PLOTLYENV || {};\n",
       "                    \n",
       "                if (document.getElementById(\"e95adaa4-8e8a-4492-9c71-bf3d6ec60afe\")) {\n",
       "                    Plotly.newPlot(\n",
       "                        'e95adaa4-8e8a-4492-9c71-bf3d6ec60afe',\n",
       "                        [{\"hovertemplate\": \"variable=Total<br>Date=%{x}<br>value=%{y}<extra></extra>\", \"legendgroup\": \"Total\", \"line\": {\"color\": \"#636efa\", \"dash\": \"solid\"}, \"mode\": \"lines\", \"name\": \"Total\", \"orientation\": \"v\", \"showlegend\": true, \"type\": \"scatter\", \"x\": [\"2020-01-30T00:00:00\", \"2020-01-31T00:00:00\", \"2020-02-01T00:00:00\", \"2020-02-02T00:00:00\", \"2020-02-03T00:00:00\", \"2020-02-04T00:00:00\", \"2020-02-05T00:00:00\", \"2020-02-06T00:00:00\", \"2020-02-07T00:00:00\", \"2020-02-08T00:00:00\", \"2020-02-09T00:00:00\", \"2020-02-10T00:00:00\", \"2020-02-11T00:00:00\", \"2020-02-12T00:00:00\", \"2020-02-13T00:00:00\", \"2020-02-14T00:00:00\", \"2020-02-15T00:00:00\", \"2020-02-16T00:00:00\", \"2020-02-17T00:00:00\", \"2020-02-18T00:00:00\", \"2020-02-19T00:00:00\", \"2020-02-20T00:00:00\", \"2020-02-21T00:00:00\", \"2020-02-22T00:00:00\", \"2020-02-23T00:00:00\", \"2020-02-24T00:00:00\", \"2020-02-25T00:00:00\", \"2020-02-26T00:00:00\", \"2020-02-27T00:00:00\", \"2020-02-28T00:00:00\", \"2020-02-29T00:00:00\", \"2020-03-01T00:00:00\", \"2020-03-02T00:00:00\", \"2020-03-03T00:00:00\", \"2020-03-04T00:00:00\", \"2020-03-05T00:00:00\", \"2020-03-06T00:00:00\", \"2020-03-07T00:00:00\", \"2020-03-08T00:00:00\", \"2020-03-09T00:00:00\", \"2020-03-10T00:00:00\", \"2020-03-11T00:00:00\", \"2020-03-12T00:00:00\", \"2020-03-13T00:00:00\", \"2020-03-14T00:00:00\", \"2020-03-15T00:00:00\", \"2020-03-16T00:00:00\", \"2020-03-17T00:00:00\", \"2020-03-18T00:00:00\", \"2020-03-19T00:00:00\", \"2020-03-20T00:00:00\", \"2020-03-21T00:00:00\", \"2020-03-22T00:00:00\", \"2020-03-23T00:00:00\", \"2020-03-24T00:00:00\", \"2020-03-25T00:00:00\", \"2020-03-26T00:00:00\", \"2020-03-27T00:00:00\", \"2020-03-28T00:00:00\", \"2020-03-29T00:00:00\", \"2020-03-30T00:00:00\", \"2020-03-31T00:00:00\", \"2020-04-01T00:00:00\", \"2020-04-02T00:00:00\", \"2020-04-03T00:00:00\", \"2020-04-04T00:00:00\", \"2020-04-05T00:00:00\", \"2020-04-06T00:00:00\", \"2020-04-07T00:00:00\", \"2020-04-08T00:00:00\", \"2020-04-09T00:00:00\", \"2020-04-10T00:00:00\", \"2020-04-11T00:00:00\", \"2020-04-12T00:00:00\", \"2020-04-13T00:00:00\", \"2020-04-14T00:00:00\", \"2020-04-15T00:00:00\", \"2020-04-16T00:00:00\", \"2020-04-17T00:00:00\", \"2020-04-18T00:00:00\", \"2020-04-19T00:00:00\", \"2020-04-20T00:00:00\", \"2020-04-21T00:00:00\", \"2020-04-22T00:00:00\", \"2020-04-23T00:00:00\", \"2020-04-24T00:00:00\", \"2020-04-25T00:00:00\", \"2020-04-26T00:00:00\", \"2020-04-27T00:00:00\", \"2020-04-28T00:00:00\", \"2020-04-29T00:00:00\", \"2020-04-30T00:00:00\", \"2020-05-01T00:00:00\", \"2020-05-02T00:00:00\", \"2020-05-03T00:00:00\", \"2020-05-04T00:00:00\", \"2020-05-05T00:00:00\", \"2020-05-06T00:00:00\", \"2020-05-07T00:00:00\", \"2020-05-08T00:00:00\", \"2020-05-09T00:00:00\", \"2020-05-10T00:00:00\", \"2020-05-11T00:00:00\", \"2020-05-12T00:00:00\", \"2020-05-13T00:00:00\", \"2020-05-14T00:00:00\", \"2020-05-15T00:00:00\", \"2020-05-16T00:00:00\", \"2020-05-17T00:00:00\", \"2020-05-18T00:00:00\", \"2020-05-19T00:00:00\", \"2020-05-20T00:00:00\", \"2020-05-21T00:00:00\", \"2020-05-22T00:00:00\", \"2020-05-23T00:00:00\", \"2020-05-24T00:00:00\", \"2020-05-25T00:00:00\", \"2020-05-26T00:00:00\", \"2020-05-27T00:00:00\", \"2020-05-28T00:00:00\", \"2020-05-29T00:00:00\", \"2020-05-30T00:00:00\", \"2020-05-31T00:00:00\", \"2020-06-01T00:00:00\", \"2020-06-02T00:00:00\", \"2020-06-03T00:00:00\", \"2020-06-04T00:00:00\", \"2020-06-05T00:00:00\", \"2020-06-06T00:00:00\", \"2020-06-07T00:00:00\", \"2020-06-08T00:00:00\", \"2020-06-09T00:00:00\", \"2020-06-10T00:00:00\", \"2020-06-11T00:00:00\", \"2020-06-12T00:00:00\", \"2020-06-13T00:00:00\", \"2020-06-14T00:00:00\", \"2020-06-15T00:00:00\", \"2020-06-16T00:00:00\", \"2020-06-17T00:00:00\", \"2020-06-18T00:00:00\", \"2020-06-19T00:00:00\", \"2020-06-20T00:00:00\", \"2020-06-21T00:00:00\", \"2020-06-22T00:00:00\", \"2020-06-23T00:00:00\", \"2020-06-24T00:00:00\", \"2020-06-25T00:00:00\", \"2020-06-26T00:00:00\", \"2020-06-27T00:00:00\", \"2020-06-28T00:00:00\", \"2020-06-29T00:00:00\", \"2020-06-30T00:00:00\", \"2020-07-01T00:00:00\", \"2020-07-02T00:00:00\", \"2020-07-03T00:00:00\", \"2020-07-04T00:00:00\", \"2020-07-05T00:00:00\", \"2020-07-06T00:00:00\", \"2020-07-07T00:00:00\", \"2020-07-08T00:00:00\", \"2020-07-09T00:00:00\", \"2020-07-10T00:00:00\", \"2020-07-11T00:00:00\", \"2020-07-12T00:00:00\", \"2020-07-13T00:00:00\", \"2020-07-14T00:00:00\", \"2020-07-15T00:00:00\", \"2020-07-16T00:00:00\", \"2020-07-17T00:00:00\", \"2020-07-18T00:00:00\", \"2020-07-19T00:00:00\", \"2020-07-20T00:00:00\", \"2020-07-21T00:00:00\", \"2020-07-22T00:00:00\", \"2020-07-23T00:00:00\"], \"xaxis\": \"x\", \"y\": [1, 1, 1, 2, 3, 3, 3, 3, 3, 3, 3, 3, 3, 3, 3, 3, 3, 3, 3, 3, 3, 3, 3, 3, 3, 3, 3, 3, 3, 3, 3, 3, 5, 5, 28, 30, 31, 34, 39, 43, 56, 62, 73, 82, 102, 113, 119, 142, 156, 194, 244, 330, 396, 499, 536, 657, 727, 887, 987, 1024, 1251, 1397, 1998, 2543, 2567, 3082, 3588, 4778, 5311, 5916, 6725, 7598, 8446, 9205, 10453, 11487, 12322, 13430, 14352, 15722, 17615, 18539, 20080, 21370, 23077, 24530, 26283, 27890, 29451, 31324, 33062, 34863, 37257, 39699, 42505, 46437, 49400, 52987, 56351, 59695, 62808, 67161, 70768, 74292, 78055, 81997, 85784, 90648, 95698, 100328, 106475, 112028, 118226, 124794, 131423, 138536, 144950, 150793, 158086, 165386, 173491, 181827, 190609, 198370, 207191, 216824, 226713, 236184, 246622, 257486, 265928, 276146, 286605, 297535, 308993, 320922, 332424, 343091, 354065, 366946, 380532, 395048, 410451, 425282, 440215, 456183, 473105, 490401, 508953, 528859, 548318, 566840, 585481, 604641, 625544, 648315, 673165, 697413, 719664, 742417, 767296, 793802, 820916, 849522, 878254, 906752, 936181, 968857, 1003832, 1039084, 1077781, 1118206, 1155338, 1193078, 1238798, 1288108], \"yaxis\": \"y\"}],\n",
       "                        {\"legend\": {\"title\": {\"text\": \"variable\"}, \"tracegroupgap\": 0}, \"margin\": {\"t\": 60}, \"template\": {\"data\": {\"bar\": [{\"error_x\": {\"color\": \"#f2f5fa\"}, \"error_y\": {\"color\": \"#f2f5fa\"}, \"marker\": {\"line\": {\"color\": \"rgb(17,17,17)\", \"width\": 0.5}}, \"type\": \"bar\"}], \"barpolar\": [{\"marker\": {\"line\": {\"color\": \"rgb(17,17,17)\", \"width\": 0.5}}, \"type\": \"barpolar\"}], \"carpet\": [{\"aaxis\": {\"endlinecolor\": \"#A2B1C6\", \"gridcolor\": \"#506784\", \"linecolor\": \"#506784\", \"minorgridcolor\": \"#506784\", \"startlinecolor\": \"#A2B1C6\"}, \"baxis\": {\"endlinecolor\": \"#A2B1C6\", \"gridcolor\": \"#506784\", \"linecolor\": \"#506784\", \"minorgridcolor\": \"#506784\", \"startlinecolor\": \"#A2B1C6\"}, \"type\": \"carpet\"}], \"choropleth\": [{\"colorbar\": {\"outlinewidth\": 0, \"ticks\": \"\"}, \"type\": \"choropleth\"}], \"contour\": [{\"colorbar\": {\"outlinewidth\": 0, \"ticks\": \"\"}, \"colorscale\": [[0.0, \"#0d0887\"], [0.1111111111111111, \"#46039f\"], [0.2222222222222222, \"#7201a8\"], [0.3333333333333333, \"#9c179e\"], [0.4444444444444444, \"#bd3786\"], [0.5555555555555556, \"#d8576b\"], [0.6666666666666666, \"#ed7953\"], [0.7777777777777778, \"#fb9f3a\"], [0.8888888888888888, \"#fdca26\"], [1.0, \"#f0f921\"]], \"type\": \"contour\"}], \"contourcarpet\": [{\"colorbar\": {\"outlinewidth\": 0, \"ticks\": \"\"}, \"type\": \"contourcarpet\"}], \"heatmap\": [{\"colorbar\": {\"outlinewidth\": 0, \"ticks\": \"\"}, \"colorscale\": [[0.0, \"#0d0887\"], [0.1111111111111111, \"#46039f\"], [0.2222222222222222, \"#7201a8\"], [0.3333333333333333, \"#9c179e\"], [0.4444444444444444, \"#bd3786\"], [0.5555555555555556, \"#d8576b\"], [0.6666666666666666, \"#ed7953\"], [0.7777777777777778, \"#fb9f3a\"], [0.8888888888888888, \"#fdca26\"], [1.0, \"#f0f921\"]], \"type\": \"heatmap\"}], \"heatmapgl\": [{\"colorbar\": {\"outlinewidth\": 0, \"ticks\": \"\"}, \"colorscale\": [[0.0, \"#0d0887\"], [0.1111111111111111, \"#46039f\"], [0.2222222222222222, \"#7201a8\"], [0.3333333333333333, \"#9c179e\"], [0.4444444444444444, \"#bd3786\"], [0.5555555555555556, \"#d8576b\"], [0.6666666666666666, \"#ed7953\"], [0.7777777777777778, \"#fb9f3a\"], [0.8888888888888888, \"#fdca26\"], [1.0, \"#f0f921\"]], \"type\": \"heatmapgl\"}], \"histogram\": [{\"marker\": {\"colorbar\": {\"outlinewidth\": 0, \"ticks\": \"\"}}, \"type\": \"histogram\"}], \"histogram2d\": [{\"colorbar\": {\"outlinewidth\": 0, \"ticks\": \"\"}, \"colorscale\": [[0.0, \"#0d0887\"], [0.1111111111111111, \"#46039f\"], [0.2222222222222222, \"#7201a8\"], [0.3333333333333333, \"#9c179e\"], [0.4444444444444444, \"#bd3786\"], [0.5555555555555556, \"#d8576b\"], [0.6666666666666666, \"#ed7953\"], [0.7777777777777778, \"#fb9f3a\"], [0.8888888888888888, \"#fdca26\"], [1.0, \"#f0f921\"]], \"type\": \"histogram2d\"}], \"histogram2dcontour\": [{\"colorbar\": {\"outlinewidth\": 0, \"ticks\": \"\"}, \"colorscale\": [[0.0, \"#0d0887\"], [0.1111111111111111, \"#46039f\"], [0.2222222222222222, \"#7201a8\"], [0.3333333333333333, \"#9c179e\"], [0.4444444444444444, \"#bd3786\"], [0.5555555555555556, \"#d8576b\"], [0.6666666666666666, \"#ed7953\"], [0.7777777777777778, \"#fb9f3a\"], [0.8888888888888888, \"#fdca26\"], [1.0, \"#f0f921\"]], \"type\": \"histogram2dcontour\"}], \"mesh3d\": [{\"colorbar\": {\"outlinewidth\": 0, \"ticks\": \"\"}, \"type\": \"mesh3d\"}], \"parcoords\": [{\"line\": {\"colorbar\": {\"outlinewidth\": 0, \"ticks\": \"\"}}, \"type\": \"parcoords\"}], \"pie\": [{\"automargin\": true, \"type\": \"pie\"}], \"scatter\": [{\"marker\": {\"line\": {\"color\": \"#283442\"}}, \"type\": \"scatter\"}], \"scatter3d\": [{\"line\": {\"colorbar\": {\"outlinewidth\": 0, \"ticks\": \"\"}}, \"marker\": {\"colorbar\": {\"outlinewidth\": 0, \"ticks\": \"\"}}, \"type\": \"scatter3d\"}], \"scattercarpet\": [{\"marker\": {\"colorbar\": {\"outlinewidth\": 0, \"ticks\": \"\"}}, \"type\": \"scattercarpet\"}], \"scattergeo\": [{\"marker\": {\"colorbar\": {\"outlinewidth\": 0, \"ticks\": \"\"}}, \"type\": \"scattergeo\"}], \"scattergl\": [{\"marker\": {\"line\": {\"color\": \"#283442\"}}, \"type\": \"scattergl\"}], \"scattermapbox\": [{\"marker\": {\"colorbar\": {\"outlinewidth\": 0, \"ticks\": \"\"}}, \"type\": \"scattermapbox\"}], \"scatterpolar\": [{\"marker\": {\"colorbar\": {\"outlinewidth\": 0, \"ticks\": \"\"}}, \"type\": \"scatterpolar\"}], \"scatterpolargl\": [{\"marker\": {\"colorbar\": {\"outlinewidth\": 0, \"ticks\": \"\"}}, \"type\": \"scatterpolargl\"}], \"scatterternary\": [{\"marker\": {\"colorbar\": {\"outlinewidth\": 0, \"ticks\": \"\"}}, \"type\": \"scatterternary\"}], \"surface\": [{\"colorbar\": {\"outlinewidth\": 0, \"ticks\": \"\"}, \"colorscale\": [[0.0, \"#0d0887\"], [0.1111111111111111, \"#46039f\"], [0.2222222222222222, \"#7201a8\"], [0.3333333333333333, \"#9c179e\"], [0.4444444444444444, \"#bd3786\"], [0.5555555555555556, \"#d8576b\"], [0.6666666666666666, \"#ed7953\"], [0.7777777777777778, \"#fb9f3a\"], [0.8888888888888888, \"#fdca26\"], [1.0, \"#f0f921\"]], \"type\": \"surface\"}], \"table\": [{\"cells\": {\"fill\": {\"color\": \"#506784\"}, \"line\": {\"color\": \"rgb(17,17,17)\"}}, \"header\": {\"fill\": {\"color\": \"#2a3f5f\"}, \"line\": {\"color\": \"rgb(17,17,17)\"}}, \"type\": \"table\"}]}, \"layout\": {\"annotationdefaults\": {\"arrowcolor\": \"#f2f5fa\", \"arrowhead\": 0, \"arrowwidth\": 1}, \"coloraxis\": {\"colorbar\": {\"outlinewidth\": 0, \"ticks\": \"\"}}, \"colorscale\": {\"diverging\": [[0, \"#8e0152\"], [0.1, \"#c51b7d\"], [0.2, \"#de77ae\"], [0.3, \"#f1b6da\"], [0.4, \"#fde0ef\"], [0.5, \"#f7f7f7\"], [0.6, \"#e6f5d0\"], [0.7, \"#b8e186\"], [0.8, \"#7fbc41\"], [0.9, \"#4d9221\"], [1, \"#276419\"]], \"sequential\": [[0.0, \"#0d0887\"], [0.1111111111111111, \"#46039f\"], [0.2222222222222222, \"#7201a8\"], [0.3333333333333333, \"#9c179e\"], [0.4444444444444444, \"#bd3786\"], [0.5555555555555556, \"#d8576b\"], [0.6666666666666666, \"#ed7953\"], [0.7777777777777778, \"#fb9f3a\"], [0.8888888888888888, \"#fdca26\"], [1.0, \"#f0f921\"]], \"sequentialminus\": [[0.0, \"#0d0887\"], [0.1111111111111111, \"#46039f\"], [0.2222222222222222, \"#7201a8\"], [0.3333333333333333, \"#9c179e\"], [0.4444444444444444, \"#bd3786\"], [0.5555555555555556, \"#d8576b\"], [0.6666666666666666, \"#ed7953\"], [0.7777777777777778, \"#fb9f3a\"], [0.8888888888888888, \"#fdca26\"], [1.0, \"#f0f921\"]]}, \"colorway\": [\"#636efa\", \"#EF553B\", \"#00cc96\", \"#ab63fa\", \"#FFA15A\", \"#19d3f3\", \"#FF6692\", \"#B6E880\", \"#FF97FF\", \"#FECB52\"], \"font\": {\"color\": \"#f2f5fa\"}, \"geo\": {\"bgcolor\": \"rgb(17,17,17)\", \"lakecolor\": \"rgb(17,17,17)\", \"landcolor\": \"rgb(17,17,17)\", \"showlakes\": true, \"showland\": true, \"subunitcolor\": \"#506784\"}, \"hoverlabel\": {\"align\": \"left\"}, \"hovermode\": \"closest\", \"mapbox\": {\"style\": \"dark\"}, \"paper_bgcolor\": \"rgb(17,17,17)\", \"plot_bgcolor\": \"rgb(17,17,17)\", \"polar\": {\"angularaxis\": {\"gridcolor\": \"#506784\", \"linecolor\": \"#506784\", \"ticks\": \"\"}, \"bgcolor\": \"rgb(17,17,17)\", \"radialaxis\": {\"gridcolor\": \"#506784\", \"linecolor\": \"#506784\", \"ticks\": \"\"}}, \"scene\": {\"xaxis\": {\"backgroundcolor\": \"rgb(17,17,17)\", \"gridcolor\": \"#506784\", \"gridwidth\": 2, \"linecolor\": \"#506784\", \"showbackground\": true, \"ticks\": \"\", \"zerolinecolor\": \"#C8D4E3\"}, \"yaxis\": {\"backgroundcolor\": \"rgb(17,17,17)\", \"gridcolor\": \"#506784\", \"gridwidth\": 2, \"linecolor\": \"#506784\", \"showbackground\": true, \"ticks\": \"\", \"zerolinecolor\": \"#C8D4E3\"}, \"zaxis\": {\"backgroundcolor\": \"rgb(17,17,17)\", \"gridcolor\": \"#506784\", \"gridwidth\": 2, \"linecolor\": \"#506784\", \"showbackground\": true, \"ticks\": \"\", \"zerolinecolor\": \"#C8D4E3\"}}, \"shapedefaults\": {\"line\": {\"color\": \"#f2f5fa\"}}, \"sliderdefaults\": {\"bgcolor\": \"#C8D4E3\", \"bordercolor\": \"rgb(17,17,17)\", \"borderwidth\": 1, \"tickwidth\": 0}, \"ternary\": {\"aaxis\": {\"gridcolor\": \"#506784\", \"linecolor\": \"#506784\", \"ticks\": \"\"}, \"baxis\": {\"gridcolor\": \"#506784\", \"linecolor\": \"#506784\", \"ticks\": \"\"}, \"bgcolor\": \"rgb(17,17,17)\", \"caxis\": {\"gridcolor\": \"#506784\", \"linecolor\": \"#506784\", \"ticks\": \"\"}}, \"title\": {\"x\": 0.05}, \"updatemenudefaults\": {\"bgcolor\": \"#506784\", \"borderwidth\": 0}, \"xaxis\": {\"automargin\": true, \"gridcolor\": \"#283442\", \"linecolor\": \"#506784\", \"ticks\": \"\", \"title\": {\"standoff\": 15}, \"zerolinecolor\": \"#283442\", \"zerolinewidth\": 2}, \"yaxis\": {\"automargin\": true, \"gridcolor\": \"#283442\", \"linecolor\": \"#506784\", \"ticks\": \"\", \"title\": {\"standoff\": 15}, \"zerolinecolor\": \"#283442\", \"zerolinewidth\": 2}}}, \"xaxis\": {\"anchor\": \"y\", \"domain\": [0.0, 1.0], \"title\": {\"text\": \"Date\"}}, \"yaxis\": {\"anchor\": \"x\", \"domain\": [0.0, 1.0], \"title\": {\"text\": \"value\"}}},\n",
       "                        {\"responsive\": true}\n",
       "                    ).then(function(){\n",
       "                            \n",
       "var gd = document.getElementById('e95adaa4-8e8a-4492-9c71-bf3d6ec60afe');\n",
       "var x = new MutationObserver(function (mutations, observer) {{\n",
       "        var display = window.getComputedStyle(gd).display;\n",
       "        if (!display || display === 'none') {{\n",
       "            console.log([gd, 'removed!']);\n",
       "            Plotly.purge(gd);\n",
       "            observer.disconnect();\n",
       "        }}\n",
       "}});\n",
       "\n",
       "// Listen for the removal of the full notebook cells\n",
       "var notebookContainer = gd.closest('#notebook-container');\n",
       "if (notebookContainer) {{\n",
       "    x.observe(notebookContainer, {childList: true});\n",
       "}}\n",
       "\n",
       "// Listen for the clearing of the current output cell\n",
       "var outputEl = gd.closest('.output');\n",
       "if (outputEl) {{\n",
       "    x.observe(outputEl, {childList: true});\n",
       "}}\n",
       "\n",
       "                        })\n",
       "                };\n",
       "                });\n",
       "            </script>\n",
       "        </div>"
      ]
     },
     "metadata": {},
     "output_type": "display_data"
    }
   ],
   "source": [
    "data=create_data_frame('Confirmed')\n",
    "plot_data_frame()"
   ]
  },
  {
   "cell_type": "code",
   "execution_count": 20,
   "metadata": {},
   "outputs": [
    {
     "name": "stdout",
     "output_type": "stream",
     "text": [
      "Performing stepwise search to minimize aic\n",
      "Fit ARIMA(1,1,1)x(0,1,1,12) [intercept=True]; AIC=2742.680, BIC=2758.149, Time=5.474 seconds\n",
      "Fit ARIMA(0,1,0)x(0,1,0,12) [intercept=True]; AIC=3156.826, BIC=3163.013, Time=0.051 seconds\n",
      "Fit ARIMA(1,1,0)x(1,1,0,12) [intercept=True]; AIC=2764.618, BIC=2776.993, Time=2.982 seconds\n",
      "Near non-invertible roots for order (1, 1, 0)(1, 1, 0, 12); setting score to inf (at least one inverse root too close to the border of the unit circle: 1.000)\n",
      "Fit ARIMA(0,1,1)x(0,1,1,12) [intercept=True]; AIC=2972.041, BIC=2984.416, Time=2.608 seconds\n",
      "Near non-invertible roots for order (0, 1, 1)(0, 1, 1, 12); setting score to inf (at least one inverse root too close to the border of the unit circle: 1.000)\n",
      "Fit ARIMA(0,1,0)x(0,1,0,12) [intercept=False]; AIC=3220.036, BIC=3223.130, Time=0.071 seconds\n",
      "Fit ARIMA(1,1,1)x(0,1,0,12) [intercept=True]; AIC=2792.444, BIC=2804.819, Time=0.391 seconds\n",
      "Fit ARIMA(1,1,1)x(1,1,1,12) [intercept=True]; AIC=2740.509, BIC=2759.071, Time=7.656 seconds\n",
      "Fit ARIMA(1,1,1)x(1,1,0,12) [intercept=True]; AIC=2763.305, BIC=2778.774, Time=8.005 seconds\n",
      "Fit ARIMA(1,1,1)x(2,1,1,12) [intercept=True]; AIC=2734.905, BIC=2756.561, Time=15.431 seconds\n",
      "Fit ARIMA(1,1,1)x(2,1,0,12) [intercept=True]; AIC=2735.365, BIC=2753.928, Time=13.004 seconds\n",
      "Fit ARIMA(1,1,1)x(2,1,2,12) [intercept=True]; AIC=2736.453, BIC=2761.203, Time=15.078 seconds\n",
      "Fit ARIMA(1,1,1)x(1,1,2,12) [intercept=True]; AIC=2738.240, BIC=2759.896, Time=19.329 seconds\n",
      "Fit ARIMA(0,1,1)x(2,1,1,12) [intercept=True]; AIC=nan, BIC=nan, Time=nan seconds\n",
      "Fit ARIMA(1,1,0)x(2,1,1,12) [intercept=True]; AIC=2747.638, BIC=2766.201, Time=13.369 seconds\n",
      "Fit ARIMA(2,1,1)x(2,1,1,12) [intercept=True]; AIC=nan, BIC=nan, Time=nan seconds\n",
      "Fit ARIMA(1,1,2)x(2,1,1,12) [intercept=True]; AIC=2727.363, BIC=2752.113, Time=14.563 seconds\n",
      "Fit ARIMA(1,1,2)x(1,1,1,12) [intercept=True]; AIC=2734.496, BIC=2756.152, Time=7.818 seconds\n",
      "Fit ARIMA(1,1,2)x(2,1,0,12) [intercept=True]; AIC=2727.083, BIC=2748.739, Time=13.969 seconds\n",
      "Fit ARIMA(1,1,2)x(1,1,0,12) [intercept=True]; AIC=2748.566, BIC=2767.128, Time=5.778 seconds\n",
      "Fit ARIMA(0,1,2)x(2,1,0,12) [intercept=True]; AIC=2907.274, BIC=2925.837, Time=9.938 seconds\n",
      "Near non-invertible roots for order (0, 1, 2)(2, 1, 0, 12); setting score to inf (at least one inverse root too close to the border of the unit circle: 1.000)\n",
      "Fit ARIMA(2,1,2)x(2,1,0,12) [intercept=True]; AIC=2730.229, BIC=2754.979, Time=18.622 seconds\n",
      "Near non-invertible roots for order (2, 1, 2)(2, 1, 0, 12); setting score to inf (at least one inverse root too close to the border of the unit circle: 1.000)\n",
      "Fit ARIMA(1,1,3)x(2,1,0,12) [intercept=True]; AIC=2729.385, BIC=2754.135, Time=23.818 seconds\n",
      "Fit ARIMA(0,1,1)x(2,1,0,12) [intercept=True]; AIC=2917.528, BIC=2932.997, Time=16.311 seconds\n",
      "Fit ARIMA(0,1,3)x(2,1,0,12) [intercept=True]; AIC=2888.237, BIC=2909.893, Time=15.998 seconds\n",
      "Near non-invertible roots for order (0, 1, 3)(2, 1, 0, 12); setting score to inf (at least one inverse root too close to the border of the unit circle: 0.998)\n",
      "Fit ARIMA(2,1,1)x(2,1,0,12) [intercept=True]; AIC=2728.041, BIC=2749.698, Time=19.006 seconds\n",
      "Near non-invertible roots for order (2, 1, 1)(2, 1, 0, 12); setting score to inf (at least one inverse root too close to the border of the unit circle: 1.000)\n",
      "Fit ARIMA(2,1,3)x(2,1,0,12) [intercept=True]; AIC=2729.091, BIC=2756.935, Time=24.552 seconds\n",
      "Near non-invertible roots for order (2, 1, 3)(2, 1, 0, 12); setting score to inf (at least one inverse root too close to the border of the unit circle: 1.000)\n",
      "Total fit time: 300.801 seconds\n",
      "2727.082827092753\n"
     ]
    }
   ],
   "source": [
    "stepwise_model=find_params()\n",
    "print(stepwise_model.aic())"
   ]
  },
  {
   "cell_type": "code",
   "execution_count": 81,
   "metadata": {},
   "outputs": [
    {
     "name": "stdout",
     "output_type": "stream",
     "text": [
      "Test shape: (47, 1)\n",
      "Train shape: (130, 1)\n",
      "Min date from train set: 2020-01-30\n",
      "Max date from train set:2020-06-07\n",
      "Min date from test set: 2020-06-07\n",
      "Max date from test set: 2020-07-23\n",
      "[ 268672.64956865  280779.61140867  292976.98379516  305422.09733053\n",
      "  318463.80607885  331020.03442079  344145.58922526  358172.14159498\n",
      "  372126.25366302  386107.31773757  400396.20412541  414809.29530142\n",
      "  429777.28108998  445525.88582633  461673.96863713  477907.01037157\n",
      "  495077.99058724  511642.15477837  529013.30818857  547148.5627955\n",
      "  565421.97794073  583820.41784637  602443.01725173  621109.54956809\n",
      "  640640.1181606   660797.4705857   681473.96691336  702402.53769818\n",
      "  724072.69835336  745099.74698927  767021.93051737  789834.32311171\n",
      "  812834.63492099  835816.34654574  859370.46108334  883192.4809834\n",
      "  907674.57972092  932998.3996317   958730.56751502  984735.36172191\n",
      " 1011559.08473014 1037874.28147272 1065018.08464584 1093089.64699684\n",
      " 1121316.04138615 1149651.08248093 1178437.88550127]\n"
     ]
    },
    {
     "data": {
      "application/vnd.plotly.v1+json": {
       "config": {
        "plotlyServerURL": "https://plot.ly"
       },
       "data": [
        {
         "hovertemplate": "variable=Total<br>Date=%{x}<br>value=%{y}<extra></extra>",
         "legendgroup": "Total",
         "line": {
          "color": "#636efa",
          "dash": "solid"
         },
         "mode": "lines",
         "name": "Total",
         "orientation": "v",
         "showlegend": true,
         "type": "scatter",
         "x": [
          "2020-01-30T00:00:00",
          "2020-01-31T00:00:00",
          "2020-02-01T00:00:00",
          "2020-02-02T00:00:00",
          "2020-02-03T00:00:00",
          "2020-02-04T00:00:00",
          "2020-02-05T00:00:00",
          "2020-02-06T00:00:00",
          "2020-02-07T00:00:00",
          "2020-02-08T00:00:00",
          "2020-02-09T00:00:00",
          "2020-02-10T00:00:00",
          "2020-02-11T00:00:00",
          "2020-02-12T00:00:00",
          "2020-02-13T00:00:00",
          "2020-02-14T00:00:00",
          "2020-02-15T00:00:00",
          "2020-02-16T00:00:00",
          "2020-02-17T00:00:00",
          "2020-02-18T00:00:00",
          "2020-02-19T00:00:00",
          "2020-02-20T00:00:00",
          "2020-02-21T00:00:00",
          "2020-02-22T00:00:00",
          "2020-02-23T00:00:00",
          "2020-02-24T00:00:00",
          "2020-02-25T00:00:00",
          "2020-02-26T00:00:00",
          "2020-02-27T00:00:00",
          "2020-02-28T00:00:00",
          "2020-02-29T00:00:00",
          "2020-03-01T00:00:00",
          "2020-03-02T00:00:00",
          "2020-03-03T00:00:00",
          "2020-03-04T00:00:00",
          "2020-03-05T00:00:00",
          "2020-03-06T00:00:00",
          "2020-03-07T00:00:00",
          "2020-03-08T00:00:00",
          "2020-03-09T00:00:00",
          "2020-03-10T00:00:00",
          "2020-03-11T00:00:00",
          "2020-03-12T00:00:00",
          "2020-03-13T00:00:00",
          "2020-03-14T00:00:00",
          "2020-03-15T00:00:00",
          "2020-03-16T00:00:00",
          "2020-03-17T00:00:00",
          "2020-03-18T00:00:00",
          "2020-03-19T00:00:00",
          "2020-03-20T00:00:00",
          "2020-03-21T00:00:00",
          "2020-03-22T00:00:00",
          "2020-03-23T00:00:00",
          "2020-03-24T00:00:00",
          "2020-03-25T00:00:00",
          "2020-03-26T00:00:00",
          "2020-03-27T00:00:00",
          "2020-03-28T00:00:00",
          "2020-03-29T00:00:00",
          "2020-03-30T00:00:00",
          "2020-03-31T00:00:00",
          "2020-04-01T00:00:00",
          "2020-04-02T00:00:00",
          "2020-04-03T00:00:00",
          "2020-04-04T00:00:00",
          "2020-04-05T00:00:00",
          "2020-04-06T00:00:00",
          "2020-04-07T00:00:00",
          "2020-04-08T00:00:00",
          "2020-04-09T00:00:00",
          "2020-04-10T00:00:00",
          "2020-04-11T00:00:00",
          "2020-04-12T00:00:00",
          "2020-04-13T00:00:00",
          "2020-04-14T00:00:00",
          "2020-04-15T00:00:00",
          "2020-04-16T00:00:00",
          "2020-04-17T00:00:00",
          "2020-04-18T00:00:00",
          "2020-04-19T00:00:00",
          "2020-04-20T00:00:00",
          "2020-04-21T00:00:00",
          "2020-04-22T00:00:00",
          "2020-04-23T00:00:00",
          "2020-04-24T00:00:00",
          "2020-04-25T00:00:00",
          "2020-04-26T00:00:00",
          "2020-04-27T00:00:00",
          "2020-04-28T00:00:00",
          "2020-04-29T00:00:00",
          "2020-04-30T00:00:00",
          "2020-05-01T00:00:00",
          "2020-05-02T00:00:00",
          "2020-05-03T00:00:00",
          "2020-05-04T00:00:00",
          "2020-05-05T00:00:00",
          "2020-05-06T00:00:00",
          "2020-05-07T00:00:00",
          "2020-05-08T00:00:00",
          "2020-05-09T00:00:00",
          "2020-05-10T00:00:00",
          "2020-05-11T00:00:00",
          "2020-05-12T00:00:00",
          "2020-05-13T00:00:00",
          "2020-05-14T00:00:00",
          "2020-05-15T00:00:00",
          "2020-05-16T00:00:00",
          "2020-05-17T00:00:00",
          "2020-05-18T00:00:00",
          "2020-05-19T00:00:00",
          "2020-05-20T00:00:00",
          "2020-05-21T00:00:00",
          "2020-05-22T00:00:00",
          "2020-05-23T00:00:00",
          "2020-05-24T00:00:00",
          "2020-05-25T00:00:00",
          "2020-05-26T00:00:00",
          "2020-05-27T00:00:00",
          "2020-05-28T00:00:00",
          "2020-05-29T00:00:00",
          "2020-05-30T00:00:00",
          "2020-05-31T00:00:00",
          "2020-06-01T00:00:00",
          "2020-06-02T00:00:00",
          "2020-06-03T00:00:00",
          "2020-06-04T00:00:00",
          "2020-06-05T00:00:00",
          "2020-06-06T00:00:00",
          "2020-06-07T00:00:00",
          "2020-06-08T00:00:00",
          "2020-06-09T00:00:00",
          "2020-06-10T00:00:00",
          "2020-06-11T00:00:00",
          "2020-06-12T00:00:00",
          "2020-06-13T00:00:00",
          "2020-06-14T00:00:00",
          "2020-06-15T00:00:00",
          "2020-06-16T00:00:00",
          "2020-06-17T00:00:00",
          "2020-06-18T00:00:00",
          "2020-06-19T00:00:00",
          "2020-06-20T00:00:00",
          "2020-06-21T00:00:00",
          "2020-06-22T00:00:00",
          "2020-06-23T00:00:00",
          "2020-06-24T00:00:00",
          "2020-06-25T00:00:00",
          "2020-06-26T00:00:00",
          "2020-06-27T00:00:00",
          "2020-06-28T00:00:00",
          "2020-06-29T00:00:00",
          "2020-06-30T00:00:00",
          "2020-07-01T00:00:00",
          "2020-07-02T00:00:00",
          "2020-07-03T00:00:00",
          "2020-07-04T00:00:00",
          "2020-07-05T00:00:00",
          "2020-07-06T00:00:00",
          "2020-07-07T00:00:00",
          "2020-07-08T00:00:00",
          "2020-07-09T00:00:00",
          "2020-07-10T00:00:00",
          "2020-07-11T00:00:00",
          "2020-07-12T00:00:00",
          "2020-07-13T00:00:00",
          "2020-07-14T00:00:00",
          "2020-07-15T00:00:00",
          "2020-07-16T00:00:00",
          "2020-07-17T00:00:00",
          "2020-07-18T00:00:00",
          "2020-07-19T00:00:00",
          "2020-07-20T00:00:00",
          "2020-07-21T00:00:00",
          "2020-07-22T00:00:00",
          "2020-07-23T00:00:00"
         ],
         "xaxis": "x",
         "y": [
          1,
          1,
          1,
          2,
          3,
          3,
          3,
          3,
          3,
          3,
          3,
          3,
          3,
          3,
          3,
          3,
          3,
          3,
          3,
          3,
          3,
          3,
          3,
          3,
          3,
          3,
          3,
          3,
          3,
          3,
          3,
          3,
          5,
          5,
          28,
          30,
          31,
          34,
          39,
          43,
          56,
          62,
          73,
          82,
          102,
          113,
          119,
          142,
          156,
          194,
          244,
          330,
          396,
          499,
          536,
          657,
          727,
          887,
          987,
          1024,
          1251,
          1397,
          1998,
          2543,
          2567,
          3082,
          3588,
          4778,
          5311,
          5916,
          6725,
          7598,
          8446,
          9205,
          10453,
          11487,
          12322,
          13430,
          14352,
          15722,
          17615,
          18539,
          20080,
          21370,
          23077,
          24530,
          26283,
          27890,
          29451,
          31324,
          33062,
          34863,
          37257,
          39699,
          42505,
          46437,
          49400,
          52987,
          56351,
          59695,
          62808,
          67161,
          70768,
          74292,
          78055,
          81997,
          85784,
          90648,
          95698,
          100328,
          106475,
          112028,
          118226,
          124794,
          131423,
          138536,
          144950,
          150793,
          158086,
          165386,
          173491,
          181827,
          190609,
          198370,
          207191,
          216824,
          226713,
          236184,
          246622,
          257486,
          265928,
          276146,
          286605,
          297535,
          308993,
          320922,
          332424,
          343091,
          354065,
          366946,
          380532,
          395048,
          410451,
          425282,
          440215,
          456183,
          473105,
          490401,
          508953,
          528859,
          548318,
          566840,
          585481,
          604641,
          625544,
          648315,
          673165,
          697413,
          719664,
          742417,
          767296,
          793802,
          820916,
          849522,
          878254,
          906752,
          936181,
          968857,
          1003832,
          1039084,
          1077781,
          1118206,
          1155338,
          1193078,
          1238798,
          1288108
         ],
         "yaxis": "y"
        },
        {
         "hovertemplate": "variable=Prediction<br>Date=%{x}<br>value=%{y}<extra></extra>",
         "legendgroup": "Prediction",
         "line": {
          "color": "#EF553B",
          "dash": "solid"
         },
         "mode": "lines",
         "name": "Prediction",
         "orientation": "v",
         "showlegend": true,
         "type": "scatter",
         "x": [
          "2020-01-30T00:00:00",
          "2020-01-31T00:00:00",
          "2020-02-01T00:00:00",
          "2020-02-02T00:00:00",
          "2020-02-03T00:00:00",
          "2020-02-04T00:00:00",
          "2020-02-05T00:00:00",
          "2020-02-06T00:00:00",
          "2020-02-07T00:00:00",
          "2020-02-08T00:00:00",
          "2020-02-09T00:00:00",
          "2020-02-10T00:00:00",
          "2020-02-11T00:00:00",
          "2020-02-12T00:00:00",
          "2020-02-13T00:00:00",
          "2020-02-14T00:00:00",
          "2020-02-15T00:00:00",
          "2020-02-16T00:00:00",
          "2020-02-17T00:00:00",
          "2020-02-18T00:00:00",
          "2020-02-19T00:00:00",
          "2020-02-20T00:00:00",
          "2020-02-21T00:00:00",
          "2020-02-22T00:00:00",
          "2020-02-23T00:00:00",
          "2020-02-24T00:00:00",
          "2020-02-25T00:00:00",
          "2020-02-26T00:00:00",
          "2020-02-27T00:00:00",
          "2020-02-28T00:00:00",
          "2020-02-29T00:00:00",
          "2020-03-01T00:00:00",
          "2020-03-02T00:00:00",
          "2020-03-03T00:00:00",
          "2020-03-04T00:00:00",
          "2020-03-05T00:00:00",
          "2020-03-06T00:00:00",
          "2020-03-07T00:00:00",
          "2020-03-08T00:00:00",
          "2020-03-09T00:00:00",
          "2020-03-10T00:00:00",
          "2020-03-11T00:00:00",
          "2020-03-12T00:00:00",
          "2020-03-13T00:00:00",
          "2020-03-14T00:00:00",
          "2020-03-15T00:00:00",
          "2020-03-16T00:00:00",
          "2020-03-17T00:00:00",
          "2020-03-18T00:00:00",
          "2020-03-19T00:00:00",
          "2020-03-20T00:00:00",
          "2020-03-21T00:00:00",
          "2020-03-22T00:00:00",
          "2020-03-23T00:00:00",
          "2020-03-24T00:00:00",
          "2020-03-25T00:00:00",
          "2020-03-26T00:00:00",
          "2020-03-27T00:00:00",
          "2020-03-28T00:00:00",
          "2020-03-29T00:00:00",
          "2020-03-30T00:00:00",
          "2020-03-31T00:00:00",
          "2020-04-01T00:00:00",
          "2020-04-02T00:00:00",
          "2020-04-03T00:00:00",
          "2020-04-04T00:00:00",
          "2020-04-05T00:00:00",
          "2020-04-06T00:00:00",
          "2020-04-07T00:00:00",
          "2020-04-08T00:00:00",
          "2020-04-09T00:00:00",
          "2020-04-10T00:00:00",
          "2020-04-11T00:00:00",
          "2020-04-12T00:00:00",
          "2020-04-13T00:00:00",
          "2020-04-14T00:00:00",
          "2020-04-15T00:00:00",
          "2020-04-16T00:00:00",
          "2020-04-17T00:00:00",
          "2020-04-18T00:00:00",
          "2020-04-19T00:00:00",
          "2020-04-20T00:00:00",
          "2020-04-21T00:00:00",
          "2020-04-22T00:00:00",
          "2020-04-23T00:00:00",
          "2020-04-24T00:00:00",
          "2020-04-25T00:00:00",
          "2020-04-26T00:00:00",
          "2020-04-27T00:00:00",
          "2020-04-28T00:00:00",
          "2020-04-29T00:00:00",
          "2020-04-30T00:00:00",
          "2020-05-01T00:00:00",
          "2020-05-02T00:00:00",
          "2020-05-03T00:00:00",
          "2020-05-04T00:00:00",
          "2020-05-05T00:00:00",
          "2020-05-06T00:00:00",
          "2020-05-07T00:00:00",
          "2020-05-08T00:00:00",
          "2020-05-09T00:00:00",
          "2020-05-10T00:00:00",
          "2020-05-11T00:00:00",
          "2020-05-12T00:00:00",
          "2020-05-13T00:00:00",
          "2020-05-14T00:00:00",
          "2020-05-15T00:00:00",
          "2020-05-16T00:00:00",
          "2020-05-17T00:00:00",
          "2020-05-18T00:00:00",
          "2020-05-19T00:00:00",
          "2020-05-20T00:00:00",
          "2020-05-21T00:00:00",
          "2020-05-22T00:00:00",
          "2020-05-23T00:00:00",
          "2020-05-24T00:00:00",
          "2020-05-25T00:00:00",
          "2020-05-26T00:00:00",
          "2020-05-27T00:00:00",
          "2020-05-28T00:00:00",
          "2020-05-29T00:00:00",
          "2020-05-30T00:00:00",
          "2020-05-31T00:00:00",
          "2020-06-01T00:00:00",
          "2020-06-02T00:00:00",
          "2020-06-03T00:00:00",
          "2020-06-04T00:00:00",
          "2020-06-05T00:00:00",
          "2020-06-06T00:00:00",
          "2020-06-07T00:00:00",
          "2020-06-08T00:00:00",
          "2020-06-09T00:00:00",
          "2020-06-10T00:00:00",
          "2020-06-11T00:00:00",
          "2020-06-12T00:00:00",
          "2020-06-13T00:00:00",
          "2020-06-14T00:00:00",
          "2020-06-15T00:00:00",
          "2020-06-16T00:00:00",
          "2020-06-17T00:00:00",
          "2020-06-18T00:00:00",
          "2020-06-19T00:00:00",
          "2020-06-20T00:00:00",
          "2020-06-21T00:00:00",
          "2020-06-22T00:00:00",
          "2020-06-23T00:00:00",
          "2020-06-24T00:00:00",
          "2020-06-25T00:00:00",
          "2020-06-26T00:00:00",
          "2020-06-27T00:00:00",
          "2020-06-28T00:00:00",
          "2020-06-29T00:00:00",
          "2020-06-30T00:00:00",
          "2020-07-01T00:00:00",
          "2020-07-02T00:00:00",
          "2020-07-03T00:00:00",
          "2020-07-04T00:00:00",
          "2020-07-05T00:00:00",
          "2020-07-06T00:00:00",
          "2020-07-07T00:00:00",
          "2020-07-08T00:00:00",
          "2020-07-09T00:00:00",
          "2020-07-10T00:00:00",
          "2020-07-11T00:00:00",
          "2020-07-12T00:00:00",
          "2020-07-13T00:00:00",
          "2020-07-14T00:00:00",
          "2020-07-15T00:00:00",
          "2020-07-16T00:00:00",
          "2020-07-17T00:00:00",
          "2020-07-18T00:00:00",
          "2020-07-19T00:00:00",
          "2020-07-20T00:00:00",
          "2020-07-21T00:00:00",
          "2020-07-22T00:00:00",
          "2020-07-23T00:00:00"
         ],
         "xaxis": "x",
         "y": [
          null,
          null,
          null,
          null,
          null,
          null,
          null,
          null,
          null,
          null,
          null,
          null,
          null,
          null,
          null,
          null,
          null,
          null,
          null,
          null,
          null,
          null,
          null,
          null,
          null,
          null,
          null,
          null,
          null,
          null,
          null,
          null,
          null,
          null,
          null,
          null,
          null,
          null,
          null,
          null,
          null,
          null,
          null,
          null,
          null,
          null,
          null,
          null,
          null,
          null,
          null,
          null,
          null,
          null,
          null,
          null,
          null,
          null,
          null,
          null,
          null,
          null,
          null,
          null,
          null,
          null,
          null,
          null,
          null,
          null,
          null,
          null,
          null,
          null,
          null,
          null,
          null,
          null,
          null,
          null,
          null,
          null,
          null,
          null,
          null,
          null,
          null,
          null,
          null,
          null,
          null,
          null,
          null,
          null,
          null,
          null,
          null,
          null,
          null,
          null,
          null,
          null,
          null,
          null,
          null,
          null,
          null,
          null,
          null,
          null,
          null,
          null,
          null,
          null,
          null,
          null,
          null,
          null,
          null,
          null,
          null,
          null,
          null,
          null,
          null,
          null,
          null,
          null,
          null,
          268672.6495686532,
          280779.61140866636,
          292976.98379516084,
          305422.0973305281,
          318463.80607885245,
          331020.034420788,
          344145.58922525955,
          358172.14159497834,
          372126.253663023,
          386107.3177375665,
          400396.2041254112,
          414809.295301424,
          429777.2810899839,
          445525.88582633395,
          461673.9686371302,
          477907.01037157304,
          495077.99058724137,
          511642.15477837186,
          529013.3081885711,
          547148.5627955039,
          565421.9779407308,
          583820.4178463717,
          602443.0172517262,
          621109.5495680914,
          640640.1181605974,
          660797.4705857023,
          681473.9669133561,
          702402.5376981789,
          724072.6983533605,
          745099.7469892702,
          767021.9305173722,
          789834.3231117071,
          812834.6349209949,
          835816.3465457361,
          859370.4610833405,
          883192.480983404,
          907674.5797209159,
          932998.3996317006,
          958730.567515018,
          984735.3617219054,
          1011559.0847301449,
          1037874.2814727178,
          1065018.0846458424,
          1093089.6469968355,
          1121316.0413861468,
          1149651.0824809347,
          1178437.8855012667
         ],
         "yaxis": "y"
        }
       ],
       "layout": {
        "legend": {
         "title": {
          "text": "variable"
         },
         "tracegroupgap": 0
        },
        "margin": {
         "t": 60
        },
        "template": {
         "data": {
          "bar": [
           {
            "error_x": {
             "color": "#f2f5fa"
            },
            "error_y": {
             "color": "#f2f5fa"
            },
            "marker": {
             "line": {
              "color": "rgb(17,17,17)",
              "width": 0.5
             }
            },
            "type": "bar"
           }
          ],
          "barpolar": [
           {
            "marker": {
             "line": {
              "color": "rgb(17,17,17)",
              "width": 0.5
             }
            },
            "type": "barpolar"
           }
          ],
          "carpet": [
           {
            "aaxis": {
             "endlinecolor": "#A2B1C6",
             "gridcolor": "#506784",
             "linecolor": "#506784",
             "minorgridcolor": "#506784",
             "startlinecolor": "#A2B1C6"
            },
            "baxis": {
             "endlinecolor": "#A2B1C6",
             "gridcolor": "#506784",
             "linecolor": "#506784",
             "minorgridcolor": "#506784",
             "startlinecolor": "#A2B1C6"
            },
            "type": "carpet"
           }
          ],
          "choropleth": [
           {
            "colorbar": {
             "outlinewidth": 0,
             "ticks": ""
            },
            "type": "choropleth"
           }
          ],
          "contour": [
           {
            "colorbar": {
             "outlinewidth": 0,
             "ticks": ""
            },
            "colorscale": [
             [
              0,
              "#0d0887"
             ],
             [
              0.1111111111111111,
              "#46039f"
             ],
             [
              0.2222222222222222,
              "#7201a8"
             ],
             [
              0.3333333333333333,
              "#9c179e"
             ],
             [
              0.4444444444444444,
              "#bd3786"
             ],
             [
              0.5555555555555556,
              "#d8576b"
             ],
             [
              0.6666666666666666,
              "#ed7953"
             ],
             [
              0.7777777777777778,
              "#fb9f3a"
             ],
             [
              0.8888888888888888,
              "#fdca26"
             ],
             [
              1,
              "#f0f921"
             ]
            ],
            "type": "contour"
           }
          ],
          "contourcarpet": [
           {
            "colorbar": {
             "outlinewidth": 0,
             "ticks": ""
            },
            "type": "contourcarpet"
           }
          ],
          "heatmap": [
           {
            "colorbar": {
             "outlinewidth": 0,
             "ticks": ""
            },
            "colorscale": [
             [
              0,
              "#0d0887"
             ],
             [
              0.1111111111111111,
              "#46039f"
             ],
             [
              0.2222222222222222,
              "#7201a8"
             ],
             [
              0.3333333333333333,
              "#9c179e"
             ],
             [
              0.4444444444444444,
              "#bd3786"
             ],
             [
              0.5555555555555556,
              "#d8576b"
             ],
             [
              0.6666666666666666,
              "#ed7953"
             ],
             [
              0.7777777777777778,
              "#fb9f3a"
             ],
             [
              0.8888888888888888,
              "#fdca26"
             ],
             [
              1,
              "#f0f921"
             ]
            ],
            "type": "heatmap"
           }
          ],
          "heatmapgl": [
           {
            "colorbar": {
             "outlinewidth": 0,
             "ticks": ""
            },
            "colorscale": [
             [
              0,
              "#0d0887"
             ],
             [
              0.1111111111111111,
              "#46039f"
             ],
             [
              0.2222222222222222,
              "#7201a8"
             ],
             [
              0.3333333333333333,
              "#9c179e"
             ],
             [
              0.4444444444444444,
              "#bd3786"
             ],
             [
              0.5555555555555556,
              "#d8576b"
             ],
             [
              0.6666666666666666,
              "#ed7953"
             ],
             [
              0.7777777777777778,
              "#fb9f3a"
             ],
             [
              0.8888888888888888,
              "#fdca26"
             ],
             [
              1,
              "#f0f921"
             ]
            ],
            "type": "heatmapgl"
           }
          ],
          "histogram": [
           {
            "marker": {
             "colorbar": {
              "outlinewidth": 0,
              "ticks": ""
             }
            },
            "type": "histogram"
           }
          ],
          "histogram2d": [
           {
            "colorbar": {
             "outlinewidth": 0,
             "ticks": ""
            },
            "colorscale": [
             [
              0,
              "#0d0887"
             ],
             [
              0.1111111111111111,
              "#46039f"
             ],
             [
              0.2222222222222222,
              "#7201a8"
             ],
             [
              0.3333333333333333,
              "#9c179e"
             ],
             [
              0.4444444444444444,
              "#bd3786"
             ],
             [
              0.5555555555555556,
              "#d8576b"
             ],
             [
              0.6666666666666666,
              "#ed7953"
             ],
             [
              0.7777777777777778,
              "#fb9f3a"
             ],
             [
              0.8888888888888888,
              "#fdca26"
             ],
             [
              1,
              "#f0f921"
             ]
            ],
            "type": "histogram2d"
           }
          ],
          "histogram2dcontour": [
           {
            "colorbar": {
             "outlinewidth": 0,
             "ticks": ""
            },
            "colorscale": [
             [
              0,
              "#0d0887"
             ],
             [
              0.1111111111111111,
              "#46039f"
             ],
             [
              0.2222222222222222,
              "#7201a8"
             ],
             [
              0.3333333333333333,
              "#9c179e"
             ],
             [
              0.4444444444444444,
              "#bd3786"
             ],
             [
              0.5555555555555556,
              "#d8576b"
             ],
             [
              0.6666666666666666,
              "#ed7953"
             ],
             [
              0.7777777777777778,
              "#fb9f3a"
             ],
             [
              0.8888888888888888,
              "#fdca26"
             ],
             [
              1,
              "#f0f921"
             ]
            ],
            "type": "histogram2dcontour"
           }
          ],
          "mesh3d": [
           {
            "colorbar": {
             "outlinewidth": 0,
             "ticks": ""
            },
            "type": "mesh3d"
           }
          ],
          "parcoords": [
           {
            "line": {
             "colorbar": {
              "outlinewidth": 0,
              "ticks": ""
             }
            },
            "type": "parcoords"
           }
          ],
          "pie": [
           {
            "automargin": true,
            "type": "pie"
           }
          ],
          "scatter": [
           {
            "marker": {
             "line": {
              "color": "#283442"
             }
            },
            "type": "scatter"
           }
          ],
          "scatter3d": [
           {
            "line": {
             "colorbar": {
              "outlinewidth": 0,
              "ticks": ""
             }
            },
            "marker": {
             "colorbar": {
              "outlinewidth": 0,
              "ticks": ""
             }
            },
            "type": "scatter3d"
           }
          ],
          "scattercarpet": [
           {
            "marker": {
             "colorbar": {
              "outlinewidth": 0,
              "ticks": ""
             }
            },
            "type": "scattercarpet"
           }
          ],
          "scattergeo": [
           {
            "marker": {
             "colorbar": {
              "outlinewidth": 0,
              "ticks": ""
             }
            },
            "type": "scattergeo"
           }
          ],
          "scattergl": [
           {
            "marker": {
             "line": {
              "color": "#283442"
             }
            },
            "type": "scattergl"
           }
          ],
          "scattermapbox": [
           {
            "marker": {
             "colorbar": {
              "outlinewidth": 0,
              "ticks": ""
             }
            },
            "type": "scattermapbox"
           }
          ],
          "scatterpolar": [
           {
            "marker": {
             "colorbar": {
              "outlinewidth": 0,
              "ticks": ""
             }
            },
            "type": "scatterpolar"
           }
          ],
          "scatterpolargl": [
           {
            "marker": {
             "colorbar": {
              "outlinewidth": 0,
              "ticks": ""
             }
            },
            "type": "scatterpolargl"
           }
          ],
          "scatterternary": [
           {
            "marker": {
             "colorbar": {
              "outlinewidth": 0,
              "ticks": ""
             }
            },
            "type": "scatterternary"
           }
          ],
          "surface": [
           {
            "colorbar": {
             "outlinewidth": 0,
             "ticks": ""
            },
            "colorscale": [
             [
              0,
              "#0d0887"
             ],
             [
              0.1111111111111111,
              "#46039f"
             ],
             [
              0.2222222222222222,
              "#7201a8"
             ],
             [
              0.3333333333333333,
              "#9c179e"
             ],
             [
              0.4444444444444444,
              "#bd3786"
             ],
             [
              0.5555555555555556,
              "#d8576b"
             ],
             [
              0.6666666666666666,
              "#ed7953"
             ],
             [
              0.7777777777777778,
              "#fb9f3a"
             ],
             [
              0.8888888888888888,
              "#fdca26"
             ],
             [
              1,
              "#f0f921"
             ]
            ],
            "type": "surface"
           }
          ],
          "table": [
           {
            "cells": {
             "fill": {
              "color": "#506784"
             },
             "line": {
              "color": "rgb(17,17,17)"
             }
            },
            "header": {
             "fill": {
              "color": "#2a3f5f"
             },
             "line": {
              "color": "rgb(17,17,17)"
             }
            },
            "type": "table"
           }
          ]
         },
         "layout": {
          "annotationdefaults": {
           "arrowcolor": "#f2f5fa",
           "arrowhead": 0,
           "arrowwidth": 1
          },
          "coloraxis": {
           "colorbar": {
            "outlinewidth": 0,
            "ticks": ""
           }
          },
          "colorscale": {
           "diverging": [
            [
             0,
             "#8e0152"
            ],
            [
             0.1,
             "#c51b7d"
            ],
            [
             0.2,
             "#de77ae"
            ],
            [
             0.3,
             "#f1b6da"
            ],
            [
             0.4,
             "#fde0ef"
            ],
            [
             0.5,
             "#f7f7f7"
            ],
            [
             0.6,
             "#e6f5d0"
            ],
            [
             0.7,
             "#b8e186"
            ],
            [
             0.8,
             "#7fbc41"
            ],
            [
             0.9,
             "#4d9221"
            ],
            [
             1,
             "#276419"
            ]
           ],
           "sequential": [
            [
             0,
             "#0d0887"
            ],
            [
             0.1111111111111111,
             "#46039f"
            ],
            [
             0.2222222222222222,
             "#7201a8"
            ],
            [
             0.3333333333333333,
             "#9c179e"
            ],
            [
             0.4444444444444444,
             "#bd3786"
            ],
            [
             0.5555555555555556,
             "#d8576b"
            ],
            [
             0.6666666666666666,
             "#ed7953"
            ],
            [
             0.7777777777777778,
             "#fb9f3a"
            ],
            [
             0.8888888888888888,
             "#fdca26"
            ],
            [
             1,
             "#f0f921"
            ]
           ],
           "sequentialminus": [
            [
             0,
             "#0d0887"
            ],
            [
             0.1111111111111111,
             "#46039f"
            ],
            [
             0.2222222222222222,
             "#7201a8"
            ],
            [
             0.3333333333333333,
             "#9c179e"
            ],
            [
             0.4444444444444444,
             "#bd3786"
            ],
            [
             0.5555555555555556,
             "#d8576b"
            ],
            [
             0.6666666666666666,
             "#ed7953"
            ],
            [
             0.7777777777777778,
             "#fb9f3a"
            ],
            [
             0.8888888888888888,
             "#fdca26"
            ],
            [
             1,
             "#f0f921"
            ]
           ]
          },
          "colorway": [
           "#636efa",
           "#EF553B",
           "#00cc96",
           "#ab63fa",
           "#FFA15A",
           "#19d3f3",
           "#FF6692",
           "#B6E880",
           "#FF97FF",
           "#FECB52"
          ],
          "font": {
           "color": "#f2f5fa"
          },
          "geo": {
           "bgcolor": "rgb(17,17,17)",
           "lakecolor": "rgb(17,17,17)",
           "landcolor": "rgb(17,17,17)",
           "showlakes": true,
           "showland": true,
           "subunitcolor": "#506784"
          },
          "hoverlabel": {
           "align": "left"
          },
          "hovermode": "closest",
          "mapbox": {
           "style": "dark"
          },
          "paper_bgcolor": "rgb(17,17,17)",
          "plot_bgcolor": "rgb(17,17,17)",
          "polar": {
           "angularaxis": {
            "gridcolor": "#506784",
            "linecolor": "#506784",
            "ticks": ""
           },
           "bgcolor": "rgb(17,17,17)",
           "radialaxis": {
            "gridcolor": "#506784",
            "linecolor": "#506784",
            "ticks": ""
           }
          },
          "scene": {
           "xaxis": {
            "backgroundcolor": "rgb(17,17,17)",
            "gridcolor": "#506784",
            "gridwidth": 2,
            "linecolor": "#506784",
            "showbackground": true,
            "ticks": "",
            "zerolinecolor": "#C8D4E3"
           },
           "yaxis": {
            "backgroundcolor": "rgb(17,17,17)",
            "gridcolor": "#506784",
            "gridwidth": 2,
            "linecolor": "#506784",
            "showbackground": true,
            "ticks": "",
            "zerolinecolor": "#C8D4E3"
           },
           "zaxis": {
            "backgroundcolor": "rgb(17,17,17)",
            "gridcolor": "#506784",
            "gridwidth": 2,
            "linecolor": "#506784",
            "showbackground": true,
            "ticks": "",
            "zerolinecolor": "#C8D4E3"
           }
          },
          "shapedefaults": {
           "line": {
            "color": "#f2f5fa"
           }
          },
          "sliderdefaults": {
           "bgcolor": "#C8D4E3",
           "bordercolor": "rgb(17,17,17)",
           "borderwidth": 1,
           "tickwidth": 0
          },
          "ternary": {
           "aaxis": {
            "gridcolor": "#506784",
            "linecolor": "#506784",
            "ticks": ""
           },
           "baxis": {
            "gridcolor": "#506784",
            "linecolor": "#506784",
            "ticks": ""
           },
           "bgcolor": "rgb(17,17,17)",
           "caxis": {
            "gridcolor": "#506784",
            "linecolor": "#506784",
            "ticks": ""
           }
          },
          "title": {
           "x": 0.05
          },
          "updatemenudefaults": {
           "bgcolor": "#506784",
           "borderwidth": 0
          },
          "xaxis": {
           "automargin": true,
           "gridcolor": "#283442",
           "linecolor": "#506784",
           "ticks": "",
           "title": {
            "standoff": 15
           },
           "zerolinecolor": "#283442",
           "zerolinewidth": 2
          },
          "yaxis": {
           "automargin": true,
           "gridcolor": "#283442",
           "linecolor": "#506784",
           "ticks": "",
           "title": {
            "standoff": 15
           },
           "zerolinecolor": "#283442",
           "zerolinewidth": 2
          }
         }
        },
        "xaxis": {
         "anchor": "y",
         "domain": [
          0,
          1
         ],
         "title": {
          "text": "Date"
         }
        },
        "yaxis": {
         "anchor": "x",
         "domain": [
          0,
          1
         ],
         "title": {
          "text": "value"
         }
        }
       }
      },
      "text/html": [
       "<div>\n",
       "        \n",
       "        \n",
       "            <div id=\"e13e8cfa-6b8c-4258-a1f7-ef1e700074ab\" class=\"plotly-graph-div\" style=\"height:525px; width:100%;\"></div>\n",
       "            <script type=\"text/javascript\">\n",
       "                require([\"plotly\"], function(Plotly) {\n",
       "                    window.PLOTLYENV=window.PLOTLYENV || {};\n",
       "                    \n",
       "                if (document.getElementById(\"e13e8cfa-6b8c-4258-a1f7-ef1e700074ab\")) {\n",
       "                    Plotly.newPlot(\n",
       "                        'e13e8cfa-6b8c-4258-a1f7-ef1e700074ab',\n",
       "                        [{\"hovertemplate\": \"variable=Total<br>Date=%{x}<br>value=%{y}<extra></extra>\", \"legendgroup\": \"Total\", \"line\": {\"color\": \"#636efa\", \"dash\": \"solid\"}, \"mode\": \"lines\", \"name\": \"Total\", \"orientation\": \"v\", \"showlegend\": true, \"type\": \"scatter\", \"x\": [\"2020-01-30T00:00:00\", \"2020-01-31T00:00:00\", \"2020-02-01T00:00:00\", \"2020-02-02T00:00:00\", \"2020-02-03T00:00:00\", \"2020-02-04T00:00:00\", \"2020-02-05T00:00:00\", \"2020-02-06T00:00:00\", \"2020-02-07T00:00:00\", \"2020-02-08T00:00:00\", \"2020-02-09T00:00:00\", \"2020-02-10T00:00:00\", \"2020-02-11T00:00:00\", \"2020-02-12T00:00:00\", \"2020-02-13T00:00:00\", \"2020-02-14T00:00:00\", \"2020-02-15T00:00:00\", \"2020-02-16T00:00:00\", \"2020-02-17T00:00:00\", \"2020-02-18T00:00:00\", \"2020-02-19T00:00:00\", \"2020-02-20T00:00:00\", \"2020-02-21T00:00:00\", \"2020-02-22T00:00:00\", \"2020-02-23T00:00:00\", \"2020-02-24T00:00:00\", \"2020-02-25T00:00:00\", \"2020-02-26T00:00:00\", \"2020-02-27T00:00:00\", \"2020-02-28T00:00:00\", \"2020-02-29T00:00:00\", \"2020-03-01T00:00:00\", \"2020-03-02T00:00:00\", \"2020-03-03T00:00:00\", \"2020-03-04T00:00:00\", \"2020-03-05T00:00:00\", \"2020-03-06T00:00:00\", \"2020-03-07T00:00:00\", \"2020-03-08T00:00:00\", \"2020-03-09T00:00:00\", \"2020-03-10T00:00:00\", \"2020-03-11T00:00:00\", \"2020-03-12T00:00:00\", \"2020-03-13T00:00:00\", \"2020-03-14T00:00:00\", \"2020-03-15T00:00:00\", \"2020-03-16T00:00:00\", \"2020-03-17T00:00:00\", \"2020-03-18T00:00:00\", \"2020-03-19T00:00:00\", \"2020-03-20T00:00:00\", \"2020-03-21T00:00:00\", \"2020-03-22T00:00:00\", \"2020-03-23T00:00:00\", \"2020-03-24T00:00:00\", \"2020-03-25T00:00:00\", \"2020-03-26T00:00:00\", \"2020-03-27T00:00:00\", \"2020-03-28T00:00:00\", \"2020-03-29T00:00:00\", \"2020-03-30T00:00:00\", \"2020-03-31T00:00:00\", \"2020-04-01T00:00:00\", \"2020-04-02T00:00:00\", \"2020-04-03T00:00:00\", \"2020-04-04T00:00:00\", \"2020-04-05T00:00:00\", \"2020-04-06T00:00:00\", \"2020-04-07T00:00:00\", \"2020-04-08T00:00:00\", \"2020-04-09T00:00:00\", \"2020-04-10T00:00:00\", \"2020-04-11T00:00:00\", \"2020-04-12T00:00:00\", \"2020-04-13T00:00:00\", \"2020-04-14T00:00:00\", \"2020-04-15T00:00:00\", \"2020-04-16T00:00:00\", \"2020-04-17T00:00:00\", \"2020-04-18T00:00:00\", \"2020-04-19T00:00:00\", \"2020-04-20T00:00:00\", \"2020-04-21T00:00:00\", \"2020-04-22T00:00:00\", \"2020-04-23T00:00:00\", \"2020-04-24T00:00:00\", \"2020-04-25T00:00:00\", \"2020-04-26T00:00:00\", \"2020-04-27T00:00:00\", \"2020-04-28T00:00:00\", \"2020-04-29T00:00:00\", \"2020-04-30T00:00:00\", \"2020-05-01T00:00:00\", \"2020-05-02T00:00:00\", \"2020-05-03T00:00:00\", \"2020-05-04T00:00:00\", \"2020-05-05T00:00:00\", \"2020-05-06T00:00:00\", \"2020-05-07T00:00:00\", \"2020-05-08T00:00:00\", \"2020-05-09T00:00:00\", \"2020-05-10T00:00:00\", \"2020-05-11T00:00:00\", \"2020-05-12T00:00:00\", \"2020-05-13T00:00:00\", \"2020-05-14T00:00:00\", \"2020-05-15T00:00:00\", \"2020-05-16T00:00:00\", \"2020-05-17T00:00:00\", \"2020-05-18T00:00:00\", \"2020-05-19T00:00:00\", \"2020-05-20T00:00:00\", \"2020-05-21T00:00:00\", \"2020-05-22T00:00:00\", \"2020-05-23T00:00:00\", \"2020-05-24T00:00:00\", \"2020-05-25T00:00:00\", \"2020-05-26T00:00:00\", \"2020-05-27T00:00:00\", \"2020-05-28T00:00:00\", \"2020-05-29T00:00:00\", \"2020-05-30T00:00:00\", \"2020-05-31T00:00:00\", \"2020-06-01T00:00:00\", \"2020-06-02T00:00:00\", \"2020-06-03T00:00:00\", \"2020-06-04T00:00:00\", \"2020-06-05T00:00:00\", \"2020-06-06T00:00:00\", \"2020-06-07T00:00:00\", \"2020-06-08T00:00:00\", \"2020-06-09T00:00:00\", \"2020-06-10T00:00:00\", \"2020-06-11T00:00:00\", \"2020-06-12T00:00:00\", \"2020-06-13T00:00:00\", \"2020-06-14T00:00:00\", \"2020-06-15T00:00:00\", \"2020-06-16T00:00:00\", \"2020-06-17T00:00:00\", \"2020-06-18T00:00:00\", \"2020-06-19T00:00:00\", \"2020-06-20T00:00:00\", \"2020-06-21T00:00:00\", \"2020-06-22T00:00:00\", \"2020-06-23T00:00:00\", \"2020-06-24T00:00:00\", \"2020-06-25T00:00:00\", \"2020-06-26T00:00:00\", \"2020-06-27T00:00:00\", \"2020-06-28T00:00:00\", \"2020-06-29T00:00:00\", \"2020-06-30T00:00:00\", \"2020-07-01T00:00:00\", \"2020-07-02T00:00:00\", \"2020-07-03T00:00:00\", \"2020-07-04T00:00:00\", \"2020-07-05T00:00:00\", \"2020-07-06T00:00:00\", \"2020-07-07T00:00:00\", \"2020-07-08T00:00:00\", \"2020-07-09T00:00:00\", \"2020-07-10T00:00:00\", \"2020-07-11T00:00:00\", \"2020-07-12T00:00:00\", \"2020-07-13T00:00:00\", \"2020-07-14T00:00:00\", \"2020-07-15T00:00:00\", \"2020-07-16T00:00:00\", \"2020-07-17T00:00:00\", \"2020-07-18T00:00:00\", \"2020-07-19T00:00:00\", \"2020-07-20T00:00:00\", \"2020-07-21T00:00:00\", \"2020-07-22T00:00:00\", \"2020-07-23T00:00:00\"], \"xaxis\": \"x\", \"y\": [1.0, 1.0, 1.0, 2.0, 3.0, 3.0, 3.0, 3.0, 3.0, 3.0, 3.0, 3.0, 3.0, 3.0, 3.0, 3.0, 3.0, 3.0, 3.0, 3.0, 3.0, 3.0, 3.0, 3.0, 3.0, 3.0, 3.0, 3.0, 3.0, 3.0, 3.0, 3.0, 5.0, 5.0, 28.0, 30.0, 31.0, 34.0, 39.0, 43.0, 56.0, 62.0, 73.0, 82.0, 102.0, 113.0, 119.0, 142.0, 156.0, 194.0, 244.0, 330.0, 396.0, 499.0, 536.0, 657.0, 727.0, 887.0, 987.0, 1024.0, 1251.0, 1397.0, 1998.0, 2543.0, 2567.0, 3082.0, 3588.0, 4778.0, 5311.0, 5916.0, 6725.0, 7598.0, 8446.0, 9205.0, 10453.0, 11487.0, 12322.0, 13430.0, 14352.0, 15722.0, 17615.0, 18539.0, 20080.0, 21370.0, 23077.0, 24530.0, 26283.0, 27890.0, 29451.0, 31324.0, 33062.0, 34863.0, 37257.0, 39699.0, 42505.0, 46437.0, 49400.0, 52987.0, 56351.0, 59695.0, 62808.0, 67161.0, 70768.0, 74292.0, 78055.0, 81997.0, 85784.0, 90648.0, 95698.0, 100328.0, 106475.0, 112028.0, 118226.0, 124794.0, 131423.0, 138536.0, 144950.0, 150793.0, 158086.0, 165386.0, 173491.0, 181827.0, 190609.0, 198370.0, 207191.0, 216824.0, 226713.0, 236184.0, 246622.0, 257486.0, 265928.0, 276146.0, 286605.0, 297535.0, 308993.0, 320922.0, 332424.0, 343091.0, 354065.0, 366946.0, 380532.0, 395048.0, 410451.0, 425282.0, 440215.0, 456183.0, 473105.0, 490401.0, 508953.0, 528859.0, 548318.0, 566840.0, 585481.0, 604641.0, 625544.0, 648315.0, 673165.0, 697413.0, 719664.0, 742417.0, 767296.0, 793802.0, 820916.0, 849522.0, 878254.0, 906752.0, 936181.0, 968857.0, 1003832.0, 1039084.0, 1077781.0, 1118206.0, 1155338.0, 1193078.0, 1238798.0, 1288108.0], \"yaxis\": \"y\"}, {\"hovertemplate\": \"variable=Prediction<br>Date=%{x}<br>value=%{y}<extra></extra>\", \"legendgroup\": \"Prediction\", \"line\": {\"color\": \"#EF553B\", \"dash\": \"solid\"}, \"mode\": \"lines\", \"name\": \"Prediction\", \"orientation\": \"v\", \"showlegend\": true, \"type\": \"scatter\", \"x\": [\"2020-01-30T00:00:00\", \"2020-01-31T00:00:00\", \"2020-02-01T00:00:00\", \"2020-02-02T00:00:00\", \"2020-02-03T00:00:00\", \"2020-02-04T00:00:00\", \"2020-02-05T00:00:00\", \"2020-02-06T00:00:00\", \"2020-02-07T00:00:00\", \"2020-02-08T00:00:00\", \"2020-02-09T00:00:00\", \"2020-02-10T00:00:00\", \"2020-02-11T00:00:00\", \"2020-02-12T00:00:00\", \"2020-02-13T00:00:00\", \"2020-02-14T00:00:00\", \"2020-02-15T00:00:00\", \"2020-02-16T00:00:00\", \"2020-02-17T00:00:00\", \"2020-02-18T00:00:00\", \"2020-02-19T00:00:00\", \"2020-02-20T00:00:00\", \"2020-02-21T00:00:00\", \"2020-02-22T00:00:00\", \"2020-02-23T00:00:00\", \"2020-02-24T00:00:00\", \"2020-02-25T00:00:00\", \"2020-02-26T00:00:00\", \"2020-02-27T00:00:00\", \"2020-02-28T00:00:00\", \"2020-02-29T00:00:00\", \"2020-03-01T00:00:00\", \"2020-03-02T00:00:00\", \"2020-03-03T00:00:00\", \"2020-03-04T00:00:00\", \"2020-03-05T00:00:00\", \"2020-03-06T00:00:00\", \"2020-03-07T00:00:00\", \"2020-03-08T00:00:00\", \"2020-03-09T00:00:00\", \"2020-03-10T00:00:00\", \"2020-03-11T00:00:00\", \"2020-03-12T00:00:00\", \"2020-03-13T00:00:00\", \"2020-03-14T00:00:00\", \"2020-03-15T00:00:00\", \"2020-03-16T00:00:00\", \"2020-03-17T00:00:00\", \"2020-03-18T00:00:00\", \"2020-03-19T00:00:00\", \"2020-03-20T00:00:00\", \"2020-03-21T00:00:00\", \"2020-03-22T00:00:00\", \"2020-03-23T00:00:00\", \"2020-03-24T00:00:00\", \"2020-03-25T00:00:00\", \"2020-03-26T00:00:00\", \"2020-03-27T00:00:00\", \"2020-03-28T00:00:00\", \"2020-03-29T00:00:00\", \"2020-03-30T00:00:00\", \"2020-03-31T00:00:00\", \"2020-04-01T00:00:00\", \"2020-04-02T00:00:00\", \"2020-04-03T00:00:00\", \"2020-04-04T00:00:00\", \"2020-04-05T00:00:00\", \"2020-04-06T00:00:00\", \"2020-04-07T00:00:00\", \"2020-04-08T00:00:00\", \"2020-04-09T00:00:00\", \"2020-04-10T00:00:00\", \"2020-04-11T00:00:00\", \"2020-04-12T00:00:00\", \"2020-04-13T00:00:00\", \"2020-04-14T00:00:00\", \"2020-04-15T00:00:00\", \"2020-04-16T00:00:00\", \"2020-04-17T00:00:00\", \"2020-04-18T00:00:00\", \"2020-04-19T00:00:00\", \"2020-04-20T00:00:00\", \"2020-04-21T00:00:00\", \"2020-04-22T00:00:00\", \"2020-04-23T00:00:00\", \"2020-04-24T00:00:00\", \"2020-04-25T00:00:00\", \"2020-04-26T00:00:00\", \"2020-04-27T00:00:00\", \"2020-04-28T00:00:00\", \"2020-04-29T00:00:00\", \"2020-04-30T00:00:00\", \"2020-05-01T00:00:00\", \"2020-05-02T00:00:00\", \"2020-05-03T00:00:00\", \"2020-05-04T00:00:00\", \"2020-05-05T00:00:00\", \"2020-05-06T00:00:00\", \"2020-05-07T00:00:00\", \"2020-05-08T00:00:00\", \"2020-05-09T00:00:00\", \"2020-05-10T00:00:00\", \"2020-05-11T00:00:00\", \"2020-05-12T00:00:00\", \"2020-05-13T00:00:00\", \"2020-05-14T00:00:00\", \"2020-05-15T00:00:00\", \"2020-05-16T00:00:00\", \"2020-05-17T00:00:00\", \"2020-05-18T00:00:00\", \"2020-05-19T00:00:00\", \"2020-05-20T00:00:00\", \"2020-05-21T00:00:00\", \"2020-05-22T00:00:00\", \"2020-05-23T00:00:00\", \"2020-05-24T00:00:00\", \"2020-05-25T00:00:00\", \"2020-05-26T00:00:00\", \"2020-05-27T00:00:00\", \"2020-05-28T00:00:00\", \"2020-05-29T00:00:00\", \"2020-05-30T00:00:00\", \"2020-05-31T00:00:00\", \"2020-06-01T00:00:00\", \"2020-06-02T00:00:00\", \"2020-06-03T00:00:00\", \"2020-06-04T00:00:00\", \"2020-06-05T00:00:00\", \"2020-06-06T00:00:00\", \"2020-06-07T00:00:00\", \"2020-06-08T00:00:00\", \"2020-06-09T00:00:00\", \"2020-06-10T00:00:00\", \"2020-06-11T00:00:00\", \"2020-06-12T00:00:00\", \"2020-06-13T00:00:00\", \"2020-06-14T00:00:00\", \"2020-06-15T00:00:00\", \"2020-06-16T00:00:00\", \"2020-06-17T00:00:00\", \"2020-06-18T00:00:00\", \"2020-06-19T00:00:00\", \"2020-06-20T00:00:00\", \"2020-06-21T00:00:00\", \"2020-06-22T00:00:00\", \"2020-06-23T00:00:00\", \"2020-06-24T00:00:00\", \"2020-06-25T00:00:00\", \"2020-06-26T00:00:00\", \"2020-06-27T00:00:00\", \"2020-06-28T00:00:00\", \"2020-06-29T00:00:00\", \"2020-06-30T00:00:00\", \"2020-07-01T00:00:00\", \"2020-07-02T00:00:00\", \"2020-07-03T00:00:00\", \"2020-07-04T00:00:00\", \"2020-07-05T00:00:00\", \"2020-07-06T00:00:00\", \"2020-07-07T00:00:00\", \"2020-07-08T00:00:00\", \"2020-07-09T00:00:00\", \"2020-07-10T00:00:00\", \"2020-07-11T00:00:00\", \"2020-07-12T00:00:00\", \"2020-07-13T00:00:00\", \"2020-07-14T00:00:00\", \"2020-07-15T00:00:00\", \"2020-07-16T00:00:00\", \"2020-07-17T00:00:00\", \"2020-07-18T00:00:00\", \"2020-07-19T00:00:00\", \"2020-07-20T00:00:00\", \"2020-07-21T00:00:00\", \"2020-07-22T00:00:00\", \"2020-07-23T00:00:00\"], \"xaxis\": \"x\", \"y\": [null, null, null, null, null, null, null, null, null, null, null, null, null, null, null, null, null, null, null, null, null, null, null, null, null, null, null, null, null, null, null, null, null, null, null, null, null, null, null, null, null, null, null, null, null, null, null, null, null, null, null, null, null, null, null, null, null, null, null, null, null, null, null, null, null, null, null, null, null, null, null, null, null, null, null, null, null, null, null, null, null, null, null, null, null, null, null, null, null, null, null, null, null, null, null, null, null, null, null, null, null, null, null, null, null, null, null, null, null, null, null, null, null, null, null, null, null, null, null, null, null, null, null, null, null, null, null, null, null, 268672.6495686532, 280779.61140866636, 292976.98379516084, 305422.0973305281, 318463.80607885245, 331020.034420788, 344145.58922525955, 358172.14159497834, 372126.253663023, 386107.3177375665, 400396.2041254112, 414809.295301424, 429777.2810899839, 445525.88582633395, 461673.9686371302, 477907.01037157304, 495077.99058724137, 511642.15477837186, 529013.3081885711, 547148.5627955039, 565421.9779407308, 583820.4178463717, 602443.0172517262, 621109.5495680914, 640640.1181605974, 660797.4705857023, 681473.9669133561, 702402.5376981789, 724072.6983533605, 745099.7469892702, 767021.9305173722, 789834.3231117071, 812834.6349209949, 835816.3465457361, 859370.4610833405, 883192.480983404, 907674.5797209159, 932998.3996317006, 958730.567515018, 984735.3617219054, 1011559.0847301449, 1037874.2814727178, 1065018.0846458424, 1093089.6469968355, 1121316.0413861468, 1149651.0824809347, 1178437.8855012667], \"yaxis\": \"y\"}],\n",
       "                        {\"legend\": {\"title\": {\"text\": \"variable\"}, \"tracegroupgap\": 0}, \"margin\": {\"t\": 60}, \"template\": {\"data\": {\"bar\": [{\"error_x\": {\"color\": \"#f2f5fa\"}, \"error_y\": {\"color\": \"#f2f5fa\"}, \"marker\": {\"line\": {\"color\": \"rgb(17,17,17)\", \"width\": 0.5}}, \"type\": \"bar\"}], \"barpolar\": [{\"marker\": {\"line\": {\"color\": \"rgb(17,17,17)\", \"width\": 0.5}}, \"type\": \"barpolar\"}], \"carpet\": [{\"aaxis\": {\"endlinecolor\": \"#A2B1C6\", \"gridcolor\": \"#506784\", \"linecolor\": \"#506784\", \"minorgridcolor\": \"#506784\", \"startlinecolor\": \"#A2B1C6\"}, \"baxis\": {\"endlinecolor\": \"#A2B1C6\", \"gridcolor\": \"#506784\", \"linecolor\": \"#506784\", \"minorgridcolor\": \"#506784\", \"startlinecolor\": \"#A2B1C6\"}, \"type\": \"carpet\"}], \"choropleth\": [{\"colorbar\": {\"outlinewidth\": 0, \"ticks\": \"\"}, \"type\": \"choropleth\"}], \"contour\": [{\"colorbar\": {\"outlinewidth\": 0, \"ticks\": \"\"}, \"colorscale\": [[0.0, \"#0d0887\"], [0.1111111111111111, \"#46039f\"], [0.2222222222222222, \"#7201a8\"], [0.3333333333333333, \"#9c179e\"], [0.4444444444444444, \"#bd3786\"], [0.5555555555555556, \"#d8576b\"], [0.6666666666666666, \"#ed7953\"], [0.7777777777777778, \"#fb9f3a\"], [0.8888888888888888, \"#fdca26\"], [1.0, \"#f0f921\"]], \"type\": \"contour\"}], \"contourcarpet\": [{\"colorbar\": {\"outlinewidth\": 0, \"ticks\": \"\"}, \"type\": \"contourcarpet\"}], \"heatmap\": [{\"colorbar\": {\"outlinewidth\": 0, \"ticks\": \"\"}, \"colorscale\": [[0.0, \"#0d0887\"], [0.1111111111111111, \"#46039f\"], [0.2222222222222222, \"#7201a8\"], [0.3333333333333333, \"#9c179e\"], [0.4444444444444444, \"#bd3786\"], [0.5555555555555556, \"#d8576b\"], [0.6666666666666666, \"#ed7953\"], [0.7777777777777778, \"#fb9f3a\"], [0.8888888888888888, \"#fdca26\"], [1.0, \"#f0f921\"]], \"type\": \"heatmap\"}], \"heatmapgl\": [{\"colorbar\": {\"outlinewidth\": 0, \"ticks\": \"\"}, \"colorscale\": [[0.0, \"#0d0887\"], [0.1111111111111111, \"#46039f\"], [0.2222222222222222, \"#7201a8\"], [0.3333333333333333, \"#9c179e\"], [0.4444444444444444, \"#bd3786\"], [0.5555555555555556, \"#d8576b\"], [0.6666666666666666, \"#ed7953\"], [0.7777777777777778, \"#fb9f3a\"], [0.8888888888888888, \"#fdca26\"], [1.0, \"#f0f921\"]], \"type\": \"heatmapgl\"}], \"histogram\": [{\"marker\": {\"colorbar\": {\"outlinewidth\": 0, \"ticks\": \"\"}}, \"type\": \"histogram\"}], \"histogram2d\": [{\"colorbar\": {\"outlinewidth\": 0, \"ticks\": \"\"}, \"colorscale\": [[0.0, \"#0d0887\"], [0.1111111111111111, \"#46039f\"], [0.2222222222222222, \"#7201a8\"], [0.3333333333333333, \"#9c179e\"], [0.4444444444444444, \"#bd3786\"], [0.5555555555555556, \"#d8576b\"], [0.6666666666666666, \"#ed7953\"], [0.7777777777777778, \"#fb9f3a\"], [0.8888888888888888, \"#fdca26\"], [1.0, \"#f0f921\"]], \"type\": \"histogram2d\"}], \"histogram2dcontour\": [{\"colorbar\": {\"outlinewidth\": 0, \"ticks\": \"\"}, \"colorscale\": [[0.0, \"#0d0887\"], [0.1111111111111111, \"#46039f\"], [0.2222222222222222, \"#7201a8\"], [0.3333333333333333, \"#9c179e\"], [0.4444444444444444, \"#bd3786\"], [0.5555555555555556, \"#d8576b\"], [0.6666666666666666, \"#ed7953\"], [0.7777777777777778, \"#fb9f3a\"], [0.8888888888888888, \"#fdca26\"], [1.0, \"#f0f921\"]], \"type\": \"histogram2dcontour\"}], \"mesh3d\": [{\"colorbar\": {\"outlinewidth\": 0, \"ticks\": \"\"}, \"type\": \"mesh3d\"}], \"parcoords\": [{\"line\": {\"colorbar\": {\"outlinewidth\": 0, \"ticks\": \"\"}}, \"type\": \"parcoords\"}], \"pie\": [{\"automargin\": true, \"type\": \"pie\"}], \"scatter\": [{\"marker\": {\"line\": {\"color\": \"#283442\"}}, \"type\": \"scatter\"}], \"scatter3d\": [{\"line\": {\"colorbar\": {\"outlinewidth\": 0, \"ticks\": \"\"}}, \"marker\": {\"colorbar\": {\"outlinewidth\": 0, \"ticks\": \"\"}}, \"type\": \"scatter3d\"}], \"scattercarpet\": [{\"marker\": {\"colorbar\": {\"outlinewidth\": 0, \"ticks\": \"\"}}, \"type\": \"scattercarpet\"}], \"scattergeo\": [{\"marker\": {\"colorbar\": {\"outlinewidth\": 0, \"ticks\": \"\"}}, \"type\": \"scattergeo\"}], \"scattergl\": [{\"marker\": {\"line\": {\"color\": \"#283442\"}}, \"type\": \"scattergl\"}], \"scattermapbox\": [{\"marker\": {\"colorbar\": {\"outlinewidth\": 0, \"ticks\": \"\"}}, \"type\": \"scattermapbox\"}], \"scatterpolar\": [{\"marker\": {\"colorbar\": {\"outlinewidth\": 0, \"ticks\": \"\"}}, \"type\": \"scatterpolar\"}], \"scatterpolargl\": [{\"marker\": {\"colorbar\": {\"outlinewidth\": 0, \"ticks\": \"\"}}, \"type\": \"scatterpolargl\"}], \"scatterternary\": [{\"marker\": {\"colorbar\": {\"outlinewidth\": 0, \"ticks\": \"\"}}, \"type\": \"scatterternary\"}], \"surface\": [{\"colorbar\": {\"outlinewidth\": 0, \"ticks\": \"\"}, \"colorscale\": [[0.0, \"#0d0887\"], [0.1111111111111111, \"#46039f\"], [0.2222222222222222, \"#7201a8\"], [0.3333333333333333, \"#9c179e\"], [0.4444444444444444, \"#bd3786\"], [0.5555555555555556, \"#d8576b\"], [0.6666666666666666, \"#ed7953\"], [0.7777777777777778, \"#fb9f3a\"], [0.8888888888888888, \"#fdca26\"], [1.0, \"#f0f921\"]], \"type\": \"surface\"}], \"table\": [{\"cells\": {\"fill\": {\"color\": \"#506784\"}, \"line\": {\"color\": \"rgb(17,17,17)\"}}, \"header\": {\"fill\": {\"color\": \"#2a3f5f\"}, \"line\": {\"color\": \"rgb(17,17,17)\"}}, \"type\": \"table\"}]}, \"layout\": {\"annotationdefaults\": {\"arrowcolor\": \"#f2f5fa\", \"arrowhead\": 0, \"arrowwidth\": 1}, \"coloraxis\": {\"colorbar\": {\"outlinewidth\": 0, \"ticks\": \"\"}}, \"colorscale\": {\"diverging\": [[0, \"#8e0152\"], [0.1, \"#c51b7d\"], [0.2, \"#de77ae\"], [0.3, \"#f1b6da\"], [0.4, \"#fde0ef\"], [0.5, \"#f7f7f7\"], [0.6, \"#e6f5d0\"], [0.7, \"#b8e186\"], [0.8, \"#7fbc41\"], [0.9, \"#4d9221\"], [1, \"#276419\"]], \"sequential\": [[0.0, \"#0d0887\"], [0.1111111111111111, \"#46039f\"], [0.2222222222222222, \"#7201a8\"], [0.3333333333333333, \"#9c179e\"], [0.4444444444444444, \"#bd3786\"], [0.5555555555555556, \"#d8576b\"], [0.6666666666666666, \"#ed7953\"], [0.7777777777777778, \"#fb9f3a\"], [0.8888888888888888, \"#fdca26\"], [1.0, \"#f0f921\"]], \"sequentialminus\": [[0.0, \"#0d0887\"], [0.1111111111111111, \"#46039f\"], [0.2222222222222222, \"#7201a8\"], [0.3333333333333333, \"#9c179e\"], [0.4444444444444444, \"#bd3786\"], [0.5555555555555556, \"#d8576b\"], [0.6666666666666666, \"#ed7953\"], [0.7777777777777778, \"#fb9f3a\"], [0.8888888888888888, \"#fdca26\"], [1.0, \"#f0f921\"]]}, \"colorway\": [\"#636efa\", \"#EF553B\", \"#00cc96\", \"#ab63fa\", \"#FFA15A\", \"#19d3f3\", \"#FF6692\", \"#B6E880\", \"#FF97FF\", \"#FECB52\"], \"font\": {\"color\": \"#f2f5fa\"}, \"geo\": {\"bgcolor\": \"rgb(17,17,17)\", \"lakecolor\": \"rgb(17,17,17)\", \"landcolor\": \"rgb(17,17,17)\", \"showlakes\": true, \"showland\": true, \"subunitcolor\": \"#506784\"}, \"hoverlabel\": {\"align\": \"left\"}, \"hovermode\": \"closest\", \"mapbox\": {\"style\": \"dark\"}, \"paper_bgcolor\": \"rgb(17,17,17)\", \"plot_bgcolor\": \"rgb(17,17,17)\", \"polar\": {\"angularaxis\": {\"gridcolor\": \"#506784\", \"linecolor\": \"#506784\", \"ticks\": \"\"}, \"bgcolor\": \"rgb(17,17,17)\", \"radialaxis\": {\"gridcolor\": \"#506784\", \"linecolor\": \"#506784\", \"ticks\": \"\"}}, \"scene\": {\"xaxis\": {\"backgroundcolor\": \"rgb(17,17,17)\", \"gridcolor\": \"#506784\", \"gridwidth\": 2, \"linecolor\": \"#506784\", \"showbackground\": true, \"ticks\": \"\", \"zerolinecolor\": \"#C8D4E3\"}, \"yaxis\": {\"backgroundcolor\": \"rgb(17,17,17)\", \"gridcolor\": \"#506784\", \"gridwidth\": 2, \"linecolor\": \"#506784\", \"showbackground\": true, \"ticks\": \"\", \"zerolinecolor\": \"#C8D4E3\"}, \"zaxis\": {\"backgroundcolor\": \"rgb(17,17,17)\", \"gridcolor\": \"#506784\", \"gridwidth\": 2, \"linecolor\": \"#506784\", \"showbackground\": true, \"ticks\": \"\", \"zerolinecolor\": \"#C8D4E3\"}}, \"shapedefaults\": {\"line\": {\"color\": \"#f2f5fa\"}}, \"sliderdefaults\": {\"bgcolor\": \"#C8D4E3\", \"bordercolor\": \"rgb(17,17,17)\", \"borderwidth\": 1, \"tickwidth\": 0}, \"ternary\": {\"aaxis\": {\"gridcolor\": \"#506784\", \"linecolor\": \"#506784\", \"ticks\": \"\"}, \"baxis\": {\"gridcolor\": \"#506784\", \"linecolor\": \"#506784\", \"ticks\": \"\"}, \"bgcolor\": \"rgb(17,17,17)\", \"caxis\": {\"gridcolor\": \"#506784\", \"linecolor\": \"#506784\", \"ticks\": \"\"}}, \"title\": {\"x\": 0.05}, \"updatemenudefaults\": {\"bgcolor\": \"#506784\", \"borderwidth\": 0}, \"xaxis\": {\"automargin\": true, \"gridcolor\": \"#283442\", \"linecolor\": \"#506784\", \"ticks\": \"\", \"title\": {\"standoff\": 15}, \"zerolinecolor\": \"#283442\", \"zerolinewidth\": 2}, \"yaxis\": {\"automargin\": true, \"gridcolor\": \"#283442\", \"linecolor\": \"#506784\", \"ticks\": \"\", \"title\": {\"standoff\": 15}, \"zerolinecolor\": \"#283442\", \"zerolinewidth\": 2}}}, \"xaxis\": {\"anchor\": \"y\", \"domain\": [0.0, 1.0], \"title\": {\"text\": \"Date\"}}, \"yaxis\": {\"anchor\": \"x\", \"domain\": [0.0, 1.0], \"title\": {\"text\": \"value\"}}},\n",
       "                        {\"responsive\": true}\n",
       "                    ).then(function(){\n",
       "                            \n",
       "var gd = document.getElementById('e13e8cfa-6b8c-4258-a1f7-ef1e700074ab');\n",
       "var x = new MutationObserver(function (mutations, observer) {{\n",
       "        var display = window.getComputedStyle(gd).display;\n",
       "        if (!display || display === 'none') {{\n",
       "            console.log([gd, 'removed!']);\n",
       "            Plotly.purge(gd);\n",
       "            observer.disconnect();\n",
       "        }}\n",
       "}});\n",
       "\n",
       "// Listen for the removal of the full notebook cells\n",
       "var notebookContainer = gd.closest('#notebook-container');\n",
       "if (notebookContainer) {{\n",
       "    x.observe(notebookContainer, {childList: true});\n",
       "}}\n",
       "\n",
       "// Listen for the clearing of the current output cell\n",
       "var outputEl = gd.closest('.output');\n",
       "if (outputEl) {{\n",
       "    x.observe(outputEl, {childList: true});\n",
       "}}\n",
       "\n",
       "                        })\n",
       "                };\n",
       "                });\n",
       "            </script>\n",
       "        </div>"
      ]
     },
     "metadata": {},
     "output_type": "display_data"
    }
   ],
   "source": [
    "split_date = pd.Timestamp('2020-06-07')\n",
    "train,test=split_dataframe(split_date)\n",
    "fig,future_forecast=forecast()\n",
    "fig"
   ]
  },
  {
   "cell_type": "code",
   "execution_count": 82,
   "metadata": {},
   "outputs": [
    {
     "data": {
      "text/plain": [
       "5.57090250586919"
      ]
     },
     "execution_count": 82,
     "metadata": {},
     "output_type": "execute_result"
    }
   ],
   "source": [
    "mean_absolute_percentage_error(test,future_forecast)"
   ]
  },
  {
   "cell_type": "code",
   "execution_count": 83,
   "metadata": {},
   "outputs": [
    {
     "data": {
      "text/html": [
       "<div>\n",
       "<style scoped>\n",
       "    .dataframe tbody tr th:only-of-type {\n",
       "        vertical-align: middle;\n",
       "    }\n",
       "\n",
       "    .dataframe tbody tr th {\n",
       "        vertical-align: top;\n",
       "    }\n",
       "\n",
       "    .dataframe thead th {\n",
       "        text-align: right;\n",
       "    }\n",
       "</style>\n",
       "<table border=\"1\" class=\"dataframe\">\n",
       "  <thead>\n",
       "    <tr style=\"text-align: right;\">\n",
       "      <th></th>\n",
       "      <th>Prediction</th>\n",
       "      <th>Actual</th>\n",
       "    </tr>\n",
       "    <tr>\n",
       "      <th>Date</th>\n",
       "      <th></th>\n",
       "      <th></th>\n",
       "    </tr>\n",
       "  </thead>\n",
       "  <tbody>\n",
       "    <tr>\n",
       "      <th>2020-06-07</th>\n",
       "      <td>2.686726e+05</td>\n",
       "      <td>257486</td>\n",
       "    </tr>\n",
       "    <tr>\n",
       "      <th>2020-06-08</th>\n",
       "      <td>2.807796e+05</td>\n",
       "      <td>265928</td>\n",
       "    </tr>\n",
       "    <tr>\n",
       "      <th>2020-06-09</th>\n",
       "      <td>2.929770e+05</td>\n",
       "      <td>276146</td>\n",
       "    </tr>\n",
       "    <tr>\n",
       "      <th>2020-06-10</th>\n",
       "      <td>3.054221e+05</td>\n",
       "      <td>286605</td>\n",
       "    </tr>\n",
       "    <tr>\n",
       "      <th>2020-06-11</th>\n",
       "      <td>3.184638e+05</td>\n",
       "      <td>297535</td>\n",
       "    </tr>\n",
       "    <tr>\n",
       "      <th>2020-06-12</th>\n",
       "      <td>3.310200e+05</td>\n",
       "      <td>308993</td>\n",
       "    </tr>\n",
       "    <tr>\n",
       "      <th>2020-06-13</th>\n",
       "      <td>3.441456e+05</td>\n",
       "      <td>320922</td>\n",
       "    </tr>\n",
       "    <tr>\n",
       "      <th>2020-06-14</th>\n",
       "      <td>3.581721e+05</td>\n",
       "      <td>332424</td>\n",
       "    </tr>\n",
       "    <tr>\n",
       "      <th>2020-06-15</th>\n",
       "      <td>3.721263e+05</td>\n",
       "      <td>343091</td>\n",
       "    </tr>\n",
       "    <tr>\n",
       "      <th>2020-06-16</th>\n",
       "      <td>3.861073e+05</td>\n",
       "      <td>354065</td>\n",
       "    </tr>\n",
       "    <tr>\n",
       "      <th>2020-06-17</th>\n",
       "      <td>4.003962e+05</td>\n",
       "      <td>366946</td>\n",
       "    </tr>\n",
       "    <tr>\n",
       "      <th>2020-06-18</th>\n",
       "      <td>4.148093e+05</td>\n",
       "      <td>380532</td>\n",
       "    </tr>\n",
       "    <tr>\n",
       "      <th>2020-06-19</th>\n",
       "      <td>4.297773e+05</td>\n",
       "      <td>395048</td>\n",
       "    </tr>\n",
       "    <tr>\n",
       "      <th>2020-06-20</th>\n",
       "      <td>4.455259e+05</td>\n",
       "      <td>410451</td>\n",
       "    </tr>\n",
       "    <tr>\n",
       "      <th>2020-06-21</th>\n",
       "      <td>4.616740e+05</td>\n",
       "      <td>425282</td>\n",
       "    </tr>\n",
       "    <tr>\n",
       "      <th>2020-06-22</th>\n",
       "      <td>4.779070e+05</td>\n",
       "      <td>440215</td>\n",
       "    </tr>\n",
       "    <tr>\n",
       "      <th>2020-06-23</th>\n",
       "      <td>4.950780e+05</td>\n",
       "      <td>456183</td>\n",
       "    </tr>\n",
       "    <tr>\n",
       "      <th>2020-06-24</th>\n",
       "      <td>5.116422e+05</td>\n",
       "      <td>473105</td>\n",
       "    </tr>\n",
       "    <tr>\n",
       "      <th>2020-06-25</th>\n",
       "      <td>5.290133e+05</td>\n",
       "      <td>490401</td>\n",
       "    </tr>\n",
       "    <tr>\n",
       "      <th>2020-06-26</th>\n",
       "      <td>5.471486e+05</td>\n",
       "      <td>508953</td>\n",
       "    </tr>\n",
       "    <tr>\n",
       "      <th>2020-06-27</th>\n",
       "      <td>5.654220e+05</td>\n",
       "      <td>528859</td>\n",
       "    </tr>\n",
       "    <tr>\n",
       "      <th>2020-06-28</th>\n",
       "      <td>5.838204e+05</td>\n",
       "      <td>548318</td>\n",
       "    </tr>\n",
       "    <tr>\n",
       "      <th>2020-06-29</th>\n",
       "      <td>6.024430e+05</td>\n",
       "      <td>566840</td>\n",
       "    </tr>\n",
       "    <tr>\n",
       "      <th>2020-06-30</th>\n",
       "      <td>6.211095e+05</td>\n",
       "      <td>585481</td>\n",
       "    </tr>\n",
       "    <tr>\n",
       "      <th>2020-07-01</th>\n",
       "      <td>6.406401e+05</td>\n",
       "      <td>604641</td>\n",
       "    </tr>\n",
       "    <tr>\n",
       "      <th>2020-07-02</th>\n",
       "      <td>6.607975e+05</td>\n",
       "      <td>625544</td>\n",
       "    </tr>\n",
       "    <tr>\n",
       "      <th>2020-07-03</th>\n",
       "      <td>6.814740e+05</td>\n",
       "      <td>648315</td>\n",
       "    </tr>\n",
       "    <tr>\n",
       "      <th>2020-07-04</th>\n",
       "      <td>7.024025e+05</td>\n",
       "      <td>673165</td>\n",
       "    </tr>\n",
       "    <tr>\n",
       "      <th>2020-07-05</th>\n",
       "      <td>7.240727e+05</td>\n",
       "      <td>697413</td>\n",
       "    </tr>\n",
       "    <tr>\n",
       "      <th>2020-07-06</th>\n",
       "      <td>7.450997e+05</td>\n",
       "      <td>719664</td>\n",
       "    </tr>\n",
       "    <tr>\n",
       "      <th>2020-07-07</th>\n",
       "      <td>7.670219e+05</td>\n",
       "      <td>742417</td>\n",
       "    </tr>\n",
       "    <tr>\n",
       "      <th>2020-07-08</th>\n",
       "      <td>7.898343e+05</td>\n",
       "      <td>767296</td>\n",
       "    </tr>\n",
       "    <tr>\n",
       "      <th>2020-07-09</th>\n",
       "      <td>8.128346e+05</td>\n",
       "      <td>793802</td>\n",
       "    </tr>\n",
       "    <tr>\n",
       "      <th>2020-07-10</th>\n",
       "      <td>8.358163e+05</td>\n",
       "      <td>820916</td>\n",
       "    </tr>\n",
       "    <tr>\n",
       "      <th>2020-07-11</th>\n",
       "      <td>8.593705e+05</td>\n",
       "      <td>849522</td>\n",
       "    </tr>\n",
       "    <tr>\n",
       "      <th>2020-07-12</th>\n",
       "      <td>8.831925e+05</td>\n",
       "      <td>878254</td>\n",
       "    </tr>\n",
       "    <tr>\n",
       "      <th>2020-07-13</th>\n",
       "      <td>9.076746e+05</td>\n",
       "      <td>906752</td>\n",
       "    </tr>\n",
       "    <tr>\n",
       "      <th>2020-07-14</th>\n",
       "      <td>9.329984e+05</td>\n",
       "      <td>936181</td>\n",
       "    </tr>\n",
       "    <tr>\n",
       "      <th>2020-07-15</th>\n",
       "      <td>9.587306e+05</td>\n",
       "      <td>968857</td>\n",
       "    </tr>\n",
       "    <tr>\n",
       "      <th>2020-07-16</th>\n",
       "      <td>9.847354e+05</td>\n",
       "      <td>1003832</td>\n",
       "    </tr>\n",
       "    <tr>\n",
       "      <th>2020-07-17</th>\n",
       "      <td>1.011559e+06</td>\n",
       "      <td>1039084</td>\n",
       "    </tr>\n",
       "    <tr>\n",
       "      <th>2020-07-18</th>\n",
       "      <td>1.037874e+06</td>\n",
       "      <td>1077781</td>\n",
       "    </tr>\n",
       "    <tr>\n",
       "      <th>2020-07-19</th>\n",
       "      <td>1.065018e+06</td>\n",
       "      <td>1118206</td>\n",
       "    </tr>\n",
       "    <tr>\n",
       "      <th>2020-07-20</th>\n",
       "      <td>1.093090e+06</td>\n",
       "      <td>1155338</td>\n",
       "    </tr>\n",
       "    <tr>\n",
       "      <th>2020-07-21</th>\n",
       "      <td>1.121316e+06</td>\n",
       "      <td>1193078</td>\n",
       "    </tr>\n",
       "    <tr>\n",
       "      <th>2020-07-22</th>\n",
       "      <td>1.149651e+06</td>\n",
       "      <td>1238798</td>\n",
       "    </tr>\n",
       "    <tr>\n",
       "      <th>2020-07-23</th>\n",
       "      <td>1.178438e+06</td>\n",
       "      <td>1288108</td>\n",
       "    </tr>\n",
       "  </tbody>\n",
       "</table>\n",
       "</div>"
      ],
      "text/plain": [
       "              Prediction   Actual\n",
       "Date                             \n",
       "2020-06-07  2.686726e+05   257486\n",
       "2020-06-08  2.807796e+05   265928\n",
       "2020-06-09  2.929770e+05   276146\n",
       "2020-06-10  3.054221e+05   286605\n",
       "2020-06-11  3.184638e+05   297535\n",
       "2020-06-12  3.310200e+05   308993\n",
       "2020-06-13  3.441456e+05   320922\n",
       "2020-06-14  3.581721e+05   332424\n",
       "2020-06-15  3.721263e+05   343091\n",
       "2020-06-16  3.861073e+05   354065\n",
       "2020-06-17  4.003962e+05   366946\n",
       "2020-06-18  4.148093e+05   380532\n",
       "2020-06-19  4.297773e+05   395048\n",
       "2020-06-20  4.455259e+05   410451\n",
       "2020-06-21  4.616740e+05   425282\n",
       "2020-06-22  4.779070e+05   440215\n",
       "2020-06-23  4.950780e+05   456183\n",
       "2020-06-24  5.116422e+05   473105\n",
       "2020-06-25  5.290133e+05   490401\n",
       "2020-06-26  5.471486e+05   508953\n",
       "2020-06-27  5.654220e+05   528859\n",
       "2020-06-28  5.838204e+05   548318\n",
       "2020-06-29  6.024430e+05   566840\n",
       "2020-06-30  6.211095e+05   585481\n",
       "2020-07-01  6.406401e+05   604641\n",
       "2020-07-02  6.607975e+05   625544\n",
       "2020-07-03  6.814740e+05   648315\n",
       "2020-07-04  7.024025e+05   673165\n",
       "2020-07-05  7.240727e+05   697413\n",
       "2020-07-06  7.450997e+05   719664\n",
       "2020-07-07  7.670219e+05   742417\n",
       "2020-07-08  7.898343e+05   767296\n",
       "2020-07-09  8.128346e+05   793802\n",
       "2020-07-10  8.358163e+05   820916\n",
       "2020-07-11  8.593705e+05   849522\n",
       "2020-07-12  8.831925e+05   878254\n",
       "2020-07-13  9.076746e+05   906752\n",
       "2020-07-14  9.329984e+05   936181\n",
       "2020-07-15  9.587306e+05   968857\n",
       "2020-07-16  9.847354e+05  1003832\n",
       "2020-07-17  1.011559e+06  1039084\n",
       "2020-07-18  1.037874e+06  1077781\n",
       "2020-07-19  1.065018e+06  1118206\n",
       "2020-07-20  1.093090e+06  1155338\n",
       "2020-07-21  1.121316e+06  1193078\n",
       "2020-07-22  1.149651e+06  1238798\n",
       "2020-07-23  1.178438e+06  1288108"
      ]
     },
     "execution_count": 83,
     "metadata": {},
     "output_type": "execute_result"
    }
   ],
   "source": [
    "future_forecast['Actual']=test.Total\n",
    "future_forecast"
   ]
  }
 ],
 "metadata": {
  "kernelspec": {
   "display_name": "Python 3",
   "language": "python",
   "name": "python3"
  },
  "language_info": {
   "codemirror_mode": {
    "name": "ipython",
    "version": 3
   },
   "file_extension": ".py",
   "mimetype": "text/x-python",
   "name": "python",
   "nbconvert_exporter": "python",
   "pygments_lexer": "ipython3",
   "version": "3.7.5"
  }
 },
 "nbformat": 4,
 "nbformat_minor": 4
}
